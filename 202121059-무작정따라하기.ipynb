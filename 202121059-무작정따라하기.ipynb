{
 "cells": [
  {
   "cell_type": "code",
   "execution_count": 1,
   "id": "bdba34af-5a77-4a31-8b59-c942487578b3",
   "metadata": {
    "tags": []
   },
   "outputs": [
    {
     "data": {
      "text/html": [
       "33"
      ],
      "text/latex": [
       "33"
      ],
      "text/markdown": [
       "33"
      ],
      "text/plain": [
       "[1] 33"
      ]
     },
     "metadata": {},
     "output_type": "display_data"
    }
   ],
   "source": [
    "#산술 연산자\n",
    "1+2-3*4/2+6^2"
   ]
  },
  {
   "cell_type": "code",
   "execution_count": 2,
   "id": "2f675226-b2d9-4819-bcdb-ebafcd1fd14d",
   "metadata": {
    "tags": []
   },
   "outputs": [
    {
     "data": {
      "text/html": [
       "1"
      ],
      "text/latex": [
       "1"
      ],
      "text/markdown": [
       "1"
      ],
      "text/plain": [
       "[1] 1"
      ]
     },
     "metadata": {},
     "output_type": "display_data"
    }
   ],
   "source": [
    "#1\n",
    "44/44"
   ]
  },
  {
   "cell_type": "code",
   "execution_count": 3,
   "id": "7553062f-1992-4d55-8050-d68d4c6c0441",
   "metadata": {
    "tags": []
   },
   "outputs": [
    {
     "data": {
      "text/html": [
       "2"
      ],
      "text/latex": [
       "2"
      ],
      "text/markdown": [
       "2"
      ],
      "text/plain": [
       "[1] 2"
      ]
     },
     "metadata": {},
     "output_type": "display_data"
    }
   ],
   "source": [
    "#2\n",
    "4/4+4/4"
   ]
  },
  {
   "cell_type": "code",
   "execution_count": 4,
   "id": "09d04985-0d54-4f3a-8a61-ca91769afa6e",
   "metadata": {
    "tags": []
   },
   "outputs": [
    {
     "data": {
      "text/html": [
       "3"
      ],
      "text/latex": [
       "3"
      ],
      "text/markdown": [
       "3"
      ],
      "text/plain": [
       "[1] 3"
      ]
     },
     "metadata": {},
     "output_type": "display_data"
    }
   ],
   "source": [
    "#3\n",
    "(4+4+4)/4"
   ]
  },
  {
   "cell_type": "code",
   "execution_count": 7,
   "id": "e58362fb-77d1-4e08-b4d3-f5a70f49d990",
   "metadata": {
    "tags": []
   },
   "outputs": [
    {
     "name": "stdout",
     "output_type": "stream",
     "text": [
      "[1] 22.49135\n"
     ]
    }
   ],
   "source": [
    "#BMI 계산 \n",
    "#R은 = 대신 <- 사용\n",
    "\n",
    "height <- 1.7\n",
    "weight <- 65\n",
    "bmi <- weight / height^2\n",
    "print(bmi)"
   ]
  },
  {
   "cell_type": "code",
   "execution_count": 8,
   "id": "66f8a3ba-39b2-473c-90fc-65330008b41c",
   "metadata": {
    "tags": []
   },
   "outputs": [
    {
     "name": "stdout",
     "output_type": "stream",
     "text": [
      "[1] 12\n"
     ]
    }
   ],
   "source": [
    "#문자열의 길이: nchar()\n",
    "str1 <- \"Hellow world\"\n",
    "print(nchar(str1))"
   ]
  },
  {
   "cell_type": "code",
   "execution_count": 10,
   "id": "1d3310cc-e663-49ec-8425-653385bc763c",
   "metadata": {
    "tags": []
   },
   "outputs": [
    {
     "name": "stdout",
     "output_type": "stream",
     "text": [
      "[1]  2  3  5  7  9 11\n",
      "numeric(0)\n",
      "[1] 2\n",
      "[1] 6\n"
     ]
    }
   ],
   "source": [
    " #벡터의 길이: length()\n",
    "#인덱스는 1부터 시작\n",
    "\n",
    "x<- c(2,3,5,7,9,11) #벡터형 자료 생성\n",
    "print(x) #변수 x의 내용 확인 \n",
    "print(x[0]) #R에서 처음 시작 index는 0이 아님\n",
    "print(x[1]) #시작 index는 1부터 시작함\n",
    "print(length(x)) #벡터의 길이는 len이 아닌 length로 구한다"
   ]
  },
  {
   "cell_type": "code",
   "execution_count": 11,
   "id": "655909d2-8bfb-4180-8851-3c5e14ca9a84",
   "metadata": {
    "tags": []
   },
   "outputs": [
    {
     "name": "stdout",
     "output_type": "stream",
     "text": [
      " [1]  1  2  3  4  5  6  7  8  9 10\n"
     ]
    }
   ],
   "source": [
    "#1부터 10까지 직접 입력\n",
    "x <- c(1,2,3,4,5,6,7,8,9,10)\n",
    "print(x)"
   ]
  },
  {
   "cell_type": "code",
   "execution_count": 13,
   "id": "972ffa83-a9c5-4e53-896f-6f678503f6bc",
   "metadata": {
    "tags": []
   },
   "outputs": [
    {
     "name": "stdout",
     "output_type": "stream",
     "text": [
      " [1]  1  2  3  4  5  6  7  8  9 10\n"
     ]
    }
   ],
   "source": [
    "#간단한 벡터 생성\n",
    "#c()를 생략할 수 있음\n",
    "y <- 1:10\n",
    "print(y)"
   ]
  },
  {
   "cell_type": "code",
   "execution_count": 14,
   "id": "50727143-1815-4cc7-84df-16f9aae3c2b5",
   "metadata": {
    "tags": []
   },
   "outputs": [
    {
     "name": "stdout",
     "output_type": "stream",
     "text": [
      " [1]  2  4  6  8 10 12 14 16 18 20\n"
     ]
    }
   ],
   "source": [
    "#벡터의 합\n",
    "print(x+y)"
   ]
  },
  {
   "cell_type": "code",
   "execution_count": 17,
   "id": "a41ced0f-3dd5-426e-ba16-f61971055ef2",
   "metadata": {
    "tags": []
   },
   "outputs": [
    {
     "name": "stdout",
     "output_type": "stream",
     "text": [
      " [1]   1   4   9  16  25  36  49  64  81 100\n"
     ]
    }
   ],
   "source": [
    "#두 벡터의 곱\n",
    "print(x*y)"
   ]
  },
  {
   "cell_type": "code",
   "execution_count": 18,
   "id": "1ca344f8-b1a5-4e35-93b7-734e8df7a307",
   "metadata": {
    "tags": []
   },
   "outputs": [
    {
     "name": "stdout",
     "output_type": "stream",
     "text": [
      " [1] 101 102 103 104 105 106 107 108 109 110\n"
     ]
    }
   ],
   "source": [
    "#모든 원소에 100 더하기\n",
    "print(x+100)"
   ]
  },
  {
   "cell_type": "code",
   "execution_count": 19,
   "id": "a231adf2-8a87-4240-89c9-0c6d3bc3d00e",
   "metadata": {
    "tags": []
   },
   "outputs": [
    {
     "name": "stdout",
     "output_type": "stream",
     "text": [
      " [1]   1   4   9  16  25  36  49  64  81 100\n"
     ]
    }
   ],
   "source": [
    "#모든 원소의 제곱\n",
    "print(x^2)"
   ]
  },
  {
   "cell_type": "code",
   "execution_count": 20,
   "id": "b83272a9-81f6-4ff0-bc88-60c8c0d20b03",
   "metadata": {
    "tags": []
   },
   "outputs": [
    {
     "name": "stdout",
     "output_type": "stream",
     "text": [
      " [1] 1.000000 1.414214 1.732051 2.000000 2.236068 2.449490 2.645751 2.828427\n",
      " [9] 3.000000 3.162278\n"
     ]
    }
   ],
   "source": [
    "#제곱근(1/2 제곱)\n",
    "print(y^0.5)"
   ]
  },
  {
   "cell_type": "code",
   "execution_count": 21,
   "id": "8bab38cf-b452-458b-8d81-c1a8885a54f4",
   "metadata": {
    "tags": []
   },
   "outputs": [
    {
     "name": "stdout",
     "output_type": "stream",
     "text": [
      " [1] 1.000000 1.414214 1.732051 2.000000 2.236068 2.449490 2.645751 2.828427\n",
      " [9] 3.000000 3.162278\n"
     ]
    }
   ],
   "source": [
    "print(sqrt(y))"
   ]
  },
  {
   "cell_type": "code",
   "execution_count": 22,
   "id": "6789bfa5-07b4-40ae-af9b-f4d9e2aba989",
   "metadata": {
    "tags": []
   },
   "outputs": [
    {
     "name": "stdout",
     "output_type": "stream",
     "text": [
      " [1] 40 14 99 66 80 68 77 76 61 70 75 91 30 39 45 48 83  1  2  6\n"
     ]
    }
   ],
   "source": [
    "#난수 생성\n",
    "x <- floor(runif(20,0,100))\n",
    "print(x)"
   ]
  },
  {
   "cell_type": "code",
   "execution_count": 23,
   "id": "d145142a-2631-4e8e-a096-329edd95cc5f",
   "metadata": {
    "tags": []
   },
   "outputs": [
    {
     "data": {
      "text/html": [
       "<style>\n",
       ".list-inline {list-style: none; margin:0; padding: 0}\n",
       ".list-inline>li {display: inline-block}\n",
       ".list-inline>li:not(:last-child)::after {content: \"\\00b7\"; padding: 0 .5ex}\n",
       "</style>\n",
       "<ol class=list-inline><li>53.55</li><li>1071</li><li>1</li><li>99</li><li>63.5</li></ol>\n"
      ],
      "text/latex": [
       "\\begin{enumerate*}\n",
       "\\item 53.55\n",
       "\\item 1071\n",
       "\\item 1\n",
       "\\item 99\n",
       "\\item 63.5\n",
       "\\end{enumerate*}\n"
      ],
      "text/markdown": [
       "1. 53.55\n",
       "2. 1071\n",
       "3. 1\n",
       "4. 99\n",
       "5. 63.5\n",
       "\n",
       "\n"
      ],
      "text/plain": [
       "[1]   53.55 1071.00    1.00   99.00   63.50"
      ]
     },
     "metadata": {},
     "output_type": "display_data"
    }
   ],
   "source": [
    "#벡터의 평균, 합, 최솟값, 최댓값, 중앙값\n",
    "c(mean(x), sum(x), min(x), max(x), median(x))"
   ]
  },
  {
   "cell_type": "code",
   "execution_count": 25,
   "id": "123e8332-4998-48f7-9568-fc5b687ab1f8",
   "metadata": {
    "tags": []
   },
   "outputs": [
    {
     "name": "stdout",
     "output_type": "stream",
     "text": [
      "     [,1] [,2] [,3] [,4]\n",
      "[1,]    1    4    7   10\n",
      "[2,]    2    5    8   11\n",
      "[3,]    3    6    9   12\n"
     ]
    }
   ],
   "source": [
    "#행렬\n",
    "m1 <- matrix(c(1:12),3,4)\n",
    "print(m1)"
   ]
  },
  {
   "cell_type": "code",
   "execution_count": 26,
   "id": "de7e091f-7cc5-4dea-9e99-7ff36bbfc015",
   "metadata": {
    "tags": []
   },
   "outputs": [
    {
     "name": "stdout",
     "output_type": "stream",
     "text": [
      "     [,1] [,2] [,3] [,4]\n",
      "[1,]    1    4    7   10\n",
      "[2,]    2    5    8   11\n",
      "[3,]    3    6    9   12\n"
     ]
    }
   ],
   "source": [
    "m2 <- matrix(c(1:12), nrow=3)\n",
    "print(m2)"
   ]
  },
  {
   "cell_type": "code",
   "execution_count": 27,
   "id": "0760ecc7-7404-4adb-81e0-0f77fa12210f",
   "metadata": {
    "tags": []
   },
   "outputs": [
    {
     "data": {
      "text/html": [
       "<table class=\"dataframe\">\n",
       "<caption>A matrix: 3 × 4 of type dbl</caption>\n",
       "<tbody>\n",
       "\t<tr><td>2</td><td> 8</td><td>14</td><td>20</td></tr>\n",
       "\t<tr><td>4</td><td>10</td><td>16</td><td>22</td></tr>\n",
       "\t<tr><td>6</td><td>12</td><td>18</td><td>24</td></tr>\n",
       "</tbody>\n",
       "</table>\n"
      ],
      "text/latex": [
       "A matrix: 3 × 4 of type dbl\n",
       "\\begin{tabular}{llll}\n",
       "\t 2 &  8 & 14 & 20\\\\\n",
       "\t 4 & 10 & 16 & 22\\\\\n",
       "\t 6 & 12 & 18 & 24\\\\\n",
       "\\end{tabular}\n"
      ],
      "text/markdown": [
       "\n",
       "A matrix: 3 × 4 of type dbl\n",
       "\n",
       "| 2 |  8 | 14 | 20 |\n",
       "| 4 | 10 | 16 | 22 |\n",
       "| 6 | 12 | 18 | 24 |\n",
       "\n"
      ],
      "text/plain": [
       "     [,1] [,2] [,3] [,4]\n",
       "[1,] 2     8   14   20  \n",
       "[2,] 4    10   16   22  \n",
       "[3,] 6    12   18   24  "
      ]
     },
     "metadata": {},
     "output_type": "display_data"
    }
   ],
   "source": [
    "m1 * 2"
   ]
  },
  {
   "cell_type": "code",
   "execution_count": 28,
   "id": "b366853c-ae97-4e09-8476-f4e63fee8e84",
   "metadata": {
    "tags": []
   },
   "outputs": [
    {
     "data": {
      "text/html": [
       "<table class=\"dataframe\">\n",
       "<caption>A matrix: 3 × 4 of type int</caption>\n",
       "<tbody>\n",
       "\t<tr><td>0</td><td>0</td><td>0</td><td>0</td></tr>\n",
       "\t<tr><td>0</td><td>0</td><td>0</td><td>0</td></tr>\n",
       "\t<tr><td>0</td><td>0</td><td>0</td><td>0</td></tr>\n",
       "</tbody>\n",
       "</table>\n"
      ],
      "text/latex": [
       "A matrix: 3 × 4 of type int\n",
       "\\begin{tabular}{llll}\n",
       "\t 0 & 0 & 0 & 0\\\\\n",
       "\t 0 & 0 & 0 & 0\\\\\n",
       "\t 0 & 0 & 0 & 0\\\\\n",
       "\\end{tabular}\n"
      ],
      "text/markdown": [
       "\n",
       "A matrix: 3 × 4 of type int\n",
       "\n",
       "| 0 | 0 | 0 | 0 |\n",
       "| 0 | 0 | 0 | 0 |\n",
       "| 0 | 0 | 0 | 0 |\n",
       "\n"
      ],
      "text/plain": [
       "     [,1] [,2] [,3] [,4]\n",
       "[1,] 0    0    0    0   \n",
       "[2,] 0    0    0    0   \n",
       "[3,] 0    0    0    0   "
      ]
     },
     "metadata": {},
     "output_type": "display_data"
    }
   ],
   "source": [
    "m1 - m2"
   ]
  },
  {
   "cell_type": "code",
   "execution_count": 29,
   "id": "42a3fcc5-aac7-4139-a1d9-628c86e8ae46",
   "metadata": {
    "tags": []
   },
   "outputs": [
    {
     "name": "stdout",
     "output_type": "stream",
     "text": [
      "$color\n",
      "[1] \"red\"   \"green\"\n",
      "\n",
      "$score\n",
      "[1] 11 22 33\n",
      "\n"
     ]
    }
   ],
   "source": [
    "#리스트\n",
    "list_data <- list(color = c (\"red\", \"green\"), score = c(11, 22, 33) )\n",
    "print(list_data)"
   ]
  },
  {
   "cell_type": "code",
   "execution_count": 30,
   "id": "f295d147-2556-48a8-9797-cf4cbb3b5eeb",
   "metadata": {
    "tags": []
   },
   "outputs": [
    {
     "name": "stdout",
     "output_type": "stream",
     "text": [
      "List of 2\n",
      " $ color: chr [1:2] \"red\" \"green\"\n",
      " $ score: num [1:3] 11 22 33\n"
     ]
    }
   ],
   "source": [
    "str(list_data)"
   ]
  },
  {
   "cell_type": "code",
   "execution_count": 31,
   "id": "dbdce696-3bac-40d9-a5f7-9bf9b1ad0f1c",
   "metadata": {
    "tags": []
   },
   "outputs": [
    {
     "data": {
      "text/html": [
       "<style>\n",
       ".list-inline {list-style: none; margin:0; padding: 0}\n",
       ".list-inline>li {display: inline-block}\n",
       ".list-inline>li:not(:last-child)::after {content: \"\\00b7\"; padding: 0 .5ex}\n",
       "</style>\n",
       "<ol class=list-inline><li>'red'</li><li>'green'</li></ol>\n"
      ],
      "text/latex": [
       "\\begin{enumerate*}\n",
       "\\item 'red'\n",
       "\\item 'green'\n",
       "\\end{enumerate*}\n"
      ],
      "text/markdown": [
       "1. 'red'\n",
       "2. 'green'\n",
       "\n",
       "\n"
      ],
      "text/plain": [
       "[1] \"red\"   \"green\""
      ]
     },
     "metadata": {},
     "output_type": "display_data"
    }
   ],
   "source": [
    "list_data$color"
   ]
  },
  {
   "cell_type": "code",
   "execution_count": 32,
   "id": "5263ddac-9bb0-4413-86f0-8cb202df7a60",
   "metadata": {
    "tags": []
   },
   "outputs": [
    {
     "data": {
      "text/html": [
       "<style>\n",
       ".list-inline {list-style: none; margin:0; padding: 0}\n",
       ".list-inline>li {display: inline-block}\n",
       ".list-inline>li:not(:last-child)::after {content: \"\\00b7\"; padding: 0 .5ex}\n",
       "</style>\n",
       "<ol class=list-inline><li>11</li><li>22</li><li>33</li></ol>\n"
      ],
      "text/latex": [
       "\\begin{enumerate*}\n",
       "\\item 11\n",
       "\\item 22\n",
       "\\item 33\n",
       "\\end{enumerate*}\n"
      ],
      "text/markdown": [
       "1. 11\n",
       "2. 22\n",
       "3. 33\n",
       "\n",
       "\n"
      ],
      "text/plain": [
       "[1] 11 22 33"
      ]
     },
     "metadata": {},
     "output_type": "display_data"
    }
   ],
   "source": [
    "list_data$score"
   ]
  },
  {
   "cell_type": "code",
   "execution_count": 33,
   "id": "3ed170f1-db4c-4ea4-ad71-0976f193cc4a",
   "metadata": {
    "tags": []
   },
   "outputs": [
    {
     "name": "stdout",
     "output_type": "stream",
     "text": [
      " [1] \"A\" \"B\" \"C\" \"D\" \"E\" \"F\" \"G\" \"H\" \"I\" \"J\"\n"
     ]
    }
   ],
   "source": [
    "#알파벳 문자 벡터\n",
    "chars <- LETTERS[1:10]\n",
    "print(chars)"
   ]
  },
  {
   "cell_type": "code",
   "execution_count": 34,
   "id": "486fdd1e-d9b6-4af2-bde6-7d88b4a09b4c",
   "metadata": {
    "tags": []
   },
   "outputs": [
    {
     "data": {
      "text/html": [
       "<style>\n",
       ".list-inline {list-style: none; margin:0; padding: 0}\n",
       ".list-inline>li {display: inline-block}\n",
       ".list-inline>li:not(:last-child)::after {content: \"\\00b7\"; padding: 0 .5ex}\n",
       "</style>\n",
       "<ol class=list-inline><li>'a'</li><li>'b'</li><li>'c'</li><li>'d'</li><li>'e'</li><li>'f'</li><li>'g'</li><li>'h'</li><li>'i'</li><li>'j'</li><li>'k'</li><li>'l'</li><li>'m'</li><li>'n'</li><li>'o'</li><li>'p'</li><li>'q'</li><li>'r'</li><li>'s'</li><li>'t'</li><li>'u'</li><li>'v'</li><li>'w'</li><li>'x'</li><li>'y'</li><li>'z'</li></ol>\n"
      ],
      "text/latex": [
       "\\begin{enumerate*}\n",
       "\\item 'a'\n",
       "\\item 'b'\n",
       "\\item 'c'\n",
       "\\item 'd'\n",
       "\\item 'e'\n",
       "\\item 'f'\n",
       "\\item 'g'\n",
       "\\item 'h'\n",
       "\\item 'i'\n",
       "\\item 'j'\n",
       "\\item 'k'\n",
       "\\item 'l'\n",
       "\\item 'm'\n",
       "\\item 'n'\n",
       "\\item 'o'\n",
       "\\item 'p'\n",
       "\\item 'q'\n",
       "\\item 'r'\n",
       "\\item 's'\n",
       "\\item 't'\n",
       "\\item 'u'\n",
       "\\item 'v'\n",
       "\\item 'w'\n",
       "\\item 'x'\n",
       "\\item 'y'\n",
       "\\item 'z'\n",
       "\\end{enumerate*}\n"
      ],
      "text/markdown": [
       "1. 'a'\n",
       "2. 'b'\n",
       "3. 'c'\n",
       "4. 'd'\n",
       "5. 'e'\n",
       "6. 'f'\n",
       "7. 'g'\n",
       "8. 'h'\n",
       "9. 'i'\n",
       "10. 'j'\n",
       "11. 'k'\n",
       "12. 'l'\n",
       "13. 'm'\n",
       "14. 'n'\n",
       "15. 'o'\n",
       "16. 'p'\n",
       "17. 'q'\n",
       "18. 'r'\n",
       "19. 's'\n",
       "20. 't'\n",
       "21. 'u'\n",
       "22. 'v'\n",
       "23. 'w'\n",
       "24. 'x'\n",
       "25. 'y'\n",
       "26. 'z'\n",
       "\n",
       "\n"
      ],
      "text/plain": [
       " [1] \"a\" \"b\" \"c\" \"d\" \"e\" \"f\" \"g\" \"h\" \"i\" \"j\" \"k\" \"l\" \"m\" \"n\" \"o\" \"p\" \"q\" \"r\" \"s\"\n",
       "[20] \"t\" \"u\" \"v\" \"w\" \"x\" \"y\" \"z\""
      ]
     },
     "metadata": {},
     "output_type": "display_data"
    }
   ],
   "source": [
    "letters[]"
   ]
  },
  {
   "cell_type": "code",
   "execution_count": 36,
   "id": "4199a527-92cc-4771-a5cb-0c7febb01331",
   "metadata": {
    "tags": []
   },
   "outputs": [
    {
     "name": "stdout",
     "output_type": "stream",
     "text": [
      "   mid final\n",
      "1   92    41\n",
      "2   49    10\n",
      "3   51     0\n",
      "4   31    26\n",
      "5   88    29\n",
      "6    5    73\n",
      "7   97    48\n",
      "8   98    34\n",
      "9   75    35\n",
      "10  42    74\n",
      "11  38     8\n",
      "12  62    59\n",
      "13   7    86\n",
      "14  40    66\n",
      "15   9    61\n",
      "16  64    41\n",
      "17  73    60\n",
      "18  17    17\n",
      "19  13    73\n",
      "20  67    56\n"
     ]
    }
   ],
   "source": [
    "#데이터 프레임\n",
    "m <- floor(runif(20) * 100) #난수 생성\n",
    "f <- floor(runif(20) * 100)\n",
    "\n",
    "mydf <- data.frame(mid = m, final = f)\n",
    "print(mydf)"
   ]
  },
  {
   "cell_type": "code",
   "execution_count": 37,
   "id": "20c85639-c373-4e88-9d26-f51634d0dc2e",
   "metadata": {
    "tags": []
   },
   "outputs": [
    {
     "data": {
      "text/html": [
       "<table class=\"dataframe\">\n",
       "<caption>A data.frame: 6 × 2</caption>\n",
       "<thead>\n",
       "\t<tr><th></th><th scope=col>mid</th><th scope=col>final</th></tr>\n",
       "\t<tr><th></th><th scope=col>&lt;dbl&gt;</th><th scope=col>&lt;dbl&gt;</th></tr>\n",
       "</thead>\n",
       "<tbody>\n",
       "\t<tr><th scope=row>1</th><td>92</td><td>41</td></tr>\n",
       "\t<tr><th scope=row>2</th><td>49</td><td>10</td></tr>\n",
       "\t<tr><th scope=row>3</th><td>51</td><td> 0</td></tr>\n",
       "\t<tr><th scope=row>4</th><td>31</td><td>26</td></tr>\n",
       "\t<tr><th scope=row>5</th><td>88</td><td>29</td></tr>\n",
       "\t<tr><th scope=row>6</th><td> 5</td><td>73</td></tr>\n",
       "</tbody>\n",
       "</table>\n"
      ],
      "text/latex": [
       "A data.frame: 6 × 2\n",
       "\\begin{tabular}{r|ll}\n",
       "  & mid & final\\\\\n",
       "  & <dbl> & <dbl>\\\\\n",
       "\\hline\n",
       "\t1 & 92 & 41\\\\\n",
       "\t2 & 49 & 10\\\\\n",
       "\t3 & 51 &  0\\\\\n",
       "\t4 & 31 & 26\\\\\n",
       "\t5 & 88 & 29\\\\\n",
       "\t6 &  5 & 73\\\\\n",
       "\\end{tabular}\n"
      ],
      "text/markdown": [
       "\n",
       "A data.frame: 6 × 2\n",
       "\n",
       "| <!--/--> | mid &lt;dbl&gt; | final &lt;dbl&gt; |\n",
       "|---|---|---|\n",
       "| 1 | 92 | 41 |\n",
       "| 2 | 49 | 10 |\n",
       "| 3 | 51 |  0 |\n",
       "| 4 | 31 | 26 |\n",
       "| 5 | 88 | 29 |\n",
       "| 6 |  5 | 73 |\n",
       "\n"
      ],
      "text/plain": [
       "  mid final\n",
       "1 92  41   \n",
       "2 49  10   \n",
       "3 51   0   \n",
       "4 31  26   \n",
       "5 88  29   \n",
       "6  5  73   "
      ]
     },
     "metadata": {},
     "output_type": "display_data"
    }
   ],
   "source": [
    "#데이터프레임 앞부분 보기\n",
    "head(mydf)"
   ]
  },
  {
   "cell_type": "code",
   "execution_count": 38,
   "id": "3fa8e385-e544-47e3-891d-c16fe27f8b11",
   "metadata": {
    "tags": []
   },
   "outputs": [
    {
     "name": "stdout",
     "output_type": "stream",
     "text": [
      "'data.frame':\t20 obs. of  2 variables:\n",
      " $ mid  : num  92 49 51 31 88 5 97 98 75 42 ...\n",
      " $ final: num  41 10 0 26 29 73 48 34 35 74 ...\n"
     ]
    }
   ],
   "source": [
    "#데이터프레임 구조 확인\n",
    "str(mydf)"
   ]
  },
  {
   "cell_type": "code",
   "execution_count": 39,
   "id": "5b011ea4-9f71-4b1a-8af6-c66c9d1974d9",
   "metadata": {
    "tags": []
   },
   "outputs": [
    {
     "name": "stdout",
     "output_type": "stream",
     "text": [
      "   mid final sum\n",
      "1   92    41 133\n",
      "2   49    10  59\n",
      "3   51     0  51\n",
      "4   31    26  57\n",
      "5   88    29 117\n",
      "6    5    73  78\n",
      "7   97    48 145\n",
      "8   98    34 132\n",
      "9   75    35 110\n",
      "10  42    74 116\n",
      "11  38     8  46\n",
      "12  62    59 121\n",
      "13   7    86  93\n",
      "14  40    66 106\n",
      "15   9    61  70\n",
      "16  64    41 105\n",
      "17  73    60 133\n",
      "18  17    17  34\n",
      "19  13    73  86\n",
      "20  67    56 123\n"
     ]
    }
   ],
   "source": [
    "#새로운 변수 계산\n",
    "mydf$sum <- mydf$mid + mydf$final\n",
    "print(mydf)"
   ]
  },
  {
   "cell_type": "code",
   "execution_count": 40,
   "id": "b2ec23d9-884a-4223-b5ad-fbbea03913d9",
   "metadata": {
    "tags": []
   },
   "outputs": [
    {
     "data": {
      "image/png": "[encoded data removed]",
      "text/plain": [
       "Plot with title “Histogram of mydf$mid”"
      ]
     },
     "metadata": {
      "image/png": {
       "height": 420,
       "width": 420
      }
     },
     "output_type": "display_data"
    }
   ],
   "source": [
    "#중간고사 성적(mid)의 히스토그램\n",
    "hist(mydf$mid)"
   ]
  },
  {
   "cell_type": "code",
   "execution_count": 41,
   "id": "7bbe9654-6b09-4762-9a0d-e8a137801268",
   "metadata": {
    "tags": []
   },
   "outputs": [
    {
     "data": {
      "image/png": "[encoded data removed]",
      "text/plain": [
       "plot without title"
      ]
     },
     "metadata": {
      "image/png": {
       "height": 420,
       "width": 420
      }
     },
     "output_type": "display_data"
    }
   ],
   "source": [
    "#산점도\n",
    "plot(mydf$mid, mydf$final)"
   ]
  },
  {
   "cell_type": "code",
   "execution_count": 42,
   "id": "0ce47b96-be35-4f0c-a62b-e90aa1385e61",
   "metadata": {
    "tags": []
   },
   "outputs": [
    {
     "data": {
      "text/html": [
       "<table class=\"dataframe\">\n",
       "<caption>A data.frame: 6 × 5</caption>\n",
       "<thead>\n",
       "\t<tr><th></th><th scope=col>Sepal.Length</th><th scope=col>Sepal.Width</th><th scope=col>Petal.Length</th><th scope=col>Petal.Width</th><th scope=col>Species</th></tr>\n",
       "\t<tr><th></th><th scope=col>&lt;dbl&gt;</th><th scope=col>&lt;dbl&gt;</th><th scope=col>&lt;dbl&gt;</th><th scope=col>&lt;dbl&gt;</th><th scope=col>&lt;fct&gt;</th></tr>\n",
       "</thead>\n",
       "<tbody>\n",
       "\t<tr><th scope=row>1</th><td>5.1</td><td>3.5</td><td>1.4</td><td>0.2</td><td>setosa</td></tr>\n",
       "\t<tr><th scope=row>2</th><td>4.9</td><td>3.0</td><td>1.4</td><td>0.2</td><td>setosa</td></tr>\n",
       "\t<tr><th scope=row>3</th><td>4.7</td><td>3.2</td><td>1.3</td><td>0.2</td><td>setosa</td></tr>\n",
       "\t<tr><th scope=row>4</th><td>4.6</td><td>3.1</td><td>1.5</td><td>0.2</td><td>setosa</td></tr>\n",
       "\t<tr><th scope=row>5</th><td>5.0</td><td>3.6</td><td>1.4</td><td>0.2</td><td>setosa</td></tr>\n",
       "\t<tr><th scope=row>6</th><td>5.4</td><td>3.9</td><td>1.7</td><td>0.4</td><td>setosa</td></tr>\n",
       "</tbody>\n",
       "</table>\n"
      ],
      "text/latex": [
       "A data.frame: 6 × 5\n",
       "\\begin{tabular}{r|lllll}\n",
       "  & Sepal.Length & Sepal.Width & Petal.Length & Petal.Width & Species\\\\\n",
       "  & <dbl> & <dbl> & <dbl> & <dbl> & <fct>\\\\\n",
       "\\hline\n",
       "\t1 & 5.1 & 3.5 & 1.4 & 0.2 & setosa\\\\\n",
       "\t2 & 4.9 & 3.0 & 1.4 & 0.2 & setosa\\\\\n",
       "\t3 & 4.7 & 3.2 & 1.3 & 0.2 & setosa\\\\\n",
       "\t4 & 4.6 & 3.1 & 1.5 & 0.2 & setosa\\\\\n",
       "\t5 & 5.0 & 3.6 & 1.4 & 0.2 & setosa\\\\\n",
       "\t6 & 5.4 & 3.9 & 1.7 & 0.4 & setosa\\\\\n",
       "\\end{tabular}\n"
      ],
      "text/markdown": [
       "\n",
       "A data.frame: 6 × 5\n",
       "\n",
       "| <!--/--> | Sepal.Length &lt;dbl&gt; | Sepal.Width &lt;dbl&gt; | Petal.Length &lt;dbl&gt; | Petal.Width &lt;dbl&gt; | Species &lt;fct&gt; |\n",
       "|---|---|---|---|---|---|\n",
       "| 1 | 5.1 | 3.5 | 1.4 | 0.2 | setosa |\n",
       "| 2 | 4.9 | 3.0 | 1.4 | 0.2 | setosa |\n",
       "| 3 | 4.7 | 3.2 | 1.3 | 0.2 | setosa |\n",
       "| 4 | 4.6 | 3.1 | 1.5 | 0.2 | setosa |\n",
       "| 5 | 5.0 | 3.6 | 1.4 | 0.2 | setosa |\n",
       "| 6 | 5.4 | 3.9 | 1.7 | 0.4 | setosa |\n",
       "\n"
      ],
      "text/plain": [
       "  Sepal.Length Sepal.Width Petal.Length Petal.Width Species\n",
       "1 5.1          3.5         1.4          0.2         setosa \n",
       "2 4.9          3.0         1.4          0.2         setosa \n",
       "3 4.7          3.2         1.3          0.2         setosa \n",
       "4 4.6          3.1         1.5          0.2         setosa \n",
       "5 5.0          3.6         1.4          0.2         setosa \n",
       "6 5.4          3.9         1.7          0.4         setosa "
      ]
     },
     "metadata": {},
     "output_type": "display_data"
    }
   ],
   "source": [
    "#내장 데이터 iris\n",
    "head(iris)"
   ]
  },
  {
   "cell_type": "code",
   "execution_count": 45,
   "id": "6550cfd1-c40a-4464-8256-a018d70cbca1",
   "metadata": {
    "tags": []
   },
   "outputs": [
    {
     "data": {
      "image/png": "[encoded data removed]",
      "text/plain": [
       "plot without title"
      ]
     },
     "metadata": {
      "image/png": {
       "height": 420,
       "width": 420
      }
     },
     "output_type": "display_data"
    }
   ],
   "source": [
    "library(ggplot2)\n",
    "p <- ggplot(iris, aes(Petal.Length, Petal.Width, col = Species))\n",
    "p + geom_point(size = 4)"
   ]
  }
 ],
 "metadata": {
  "kernelspec": {
   "display_name": "R",
   "language": "R",
   "name": "ir"
  },
  "language_info": {
   "codemirror_mode": "r",
   "file_extension": ".r",
   "mimetype": "text/x-r-source",
   "name": "R",
   "pygments_lexer": "r",
   "version": "4.3.1"
  }
 },
 "nbformat": 4,
 "nbformat_minor": 5
}
