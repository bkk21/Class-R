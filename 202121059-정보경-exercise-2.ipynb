{
 "cells": [
  {
   "cell_type": "markdown",
   "id": "2d752f2d-effe-445f-addf-6185086e0b5b",
   "metadata": {},
   "source": [
    "<h1>R 스스로 해보기 2</h1>\n",
    "<h3>2023년 10월 25일 (수)</h3>\n",
    "<hr>"
   ]
  },
  {
   "cell_type": "markdown",
   "id": "1785d37f-4d8e-4cae-85e7-fc4aa0ce6c6b",
   "metadata": {},
   "source": [
    "<h4>1. 벡터 (410, 413, 204, 105, 401, 502, 516, 409) 생성하여 a에 저장</h4>"
   ]
  },
  {
   "cell_type": "code",
   "execution_count": 1,
   "id": "1d8c350e-c866-44a4-98b8-762397b924c4",
   "metadata": {
    "tags": []
   },
   "outputs": [
    {
     "name": "stdout",
     "output_type": "stream",
     "text": [
      "[1] 410 413 204 105 401 502 516 409\n"
     ]
    }
   ],
   "source": [
    "a <- c(410, 413, 204, 105, 401, 502, 516, 409)\n",
    "print(a)"
   ]
  },
  {
   "cell_type": "markdown",
   "id": "96bd9486-cd04-4ff4-8e7a-0be413268da2",
   "metadata": {
    "tags": []
   },
   "source": [
    "<hr>\n",
    "<h4>2. 벡터 b를 seq() 함수를 사용하여 벡터 10부터 50까지 5씩 증가하도록 생성</h4>"
   ]
  },
  {
   "cell_type": "code",
   "execution_count": 2,
   "id": "ef34bb56-dd98-4581-ba00-8c8a54a2e148",
   "metadata": {
    "tags": []
   },
   "outputs": [
    {
     "name": "stdout",
     "output_type": "stream",
     "text": [
      "[1] 10 15 20 25 30 35 40 45 50\n"
     ]
    }
   ],
   "source": [
    "b <- seq(10, 50, 5)\n",
    "print(b)"
   ]
  },
  {
   "cell_type": "markdown",
   "id": "fe694f41-4b45-4f7c-8c21-a43ad304430d",
   "metadata": {
    "tags": []
   },
   "source": [
    "<hr>\n",
    "<h4>3. 벡터 a와 b를 합쳐서 벡터 c로 저장(a 뒤에 b)</h4>"
   ]
  },
  {
   "cell_type": "code",
   "execution_count": 3,
   "id": "a5ea388a-c4ab-420c-9dd4-83a9ddba1423",
   "metadata": {
    "tags": []
   },
   "outputs": [
    {
     "name": "stdout",
     "output_type": "stream",
     "text": [
      " [1] 410 413 204 105 401 502 516 409  10  15  20  25  30  35  40  45  50\n"
     ]
    }
   ],
   "source": [
    "c <- append(a, b)\n",
    "print(c)"
   ]
  },
  {
   "cell_type": "markdown",
   "id": "7f473b2f-a0ae-4668-8faf-2d069603c750",
   "metadata": {
    "tags": []
   },
   "source": [
    "<hr>\n",
    "<h4>4. 벡터 c의 5번째 원소를 삭제하여 d로 저장</h4>"
   ]
  },
  {
   "cell_type": "code",
   "execution_count": 4,
   "id": "67ad23e3-e9fb-43dc-a218-b6921a4a5366",
   "metadata": {
    "tags": []
   },
   "outputs": [
    {
     "name": "stdout",
     "output_type": "stream",
     "text": [
      " [1] 410 413 204 105 502 516 409  10  15  20  25  30  35  40  45  50\n"
     ]
    }
   ],
   "source": [
    "d <- c[-5]\n",
    "print(d)"
   ]
  },
  {
   "cell_type": "markdown",
   "id": "005ee1a7-e196-4fd8-82d7-faab57874012",
   "metadata": {
    "tags": []
   },
   "source": [
    "<hr>\n",
    "<h4>5. 벡터 d의 길이 구하기 </h4>"
   ]
  },
  {
   "cell_type": "code",
   "execution_count": 5,
   "id": "0251c41a-1901-4f61-97ef-f6df16ed4223",
   "metadata": {
    "tags": []
   },
   "outputs": [
    {
     "data": {
      "text/html": [
       "16"
      ],
      "text/latex": [
       "16"
      ],
      "text/markdown": [
       "16"
      ],
      "text/plain": [
       "[1] 16"
      ]
     },
     "metadata": {},
     "output_type": "display_data"
    }
   ],
   "source": [
    "length(d)"
   ]
  },
  {
   "cell_type": "markdown",
   "id": "6caeb827-ac16-46e2-99c7-7f971b8bf2cd",
   "metadata": {
    "tags": []
   },
   "source": [
    "<hr>\n",
    "<h4>6. 벡터 d의 5번째 원소부터 15번째 원소를 추출하여 벡터 e로 저장</h4>"
   ]
  },
  {
   "cell_type": "code",
   "execution_count": 6,
   "id": "d827cff5-9e38-4eb9-991c-8a3fe52a7eea",
   "metadata": {
    "tags": []
   },
   "outputs": [
    {
     "name": "stdout",
     "output_type": "stream",
     "text": [
      " [1] 502 516 409  10  15  20  25  30  35  40  45\n"
     ]
    }
   ],
   "source": [
    "e <- d[5:15]\n",
    "print(e)"
   ]
  },
  {
   "cell_type": "markdown",
   "id": "b7c9ba55-9ab8-4901-94ae-76b598dbac3f",
   "metadata": {
    "tags": []
   },
   "source": [
    "<hr>\n",
    "<h4>7. 벡터 e의 평균 구하기</h4>"
   ]
  },
  {
   "cell_type": "code",
   "execution_count": 7,
   "id": "b50bc9e5-94e6-4dcc-8c28-5b8989cca4c8",
   "metadata": {
    "tags": []
   },
   "outputs": [
    {
     "name": "stdout",
     "output_type": "stream",
     "text": [
      "[1] 149.7273\n"
     ]
    }
   ],
   "source": [
    "print(mean(e))"
   ]
  },
  {
   "cell_type": "markdown",
   "id": "57044c51-ba3e-4a81-bd40-a9ad94953fef",
   "metadata": {
    "tags": []
   },
   "source": [
    "<hr>\n",
    "<h4>8. \"a\", \"b\", \"c\", \"d\"를 4번 반복하여 벡터 z 생성</h4>"
   ]
  },
  {
   "cell_type": "code",
   "execution_count": 8,
   "id": "1098694c-6d51-4183-b2e6-f151f79b64e8",
   "metadata": {
    "tags": []
   },
   "outputs": [
    {
     "name": "stdout",
     "output_type": "stream",
     "text": [
      " [1] \"a\" \"b\" \"c\" \"d\" \"a\" \"b\" \"c\" \"d\" \"a\" \"b\" \"c\" \"d\" \"a\" \"b\" \"c\" \"d\"\n"
     ]
    }
   ],
   "source": [
    "x <- c(\"a\", \"b\", \"c\", \"d\")\n",
    "z <- rep(x, 4)\n",
    "print(z)"
   ]
  },
  {
   "cell_type": "markdown",
   "id": "78551059-8827-46a7-bfc6-d932d300ce13",
   "metadata": {
    "tags": []
   },
   "source": [
    "<hr>\n",
    "<h4>9. \"a\", \"b\", \"c\", \"d\"를 각각 2번씩 반복하여 벡터 y 생성</h4>"
   ]
  },
  {
   "cell_type": "code",
   "execution_count": 9,
   "id": "79d1fd74-00b5-4007-b58b-3f97e6ce090a",
   "metadata": {
    "tags": []
   },
   "outputs": [
    {
     "name": "stdout",
     "output_type": "stream",
     "text": [
      "[1] \"a\" \"a\" \"b\" \"b\" \"c\" \"c\" \"d\" \"d\"\n"
     ]
    }
   ],
   "source": [
    "y <- rep(x, each = 2)\n",
    "print(y)"
   ]
  },
  {
   "cell_type": "markdown",
   "id": "6780eb4c-1ea7-4d84-890c-1e22838a5494",
   "metadata": {
    "tags": []
   },
   "source": [
    "<hr>\n",
    "<h4>10. 0부터 50사이의 정수 1000개를 생성하여 mydata에 저장</h4>"
   ]
  },
  {
   "cell_type": "code",
   "execution_count": 10,
   "id": "b74a9586-35d3-4e2a-9db9-78ff66b45657",
   "metadata": {
    "tags": []
   },
   "outputs": [
    {
     "name": "stdout",
     "output_type": "stream",
     "text": [
      "   [1] 20 42 22 30 11 42 36 41 34 35 21 43 17 41  8 16 39  1  3  1 28  7  0 24\n",
      "  [25] 34 44 37 47 33 36 36 32 42 27 14 33 26 34 25 29 35 40 25 40 30  4  6 28\n",
      "  [49] 43 17 17 26 19 47 45  2  0 17  5  9 47 46 11  1 49  7 30  3 40  8 17  0\n",
      "  [73] 15 12 22 34 25 11 32 34 48 33 12 18  0 32 28  4  2 26 48 13 18  7 42 35\n",
      "  [97] 39 39 32 24 45 39  6 16 28  6 30  1 33 45 22 18 22 19 21 18 10 35 37 42\n",
      " [121] 33 33 38 25 32 23 14 10  7 46  0 46  1  3 10 12 37 23 17 23  0 42 13 49\n",
      " [145] 11 29 22 12 30 33 49 28 24  9 40 31 34 47 37 18 33 42 19 40 46 18 37  3\n",
      " [169] 34 27 28 32 30 45 34 31 29  9 33 40  3 30 31 25 21 21 36  4  7 26 28 30\n",
      " [193] 19 14 43 17 29 30  5 40  9 21 45  2  8 24  5  2 44  2  9 48 22 17 40  8\n",
      " [217] 15 11  8 14 18  2 32 44 49  0 40 32  8 38  9 27  2 36 46 45 47  8 10 40\n",
      " [241] 22 44 22  7 15  8 13 44 34 28 13 27  9 19 23  9 30 20 40 15  4  7  6 30\n",
      " [265] 48 17 12 15 15 27 48 10 17 44 45 40 47 29 30 14 27 31 31  7 15 14 13  1\n",
      " [289] 17  6 21 39 23 25 38 29  8 28  8 31 30  4 31 38 39  7  7  2 28 10 47 28\n",
      " [313]  9 20 23 38 45 35 26  7 38 41 17 33 26 24  2  1  8 32  6 30 43 45 10 48\n",
      " [337] 22 10 28 38 10 22  3  9 23 21 43 20 17 29 31  3 30 29 28 45  5 49 22 47\n",
      " [361] 29 23 33 22 12  6 44 49 46 49 20 27 26 28 29 30  7  9 15  1 34 27 20 25\n",
      " [385]  8 25 30 42 33 19  6 41 49  9 43 49 25 40 14 17 41 48 29  3  2 35 26 22\n",
      " [409] 12 22 31 38 16 19 22 48 10  7 36  5 39 13 35 31 13  3 31 48  3 27 37 15\n",
      " [433]  6  2 10 25 36 20 37  9 25 23 12 49 24  1 37 29 28 41 38 16 36 10 21  7\n",
      " [457]  8 43 38 41 19 39 35 43 13  0 31 46 14 45 29  4 15 24 19  8 37  8  5 14\n",
      " [481] 23  4  9  4 27  1 46 44  1 38 39 23 17 23 35 49 13 38 34 11 44  4 22 16\n",
      " [505] 45 48 27 10 34 31  6 41 13 24 46 43 19  4 28 41 12 17 36 45 11 13 34  9\n",
      " [529] 18 46 14 24  3 21 38 42  5 37 29 19 23 49 32 24  2 32 21  9 40 24 36  6\n",
      " [553] 46 34 35 44 19 46  4 16 26  6  1 25 26  5 12  8  2 24 26 19  8 24 14 20\n",
      " [577] 46 28 38 13 20 16 38  8 48 18 13 28 41 19 25 44 27 27 44  4 39 30  3  3\n",
      " [601]  0 24 17 10 31 40 14 48  8  6 22 38 24 30 10 33 25 44 12 13  3 28 45 13\n",
      " [625]  2 49 33 41  8 33 43  1 42 26 20 30 19  5 31 17 22 42 36 34 11 39 30 27\n",
      " [649]  0 27 19  2  5 12  5 20 10 15 31  2 27 16 24  4 43 15 29 16 41 13 41  4\n",
      " [673] 21 14 24 10 43 49 26 30 29 28 42 15 31 41 38  6 14 42 48  9  4  4  3 16\n",
      " [697] 27 36  0 40 41 49 34 38 21 10  2 38  8 45 32 17 49 41  5 34  7 49 31 18\n",
      " [721] 39 31  2  7 26  9 26 43 28 38 17 13 26 37 46 22 29 20 46 49 21 22 37  8\n",
      " [745] 22 18 36 19 36 44 30 10  6  1 34  7 39 18 26  6 33  5 14 25 40  9 19 23\n",
      " [769] 28 25 11 46 28  9 26 20 43 17 11 21  1 25 44 32 36  6 12 19 33 11 41  8\n",
      " [793] 21  4 43  1 17 39  2  8 21 44 47 22  1  1 10  6 41 35 49  6 46 39  2  8\n",
      " [817]  6 14 29 28  2 26 11 26 46  5  1 12  6 15 43 30 32 36 34 13 27 40 17 25\n",
      " [841] 44 27  5 41 31 38 38 18  6 13 19  7 17 25 10 30 21 37 32 48  2 43 33 47\n",
      " [865] 46  7 33  0 29  2 14 36 23 11 20 46 38  2 47 27 25 43 15 26 22 18 14 12\n",
      " [889] 35  4 37 37 45 22  7 13 47 27 19  3  9 37  4 21  5 42 24 19  6 37 19 18\n",
      " [913] 33 32 20 14 18 24 42 26 39 11 20 38 34 46 12 27 24 36 39 10 24 31  3 47\n",
      " [937] 10 28 24 38 29 40 30 24 49 42 27 31 48 36 11 24  7 32 47 22 44 37 30 44\n",
      " [961] 27  9 35 15  8 17 43  9 24 24 22 33 17 18 21 36 44 18 28 29 38 43  7  4\n",
      " [985] 25 22 39 35  9 19  1 19 23 20 31 23 47 12 13  3\n"
     ]
    }
   ],
   "source": [
    "mydata <- floor(runif(1000, 0, 50))\n",
    "print(mydata)"
   ]
  },
  {
   "cell_type": "markdown",
   "id": "7cf8c3a1-3027-495f-a4e6-fc9d5555ec2d",
   "metadata": {
    "tags": []
   },
   "source": [
    "<hr>\n",
    "<h4>11. 다음 표와 같이 각 범위에 들어 있는 수의 개수를 구하여 벡터 count에 저장</h4>\n",
    "\n",
    "<table>\n",
    "<tr> <td>구간</td> <td> 저장 인덱스 </td> </tr>\n",
    "<tr> <td>10 이하</td> <td> count[1] </td> </tr>\n",
    "<tr> <td>10 초과 20 이하</td> <td> count[2] </td> </tr>\n",
    "<tr> <td>20 초과 30 이하</td> <td> count[3] </td> </tr>\n",
    "<tr> <td>30 초과 40 이하</td> <td> count[4] </td> </tr>\n",
    "<tr> <td>40 초과 50 이하</td> <td> count[5] </td> </tr>\n",
    "</table>"
   ]
  },
  {
   "cell_type": "code",
   "execution_count": 11,
   "id": "7fd188c9-9aaf-4490-a07d-560f44938017",
   "metadata": {
    "tags": []
   },
   "outputs": [
    {
     "name": "stdout",
     "output_type": "stream",
     "text": [
      "[1] 228 184 230 196 162\n"
     ]
    }
   ],
   "source": [
    "count <- c(5)\n",
    "count[1] <- length(mydata[mydata <= 10])\n",
    "count[2] <- length(mydata[10 < mydata & mydata <= 20])\n",
    "count[3] <- length(mydata[20 < mydata & mydata <= 30])\n",
    "count[4] <- length(mydata[30 < mydata & mydata <= 40])\n",
    "count[5] <- length(mydata[40 < mydata])\n",
    "print(count)"
   ]
  },
  {
   "cell_type": "markdown",
   "id": "7678eb25-b0c7-4971-8568-ff364801e83b",
   "metadata": {
    "tags": []
   },
   "source": [
    "<hr>\n",
    "<h4>12. 벡터 count의 원소의 합을 구하시오. (1000임을 확인)</h4>"
   ]
  },
  {
   "cell_type": "code",
   "execution_count": 12,
   "id": "cf1846bf-5acf-4d23-99f5-032dad1f4d83",
   "metadata": {
    "tags": []
   },
   "outputs": [
    {
     "name": "stdout",
     "output_type": "stream",
     "text": [
      "[1] 1000\n"
     ]
    }
   ],
   "source": [
    "print(sum(count))"
   ]
  },
  {
   "cell_type": "markdown",
   "id": "f935ae07-1b25-4a58-810b-be5a547e146b",
   "metadata": {
    "tags": []
   },
   "source": [
    "<hr>\n",
    "<h4>13. myata의 히스토그램 출력(hist(breaks = 5) 사용)</h4>"
   ]
  },
  {
   "cell_type": "code",
   "execution_count": 13,
   "id": "bc50beca-7b3d-48f7-86d5-d0fc26e67e3d",
   "metadata": {
    "tags": []
   },
   "outputs": [
    {
     "data": {
      "image/png": "[encoded data removed]",
      "text/plain": [
       "Plot with title “Histogram of mydata”"
      ]
     },
     "metadata": {
      "image/png": {
       "height": 420,
       "width": 420
      }
     },
     "output_type": "display_data"
    }
   ],
   "source": [
    "hist(mydata, breaks = 5)"
   ]
  },
  {
   "cell_type": "markdown",
   "id": "c60d7e28-a966-4e7c-9cf7-d63e93982fb6",
   "metadata": {
    "tags": []
   },
   "source": [
    "<hr>\n",
    "<h4>14. 문자열 벡터 n <- c(\"Kim\", \"park\", \"lee\") 생성 </h4>"
   ]
  },
  {
   "cell_type": "code",
   "execution_count": 14,
   "id": "9ec03c77-fc5b-42b9-b403-748a4257c1c5",
   "metadata": {
    "tags": []
   },
   "outputs": [
    {
     "name": "stdout",
     "output_type": "stream",
     "text": [
      "[1] \"kim\"  \"park\" \"lee\" \n"
     ]
    }
   ],
   "source": [
    "n <- c(\"kim\", \"park\", \"lee\")\n",
    "print(n)"
   ]
  },
  {
   "cell_type": "markdown",
   "id": "67dfca2e-aea6-411f-81a3-9e8f4e5b2a03",
   "metadata": {
    "tags": []
   },
   "source": [
    "<hr>\n",
    "<h4>15. 벡터 m <- c(71, 89, 85) 생성 </h4>"
   ]
  },
  {
   "cell_type": "code",
   "execution_count": 15,
   "id": "eb7d128f-cd41-4c7f-bdc1-330ce4c9dc80",
   "metadata": {
    "tags": []
   },
   "outputs": [
    {
     "name": "stdout",
     "output_type": "stream",
     "text": [
      "[1] 71 89 85\n"
     ]
    }
   ],
   "source": [
    "m <- c(71, 89, 85)\n",
    "print(m)"
   ]
  },
  {
   "cell_type": "markdown",
   "id": "39558468-5769-4e59-b71e-bda26d227a90",
   "metadata": {
    "tags": []
   },
   "source": [
    "<hr>\n",
    "<h4>16. 벡터 f <- c(83,74,91) 생성 </h4>"
   ]
  },
  {
   "cell_type": "code",
   "execution_count": 16,
   "id": "cfb36525-d550-44a8-a4fe-cec8079cb7aa",
   "metadata": {
    "tags": []
   },
   "outputs": [
    {
     "name": "stdout",
     "output_type": "stream",
     "text": [
      "[1] 83 74 91\n"
     ]
    }
   ],
   "source": [
    "f <- c(83,74,91)\n",
    "print(f)"
   ]
  },
  {
   "cell_type": "markdown",
   "id": "e39dca29-8cf3-4a35-aa64-64da4456094d",
   "metadata": {
    "tags": []
   },
   "source": [
    "<hr>\n",
    "<h4>17. 세 벡터 n, m, f을 묶어 데이터프레임 변수 score 생성 </h4>"
   ]
  },
  {
   "cell_type": "code",
   "execution_count": 17,
   "id": "847cb1ea-4cd9-4a46-a08d-5a9853fc463b",
   "metadata": {
    "tags": []
   },
   "outputs": [
    {
     "name": "stdout",
     "output_type": "stream",
     "text": [
      "  name mid final\n",
      "1  kim  71    83\n",
      "2 park  89    74\n",
      "3  lee  85    91\n"
     ]
    }
   ],
   "source": [
    "score <- data.frame(name=n, mid=m, final=f)\n",
    "print(score)"
   ]
  },
  {
   "cell_type": "markdown",
   "id": "7e3dbf62-b6e4-4dc9-b8a6-58ddd1710f3d",
   "metadata": {
    "tags": []
   },
   "source": [
    "<hr>\n",
    "<h4>18. score의 구조 확인(str() 사용)</h4>"
   ]
  },
  {
   "cell_type": "code",
   "execution_count": 18,
   "id": "ab76ad2e-af3f-480d-8556-a0378287fb62",
   "metadata": {
    "tags": []
   },
   "outputs": [
    {
     "name": "stdout",
     "output_type": "stream",
     "text": [
      "'data.frame':\t3 obs. of  3 variables:\n",
      " $ name : chr  \"kim\" \"park\" \"lee\"\n",
      " $ mid  : num  71 89 85\n",
      " $ final: num  83 74 91\n"
     ]
    }
   ],
   "source": [
    "str(score)"
   ]
  },
  {
   "cell_type": "markdown",
   "id": "cdbff14c-7f49-40ea-b6d1-2b8b077fd1f4",
   "metadata": {
    "tags": []
   },
   "source": [
    "<hr>\n",
    "<h4>19. mid와 final의 평균을 구하여 새로운 키(변수) mean에 저장</h4>"
   ]
  },
  {
   "cell_type": "code",
   "execution_count": 19,
   "id": "44501ad6-3802-4708-a7c8-556e5e6845c0",
   "metadata": {
    "tags": []
   },
   "outputs": [
    {
     "name": "stdout",
     "output_type": "stream",
     "text": [
      "  name mid final mean\n",
      "1  kim  71    83 77.0\n",
      "2 park  89    74 81.5\n",
      "3  lee  85    91 88.0\n"
     ]
    }
   ],
   "source": [
    "score$mean <- (score$mid + score$final) / 2\n",
    "print(score)"
   ]
  },
  {
   "cell_type": "markdown",
   "id": "f40eb56c-c14c-4a48-838b-f7cfc8b2758d",
   "metadata": {
    "tags": []
   },
   "source": [
    "<hr>\n",
    "<h4>20. 벡터 (100,90,100)를 벡터 attend에 저장 </h4>"
   ]
  },
  {
   "cell_type": "code",
   "execution_count": 20,
   "id": "b4637be1-3a3c-4a9d-b179-76ab2ad1dbe8",
   "metadata": {
    "tags": []
   },
   "outputs": [
    {
     "name": "stdout",
     "output_type": "stream",
     "text": [
      "[1] 100  90 100\n"
     ]
    }
   ],
   "source": [
    "attend <- c(100, 90, 100)\n",
    "print(attend)"
   ]
  },
  {
   "cell_type": "markdown",
   "id": "206e62d3-b612-4bd6-ba21-07ea4d9e1414",
   "metadata": {
    "tags": []
   },
   "source": [
    "<hr>\n",
    "<h4>21. 벡터 (100,90,80)를 벡터 hw에 저장</h4>"
   ]
  },
  {
   "cell_type": "code",
   "execution_count": 21,
   "id": "3feb817a-6280-48fa-bed6-3ab2fd9d060c",
   "metadata": {
    "tags": []
   },
   "outputs": [
    {
     "name": "stdout",
     "output_type": "stream",
     "text": [
      "[1] 100  90  80\n"
     ]
    }
   ],
   "source": [
    "hw <- c(100, 90, 80)\n",
    "print(hw)"
   ]
  },
  {
   "cell_type": "markdown",
   "id": "d54165f2-9230-4d4a-a7f5-60830729ee41",
   "metadata": {
    "tags": []
   },
   "source": [
    "<hr>\n",
    "<h4>22. 두 벡터 attend, hw를 score의 새로운 키(변수)로 추가</h4>"
   ]
  },
  {
   "cell_type": "code",
   "execution_count": 22,
   "id": "1ff7cf0e-6a2a-4663-9a9a-ba5f206a96fb",
   "metadata": {
    "tags": []
   },
   "outputs": [
    {
     "name": "stdout",
     "output_type": "stream",
     "text": [
      "  name mid final mean attend  hw\n",
      "1  kim  71    83 77.0    100 100\n",
      "2 park  89    74 81.5     90  90\n",
      "3  lee  85    91 88.0    100  80\n"
     ]
    }
   ],
   "source": [
    "score$attend <- attend\n",
    "score$hw <- hw\n",
    "print(score)"
   ]
  },
  {
   "cell_type": "markdown",
   "id": "c7cda171-7b4d-4d15-a083-f8ee805a06ca",
   "metadata": {
    "tags": []
   },
   "source": [
    "<hr>\n",
    "<h4>23. 평균 wmean을 다음과 같이 계산하여 score의 키로 추가</h4>"
   ]
  },
  {
   "cell_type": "code",
   "execution_count": 23,
   "id": "4a678956-aceb-436d-ab5e-62f54ec9c004",
   "metadata": {
    "tags": []
   },
   "outputs": [
    {
     "name": "stdout",
     "output_type": "stream",
     "text": [
      "  name mid final mean attend  hw wmean\n",
      "1  kim  71    83 77.0    100 100  81.6\n",
      "2 park  89    74 81.5     90  90  83.2\n",
      "3  lee  85    91 88.0    100  80  88.4\n"
     ]
    }
   ],
   "source": [
    "score$wmean <- (score$mid * 0.4) + (score$final * 0.4) + (score$attend * 0.1) + (score$hw * 0.1)\n",
    "print(score)"
   ]
  },
  {
   "cell_type": "markdown",
   "id": "7002fdb5-e053-4762-8bf2-04578a0624b4",
   "metadata": {
    "tags": []
   },
   "source": [
    "<hr>\n",
    "<h4>24. score의 구조 출력(str())</h4>"
   ]
  },
  {
   "cell_type": "code",
   "execution_count": 24,
   "id": "f49a01b3-458e-42d2-9301-ca05e0c0b277",
   "metadata": {
    "tags": []
   },
   "outputs": [
    {
     "name": "stdout",
     "output_type": "stream",
     "text": [
      "'data.frame':\t3 obs. of  7 variables:\n",
      " $ name  : chr  \"kim\" \"park\" \"lee\"\n",
      " $ mid   : num  71 89 85\n",
      " $ final : num  83 74 91\n",
      " $ mean  : num  77 81.5 88\n",
      " $ attend: num  100 90 100\n",
      " $ hw    : num  100 90 80\n",
      " $ wmean : num  81.6 83.2 88.4\n"
     ]
    }
   ],
   "source": [
    "str(score)"
   ]
  },
  {
   "cell_type": "markdown",
   "id": "76dc5e96-4116-47a3-964f-777f10600f3e",
   "metadata": {
    "tags": []
   },
   "source": [
    "<hr>\n",
    "<h4>25. score의 내용 출력</h4>"
   ]
  },
  {
   "cell_type": "code",
   "execution_count": 25,
   "id": "7fc2dad6-1441-4225-98f8-70fe43195d38",
   "metadata": {
    "tags": []
   },
   "outputs": [
    {
     "name": "stdout",
     "output_type": "stream",
     "text": [
      "  name mid final mean attend  hw wmean\n",
      "1  kim  71    83 77.0    100 100  81.6\n",
      "2 park  89    74 81.5     90  90  83.2\n",
      "3  lee  85    91 88.0    100  80  88.4\n"
     ]
    }
   ],
   "source": [
    "print(score)"
   ]
  },
  {
   "cell_type": "markdown",
   "id": "c679e9f1-cea8-46bd-b280-abc345cb835e",
   "metadata": {
    "tags": []
   },
   "source": [
    "<hr>\n",
    "<h4>26. 내장 데이터 Orange를 myO로 저장</h4>"
   ]
  },
  {
   "cell_type": "code",
   "execution_count": 26,
   "id": "420203d4-4880-4340-b057-21dd584aef17",
   "metadata": {
    "tags": []
   },
   "outputs": [
    {
     "name": "stdout",
     "output_type": "stream",
     "text": [
      "   Tree  age circumference\n",
      "1     1  118            30\n",
      "2     1  484            58\n",
      "3     1  664            87\n",
      "4     1 1004           115\n",
      "5     1 1231           120\n",
      "6     1 1372           142\n",
      "7     1 1582           145\n",
      "8     2  118            33\n",
      "9     2  484            69\n",
      "10    2  664           111\n",
      "11    2 1004           156\n",
      "12    2 1231           172\n",
      "13    2 1372           203\n",
      "14    2 1582           203\n",
      "15    3  118            30\n",
      "16    3  484            51\n",
      "17    3  664            75\n",
      "18    3 1004           108\n",
      "19    3 1231           115\n",
      "20    3 1372           139\n",
      "21    3 1582           140\n",
      "22    4  118            32\n",
      "23    4  484            62\n",
      "24    4  664           112\n",
      "25    4 1004           167\n",
      "26    4 1231           179\n",
      "27    4 1372           209\n",
      "28    4 1582           214\n",
      "29    5  118            30\n",
      "30    5  484            49\n",
      "31    5  664            81\n",
      "32    5 1004           125\n",
      "33    5 1231           142\n",
      "34    5 1372           174\n",
      "35    5 1582           177\n"
     ]
    }
   ],
   "source": [
    "myO <- Orange\n",
    "print(myO)"
   ]
  },
  {
   "cell_type": "markdown",
   "id": "584dfa65-4990-4ebb-863f-218dfd6bdbcd",
   "metadata": {},
   "source": [
    "<hr>\n",
    "<h4>27. myO의 구조 출력</h4>"
   ]
  },
  {
   "cell_type": "code",
   "execution_count": 27,
   "id": "1aca9a57-2161-4ba6-bd43-5cdddd2576ef",
   "metadata": {
    "tags": []
   },
   "outputs": [
    {
     "name": "stdout",
     "output_type": "stream",
     "text": [
      "Classes ‘nfnGroupedData’, ‘nfGroupedData’, ‘groupedData’ and 'data.frame':\t35 obs. of  3 variables:\n",
      " $ Tree         : Ord.factor w/ 5 levels \"3\"<\"1\"<\"5\"<\"2\"<..: 2 2 2 2 2 2 2 4 4 4 ...\n",
      " $ age          : num  118 484 664 1004 1231 ...\n",
      " $ circumference: num  30 58 87 115 120 142 145 33 69 111 ...\n",
      " - attr(*, \"formula\")=Class 'formula'  language circumference ~ age | Tree\n",
      "  .. ..- attr(*, \".Environment\")=<environment: R_EmptyEnv> \n",
      " - attr(*, \"labels\")=List of 2\n",
      "  ..$ x: chr \"Time since December 31, 1968\"\n",
      "  ..$ y: chr \"Trunk circumference\"\n",
      " - attr(*, \"units\")=List of 2\n",
      "  ..$ x: chr \"(days)\"\n",
      "  ..$ y: chr \"(mm)\"\n"
     ]
    }
   ],
   "source": [
    "str(myO)"
   ]
  },
  {
   "cell_type": "markdown",
   "id": "8f1ea69b-2ddb-4ab7-894e-7f380cfc6236",
   "metadata": {
    "tags": []
   },
   "source": [
    "<hr>\n",
    "<h4>28. 변수 age의 오름차순으로 정렬</h4>"
   ]
  },
  {
   "cell_type": "code",
   "execution_count": 28,
   "id": "dcada31a-841a-42f3-b124-5580a4131e3e",
   "metadata": {
    "tags": []
   },
   "outputs": [
    {
     "data": {
      "text/html": [
       "<table class=\"dataframe\">\n",
       "<caption>A nfnGroupedData: 35 × 3</caption>\n",
       "<thead>\n",
       "\t<tr><th></th><th scope=col>Tree</th><th scope=col>age</th><th scope=col>circumference</th></tr>\n",
       "\t<tr><th></th><th scope=col>&lt;ord&gt;</th><th scope=col>&lt;dbl&gt;</th><th scope=col>&lt;dbl&gt;</th></tr>\n",
       "</thead>\n",
       "<tbody>\n",
       "\t<tr><th scope=row>1</th><td>1</td><td> 118</td><td> 30</td></tr>\n",
       "\t<tr><th scope=row>8</th><td>2</td><td> 118</td><td> 33</td></tr>\n",
       "\t<tr><th scope=row>15</th><td>3</td><td> 118</td><td> 30</td></tr>\n",
       "\t<tr><th scope=row>22</th><td>4</td><td> 118</td><td> 32</td></tr>\n",
       "\t<tr><th scope=row>29</th><td>5</td><td> 118</td><td> 30</td></tr>\n",
       "\t<tr><th scope=row>2</th><td>1</td><td> 484</td><td> 58</td></tr>\n",
       "\t<tr><th scope=row>9</th><td>2</td><td> 484</td><td> 69</td></tr>\n",
       "\t<tr><th scope=row>16</th><td>3</td><td> 484</td><td> 51</td></tr>\n",
       "\t<tr><th scope=row>23</th><td>4</td><td> 484</td><td> 62</td></tr>\n",
       "\t<tr><th scope=row>30</th><td>5</td><td> 484</td><td> 49</td></tr>\n",
       "\t<tr><th scope=row>3</th><td>1</td><td> 664</td><td> 87</td></tr>\n",
       "\t<tr><th scope=row>10</th><td>2</td><td> 664</td><td>111</td></tr>\n",
       "\t<tr><th scope=row>17</th><td>3</td><td> 664</td><td> 75</td></tr>\n",
       "\t<tr><th scope=row>24</th><td>4</td><td> 664</td><td>112</td></tr>\n",
       "\t<tr><th scope=row>31</th><td>5</td><td> 664</td><td> 81</td></tr>\n",
       "\t<tr><th scope=row>4</th><td>1</td><td>1004</td><td>115</td></tr>\n",
       "\t<tr><th scope=row>11</th><td>2</td><td>1004</td><td>156</td></tr>\n",
       "\t<tr><th scope=row>18</th><td>3</td><td>1004</td><td>108</td></tr>\n",
       "\t<tr><th scope=row>25</th><td>4</td><td>1004</td><td>167</td></tr>\n",
       "\t<tr><th scope=row>32</th><td>5</td><td>1004</td><td>125</td></tr>\n",
       "\t<tr><th scope=row>5</th><td>1</td><td>1231</td><td>120</td></tr>\n",
       "\t<tr><th scope=row>12</th><td>2</td><td>1231</td><td>172</td></tr>\n",
       "\t<tr><th scope=row>19</th><td>3</td><td>1231</td><td>115</td></tr>\n",
       "\t<tr><th scope=row>26</th><td>4</td><td>1231</td><td>179</td></tr>\n",
       "\t<tr><th scope=row>33</th><td>5</td><td>1231</td><td>142</td></tr>\n",
       "\t<tr><th scope=row>6</th><td>1</td><td>1372</td><td>142</td></tr>\n",
       "\t<tr><th scope=row>13</th><td>2</td><td>1372</td><td>203</td></tr>\n",
       "\t<tr><th scope=row>20</th><td>3</td><td>1372</td><td>139</td></tr>\n",
       "\t<tr><th scope=row>27</th><td>4</td><td>1372</td><td>209</td></tr>\n",
       "\t<tr><th scope=row>34</th><td>5</td><td>1372</td><td>174</td></tr>\n",
       "\t<tr><th scope=row>7</th><td>1</td><td>1582</td><td>145</td></tr>\n",
       "\t<tr><th scope=row>14</th><td>2</td><td>1582</td><td>203</td></tr>\n",
       "\t<tr><th scope=row>21</th><td>3</td><td>1582</td><td>140</td></tr>\n",
       "\t<tr><th scope=row>28</th><td>4</td><td>1582</td><td>214</td></tr>\n",
       "\t<tr><th scope=row>35</th><td>5</td><td>1582</td><td>177</td></tr>\n",
       "</tbody>\n",
       "</table>\n"
      ],
      "text/latex": [
       "A nfnGroupedData: 35 × 3\n",
       "\\begin{tabular}{r|lll}\n",
       "  & Tree & age & circumference\\\\\n",
       "  & <ord> & <dbl> & <dbl>\\\\\n",
       "\\hline\n",
       "\t1 & 1 &  118 &  30\\\\\n",
       "\t8 & 2 &  118 &  33\\\\\n",
       "\t15 & 3 &  118 &  30\\\\\n",
       "\t22 & 4 &  118 &  32\\\\\n",
       "\t29 & 5 &  118 &  30\\\\\n",
       "\t2 & 1 &  484 &  58\\\\\n",
       "\t9 & 2 &  484 &  69\\\\\n",
       "\t16 & 3 &  484 &  51\\\\\n",
       "\t23 & 4 &  484 &  62\\\\\n",
       "\t30 & 5 &  484 &  49\\\\\n",
       "\t3 & 1 &  664 &  87\\\\\n",
       "\t10 & 2 &  664 & 111\\\\\n",
       "\t17 & 3 &  664 &  75\\\\\n",
       "\t24 & 4 &  664 & 112\\\\\n",
       "\t31 & 5 &  664 &  81\\\\\n",
       "\t4 & 1 & 1004 & 115\\\\\n",
       "\t11 & 2 & 1004 & 156\\\\\n",
       "\t18 & 3 & 1004 & 108\\\\\n",
       "\t25 & 4 & 1004 & 167\\\\\n",
       "\t32 & 5 & 1004 & 125\\\\\n",
       "\t5 & 1 & 1231 & 120\\\\\n",
       "\t12 & 2 & 1231 & 172\\\\\n",
       "\t19 & 3 & 1231 & 115\\\\\n",
       "\t26 & 4 & 1231 & 179\\\\\n",
       "\t33 & 5 & 1231 & 142\\\\\n",
       "\t6 & 1 & 1372 & 142\\\\\n",
       "\t13 & 2 & 1372 & 203\\\\\n",
       "\t20 & 3 & 1372 & 139\\\\\n",
       "\t27 & 4 & 1372 & 209\\\\\n",
       "\t34 & 5 & 1372 & 174\\\\\n",
       "\t7 & 1 & 1582 & 145\\\\\n",
       "\t14 & 2 & 1582 & 203\\\\\n",
       "\t21 & 3 & 1582 & 140\\\\\n",
       "\t28 & 4 & 1582 & 214\\\\\n",
       "\t35 & 5 & 1582 & 177\\\\\n",
       "\\end{tabular}\n"
      ],
      "text/markdown": [
       "\n",
       "A nfnGroupedData: 35 × 3\n",
       "\n",
       "| <!--/--> | Tree &lt;ord&gt; | age &lt;dbl&gt; | circumference &lt;dbl&gt; |\n",
       "|---|---|---|---|\n",
       "| 1 | 1 |  118 |  30 |\n",
       "| 8 | 2 |  118 |  33 |\n",
       "| 15 | 3 |  118 |  30 |\n",
       "| 22 | 4 |  118 |  32 |\n",
       "| 29 | 5 |  118 |  30 |\n",
       "| 2 | 1 |  484 |  58 |\n",
       "| 9 | 2 |  484 |  69 |\n",
       "| 16 | 3 |  484 |  51 |\n",
       "| 23 | 4 |  484 |  62 |\n",
       "| 30 | 5 |  484 |  49 |\n",
       "| 3 | 1 |  664 |  87 |\n",
       "| 10 | 2 |  664 | 111 |\n",
       "| 17 | 3 |  664 |  75 |\n",
       "| 24 | 4 |  664 | 112 |\n",
       "| 31 | 5 |  664 |  81 |\n",
       "| 4 | 1 | 1004 | 115 |\n",
       "| 11 | 2 | 1004 | 156 |\n",
       "| 18 | 3 | 1004 | 108 |\n",
       "| 25 | 4 | 1004 | 167 |\n",
       "| 32 | 5 | 1004 | 125 |\n",
       "| 5 | 1 | 1231 | 120 |\n",
       "| 12 | 2 | 1231 | 172 |\n",
       "| 19 | 3 | 1231 | 115 |\n",
       "| 26 | 4 | 1231 | 179 |\n",
       "| 33 | 5 | 1231 | 142 |\n",
       "| 6 | 1 | 1372 | 142 |\n",
       "| 13 | 2 | 1372 | 203 |\n",
       "| 20 | 3 | 1372 | 139 |\n",
       "| 27 | 4 | 1372 | 209 |\n",
       "| 34 | 5 | 1372 | 174 |\n",
       "| 7 | 1 | 1582 | 145 |\n",
       "| 14 | 2 | 1582 | 203 |\n",
       "| 21 | 3 | 1582 | 140 |\n",
       "| 28 | 4 | 1582 | 214 |\n",
       "| 35 | 5 | 1582 | 177 |\n",
       "\n"
      ],
      "text/plain": [
       "   Tree age  circumference\n",
       "1  1     118  30          \n",
       "8  2     118  33          \n",
       "15 3     118  30          \n",
       "22 4     118  32          \n",
       "29 5     118  30          \n",
       "2  1     484  58          \n",
       "9  2     484  69          \n",
       "16 3     484  51          \n",
       "23 4     484  62          \n",
       "30 5     484  49          \n",
       "3  1     664  87          \n",
       "10 2     664 111          \n",
       "17 3     664  75          \n",
       "24 4     664 112          \n",
       "31 5     664  81          \n",
       "4  1    1004 115          \n",
       "11 2    1004 156          \n",
       "18 3    1004 108          \n",
       "25 4    1004 167          \n",
       "32 5    1004 125          \n",
       "5  1    1231 120          \n",
       "12 2    1231 172          \n",
       "19 3    1231 115          \n",
       "26 4    1231 179          \n",
       "33 5    1231 142          \n",
       "6  1    1372 142          \n",
       "13 2    1372 203          \n",
       "20 3    1372 139          \n",
       "27 4    1372 209          \n",
       "34 5    1372 174          \n",
       "7  1    1582 145          \n",
       "14 2    1582 203          \n",
       "21 3    1582 140          \n",
       "28 4    1582 214          \n",
       "35 5    1582 177          "
      ]
     },
     "metadata": {},
     "output_type": "display_data"
    }
   ],
   "source": [
    "myO[order(myO$age), ]"
   ]
  },
  {
   "cell_type": "markdown",
   "id": "56183c7e-fb8d-4a04-8a1f-a0038d9f25aa",
   "metadata": {
    "tags": []
   },
   "source": [
    "<hr>\n",
    "<h4>29. 변수 Tree의 값이 1인 데이터만 추출하여 o1에 저장</h4>"
   ]
  },
  {
   "cell_type": "code",
   "execution_count": 29,
   "id": "8ef5dca6-4635-470e-bb9d-2b157ddc468f",
   "metadata": {
    "tags": []
   },
   "outputs": [
    {
     "name": "stdout",
     "output_type": "stream",
     "text": [
      "  Tree  age circumference\n",
      "1    1  118            30\n",
      "2    1  484            58\n",
      "3    1  664            87\n",
      "4    1 1004           115\n",
      "5    1 1231           120\n",
      "6    1 1372           142\n",
      "7    1 1582           145\n"
     ]
    }
   ],
   "source": [
    "O1 <- myO[myO$Tree == 1, ]\n",
    "print(O1)"
   ]
  },
  {
   "cell_type": "markdown",
   "id": "cf4751f9-7b14-4ada-8c70-af657f7d3e5d",
   "metadata": {},
   "source": [
    "<hr>\n",
    "<h4>30. O2, O3, O4, O5도 마찬가지로 Tree의 값에 따라 데이터를 추출하여 저장</h4>"
   ]
  },
  {
   "cell_type": "code",
   "execution_count": 30,
   "id": "3bf39157-2988-42fb-8c60-efa9db64c952",
   "metadata": {
    "tags": []
   },
   "outputs": [
    {
     "name": "stdout",
     "output_type": "stream",
     "text": [
      "   Tree  age circumference\n",
      "8     2  118            33\n",
      "9     2  484            69\n",
      "10    2  664           111\n",
      "11    2 1004           156\n",
      "12    2 1231           172\n",
      "13    2 1372           203\n",
      "14    2 1582           203\n",
      "   Tree  age circumference\n",
      "15    3  118            30\n",
      "16    3  484            51\n",
      "17    3  664            75\n",
      "18    3 1004           108\n",
      "19    3 1231           115\n",
      "20    3 1372           139\n",
      "21    3 1582           140\n",
      "   Tree  age circumference\n",
      "22    4  118            32\n",
      "23    4  484            62\n",
      "24    4  664           112\n",
      "25    4 1004           167\n",
      "26    4 1231           179\n",
      "27    4 1372           209\n",
      "28    4 1582           214\n",
      "   Tree  age circumference\n",
      "29    5  118            30\n",
      "30    5  484            49\n",
      "31    5  664            81\n",
      "32    5 1004           125\n",
      "33    5 1231           142\n",
      "34    5 1372           174\n",
      "35    5 1582           177\n"
     ]
    }
   ],
   "source": [
    "O2 <- myO[myO$Tree==2, ]\n",
    "O3 <- myO[myO$Tree==3, ]\n",
    "O4 <- myO[myO$Tree==4, ]\n",
    "O5 <- myO[myO$Tree==5, ]\n",
    "print(O2)\n",
    "print(O3)\n",
    "print(O4)\n",
    "print(O5)"
   ]
  },
  {
   "cell_type": "markdown",
   "id": "a0694dec-d6f5-4880-89a8-d175f0f7cc1c",
   "metadata": {},
   "source": [
    "<hr>\n",
    "<h4>31. Tree의 값은 1, 2, 3, 4, 5의 5종류가 있다. 각 그룹별 circumference의 평균을\n",
    "구하여 벡터 average에 저장.</h4>"
   ]
  },
  {
   "cell_type": "code",
   "execution_count": 31,
   "id": "edf9ccc3-e2a2-4a83-ae02-a69de876036e",
   "metadata": {
    "tags": []
   },
   "outputs": [
    {
     "name": "stdout",
     "output_type": "stream",
     "text": [
      "[1]  99.57143 135.28571  94.00000 139.28571 111.14286\n"
     ]
    }
   ],
   "source": [
    "average <- c(mean(O1$circumference), mean(O2$circumference),mean(O3$circumference), mean(O4$circumference), mean(O5$circumference))\n",
    "\n",
    "print(average)"
   ]
  },
  {
   "cell_type": "markdown",
   "id": "4851c248-4c75-4a08-b50e-e2fa84194cf2",
   "metadata": {},
   "source": [
    "<hr>\n",
    "<h4>32. barplot(average, col=’gold’, border=’red’)를 이용하여 막대그래프 그리기</h4>"
   ]
  },
  {
   "cell_type": "code",
   "execution_count": 32,
   "id": "1e49b957-ad03-4c1a-9030-929696fe4cf9",
   "metadata": {
    "tags": []
   },
   "outputs": [
    {
     "data": {
      "image/png": "[encoded data removed]",
      "text/plain": [
       "plot without title"
      ]
     },
     "metadata": {
      "image/png": {
       "height": 420,
       "width": 420
      }
     },
     "output_type": "display_data"
    }
   ],
   "source": [
    "barplot(average, col='gold', border='red')"
   ]
  },
  {
   "cell_type": "markdown",
   "id": "dcdaab1f-c2d8-4839-b40e-515576682a58",
   "metadata": {},
   "source": [
    "<hr>\n",
    "<h3><도전 과제></h3>\n",
    "<h4>33. O1, O2, …, O5에서 circumference 변수만 각각 추\n",
    "출하여 오른쪽 그림과 같이 새로운 데이터 프레임 변수\n",
    "OO를 생성. age는 한 번만.(같은 age에 5개씩)</h4>"
   ]
  },
  {
   "cell_type": "code",
   "execution_count": 33,
   "id": "cc8c3d1e-b5b9-4aba-8bf6-6736aa2cd1f3",
   "metadata": {
    "tags": []
   },
   "outputs": [
    {
     "name": "stdout",
     "output_type": "stream",
     "text": [
      "   age  O1  O2  O3  O4  O5\n",
      "1  118  30  33  30  32  30\n",
      "2  484  58  69  51  62  49\n",
      "3  664  87 111  75 112  81\n",
      "4 1004 115 156 108 167 125\n",
      "5 1231 120 172 115 179 142\n",
      "6 1372 142 203 139 209 174\n",
      "7 1582 145 203 140 214 177\n"
     ]
    }
   ],
   "source": [
    "OO <- data.frame(age = O1$age, O1 = O1$circumference, O2 = O2$circumference, O3 = O3$circumference, O4 = O4$circumference, O5 = O5$circumference)\n",
    "print(OO)"
   ]
  }
 ],
 "metadata": {
  "kernelspec": {
   "display_name": "R",
   "language": "R",
   "name": "ir"
  },
  "language_info": {
   "codemirror_mode": "r",
   "file_extension": ".r",
   "mimetype": "text/x-r-source",
   "name": "R",
   "pygments_lexer": "r",
   "version": "4.3.1"
  }
 },
 "nbformat": 4,
 "nbformat_minor": 5
}
