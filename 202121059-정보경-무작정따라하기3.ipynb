{
 "cells": [
  {
   "cell_type": "markdown",
   "id": "71d79fdb-ee06-4c56-a5a7-a8b71c4aea87",
   "metadata": {},
   "source": [
    "<h1>무작정 따라하기 - 3</h1>\n",
    "<h3>10월 31일 (수)</h3>\n",
    "<hr>"
   ]
  },
  {
   "cell_type": "code",
   "execution_count": 1,
   "id": "7fb02c48-7576-4333-a41b-61e5c689b892",
   "metadata": {
    "tags": []
   },
   "outputs": [
    {
     "data": {
      "text/html": [
       "'/home/students/cs/202121059'"
      ],
      "text/latex": [
       "'/home/students/cs/202121059'"
      ],
      "text/markdown": [
       "'/home/students/cs/202121059'"
      ],
      "text/plain": [
       "[1] \"/home/students/cs/202121059\""
      ]
     },
     "metadata": {},
     "output_type": "display_data"
    }
   ],
   "source": [
    "getwd()"
   ]
  },
  {
   "cell_type": "code",
   "execution_count": 2,
   "id": "b2164bdd-b660-4719-a840-dbdbc45241d6",
   "metadata": {
    "tags": []
   },
   "outputs": [
    {
     "data": {
      "text/html": [
       "<style>\n",
       ".list-inline {list-style: none; margin:0; padding: 0}\n",
       ".list-inline>li {display: inline-block}\n",
       ".list-inline>li:not(:last-child)::after {content: \"\\00b7\"; padding: 0 .5ex}\n",
       "</style>\n",
       "<ol class=list-inline><li>'0907.ipynb'</li><li>'1101 실습.ipynb'</li><li>'2015년 초미세먼지.xlsx'</li><li>'202121059-무작정따라하기.ipynb'</li><li>'202121059-정보경-무작정따라하기3.ipynb'</li><li>'202121059-정보경-exercise-2-1.ipynb'</li><li>'202121059-정보경-exercise-3.ipynb'</li><li>'202121059-exercise-1.ipynb'</li><li>'202121509-정보경-무작정 따라하기-2.ipynb'</li><li>'2022년_도로교통공단_시군구별 월별 교통사고 통계.xlsx'</li><li>'20231030.ipynb'</li><li>'231002.ipynb'</li><li>'231004.ipynb'</li><li>'프활 준비.ipynb'</li><li>'air_2021.xlsx'</li><li>'cb.xlsx'</li><li>'merge.xlsx'</li><li>'newdata.csv'</li><li>'newdata.xlsx'</li><li>'public_html'</li><li>'sample-CP949.csv'</li><li>'sample-UTF8.csv'</li><li>'sample.xlsx'</li><li>'Untitled.ipynb'</li><li>'Untitled1.ipynb'</li><li>'Untitled2.ipynb'</li><li>'Untitled3.ipynb'</li></ol>\n"
      ],
      "text/latex": [
       "\\begin{enumerate*}\n",
       "\\item '0907.ipynb'\n",
       "\\item '1101 실습.ipynb'\n",
       "\\item '2015년 초미세먼지.xlsx'\n",
       "\\item '202121059-무작정따라하기.ipynb'\n",
       "\\item '202121059-정보경-무작정따라하기3.ipynb'\n",
       "\\item '202121059-정보경-exercise-2-1.ipynb'\n",
       "\\item '202121059-정보경-exercise-3.ipynb'\n",
       "\\item '202121059-exercise-1.ipynb'\n",
       "\\item '202121509-정보경-무작정 따라하기-2.ipynb'\n",
       "\\item '2022년\\_도로교통공단\\_시군구별 월별 교통사고 통계.xlsx'\n",
       "\\item '20231030.ipynb'\n",
       "\\item '231002.ipynb'\n",
       "\\item '231004.ipynb'\n",
       "\\item '프활 준비.ipynb'\n",
       "\\item 'air\\_2021.xlsx'\n",
       "\\item 'cb.xlsx'\n",
       "\\item 'merge.xlsx'\n",
       "\\item 'newdata.csv'\n",
       "\\item 'newdata.xlsx'\n",
       "\\item 'public\\_html'\n",
       "\\item 'sample-CP949.csv'\n",
       "\\item 'sample-UTF8.csv'\n",
       "\\item 'sample.xlsx'\n",
       "\\item 'Untitled.ipynb'\n",
       "\\item 'Untitled1.ipynb'\n",
       "\\item 'Untitled2.ipynb'\n",
       "\\item 'Untitled3.ipynb'\n",
       "\\end{enumerate*}\n"
      ],
      "text/markdown": [
       "1. '0907.ipynb'\n",
       "2. '1101 실습.ipynb'\n",
       "3. '2015년 초미세먼지.xlsx'\n",
       "4. '202121059-무작정따라하기.ipynb'\n",
       "5. '202121059-정보경-무작정따라하기3.ipynb'\n",
       "6. '202121059-정보경-exercise-2-1.ipynb'\n",
       "7. '202121059-정보경-exercise-3.ipynb'\n",
       "8. '202121059-exercise-1.ipynb'\n",
       "9. '202121509-정보경-무작정 따라하기-2.ipynb'\n",
       "10. '2022년_도로교통공단_시군구별 월별 교통사고 통계.xlsx'\n",
       "11. '20231030.ipynb'\n",
       "12. '231002.ipynb'\n",
       "13. '231004.ipynb'\n",
       "14. '프활 준비.ipynb'\n",
       "15. 'air_2021.xlsx'\n",
       "16. 'cb.xlsx'\n",
       "17. 'merge.xlsx'\n",
       "18. 'newdata.csv'\n",
       "19. 'newdata.xlsx'\n",
       "20. 'public_html'\n",
       "21. 'sample-CP949.csv'\n",
       "22. 'sample-UTF8.csv'\n",
       "23. 'sample.xlsx'\n",
       "24. 'Untitled.ipynb'\n",
       "25. 'Untitled1.ipynb'\n",
       "26. 'Untitled2.ipynb'\n",
       "27. 'Untitled3.ipynb'\n",
       "\n",
       "\n"
      ],
      "text/plain": [
       " [1] \"0907.ipynb\"                                          \n",
       " [2] \"1101 실습.ipynb\"                                     \n",
       " [3] \"2015년 초미세먼지.xlsx\"                              \n",
       " [4] \"202121059-무작정따라하기.ipynb\"                      \n",
       " [5] \"202121059-정보경-무작정따라하기3.ipynb\"              \n",
       " [6] \"202121059-정보경-exercise-2-1.ipynb\"                 \n",
       " [7] \"202121059-정보경-exercise-3.ipynb\"                   \n",
       " [8] \"202121059-exercise-1.ipynb\"                          \n",
       " [9] \"202121509-정보경-무작정 따라하기-2.ipynb\"            \n",
       "[10] \"2022년_도로교통공단_시군구별 월별 교통사고 통계.xlsx\"\n",
       "[11] \"20231030.ipynb\"                                      \n",
       "[12] \"231002.ipynb\"                                        \n",
       "[13] \"231004.ipynb\"                                        \n",
       "[14] \"프활 준비.ipynb\"                                     \n",
       "[15] \"air_2021.xlsx\"                                       \n",
       "[16] \"cb.xlsx\"                                             \n",
       "[17] \"merge.xlsx\"                                          \n",
       "[18] \"newdata.csv\"                                         \n",
       "[19] \"newdata.xlsx\"                                        \n",
       "[20] \"public_html\"                                         \n",
       "[21] \"sample-CP949.csv\"                                    \n",
       "[22] \"sample-UTF8.csv\"                                     \n",
       "[23] \"sample.xlsx\"                                         \n",
       "[24] \"Untitled.ipynb\"                                      \n",
       "[25] \"Untitled1.ipynb\"                                     \n",
       "[26] \"Untitled2.ipynb\"                                     \n",
       "[27] \"Untitled3.ipynb\"                                     "
      ]
     },
     "metadata": {},
     "output_type": "display_data"
    }
   ],
   "source": [
    "list.files()"
   ]
  },
  {
   "cell_type": "code",
   "execution_count": 3,
   "id": "71e742e3-16c2-4ba1-bf31-8dc3f5c7880c",
   "metadata": {
    "tags": []
   },
   "outputs": [
    {
     "name": "stderr",
     "output_type": "stream",
     "text": [
      "Warning message in file(file, \"rt\"):\n",
      "“파일 'sample-C949.csv'를 여는데 실패했습니다: 그런 파일이나 디렉터리가 없습니다”\n"
     ]
    },
    {
     "ename": "ERROR",
     "evalue": "Error in file(file, \"rt\"): 커넥션을 열 수 없습니다\n",
     "output_type": "error",
     "traceback": [
      "Error in file(file, \"rt\"): 커넥션을 열 수 없습니다\nTraceback:\n",
      "1. read.csv(\"sample-C949.csv\")",
      "2. read.table(file = file, header = header, sep = sep, quote = quote, \n .     dec = dec, fill = fill, comment.char = comment.char, ...)",
      "3. file(file, \"rt\")"
     ]
    }
   ],
   "source": [
    "data <- read.csv(\"sample-C949.csv\")"
   ]
  },
  {
   "cell_type": "code",
   "execution_count": 4,
   "id": "a19114ca-dc74-48da-ac8f-9c334c09c93f",
   "metadata": {
    "tags": []
   },
   "outputs": [
    {
     "data": {
      "text/html": [
       "<table class=\"dataframe\">\n",
       "<caption>A data.frame: 10 × 5</caption>\n",
       "<thead>\n",
       "\t<tr><th scope=col>날짜</th><th scope=col>시도</th><th scope=col>시군구</th><th scope=col>사고건수</th><th scope=col>사망자수</th></tr>\n",
       "\t<tr><th scope=col>&lt;int&gt;</th><th scope=col>&lt;chr&gt;</th><th scope=col>&lt;chr&gt;</th><th scope=col>&lt;int&gt;</th><th scope=col>&lt;int&gt;</th></tr>\n",
       "</thead>\n",
       "<tbody>\n",
       "\t<tr><td>20220101</td><td>서울</td><td>강남구  </td><td>9</td><td>0</td></tr>\n",
       "\t<tr><td>20220101</td><td>서울</td><td>용산구  </td><td>4</td><td>0</td></tr>\n",
       "\t<tr><td>20220101</td><td>서울</td><td>성동구  </td><td>1</td><td>0</td></tr>\n",
       "\t<tr><td>20220101</td><td>서울</td><td>동대문구</td><td>2</td><td>0</td></tr>\n",
       "\t<tr><td>20220101</td><td>서울</td><td>도봉구  </td><td>5</td><td>0</td></tr>\n",
       "\t<tr><td>20220101</td><td>서울</td><td>은평구  </td><td>3</td><td>0</td></tr>\n",
       "\t<tr><td>20220101</td><td>서울</td><td>서대문구</td><td>1</td><td>0</td></tr>\n",
       "\t<tr><td>20220101</td><td>서울</td><td>마포구  </td><td>2</td><td>0</td></tr>\n",
       "\t<tr><td>20220102</td><td>서울</td><td>강남구  </td><td>3</td><td>0</td></tr>\n",
       "\t<tr><td>20220101</td><td>서울</td><td>구로구  </td><td>2</td><td>0</td></tr>\n",
       "</tbody>\n",
       "</table>\n"
      ],
      "text/latex": [
       "A data.frame: 10 × 5\n",
       "\\begin{tabular}{lllll}\n",
       " 날짜 & 시도 & 시군구 & 사고건수 & 사망자수\\\\\n",
       " <int> & <chr> & <chr> & <int> & <int>\\\\\n",
       "\\hline\n",
       "\t 20220101 & 서울 & 강남구   & 9 & 0\\\\\n",
       "\t 20220101 & 서울 & 용산구   & 4 & 0\\\\\n",
       "\t 20220101 & 서울 & 성동구   & 1 & 0\\\\\n",
       "\t 20220101 & 서울 & 동대문구 & 2 & 0\\\\\n",
       "\t 20220101 & 서울 & 도봉구   & 5 & 0\\\\\n",
       "\t 20220101 & 서울 & 은평구   & 3 & 0\\\\\n",
       "\t 20220101 & 서울 & 서대문구 & 1 & 0\\\\\n",
       "\t 20220101 & 서울 & 마포구   & 2 & 0\\\\\n",
       "\t 20220102 & 서울 & 강남구   & 3 & 0\\\\\n",
       "\t 20220101 & 서울 & 구로구   & 2 & 0\\\\\n",
       "\\end{tabular}\n"
      ],
      "text/markdown": [
       "\n",
       "A data.frame: 10 × 5\n",
       "\n",
       "| 날짜 &lt;int&gt; | 시도 &lt;chr&gt; | 시군구 &lt;chr&gt; | 사고건수 &lt;int&gt; | 사망자수 &lt;int&gt; |\n",
       "|---|---|---|---|---|\n",
       "| 20220101 | 서울 | 강남구   | 9 | 0 |\n",
       "| 20220101 | 서울 | 용산구   | 4 | 0 |\n",
       "| 20220101 | 서울 | 성동구   | 1 | 0 |\n",
       "| 20220101 | 서울 | 동대문구 | 2 | 0 |\n",
       "| 20220101 | 서울 | 도봉구   | 5 | 0 |\n",
       "| 20220101 | 서울 | 은평구   | 3 | 0 |\n",
       "| 20220101 | 서울 | 서대문구 | 1 | 0 |\n",
       "| 20220101 | 서울 | 마포구   | 2 | 0 |\n",
       "| 20220102 | 서울 | 강남구   | 3 | 0 |\n",
       "| 20220101 | 서울 | 구로구   | 2 | 0 |\n",
       "\n"
      ],
      "text/plain": [
       "   날짜     시도 시군구   사고건수 사망자수\n",
       "1  20220101 서울 강남구   9        0       \n",
       "2  20220101 서울 용산구   4        0       \n",
       "3  20220101 서울 성동구   1        0       \n",
       "4  20220101 서울 동대문구 2        0       \n",
       "5  20220101 서울 도봉구   5        0       \n",
       "6  20220101 서울 은평구   3        0       \n",
       "7  20220101 서울 서대문구 1        0       \n",
       "8  20220101 서울 마포구   2        0       \n",
       "9  20220102 서울 강남구   3        0       \n",
       "10 20220101 서울 구로구   2        0       "
      ]
     },
     "metadata": {},
     "output_type": "display_data"
    }
   ],
   "source": [
    "data <- read.csv(\"sample-CP949.csv\", fileEncoding=\"CP949\")\n",
    "data"
   ]
  },
  {
   "cell_type": "code",
   "execution_count": 5,
   "id": "2fa6bb97-66be-425d-93b9-43e0d7830ff7",
   "metadata": {
    "tags": []
   },
   "outputs": [
    {
     "data": {
      "text/html": [
       "<table class=\"dataframe\">\n",
       "<caption>A data.frame: 10 × 5</caption>\n",
       "<thead>\n",
       "\t<tr><th scope=col>날짜</th><th scope=col>시도</th><th scope=col>시군구</th><th scope=col>사고건수</th><th scope=col>사망자수</th></tr>\n",
       "\t<tr><th scope=col>&lt;int&gt;</th><th scope=col>&lt;chr&gt;</th><th scope=col>&lt;chr&gt;</th><th scope=col>&lt;int&gt;</th><th scope=col>&lt;int&gt;</th></tr>\n",
       "</thead>\n",
       "<tbody>\n",
       "\t<tr><td>20220101</td><td>서울</td><td>강남구  </td><td>9</td><td>0</td></tr>\n",
       "\t<tr><td>20220101</td><td>서울</td><td>용산구  </td><td>4</td><td>0</td></tr>\n",
       "\t<tr><td>20220101</td><td>서울</td><td>성동구  </td><td>1</td><td>0</td></tr>\n",
       "\t<tr><td>20220101</td><td>서울</td><td>동대문구</td><td>2</td><td>0</td></tr>\n",
       "\t<tr><td>20220101</td><td>서울</td><td>도봉구  </td><td>5</td><td>0</td></tr>\n",
       "\t<tr><td>20220101</td><td>서울</td><td>은평구  </td><td>3</td><td>0</td></tr>\n",
       "\t<tr><td>20220101</td><td>서울</td><td>서대문구</td><td>1</td><td>0</td></tr>\n",
       "\t<tr><td>20220101</td><td>서울</td><td>마포구  </td><td>2</td><td>0</td></tr>\n",
       "\t<tr><td>20220102</td><td>서울</td><td>강남구  </td><td>3</td><td>0</td></tr>\n",
       "\t<tr><td>20220101</td><td>서울</td><td>구로구  </td><td>2</td><td>0</td></tr>\n",
       "</tbody>\n",
       "</table>\n"
      ],
      "text/latex": [
       "A data.frame: 10 × 5\n",
       "\\begin{tabular}{lllll}\n",
       " 날짜 & 시도 & 시군구 & 사고건수 & 사망자수\\\\\n",
       " <int> & <chr> & <chr> & <int> & <int>\\\\\n",
       "\\hline\n",
       "\t 20220101 & 서울 & 강남구   & 9 & 0\\\\\n",
       "\t 20220101 & 서울 & 용산구   & 4 & 0\\\\\n",
       "\t 20220101 & 서울 & 성동구   & 1 & 0\\\\\n",
       "\t 20220101 & 서울 & 동대문구 & 2 & 0\\\\\n",
       "\t 20220101 & 서울 & 도봉구   & 5 & 0\\\\\n",
       "\t 20220101 & 서울 & 은평구   & 3 & 0\\\\\n",
       "\t 20220101 & 서울 & 서대문구 & 1 & 0\\\\\n",
       "\t 20220101 & 서울 & 마포구   & 2 & 0\\\\\n",
       "\t 20220102 & 서울 & 강남구   & 3 & 0\\\\\n",
       "\t 20220101 & 서울 & 구로구   & 2 & 0\\\\\n",
       "\\end{tabular}\n"
      ],
      "text/markdown": [
       "\n",
       "A data.frame: 10 × 5\n",
       "\n",
       "| 날짜 &lt;int&gt; | 시도 &lt;chr&gt; | 시군구 &lt;chr&gt; | 사고건수 &lt;int&gt; | 사망자수 &lt;int&gt; |\n",
       "|---|---|---|---|---|\n",
       "| 20220101 | 서울 | 강남구   | 9 | 0 |\n",
       "| 20220101 | 서울 | 용산구   | 4 | 0 |\n",
       "| 20220101 | 서울 | 성동구   | 1 | 0 |\n",
       "| 20220101 | 서울 | 동대문구 | 2 | 0 |\n",
       "| 20220101 | 서울 | 도봉구   | 5 | 0 |\n",
       "| 20220101 | 서울 | 은평구   | 3 | 0 |\n",
       "| 20220101 | 서울 | 서대문구 | 1 | 0 |\n",
       "| 20220101 | 서울 | 마포구   | 2 | 0 |\n",
       "| 20220102 | 서울 | 강남구   | 3 | 0 |\n",
       "| 20220101 | 서울 | 구로구   | 2 | 0 |\n",
       "\n"
      ],
      "text/plain": [
       "   날짜     시도 시군구   사고건수 사망자수\n",
       "1  20220101 서울 강남구   9        0       \n",
       "2  20220101 서울 용산구   4        0       \n",
       "3  20220101 서울 성동구   1        0       \n",
       "4  20220101 서울 동대문구 2        0       \n",
       "5  20220101 서울 도봉구   5        0       \n",
       "6  20220101 서울 은평구   3        0       \n",
       "7  20220101 서울 서대문구 1        0       \n",
       "8  20220101 서울 마포구   2        0       \n",
       "9  20220102 서울 강남구   3        0       \n",
       "10 20220101 서울 구로구   2        0       "
      ]
     },
     "metadata": {},
     "output_type": "display_data"
    }
   ],
   "source": [
    "data <- read.csv(\"sample-UTF8.csv\")\n",
    "data"
   ]
  },
  {
   "cell_type": "code",
   "execution_count": 6,
   "id": "523e7bbb-6882-4577-996f-8e9a6f1a15af",
   "metadata": {
    "tags": []
   },
   "outputs": [
    {
     "data": {
      "text/html": [
       "<table class=\"dataframe\">\n",
       "<caption>A data.frame: 10 × 6</caption>\n",
       "<thead>\n",
       "\t<tr><th scope=col>날짜</th><th scope=col>시도</th><th scope=col>시군구</th><th scope=col>사고건수</th><th scope=col>사망자수</th><th scope=col>지역</th></tr>\n",
       "\t<tr><th scope=col>&lt;int&gt;</th><th scope=col>&lt;chr&gt;</th><th scope=col>&lt;chr&gt;</th><th scope=col>&lt;int&gt;</th><th scope=col>&lt;int&gt;</th><th scope=col>&lt;chr&gt;</th></tr>\n",
       "</thead>\n",
       "<tbody>\n",
       "\t<tr><td>20220101</td><td>서울</td><td>강남구  </td><td>9</td><td>0</td><td>서울 강남구  </td></tr>\n",
       "\t<tr><td>20220101</td><td>서울</td><td>용산구  </td><td>4</td><td>0</td><td>서울 용산구  </td></tr>\n",
       "\t<tr><td>20220101</td><td>서울</td><td>성동구  </td><td>1</td><td>0</td><td>서울 성동구  </td></tr>\n",
       "\t<tr><td>20220101</td><td>서울</td><td>동대문구</td><td>2</td><td>0</td><td>서울 동대문구</td></tr>\n",
       "\t<tr><td>20220101</td><td>서울</td><td>도봉구  </td><td>5</td><td>0</td><td>서울 도봉구  </td></tr>\n",
       "\t<tr><td>20220101</td><td>서울</td><td>은평구  </td><td>3</td><td>0</td><td>서울 은평구  </td></tr>\n",
       "\t<tr><td>20220101</td><td>서울</td><td>서대문구</td><td>1</td><td>0</td><td>서울 서대문구</td></tr>\n",
       "\t<tr><td>20220101</td><td>서울</td><td>마포구  </td><td>2</td><td>0</td><td>서울 마포구  </td></tr>\n",
       "\t<tr><td>20220102</td><td>서울</td><td>강남구  </td><td>3</td><td>0</td><td>서울 강남구  </td></tr>\n",
       "\t<tr><td>20220101</td><td>서울</td><td>구로구  </td><td>2</td><td>0</td><td>서울 구로구  </td></tr>\n",
       "</tbody>\n",
       "</table>\n"
      ],
      "text/latex": [
       "A data.frame: 10 × 6\n",
       "\\begin{tabular}{llllll}\n",
       " 날짜 & 시도 & 시군구 & 사고건수 & 사망자수 & 지역\\\\\n",
       " <int> & <chr> & <chr> & <int> & <int> & <chr>\\\\\n",
       "\\hline\n",
       "\t 20220101 & 서울 & 강남구   & 9 & 0 & 서울 강남구  \\\\\n",
       "\t 20220101 & 서울 & 용산구   & 4 & 0 & 서울 용산구  \\\\\n",
       "\t 20220101 & 서울 & 성동구   & 1 & 0 & 서울 성동구  \\\\\n",
       "\t 20220101 & 서울 & 동대문구 & 2 & 0 & 서울 동대문구\\\\\n",
       "\t 20220101 & 서울 & 도봉구   & 5 & 0 & 서울 도봉구  \\\\\n",
       "\t 20220101 & 서울 & 은평구   & 3 & 0 & 서울 은평구  \\\\\n",
       "\t 20220101 & 서울 & 서대문구 & 1 & 0 & 서울 서대문구\\\\\n",
       "\t 20220101 & 서울 & 마포구   & 2 & 0 & 서울 마포구  \\\\\n",
       "\t 20220102 & 서울 & 강남구   & 3 & 0 & 서울 강남구  \\\\\n",
       "\t 20220101 & 서울 & 구로구   & 2 & 0 & 서울 구로구  \\\\\n",
       "\\end{tabular}\n"
      ],
      "text/markdown": [
       "\n",
       "A data.frame: 10 × 6\n",
       "\n",
       "| 날짜 &lt;int&gt; | 시도 &lt;chr&gt; | 시군구 &lt;chr&gt; | 사고건수 &lt;int&gt; | 사망자수 &lt;int&gt; | 지역 &lt;chr&gt; |\n",
       "|---|---|---|---|---|---|\n",
       "| 20220101 | 서울 | 강남구   | 9 | 0 | 서울 강남구   |\n",
       "| 20220101 | 서울 | 용산구   | 4 | 0 | 서울 용산구   |\n",
       "| 20220101 | 서울 | 성동구   | 1 | 0 | 서울 성동구   |\n",
       "| 20220101 | 서울 | 동대문구 | 2 | 0 | 서울 동대문구 |\n",
       "| 20220101 | 서울 | 도봉구   | 5 | 0 | 서울 도봉구   |\n",
       "| 20220101 | 서울 | 은평구   | 3 | 0 | 서울 은평구   |\n",
       "| 20220101 | 서울 | 서대문구 | 1 | 0 | 서울 서대문구 |\n",
       "| 20220101 | 서울 | 마포구   | 2 | 0 | 서울 마포구   |\n",
       "| 20220102 | 서울 | 강남구   | 3 | 0 | 서울 강남구   |\n",
       "| 20220101 | 서울 | 구로구   | 2 | 0 | 서울 구로구   |\n",
       "\n"
      ],
      "text/plain": [
       "   날짜     시도 시군구   사고건수 사망자수 지역         \n",
       "1  20220101 서울 강남구   9        0        서울 강남구  \n",
       "2  20220101 서울 용산구   4        0        서울 용산구  \n",
       "3  20220101 서울 성동구   1        0        서울 성동구  \n",
       "4  20220101 서울 동대문구 2        0        서울 동대문구\n",
       "5  20220101 서울 도봉구   5        0        서울 도봉구  \n",
       "6  20220101 서울 은평구   3        0        서울 은평구  \n",
       "7  20220101 서울 서대문구 1        0        서울 서대문구\n",
       "8  20220101 서울 마포구   2        0        서울 마포구  \n",
       "9  20220102 서울 강남구   3        0        서울 강남구  \n",
       "10 20220101 서울 구로구   2        0        서울 구로구  "
      ]
     },
     "metadata": {},
     "output_type": "display_data"
    }
   ],
   "source": [
    "data$지역 <- paste(data$시도, data$시군구)\n",
    "data"
   ]
  },
  {
   "cell_type": "code",
   "execution_count": 7,
   "id": "06cc4d3c-9c12-4ade-8b42-849fe197c734",
   "metadata": {
    "tags": []
   },
   "outputs": [],
   "source": [
    "write.csv(data, \"newdata.csv\", row.names = F)"
   ]
  },
  {
   "cell_type": "code",
   "execution_count": 8,
   "id": "2a77d5c8-753f-4549-b47e-f398f87c95bb",
   "metadata": {
    "tags": []
   },
   "outputs": [],
   "source": [
    "library(readxl)\n",
    "library(writexl)"
   ]
  },
  {
   "cell_type": "code",
   "execution_count": 9,
   "id": "2deed0b6-4db9-4a33-a996-b50cbf75016b",
   "metadata": {
    "tags": []
   },
   "outputs": [
    {
     "data": {
      "text/html": [
       "<table class=\"dataframe\">\n",
       "<caption>A tibble: 10 × 5</caption>\n",
       "<thead>\n",
       "\t<tr><th scope=col>날짜</th><th scope=col>시도</th><th scope=col>시군구</th><th scope=col>사고건수</th><th scope=col>사망자수</th></tr>\n",
       "\t<tr><th scope=col>&lt;dbl&gt;</th><th scope=col>&lt;chr&gt;</th><th scope=col>&lt;chr&gt;</th><th scope=col>&lt;dbl&gt;</th><th scope=col>&lt;dbl&gt;</th></tr>\n",
       "</thead>\n",
       "<tbody>\n",
       "\t<tr><td>20220101</td><td>서울</td><td>강남구  </td><td>9</td><td>0</td></tr>\n",
       "\t<tr><td>20220101</td><td>서울</td><td>용산구  </td><td>4</td><td>0</td></tr>\n",
       "\t<tr><td>20220101</td><td>서울</td><td>성동구  </td><td>1</td><td>0</td></tr>\n",
       "\t<tr><td>20220101</td><td>서울</td><td>동대문구</td><td>2</td><td>0</td></tr>\n",
       "\t<tr><td>20220101</td><td>서울</td><td>도봉구  </td><td>5</td><td>0</td></tr>\n",
       "\t<tr><td>20220101</td><td>서울</td><td>은평구  </td><td>3</td><td>0</td></tr>\n",
       "\t<tr><td>20220101</td><td>서울</td><td>서대문구</td><td>1</td><td>0</td></tr>\n",
       "\t<tr><td>20220101</td><td>서울</td><td>마포구  </td><td>2</td><td>0</td></tr>\n",
       "\t<tr><td>20220102</td><td>서울</td><td>강남구  </td><td>3</td><td>0</td></tr>\n",
       "\t<tr><td>20220101</td><td>서울</td><td>구로구  </td><td>2</td><td>0</td></tr>\n",
       "</tbody>\n",
       "</table>\n"
      ],
      "text/latex": [
       "A tibble: 10 × 5\n",
       "\\begin{tabular}{lllll}\n",
       " 날짜 & 시도 & 시군구 & 사고건수 & 사망자수\\\\\n",
       " <dbl> & <chr> & <chr> & <dbl> & <dbl>\\\\\n",
       "\\hline\n",
       "\t 20220101 & 서울 & 강남구   & 9 & 0\\\\\n",
       "\t 20220101 & 서울 & 용산구   & 4 & 0\\\\\n",
       "\t 20220101 & 서울 & 성동구   & 1 & 0\\\\\n",
       "\t 20220101 & 서울 & 동대문구 & 2 & 0\\\\\n",
       "\t 20220101 & 서울 & 도봉구   & 5 & 0\\\\\n",
       "\t 20220101 & 서울 & 은평구   & 3 & 0\\\\\n",
       "\t 20220101 & 서울 & 서대문구 & 1 & 0\\\\\n",
       "\t 20220101 & 서울 & 마포구   & 2 & 0\\\\\n",
       "\t 20220102 & 서울 & 강남구   & 3 & 0\\\\\n",
       "\t 20220101 & 서울 & 구로구   & 2 & 0\\\\\n",
       "\\end{tabular}\n"
      ],
      "text/markdown": [
       "\n",
       "A tibble: 10 × 5\n",
       "\n",
       "| 날짜 &lt;dbl&gt; | 시도 &lt;chr&gt; | 시군구 &lt;chr&gt; | 사고건수 &lt;dbl&gt; | 사망자수 &lt;dbl&gt; |\n",
       "|---|---|---|---|---|\n",
       "| 20220101 | 서울 | 강남구   | 9 | 0 |\n",
       "| 20220101 | 서울 | 용산구   | 4 | 0 |\n",
       "| 20220101 | 서울 | 성동구   | 1 | 0 |\n",
       "| 20220101 | 서울 | 동대문구 | 2 | 0 |\n",
       "| 20220101 | 서울 | 도봉구   | 5 | 0 |\n",
       "| 20220101 | 서울 | 은평구   | 3 | 0 |\n",
       "| 20220101 | 서울 | 서대문구 | 1 | 0 |\n",
       "| 20220101 | 서울 | 마포구   | 2 | 0 |\n",
       "| 20220102 | 서울 | 강남구   | 3 | 0 |\n",
       "| 20220101 | 서울 | 구로구   | 2 | 0 |\n",
       "\n"
      ],
      "text/plain": [
       "   날짜     시도 시군구   사고건수 사망자수\n",
       "1  20220101 서울 강남구   9        0       \n",
       "2  20220101 서울 용산구   4        0       \n",
       "3  20220101 서울 성동구   1        0       \n",
       "4  20220101 서울 동대문구 2        0       \n",
       "5  20220101 서울 도봉구   5        0       \n",
       "6  20220101 서울 은평구   3        0       \n",
       "7  20220101 서울 서대문구 1        0       \n",
       "8  20220101 서울 마포구   2        0       \n",
       "9  20220102 서울 강남구   3        0       \n",
       "10 20220101 서울 구로구   2        0       "
      ]
     },
     "metadata": {},
     "output_type": "display_data"
    }
   ],
   "source": [
    "data <- read_xlsx(\"sample.xlsx\")\n",
    "data"
   ]
  },
  {
   "cell_type": "code",
   "execution_count": 10,
   "id": "8ea26743-e82a-4b4d-9819-5694498a57af",
   "metadata": {
    "tags": []
   },
   "outputs": [],
   "source": [
    "write_xlsx(data, \"newdata.xlsx\")"
   ]
  },
  {
   "cell_type": "code",
   "execution_count": 11,
   "id": "081d4b3e-6329-4758-94c5-ed3182b9a6ba",
   "metadata": {},
   "outputs": [
    {
     "data": {
      "text/html": [
       "<table class=\"dataframe\">\n",
       "<caption>A tibble: 6 × 8</caption>\n",
       "<thead>\n",
       "\t<tr><th scope=col>시도</th><th scope=col>시군구</th><th scope=col>발생월</th><th scope=col>사고건수</th><th scope=col>사망자수</th><th scope=col>중상자수</th><th scope=col>경상자수</th><th scope=col>부상신고자수</th></tr>\n",
       "\t<tr><th scope=col>&lt;chr&gt;</th><th scope=col>&lt;chr&gt;</th><th scope=col>&lt;dbl&gt;</th><th scope=col>&lt;dbl&gt;</th><th scope=col>&lt;dbl&gt;</th><th scope=col>&lt;dbl&gt;</th><th scope=col>&lt;dbl&gt;</th><th scope=col>&lt;dbl&gt;</th></tr>\n",
       "</thead>\n",
       "<tbody>\n",
       "\t<tr><td>서울</td><td>종로구</td><td>1</td><td>69</td><td>3</td><td>21</td><td>66</td><td> 6</td></tr>\n",
       "\t<tr><td>서울</td><td>종로구</td><td>2</td><td>54</td><td>0</td><td>21</td><td>46</td><td> 8</td></tr>\n",
       "\t<tr><td>서울</td><td>종로구</td><td>3</td><td>66</td><td>0</td><td>17</td><td>65</td><td>10</td></tr>\n",
       "\t<tr><td>서울</td><td>종로구</td><td>4</td><td>51</td><td>0</td><td>21</td><td>39</td><td> 6</td></tr>\n",
       "\t<tr><td>서울</td><td>종로구</td><td>5</td><td>62</td><td>0</td><td>12</td><td>68</td><td>11</td></tr>\n",
       "\t<tr><td>서울</td><td>종로구</td><td>6</td><td>70</td><td>1</td><td>16</td><td>69</td><td> 5</td></tr>\n",
       "</tbody>\n",
       "</table>\n"
      ],
      "text/latex": [
       "A tibble: 6 × 8\n",
       "\\begin{tabular}{llllllll}\n",
       " 시도 & 시군구 & 발생월 & 사고건수 & 사망자수 & 중상자수 & 경상자수 & 부상신고자수\\\\\n",
       " <chr> & <chr> & <dbl> & <dbl> & <dbl> & <dbl> & <dbl> & <dbl>\\\\\n",
       "\\hline\n",
       "\t 서울 & 종로구 & 1 & 69 & 3 & 21 & 66 &  6\\\\\n",
       "\t 서울 & 종로구 & 2 & 54 & 0 & 21 & 46 &  8\\\\\n",
       "\t 서울 & 종로구 & 3 & 66 & 0 & 17 & 65 & 10\\\\\n",
       "\t 서울 & 종로구 & 4 & 51 & 0 & 21 & 39 &  6\\\\\n",
       "\t 서울 & 종로구 & 5 & 62 & 0 & 12 & 68 & 11\\\\\n",
       "\t 서울 & 종로구 & 6 & 70 & 1 & 16 & 69 &  5\\\\\n",
       "\\end{tabular}\n"
      ],
      "text/markdown": [
       "\n",
       "A tibble: 6 × 8\n",
       "\n",
       "| 시도 &lt;chr&gt; | 시군구 &lt;chr&gt; | 발생월 &lt;dbl&gt; | 사고건수 &lt;dbl&gt; | 사망자수 &lt;dbl&gt; | 중상자수 &lt;dbl&gt; | 경상자수 &lt;dbl&gt; | 부상신고자수 &lt;dbl&gt; |\n",
       "|---|---|---|---|---|---|---|---|\n",
       "| 서울 | 종로구 | 1 | 69 | 3 | 21 | 66 |  6 |\n",
       "| 서울 | 종로구 | 2 | 54 | 0 | 21 | 46 |  8 |\n",
       "| 서울 | 종로구 | 3 | 66 | 0 | 17 | 65 | 10 |\n",
       "| 서울 | 종로구 | 4 | 51 | 0 | 21 | 39 |  6 |\n",
       "| 서울 | 종로구 | 5 | 62 | 0 | 12 | 68 | 11 |\n",
       "| 서울 | 종로구 | 6 | 70 | 1 | 16 | 69 |  5 |\n",
       "\n"
      ],
      "text/plain": [
       "  시도 시군구 발생월 사고건수 사망자수 중상자수 경상자수 부상신고자수\n",
       "1 서울 종로구 1      69       3        21       66        6          \n",
       "2 서울 종로구 2      54       0        21       46        8          \n",
       "3 서울 종로구 3      66       0        17       65       10          \n",
       "4 서울 종로구 4      51       0        21       39        6          \n",
       "5 서울 종로구 5      62       0        12       68       11          \n",
       "6 서울 종로구 6      70       1        16       69        5          "
      ]
     },
     "metadata": {},
     "output_type": "display_data"
    }
   ],
   "source": [
    "data <- read_xlsx(\"2022년_도로교통공단_시군구별 월별 교통사고 통계.xlsx\")\n",
    "head(data)"
   ]
  },
  {
   "cell_type": "code",
   "execution_count": 12,
   "id": "4ecdf5da-23be-4ac5-8021-407c932efde6",
   "metadata": {
    "tags": []
   },
   "outputs": [
    {
     "data": {
      "text/plain": [
       "\n",
       "제천시 청주시 충주시 \n",
       "    12     12     12 "
      ]
     },
     "metadata": {},
     "output_type": "display_data"
    }
   ],
   "source": [
    "cb <- subset(data, data$`시군구` %in% c(\"충주시\", \"청주시\", \"제천시\"))\n",
    "table(cb$시군구)"
   ]
  },
  {
   "cell_type": "code",
   "execution_count": 13,
   "id": "db953645-2b45-4efa-8ca6-7abdecd0da07",
   "metadata": {
    "tags": []
   },
   "outputs": [
    {
     "data": {
      "text/html": [
       "<table class=\"dataframe\">\n",
       "<caption>A tibble: 6 × 8</caption>\n",
       "<thead>\n",
       "\t<tr><th scope=col>시도</th><th scope=col>시군구</th><th scope=col>발생월</th><th scope=col>사고건수</th><th scope=col>사망자수</th><th scope=col>중상자수</th><th scope=col>경상자수</th><th scope=col>부상신고자수</th></tr>\n",
       "\t<tr><th scope=col>&lt;chr&gt;</th><th scope=col>&lt;chr&gt;</th><th scope=col>&lt;dbl&gt;</th><th scope=col>&lt;dbl&gt;</th><th scope=col>&lt;dbl&gt;</th><th scope=col>&lt;dbl&gt;</th><th scope=col>&lt;dbl&gt;</th><th scope=col>&lt;dbl&gt;</th></tr>\n",
       "</thead>\n",
       "<tbody>\n",
       "\t<tr><td>충북</td><td>청주시</td><td>1</td><td>313</td><td>2</td><td> 90</td><td>394</td><td>10</td></tr>\n",
       "\t<tr><td>충북</td><td>청주시</td><td>2</td><td>279</td><td>2</td><td> 89</td><td>353</td><td> 9</td></tr>\n",
       "\t<tr><td>충북</td><td>청주시</td><td>3</td><td>361</td><td>5</td><td>110</td><td>412</td><td>14</td></tr>\n",
       "\t<tr><td>충북</td><td>청주시</td><td>4</td><td>355</td><td>8</td><td>113</td><td>395</td><td>11</td></tr>\n",
       "\t<tr><td>충북</td><td>청주시</td><td>5</td><td>353</td><td>4</td><td>114</td><td>372</td><td>14</td></tr>\n",
       "\t<tr><td>충북</td><td>청주시</td><td>6</td><td>376</td><td>5</td><td> 95</td><td>453</td><td>11</td></tr>\n",
       "</tbody>\n",
       "</table>\n"
      ],
      "text/latex": [
       "A tibble: 6 × 8\n",
       "\\begin{tabular}{llllllll}\n",
       " 시도 & 시군구 & 발생월 & 사고건수 & 사망자수 & 중상자수 & 경상자수 & 부상신고자수\\\\\n",
       " <chr> & <chr> & <dbl> & <dbl> & <dbl> & <dbl> & <dbl> & <dbl>\\\\\n",
       "\\hline\n",
       "\t 충북 & 청주시 & 1 & 313 & 2 &  90 & 394 & 10\\\\\n",
       "\t 충북 & 청주시 & 2 & 279 & 2 &  89 & 353 &  9\\\\\n",
       "\t 충북 & 청주시 & 3 & 361 & 5 & 110 & 412 & 14\\\\\n",
       "\t 충북 & 청주시 & 4 & 355 & 8 & 113 & 395 & 11\\\\\n",
       "\t 충북 & 청주시 & 5 & 353 & 4 & 114 & 372 & 14\\\\\n",
       "\t 충북 & 청주시 & 6 & 376 & 5 &  95 & 453 & 11\\\\\n",
       "\\end{tabular}\n"
      ],
      "text/markdown": [
       "\n",
       "A tibble: 6 × 8\n",
       "\n",
       "| 시도 &lt;chr&gt; | 시군구 &lt;chr&gt; | 발생월 &lt;dbl&gt; | 사고건수 &lt;dbl&gt; | 사망자수 &lt;dbl&gt; | 중상자수 &lt;dbl&gt; | 경상자수 &lt;dbl&gt; | 부상신고자수 &lt;dbl&gt; |\n",
       "|---|---|---|---|---|---|---|---|\n",
       "| 충북 | 청주시 | 1 | 313 | 2 |  90 | 394 | 10 |\n",
       "| 충북 | 청주시 | 2 | 279 | 2 |  89 | 353 |  9 |\n",
       "| 충북 | 청주시 | 3 | 361 | 5 | 110 | 412 | 14 |\n",
       "| 충북 | 청주시 | 4 | 355 | 8 | 113 | 395 | 11 |\n",
       "| 충북 | 청주시 | 5 | 353 | 4 | 114 | 372 | 14 |\n",
       "| 충북 | 청주시 | 6 | 376 | 5 |  95 | 453 | 11 |\n",
       "\n"
      ],
      "text/plain": [
       "  시도 시군구 발생월 사고건수 사망자수 중상자수 경상자수 부상신고자수\n",
       "1 충북 청주시 1      313      2         90      394      10          \n",
       "2 충북 청주시 2      279      2         89      353       9          \n",
       "3 충북 청주시 3      361      5        110      412      14          \n",
       "4 충북 청주시 4      355      8        113      395      11          \n",
       "5 충북 청주시 5      353      4        114      372      14          \n",
       "6 충북 청주시 6      376      5         95      453      11          "
      ]
     },
     "metadata": {},
     "output_type": "display_data"
    }
   ],
   "source": [
    "head(cb)"
   ]
  },
  {
   "cell_type": "code",
   "execution_count": 14,
   "id": "6485796c-11d9-4822-ad41-98aa41b86f8f",
   "metadata": {
    "tags": []
   },
   "outputs": [
    {
     "data": {
      "image/png": "[encoded data removed]",
      "text/plain": [
       "plot without title"
      ]
     },
     "metadata": {
      "image/png": {
       "height": 420,
       "width": 420
      }
     },
     "output_type": "display_data"
    }
   ],
   "source": [
    "boxplot(cb$`사고건수` ~ cb$`시군구`, col=c(\"gold\", \"green\", \"pink\"))"
   ]
  },
  {
   "cell_type": "code",
   "execution_count": 15,
   "id": "ead83b3f-b331-4265-b3e0-da2c9094aae1",
   "metadata": {
    "tags": []
   },
   "outputs": [],
   "source": [
    "write_xlsx(cb, \"cb.xlsx\")"
   ]
  },
  {
   "cell_type": "code",
   "execution_count": 16,
   "id": "387dccfc-1d1c-4f6f-b669-69fe83cfb084",
   "metadata": {
    "tags": []
   },
   "outputs": [
    {
     "data": {
      "text/html": [
       "'HELLO! WORLD'"
      ],
      "text/latex": [
       "'HELLO! WORLD'"
      ],
      "text/markdown": [
       "'HELLO! WORLD'"
      ],
      "text/plain": [
       "[1] \"HELLO! WORLD\""
      ]
     },
     "metadata": {},
     "output_type": "display_data"
    }
   ],
   "source": [
    "toupper(\"Hello! World\")"
   ]
  },
  {
   "cell_type": "code",
   "execution_count": 17,
   "id": "cb49ef93-c914-42cb-870e-679dcb43f22a",
   "metadata": {
    "tags": []
   },
   "outputs": [
    {
     "data": {
      "text/html": [
       "'hello! world'"
      ],
      "text/latex": [
       "'hello! world'"
      ],
      "text/markdown": [
       "'hello! world'"
      ],
      "text/plain": [
       "[1] \"hello! world\""
      ]
     },
     "metadata": {},
     "output_type": "display_data"
    }
   ],
   "source": [
    "tolower(\"Hello! World\")"
   ]
  },
  {
   "cell_type": "code",
   "execution_count": 18,
   "id": "d569974d-7237-44c5-8820-f2dd8b479508",
   "metadata": {
    "tags": []
   },
   "outputs": [
    {
     "data": {
      "text/html": [
       "<style>\n",
       ".list-inline {list-style: none; margin:0; padding: 0}\n",
       ".list-inline>li {display: inline-block}\n",
       ".list-inline>li:not(:last-child)::after {content: \"\\00b7\"; padding: 0 .5ex}\n",
       "</style>\n",
       "<ol class=list-inline><li>'APPLE'</li><li>'MANGO'</li><li>'ORANGE'</li></ol>\n"
      ],
      "text/latex": [
       "\\begin{enumerate*}\n",
       "\\item 'APPLE'\n",
       "\\item 'MANGO'\n",
       "\\item 'ORANGE'\n",
       "\\end{enumerate*}\n"
      ],
      "text/markdown": [
       "1. 'APPLE'\n",
       "2. 'MANGO'\n",
       "3. 'ORANGE'\n",
       "\n",
       "\n"
      ],
      "text/plain": [
       "[1] \"APPLE\"  \"MANGO\"  \"ORANGE\""
      ]
     },
     "metadata": {},
     "output_type": "display_data"
    }
   ],
   "source": [
    "toupper(c(\"apple\", \"mango\", \"orange\"))"
   ]
  },
  {
   "cell_type": "code",
   "execution_count": 19,
   "id": "19f399e6-18fb-44fd-aee7-4c196c6fdb37",
   "metadata": {
    "tags": []
   },
   "outputs": [
    {
     "data": {
      "text/html": [
       "'2023 10 30'"
      ],
      "text/latex": [
       "'2023 10 30'"
      ],
      "text/markdown": [
       "'2023 10 30'"
      ],
      "text/plain": [
       "[1] \"2023 10 30\""
      ]
     },
     "metadata": {},
     "output_type": "display_data"
    }
   ],
   "source": [
    "paste(\"2023\", \"10\", \"30\")"
   ]
  },
  {
   "cell_type": "code",
   "execution_count": 20,
   "id": "4ddacfaa-675f-4b96-8eb7-a08fd4aa73eb",
   "metadata": {
    "tags": []
   },
   "outputs": [
    {
     "data": {
      "text/html": [
       "'2023-10-30'"
      ],
      "text/latex": [
       "'2023-10-30'"
      ],
      "text/markdown": [
       "'2023-10-30'"
      ],
      "text/plain": [
       "[1] \"2023-10-30\""
      ]
     },
     "metadata": {},
     "output_type": "display_data"
    }
   ],
   "source": [
    "paste(\"2023\", \"10\", \"30\", sep=\"-\")"
   ]
  },
  {
   "cell_type": "code",
   "execution_count": 21,
   "id": "8ae0977a-4834-4034-9542-7814ff3156bb",
   "metadata": {
    "tags": []
   },
   "outputs": [
    {
     "data": {
      "text/html": [
       "'20231030'"
      ],
      "text/latex": [
       "'20231030'"
      ],
      "text/markdown": [
       "'20231030'"
      ],
      "text/plain": [
       "[1] \"20231030\""
      ]
     },
     "metadata": {},
     "output_type": "display_data"
    }
   ],
   "source": [
    "paste0(\"2023\", \"10\", \"30\")"
   ]
  },
  {
   "cell_type": "code",
   "execution_count": 22,
   "id": "295aa7ca-4e11-4047-9219-c7229b520f64",
   "metadata": {
    "tags": []
   },
   "outputs": [
    {
     "data": {
      "text/html": [
       "<style>\n",
       ".list-inline {list-style: none; margin:0; padding: 0}\n",
       ".list-inline>li {display: inline-block}\n",
       ".list-inline>li:not(:last-child)::after {content: \"\\00b7\"; padding: 0 .5ex}\n",
       "</style>\n",
       "<ol class=list-inline><li>'apple'</li><li>'mango'</li><li>'I Like Orange'</li></ol>\n"
      ],
      "text/latex": [
       "\\begin{enumerate*}\n",
       "\\item 'apple'\n",
       "\\item 'mango'\n",
       "\\item 'I Like Orange'\n",
       "\\end{enumerate*}\n"
      ],
      "text/markdown": [
       "1. 'apple'\n",
       "2. 'mango'\n",
       "3. 'I Like Orange'\n",
       "\n",
       "\n"
      ],
      "text/plain": [
       "[1] \"apple\"         \"mango\"         \"I Like Orange\""
      ]
     },
     "metadata": {},
     "output_type": "display_data"
    }
   ],
   "source": [
    "paste(c(\"apple\", \"mango\", \"I Like Orange\"))"
   ]
  },
  {
   "cell_type": "code",
   "execution_count": 23,
   "id": "d7f303aa-0532-4da7-9b02-cc3325999cb1",
   "metadata": {
    "tags": []
   },
   "outputs": [
    {
     "name": "stdout",
     "output_type": "stream",
     "text": [
      "[1] \"I like apple\"  \"I like mango\"  \"I like orange\"\n"
     ]
    }
   ],
   "source": [
    "print(paste(\"I like\", c(\"apple\", \"mango\", \"orange\")))"
   ]
  },
  {
   "cell_type": "code",
   "execution_count": 24,
   "id": "3db60ce5-f64e-4c82-8dbd-156404d133b1",
   "metadata": {
    "tags": []
   },
   "outputs": [
    {
     "name": "stdout",
     "output_type": "stream",
     "text": [
      " [1] \"A1\"  \"B2\"  \"C3\"  \"D4\"  \"E5\"  \"F6\"  \"G7\"  \"H8\"  \"I9\"  \"J10\"\n"
     ]
    }
   ],
   "source": [
    "print(paste0(LETTERS[1:10], 1:10))"
   ]
  },
  {
   "cell_type": "code",
   "execution_count": 25,
   "id": "9655fb8d-72cc-4450-85b8-6419214602ee",
   "metadata": {
    "tags": []
   },
   "outputs": [
    {
     "name": "stdout",
     "output_type": "stream",
     "text": [
      " [1] \"V1\"  \"V2\"  \"V3\"  \"V4\"  \"V5\"  \"V6\"  \"V7\"  \"V8\"  \"V9\"  \"V10\"\n"
     ]
    }
   ],
   "source": [
    "print(paste0(\"V\", 1:10))"
   ]
  },
  {
   "cell_type": "code",
   "execution_count": 26,
   "id": "5d3f37dc-4b3e-4ed2-a4f9-3f71feacc209",
   "metadata": {
    "tags": []
   },
   "outputs": [
    {
     "name": "stdout",
     "output_type": "stream",
     "text": [
      " [1] \"S1\" \"S2\" \"S3\" \"S4\" \"S1\" \"S2\" \"S3\" \"S4\" \"S1\" \"S2\" \"S3\" \"S4\"\n"
     ]
    }
   ],
   "source": [
    "print(paste0(\"S\", rep(1:4, 3)))"
   ]
  },
  {
   "cell_type": "code",
   "execution_count": 27,
   "id": "3d39efc7-cddc-4771-9e90-ca2ec3b05562",
   "metadata": {
    "tags": []
   },
   "outputs": [
    {
     "name": "stdout",
     "output_type": "stream",
     "text": [
      " [1] \"S1\" \"S1\" \"S1\" \"S2\" \"S2\" \"S2\" \"S3\" \"S3\" \"S3\" \"S4\" \"S4\" \"S4\"\n"
     ]
    }
   ],
   "source": [
    "print(paste0(\"S\", rep(1:4, each=3)))"
   ]
  },
  {
   "cell_type": "code",
   "execution_count": 28,
   "id": "b786a750-1134-480d-9a95-aa1a5ad2b792",
   "metadata": {
    "tags": []
   },
   "outputs": [
    {
     "data": {
      "text/html": [
       "'2023'"
      ],
      "text/latex": [
       "'2023'"
      ],
      "text/markdown": [
       "'2023'"
      ],
      "text/plain": [
       "[1] \"2023\""
      ]
     },
     "metadata": {},
     "output_type": "display_data"
    },
    {
     "data": {
      "text/html": [
       "'10'"
      ],
      "text/latex": [
       "'10'"
      ],
      "text/markdown": [
       "'10'"
      ],
      "text/plain": [
       "[1] \"10\""
      ]
     },
     "metadata": {},
     "output_type": "display_data"
    },
    {
     "data": {
      "text/html": [
       "'30'"
      ],
      "text/latex": [
       "'30'"
      ],
      "text/markdown": [
       "'30'"
      ],
      "text/plain": [
       "[1] \"30\""
      ]
     },
     "metadata": {},
     "output_type": "display_data"
    }
   ],
   "source": [
    "substr(\"20231030\", 1, 4)\n",
    "substr(\"20231030\", 5, 6)\n",
    "substr(\"20231030\", 7, 8)"
   ]
  },
  {
   "cell_type": "code",
   "execution_count": 29,
   "id": "821fbffd-b1cd-4ead-87a4-1858879750dd",
   "metadata": {
    "tags": []
   },
   "outputs": [
    {
     "data": {
      "text/html": [
       "'BCD'"
      ],
      "text/latex": [
       "'BCD'"
      ],
      "text/markdown": [
       "'BCD'"
      ],
      "text/plain": [
       "[1] \"BCD\""
      ]
     },
     "metadata": {},
     "output_type": "display_data"
    }
   ],
   "source": [
    "string <- \"ABCDEFG\"\n",
    "substr(string, 2, 4)"
   ]
  },
  {
   "cell_type": "code",
   "execution_count": 30,
   "id": "1473dad9-7e82-43b9-81ac-c24795312102",
   "metadata": {
    "tags": []
   },
   "outputs": [
    {
     "data": {
      "text/html": [
       "'A###EFG'"
      ],
      "text/latex": [
       "'A\\#\\#\\#EFG'"
      ],
      "text/markdown": [
       "'A###EFG'"
      ],
      "text/plain": [
       "[1] \"A###EFG\""
      ]
     },
     "metadata": {},
     "output_type": "display_data"
    }
   ],
   "source": [
    "substr(string, 2, 4) <- \"###\"\n",
    "string"
   ]
  },
  {
   "cell_type": "code",
   "execution_count": 31,
   "id": "b936cb16-0ab2-4f2f-bda6-89ce33bc1e1b",
   "metadata": {
    "tags": []
   },
   "outputs": [
    {
     "data": {
      "text/html": [
       "<style>\n",
       ".list-inline {list-style: none; margin:0; padding: 0}\n",
       ".list-inline>li {display: inline-block}\n",
       ".list-inline>li:not(:last-child)::after {content: \"\\00b7\"; padding: 0 .5ex}\n",
       "</style>\n",
       "<ol class=list-inline><li>2</li><li>3</li><li>3</li><li>5</li><li>4</li></ol>\n"
      ],
      "text/latex": [
       "\\begin{enumerate*}\n",
       "\\item 2\n",
       "\\item 3\n",
       "\\item 3\n",
       "\\item 5\n",
       "\\item 4\n",
       "\\end{enumerate*}\n"
      ],
      "text/markdown": [
       "1. 2\n",
       "2. 3\n",
       "3. 3\n",
       "4. 5\n",
       "5. 4\n",
       "\n",
       "\n"
      ],
      "text/plain": [
       "[1] 2 3 3 5 4"
      ]
     },
     "metadata": {},
     "output_type": "display_data"
    }
   ],
   "source": [
    "names <- c(\"허준\", \"홍길동\", \"이몽룡\", \"건국대학교\", \"과학기술\")\n",
    "nchar(names)"
   ]
  },
  {
   "cell_type": "code",
   "execution_count": 32,
   "id": "45ecdf61-ef68-444a-aee6-44c5a06ab8d7",
   "metadata": {
    "tags": []
   },
   "outputs": [
    {
     "data": {
      "text/html": [
       "<style>\n",
       ".list-inline {list-style: none; margin:0; padding: 0}\n",
       ".list-inline>li {display: inline-block}\n",
       ".list-inline>li:not(:last-child)::after {content: \"\\00b7\"; padding: 0 .5ex}\n",
       "</style>\n",
       "<ol class=list-inline><li>''</li><li>'길'</li><li>'몽'</li><li>'국대학'</li><li>'학기'</li></ol>\n"
      ],
      "text/latex": [
       "\\begin{enumerate*}\n",
       "\\item ''\n",
       "\\item '길'\n",
       "\\item '몽'\n",
       "\\item '국대학'\n",
       "\\item '학기'\n",
       "\\end{enumerate*}\n"
      ],
      "text/markdown": [
       "1. ''\n",
       "2. '길'\n",
       "3. '몽'\n",
       "4. '국대학'\n",
       "5. '학기'\n",
       "\n",
       "\n"
      ],
      "text/plain": [
       "[1] \"\"       \"길\"     \"몽\"     \"국대학\" \"학기\"  "
      ]
     },
     "metadata": {},
     "output_type": "display_data"
    }
   ],
   "source": [
    "substr(names, 2, nchar(names)-1)"
   ]
  },
  {
   "cell_type": "code",
   "execution_count": 33,
   "id": "466a2bce-4f54-4585-bb92-a9119dea0fcc",
   "metadata": {
    "tags": []
   },
   "outputs": [
    {
     "data": {
      "text/html": [
       "<style>\n",
       ".list-inline {list-style: none; margin:0; padding: 0}\n",
       ".list-inline>li {display: inline-block}\n",
       ".list-inline>li:not(:last-child)::after {content: \"\\00b7\"; padding: 0 .5ex}\n",
       "</style>\n",
       "<ol class=list-inline><li>'허준'</li><li>'홍#동'</li><li>'이#룡'</li><li>'건###교'</li><li>'과##술'</li></ol>\n"
      ],
      "text/latex": [
       "\\begin{enumerate*}\n",
       "\\item '허준'\n",
       "\\item '홍\\#동'\n",
       "\\item '이\\#룡'\n",
       "\\item '건\\#\\#\\#교'\n",
       "\\item '과\\#\\#술'\n",
       "\\end{enumerate*}\n"
      ],
      "text/markdown": [
       "1. '허준'\n",
       "2. '홍#동'\n",
       "3. '이#룡'\n",
       "4. '건###교'\n",
       "5. '과##술'\n",
       "\n",
       "\n"
      ],
      "text/plain": [
       "[1] \"허준\"    \"홍#동\"   \"이#룡\"   \"건###교\" \"과##술\" "
      ]
     },
     "metadata": {},
     "output_type": "display_data"
    }
   ],
   "source": [
    "substr(names, 2, nchar(names)-1) <- \"#####\"\n",
    "names"
   ]
  },
  {
   "cell_type": "code",
   "execution_count": 34,
   "id": "5ffc2b8b-b3c1-4935-a627-cf949c404bba",
   "metadata": {
    "tags": []
   },
   "outputs": [
    {
     "data": {
      "text/html": [
       "<style>\n",
       ".list-inline {list-style: none; margin:0; padding: 0}\n",
       ".list-inline>li {display: inline-block}\n",
       ".list-inline>li:not(:last-child)::after {content: \"\\00b7\"; padding: 0 .5ex}\n",
       "</style>\n",
       "<ol class=list-inline><li>'#'</li><li>'#####'</li><li>'#####'</li><li>'#####'</li><li>'#####'</li></ol>\n"
      ],
      "text/latex": [
       "\\begin{enumerate*}\n",
       "\\item '\\#'\n",
       "\\item '\\#\\#\\#\\#\\#'\n",
       "\\item '\\#\\#\\#\\#\\#'\n",
       "\\item '\\#\\#\\#\\#\\#'\n",
       "\\item '\\#\\#\\#\\#\\#'\n",
       "\\end{enumerate*}\n"
      ],
      "text/markdown": [
       "1. '#'\n",
       "2. '#####'\n",
       "3. '#####'\n",
       "4. '#####'\n",
       "5. '#####'\n",
       "\n",
       "\n"
      ],
      "text/plain": [
       "[1] \"#\"     \"#####\" \"#####\" \"#####\" \"#####\""
      ]
     },
     "metadata": {},
     "output_type": "display_data"
    },
    {
     "data": {
      "text/html": [
       "<style>\n",
       ".list-inline {list-style: none; margin:0; padding: 0}\n",
       ".list-inline>li {display: inline-block}\n",
       ".list-inline>li:not(:last-child)::after {content: \"\\00b7\"; padding: 0 .5ex}\n",
       "</style>\n",
       "<ol class=list-inline><li>'허#'</li><li>'홍#동'</li><li>'이#룡'</li><li>'건###교'</li><li>'과##술'</li></ol>\n"
      ],
      "text/latex": [
       "\\begin{enumerate*}\n",
       "\\item '허\\#'\n",
       "\\item '홍\\#동'\n",
       "\\item '이\\#룡'\n",
       "\\item '건\\#\\#\\#교'\n",
       "\\item '과\\#\\#술'\n",
       "\\end{enumerate*}\n"
      ],
      "text/markdown": [
       "1. '허#'\n",
       "2. '홍#동'\n",
       "3. '이#룡'\n",
       "4. '건###교'\n",
       "5. '과##술'\n",
       "\n",
       "\n"
      ],
      "text/plain": [
       "[1] \"허#\"     \"홍#동\"   \"이#룡\"   \"건###교\" \"과##술\" "
      ]
     },
     "metadata": {},
     "output_type": "display_data"
    }
   ],
   "source": [
    "names <- c(\"허준\", \"홍길동\", \"이몽룡\", \"건국대학교\", \"과학기술\")\n",
    "ifelse(nchar(names)==2, substr(names,2,2)<-\"#\", \n",
    "       substr(names, 2, nchar(names)-1) <- \"#####\")\n",
    "names"
   ]
  },
  {
   "cell_type": "code",
   "execution_count": 35,
   "id": "8b6a7c64-c1d8-469a-aab0-c15784483c3e",
   "metadata": {
    "tags": []
   },
   "outputs": [
    {
     "data": {
      "text/html": [
       "'Abracadabra'"
      ],
      "text/latex": [
       "'Abracadabra'"
      ],
      "text/markdown": [
       "'Abracadabra'"
      ],
      "text/plain": [
       "[1] \"Abracadabra\""
      ]
     },
     "metadata": {},
     "output_type": "display_data"
    }
   ],
   "source": [
    "sub(\"a\", \"A\", \"abracadabra\")"
   ]
  },
  {
   "cell_type": "code",
   "execution_count": 36,
   "id": "0581868d-a83b-47ae-8e6c-457a1b046e30",
   "metadata": {
    "tags": []
   },
   "outputs": [
    {
     "data": {
      "text/html": [
       "'AbrAcAdAbrA'"
      ],
      "text/latex": [
       "'AbrAcAdAbrA'"
      ],
      "text/markdown": [
       "'AbrAcAdAbrA'"
      ],
      "text/plain": [
       "[1] \"AbrAcAdAbrA\""
      ]
     },
     "metadata": {},
     "output_type": "display_data"
    }
   ],
   "source": [
    "gsub(\"a\", \"A\", \"abracadabra\")"
   ]
  },
  {
   "cell_type": "code",
   "execution_count": 37,
   "id": "5dfd3421-85d1-4789-be70-bdbad1da7061",
   "metadata": {
    "tags": []
   },
   "outputs": [
    {
     "data": {
      "text/html": [
       "<style>\n",
       ".list-inline {list-style: none; margin:0; padding: 0}\n",
       ".list-inline>li {display: inline-block}\n",
       ".list-inline>li:not(:last-child)::after {content: \"\\00b7\"; padding: 0 .5ex}\n",
       "</style>\n",
       "<ol class=list-inline><li>'tigEr'</li><li>'Eagle'</li><li>'Elephant'</li></ol>\n"
      ],
      "text/latex": [
       "\\begin{enumerate*}\n",
       "\\item 'tigEr'\n",
       "\\item 'Eagle'\n",
       "\\item 'Elephant'\n",
       "\\end{enumerate*}\n"
      ],
      "text/markdown": [
       "1. 'tigEr'\n",
       "2. 'Eagle'\n",
       "3. 'Elephant'\n",
       "\n",
       "\n"
      ],
      "text/plain": [
       "[1] \"tigEr\"    \"Eagle\"    \"Elephant\""
      ]
     },
     "metadata": {},
     "output_type": "display_data"
    }
   ],
   "source": [
    "animals <- c(\"tiger\", \"eagle\", \"elephant\")\n",
    "sub(\"e\", \"E\", animals)"
   ]
  },
  {
   "cell_type": "code",
   "execution_count": 38,
   "id": "207e7cf1-3634-4cc9-8628-4f90e8c209dc",
   "metadata": {
    "tags": []
   },
   "outputs": [
    {
     "data": {
      "text/html": [
       "<style>\n",
       ".list-inline {list-style: none; margin:0; padding: 0}\n",
       ".list-inline>li {display: inline-block}\n",
       ".list-inline>li:not(:last-child)::after {content: \"\\00b7\"; padding: 0 .5ex}\n",
       "</style>\n",
       "<ol class=list-inline><li>'tigEr'</li><li>'EaglE'</li><li>'ElEphant'</li></ol>\n"
      ],
      "text/latex": [
       "\\begin{enumerate*}\n",
       "\\item 'tigEr'\n",
       "\\item 'EaglE'\n",
       "\\item 'ElEphant'\n",
       "\\end{enumerate*}\n"
      ],
      "text/markdown": [
       "1. 'tigEr'\n",
       "2. 'EaglE'\n",
       "3. 'ElEphant'\n",
       "\n",
       "\n"
      ],
      "text/plain": [
       "[1] \"tigEr\"    \"EaglE\"    \"ElEphant\""
      ]
     },
     "metadata": {},
     "output_type": "display_data"
    }
   ],
   "source": [
    "gsub(\"e\", \"E\", animals)"
   ]
  },
  {
   "cell_type": "code",
   "execution_count": 39,
   "id": "a79ef41f-90a1-41a3-adaf-a0ef20edd5d5",
   "metadata": {
    "tags": []
   },
   "outputs": [
    {
     "data": {
      "text/html": [
       "'PatternMatchingandReplacement'"
      ],
      "text/latex": [
       "'PatternMatchingandReplacement'"
      ],
      "text/markdown": [
       "'PatternMatchingandReplacement'"
      ],
      "text/plain": [
       "[1] \"PatternMatchingandReplacement\""
      ]
     },
     "metadata": {},
     "output_type": "display_data"
    }
   ],
   "source": [
    "gsub(\" \", \"\", \"Pattern Matching and Replacement\")"
   ]
  },
  {
   "cell_type": "code",
   "execution_count": 40,
   "id": "e33703cf-f752-4d31-944d-01b76c5c9d32",
   "metadata": {
    "tags": []
   },
   "outputs": [
    {
     "data": {
      "text/html": [
       "<style>\n",
       ".list-inline {list-style: none; margin:0; padding: 0}\n",
       ".list-inline>li {display: inline-block}\n",
       ".list-inline>li:not(:last-child)::after {content: \"\\00b7\"; padding: 0 .5ex}\n",
       "</style>\n",
       "<ol class=list-inline><li>1</li><li>3</li><li>4</li></ol>\n"
      ],
      "text/latex": [
       "\\begin{enumerate*}\n",
       "\\item 1\n",
       "\\item 3\n",
       "\\item 4\n",
       "\\end{enumerate*}\n"
      ],
      "text/markdown": [
       "1. 1\n",
       "2. 3\n",
       "3. 4\n",
       "\n",
       "\n"
      ],
      "text/plain": [
       "[1] 1 3 4"
      ]
     },
     "metadata": {},
     "output_type": "display_data"
    }
   ],
   "source": [
    "strings <- c(\"apple\", \"tiger\", \"cat\", \"banana\")\n",
    "grep(\"a\", strings)"
   ]
  },
  {
   "cell_type": "code",
   "execution_count": 41,
   "id": "fd15eae2-587f-4929-879a-6e25c58ace00",
   "metadata": {
    "tags": []
   },
   "outputs": [
    {
     "data": {
      "text/html": [
       "<style>\n",
       ".list-inline {list-style: none; margin:0; padding: 0}\n",
       ".list-inline>li {display: inline-block}\n",
       ".list-inline>li:not(:last-child)::after {content: \"\\00b7\"; padding: 0 .5ex}\n",
       "</style>\n",
       "<ol class=list-inline><li>'apple'</li><li>'cat'</li><li>'banana'</li></ol>\n"
      ],
      "text/latex": [
       "\\begin{enumerate*}\n",
       "\\item 'apple'\n",
       "\\item 'cat'\n",
       "\\item 'banana'\n",
       "\\end{enumerate*}\n"
      ],
      "text/markdown": [
       "1. 'apple'\n",
       "2. 'cat'\n",
       "3. 'banana'\n",
       "\n",
       "\n"
      ],
      "text/plain": [
       "[1] \"apple\"  \"cat\"    \"banana\""
      ]
     },
     "metadata": {},
     "output_type": "display_data"
    }
   ],
   "source": [
    "grep(\"a\", strings, value=T)"
   ]
  },
  {
   "cell_type": "code",
   "execution_count": 42,
   "id": "fa6f9f20-9355-4942-9e1a-c45a72730d4e",
   "metadata": {
    "tags": []
   },
   "outputs": [
    {
     "data": {
      "text/html": [
       "'tiger'"
      ],
      "text/latex": [
       "'tiger'"
      ],
      "text/markdown": [
       "'tiger'"
      ],
      "text/plain": [
       "[1] \"tiger\""
      ]
     },
     "metadata": {},
     "output_type": "display_data"
    }
   ],
   "source": [
    "grep(\"a\", strings, value=T, invert=T)"
   ]
  },
  {
   "cell_type": "code",
   "execution_count": 43,
   "id": "7b729784-61ce-4e78-a8ad-107937702e52",
   "metadata": {
    "tags": []
   },
   "outputs": [
    {
     "data": {
      "text/html": [
       "<style>\n",
       ".list-inline {list-style: none; margin:0; padding: 0}\n",
       ".list-inline>li {display: inline-block}\n",
       ".list-inline>li:not(:last-child)::after {content: \"\\00b7\"; padding: 0 .5ex}\n",
       "</style>\n",
       "<ol class=list-inline><li>'Mazda RX4'</li><li>'Mazda RX4 Wag'</li><li>'Datsun 710'</li></ol>\n"
      ],
      "text/latex": [
       "\\begin{enumerate*}\n",
       "\\item 'Mazda RX4'\n",
       "\\item 'Mazda RX4 Wag'\n",
       "\\item 'Datsun 710'\n",
       "\\end{enumerate*}\n"
      ],
      "text/markdown": [
       "1. 'Mazda RX4'\n",
       "2. 'Mazda RX4 Wag'\n",
       "3. 'Datsun 710'\n",
       "\n",
       "\n"
      ],
      "text/plain": [
       "[1] \"Mazda RX4\"     \"Mazda RX4 Wag\" \"Datsun 710\"   "
      ]
     },
     "metadata": {},
     "output_type": "display_data"
    }
   ],
   "source": [
    "names <- row.names(mtcars)\n",
    "head(names, 3)"
   ]
  },
  {
   "cell_type": "code",
   "execution_count": 44,
   "id": "6af1e3c2-87f6-41b8-8e1f-06f90ba4ae5f",
   "metadata": {
    "tags": []
   },
   "outputs": [
    {
     "data": {
      "text/html": [],
      "text/latex": [],
      "text/markdown": [],
      "text/plain": [
       "character(0)"
      ]
     },
     "metadata": {},
     "output_type": "display_data"
    }
   ],
   "source": [
    "grep(\"toyota\", names, value=T)"
   ]
  },
  {
   "cell_type": "code",
   "execution_count": 45,
   "id": "f6309760-6685-4aae-add6-6cfbc9e982a5",
   "metadata": {
    "tags": []
   },
   "outputs": [
    {
     "data": {
      "text/html": [
       "<style>\n",
       ".list-inline {list-style: none; margin:0; padding: 0}\n",
       ".list-inline>li {display: inline-block}\n",
       ".list-inline>li:not(:last-child)::after {content: \"\\00b7\"; padding: 0 .5ex}\n",
       "</style>\n",
       "<ol class=list-inline><li>'Toyota Corolla'</li><li>'Toyota Corona'</li></ol>\n"
      ],
      "text/latex": [
       "\\begin{enumerate*}\n",
       "\\item 'Toyota Corolla'\n",
       "\\item 'Toyota Corona'\n",
       "\\end{enumerate*}\n"
      ],
      "text/markdown": [
       "1. 'Toyota Corolla'\n",
       "2. 'Toyota Corona'\n",
       "\n",
       "\n"
      ],
      "text/plain": [
       "[1] \"Toyota Corolla\" \"Toyota Corona\" "
      ]
     },
     "metadata": {},
     "output_type": "display_data"
    }
   ],
   "source": [
    "grep(\"toyota\", names, value=T, ignore.case=T)"
   ]
  },
  {
   "cell_type": "code",
   "execution_count": 46,
   "id": "17b65de3-4aa1-4b33-953f-b27a3a966314",
   "metadata": {
    "tags": []
   },
   "outputs": [],
   "source": [
    "library(stringr)"
   ]
  },
  {
   "cell_type": "code",
   "execution_count": 47,
   "id": "c54c3852-3e02-480e-9670-7dbffa983b5c",
   "metadata": {
    "tags": []
   },
   "outputs": [
    {
     "data": {
      "text/html": [
       "'2023'"
      ],
      "text/latex": [
       "'2023'"
      ],
      "text/markdown": [
       "'2023'"
      ],
      "text/plain": [
       "[1] \"2023\""
      ]
     },
     "metadata": {},
     "output_type": "display_data"
    },
    {
     "data": {
      "text/html": [
       "'10'"
      ],
      "text/latex": [
       "'10'"
      ],
      "text/markdown": [
       "'10'"
      ],
      "text/plain": [
       "[1] \"10\""
      ]
     },
     "metadata": {},
     "output_type": "display_data"
    },
    {
     "data": {
      "text/html": [
       "'30'"
      ],
      "text/latex": [
       "'30'"
      ],
      "text/markdown": [
       "'30'"
      ],
      "text/plain": [
       "[1] \"30\""
      ]
     },
     "metadata": {},
     "output_type": "display_data"
    }
   ],
   "source": [
    "str_sub(\"20231030\", 1, 4)\n",
    "str_sub(\"20231030\", 5, 6)\n",
    "str_sub(\"20231030\", 7, 8)"
   ]
  },
  {
   "cell_type": "code",
   "execution_count": 48,
   "id": "60a5d0e3-9586-416a-8cd4-a5b23dbfbe79",
   "metadata": {
    "tags": []
   },
   "outputs": [
    {
     "data": {
      "text/html": [
       "'30'"
      ],
      "text/latex": [
       "'30'"
      ],
      "text/markdown": [
       "'30'"
      ],
      "text/plain": [
       "[1] \"30\""
      ]
     },
     "metadata": {},
     "output_type": "display_data"
    }
   ],
   "source": [
    "str_sub(\"20231030\", -2, -1)"
   ]
  },
  {
   "cell_type": "code",
   "execution_count": 49,
   "id": "e440cb77-12a7-4b90-bb36-0d8f488870cb",
   "metadata": {
    "tags": []
   },
   "outputs": [
    {
     "data": {
      "text/html": [
       "'30'"
      ],
      "text/latex": [
       "'30'"
      ],
      "text/markdown": [
       "'30'"
      ],
      "text/plain": [
       "[1] \"30\""
      ]
     },
     "metadata": {},
     "output_type": "display_data"
    }
   ],
   "source": [
    "str_sub(\"20231030\", 7)"
   ]
  },
  {
   "cell_type": "code",
   "execution_count": 50,
   "id": "c8357156-1461-41eb-b701-e88bcdbdc7cf",
   "metadata": {
    "tags": []
   },
   "outputs": [
    {
     "data": {
      "text/html": [
       "'ABC'"
      ],
      "text/latex": [
       "'ABC'"
      ],
      "text/markdown": [
       "'ABC'"
      ],
      "text/plain": [
       "[1] \"ABC\""
      ]
     },
     "metadata": {},
     "output_type": "display_data"
    }
   ],
   "source": [
    "str_flatten(c(\"A\", \"B\", \"C\"))"
   ]
  },
  {
   "cell_type": "code",
   "execution_count": 51,
   "id": "3c377cfb-bb9a-4948-bb59-488cae6358d0",
   "metadata": {
    "tags": []
   },
   "outputs": [
    {
     "data": {
      "text/html": [
       "'123'"
      ],
      "text/latex": [
       "'123'"
      ],
      "text/markdown": [
       "'123'"
      ],
      "text/plain": [
       "[1] \"123\""
      ]
     },
     "metadata": {},
     "output_type": "display_data"
    }
   ],
   "source": [
    "str_flatten(c(1,2,3))"
   ]
  },
  {
   "cell_type": "code",
   "execution_count": 52,
   "id": "76bf8656-b5ef-4d6e-873b-2f651677573b",
   "metadata": {
    "tags": []
   },
   "outputs": [
    {
     "name": "stdout",
     "output_type": "stream",
     "text": [
      "[[1]]\n",
      "[1] \"apples\"  \"orages\"  \"pears\"   \"bananas\"\n",
      "\n"
     ]
    }
   ],
   "source": [
    "fruits <- \"apples and orages and pears and bananas\"\n",
    "results <- strsplit(fruits, \" and \")\n",
    "print(results)"
   ]
  },
  {
   "cell_type": "code",
   "execution_count": 53,
   "id": "db5088dc-1cbd-4798-bd84-0d5a4240fd94",
   "metadata": {
    "tags": []
   },
   "outputs": [
    {
     "data": {
      "text/html": [
       "'list'"
      ],
      "text/latex": [
       "'list'"
      ],
      "text/markdown": [
       "'list'"
      ],
      "text/plain": [
       "[1] \"list\""
      ]
     },
     "metadata": {},
     "output_type": "display_data"
    }
   ],
   "source": [
    "class(results)"
   ]
  },
  {
   "cell_type": "code",
   "execution_count": 54,
   "id": "566f8dba-467d-4828-a5cc-f8d106b1aed0",
   "metadata": {
    "tags": []
   },
   "outputs": [
    {
     "name": "stdout",
     "output_type": "stream",
     "text": [
      "[[1]]\n",
      "[1] \"apples\"  \"orages\"  \"pears\"   \"bananas\"\n",
      "\n",
      "[[2]]\n",
      "[1] \"pineapples\" \"mangos\"    \n",
      "\n"
     ]
    }
   ],
   "source": [
    "fruits <- c(\"apples and orages and pears and bananas\",\n",
    "            \"pineapples and mangos\")\n",
    "results <- strsplit(fruits, \" and \")\n",
    "print(results)"
   ]
  },
  {
   "cell_type": "code",
   "execution_count": 55,
   "id": "f3bba9cc-c6fc-4c6f-b87f-2481b1eab4f1",
   "metadata": {
    "tags": []
   },
   "outputs": [],
   "source": [
    "addr <- c(\"충북 충주시 연수동\", \"서울\", \"부산 해운대구\")"
   ]
  },
  {
   "cell_type": "code",
   "execution_count": 56,
   "id": "3ffcfbf6-d4c0-4713-9c31-e2d4f1706c27",
   "metadata": {
    "tags": []
   },
   "outputs": [
    {
     "data": {
      "text/html": [
       "<style>\n",
       ".list-inline {list-style: none; margin:0; padding: 0}\n",
       ".list-inline>li {display: inline-block}\n",
       ".list-inline>li:not(:last-child)::after {content: \"\\00b7\"; padding: 0 .5ex}\n",
       "</style>\n",
       "<ol class=list-inline><li>'충북'</li><li>'서울'</li><li>'부산'</li></ol>\n"
      ],
      "text/latex": [
       "\\begin{enumerate*}\n",
       "\\item '충북'\n",
       "\\item '서울'\n",
       "\\item '부산'\n",
       "\\end{enumerate*}\n"
      ],
      "text/markdown": [
       "1. '충북'\n",
       "2. '서울'\n",
       "3. '부산'\n",
       "\n",
       "\n"
      ],
      "text/plain": [
       "[1] \"충북\" \"서울\" \"부산\""
      ]
     },
     "metadata": {},
     "output_type": "display_data"
    }
   ],
   "source": [
    "word(addr)"
   ]
  },
  {
   "cell_type": "code",
   "execution_count": 57,
   "id": "8cdf9c9f-5e8e-4c0d-b88b-f968e7e9e7f8",
   "metadata": {
    "tags": []
   },
   "outputs": [
    {
     "data": {
      "text/html": [
       "<style>\n",
       ".list-inline {list-style: none; margin:0; padding: 0}\n",
       ".list-inline>li {display: inline-block}\n",
       ".list-inline>li:not(:last-child)::after {content: \"\\00b7\"; padding: 0 .5ex}\n",
       "</style>\n",
       "<ol class=list-inline><li>'충주시'</li><li>NA</li><li>'해운대구'</li></ol>\n"
      ],
      "text/latex": [
       "\\begin{enumerate*}\n",
       "\\item '충주시'\n",
       "\\item NA\n",
       "\\item '해운대구'\n",
       "\\end{enumerate*}\n"
      ],
      "text/markdown": [
       "1. '충주시'\n",
       "2. NA\n",
       "3. '해운대구'\n",
       "\n",
       "\n"
      ],
      "text/plain": [
       "[1] \"충주시\"   NA         \"해운대구\""
      ]
     },
     "metadata": {},
     "output_type": "display_data"
    }
   ],
   "source": [
    "word(addr, 2)"
   ]
  },
  {
   "cell_type": "code",
   "execution_count": 58,
   "id": "ee8ae095-ea50-484b-b968-d27024cf1deb",
   "metadata": {
    "tags": []
   },
   "outputs": [
    {
     "data": {
      "text/html": [
       "<style>\n",
       ".list-inline {list-style: none; margin:0; padding: 0}\n",
       ".list-inline>li {display: inline-block}\n",
       ".list-inline>li:not(:last-child)::after {content: \"\\00b7\"; padding: 0 .5ex}\n",
       "</style>\n",
       "<ol class=list-inline><li>'연수동'</li><li>'서울'</li><li>'해운대구'</li></ol>\n"
      ],
      "text/latex": [
       "\\begin{enumerate*}\n",
       "\\item '연수동'\n",
       "\\item '서울'\n",
       "\\item '해운대구'\n",
       "\\end{enumerate*}\n"
      ],
      "text/markdown": [
       "1. '연수동'\n",
       "2. '서울'\n",
       "3. '해운대구'\n",
       "\n",
       "\n"
      ],
      "text/plain": [
       "[1] \"연수동\"   \"서울\"     \"해운대구\""
      ]
     },
     "metadata": {},
     "output_type": "display_data"
    }
   ],
   "source": [
    "word(addr, -1)"
   ]
  },
  {
   "cell_type": "code",
   "execution_count": 59,
   "id": "5cb6e946-20ab-4a90-a34d-3d218bf7ebc9",
   "metadata": {
    "tags": []
   },
   "outputs": [
    {
     "data": {
      "text/html": [
       "<table class=\"dataframe\">\n",
       "<caption>A data.frame: 6 × 11</caption>\n",
       "<thead>\n",
       "\t<tr><th></th><th scope=col>mpg</th><th scope=col>cyl</th><th scope=col>disp</th><th scope=col>hp</th><th scope=col>drat</th><th scope=col>wt</th><th scope=col>qsec</th><th scope=col>vs</th><th scope=col>am</th><th scope=col>gear</th><th scope=col>carb</th></tr>\n",
       "\t<tr><th></th><th scope=col>&lt;dbl&gt;</th><th scope=col>&lt;dbl&gt;</th><th scope=col>&lt;dbl&gt;</th><th scope=col>&lt;dbl&gt;</th><th scope=col>&lt;dbl&gt;</th><th scope=col>&lt;dbl&gt;</th><th scope=col>&lt;dbl&gt;</th><th scope=col>&lt;dbl&gt;</th><th scope=col>&lt;dbl&gt;</th><th scope=col>&lt;dbl&gt;</th><th scope=col>&lt;dbl&gt;</th></tr>\n",
       "</thead>\n",
       "<tbody>\n",
       "\t<tr><th scope=row>Mazda RX4</th><td>21.0</td><td>6</td><td>160</td><td>110</td><td>3.90</td><td>2.620</td><td>16.46</td><td>0</td><td>1</td><td>4</td><td>4</td></tr>\n",
       "\t<tr><th scope=row>Mazda RX4 Wag</th><td>21.0</td><td>6</td><td>160</td><td>110</td><td>3.90</td><td>2.875</td><td>17.02</td><td>0</td><td>1</td><td>4</td><td>4</td></tr>\n",
       "\t<tr><th scope=row>Datsun 710</th><td>22.8</td><td>4</td><td>108</td><td> 93</td><td>3.85</td><td>2.320</td><td>18.61</td><td>1</td><td>1</td><td>4</td><td>1</td></tr>\n",
       "\t<tr><th scope=row>Hornet 4 Drive</th><td>21.4</td><td>6</td><td>258</td><td>110</td><td>3.08</td><td>3.215</td><td>19.44</td><td>1</td><td>0</td><td>3</td><td>1</td></tr>\n",
       "\t<tr><th scope=row>Hornet Sportabout</th><td>18.7</td><td>8</td><td>360</td><td>175</td><td>3.15</td><td>3.440</td><td>17.02</td><td>0</td><td>0</td><td>3</td><td>2</td></tr>\n",
       "\t<tr><th scope=row>Valiant</th><td>18.1</td><td>6</td><td>225</td><td>105</td><td>2.76</td><td>3.460</td><td>20.22</td><td>1</td><td>0</td><td>3</td><td>1</td></tr>\n",
       "</tbody>\n",
       "</table>\n"
      ],
      "text/latex": [
       "A data.frame: 6 × 11\n",
       "\\begin{tabular}{r|lllllllllll}\n",
       "  & mpg & cyl & disp & hp & drat & wt & qsec & vs & am & gear & carb\\\\\n",
       "  & <dbl> & <dbl> & <dbl> & <dbl> & <dbl> & <dbl> & <dbl> & <dbl> & <dbl> & <dbl> & <dbl>\\\\\n",
       "\\hline\n",
       "\tMazda RX4 & 21.0 & 6 & 160 & 110 & 3.90 & 2.620 & 16.46 & 0 & 1 & 4 & 4\\\\\n",
       "\tMazda RX4 Wag & 21.0 & 6 & 160 & 110 & 3.90 & 2.875 & 17.02 & 0 & 1 & 4 & 4\\\\\n",
       "\tDatsun 710 & 22.8 & 4 & 108 &  93 & 3.85 & 2.320 & 18.61 & 1 & 1 & 4 & 1\\\\\n",
       "\tHornet 4 Drive & 21.4 & 6 & 258 & 110 & 3.08 & 3.215 & 19.44 & 1 & 0 & 3 & 1\\\\\n",
       "\tHornet Sportabout & 18.7 & 8 & 360 & 175 & 3.15 & 3.440 & 17.02 & 0 & 0 & 3 & 2\\\\\n",
       "\tValiant & 18.1 & 6 & 225 & 105 & 2.76 & 3.460 & 20.22 & 1 & 0 & 3 & 1\\\\\n",
       "\\end{tabular}\n"
      ],
      "text/markdown": [
       "\n",
       "A data.frame: 6 × 11\n",
       "\n",
       "| <!--/--> | mpg &lt;dbl&gt; | cyl &lt;dbl&gt; | disp &lt;dbl&gt; | hp &lt;dbl&gt; | drat &lt;dbl&gt; | wt &lt;dbl&gt; | qsec &lt;dbl&gt; | vs &lt;dbl&gt; | am &lt;dbl&gt; | gear &lt;dbl&gt; | carb &lt;dbl&gt; |\n",
       "|---|---|---|---|---|---|---|---|---|---|---|---|\n",
       "| Mazda RX4 | 21.0 | 6 | 160 | 110 | 3.90 | 2.620 | 16.46 | 0 | 1 | 4 | 4 |\n",
       "| Mazda RX4 Wag | 21.0 | 6 | 160 | 110 | 3.90 | 2.875 | 17.02 | 0 | 1 | 4 | 4 |\n",
       "| Datsun 710 | 22.8 | 4 | 108 |  93 | 3.85 | 2.320 | 18.61 | 1 | 1 | 4 | 1 |\n",
       "| Hornet 4 Drive | 21.4 | 6 | 258 | 110 | 3.08 | 3.215 | 19.44 | 1 | 0 | 3 | 1 |\n",
       "| Hornet Sportabout | 18.7 | 8 | 360 | 175 | 3.15 | 3.440 | 17.02 | 0 | 0 | 3 | 2 |\n",
       "| Valiant | 18.1 | 6 | 225 | 105 | 2.76 | 3.460 | 20.22 | 1 | 0 | 3 | 1 |\n",
       "\n"
      ],
      "text/plain": [
       "                  mpg  cyl disp hp  drat wt    qsec  vs am gear carb\n",
       "Mazda RX4         21.0 6   160  110 3.90 2.620 16.46 0  1  4    4   \n",
       "Mazda RX4 Wag     21.0 6   160  110 3.90 2.875 17.02 0  1  4    4   \n",
       "Datsun 710        22.8 4   108   93 3.85 2.320 18.61 1  1  4    1   \n",
       "Hornet 4 Drive    21.4 6   258  110 3.08 3.215 19.44 1  0  3    1   \n",
       "Hornet Sportabout 18.7 8   360  175 3.15 3.440 17.02 0  0  3    2   \n",
       "Valiant           18.1 6   225  105 2.76 3.460 20.22 1  0  3    1   "
      ]
     },
     "metadata": {},
     "output_type": "display_data"
    }
   ],
   "source": [
    "head(mtcars)"
   ]
  },
  {
   "cell_type": "code",
   "execution_count": 60,
   "id": "46f0a9e0-8c20-4974-b654-41fa201b7c58",
   "metadata": {
    "tags": []
   },
   "outputs": [
    {
     "data": {
      "text/html": [
       "<table class=\"dataframe\">\n",
       "<caption>A data.frame: 6 × 12</caption>\n",
       "<thead>\n",
       "\t<tr><th></th><th scope=col>mpg</th><th scope=col>cyl</th><th scope=col>disp</th><th scope=col>hp</th><th scope=col>drat</th><th scope=col>wt</th><th scope=col>qsec</th><th scope=col>vs</th><th scope=col>am</th><th scope=col>gear</th><th scope=col>carb</th><th scope=col>model</th></tr>\n",
       "\t<tr><th></th><th scope=col>&lt;dbl&gt;</th><th scope=col>&lt;dbl&gt;</th><th scope=col>&lt;dbl&gt;</th><th scope=col>&lt;dbl&gt;</th><th scope=col>&lt;dbl&gt;</th><th scope=col>&lt;dbl&gt;</th><th scope=col>&lt;dbl&gt;</th><th scope=col>&lt;dbl&gt;</th><th scope=col>&lt;dbl&gt;</th><th scope=col>&lt;dbl&gt;</th><th scope=col>&lt;dbl&gt;</th><th scope=col>&lt;chr&gt;</th></tr>\n",
       "</thead>\n",
       "<tbody>\n",
       "\t<tr><th scope=row>1</th><td>21.0</td><td>6</td><td>160</td><td>110</td><td>3.90</td><td>2.620</td><td>16.46</td><td>0</td><td>1</td><td>4</td><td>4</td><td>Mazda  </td></tr>\n",
       "\t<tr><th scope=row>2</th><td>21.0</td><td>6</td><td>160</td><td>110</td><td>3.90</td><td>2.875</td><td>17.02</td><td>0</td><td>1</td><td>4</td><td>4</td><td>Mazda  </td></tr>\n",
       "\t<tr><th scope=row>3</th><td>22.8</td><td>4</td><td>108</td><td> 93</td><td>3.85</td><td>2.320</td><td>18.61</td><td>1</td><td>1</td><td>4</td><td>1</td><td>Datsun </td></tr>\n",
       "\t<tr><th scope=row>4</th><td>21.4</td><td>6</td><td>258</td><td>110</td><td>3.08</td><td>3.215</td><td>19.44</td><td>1</td><td>0</td><td>3</td><td>1</td><td>Hornet </td></tr>\n",
       "\t<tr><th scope=row>5</th><td>18.7</td><td>8</td><td>360</td><td>175</td><td>3.15</td><td>3.440</td><td>17.02</td><td>0</td><td>0</td><td>3</td><td>2</td><td>Hornet </td></tr>\n",
       "\t<tr><th scope=row>6</th><td>18.1</td><td>6</td><td>225</td><td>105</td><td>2.76</td><td>3.460</td><td>20.22</td><td>1</td><td>0</td><td>3</td><td>1</td><td>Valiant</td></tr>\n",
       "</tbody>\n",
       "</table>\n"
      ],
      "text/latex": [
       "A data.frame: 6 × 12\n",
       "\\begin{tabular}{r|llllllllllll}\n",
       "  & mpg & cyl & disp & hp & drat & wt & qsec & vs & am & gear & carb & model\\\\\n",
       "  & <dbl> & <dbl> & <dbl> & <dbl> & <dbl> & <dbl> & <dbl> & <dbl> & <dbl> & <dbl> & <dbl> & <chr>\\\\\n",
       "\\hline\n",
       "\t1 & 21.0 & 6 & 160 & 110 & 3.90 & 2.620 & 16.46 & 0 & 1 & 4 & 4 & Mazda  \\\\\n",
       "\t2 & 21.0 & 6 & 160 & 110 & 3.90 & 2.875 & 17.02 & 0 & 1 & 4 & 4 & Mazda  \\\\\n",
       "\t3 & 22.8 & 4 & 108 &  93 & 3.85 & 2.320 & 18.61 & 1 & 1 & 4 & 1 & Datsun \\\\\n",
       "\t4 & 21.4 & 6 & 258 & 110 & 3.08 & 3.215 & 19.44 & 1 & 0 & 3 & 1 & Hornet \\\\\n",
       "\t5 & 18.7 & 8 & 360 & 175 & 3.15 & 3.440 & 17.02 & 0 & 0 & 3 & 2 & Hornet \\\\\n",
       "\t6 & 18.1 & 6 & 225 & 105 & 2.76 & 3.460 & 20.22 & 1 & 0 & 3 & 1 & Valiant\\\\\n",
       "\\end{tabular}\n"
      ],
      "text/markdown": [
       "\n",
       "A data.frame: 6 × 12\n",
       "\n",
       "| <!--/--> | mpg &lt;dbl&gt; | cyl &lt;dbl&gt; | disp &lt;dbl&gt; | hp &lt;dbl&gt; | drat &lt;dbl&gt; | wt &lt;dbl&gt; | qsec &lt;dbl&gt; | vs &lt;dbl&gt; | am &lt;dbl&gt; | gear &lt;dbl&gt; | carb &lt;dbl&gt; | model &lt;chr&gt; |\n",
       "|---|---|---|---|---|---|---|---|---|---|---|---|---|\n",
       "| 1 | 21.0 | 6 | 160 | 110 | 3.90 | 2.620 | 16.46 | 0 | 1 | 4 | 4 | Mazda   |\n",
       "| 2 | 21.0 | 6 | 160 | 110 | 3.90 | 2.875 | 17.02 | 0 | 1 | 4 | 4 | Mazda   |\n",
       "| 3 | 22.8 | 4 | 108 |  93 | 3.85 | 2.320 | 18.61 | 1 | 1 | 4 | 1 | Datsun  |\n",
       "| 4 | 21.4 | 6 | 258 | 110 | 3.08 | 3.215 | 19.44 | 1 | 0 | 3 | 1 | Hornet  |\n",
       "| 5 | 18.7 | 8 | 360 | 175 | 3.15 | 3.440 | 17.02 | 0 | 0 | 3 | 2 | Hornet  |\n",
       "| 6 | 18.1 | 6 | 225 | 105 | 2.76 | 3.460 | 20.22 | 1 | 0 | 3 | 1 | Valiant |\n",
       "\n"
      ],
      "text/plain": [
       "  mpg  cyl disp hp  drat wt    qsec  vs am gear carb model  \n",
       "1 21.0 6   160  110 3.90 2.620 16.46 0  1  4    4    Mazda  \n",
       "2 21.0 6   160  110 3.90 2.875 17.02 0  1  4    4    Mazda  \n",
       "3 22.8 4   108   93 3.85 2.320 18.61 1  1  4    1    Datsun \n",
       "4 21.4 6   258  110 3.08 3.215 19.44 1  0  3    1    Hornet \n",
       "5 18.7 8   360  175 3.15 3.440 17.02 0  0  3    2    Hornet \n",
       "6 18.1 6   225  105 2.76 3.460 20.22 1  0  3    1    Valiant"
      ]
     },
     "metadata": {},
     "output_type": "display_data"
    }
   ],
   "source": [
    "mtcars$model <- word(row.names(mtcars))\n",
    "row.names(mtcars) <- 1:nrow(mtcars)\n",
    "head(mtcars)"
   ]
  },
  {
   "cell_type": "code",
   "execution_count": 61,
   "id": "78715971-5f5c-4264-aa0b-fe9dfdf436f7",
   "metadata": {
    "tags": []
   },
   "outputs": [
    {
     "data": {
      "text/html": [
       "<table class=\"dataframe\">\n",
       "<caption>A data.frame: 32 × 12</caption>\n",
       "<thead>\n",
       "\t<tr><th></th><th scope=col>mpg</th><th scope=col>cyl</th><th scope=col>disp</th><th scope=col>hp</th><th scope=col>drat</th><th scope=col>wt</th><th scope=col>qsec</th><th scope=col>vs</th><th scope=col>am</th><th scope=col>gear</th><th scope=col>carb</th><th scope=col>model</th></tr>\n",
       "\t<tr><th></th><th scope=col>&lt;dbl&gt;</th><th scope=col>&lt;dbl&gt;</th><th scope=col>&lt;dbl&gt;</th><th scope=col>&lt;dbl&gt;</th><th scope=col>&lt;dbl&gt;</th><th scope=col>&lt;dbl&gt;</th><th scope=col>&lt;dbl&gt;</th><th scope=col>&lt;dbl&gt;</th><th scope=col>&lt;dbl&gt;</th><th scope=col>&lt;dbl&gt;</th><th scope=col>&lt;dbl&gt;</th><th scope=col>&lt;chr&gt;</th></tr>\n",
       "</thead>\n",
       "<tbody>\n",
       "\t<tr><th scope=row>1</th><td>21.0</td><td>6</td><td>160.0</td><td>110</td><td>3.90</td><td>2.620</td><td>16.46</td><td>0</td><td>1</td><td>4</td><td>4</td><td>Mazda   </td></tr>\n",
       "\t<tr><th scope=row>2</th><td>21.0</td><td>6</td><td>160.0</td><td>110</td><td>3.90</td><td>2.875</td><td>17.02</td><td>0</td><td>1</td><td>4</td><td>4</td><td>Mazda   </td></tr>\n",
       "\t<tr><th scope=row>3</th><td>22.8</td><td>4</td><td>108.0</td><td> 93</td><td>3.85</td><td>2.320</td><td>18.61</td><td>1</td><td>1</td><td>4</td><td>1</td><td>Datsun  </td></tr>\n",
       "\t<tr><th scope=row>4</th><td>21.4</td><td>6</td><td>258.0</td><td>110</td><td>3.08</td><td>3.215</td><td>19.44</td><td>1</td><td>0</td><td>3</td><td>1</td><td>Hornet  </td></tr>\n",
       "\t<tr><th scope=row>5</th><td>18.7</td><td>8</td><td>360.0</td><td>175</td><td>3.15</td><td>3.440</td><td>17.02</td><td>0</td><td>0</td><td>3</td><td>2</td><td>Hornet  </td></tr>\n",
       "\t<tr><th scope=row>6</th><td>18.1</td><td>6</td><td>225.0</td><td>105</td><td>2.76</td><td>3.460</td><td>20.22</td><td>1</td><td>0</td><td>3</td><td>1</td><td>Valiant </td></tr>\n",
       "\t<tr><th scope=row>7</th><td>14.3</td><td>8</td><td>360.0</td><td>245</td><td>3.21</td><td>3.570</td><td>15.84</td><td>0</td><td>0</td><td>3</td><td>4</td><td>Duster  </td></tr>\n",
       "\t<tr><th scope=row>8</th><td>24.4</td><td>4</td><td>146.7</td><td> 62</td><td>3.69</td><td>3.190</td><td>20.00</td><td>1</td><td>0</td><td>4</td><td>2</td><td>Merc    </td></tr>\n",
       "\t<tr><th scope=row>9</th><td>22.8</td><td>4</td><td>140.8</td><td> 95</td><td>3.92</td><td>3.150</td><td>22.90</td><td>1</td><td>0</td><td>4</td><td>2</td><td>Merc    </td></tr>\n",
       "\t<tr><th scope=row>10</th><td>19.2</td><td>6</td><td>167.6</td><td>123</td><td>3.92</td><td>3.440</td><td>18.30</td><td>1</td><td>0</td><td>4</td><td>4</td><td>Merc    </td></tr>\n",
       "\t<tr><th scope=row>11</th><td>17.8</td><td>6</td><td>167.6</td><td>123</td><td>3.92</td><td>3.440</td><td>18.90</td><td>1</td><td>0</td><td>4</td><td>4</td><td>Merc    </td></tr>\n",
       "\t<tr><th scope=row>12</th><td>16.4</td><td>8</td><td>275.8</td><td>180</td><td>3.07</td><td>4.070</td><td>17.40</td><td>0</td><td>0</td><td>3</td><td>3</td><td>Merc    </td></tr>\n",
       "\t<tr><th scope=row>13</th><td>17.3</td><td>8</td><td>275.8</td><td>180</td><td>3.07</td><td>3.730</td><td>17.60</td><td>0</td><td>0</td><td>3</td><td>3</td><td>Merc    </td></tr>\n",
       "\t<tr><th scope=row>14</th><td>15.2</td><td>8</td><td>275.8</td><td>180</td><td>3.07</td><td>3.780</td><td>18.00</td><td>0</td><td>0</td><td>3</td><td>3</td><td>Merc    </td></tr>\n",
       "\t<tr><th scope=row>15</th><td>10.4</td><td>8</td><td>472.0</td><td>205</td><td>2.93</td><td>5.250</td><td>17.98</td><td>0</td><td>0</td><td>3</td><td>4</td><td>Cadillac</td></tr>\n",
       "\t<tr><th scope=row>16</th><td>10.4</td><td>8</td><td>460.0</td><td>215</td><td>3.00</td><td>5.424</td><td>17.82</td><td>0</td><td>0</td><td>3</td><td>4</td><td>Lincoln </td></tr>\n",
       "\t<tr><th scope=row>17</th><td>14.7</td><td>8</td><td>440.0</td><td>230</td><td>3.23</td><td>5.345</td><td>17.42</td><td>0</td><td>0</td><td>3</td><td>4</td><td>Chrysler</td></tr>\n",
       "\t<tr><th scope=row>18</th><td>32.4</td><td>4</td><td> 78.7</td><td> 66</td><td>4.08</td><td>2.200</td><td>19.47</td><td>1</td><td>1</td><td>4</td><td>1</td><td>Fiat    </td></tr>\n",
       "\t<tr><th scope=row>19</th><td>30.4</td><td>4</td><td> 75.7</td><td> 52</td><td>4.93</td><td>1.615</td><td>18.52</td><td>1</td><td>1</td><td>4</td><td>2</td><td>Honda   </td></tr>\n",
       "\t<tr><th scope=row>20</th><td>33.9</td><td>4</td><td> 71.1</td><td> 65</td><td>4.22</td><td>1.835</td><td>19.90</td><td>1</td><td>1</td><td>4</td><td>1</td><td>Toyota  </td></tr>\n",
       "\t<tr><th scope=row>21</th><td>21.5</td><td>4</td><td>120.1</td><td> 97</td><td>3.70</td><td>2.465</td><td>20.01</td><td>1</td><td>0</td><td>3</td><td>1</td><td>Toyota  </td></tr>\n",
       "\t<tr><th scope=row>22</th><td>15.5</td><td>8</td><td>318.0</td><td>150</td><td>2.76</td><td>3.520</td><td>16.87</td><td>0</td><td>0</td><td>3</td><td>2</td><td>Dodge   </td></tr>\n",
       "\t<tr><th scope=row>23</th><td>15.2</td><td>8</td><td>304.0</td><td>150</td><td>3.15</td><td>3.435</td><td>17.30</td><td>0</td><td>0</td><td>3</td><td>2</td><td>AMC     </td></tr>\n",
       "\t<tr><th scope=row>24</th><td>13.3</td><td>8</td><td>350.0</td><td>245</td><td>3.73</td><td>3.840</td><td>15.41</td><td>0</td><td>0</td><td>3</td><td>4</td><td>Camaro  </td></tr>\n",
       "\t<tr><th scope=row>25</th><td>19.2</td><td>8</td><td>400.0</td><td>175</td><td>3.08</td><td>3.845</td><td>17.05</td><td>0</td><td>0</td><td>3</td><td>2</td><td>Pontiac </td></tr>\n",
       "\t<tr><th scope=row>26</th><td>27.3</td><td>4</td><td> 79.0</td><td> 66</td><td>4.08</td><td>1.935</td><td>18.90</td><td>1</td><td>1</td><td>4</td><td>1</td><td>Fiat    </td></tr>\n",
       "\t<tr><th scope=row>27</th><td>26.0</td><td>4</td><td>120.3</td><td> 91</td><td>4.43</td><td>2.140</td><td>16.70</td><td>0</td><td>1</td><td>5</td><td>2</td><td>Porsche </td></tr>\n",
       "\t<tr><th scope=row>28</th><td>30.4</td><td>4</td><td> 95.1</td><td>113</td><td>3.77</td><td>1.513</td><td>16.90</td><td>1</td><td>1</td><td>5</td><td>2</td><td>Lotus   </td></tr>\n",
       "\t<tr><th scope=row>29</th><td>15.8</td><td>8</td><td>351.0</td><td>264</td><td>4.22</td><td>3.170</td><td>14.50</td><td>0</td><td>1</td><td>5</td><td>4</td><td>Ford    </td></tr>\n",
       "\t<tr><th scope=row>30</th><td>19.7</td><td>6</td><td>145.0</td><td>175</td><td>3.62</td><td>2.770</td><td>15.50</td><td>0</td><td>1</td><td>5</td><td>6</td><td>Ferrari </td></tr>\n",
       "\t<tr><th scope=row>31</th><td>15.0</td><td>8</td><td>301.0</td><td>335</td><td>3.54</td><td>3.570</td><td>14.60</td><td>0</td><td>1</td><td>5</td><td>8</td><td>Maserati</td></tr>\n",
       "\t<tr><th scope=row>32</th><td>21.4</td><td>4</td><td>121.0</td><td>109</td><td>4.11</td><td>2.780</td><td>18.60</td><td>1</td><td>1</td><td>4</td><td>2</td><td>Volvo   </td></tr>\n",
       "</tbody>\n",
       "</table>\n"
      ],
      "text/latex": [
       "A data.frame: 32 × 12\n",
       "\\begin{tabular}{r|llllllllllll}\n",
       "  & mpg & cyl & disp & hp & drat & wt & qsec & vs & am & gear & carb & model\\\\\n",
       "  & <dbl> & <dbl> & <dbl> & <dbl> & <dbl> & <dbl> & <dbl> & <dbl> & <dbl> & <dbl> & <dbl> & <chr>\\\\\n",
       "\\hline\n",
       "\t1 & 21.0 & 6 & 160.0 & 110 & 3.90 & 2.620 & 16.46 & 0 & 1 & 4 & 4 & Mazda   \\\\\n",
       "\t2 & 21.0 & 6 & 160.0 & 110 & 3.90 & 2.875 & 17.02 & 0 & 1 & 4 & 4 & Mazda   \\\\\n",
       "\t3 & 22.8 & 4 & 108.0 &  93 & 3.85 & 2.320 & 18.61 & 1 & 1 & 4 & 1 & Datsun  \\\\\n",
       "\t4 & 21.4 & 6 & 258.0 & 110 & 3.08 & 3.215 & 19.44 & 1 & 0 & 3 & 1 & Hornet  \\\\\n",
       "\t5 & 18.7 & 8 & 360.0 & 175 & 3.15 & 3.440 & 17.02 & 0 & 0 & 3 & 2 & Hornet  \\\\\n",
       "\t6 & 18.1 & 6 & 225.0 & 105 & 2.76 & 3.460 & 20.22 & 1 & 0 & 3 & 1 & Valiant \\\\\n",
       "\t7 & 14.3 & 8 & 360.0 & 245 & 3.21 & 3.570 & 15.84 & 0 & 0 & 3 & 4 & Duster  \\\\\n",
       "\t8 & 24.4 & 4 & 146.7 &  62 & 3.69 & 3.190 & 20.00 & 1 & 0 & 4 & 2 & Merc    \\\\\n",
       "\t9 & 22.8 & 4 & 140.8 &  95 & 3.92 & 3.150 & 22.90 & 1 & 0 & 4 & 2 & Merc    \\\\\n",
       "\t10 & 19.2 & 6 & 167.6 & 123 & 3.92 & 3.440 & 18.30 & 1 & 0 & 4 & 4 & Merc    \\\\\n",
       "\t11 & 17.8 & 6 & 167.6 & 123 & 3.92 & 3.440 & 18.90 & 1 & 0 & 4 & 4 & Merc    \\\\\n",
       "\t12 & 16.4 & 8 & 275.8 & 180 & 3.07 & 4.070 & 17.40 & 0 & 0 & 3 & 3 & Merc    \\\\\n",
       "\t13 & 17.3 & 8 & 275.8 & 180 & 3.07 & 3.730 & 17.60 & 0 & 0 & 3 & 3 & Merc    \\\\\n",
       "\t14 & 15.2 & 8 & 275.8 & 180 & 3.07 & 3.780 & 18.00 & 0 & 0 & 3 & 3 & Merc    \\\\\n",
       "\t15 & 10.4 & 8 & 472.0 & 205 & 2.93 & 5.250 & 17.98 & 0 & 0 & 3 & 4 & Cadillac\\\\\n",
       "\t16 & 10.4 & 8 & 460.0 & 215 & 3.00 & 5.424 & 17.82 & 0 & 0 & 3 & 4 & Lincoln \\\\\n",
       "\t17 & 14.7 & 8 & 440.0 & 230 & 3.23 & 5.345 & 17.42 & 0 & 0 & 3 & 4 & Chrysler\\\\\n",
       "\t18 & 32.4 & 4 &  78.7 &  66 & 4.08 & 2.200 & 19.47 & 1 & 1 & 4 & 1 & Fiat    \\\\\n",
       "\t19 & 30.4 & 4 &  75.7 &  52 & 4.93 & 1.615 & 18.52 & 1 & 1 & 4 & 2 & Honda   \\\\\n",
       "\t20 & 33.9 & 4 &  71.1 &  65 & 4.22 & 1.835 & 19.90 & 1 & 1 & 4 & 1 & Toyota  \\\\\n",
       "\t21 & 21.5 & 4 & 120.1 &  97 & 3.70 & 2.465 & 20.01 & 1 & 0 & 3 & 1 & Toyota  \\\\\n",
       "\t22 & 15.5 & 8 & 318.0 & 150 & 2.76 & 3.520 & 16.87 & 0 & 0 & 3 & 2 & Dodge   \\\\\n",
       "\t23 & 15.2 & 8 & 304.0 & 150 & 3.15 & 3.435 & 17.30 & 0 & 0 & 3 & 2 & AMC     \\\\\n",
       "\t24 & 13.3 & 8 & 350.0 & 245 & 3.73 & 3.840 & 15.41 & 0 & 0 & 3 & 4 & Camaro  \\\\\n",
       "\t25 & 19.2 & 8 & 400.0 & 175 & 3.08 & 3.845 & 17.05 & 0 & 0 & 3 & 2 & Pontiac \\\\\n",
       "\t26 & 27.3 & 4 &  79.0 &  66 & 4.08 & 1.935 & 18.90 & 1 & 1 & 4 & 1 & Fiat    \\\\\n",
       "\t27 & 26.0 & 4 & 120.3 &  91 & 4.43 & 2.140 & 16.70 & 0 & 1 & 5 & 2 & Porsche \\\\\n",
       "\t28 & 30.4 & 4 &  95.1 & 113 & 3.77 & 1.513 & 16.90 & 1 & 1 & 5 & 2 & Lotus   \\\\\n",
       "\t29 & 15.8 & 8 & 351.0 & 264 & 4.22 & 3.170 & 14.50 & 0 & 1 & 5 & 4 & Ford    \\\\\n",
       "\t30 & 19.7 & 6 & 145.0 & 175 & 3.62 & 2.770 & 15.50 & 0 & 1 & 5 & 6 & Ferrari \\\\\n",
       "\t31 & 15.0 & 8 & 301.0 & 335 & 3.54 & 3.570 & 14.60 & 0 & 1 & 5 & 8 & Maserati\\\\\n",
       "\t32 & 21.4 & 4 & 121.0 & 109 & 4.11 & 2.780 & 18.60 & 1 & 1 & 4 & 2 & Volvo   \\\\\n",
       "\\end{tabular}\n"
      ],
      "text/markdown": [
       "\n",
       "A data.frame: 32 × 12\n",
       "\n",
       "| <!--/--> | mpg &lt;dbl&gt; | cyl &lt;dbl&gt; | disp &lt;dbl&gt; | hp &lt;dbl&gt; | drat &lt;dbl&gt; | wt &lt;dbl&gt; | qsec &lt;dbl&gt; | vs &lt;dbl&gt; | am &lt;dbl&gt; | gear &lt;dbl&gt; | carb &lt;dbl&gt; | model &lt;chr&gt; |\n",
       "|---|---|---|---|---|---|---|---|---|---|---|---|---|\n",
       "| 1 | 21.0 | 6 | 160.0 | 110 | 3.90 | 2.620 | 16.46 | 0 | 1 | 4 | 4 | Mazda    |\n",
       "| 2 | 21.0 | 6 | 160.0 | 110 | 3.90 | 2.875 | 17.02 | 0 | 1 | 4 | 4 | Mazda    |\n",
       "| 3 | 22.8 | 4 | 108.0 |  93 | 3.85 | 2.320 | 18.61 | 1 | 1 | 4 | 1 | Datsun   |\n",
       "| 4 | 21.4 | 6 | 258.0 | 110 | 3.08 | 3.215 | 19.44 | 1 | 0 | 3 | 1 | Hornet   |\n",
       "| 5 | 18.7 | 8 | 360.0 | 175 | 3.15 | 3.440 | 17.02 | 0 | 0 | 3 | 2 | Hornet   |\n",
       "| 6 | 18.1 | 6 | 225.0 | 105 | 2.76 | 3.460 | 20.22 | 1 | 0 | 3 | 1 | Valiant  |\n",
       "| 7 | 14.3 | 8 | 360.0 | 245 | 3.21 | 3.570 | 15.84 | 0 | 0 | 3 | 4 | Duster   |\n",
       "| 8 | 24.4 | 4 | 146.7 |  62 | 3.69 | 3.190 | 20.00 | 1 | 0 | 4 | 2 | Merc     |\n",
       "| 9 | 22.8 | 4 | 140.8 |  95 | 3.92 | 3.150 | 22.90 | 1 | 0 | 4 | 2 | Merc     |\n",
       "| 10 | 19.2 | 6 | 167.6 | 123 | 3.92 | 3.440 | 18.30 | 1 | 0 | 4 | 4 | Merc     |\n",
       "| 11 | 17.8 | 6 | 167.6 | 123 | 3.92 | 3.440 | 18.90 | 1 | 0 | 4 | 4 | Merc     |\n",
       "| 12 | 16.4 | 8 | 275.8 | 180 | 3.07 | 4.070 | 17.40 | 0 | 0 | 3 | 3 | Merc     |\n",
       "| 13 | 17.3 | 8 | 275.8 | 180 | 3.07 | 3.730 | 17.60 | 0 | 0 | 3 | 3 | Merc     |\n",
       "| 14 | 15.2 | 8 | 275.8 | 180 | 3.07 | 3.780 | 18.00 | 0 | 0 | 3 | 3 | Merc     |\n",
       "| 15 | 10.4 | 8 | 472.0 | 205 | 2.93 | 5.250 | 17.98 | 0 | 0 | 3 | 4 | Cadillac |\n",
       "| 16 | 10.4 | 8 | 460.0 | 215 | 3.00 | 5.424 | 17.82 | 0 | 0 | 3 | 4 | Lincoln  |\n",
       "| 17 | 14.7 | 8 | 440.0 | 230 | 3.23 | 5.345 | 17.42 | 0 | 0 | 3 | 4 | Chrysler |\n",
       "| 18 | 32.4 | 4 |  78.7 |  66 | 4.08 | 2.200 | 19.47 | 1 | 1 | 4 | 1 | Fiat     |\n",
       "| 19 | 30.4 | 4 |  75.7 |  52 | 4.93 | 1.615 | 18.52 | 1 | 1 | 4 | 2 | Honda    |\n",
       "| 20 | 33.9 | 4 |  71.1 |  65 | 4.22 | 1.835 | 19.90 | 1 | 1 | 4 | 1 | Toyota   |\n",
       "| 21 | 21.5 | 4 | 120.1 |  97 | 3.70 | 2.465 | 20.01 | 1 | 0 | 3 | 1 | Toyota   |\n",
       "| 22 | 15.5 | 8 | 318.0 | 150 | 2.76 | 3.520 | 16.87 | 0 | 0 | 3 | 2 | Dodge    |\n",
       "| 23 | 15.2 | 8 | 304.0 | 150 | 3.15 | 3.435 | 17.30 | 0 | 0 | 3 | 2 | AMC      |\n",
       "| 24 | 13.3 | 8 | 350.0 | 245 | 3.73 | 3.840 | 15.41 | 0 | 0 | 3 | 4 | Camaro   |\n",
       "| 25 | 19.2 | 8 | 400.0 | 175 | 3.08 | 3.845 | 17.05 | 0 | 0 | 3 | 2 | Pontiac  |\n",
       "| 26 | 27.3 | 4 |  79.0 |  66 | 4.08 | 1.935 | 18.90 | 1 | 1 | 4 | 1 | Fiat     |\n",
       "| 27 | 26.0 | 4 | 120.3 |  91 | 4.43 | 2.140 | 16.70 | 0 | 1 | 5 | 2 | Porsche  |\n",
       "| 28 | 30.4 | 4 |  95.1 | 113 | 3.77 | 1.513 | 16.90 | 1 | 1 | 5 | 2 | Lotus    |\n",
       "| 29 | 15.8 | 8 | 351.0 | 264 | 4.22 | 3.170 | 14.50 | 0 | 1 | 5 | 4 | Ford     |\n",
       "| 30 | 19.7 | 6 | 145.0 | 175 | 3.62 | 2.770 | 15.50 | 0 | 1 | 5 | 6 | Ferrari  |\n",
       "| 31 | 15.0 | 8 | 301.0 | 335 | 3.54 | 3.570 | 14.60 | 0 | 1 | 5 | 8 | Maserati |\n",
       "| 32 | 21.4 | 4 | 121.0 | 109 | 4.11 | 2.780 | 18.60 | 1 | 1 | 4 | 2 | Volvo    |\n",
       "\n"
      ],
      "text/plain": [
       "   mpg  cyl disp  hp  drat wt    qsec  vs am gear carb model   \n",
       "1  21.0 6   160.0 110 3.90 2.620 16.46 0  1  4    4    Mazda   \n",
       "2  21.0 6   160.0 110 3.90 2.875 17.02 0  1  4    4    Mazda   \n",
       "3  22.8 4   108.0  93 3.85 2.320 18.61 1  1  4    1    Datsun  \n",
       "4  21.4 6   258.0 110 3.08 3.215 19.44 1  0  3    1    Hornet  \n",
       "5  18.7 8   360.0 175 3.15 3.440 17.02 0  0  3    2    Hornet  \n",
       "6  18.1 6   225.0 105 2.76 3.460 20.22 1  0  3    1    Valiant \n",
       "7  14.3 8   360.0 245 3.21 3.570 15.84 0  0  3    4    Duster  \n",
       "8  24.4 4   146.7  62 3.69 3.190 20.00 1  0  4    2    Merc    \n",
       "9  22.8 4   140.8  95 3.92 3.150 22.90 1  0  4    2    Merc    \n",
       "10 19.2 6   167.6 123 3.92 3.440 18.30 1  0  4    4    Merc    \n",
       "11 17.8 6   167.6 123 3.92 3.440 18.90 1  0  4    4    Merc    \n",
       "12 16.4 8   275.8 180 3.07 4.070 17.40 0  0  3    3    Merc    \n",
       "13 17.3 8   275.8 180 3.07 3.730 17.60 0  0  3    3    Merc    \n",
       "14 15.2 8   275.8 180 3.07 3.780 18.00 0  0  3    3    Merc    \n",
       "15 10.4 8   472.0 205 2.93 5.250 17.98 0  0  3    4    Cadillac\n",
       "16 10.4 8   460.0 215 3.00 5.424 17.82 0  0  3    4    Lincoln \n",
       "17 14.7 8   440.0 230 3.23 5.345 17.42 0  0  3    4    Chrysler\n",
       "18 32.4 4    78.7  66 4.08 2.200 19.47 1  1  4    1    Fiat    \n",
       "19 30.4 4    75.7  52 4.93 1.615 18.52 1  1  4    2    Honda   \n",
       "20 33.9 4    71.1  65 4.22 1.835 19.90 1  1  4    1    Toyota  \n",
       "21 21.5 4   120.1  97 3.70 2.465 20.01 1  0  3    1    Toyota  \n",
       "22 15.5 8   318.0 150 2.76 3.520 16.87 0  0  3    2    Dodge   \n",
       "23 15.2 8   304.0 150 3.15 3.435 17.30 0  0  3    2    AMC     \n",
       "24 13.3 8   350.0 245 3.73 3.840 15.41 0  0  3    4    Camaro  \n",
       "25 19.2 8   400.0 175 3.08 3.845 17.05 0  0  3    2    Pontiac \n",
       "26 27.3 4    79.0  66 4.08 1.935 18.90 1  1  4    1    Fiat    \n",
       "27 26.0 4   120.3  91 4.43 2.140 16.70 0  1  5    2    Porsche \n",
       "28 30.4 4    95.1 113 3.77 1.513 16.90 1  1  5    2    Lotus   \n",
       "29 15.8 8   351.0 264 4.22 3.170 14.50 0  1  5    4    Ford    \n",
       "30 19.7 6   145.0 175 3.62 2.770 15.50 0  1  5    6    Ferrari \n",
       "31 15.0 8   301.0 335 3.54 3.570 14.60 0  1  5    8    Maserati\n",
       "32 21.4 4   121.0 109 4.11 2.780 18.60 1  1  4    2    Volvo   "
      ]
     },
     "metadata": {},
     "output_type": "display_data"
    }
   ],
   "source": [
    "mtcars"
   ]
  },
  {
   "cell_type": "code",
   "execution_count": 62,
   "id": "878568a6-0f01-48ff-b53b-5c4c58b50f23",
   "metadata": {
    "tags": []
   },
   "outputs": [],
   "source": [
    "library(readxl)"
   ]
  },
  {
   "cell_type": "code",
   "execution_count": 63,
   "id": "a647e4b7-673c-4ab3-9aae-2d5943cdc657",
   "metadata": {
    "tags": []
   },
   "outputs": [
    {
     "name": "stdout",
     "output_type": "stream",
     "text": [
      " [1] \"Mazda RX4\"           \"Mazda RX4 Wag\"       \"Datsun 710\"         \n",
      " [4] \"Hornet 4 Drive\"      \"Hornet Sportabout\"   \"Valiant\"            \n",
      " [7] \"Duster 360\"          \"Merc 240D\"           \"Merc 230\"           \n",
      "[10] \"Merc 280\"            \"Merc 280C\"           \"Merc 450SE\"         \n",
      "[13] \"Merc 450SL\"          \"Merc 450SLC\"         \"Cadillac Fleetwood\" \n",
      "[16] \"Lincoln Continental\" \"Chrysler Imperial\"   \"Fiat 128\"           \n",
      "[19] \"Honda Civic\"         \"Toyota Corolla\"      \"Toyota Corona\"      \n",
      "[22] \"Dodge Challenger\"    \"AMC Javelin\"         \"Camaro Z28\"         \n",
      "[25] \"Pontiac Firebird\"    \"Fiat X1-9\"           \"Porsche 914-2\"      \n",
      "[28] \"Lotus Europa\"        \"Ford Pantera L\"      \"Ferrari Dino\"       \n",
      "[31] \"Maserati Bora\"       \"Volvo 142E\"         \n"
     ]
    }
   ],
   "source": [
    "data(mtcars)\n",
    "model <- row.names(mtcars)\n",
    "print(model)"
   ]
  },
  {
   "cell_type": "code",
   "execution_count": 64,
   "id": "78c901c3-e7db-4ec6-8c19-b00f43e82057",
   "metadata": {
    "tags": []
   },
   "outputs": [
    {
     "data": {
      "text/html": [
       "<style>\n",
       ".list-inline {list-style: none; margin:0; padding: 0}\n",
       ".list-inline>li {display: inline-block}\n",
       ".list-inline>li:not(:last-child)::after {content: \"\\00b7\"; padding: 0 .5ex}\n",
       "</style>\n",
       "<ol class=list-inline><li>'Mazda RX4'</li><li>'Mazda RX4 Wag'</li><li>'Camaro Z28'</li><li>'Maserati Bora'</li></ol>\n"
      ],
      "text/latex": [
       "\\begin{enumerate*}\n",
       "\\item 'Mazda RX4'\n",
       "\\item 'Mazda RX4 Wag'\n",
       "\\item 'Camaro Z28'\n",
       "\\item 'Maserati Bora'\n",
       "\\end{enumerate*}\n"
      ],
      "text/markdown": [
       "1. 'Mazda RX4'\n",
       "2. 'Mazda RX4 Wag'\n",
       "3. 'Camaro Z28'\n",
       "4. 'Maserati Bora'\n",
       "\n",
       "\n"
      ],
      "text/plain": [
       "[1] \"Mazda RX4\"     \"Mazda RX4 Wag\" \"Camaro Z28\"    \"Maserati Bora\""
      ]
     },
     "metadata": {},
     "output_type": "display_data"
    }
   ],
   "source": [
    "idx <- grep(\"ma\", model, ignore.case=T)\n",
    "model[idx]"
   ]
  },
  {
   "cell_type": "code",
   "execution_count": 65,
   "id": "3402007b-7c3c-4d1b-9ac6-e02671ce42c7",
   "metadata": {
    "tags": []
   },
   "outputs": [
    {
     "data": {
      "text/html": [
       "<style>\n",
       ".list-inline {list-style: none; margin:0; padding: 0}\n",
       ".list-inline>li {display: inline-block}\n",
       ".list-inline>li:not(:last-child)::after {content: \"\\00b7\"; padding: 0 .5ex}\n",
       "</style>\n",
       "<ol class=list-inline><li>'Mazda RX4'</li><li>'Mazda RX4 Wag'</li><li>'Merc 240D'</li><li>'Merc 230'</li><li>'Merc 280'</li><li>'Merc 280C'</li><li>'Merc 450SE'</li><li>'Merc 450SL'</li><li>'Merc 450SLC'</li><li>'Maserati Bora'</li></ol>\n"
      ],
      "text/latex": [
       "\\begin{enumerate*}\n",
       "\\item 'Mazda RX4'\n",
       "\\item 'Mazda RX4 Wag'\n",
       "\\item 'Merc 240D'\n",
       "\\item 'Merc 230'\n",
       "\\item 'Merc 280'\n",
       "\\item 'Merc 280C'\n",
       "\\item 'Merc 450SE'\n",
       "\\item 'Merc 450SL'\n",
       "\\item 'Merc 450SLC'\n",
       "\\item 'Maserati Bora'\n",
       "\\end{enumerate*}\n"
      ],
      "text/markdown": [
       "1. 'Mazda RX4'\n",
       "2. 'Mazda RX4 Wag'\n",
       "3. 'Merc 240D'\n",
       "4. 'Merc 230'\n",
       "5. 'Merc 280'\n",
       "6. 'Merc 280C'\n",
       "7. 'Merc 450SE'\n",
       "8. 'Merc 450SL'\n",
       "9. 'Merc 450SLC'\n",
       "10. 'Maserati Bora'\n",
       "\n",
       "\n"
      ],
      "text/plain": [
       " [1] \"Mazda RX4\"     \"Mazda RX4 Wag\" \"Merc 240D\"     \"Merc 230\"     \n",
       " [5] \"Merc 280\"      \"Merc 280C\"     \"Merc 450SE\"    \"Merc 450SL\"   \n",
       " [9] \"Merc 450SLC\"   \"Maserati Bora\""
      ]
     },
     "metadata": {},
     "output_type": "display_data"
    }
   ],
   "source": [
    "idx <- grep(\"^M\", model, ignore.case=T)\n",
    "model[idx]"
   ]
  },
  {
   "cell_type": "code",
   "execution_count": 66,
   "id": "52f4a403-07d2-4ce7-8ab0-d17f24012f5d",
   "metadata": {
    "tags": []
   },
   "outputs": [
    {
     "data": {
      "text/html": [
       "<style>\n",
       ".list-inline {list-style: none; margin:0; padding: 0}\n",
       ".list-inline>li {display: inline-block}\n",
       ".list-inline>li:not(:last-child)::after {content: \"\\00b7\"; padding: 0 .5ex}\n",
       "</style>\n",
       "<ol class=list-inline><li>'Hornet 4 Drive'</li><li>'Merc 450SE'</li><li>'Volvo 142E'</li></ol>\n"
      ],
      "text/latex": [
       "\\begin{enumerate*}\n",
       "\\item 'Hornet 4 Drive'\n",
       "\\item 'Merc 450SE'\n",
       "\\item 'Volvo 142E'\n",
       "\\end{enumerate*}\n"
      ],
      "text/markdown": [
       "1. 'Hornet 4 Drive'\n",
       "2. 'Merc 450SE'\n",
       "3. 'Volvo 142E'\n",
       "\n",
       "\n"
      ],
      "text/plain": [
       "[1] \"Hornet 4 Drive\" \"Merc 450SE\"     \"Volvo 142E\"    "
      ]
     },
     "metadata": {},
     "output_type": "display_data"
    }
   ],
   "source": [
    "idx <- grep(\"e$\", model, ignore.case=T)\n",
    "model[idx]"
   ]
  },
  {
   "cell_type": "code",
   "execution_count": 67,
   "id": "68a1b1e0-8076-42c6-897c-fbc878a6eeef",
   "metadata": {
    "tags": []
   },
   "outputs": [
    {
     "data": {
      "text/html": [
       "<style>\n",
       ".list-inline {list-style: none; margin:0; padding: 0}\n",
       ".list-inline>li {display: inline-block}\n",
       ".list-inline>li:not(:last-child)::after {content: \"\\00b7\"; padding: 0 .5ex}\n",
       "</style>\n",
       "<ol class=list-inline><li>'Mazda RX4'</li><li>'Mazda RX4 Wag'</li><li>'Datsun 710'</li><li>'Hornet 4 Drive'</li><li>'Duster 360'</li><li>'Merc 240D'</li><li>'Merc 230'</li><li>'Merc 280'</li><li>'Merc 280C'</li><li>'Merc 450SE'</li><li>'Merc 450SL'</li><li>'Merc 450SLC'</li><li>'Fiat 128'</li><li>'Camaro Z28'</li><li>'Fiat X1-9'</li><li>'Porsche 914-2'</li><li>'Volvo 142E'</li></ol>\n"
      ],
      "text/latex": [
       "\\begin{enumerate*}\n",
       "\\item 'Mazda RX4'\n",
       "\\item 'Mazda RX4 Wag'\n",
       "\\item 'Datsun 710'\n",
       "\\item 'Hornet 4 Drive'\n",
       "\\item 'Duster 360'\n",
       "\\item 'Merc 240D'\n",
       "\\item 'Merc 230'\n",
       "\\item 'Merc 280'\n",
       "\\item 'Merc 280C'\n",
       "\\item 'Merc 450SE'\n",
       "\\item 'Merc 450SL'\n",
       "\\item 'Merc 450SLC'\n",
       "\\item 'Fiat 128'\n",
       "\\item 'Camaro Z28'\n",
       "\\item 'Fiat X1-9'\n",
       "\\item 'Porsche 914-2'\n",
       "\\item 'Volvo 142E'\n",
       "\\end{enumerate*}\n"
      ],
      "text/markdown": [
       "1. 'Mazda RX4'\n",
       "2. 'Mazda RX4 Wag'\n",
       "3. 'Datsun 710'\n",
       "4. 'Hornet 4 Drive'\n",
       "5. 'Duster 360'\n",
       "6. 'Merc 240D'\n",
       "7. 'Merc 230'\n",
       "8. 'Merc 280'\n",
       "9. 'Merc 280C'\n",
       "10. 'Merc 450SE'\n",
       "11. 'Merc 450SL'\n",
       "12. 'Merc 450SLC'\n",
       "13. 'Fiat 128'\n",
       "14. 'Camaro Z28'\n",
       "15. 'Fiat X1-9'\n",
       "16. 'Porsche 914-2'\n",
       "17. 'Volvo 142E'\n",
       "\n",
       "\n"
      ],
      "text/plain": [
       " [1] \"Mazda RX4\"      \"Mazda RX4 Wag\"  \"Datsun 710\"     \"Hornet 4 Drive\"\n",
       " [5] \"Duster 360\"     \"Merc 240D\"      \"Merc 230\"       \"Merc 280\"      \n",
       " [9] \"Merc 280C\"      \"Merc 450SE\"     \"Merc 450SL\"     \"Merc 450SLC\"   \n",
       "[13] \"Fiat 128\"       \"Camaro Z28\"     \"Fiat X1-9\"      \"Porsche 914-2\" \n",
       "[17] \"Volvo 142E\"    "
      ]
     },
     "metadata": {},
     "output_type": "display_data"
    }
   ],
   "source": [
    "idx <- grep(\"[0-9]\", model)\n",
    "model[idx]"
   ]
  },
  {
   "cell_type": "code",
   "execution_count": 68,
   "id": "ece49011-31df-4104-85e0-f594ba5b3ac1",
   "metadata": {
    "tags": []
   },
   "outputs": [
    {
     "data": {
      "text/html": [
       "<style>\n",
       ".list-inline {list-style: none; margin:0; padding: 0}\n",
       ".list-inline>li {display: inline-block}\n",
       ".list-inline>li:not(:last-child)::after {content: \"\\00b7\"; padding: 0 .5ex}\n",
       "</style>\n",
       "<ol class=list-inline><li>'Mazda RX4'</li><li>'Datsun 710'</li><li>'Duster 360'</li><li>'Merc 230'</li><li>'Merc 280'</li><li>'Fiat 128'</li><li>'Camaro Z28'</li><li>'Fiat X1-9'</li><li>'Porsche 914-2'</li></ol>\n"
      ],
      "text/latex": [
       "\\begin{enumerate*}\n",
       "\\item 'Mazda RX4'\n",
       "\\item 'Datsun 710'\n",
       "\\item 'Duster 360'\n",
       "\\item 'Merc 230'\n",
       "\\item 'Merc 280'\n",
       "\\item 'Fiat 128'\n",
       "\\item 'Camaro Z28'\n",
       "\\item 'Fiat X1-9'\n",
       "\\item 'Porsche 914-2'\n",
       "\\end{enumerate*}\n"
      ],
      "text/markdown": [
       "1. 'Mazda RX4'\n",
       "2. 'Datsun 710'\n",
       "3. 'Duster 360'\n",
       "4. 'Merc 230'\n",
       "5. 'Merc 280'\n",
       "6. 'Fiat 128'\n",
       "7. 'Camaro Z28'\n",
       "8. 'Fiat X1-9'\n",
       "9. 'Porsche 914-2'\n",
       "\n",
       "\n"
      ],
      "text/plain": [
       "[1] \"Mazda RX4\"     \"Datsun 710\"    \"Duster 360\"    \"Merc 230\"     \n",
       "[5] \"Merc 280\"      \"Fiat 128\"      \"Camaro Z28\"    \"Fiat X1-9\"    \n",
       "[9] \"Porsche 914-2\""
      ]
     },
     "metadata": {},
     "output_type": "display_data"
    }
   ],
   "source": [
    "idx <- grep(\"[0-9]$\", model)\n",
    "model[idx]"
   ]
  },
  {
   "cell_type": "code",
   "execution_count": 69,
   "id": "c990061b-b4f9-426a-84c6-9ac2b34f869f",
   "metadata": {
    "tags": []
   },
   "outputs": [
    {
     "data": {
      "text/html": [
       "<style>\n",
       ".list-inline {list-style: none; margin:0; padding: 0}\n",
       ".list-inline>li {display: inline-block}\n",
       ".list-inline>li:not(:last-child)::after {content: \"\\00b7\"; padding: 0 .5ex}\n",
       "</style>\n",
       "<ol class=list-inline><li>'Mazda RX4'</li><li>'Mazda RX4 Wag'</li><li>'Toyota Corolla'</li><li>'Toyota Corona'</li></ol>\n"
      ],
      "text/latex": [
       "\\begin{enumerate*}\n",
       "\\item 'Mazda RX4'\n",
       "\\item 'Mazda RX4 Wag'\n",
       "\\item 'Toyota Corolla'\n",
       "\\item 'Toyota Corona'\n",
       "\\end{enumerate*}\n"
      ],
      "text/markdown": [
       "1. 'Mazda RX4'\n",
       "2. 'Mazda RX4 Wag'\n",
       "3. 'Toyota Corolla'\n",
       "4. 'Toyota Corona'\n",
       "\n",
       "\n"
      ],
      "text/plain": [
       "[1] \"Mazda RX4\"      \"Mazda RX4 Wag\"  \"Toyota Corolla\" \"Toyota Corona\" "
      ]
     },
     "metadata": {},
     "output_type": "display_data"
    }
   ],
   "source": [
    "idx <- grep(\"maz|yot\", model, ignore.case=T)\n",
    "model[idx]"
   ]
  },
  {
   "cell_type": "code",
   "execution_count": 70,
   "id": "e93ed250-fea5-4f33-b67e-bedb20814440",
   "metadata": {
    "tags": []
   },
   "outputs": [
    {
     "data": {
      "text/html": [
       "<table class=\"dataframe\">\n",
       "<caption>A tibble: 6 × 8</caption>\n",
       "<thead>\n",
       "\t<tr><th scope=col>시도</th><th scope=col>시군구</th><th scope=col>발생월</th><th scope=col>사고건수</th><th scope=col>사망자수</th><th scope=col>중상자수</th><th scope=col>경상자수</th><th scope=col>부상신고자수</th></tr>\n",
       "\t<tr><th scope=col>&lt;chr&gt;</th><th scope=col>&lt;chr&gt;</th><th scope=col>&lt;dbl&gt;</th><th scope=col>&lt;dbl&gt;</th><th scope=col>&lt;dbl&gt;</th><th scope=col>&lt;dbl&gt;</th><th scope=col>&lt;dbl&gt;</th><th scope=col>&lt;dbl&gt;</th></tr>\n",
       "</thead>\n",
       "<tbody>\n",
       "\t<tr><td>서울</td><td>종로구</td><td>1</td><td>69</td><td>3</td><td>21</td><td>66</td><td> 6</td></tr>\n",
       "\t<tr><td>서울</td><td>종로구</td><td>2</td><td>54</td><td>0</td><td>21</td><td>46</td><td> 8</td></tr>\n",
       "\t<tr><td>서울</td><td>종로구</td><td>3</td><td>66</td><td>0</td><td>17</td><td>65</td><td>10</td></tr>\n",
       "\t<tr><td>서울</td><td>종로구</td><td>4</td><td>51</td><td>0</td><td>21</td><td>39</td><td> 6</td></tr>\n",
       "\t<tr><td>서울</td><td>종로구</td><td>5</td><td>62</td><td>0</td><td>12</td><td>68</td><td>11</td></tr>\n",
       "\t<tr><td>서울</td><td>종로구</td><td>6</td><td>70</td><td>1</td><td>16</td><td>69</td><td> 5</td></tr>\n",
       "</tbody>\n",
       "</table>\n"
      ],
      "text/latex": [
       "A tibble: 6 × 8\n",
       "\\begin{tabular}{llllllll}\n",
       " 시도 & 시군구 & 발생월 & 사고건수 & 사망자수 & 중상자수 & 경상자수 & 부상신고자수\\\\\n",
       " <chr> & <chr> & <dbl> & <dbl> & <dbl> & <dbl> & <dbl> & <dbl>\\\\\n",
       "\\hline\n",
       "\t 서울 & 종로구 & 1 & 69 & 3 & 21 & 66 &  6\\\\\n",
       "\t 서울 & 종로구 & 2 & 54 & 0 & 21 & 46 &  8\\\\\n",
       "\t 서울 & 종로구 & 3 & 66 & 0 & 17 & 65 & 10\\\\\n",
       "\t 서울 & 종로구 & 4 & 51 & 0 & 21 & 39 &  6\\\\\n",
       "\t 서울 & 종로구 & 5 & 62 & 0 & 12 & 68 & 11\\\\\n",
       "\t 서울 & 종로구 & 6 & 70 & 1 & 16 & 69 &  5\\\\\n",
       "\\end{tabular}\n"
      ],
      "text/markdown": [
       "\n",
       "A tibble: 6 × 8\n",
       "\n",
       "| 시도 &lt;chr&gt; | 시군구 &lt;chr&gt; | 발생월 &lt;dbl&gt; | 사고건수 &lt;dbl&gt; | 사망자수 &lt;dbl&gt; | 중상자수 &lt;dbl&gt; | 경상자수 &lt;dbl&gt; | 부상신고자수 &lt;dbl&gt; |\n",
       "|---|---|---|---|---|---|---|---|\n",
       "| 서울 | 종로구 | 1 | 69 | 3 | 21 | 66 |  6 |\n",
       "| 서울 | 종로구 | 2 | 54 | 0 | 21 | 46 |  8 |\n",
       "| 서울 | 종로구 | 3 | 66 | 0 | 17 | 65 | 10 |\n",
       "| 서울 | 종로구 | 4 | 51 | 0 | 21 | 39 |  6 |\n",
       "| 서울 | 종로구 | 5 | 62 | 0 | 12 | 68 | 11 |\n",
       "| 서울 | 종로구 | 6 | 70 | 1 | 16 | 69 |  5 |\n",
       "\n"
      ],
      "text/plain": [
       "  시도 시군구 발생월 사고건수 사망자수 중상자수 경상자수 부상신고자수\n",
       "1 서울 종로구 1      69       3        21       66        6          \n",
       "2 서울 종로구 2      54       0        21       46        8          \n",
       "3 서울 종로구 3      66       0        17       65       10          \n",
       "4 서울 종로구 4      51       0        21       39        6          \n",
       "5 서울 종로구 5      62       0        12       68       11          \n",
       "6 서울 종로구 6      70       1        16       69        5          "
      ]
     },
     "metadata": {},
     "output_type": "display_data"
    }
   ],
   "source": [
    "library(readxl)\n",
    "\n",
    "data <- read_xlsx(\"2022년_도로교통공단_시군구별 월별 교통사고 통계.xlsx\")\n",
    "head(data)"
   ]
  },
  {
   "cell_type": "code",
   "execution_count": 71,
   "id": "4b92fc33-4f33-4f1c-97c4-39dcc940c656",
   "metadata": {
    "tags": []
   },
   "outputs": [
    {
     "data": {
      "text/plain": [
       "\n",
       "충북 \n",
       " 132 "
      ]
     },
     "metadata": {},
     "output_type": "display_data"
    }
   ],
   "source": [
    "cb <- subset(data, data$`시도` == \"충북\")\n",
    "table(cb$시도)"
   ]
  },
  {
   "cell_type": "code",
   "execution_count": 72,
   "id": "e37c2616-c54d-451c-ae90-226f4cbbb887",
   "metadata": {
    "tags": []
   },
   "outputs": [
    {
     "data": {
      "text/plain": [
       "\n",
       "괴산군 단양군 보은군 영동군 옥천군 음성군 제천시 증평군 진천군 청주시 충주시 \n",
       "    12     12     12     12     12     12     12     12     12     12     12 "
      ]
     },
     "metadata": {},
     "output_type": "display_data"
    }
   ],
   "source": [
    "table(cb$`시군구`)"
   ]
  },
  {
   "cell_type": "code",
   "execution_count": 73,
   "id": "9f77d198-43c3-48f5-887c-3f37bdc7eaac",
   "metadata": {
    "tags": []
   },
   "outputs": [
    {
     "data": {
      "text/plain": [
       "    사고건수         사망자수        중상자수         경상자수     \n",
       " Min.   :  4.00   Min.   :0.000   Min.   :  0.00   Min.   :  3.00  \n",
       " 1st Qu.: 13.00   1st Qu.:0.000   1st Qu.:  5.00   1st Qu.: 13.00  \n",
       " Median : 19.00   Median :1.000   Median :  9.00   Median : 23.50  \n",
       " Mean   : 60.49   Mean   :1.212   Mean   : 20.28   Mean   : 68.86  \n",
       " 3rd Qu.: 53.75   3rd Qu.:2.000   3rd Qu.: 23.00   3rd Qu.: 61.00  \n",
       " Max.   :394.00   Max.   :8.000   Max.   :114.00   Max.   :480.00  \n",
       "  부상신고자수   \n",
       " Min.   : 0.000  \n",
       " 1st Qu.: 0.000  \n",
       " Median : 1.000  \n",
       " Mean   : 2.795  \n",
       " 3rd Qu.: 3.250  \n",
       " Max.   :20.000  "
      ]
     },
     "metadata": {},
     "output_type": "display_data"
    }
   ],
   "source": [
    "summary(cb[4:length(cb)])"
   ]
  },
  {
   "cell_type": "code",
   "execution_count": 74,
   "id": "e82d24fb-f75b-4220-93ab-3363313f8dd4",
   "metadata": {
    "tags": []
   },
   "outputs": [
    {
     "data": {
      "text/plain": [
       "\n",
       "제천시 청주시 충주시 \n",
       "    12     12     12 "
      ]
     },
     "metadata": {},
     "output_type": "display_data"
    }
   ],
   "source": [
    "idx <- grep(\"시$\", cb$`시군구`)\n",
    "city <- cb[idx, ]\n",
    "table(city$시군구) "
   ]
  },
  {
   "cell_type": "code",
   "execution_count": 75,
   "id": "ea00b37c-65fb-44e1-ab42-d0a3d4b90b9e",
   "metadata": {
    "tags": []
   },
   "outputs": [
    {
     "data": {
      "text/html": [
       "<table class=\"dataframe\">\n",
       "<caption>A tibble: 6 × 8</caption>\n",
       "<thead>\n",
       "\t<tr><th scope=col>시도</th><th scope=col>시군구</th><th scope=col>발생월</th><th scope=col>사고건수</th><th scope=col>사망자수</th><th scope=col>중상자수</th><th scope=col>경상자수</th><th scope=col>부상신고자수</th></tr>\n",
       "\t<tr><th scope=col>&lt;chr&gt;</th><th scope=col>&lt;chr&gt;</th><th scope=col>&lt;dbl&gt;</th><th scope=col>&lt;dbl&gt;</th><th scope=col>&lt;dbl&gt;</th><th scope=col>&lt;dbl&gt;</th><th scope=col>&lt;dbl&gt;</th><th scope=col>&lt;dbl&gt;</th></tr>\n",
       "</thead>\n",
       "<tbody>\n",
       "\t<tr><td>충북</td><td>청주시</td><td>1</td><td>313</td><td>2</td><td> 90</td><td>394</td><td>10</td></tr>\n",
       "\t<tr><td>충북</td><td>청주시</td><td>2</td><td>279</td><td>2</td><td> 89</td><td>353</td><td> 9</td></tr>\n",
       "\t<tr><td>충북</td><td>청주시</td><td>3</td><td>361</td><td>5</td><td>110</td><td>412</td><td>14</td></tr>\n",
       "\t<tr><td>충북</td><td>청주시</td><td>4</td><td>355</td><td>8</td><td>113</td><td>395</td><td>11</td></tr>\n",
       "\t<tr><td>충북</td><td>청주시</td><td>5</td><td>353</td><td>4</td><td>114</td><td>372</td><td>14</td></tr>\n",
       "\t<tr><td>충북</td><td>청주시</td><td>6</td><td>376</td><td>5</td><td> 95</td><td>453</td><td>11</td></tr>\n",
       "</tbody>\n",
       "</table>\n"
      ],
      "text/latex": [
       "A tibble: 6 × 8\n",
       "\\begin{tabular}{llllllll}\n",
       " 시도 & 시군구 & 발생월 & 사고건수 & 사망자수 & 중상자수 & 경상자수 & 부상신고자수\\\\\n",
       " <chr> & <chr> & <dbl> & <dbl> & <dbl> & <dbl> & <dbl> & <dbl>\\\\\n",
       "\\hline\n",
       "\t 충북 & 청주시 & 1 & 313 & 2 &  90 & 394 & 10\\\\\n",
       "\t 충북 & 청주시 & 2 & 279 & 2 &  89 & 353 &  9\\\\\n",
       "\t 충북 & 청주시 & 3 & 361 & 5 & 110 & 412 & 14\\\\\n",
       "\t 충북 & 청주시 & 4 & 355 & 8 & 113 & 395 & 11\\\\\n",
       "\t 충북 & 청주시 & 5 & 353 & 4 & 114 & 372 & 14\\\\\n",
       "\t 충북 & 청주시 & 6 & 376 & 5 &  95 & 453 & 11\\\\\n",
       "\\end{tabular}\n"
      ],
      "text/markdown": [
       "\n",
       "A tibble: 6 × 8\n",
       "\n",
       "| 시도 &lt;chr&gt; | 시군구 &lt;chr&gt; | 발생월 &lt;dbl&gt; | 사고건수 &lt;dbl&gt; | 사망자수 &lt;dbl&gt; | 중상자수 &lt;dbl&gt; | 경상자수 &lt;dbl&gt; | 부상신고자수 &lt;dbl&gt; |\n",
       "|---|---|---|---|---|---|---|---|\n",
       "| 충북 | 청주시 | 1 | 313 | 2 |  90 | 394 | 10 |\n",
       "| 충북 | 청주시 | 2 | 279 | 2 |  89 | 353 |  9 |\n",
       "| 충북 | 청주시 | 3 | 361 | 5 | 110 | 412 | 14 |\n",
       "| 충북 | 청주시 | 4 | 355 | 8 | 113 | 395 | 11 |\n",
       "| 충북 | 청주시 | 5 | 353 | 4 | 114 | 372 | 14 |\n",
       "| 충북 | 청주시 | 6 | 376 | 5 |  95 | 453 | 11 |\n",
       "\n"
      ],
      "text/plain": [
       "  시도 시군구 발생월 사고건수 사망자수 중상자수 경상자수 부상신고자수\n",
       "1 충북 청주시 1      313      2         90      394      10          \n",
       "2 충북 청주시 2      279      2         89      353       9          \n",
       "3 충북 청주시 3      361      5        110      412      14          \n",
       "4 충북 청주시 4      355      8        113      395      11          \n",
       "5 충북 청주시 5      353      4        114      372      14          \n",
       "6 충북 청주시 6      376      5         95      453      11          "
      ]
     },
     "metadata": {},
     "output_type": "display_data"
    }
   ],
   "source": [
    "head(city)"
   ]
  },
  {
   "cell_type": "code",
   "execution_count": 76,
   "id": "5f697382-40d5-4e8b-9712-09ee022b6783",
   "metadata": {
    "tags": []
   },
   "outputs": [
    {
     "data": {
      "text/plain": [
       "    사고건수         사망자수        중상자수         경상자수     \n",
       " Min.   :  4.00   Min.   :0.000   Min.   :  0.00   Min.   :  3.00  \n",
       " 1st Qu.: 13.00   1st Qu.:0.000   1st Qu.:  5.00   1st Qu.: 13.00  \n",
       " Median : 19.00   Median :1.000   Median :  9.00   Median : 23.50  \n",
       " Mean   : 60.49   Mean   :1.212   Mean   : 20.28   Mean   : 68.86  \n",
       " 3rd Qu.: 53.75   3rd Qu.:2.000   3rd Qu.: 23.00   3rd Qu.: 61.00  \n",
       " Max.   :394.00   Max.   :8.000   Max.   :114.00   Max.   :480.00  \n",
       "  부상신고자수   \n",
       " Min.   : 0.000  \n",
       " 1st Qu.: 0.000  \n",
       " Median : 1.000  \n",
       " Mean   : 2.795  \n",
       " 3rd Qu.: 3.250  \n",
       " Max.   :20.000  "
      ]
     },
     "metadata": {},
     "output_type": "display_data"
    }
   ],
   "source": [
    "summary(cb[4:length(city)])"
   ]
  },
  {
   "cell_type": "code",
   "execution_count": 77,
   "id": "1bf49676-6100-44b0-aa58-7302d48ee004",
   "metadata": {
    "tags": []
   },
   "outputs": [
    {
     "name": "stdout",
     "output_type": "stream",
     "text": [
      " [1] \"부산 서구\" \"부산 동구\" \"부산 남구\" \"부산 북구\" \"대구 동구\" \"대구 서구\"\n",
      " [7] \"대구 남구\" \"대구 북구\" \"인천 동구\" \"인천 서구\" \"광주 동구\" \"광주 서구\"\n",
      "[13] \"광주 북구\" \"광주 남구\" \"대전 동구\" \"대전 서구\" \"울산 남구\" \"울산 동구\"\n",
      "[19] \"울산 북구\"\n"
     ]
    }
   ],
   "source": [
    "NEWS <- subset(data, data$`시군구` %in% c(\"동구\", \"서구\", \"남구\", \"북구\"))\n",
    "print(unique(paste(NEWS$`시도`, NEWS$`시군구`)))"
   ]
  },
  {
   "cell_type": "code",
   "execution_count": 78,
   "id": "f83991ed-e1dc-4672-bea5-f8a5a97b1219",
   "metadata": {
    "tags": []
   },
   "outputs": [
    {
     "name": "stdout",
     "output_type": "stream",
     "text": [
      " [1] \"서울 성동구\" \"서울 성북구\" \"서울 강서구\" \"서울 강남구\" \"서울 강동구\"\n",
      " [6] \"서울 강북구\" \"부산 서구\"   \"부산 동구\"   \"부산 남구\"   \"부산 북구\"  \n",
      "[11] \"부산 강서구\" \"대구 동구\"   \"대구 서구\"   \"대구 남구\"   \"대구 북구\"  \n",
      "[16] \"대구 달서구\" \"인천 동구\"   \"인천 남동구\" \"인천 서구\"   \"광주 동구\"  \n",
      "[21] \"광주 서구\"   \"광주 북구\"   \"광주 남구\"   \"대전 동구\"   \"대전 서구\"  \n",
      "[26] \"울산 남구\"   \"울산 동구\"   \"울산 북구\"  \n"
     ]
    }
   ],
   "source": [
    "idx <- grep(\"동구|서구|남구|북구\", data$`시군구`)\n",
    "NEWS3 <- data[idx, ]\n",
    "print(unique(paste(NEWS3$`시도`, NEWS3$`시군구`)))"
   ]
  },
  {
   "cell_type": "code",
   "execution_count": 79,
   "id": "10ff415c-db3e-4603-82c6-f66e58f22676",
   "metadata": {
    "tags": []
   },
   "outputs": [
    {
     "name": "stdout",
     "output_type": "stream",
     "text": [
      " [1] \"부산 서구\" \"부산 동구\" \"부산 남구\" \"부산 북구\" \"대구 동구\" \"대구 서구\"\n",
      " [7] \"대구 남구\" \"대구 북구\" \"인천 동구\" \"인천 서구\" \"광주 동구\" \"광주 서구\"\n",
      "[13] \"광주 북구\" \"광주 남구\" \"대전 동구\" \"대전 서구\" \"울산 남구\" \"울산 동구\"\n",
      "[19] \"울산 북구\"\n"
     ]
    }
   ],
   "source": [
    "idx <- grep(\"^동구|^서구|^남구|^북구\", data$`시군구`)\n",
    "NEWS2 <- data[idx, ]\n",
    "print(unique(paste(NEWS2$`시도`, NEWS2$`시군구`)))"
   ]
  },
  {
   "cell_type": "code",
   "execution_count": 80,
   "id": "1876c7d2-c356-46ca-bc65-4e8d27e75e36",
   "metadata": {
    "tags": []
   },
   "outputs": [
    {
     "name": "stdout",
     "output_type": "stream",
     "text": [
      " [1] \"서울 중구\"   \"서울 강서구\" \"서울 강남구\" \"서울 강동구\" \"서울 강북구\"\n",
      " [6] \"부산 중구\"   \"부산 강서구\" \"대구 중구\"   \"인천 중구\"   \"대전 중구\"  \n",
      "[11] \"울산 중구\"  \n"
     ]
    }
   ],
   "source": [
    "idx <- grep(\"강동|강서|강남|강북|중구\", data$`시군구`)\n",
    "NEWS3 <- data[idx, ]\n",
    "print(unique(paste(NEWS3$`시도`, NEWS3$`시군구`)))"
   ]
  },
  {
   "cell_type": "code",
   "execution_count": 81,
   "id": "5dfa1bc1-856e-413b-92fb-c7244422dc67",
   "metadata": {
    "tags": []
   },
   "outputs": [
    {
     "data": {
      "text/html": [
       "<style>\n",
       ".list-inline {list-style: none; margin:0; padding: 0}\n",
       ".list-inline>li {display: inline-block}\n",
       ".list-inline>li:not(:last-child)::after {content: \"\\00b7\"; padding: 0 .5ex}\n",
       "</style>\n",
       "<ol class=list-inline><li>'2015년 초미세먼지.xlsx'</li><li>'2022년_도로교통공단_시군구별 월별 교통사고 통계.xlsx'</li><li>'air_2021.xlsx'</li><li>'cb.xlsx'</li><li>'merge.xlsx'</li><li>'newdata.xlsx'</li><li>'sample.xlsx'</li></ol>\n"
      ],
      "text/latex": [
       "\\begin{enumerate*}\n",
       "\\item '2015년 초미세먼지.xlsx'\n",
       "\\item '2022년\\_도로교통공단\\_시군구별 월별 교통사고 통계.xlsx'\n",
       "\\item 'air\\_2021.xlsx'\n",
       "\\item 'cb.xlsx'\n",
       "\\item 'merge.xlsx'\n",
       "\\item 'newdata.xlsx'\n",
       "\\item 'sample.xlsx'\n",
       "\\end{enumerate*}\n"
      ],
      "text/markdown": [
       "1. '2015년 초미세먼지.xlsx'\n",
       "2. '2022년_도로교통공단_시군구별 월별 교통사고 통계.xlsx'\n",
       "3. 'air_2021.xlsx'\n",
       "4. 'cb.xlsx'\n",
       "5. 'merge.xlsx'\n",
       "6. 'newdata.xlsx'\n",
       "7. 'sample.xlsx'\n",
       "\n",
       "\n"
      ],
      "text/plain": [
       "[1] \"2015년 초미세먼지.xlsx\"                              \n",
       "[2] \"2022년_도로교통공단_시군구별 월별 교통사고 통계.xlsx\"\n",
       "[3] \"air_2021.xlsx\"                                       \n",
       "[4] \"cb.xlsx\"                                             \n",
       "[5] \"merge.xlsx\"                                          \n",
       "[6] \"newdata.xlsx\"                                        \n",
       "[7] \"sample.xlsx\"                                         "
      ]
     },
     "metadata": {},
     "output_type": "display_data"
    }
   ],
   "source": [
    "list.files(pattern=\"*.xlsx\")"
   ]
  },
  {
   "cell_type": "code",
   "execution_count": 82,
   "id": "c2d40c55-f19a-4628-87ea-24d703819f7c",
   "metadata": {
    "tags": []
   },
   "outputs": [],
   "source": [
    "mise1 <- read_xlsx(\"2015년 초미세먼지.xlsx\", sheet=1)\n",
    "mise2 <- read_xlsx(\"2015년 초미세먼지.xlsx\", sheet=2) \n",
    "mise3 <- read_xlsx(\"2015년 초미세먼지.xlsx\", sheet=3) "
   ]
  },
  {
   "cell_type": "code",
   "execution_count": 83,
   "id": "2b6a6cd3-8167-47ee-8376-238fb6c31749",
   "metadata": {
    "tags": []
   },
   "outputs": [
    {
     "name": "stdout",
     "output_type": "stream",
     "text": [
      "tibble [677,662 × 9] (S3: tbl_df/tbl/data.frame)\n",
      " $ AREA : chr [1:677662] \"서울\" \"서울\" \"서울\" \"서울\" ...\n",
      " $ Point: chr [1:677662] \"중구\" \"중구\" \"중구\" \"중구\" ...\n",
      " $ Date : num [1:677662] 2.02e+09 2.02e+09 2.02e+09 2.02e+09 2.02e+09 ...\n",
      " $ Year : num [1:677662] 2015 2015 2015 2015 2015 ...\n",
      " $ Month: num [1:677662] 1 1 1 1 1 1 1 1 1 1 ...\n",
      " $ Day  : num [1:677662] 1 1 1 1 1 1 1 1 1 1 ...\n",
      " $ Time : num [1:677662] 0 1 2 3 4 5 6 7 8 9 ...\n",
      " $ PM10 : num [1:677662] 44 57 76 86 106 128 139 132 121 94 ...\n",
      " $ PM25 : num [1:677662] 7 10 10 11 12 18 19 16 14 16 ...\n"
     ]
    }
   ],
   "source": [
    "str(mise1)"
   ]
  },
  {
   "cell_type": "code",
   "execution_count": 84,
   "id": "4cdec187-8973-4dc1-a5bf-cd817015c767",
   "metadata": {
    "tags": []
   },
   "outputs": [
    {
     "name": "stdout",
     "output_type": "stream",
     "text": [
      "tibble [683,824 × 9] (S3: tbl_df/tbl/data.frame)\n",
      " $ AREA : chr [1:683824] \"서울\" \"서울\" \"서울\" \"서울\" ...\n",
      " $ Point: chr [1:683824] \"중구\" \"중구\" \"중구\" \"중구\" ...\n",
      " $ Date : num [1:683824] 2.02e+09 2.02e+09 2.02e+09 2.02e+09 2.02e+09 ...\n",
      " $ Year : num [1:683824] 2015 2015 2015 2015 2015 ...\n",
      " $ Month: num [1:683824] 4 4 4 4 4 4 4 4 4 4 ...\n",
      " $ Day  : num [1:683824] 1 1 1 1 1 1 1 1 1 1 ...\n",
      " $ Time : num [1:683824] 0 1 2 3 4 5 6 7 8 9 ...\n",
      " $ PM10 : num [1:683824] 38 29 31 28 22 29 35 34 37 29 ...\n",
      " $ PM25 : num [1:683824] 28 NA NA 26 19 25 24 27 25 19 ...\n"
     ]
    }
   ],
   "source": [
    "str(mise2)"
   ]
  },
  {
   "cell_type": "code",
   "execution_count": 85,
   "id": "91754b07-9613-40d6-b27b-7af151c92747",
   "metadata": {
    "tags": []
   },
   "outputs": [
    {
     "name": "stdout",
     "output_type": "stream",
     "text": [
      "tibble [213,428 × 9] (S3: tbl_df/tbl/data.frame)\n",
      " $ AREA : chr [1:213428] \"서울\" \"서울\" \"서울\" \"서울\" ...\n",
      " $ Point: chr [1:213428] \"중구\" \"중구\" \"중구\" \"중구\" ...\n",
      " $ Date : num [1:213428] 2.02e+09 2.02e+09 2.02e+09 2.02e+09 2.02e+09 ...\n",
      " $ Year : num [1:213428] 2015 2015 2015 2015 2015 ...\n",
      " $ Month: num [1:213428] 7 7 7 7 7 7 7 7 7 7 ...\n",
      " $ Day  : num [1:213428] 1 1 1 1 1 1 1 1 1 1 ...\n",
      " $ Time : num [1:213428] 0 1 2 3 4 5 6 7 8 9 ...\n",
      " $ PM10 : num [1:213428] 32 54 47 23 26 28 26 21 38 22 ...\n",
      " $ PM25 : num [1:213428] 28 42 28 17 15 15 11 10 15 NA ...\n"
     ]
    }
   ],
   "source": [
    "str(mise3)"
   ]
  },
  {
   "cell_type": "code",
   "execution_count": 86,
   "id": "9ac73340-cfd5-4603-b9f8-e802b585ac54",
   "metadata": {
    "tags": []
   },
   "outputs": [
    {
     "name": "stdout",
     "output_type": "stream",
     "text": [
      "tibble [1,574,914 × 9] (S3: tbl_df/tbl/data.frame)\n",
      " $ AREA : chr [1:1574914] \"서울\" \"서울\" \"서울\" \"서울\" ...\n",
      " $ Point: chr [1:1574914] \"중구\" \"중구\" \"중구\" \"중구\" ...\n",
      " $ Date : num [1:1574914] 2.02e+09 2.02e+09 2.02e+09 2.02e+09 2.02e+09 ...\n",
      " $ Year : num [1:1574914] 2015 2015 2015 2015 2015 ...\n",
      " $ Month: num [1:1574914] 1 1 1 1 1 1 1 1 1 1 ...\n",
      " $ Day  : num [1:1574914] 1 1 1 1 1 1 1 1 1 1 ...\n",
      " $ Time : num [1:1574914] 0 1 2 3 4 5 6 7 8 9 ...\n",
      " $ PM10 : num [1:1574914] 44 57 76 86 106 128 139 132 121 94 ...\n",
      " $ PM25 : num [1:1574914] 7 10 10 11 12 18 19 16 14 16 ...\n"
     ]
    }
   ],
   "source": [
    "mise <- rbind(mise1, mise2, mise3)\n",
    "str(mise)"
   ]
  },
  {
   "cell_type": "code",
   "execution_count": 87,
   "id": "3020bc19-0c9a-4abe-8a64-320b268f1e6a",
   "metadata": {
    "tags": []
   },
   "outputs": [
    {
     "data": {
      "text/html": [
       "<table class=\"dataframe\">\n",
       "<caption>A tibble: 6 × 9</caption>\n",
       "<thead>\n",
       "\t<tr><th scope=col>AREA</th><th scope=col>Point</th><th scope=col>Date</th><th scope=col>Year</th><th scope=col>Month</th><th scope=col>Day</th><th scope=col>Time</th><th scope=col>PM10</th><th scope=col>PM25</th></tr>\n",
       "\t<tr><th scope=col>&lt;chr&gt;</th><th scope=col>&lt;chr&gt;</th><th scope=col>&lt;dbl&gt;</th><th scope=col>&lt;dbl&gt;</th><th scope=col>&lt;dbl&gt;</th><th scope=col>&lt;dbl&gt;</th><th scope=col>&lt;dbl&gt;</th><th scope=col>&lt;dbl&gt;</th><th scope=col>&lt;dbl&gt;</th></tr>\n",
       "</thead>\n",
       "<tbody>\n",
       "\t<tr><td>서울</td><td>중구</td><td>2015010100</td><td>2015</td><td>1</td><td>1</td><td>0</td><td> 44</td><td> 7</td></tr>\n",
       "\t<tr><td>서울</td><td>중구</td><td>2015010101</td><td>2015</td><td>1</td><td>1</td><td>1</td><td> 57</td><td>10</td></tr>\n",
       "\t<tr><td>서울</td><td>중구</td><td>2015010102</td><td>2015</td><td>1</td><td>1</td><td>2</td><td> 76</td><td>10</td></tr>\n",
       "\t<tr><td>서울</td><td>중구</td><td>2015010103</td><td>2015</td><td>1</td><td>1</td><td>3</td><td> 86</td><td>11</td></tr>\n",
       "\t<tr><td>서울</td><td>중구</td><td>2015010104</td><td>2015</td><td>1</td><td>1</td><td>4</td><td>106</td><td>12</td></tr>\n",
       "\t<tr><td>서울</td><td>중구</td><td>2015010105</td><td>2015</td><td>1</td><td>1</td><td>5</td><td>128</td><td>18</td></tr>\n",
       "</tbody>\n",
       "</table>\n"
      ],
      "text/latex": [
       "A tibble: 6 × 9\n",
       "\\begin{tabular}{lllllllll}\n",
       " AREA & Point & Date & Year & Month & Day & Time & PM10 & PM25\\\\\n",
       " <chr> & <chr> & <dbl> & <dbl> & <dbl> & <dbl> & <dbl> & <dbl> & <dbl>\\\\\n",
       "\\hline\n",
       "\t 서울 & 중구 & 2015010100 & 2015 & 1 & 1 & 0 &  44 &  7\\\\\n",
       "\t 서울 & 중구 & 2015010101 & 2015 & 1 & 1 & 1 &  57 & 10\\\\\n",
       "\t 서울 & 중구 & 2015010102 & 2015 & 1 & 1 & 2 &  76 & 10\\\\\n",
       "\t 서울 & 중구 & 2015010103 & 2015 & 1 & 1 & 3 &  86 & 11\\\\\n",
       "\t 서울 & 중구 & 2015010104 & 2015 & 1 & 1 & 4 & 106 & 12\\\\\n",
       "\t 서울 & 중구 & 2015010105 & 2015 & 1 & 1 & 5 & 128 & 18\\\\\n",
       "\\end{tabular}\n"
      ],
      "text/markdown": [
       "\n",
       "A tibble: 6 × 9\n",
       "\n",
       "| AREA &lt;chr&gt; | Point &lt;chr&gt; | Date &lt;dbl&gt; | Year &lt;dbl&gt; | Month &lt;dbl&gt; | Day &lt;dbl&gt; | Time &lt;dbl&gt; | PM10 &lt;dbl&gt; | PM25 &lt;dbl&gt; |\n",
       "|---|---|---|---|---|---|---|---|---|\n",
       "| 서울 | 중구 | 2015010100 | 2015 | 1 | 1 | 0 |  44 |  7 |\n",
       "| 서울 | 중구 | 2015010101 | 2015 | 1 | 1 | 1 |  57 | 10 |\n",
       "| 서울 | 중구 | 2015010102 | 2015 | 1 | 1 | 2 |  76 | 10 |\n",
       "| 서울 | 중구 | 2015010103 | 2015 | 1 | 1 | 3 |  86 | 11 |\n",
       "| 서울 | 중구 | 2015010104 | 2015 | 1 | 1 | 4 | 106 | 12 |\n",
       "| 서울 | 중구 | 2015010105 | 2015 | 1 | 1 | 5 | 128 | 18 |\n",
       "\n"
      ],
      "text/plain": [
       "  AREA Point Date       Year Month Day Time PM10 PM25\n",
       "1 서울 중구  2015010100 2015 1     1   0     44   7  \n",
       "2 서울 중구  2015010101 2015 1     1   1     57  10  \n",
       "3 서울 중구  2015010102 2015 1     1   2     76  10  \n",
       "4 서울 중구  2015010103 2015 1     1   3     86  11  \n",
       "5 서울 중구  2015010104 2015 1     1   4    106  12  \n",
       "6 서울 중구  2015010105 2015 1     1   5    128  18  "
      ]
     },
     "metadata": {},
     "output_type": "display_data"
    }
   ],
   "source": [
    "head(mise)"
   ]
  },
  {
   "cell_type": "code",
   "execution_count": 88,
   "id": "c9601afe-9279-4001-8985-bdde2ef7b925",
   "metadata": {
    "tags": []
   },
   "outputs": [
    {
     "data": {
      "text/html": [
       "<table class=\"dataframe\">\n",
       "<caption>A tibble: 6 × 9</caption>\n",
       "<thead>\n",
       "\t<tr><th scope=col>AREA</th><th scope=col>Point</th><th scope=col>Date</th><th scope=col>Year</th><th scope=col>Month</th><th scope=col>Day</th><th scope=col>Time</th><th scope=col>PM10</th><th scope=col>PM25</th></tr>\n",
       "\t<tr><th scope=col>&lt;chr&gt;</th><th scope=col>&lt;chr&gt;</th><th scope=col>&lt;dbl&gt;</th><th scope=col>&lt;dbl&gt;</th><th scope=col>&lt;dbl&gt;</th><th scope=col>&lt;dbl&gt;</th><th scope=col>&lt;dbl&gt;</th><th scope=col>&lt;dbl&gt;</th><th scope=col>&lt;dbl&gt;</th></tr>\n",
       "</thead>\n",
       "<tbody>\n",
       "\t<tr><td>경기 부천시</td><td>계남공원</td><td>2015073118</td><td>2015</td><td>7</td><td>31</td><td>18</td><td>NA</td><td>NA</td></tr>\n",
       "\t<tr><td>경기 부천시</td><td>계남공원</td><td>2015073119</td><td>2015</td><td>7</td><td>31</td><td>19</td><td>NA</td><td>NA</td></tr>\n",
       "\t<tr><td>경기 부천시</td><td>계남공원</td><td>2015073120</td><td>2015</td><td>7</td><td>31</td><td>20</td><td>NA</td><td>NA</td></tr>\n",
       "\t<tr><td>경기 부천시</td><td>계남공원</td><td>2015073121</td><td>2015</td><td>7</td><td>31</td><td>21</td><td>NA</td><td>NA</td></tr>\n",
       "\t<tr><td>경기 부천시</td><td>계남공원</td><td>2015073122</td><td>2015</td><td>7</td><td>31</td><td>22</td><td>NA</td><td>NA</td></tr>\n",
       "\t<tr><td>경기 부천시</td><td>계남공원</td><td>2015073123</td><td>2015</td><td>7</td><td>31</td><td>23</td><td>NA</td><td>NA</td></tr>\n",
       "</tbody>\n",
       "</table>\n"
      ],
      "text/latex": [
       "A tibble: 6 × 9\n",
       "\\begin{tabular}{lllllllll}\n",
       " AREA & Point & Date & Year & Month & Day & Time & PM10 & PM25\\\\\n",
       " <chr> & <chr> & <dbl> & <dbl> & <dbl> & <dbl> & <dbl> & <dbl> & <dbl>\\\\\n",
       "\\hline\n",
       "\t 경기 부천시 & 계남공원 & 2015073118 & 2015 & 7 & 31 & 18 & NA & NA\\\\\n",
       "\t 경기 부천시 & 계남공원 & 2015073119 & 2015 & 7 & 31 & 19 & NA & NA\\\\\n",
       "\t 경기 부천시 & 계남공원 & 2015073120 & 2015 & 7 & 31 & 20 & NA & NA\\\\\n",
       "\t 경기 부천시 & 계남공원 & 2015073121 & 2015 & 7 & 31 & 21 & NA & NA\\\\\n",
       "\t 경기 부천시 & 계남공원 & 2015073122 & 2015 & 7 & 31 & 22 & NA & NA\\\\\n",
       "\t 경기 부천시 & 계남공원 & 2015073123 & 2015 & 7 & 31 & 23 & NA & NA\\\\\n",
       "\\end{tabular}\n"
      ],
      "text/markdown": [
       "\n",
       "A tibble: 6 × 9\n",
       "\n",
       "| AREA &lt;chr&gt; | Point &lt;chr&gt; | Date &lt;dbl&gt; | Year &lt;dbl&gt; | Month &lt;dbl&gt; | Day &lt;dbl&gt; | Time &lt;dbl&gt; | PM10 &lt;dbl&gt; | PM25 &lt;dbl&gt; |\n",
       "|---|---|---|---|---|---|---|---|---|\n",
       "| 경기 부천시 | 계남공원 | 2015073118 | 2015 | 7 | 31 | 18 | NA | NA |\n",
       "| 경기 부천시 | 계남공원 | 2015073119 | 2015 | 7 | 31 | 19 | NA | NA |\n",
       "| 경기 부천시 | 계남공원 | 2015073120 | 2015 | 7 | 31 | 20 | NA | NA |\n",
       "| 경기 부천시 | 계남공원 | 2015073121 | 2015 | 7 | 31 | 21 | NA | NA |\n",
       "| 경기 부천시 | 계남공원 | 2015073122 | 2015 | 7 | 31 | 22 | NA | NA |\n",
       "| 경기 부천시 | 계남공원 | 2015073123 | 2015 | 7 | 31 | 23 | NA | NA |\n",
       "\n"
      ],
      "text/plain": [
       "  AREA        Point    Date       Year Month Day Time PM10 PM25\n",
       "1 경기 부천시 계남공원 2015073118 2015 7     31  18   NA   NA  \n",
       "2 경기 부천시 계남공원 2015073119 2015 7     31  19   NA   NA  \n",
       "3 경기 부천시 계남공원 2015073120 2015 7     31  20   NA   NA  \n",
       "4 경기 부천시 계남공원 2015073121 2015 7     31  21   NA   NA  \n",
       "5 경기 부천시 계남공원 2015073122 2015 7     31  22   NA   NA  \n",
       "6 경기 부천시 계남공원 2015073123 2015 7     31  23   NA   NA  "
      ]
     },
     "metadata": {},
     "output_type": "display_data"
    }
   ],
   "source": [
    "tail(mise)"
   ]
  },
  {
   "cell_type": "code",
   "execution_count": 89,
   "id": "80300ff4-46f2-4199-b980-1b0ad9c9d8ab",
   "metadata": {
    "tags": []
   },
   "outputs": [
    {
     "data": {
      "text/html": [
       "<style>\n",
       ".list-inline {list-style: none; margin:0; padding: 0}\n",
       ".list-inline>li {display: inline-block}\n",
       ".list-inline>li:not(:last-child)::after {content: \"\\00b7\"; padding: 0 .5ex}\n",
       "</style>\n",
       "<ol class=list-inline><li>'중구'</li><li>'한강대로'</li><li>'종로구'</li><li>'청계천'</li><li>'종로'</li><li>'용산구'</li><li>'광진구'</li><li>'성동구'</li><li>'강변북로'</li><li>'중랑구'</li><li>'동대문구'</li><li>'청량리'</li><li>'성북구'</li><li>'내부순환로'</li><li>'도봉구'</li><li>'은평구'</li><li>'서대문구'</li><li>'마포구'</li><li>'신촌로'</li><li>'강서구'</li><li>'공항대로'</li><li>'구로구'</li><li>'영등포구'</li><li>'영등포로'</li><li>'동작구'</li><li>'동작대로 중앙차로'</li><li>'관악구'</li><li>'강남구'</li><li>'서초구'</li><li>'도산대로'</li><li>'강남대로'</li><li>'송파구'</li><li>'강동구'</li><li>'길동'</li><li>'금천구'</li><li>'강북구'</li><li>'양천구'</li><li>'노원구'</li><li>'화랑로'</li><li>'신풍동'</li><li>'인계동'</li><li>'광교동'</li><li>'영통동'</li><li>'천천동'</li><li>'동수원'</li><li>'고색동'</li><li>'백현동'</li><li>'단대동'</li><li>'정자1동'</li><li>'수내동'</li><li>'모란역'</li><li>'복정동'</li><li>'운중동'</li><li>'상대원1동'</li><li>'의정부동'</li><li>'의정부1동'</li><li>'안양6동'</li><li>'부림동'</li><li>'호계동'</li><li>'안양2동'</li><li>'철산동'</li><li>'소하동'</li><li>'고잔동'</li><li>'원시동'</li><li>'본오동'</li><li>'원곡동'</li><li>'부곡동1'</li><li>'대부동'</li><li>'호수동'</li><li>'중앙로1'</li><li>'별양동'</li><li>'과천동'</li><li>'교문동'</li><li>'동구동'</li><li>'부곡3동'</li><li>'고천동'</li><li>'정왕동'</li><li>'시화공단'</li><li>'대야동'</li><li>'금곡동'</li><li>'오남읍'</li><li>'비전동'</li><li>'안중'</li><li>'평택항'</li><li>'금촌동'</li><li>'운정'</li><li>'행신동'</li><li>'식사동'</li><li>'마두역'</li><li>'경안동'</li><li>'김량장동'</li><li>'수지'</li><li>'기흥'</li><li>'구갈동'</li><li>'설성면'</li><li>'창전동'</li><li>'관인면'</li><li>'선단동'</li><li>'사우동'</li><li>'고촌면'</li><li>'통진읍'</li><li>'당동'</li><li>'산본동'</li><li>'오산동'</li><li>'신장동'</li><li>'남양동'</li><li>'향남'</li><li>'동탄동'</li><li>'백석읍'</li><li>'보산동'</li><li>'봉산동'</li><li>'여주시'</li><li>'연천'</li><li>'가평읍'</li><li>'양평'</li><li>'중앙로'</li><li>'석사동'</li><li>'방산면'</li><li>'광복동'</li><li>'초량동'</li><li>'태종대'</li><li>'전포동'</li><li>'온천동'</li><li>'명장동'</li><li>'대연동'</li><li>'학장동'</li><li>'덕천동'</li><li>'청룡동'</li><li>'좌동'</li><li>'장림동'</li><li>'대저동'</li><li>'녹산동'</li><li>'연산동'</li><li>'기장읍'</li><li>'용수리'</li><li>'수정동'</li><li>'부곡동'</li><li>'광안동'</li><li>'대신동'</li><li>'회원동'</li><li>'봉암동'</li><li>'대송동'</li><li>'성남동'</li><li>'부곡동(울산)'</li><li>'여천동(울산)'</li><li>'야음동'</li><li>'삼산동'</li><li>'신정2동'</li><li>'신정동'</li><li>'덕신리'</li><li>'무거동'</li><li>'효문동'</li><li>'상봉동'</li><li>'대안동'</li><li>'상대동'</li><li>'명서동'</li><li>'웅남동'</li><li>'가음정동'</li><li>'용지동'</li><li>'반송로'</li><li>'사파동'</li><li>'경화동'</li><li>'하동읍'</li><li>'동상동'</li><li>'삼방동'</li><li>'장유동'</li><li>'저구리'</li><li>'아주동'</li><li>'사천읍'</li><li>'대산면'</li><li>'북부동'</li><li>'웅상읍'</li><li>'화산리'</li><li>'상남리'</li><li>'농소동'</li><li>'삼남면'</li><li>'남상면'</li><li>'서석동'</li><li>'농성동'</li><li>'치평동'</li><li>'두암동'</li><li>'운암동'</li><li>'건국동'</li><li>'송정1동'</li><li>'오선동'</li><li>'주월동'</li><li>'중앙동(전주)'</li><li>'용당동'</li><li>'부흥동'</li><li>'광무동'</li><li>'월내동'</li><li>'문수동'</li><li>'여천동(여수)'</li><li>'덕충동'</li><li>'장천동'</li><li>'연향동'</li><li>'순천만'</li><li>'호두리'</li><li>'중동'</li><li>'태인동'</li><li>'진상면'</li><li>'광양읍'</li><li>'나불리'</li><li>'송단리'</li><li>'이도동'</li><li>'연동'</li><li>'동홍동'</li><li>'고산리'</li><li>'남산동'</li><li>'수창동'</li><li>'지산동'</li><li>'서호동'</li><li>'이현동'</li><li>'평리동'</li><li>'대명동'</li><li>'노원동'</li><li>'신암동'</li><li>'태전동'</li><li>'만촌동'</li><li>'호림동'</li><li>'현풍면'</li><li>'장흥동'</li><li>'장량동'</li><li>'대도동'</li><li>'대송면'</li><li>'3공단'</li><li>'성건동'</li><li>'신음동'</li><li>'남문동'</li><li>'공단동'</li><li>'원평동'</li><li>'형곡동'</li><li>'4공단'</li><li>'휴천동'</li><li>'중방동'</li><li>'지품면'</li><li>'화북면'</li><li>'안계면'</li><li>'태하리'</li><li>'읍내동'</li><li>'문평동'</li><li>'문창동'</li><li>'구성동'</li><li>'노은동'</li><li>'대흥동1'</li><li>'성남동1'</li><li>'정림동'</li><li>'둔산동'</li><li>'월평동'</li><li>'송정동(봉명동)'</li><li>'사천동'</li><li>'문화동'</li><li>'용암동'</li><li>'복대동'</li><li>'성황동'</li><li>'백석동'</li><li>'성성동'</li><li>'사곡면'</li><li>'독곶리'</li><li>'동문동'</li><li>'난지도리'</li><li>'정곡리'</li><li>'모종동'</li><li>'파도리'</li><li>'중앙동(원주)'</li><li>'명륜동'</li><li>'옥천동'</li><li>'천곡동'</li><li>'남양동1'</li><li>'북평면'</li><li>'간성읍'</li><li>'치악산'</li><li>'호암동'</li><li>'칠금동'</li><li>'장락동'</li><li>'오창읍'</li><li>'매포읍'</li><li>'청천면'</li><li>'삼천동'</li><li>'팔복동'</li><li>'금암동'</li><li>'신풍동2'</li><li>'소룡동'</li><li>'개정동'</li><li>'남중동'</li><li>'팔봉동'</li><li>'모현동'</li><li>'연지동'</li><li>'죽항동'</li><li>'고창읍'</li><li>'부안군'</li><li>'운암면'</li><li>'신흥'</li><li>'송림'</li><li>'구월동'</li><li>'숭의'</li><li>'석바위'</li><li>'부평역'</li><li>'부평'</li><li>'연희'</li><li>'검단'</li><li>'계산'</li><li>'고잔'</li><li>'석남'</li><li>'송해'</li><li>'동춘'</li><li>'운서'</li><li>'송현'</li><li>'논현'</li><li>'원당'</li><li>'소사본동'</li><li>'내동'</li><li>'중2동'</li><li>'오정동'</li><li>'계남공원'</li><li>'석모리'</li><li>'덕적도'</li><li>'백령도'</li></ol>\n"
      ],
      "text/latex": [
       "\\begin{enumerate*}\n",
       "\\item '중구'\n",
       "\\item '한강대로'\n",
       "\\item '종로구'\n",
       "\\item '청계천'\n",
       "\\item '종로'\n",
       "\\item '용산구'\n",
       "\\item '광진구'\n",
       "\\item '성동구'\n",
       "\\item '강변북로'\n",
       "\\item '중랑구'\n",
       "\\item '동대문구'\n",
       "\\item '청량리'\n",
       "\\item '성북구'\n",
       "\\item '내부순환로'\n",
       "\\item '도봉구'\n",
       "\\item '은평구'\n",
       "\\item '서대문구'\n",
       "\\item '마포구'\n",
       "\\item '신촌로'\n",
       "\\item '강서구'\n",
       "\\item '공항대로'\n",
       "\\item '구로구'\n",
       "\\item '영등포구'\n",
       "\\item '영등포로'\n",
       "\\item '동작구'\n",
       "\\item '동작대로 중앙차로'\n",
       "\\item '관악구'\n",
       "\\item '강남구'\n",
       "\\item '서초구'\n",
       "\\item '도산대로'\n",
       "\\item '강남대로'\n",
       "\\item '송파구'\n",
       "\\item '강동구'\n",
       "\\item '길동'\n",
       "\\item '금천구'\n",
       "\\item '강북구'\n",
       "\\item '양천구'\n",
       "\\item '노원구'\n",
       "\\item '화랑로'\n",
       "\\item '신풍동'\n",
       "\\item '인계동'\n",
       "\\item '광교동'\n",
       "\\item '영통동'\n",
       "\\item '천천동'\n",
       "\\item '동수원'\n",
       "\\item '고색동'\n",
       "\\item '백현동'\n",
       "\\item '단대동'\n",
       "\\item '정자1동'\n",
       "\\item '수내동'\n",
       "\\item '모란역'\n",
       "\\item '복정동'\n",
       "\\item '운중동'\n",
       "\\item '상대원1동'\n",
       "\\item '의정부동'\n",
       "\\item '의정부1동'\n",
       "\\item '안양6동'\n",
       "\\item '부림동'\n",
       "\\item '호계동'\n",
       "\\item '안양2동'\n",
       "\\item '철산동'\n",
       "\\item '소하동'\n",
       "\\item '고잔동'\n",
       "\\item '원시동'\n",
       "\\item '본오동'\n",
       "\\item '원곡동'\n",
       "\\item '부곡동1'\n",
       "\\item '대부동'\n",
       "\\item '호수동'\n",
       "\\item '중앙로1'\n",
       "\\item '별양동'\n",
       "\\item '과천동'\n",
       "\\item '교문동'\n",
       "\\item '동구동'\n",
       "\\item '부곡3동'\n",
       "\\item '고천동'\n",
       "\\item '정왕동'\n",
       "\\item '시화공단'\n",
       "\\item '대야동'\n",
       "\\item '금곡동'\n",
       "\\item '오남읍'\n",
       "\\item '비전동'\n",
       "\\item '안중'\n",
       "\\item '평택항'\n",
       "\\item '금촌동'\n",
       "\\item '운정'\n",
       "\\item '행신동'\n",
       "\\item '식사동'\n",
       "\\item '마두역'\n",
       "\\item '경안동'\n",
       "\\item '김량장동'\n",
       "\\item '수지'\n",
       "\\item '기흥'\n",
       "\\item '구갈동'\n",
       "\\item '설성면'\n",
       "\\item '창전동'\n",
       "\\item '관인면'\n",
       "\\item '선단동'\n",
       "\\item '사우동'\n",
       "\\item '고촌면'\n",
       "\\item '통진읍'\n",
       "\\item '당동'\n",
       "\\item '산본동'\n",
       "\\item '오산동'\n",
       "\\item '신장동'\n",
       "\\item '남양동'\n",
       "\\item '향남'\n",
       "\\item '동탄동'\n",
       "\\item '백석읍'\n",
       "\\item '보산동'\n",
       "\\item '봉산동'\n",
       "\\item '여주시'\n",
       "\\item '연천'\n",
       "\\item '가평읍'\n",
       "\\item '양평'\n",
       "\\item '중앙로'\n",
       "\\item '석사동'\n",
       "\\item '방산면'\n",
       "\\item '광복동'\n",
       "\\item '초량동'\n",
       "\\item '태종대'\n",
       "\\item '전포동'\n",
       "\\item '온천동'\n",
       "\\item '명장동'\n",
       "\\item '대연동'\n",
       "\\item '학장동'\n",
       "\\item '덕천동'\n",
       "\\item '청룡동'\n",
       "\\item '좌동'\n",
       "\\item '장림동'\n",
       "\\item '대저동'\n",
       "\\item '녹산동'\n",
       "\\item '연산동'\n",
       "\\item '기장읍'\n",
       "\\item '용수리'\n",
       "\\item '수정동'\n",
       "\\item '부곡동'\n",
       "\\item '광안동'\n",
       "\\item '대신동'\n",
       "\\item '회원동'\n",
       "\\item '봉암동'\n",
       "\\item '대송동'\n",
       "\\item '성남동'\n",
       "\\item '부곡동(울산)'\n",
       "\\item '여천동(울산)'\n",
       "\\item '야음동'\n",
       "\\item '삼산동'\n",
       "\\item '신정2동'\n",
       "\\item '신정동'\n",
       "\\item '덕신리'\n",
       "\\item '무거동'\n",
       "\\item '효문동'\n",
       "\\item '상봉동'\n",
       "\\item '대안동'\n",
       "\\item '상대동'\n",
       "\\item '명서동'\n",
       "\\item '웅남동'\n",
       "\\item '가음정동'\n",
       "\\item '용지동'\n",
       "\\item '반송로'\n",
       "\\item '사파동'\n",
       "\\item '경화동'\n",
       "\\item '하동읍'\n",
       "\\item '동상동'\n",
       "\\item '삼방동'\n",
       "\\item '장유동'\n",
       "\\item '저구리'\n",
       "\\item '아주동'\n",
       "\\item '사천읍'\n",
       "\\item '대산면'\n",
       "\\item '북부동'\n",
       "\\item '웅상읍'\n",
       "\\item '화산리'\n",
       "\\item '상남리'\n",
       "\\item '농소동'\n",
       "\\item '삼남면'\n",
       "\\item '남상면'\n",
       "\\item '서석동'\n",
       "\\item '농성동'\n",
       "\\item '치평동'\n",
       "\\item '두암동'\n",
       "\\item '운암동'\n",
       "\\item '건국동'\n",
       "\\item '송정1동'\n",
       "\\item '오선동'\n",
       "\\item '주월동'\n",
       "\\item '중앙동(전주)'\n",
       "\\item '용당동'\n",
       "\\item '부흥동'\n",
       "\\item '광무동'\n",
       "\\item '월내동'\n",
       "\\item '문수동'\n",
       "\\item '여천동(여수)'\n",
       "\\item '덕충동'\n",
       "\\item '장천동'\n",
       "\\item '연향동'\n",
       "\\item '순천만'\n",
       "\\item '호두리'\n",
       "\\item '중동'\n",
       "\\item '태인동'\n",
       "\\item '진상면'\n",
       "\\item '광양읍'\n",
       "\\item '나불리'\n",
       "\\item '송단리'\n",
       "\\item '이도동'\n",
       "\\item '연동'\n",
       "\\item '동홍동'\n",
       "\\item '고산리'\n",
       "\\item '남산동'\n",
       "\\item '수창동'\n",
       "\\item '지산동'\n",
       "\\item '서호동'\n",
       "\\item '이현동'\n",
       "\\item '평리동'\n",
       "\\item '대명동'\n",
       "\\item '노원동'\n",
       "\\item '신암동'\n",
       "\\item '태전동'\n",
       "\\item '만촌동'\n",
       "\\item '호림동'\n",
       "\\item '현풍면'\n",
       "\\item '장흥동'\n",
       "\\item '장량동'\n",
       "\\item '대도동'\n",
       "\\item '대송면'\n",
       "\\item '3공단'\n",
       "\\item '성건동'\n",
       "\\item '신음동'\n",
       "\\item '남문동'\n",
       "\\item '공단동'\n",
       "\\item '원평동'\n",
       "\\item '형곡동'\n",
       "\\item '4공단'\n",
       "\\item '휴천동'\n",
       "\\item '중방동'\n",
       "\\item '지품면'\n",
       "\\item '화북면'\n",
       "\\item '안계면'\n",
       "\\item '태하리'\n",
       "\\item '읍내동'\n",
       "\\item '문평동'\n",
       "\\item '문창동'\n",
       "\\item '구성동'\n",
       "\\item '노은동'\n",
       "\\item '대흥동1'\n",
       "\\item '성남동1'\n",
       "\\item '정림동'\n",
       "\\item '둔산동'\n",
       "\\item '월평동'\n",
       "\\item '송정동(봉명동)'\n",
       "\\item '사천동'\n",
       "\\item '문화동'\n",
       "\\item '용암동'\n",
       "\\item '복대동'\n",
       "\\item '성황동'\n",
       "\\item '백석동'\n",
       "\\item '성성동'\n",
       "\\item '사곡면'\n",
       "\\item '독곶리'\n",
       "\\item '동문동'\n",
       "\\item '난지도리'\n",
       "\\item '정곡리'\n",
       "\\item '모종동'\n",
       "\\item '파도리'\n",
       "\\item '중앙동(원주)'\n",
       "\\item '명륜동'\n",
       "\\item '옥천동'\n",
       "\\item '천곡동'\n",
       "\\item '남양동1'\n",
       "\\item '북평면'\n",
       "\\item '간성읍'\n",
       "\\item '치악산'\n",
       "\\item '호암동'\n",
       "\\item '칠금동'\n",
       "\\item '장락동'\n",
       "\\item '오창읍'\n",
       "\\item '매포읍'\n",
       "\\item '청천면'\n",
       "\\item '삼천동'\n",
       "\\item '팔복동'\n",
       "\\item '금암동'\n",
       "\\item '신풍동2'\n",
       "\\item '소룡동'\n",
       "\\item '개정동'\n",
       "\\item '남중동'\n",
       "\\item '팔봉동'\n",
       "\\item '모현동'\n",
       "\\item '연지동'\n",
       "\\item '죽항동'\n",
       "\\item '고창읍'\n",
       "\\item '부안군'\n",
       "\\item '운암면'\n",
       "\\item '신흥'\n",
       "\\item '송림'\n",
       "\\item '구월동'\n",
       "\\item '숭의'\n",
       "\\item '석바위'\n",
       "\\item '부평역'\n",
       "\\item '부평'\n",
       "\\item '연희'\n",
       "\\item '검단'\n",
       "\\item '계산'\n",
       "\\item '고잔'\n",
       "\\item '석남'\n",
       "\\item '송해'\n",
       "\\item '동춘'\n",
       "\\item '운서'\n",
       "\\item '송현'\n",
       "\\item '논현'\n",
       "\\item '원당'\n",
       "\\item '소사본동'\n",
       "\\item '내동'\n",
       "\\item '중2동'\n",
       "\\item '오정동'\n",
       "\\item '계남공원'\n",
       "\\item '석모리'\n",
       "\\item '덕적도'\n",
       "\\item '백령도'\n",
       "\\end{enumerate*}\n"
      ],
      "text/markdown": [
       "1. '중구'\n",
       "2. '한강대로'\n",
       "3. '종로구'\n",
       "4. '청계천'\n",
       "5. '종로'\n",
       "6. '용산구'\n",
       "7. '광진구'\n",
       "8. '성동구'\n",
       "9. '강변북로'\n",
       "10. '중랑구'\n",
       "11. '동대문구'\n",
       "12. '청량리'\n",
       "13. '성북구'\n",
       "14. '내부순환로'\n",
       "15. '도봉구'\n",
       "16. '은평구'\n",
       "17. '서대문구'\n",
       "18. '마포구'\n",
       "19. '신촌로'\n",
       "20. '강서구'\n",
       "21. '공항대로'\n",
       "22. '구로구'\n",
       "23. '영등포구'\n",
       "24. '영등포로'\n",
       "25. '동작구'\n",
       "26. '동작대로 중앙차로'\n",
       "27. '관악구'\n",
       "28. '강남구'\n",
       "29. '서초구'\n",
       "30. '도산대로'\n",
       "31. '강남대로'\n",
       "32. '송파구'\n",
       "33. '강동구'\n",
       "34. '길동'\n",
       "35. '금천구'\n",
       "36. '강북구'\n",
       "37. '양천구'\n",
       "38. '노원구'\n",
       "39. '화랑로'\n",
       "40. '신풍동'\n",
       "41. '인계동'\n",
       "42. '광교동'\n",
       "43. '영통동'\n",
       "44. '천천동'\n",
       "45. '동수원'\n",
       "46. '고색동'\n",
       "47. '백현동'\n",
       "48. '단대동'\n",
       "49. '정자1동'\n",
       "50. '수내동'\n",
       "51. '모란역'\n",
       "52. '복정동'\n",
       "53. '운중동'\n",
       "54. '상대원1동'\n",
       "55. '의정부동'\n",
       "56. '의정부1동'\n",
       "57. '안양6동'\n",
       "58. '부림동'\n",
       "59. '호계동'\n",
       "60. '안양2동'\n",
       "61. '철산동'\n",
       "62. '소하동'\n",
       "63. '고잔동'\n",
       "64. '원시동'\n",
       "65. '본오동'\n",
       "66. '원곡동'\n",
       "67. '부곡동1'\n",
       "68. '대부동'\n",
       "69. '호수동'\n",
       "70. '중앙로1'\n",
       "71. '별양동'\n",
       "72. '과천동'\n",
       "73. '교문동'\n",
       "74. '동구동'\n",
       "75. '부곡3동'\n",
       "76. '고천동'\n",
       "77. '정왕동'\n",
       "78. '시화공단'\n",
       "79. '대야동'\n",
       "80. '금곡동'\n",
       "81. '오남읍'\n",
       "82. '비전동'\n",
       "83. '안중'\n",
       "84. '평택항'\n",
       "85. '금촌동'\n",
       "86. '운정'\n",
       "87. '행신동'\n",
       "88. '식사동'\n",
       "89. '마두역'\n",
       "90. '경안동'\n",
       "91. '김량장동'\n",
       "92. '수지'\n",
       "93. '기흥'\n",
       "94. '구갈동'\n",
       "95. '설성면'\n",
       "96. '창전동'\n",
       "97. '관인면'\n",
       "98. '선단동'\n",
       "99. '사우동'\n",
       "100. '고촌면'\n",
       "101. '통진읍'\n",
       "102. '당동'\n",
       "103. '산본동'\n",
       "104. '오산동'\n",
       "105. '신장동'\n",
       "106. '남양동'\n",
       "107. '향남'\n",
       "108. '동탄동'\n",
       "109. '백석읍'\n",
       "110. '보산동'\n",
       "111. '봉산동'\n",
       "112. '여주시'\n",
       "113. '연천'\n",
       "114. '가평읍'\n",
       "115. '양평'\n",
       "116. '중앙로'\n",
       "117. '석사동'\n",
       "118. '방산면'\n",
       "119. '광복동'\n",
       "120. '초량동'\n",
       "121. '태종대'\n",
       "122. '전포동'\n",
       "123. '온천동'\n",
       "124. '명장동'\n",
       "125. '대연동'\n",
       "126. '학장동'\n",
       "127. '덕천동'\n",
       "128. '청룡동'\n",
       "129. '좌동'\n",
       "130. '장림동'\n",
       "131. '대저동'\n",
       "132. '녹산동'\n",
       "133. '연산동'\n",
       "134. '기장읍'\n",
       "135. '용수리'\n",
       "136. '수정동'\n",
       "137. '부곡동'\n",
       "138. '광안동'\n",
       "139. '대신동'\n",
       "140. '회원동'\n",
       "141. '봉암동'\n",
       "142. '대송동'\n",
       "143. '성남동'\n",
       "144. '부곡동(울산)'\n",
       "145. '여천동(울산)'\n",
       "146. '야음동'\n",
       "147. '삼산동'\n",
       "148. '신정2동'\n",
       "149. '신정동'\n",
       "150. '덕신리'\n",
       "151. '무거동'\n",
       "152. '효문동'\n",
       "153. '상봉동'\n",
       "154. '대안동'\n",
       "155. '상대동'\n",
       "156. '명서동'\n",
       "157. '웅남동'\n",
       "158. '가음정동'\n",
       "159. '용지동'\n",
       "160. '반송로'\n",
       "161. '사파동'\n",
       "162. '경화동'\n",
       "163. '하동읍'\n",
       "164. '동상동'\n",
       "165. '삼방동'\n",
       "166. '장유동'\n",
       "167. '저구리'\n",
       "168. '아주동'\n",
       "169. '사천읍'\n",
       "170. '대산면'\n",
       "171. '북부동'\n",
       "172. '웅상읍'\n",
       "173. '화산리'\n",
       "174. '상남리'\n",
       "175. '농소동'\n",
       "176. '삼남면'\n",
       "177. '남상면'\n",
       "178. '서석동'\n",
       "179. '농성동'\n",
       "180. '치평동'\n",
       "181. '두암동'\n",
       "182. '운암동'\n",
       "183. '건국동'\n",
       "184. '송정1동'\n",
       "185. '오선동'\n",
       "186. '주월동'\n",
       "187. '중앙동(전주)'\n",
       "188. '용당동'\n",
       "189. '부흥동'\n",
       "190. '광무동'\n",
       "191. '월내동'\n",
       "192. '문수동'\n",
       "193. '여천동(여수)'\n",
       "194. '덕충동'\n",
       "195. '장천동'\n",
       "196. '연향동'\n",
       "197. '순천만'\n",
       "198. '호두리'\n",
       "199. '중동'\n",
       "200. '태인동'\n",
       "201. '진상면'\n",
       "202. '광양읍'\n",
       "203. '나불리'\n",
       "204. '송단리'\n",
       "205. '이도동'\n",
       "206. '연동'\n",
       "207. '동홍동'\n",
       "208. '고산리'\n",
       "209. '남산동'\n",
       "210. '수창동'\n",
       "211. '지산동'\n",
       "212. '서호동'\n",
       "213. '이현동'\n",
       "214. '평리동'\n",
       "215. '대명동'\n",
       "216. '노원동'\n",
       "217. '신암동'\n",
       "218. '태전동'\n",
       "219. '만촌동'\n",
       "220. '호림동'\n",
       "221. '현풍면'\n",
       "222. '장흥동'\n",
       "223. '장량동'\n",
       "224. '대도동'\n",
       "225. '대송면'\n",
       "226. '3공단'\n",
       "227. '성건동'\n",
       "228. '신음동'\n",
       "229. '남문동'\n",
       "230. '공단동'\n",
       "231. '원평동'\n",
       "232. '형곡동'\n",
       "233. '4공단'\n",
       "234. '휴천동'\n",
       "235. '중방동'\n",
       "236. '지품면'\n",
       "237. '화북면'\n",
       "238. '안계면'\n",
       "239. '태하리'\n",
       "240. '읍내동'\n",
       "241. '문평동'\n",
       "242. '문창동'\n",
       "243. '구성동'\n",
       "244. '노은동'\n",
       "245. '대흥동1'\n",
       "246. '성남동1'\n",
       "247. '정림동'\n",
       "248. '둔산동'\n",
       "249. '월평동'\n",
       "250. '송정동(봉명동)'\n",
       "251. '사천동'\n",
       "252. '문화동'\n",
       "253. '용암동'\n",
       "254. '복대동'\n",
       "255. '성황동'\n",
       "256. '백석동'\n",
       "257. '성성동'\n",
       "258. '사곡면'\n",
       "259. '독곶리'\n",
       "260. '동문동'\n",
       "261. '난지도리'\n",
       "262. '정곡리'\n",
       "263. '모종동'\n",
       "264. '파도리'\n",
       "265. '중앙동(원주)'\n",
       "266. '명륜동'\n",
       "267. '옥천동'\n",
       "268. '천곡동'\n",
       "269. '남양동1'\n",
       "270. '북평면'\n",
       "271. '간성읍'\n",
       "272. '치악산'\n",
       "273. '호암동'\n",
       "274. '칠금동'\n",
       "275. '장락동'\n",
       "276. '오창읍'\n",
       "277. '매포읍'\n",
       "278. '청천면'\n",
       "279. '삼천동'\n",
       "280. '팔복동'\n",
       "281. '금암동'\n",
       "282. '신풍동2'\n",
       "283. '소룡동'\n",
       "284. '개정동'\n",
       "285. '남중동'\n",
       "286. '팔봉동'\n",
       "287. '모현동'\n",
       "288. '연지동'\n",
       "289. '죽항동'\n",
       "290. '고창읍'\n",
       "291. '부안군'\n",
       "292. '운암면'\n",
       "293. '신흥'\n",
       "294. '송림'\n",
       "295. '구월동'\n",
       "296. '숭의'\n",
       "297. '석바위'\n",
       "298. '부평역'\n",
       "299. '부평'\n",
       "300. '연희'\n",
       "301. '검단'\n",
       "302. '계산'\n",
       "303. '고잔'\n",
       "304. '석남'\n",
       "305. '송해'\n",
       "306. '동춘'\n",
       "307. '운서'\n",
       "308. '송현'\n",
       "309. '논현'\n",
       "310. '원당'\n",
       "311. '소사본동'\n",
       "312. '내동'\n",
       "313. '중2동'\n",
       "314. '오정동'\n",
       "315. '계남공원'\n",
       "316. '석모리'\n",
       "317. '덕적도'\n",
       "318. '백령도'\n",
       "\n",
       "\n"
      ],
      "text/plain": [
       "  [1] \"중구\"              \"한강대로\"          \"종로구\"           \n",
       "  [4] \"청계천\"            \"종로\"              \"용산구\"           \n",
       "  [7] \"광진구\"            \"성동구\"            \"강변북로\"         \n",
       " [10] \"중랑구\"            \"동대문구\"          \"청량리\"           \n",
       " [13] \"성북구\"            \"내부순환로\"        \"도봉구\"           \n",
       " [16] \"은평구\"            \"서대문구\"          \"마포구\"           \n",
       " [19] \"신촌로\"            \"강서구\"            \"공항대로\"         \n",
       " [22] \"구로구\"            \"영등포구\"          \"영등포로\"         \n",
       " [25] \"동작구\"            \"동작대로 중앙차로\" \"관악구\"           \n",
       " [28] \"강남구\"            \"서초구\"            \"도산대로\"         \n",
       " [31] \"강남대로\"          \"송파구\"            \"강동구\"           \n",
       " [34] \"길동\"              \"금천구\"            \"강북구\"           \n",
       " [37] \"양천구\"            \"노원구\"            \"화랑로\"           \n",
       " [40] \"신풍동\"            \"인계동\"            \"광교동\"           \n",
       " [43] \"영통동\"            \"천천동\"            \"동수원\"           \n",
       " [46] \"고색동\"            \"백현동\"            \"단대동\"           \n",
       " [49] \"정자1동\"           \"수내동\"            \"모란역\"           \n",
       " [52] \"복정동\"            \"운중동\"            \"상대원1동\"        \n",
       " [55] \"의정부동\"          \"의정부1동\"         \"안양6동\"          \n",
       " [58] \"부림동\"            \"호계동\"            \"안양2동\"          \n",
       " [61] \"철산동\"            \"소하동\"            \"고잔동\"           \n",
       " [64] \"원시동\"            \"본오동\"            \"원곡동\"           \n",
       " [67] \"부곡동1\"           \"대부동\"            \"호수동\"           \n",
       " [70] \"중앙로1\"           \"별양동\"            \"과천동\"           \n",
       " [73] \"교문동\"            \"동구동\"            \"부곡3동\"          \n",
       " [76] \"고천동\"            \"정왕동\"            \"시화공단\"         \n",
       " [79] \"대야동\"            \"금곡동\"            \"오남읍\"           \n",
       " [82] \"비전동\"            \"안중\"              \"평택항\"           \n",
       " [85] \"금촌동\"            \"운정\"              \"행신동\"           \n",
       " [88] \"식사동\"            \"마두역\"            \"경안동\"           \n",
       " [91] \"김량장동\"          \"수지\"              \"기흥\"             \n",
       " [94] \"구갈동\"            \"설성면\"            \"창전동\"           \n",
       " [97] \"관인면\"            \"선단동\"            \"사우동\"           \n",
       "[100] \"고촌면\"            \"통진읍\"            \"당동\"             \n",
       "[103] \"산본동\"            \"오산동\"            \"신장동\"           \n",
       "[106] \"남양동\"            \"향남\"              \"동탄동\"           \n",
       "[109] \"백석읍\"            \"보산동\"            \"봉산동\"           \n",
       "[112] \"여주시\"            \"연천\"              \"가평읍\"           \n",
       "[115] \"양평\"              \"중앙로\"            \"석사동\"           \n",
       "[118] \"방산면\"            \"광복동\"            \"초량동\"           \n",
       "[121] \"태종대\"            \"전포동\"            \"온천동\"           \n",
       "[124] \"명장동\"            \"대연동\"            \"학장동\"           \n",
       "[127] \"덕천동\"            \"청룡동\"            \"좌동\"             \n",
       "[130] \"장림동\"            \"대저동\"            \"녹산동\"           \n",
       "[133] \"연산동\"            \"기장읍\"            \"용수리\"           \n",
       "[136] \"수정동\"            \"부곡동\"            \"광안동\"           \n",
       "[139] \"대신동\"            \"회원동\"            \"봉암동\"           \n",
       "[142] \"대송동\"            \"성남동\"            \"부곡동(울산)\"     \n",
       "[145] \"여천동(울산)\"      \"야음동\"            \"삼산동\"           \n",
       "[148] \"신정2동\"           \"신정동\"            \"덕신리\"           \n",
       "[151] \"무거동\"            \"효문동\"            \"상봉동\"           \n",
       "[154] \"대안동\"            \"상대동\"            \"명서동\"           \n",
       "[157] \"웅남동\"            \"가음정동\"          \"용지동\"           \n",
       "[160] \"반송로\"            \"사파동\"            \"경화동\"           \n",
       "[163] \"하동읍\"            \"동상동\"            \"삼방동\"           \n",
       "[166] \"장유동\"            \"저구리\"            \"아주동\"           \n",
       "[169] \"사천읍\"            \"대산면\"            \"북부동\"           \n",
       "[172] \"웅상읍\"            \"화산리\"            \"상남리\"           \n",
       "[175] \"농소동\"            \"삼남면\"            \"남상면\"           \n",
       "[178] \"서석동\"            \"농성동\"            \"치평동\"           \n",
       "[181] \"두암동\"            \"운암동\"            \"건국동\"           \n",
       "[184] \"송정1동\"           \"오선동\"            \"주월동\"           \n",
       "[187] \"중앙동(전주)\"      \"용당동\"            \"부흥동\"           \n",
       "[190] \"광무동\"            \"월내동\"            \"문수동\"           \n",
       "[193] \"여천동(여수)\"      \"덕충동\"            \"장천동\"           \n",
       "[196] \"연향동\"            \"순천만\"            \"호두리\"           \n",
       "[199] \"중동\"              \"태인동\"            \"진상면\"           \n",
       "[202] \"광양읍\"            \"나불리\"            \"송단리\"           \n",
       "[205] \"이도동\"            \"연동\"              \"동홍동\"           \n",
       "[208] \"고산리\"            \"남산동\"            \"수창동\"           \n",
       "[211] \"지산동\"            \"서호동\"            \"이현동\"           \n",
       "[214] \"평리동\"            \"대명동\"            \"노원동\"           \n",
       "[217] \"신암동\"            \"태전동\"            \"만촌동\"           \n",
       "[220] \"호림동\"            \"현풍면\"            \"장흥동\"           \n",
       "[223] \"장량동\"            \"대도동\"            \"대송면\"           \n",
       "[226] \"3공단\"             \"성건동\"            \"신음동\"           \n",
       "[229] \"남문동\"            \"공단동\"            \"원평동\"           \n",
       "[232] \"형곡동\"            \"4공단\"             \"휴천동\"           \n",
       "[235] \"중방동\"            \"지품면\"            \"화북면\"           \n",
       "[238] \"안계면\"            \"태하리\"            \"읍내동\"           \n",
       "[241] \"문평동\"            \"문창동\"            \"구성동\"           \n",
       "[244] \"노은동\"            \"대흥동1\"           \"성남동1\"          \n",
       "[247] \"정림동\"            \"둔산동\"            \"월평동\"           \n",
       "[250] \"송정동(봉명동)\"    \"사천동\"            \"문화동\"           \n",
       "[253] \"용암동\"            \"복대동\"            \"성황동\"           \n",
       "[256] \"백석동\"            \"성성동\"            \"사곡면\"           \n",
       "[259] \"독곶리\"            \"동문동\"            \"난지도리\"         \n",
       "[262] \"정곡리\"            \"모종동\"            \"파도리\"           \n",
       "[265] \"중앙동(원주)\"      \"명륜동\"            \"옥천동\"           \n",
       "[268] \"천곡동\"            \"남양동1\"           \"북평면\"           \n",
       "[271] \"간성읍\"            \"치악산\"            \"호암동\"           \n",
       "[274] \"칠금동\"            \"장락동\"            \"오창읍\"           \n",
       "[277] \"매포읍\"            \"청천면\"            \"삼천동\"           \n",
       "[280] \"팔복동\"            \"금암동\"            \"신풍동2\"          \n",
       "[283] \"소룡동\"            \"개정동\"            \"남중동\"           \n",
       "[286] \"팔봉동\"            \"모현동\"            \"연지동\"           \n",
       "[289] \"죽항동\"            \"고창읍\"            \"부안군\"           \n",
       "[292] \"운암면\"            \"신흥\"              \"송림\"             \n",
       "[295] \"구월동\"            \"숭의\"              \"석바위\"           \n",
       "[298] \"부평역\"            \"부평\"              \"연희\"             \n",
       "[301] \"검단\"              \"계산\"              \"고잔\"             \n",
       "[304] \"석남\"              \"송해\"              \"동춘\"             \n",
       "[307] \"운서\"              \"송현\"              \"논현\"             \n",
       "[310] \"원당\"              \"소사본동\"          \"내동\"             \n",
       "[313] \"중2동\"             \"오정동\"            \"계남공원\"         \n",
       "[316] \"석모리\"            \"덕적도\"            \"백령도\"           "
      ]
     },
     "metadata": {},
     "output_type": "display_data"
    }
   ],
   "source": [
    "unique(mise$Point)"
   ]
  },
  {
   "cell_type": "code",
   "execution_count": 90,
   "id": "96254167-a3ed-405b-8fb9-8c3708b37f0d",
   "metadata": {
    "tags": []
   },
   "outputs": [
    {
     "data": {
      "text/html": [
       "318"
      ],
      "text/latex": [
       "318"
      ],
      "text/markdown": [
       "318"
      ],
      "text/plain": [
       "[1] 318"
      ]
     },
     "metadata": {},
     "output_type": "display_data"
    }
   ],
   "source": [
    "length(unique(mise$Point))"
   ]
  },
  {
   "cell_type": "code",
   "execution_count": 91,
   "id": "f3ff4746-bbce-44ac-82d9-59e2fe17af9f",
   "metadata": {
    "tags": []
   },
   "outputs": [
    {
     "data": {
      "text/html": [
       "<table class=\"dataframe\">\n",
       "<caption>A tibble: 6 × 9</caption>\n",
       "<thead>\n",
       "\t<tr><th scope=col>AREA</th><th scope=col>Point</th><th scope=col>Date</th><th scope=col>Year</th><th scope=col>Month</th><th scope=col>Day</th><th scope=col>Time</th><th scope=col>PM10</th><th scope=col>PM25</th></tr>\n",
       "\t<tr><th scope=col>&lt;chr&gt;</th><th scope=col>&lt;chr&gt;</th><th scope=col>&lt;dbl&gt;</th><th scope=col>&lt;dbl&gt;</th><th scope=col>&lt;dbl&gt;</th><th scope=col>&lt;dbl&gt;</th><th scope=col>&lt;dbl&gt;</th><th scope=col>&lt;dbl&gt;</th><th scope=col>&lt;dbl&gt;</th></tr>\n",
       "</thead>\n",
       "<tbody>\n",
       "\t<tr><td>충북 충주시</td><td>호암동</td><td>2015010100</td><td>2015</td><td>1</td><td>1</td><td>0</td><td>25</td><td>NA</td></tr>\n",
       "\t<tr><td>충북 충주시</td><td>호암동</td><td>2015010101</td><td>2015</td><td>1</td><td>1</td><td>1</td><td>36</td><td>NA</td></tr>\n",
       "\t<tr><td>충북 충주시</td><td>호암동</td><td>2015010102</td><td>2015</td><td>1</td><td>1</td><td>2</td><td>41</td><td>NA</td></tr>\n",
       "\t<tr><td>충북 충주시</td><td>호암동</td><td>2015010103</td><td>2015</td><td>1</td><td>1</td><td>3</td><td>54</td><td>NA</td></tr>\n",
       "\t<tr><td>충북 충주시</td><td>호암동</td><td>2015010104</td><td>2015</td><td>1</td><td>1</td><td>4</td><td>69</td><td>NA</td></tr>\n",
       "\t<tr><td>충북 충주시</td><td>호암동</td><td>2015010105</td><td>2015</td><td>1</td><td>1</td><td>5</td><td>66</td><td>NA</td></tr>\n",
       "</tbody>\n",
       "</table>\n"
      ],
      "text/latex": [
       "A tibble: 6 × 9\n",
       "\\begin{tabular}{lllllllll}\n",
       " AREA & Point & Date & Year & Month & Day & Time & PM10 & PM25\\\\\n",
       " <chr> & <chr> & <dbl> & <dbl> & <dbl> & <dbl> & <dbl> & <dbl> & <dbl>\\\\\n",
       "\\hline\n",
       "\t 충북 충주시 & 호암동 & 2015010100 & 2015 & 1 & 1 & 0 & 25 & NA\\\\\n",
       "\t 충북 충주시 & 호암동 & 2015010101 & 2015 & 1 & 1 & 1 & 36 & NA\\\\\n",
       "\t 충북 충주시 & 호암동 & 2015010102 & 2015 & 1 & 1 & 2 & 41 & NA\\\\\n",
       "\t 충북 충주시 & 호암동 & 2015010103 & 2015 & 1 & 1 & 3 & 54 & NA\\\\\n",
       "\t 충북 충주시 & 호암동 & 2015010104 & 2015 & 1 & 1 & 4 & 69 & NA\\\\\n",
       "\t 충북 충주시 & 호암동 & 2015010105 & 2015 & 1 & 1 & 5 & 66 & NA\\\\\n",
       "\\end{tabular}\n"
      ],
      "text/markdown": [
       "\n",
       "A tibble: 6 × 9\n",
       "\n",
       "| AREA &lt;chr&gt; | Point &lt;chr&gt; | Date &lt;dbl&gt; | Year &lt;dbl&gt; | Month &lt;dbl&gt; | Day &lt;dbl&gt; | Time &lt;dbl&gt; | PM10 &lt;dbl&gt; | PM25 &lt;dbl&gt; |\n",
       "|---|---|---|---|---|---|---|---|---|\n",
       "| 충북 충주시 | 호암동 | 2015010100 | 2015 | 1 | 1 | 0 | 25 | NA |\n",
       "| 충북 충주시 | 호암동 | 2015010101 | 2015 | 1 | 1 | 1 | 36 | NA |\n",
       "| 충북 충주시 | 호암동 | 2015010102 | 2015 | 1 | 1 | 2 | 41 | NA |\n",
       "| 충북 충주시 | 호암동 | 2015010103 | 2015 | 1 | 1 | 3 | 54 | NA |\n",
       "| 충북 충주시 | 호암동 | 2015010104 | 2015 | 1 | 1 | 4 | 69 | NA |\n",
       "| 충북 충주시 | 호암동 | 2015010105 | 2015 | 1 | 1 | 5 | 66 | NA |\n",
       "\n"
      ],
      "text/plain": [
       "  AREA        Point  Date       Year Month Day Time PM10 PM25\n",
       "1 충북 충주시 호암동 2015010100 2015 1     1   0    25   NA  \n",
       "2 충북 충주시 호암동 2015010101 2015 1     1   1    36   NA  \n",
       "3 충북 충주시 호암동 2015010102 2015 1     1   2    41   NA  \n",
       "4 충북 충주시 호암동 2015010103 2015 1     1   3    54   NA  \n",
       "5 충북 충주시 호암동 2015010104 2015 1     1   4    69   NA  \n",
       "6 충북 충주시 호암동 2015010105 2015 1     1   5    66   NA  "
      ]
     },
     "metadata": {},
     "output_type": "display_data"
    }
   ],
   "source": [
    "idx <- grep(\"충주\", mise$AREA)\n",
    "chungju <- mise[idx, ]\n",
    "head(chungju)"
   ]
  },
  {
   "cell_type": "code",
   "execution_count": 92,
   "id": "5ca803e4-3c77-42c9-9448-466d0a32e2a5",
   "metadata": {
    "tags": []
   },
   "outputs": [
    {
     "data": {
      "text/plain": [
       "\n",
       "칠금동 호암동 \n",
       "  5087   5088 "
      ]
     },
     "metadata": {},
     "output_type": "display_data"
    }
   ],
   "source": [
    "table(chungju$Point)"
   ]
  },
  {
   "cell_type": "code",
   "execution_count": 93,
   "id": "4c7d5ad7-5384-445f-8daa-885b54239448",
   "metadata": {
    "tags": []
   },
   "outputs": [
    {
     "data": {
      "text/html": [
       "<style>\n",
       ".dl-inline {width: auto; margin:0; padding: 0}\n",
       ".dl-inline>dt, .dl-inline>dd {float: none; width: auto; display: inline-block}\n",
       ".dl-inline>dt::after {content: \":\\0020\"; padding-right: .5ex}\n",
       ".dl-inline>dt:not(:first-of-type) {padding-left: .5ex}\n",
       "</style><dl class=dl-inline><dt>칠금동</dt><dd>58.53</dd><dt>호암동</dt><dd>43.14</dd></dl>\n"
      ],
      "text/latex": [
       "\\begin{description*}\n",
       "\\item[칠금동] 58.53\n",
       "\\item[호암동] 43.14\n",
       "\\end{description*}\n"
      ],
      "text/markdown": [
       "칠금동\n",
       ":   58.53호암동\n",
       ":   43.14\n",
       "\n"
      ],
      "text/plain": [
       "칠금동 호암동 \n",
       " 58.53  43.14 "
      ]
     },
     "metadata": {},
     "output_type": "display_data"
    }
   ],
   "source": [
    "round(tapply(chungju$PM10, chungju$Point, mean, na.rm=T),2)"
   ]
  }
 ],
 "metadata": {
  "kernelspec": {
   "display_name": "R",
   "language": "R",
   "name": "ir"
  },
  "language_info": {
   "codemirror_mode": "r",
   "file_extension": ".r",
   "mimetype": "text/x-r-source",
   "name": "R",
   "pygments_lexer": "r",
   "version": "4.3.1"
  }
 },
 "nbformat": 4,
 "nbformat_minor": 5
}
