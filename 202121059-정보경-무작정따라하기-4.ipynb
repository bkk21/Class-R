{
 "cells": [
  {
   "cell_type": "markdown",
   "id": "1fa9f67c-4520-4579-9fca-c82b6e16a1c4",
   "metadata": {
    "tags": []
   },
   "source": [
    "<h1>R 무작정 따라하기 4</h1>\n",
    "<h3>2023년 11월 8일 (수)</h3>\n",
    "<hr>"
   ]
  },
  {
   "cell_type": "code",
   "execution_count": 1,
   "id": "bbee5044-d04b-4905-a4db-4c79581876c4",
   "metadata": {
    "tags": []
   },
   "outputs": [
    {
     "name": "stdout",
     "output_type": "stream",
     "text": [
      "[1]  1  2  3  4 NA  5  6\n"
     ]
    }
   ],
   "source": [
    "x <- c(1, 2, 3, 4, NA, 5, 6)\n",
    "print(x)"
   ]
  },
  {
   "cell_type": "code",
   "execution_count": 2,
   "id": "51780c62-20b5-4900-ba16-7f2038c0a0e8",
   "metadata": {
    "tags": []
   },
   "outputs": [
    {
     "data": {
      "text/html": [
       "&lt;NA&gt;"
      ],
      "text/latex": [
       "<NA>"
      ],
      "text/markdown": [
       "&lt;NA&gt;"
      ],
      "text/plain": [
       "[1] NA"
      ]
     },
     "metadata": {},
     "output_type": "display_data"
    }
   ],
   "source": [
    "mean(x)"
   ]
  },
  {
   "cell_type": "code",
   "execution_count": 3,
   "id": "ad027d21-ea66-430c-a1f1-5b577b37e9ca",
   "metadata": {
    "tags": []
   },
   "outputs": [
    {
     "data": {
      "text/html": [
       "7"
      ],
      "text/latex": [
       "7"
      ],
      "text/markdown": [
       "7"
      ],
      "text/plain": [
       "[1] 7"
      ]
     },
     "metadata": {},
     "output_type": "display_data"
    }
   ],
   "source": [
    "length(x)"
   ]
  },
  {
   "cell_type": "code",
   "execution_count": 4,
   "id": "45fd2896-744d-43b1-a800-2d75ec5e7abb",
   "metadata": {
    "tags": []
   },
   "outputs": [
    {
     "name": "stdout",
     "output_type": "stream",
     "text": [
      "[1] 1 2 3 4 5 6\n"
     ]
    }
   ],
   "source": [
    "y <- c(1, 2, 3, 4, NULL, 5, 6)\n",
    "print(y)"
   ]
  },
  {
   "cell_type": "code",
   "execution_count": 5,
   "id": "30567327-3182-4a54-a50b-b9d673a7e27a",
   "metadata": {
    "tags": []
   },
   "outputs": [
    {
     "data": {
      "text/html": [
       "3.5"
      ],
      "text/latex": [
       "3.5"
      ],
      "text/markdown": [
       "3.5"
      ],
      "text/plain": [
       "[1] 3.5"
      ]
     },
     "metadata": {},
     "output_type": "display_data"
    }
   ],
   "source": [
    "mean(y)"
   ]
  },
  {
   "cell_type": "code",
   "execution_count": 6,
   "id": "a6e37658-eb95-4606-af8a-02ef47aa15e6",
   "metadata": {
    "tags": []
   },
   "outputs": [
    {
     "data": {
      "text/html": [
       "6"
      ],
      "text/latex": [
       "6"
      ],
      "text/markdown": [
       "6"
      ],
      "text/plain": [
       "[1] 6"
      ]
     },
     "metadata": {},
     "output_type": "display_data"
    }
   ],
   "source": [
    "length(y)"
   ]
  },
  {
   "cell_type": "code",
   "execution_count": 7,
   "id": "563a776f-f137-45d9-924e-167ba76b8d8f",
   "metadata": {
    "tags": []
   },
   "outputs": [
    {
     "name": "stdout",
     "output_type": "stream",
     "text": [
      "[1]  1  2  3  4 NA  5  6\n"
     ]
    }
   ],
   "source": [
    "x <- c(1, 2, 3, 4, NA, 5, 6)\n",
    "print(x)"
   ]
  },
  {
   "cell_type": "code",
   "execution_count": 8,
   "id": "45834673-5d6b-4ec6-936d-ccf96ef54356",
   "metadata": {
    "tags": []
   },
   "outputs": [
    {
     "data": {
      "text/html": [
       "<style>\n",
       ".list-inline {list-style: none; margin:0; padding: 0}\n",
       ".list-inline>li {display: inline-block}\n",
       ".list-inline>li:not(:last-child)::after {content: \"\\00b7\"; padding: 0 .5ex}\n",
       "</style>\n",
       "<ol class=list-inline><li>FALSE</li><li>FALSE</li><li>FALSE</li><li>FALSE</li><li>TRUE</li><li>FALSE</li><li>FALSE</li></ol>\n"
      ],
      "text/latex": [
       "\\begin{enumerate*}\n",
       "\\item FALSE\n",
       "\\item FALSE\n",
       "\\item FALSE\n",
       "\\item FALSE\n",
       "\\item TRUE\n",
       "\\item FALSE\n",
       "\\item FALSE\n",
       "\\end{enumerate*}\n"
      ],
      "text/markdown": [
       "1. FALSE\n",
       "2. FALSE\n",
       "3. FALSE\n",
       "4. FALSE\n",
       "5. TRUE\n",
       "6. FALSE\n",
       "7. FALSE\n",
       "\n",
       "\n"
      ],
      "text/plain": [
       "[1] FALSE FALSE FALSE FALSE  TRUE FALSE FALSE"
      ]
     },
     "metadata": {},
     "output_type": "display_data"
    }
   ],
   "source": [
    "is.na(x)"
   ]
  },
  {
   "cell_type": "code",
   "execution_count": 9,
   "id": "674a5455-11ea-4809-89b4-8b712a7128e1",
   "metadata": {
    "tags": []
   },
   "outputs": [
    {
     "data": {
      "text/html": [
       "TRUE"
      ],
      "text/latex": [
       "TRUE"
      ],
      "text/markdown": [
       "TRUE"
      ],
      "text/plain": [
       "[1] TRUE"
      ]
     },
     "metadata": {},
     "output_type": "display_data"
    }
   ],
   "source": [
    "any(is.na(x))"
   ]
  },
  {
   "cell_type": "code",
   "execution_count": 10,
   "id": "07aeed42-4276-4274-b054-31e79d55b558",
   "metadata": {
    "tags": []
   },
   "outputs": [
    {
     "data": {
      "text/html": [
       "5"
      ],
      "text/latex": [
       "5"
      ],
      "text/markdown": [
       "5"
      ],
      "text/plain": [
       "[1] 5"
      ]
     },
     "metadata": {},
     "output_type": "display_data"
    }
   ],
   "source": [
    "which(is.na(x))"
   ]
  },
  {
   "cell_type": "code",
   "execution_count": 11,
   "id": "4a7dd4b3-a4a8-4da7-b6c4-fa901a09c57f",
   "metadata": {
    "tags": []
   },
   "outputs": [
    {
     "data": {
      "text/html": [
       "FALSE"
      ],
      "text/latex": [
       "FALSE"
      ],
      "text/markdown": [
       "FALSE"
      ],
      "text/plain": [
       "[1] FALSE"
      ]
     },
     "metadata": {},
     "output_type": "display_data"
    }
   ],
   "source": [
    "all(is.na(x))"
   ]
  },
  {
   "cell_type": "code",
   "execution_count": 12,
   "id": "58dd524a-b29c-4085-9143-d9d9f9188943",
   "metadata": {
    "tags": []
   },
   "outputs": [
    {
     "name": "stdout",
     "output_type": "stream",
     "text": [
      "[1]  1  2  3  4 NA  5  6\n"
     ]
    }
   ],
   "source": [
    "x <- c(1, 2, 3, 4, NA, 5, 6)\n",
    "print(x)"
   ]
  },
  {
   "cell_type": "code",
   "execution_count": 13,
   "id": "1b293759-cbf8-43ed-b3d7-ec7edd3a0235",
   "metadata": {
    "tags": []
   },
   "outputs": [
    {
     "data": {
      "text/html": [
       "&lt;NA&gt;"
      ],
      "text/latex": [
       "<NA>"
      ],
      "text/markdown": [
       "&lt;NA&gt;"
      ],
      "text/plain": [
       "[1] NA"
      ]
     },
     "metadata": {},
     "output_type": "display_data"
    }
   ],
   "source": [
    "mean(x)"
   ]
  },
  {
   "cell_type": "code",
   "execution_count": 14,
   "id": "fa3ac239-8d0f-4966-a4ac-5898305baffc",
   "metadata": {
    "tags": []
   },
   "outputs": [
    {
     "data": {
      "text/html": [
       "3.5"
      ],
      "text/latex": [
       "3.5"
      ],
      "text/markdown": [
       "3.5"
      ],
      "text/plain": [
       "[1] 3.5"
      ]
     },
     "metadata": {},
     "output_type": "display_data"
    }
   ],
   "source": [
    "mean(x, na.rm = T)"
   ]
  },
  {
   "cell_type": "code",
   "execution_count": 15,
   "id": "758ed35a-3fb5-4fa7-8396-862811bd122f",
   "metadata": {
    "tags": []
   },
   "outputs": [
    {
     "name": "stdout",
     "output_type": "stream",
     "text": [
      "   x  y\n",
      "1  1 10\n",
      "2 NA 20\n",
      "3  3 NA\n",
      "4  4 40\n"
     ]
    }
   ],
   "source": [
    "df <- data.frame(x = c(1, NA, 3, 4), y = c(10, 20, NA, 40))\n",
    "print(df)"
   ]
  },
  {
   "cell_type": "code",
   "execution_count": 16,
   "id": "f780b8a0-d031-47c2-a8cc-d495890bd069",
   "metadata": {
    "tags": []
   },
   "outputs": [
    {
     "data": {
      "text/html": [
       "<style>\n",
       ".list-inline {list-style: none; margin:0; padding: 0}\n",
       ".list-inline>li {display: inline-block}\n",
       ".list-inline>li:not(:last-child)::after {content: \"\\00b7\"; padding: 0 .5ex}\n",
       "</style>\n",
       "<ol class=list-inline><li>&lt;NA&gt;</li><li>&lt;NA&gt;</li></ol>\n"
      ],
      "text/latex": [
       "\\begin{enumerate*}\n",
       "\\item <NA>\n",
       "\\item <NA>\n",
       "\\end{enumerate*}\n"
      ],
      "text/markdown": [
       "1. &lt;NA&gt;\n",
       "2. &lt;NA&gt;\n",
       "\n",
       "\n"
      ],
      "text/plain": [
       "[1] NA NA"
      ]
     },
     "metadata": {},
     "output_type": "display_data"
    },
    {
     "data": {
      "text/html": [
       "<table class=\"dataframe\">\n",
       "<caption>A data.frame: 4 × 2</caption>\n",
       "<thead>\n",
       "\t<tr><th scope=col>x</th><th scope=col>y</th></tr>\n",
       "\t<tr><th scope=col>&lt;dbl&gt;</th><th scope=col>&lt;dbl&gt;</th></tr>\n",
       "</thead>\n",
       "<tbody>\n",
       "\t<tr><td> 1</td><td>10</td></tr>\n",
       "\t<tr><td>NA</td><td>20</td></tr>\n",
       "\t<tr><td> 3</td><td>NA</td></tr>\n",
       "\t<tr><td> 4</td><td>40</td></tr>\n",
       "</tbody>\n",
       "</table>\n"
      ],
      "text/latex": [
       "A data.frame: 4 × 2\n",
       "\\begin{tabular}{ll}\n",
       " x & y\\\\\n",
       " <dbl> & <dbl>\\\\\n",
       "\\hline\n",
       "\t  1 & 10\\\\\n",
       "\t NA & 20\\\\\n",
       "\t  3 & NA\\\\\n",
       "\t  4 & 40\\\\\n",
       "\\end{tabular}\n"
      ],
      "text/markdown": [
       "\n",
       "A data.frame: 4 × 2\n",
       "\n",
       "| x &lt;dbl&gt; | y &lt;dbl&gt; |\n",
       "|---|---|\n",
       "|  1 | 10 |\n",
       "| NA | 20 |\n",
       "|  3 | NA |\n",
       "|  4 | 40 |\n",
       "\n"
      ],
      "text/plain": [
       "  x  y \n",
       "1  1 10\n",
       "2 NA 20\n",
       "3  3 NA\n",
       "4  4 40"
      ]
     },
     "metadata": {},
     "output_type": "display_data"
    }
   ],
   "source": [
    "df[is.na(df)] \n",
    "df"
   ]
  },
  {
   "cell_type": "code",
   "execution_count": 17,
   "id": "e99bb4e8-17a9-43f0-a9aa-449ad5b3af60",
   "metadata": {
    "tags": []
   },
   "outputs": [
    {
     "name": "stdout",
     "output_type": "stream",
     "text": [
      "     x    y\n",
      "1    1   10\n",
      "2 -999   20\n",
      "3    3 -999\n",
      "4    4   40\n"
     ]
    }
   ],
   "source": [
    "df <- data.frame(x = c(1, -999, 3, 4), y = c(10, 20, -999, 40))\n",
    "print(df)"
   ]
  },
  {
   "cell_type": "code",
   "execution_count": 18,
   "id": "7cc63172-cae1-4c00-a8b7-60c921901b3e",
   "metadata": {
    "tags": []
   },
   "outputs": [
    {
     "name": "stdout",
     "output_type": "stream",
     "text": [
      "   x  y\n",
      "1  1 10\n",
      "2 NA 20\n",
      "3  3 NA\n",
      "4  4 40\n"
     ]
    }
   ],
   "source": [
    "df [df == -999] <- NA\n",
    "print(df)"
   ]
  },
  {
   "cell_type": "code",
   "execution_count": 19,
   "id": "f17da88a-7b1c-4a2f-8d4d-699ee021640c",
   "metadata": {
    "tags": []
   },
   "outputs": [
    {
     "data": {
      "text/plain": [
       "       x               y        \n",
       " Min.   :1.000   Min.   :10.00  \n",
       " 1st Qu.:2.000   1st Qu.:15.00  \n",
       " Median :3.000   Median :20.00  \n",
       " Mean   :2.667   Mean   :23.33  \n",
       " 3rd Qu.:3.500   3rd Qu.:30.00  \n",
       " Max.   :4.000   Max.   :40.00  \n",
       " NA's   :1       NA's   :1      "
      ]
     },
     "metadata": {},
     "output_type": "display_data"
    }
   ],
   "source": [
    "summary(df)"
   ]
  },
  {
   "cell_type": "code",
   "execution_count": 20,
   "id": "2c72a3c5-3167-430b-9a9a-7179d131f9fe",
   "metadata": {
    "tags": []
   },
   "outputs": [
    {
     "name": "stdout",
     "output_type": "stream",
     "text": [
      "'data.frame':\t60 obs. of  3 variables:\n",
      " $ len : num  4.2 11.5 7.3 5.8 6.4 10 11.2 11.2 5.2 7 ...\n",
      " $ supp: Factor w/ 2 levels \"OJ\",\"VC\": 2 2 2 2 2 2 2 2 2 2 ...\n",
      " $ dose: num  0.5 0.5 0.5 0.5 0.5 0.5 0.5 0.5 0.5 0.5 ...\n"
     ]
    }
   ],
   "source": [
    "data(ToothGrowth)\n",
    "str(ToothGrowth)"
   ]
  },
  {
   "cell_type": "code",
   "execution_count": 21,
   "id": "53334764-35f4-4a8d-86f2-ef0cd6773fd7",
   "metadata": {
    "tags": []
   },
   "outputs": [
    {
     "data": {
      "text/plain": [
       "\n",
       "OJ VC \n",
       "30 30 "
      ]
     },
     "metadata": {},
     "output_type": "display_data"
    }
   ],
   "source": [
    "table(ToothGrowth$supp)"
   ]
  },
  {
   "cell_type": "code",
   "execution_count": 22,
   "id": "2afef82f-8419-42c8-841f-c767f35c1899",
   "metadata": {
    "tags": []
   },
   "outputs": [
    {
     "data": {
      "text/plain": [
       "\n",
       "0.5   1   2 \n",
       " 20  20  20 "
      ]
     },
     "metadata": {},
     "output_type": "display_data"
    }
   ],
   "source": [
    "table(ToothGrowth$dose)"
   ]
  },
  {
   "cell_type": "code",
   "execution_count": 23,
   "id": "3e94602e-3ffd-49bb-bfe4-4f4d686e193f",
   "metadata": {
    "tags": []
   },
   "outputs": [
    {
     "data": {
      "text/plain": [
       "    \n",
       "     0.5  1  2\n",
       "  OJ  10 10 10\n",
       "  VC  10 10 10"
      ]
     },
     "metadata": {},
     "output_type": "display_data"
    }
   ],
   "source": [
    "table(ToothGrowth$supp, ToothGrowth$dose)"
   ]
  },
  {
   "cell_type": "code",
   "execution_count": 24,
   "id": "c92258ad-a87e-4f8a-b701-c4c9182e1ced",
   "metadata": {
    "tags": []
   },
   "outputs": [
    {
     "data": {
      "text/plain": [
       "\n",
       " OJ  VC \n",
       "0.5 0.5 "
      ]
     },
     "metadata": {},
     "output_type": "display_data"
    }
   ],
   "source": [
    "Supp <- table(ToothGrowth$supp)\n",
    "prop.table(Supp)"
   ]
  },
  {
   "cell_type": "code",
   "execution_count": 25,
   "id": "3d2d6539-f170-4453-a8c5-f85817f08a60",
   "metadata": {
    "tags": []
   },
   "outputs": [
    {
     "data": {
      "text/plain": [
       "\n",
       "      0.5         1         2 \n",
       "0.3333333 0.3333333 0.3333333 "
      ]
     },
     "metadata": {},
     "output_type": "display_data"
    }
   ],
   "source": [
    "Dose <- table(ToothGrowth$dose)\n",
    "prop.table(Dose)"
   ]
  },
  {
   "cell_type": "code",
   "execution_count": 26,
   "id": "490310ce-a7ef-407d-abca-9c8d0b525248",
   "metadata": {
    "tags": []
   },
   "outputs": [
    {
     "data": {
      "text/plain": [
       "    \n",
       "           0.5         1         2\n",
       "  OJ 0.1666667 0.1666667 0.1666667\n",
       "  VC 0.1666667 0.1666667 0.1666667"
      ]
     },
     "metadata": {},
     "output_type": "display_data"
    }
   ],
   "source": [
    "cross <- table(ToothGrowth$supp, ToothGrowth$dose)\n",
    "prop.table(cross)"
   ]
  },
  {
   "cell_type": "code",
   "execution_count": 27,
   "id": "211dd15f-b0ef-408c-82bf-69b4fa38e596",
   "metadata": {
    "tags": []
   },
   "outputs": [
    {
     "data": {
      "text/plain": [
       "\n",
       " OJ  VC Sum \n",
       " 30  30  60 "
      ]
     },
     "metadata": {},
     "output_type": "display_data"
    }
   ],
   "source": [
    "Supp <- table(ToothGrowth$supp)\n",
    "addmargins(Supp)"
   ]
  },
  {
   "cell_type": "code",
   "execution_count": 28,
   "id": "9819f6da-a05e-4e59-b558-f1211217b7b6",
   "metadata": {
    "tags": []
   },
   "outputs": [
    {
     "data": {
      "text/plain": [
       "\n",
       "0.5   1   2 Sum \n",
       " 20  20  20  60 "
      ]
     },
     "metadata": {},
     "output_type": "display_data"
    }
   ],
   "source": [
    "Dose <- table(ToothGrowth$dose)\n",
    "addmargins(Dose)"
   ]
  },
  {
   "cell_type": "code",
   "execution_count": 29,
   "id": "7e8bb298-a50f-4d94-900f-626384159fa5",
   "metadata": {
    "tags": []
   },
   "outputs": [
    {
     "data": {
      "text/html": [
       "<table class=\"dataframe\">\n",
       "<caption>A table: 3 × 4 of type dbl</caption>\n",
       "<thead>\n",
       "\t<tr><th></th><th scope=col>0.5</th><th scope=col>1</th><th scope=col>2</th><th scope=col>Sum</th></tr>\n",
       "</thead>\n",
       "<tbody>\n",
       "\t<tr><th scope=row>OJ</th><td>10</td><td>10</td><td>10</td><td>30</td></tr>\n",
       "\t<tr><th scope=row>VC</th><td>10</td><td>10</td><td>10</td><td>30</td></tr>\n",
       "\t<tr><th scope=row>Sum</th><td>20</td><td>20</td><td>20</td><td>60</td></tr>\n",
       "</tbody>\n",
       "</table>\n"
      ],
      "text/latex": [
       "A table: 3 × 4 of type dbl\n",
       "\\begin{tabular}{r|llll}\n",
       "  & 0.5 & 1 & 2 & Sum\\\\\n",
       "\\hline\n",
       "\tOJ & 10 & 10 & 10 & 30\\\\\n",
       "\tVC & 10 & 10 & 10 & 30\\\\\n",
       "\tSum & 20 & 20 & 20 & 60\\\\\n",
       "\\end{tabular}\n"
      ],
      "text/markdown": [
       "\n",
       "A table: 3 × 4 of type dbl\n",
       "\n",
       "| <!--/--> | 0.5 | 1 | 2 | Sum |\n",
       "|---|---|---|---|---|\n",
       "| OJ | 10 | 10 | 10 | 30 |\n",
       "| VC | 10 | 10 | 10 | 30 |\n",
       "| Sum | 20 | 20 | 20 | 60 |\n",
       "\n"
      ],
      "text/plain": [
       "     \n",
       "      0.5 1  2  Sum\n",
       "  OJ  10  10 10 30 \n",
       "  VC  10  10 10 30 \n",
       "  Sum 20  20 20 60 "
      ]
     },
     "metadata": {},
     "output_type": "display_data"
    }
   ],
   "source": [
    "cross <- table(ToothGrowth$supp, ToothGrowth$dose)\n",
    "addmargins(cross)"
   ]
  },
  {
   "cell_type": "code",
   "execution_count": 30,
   "id": "55881bf1-af75-400b-a9be-0da26deab327",
   "metadata": {
    "tags": []
   },
   "outputs": [],
   "source": [
    "data(mtcars)"
   ]
  },
  {
   "cell_type": "code",
   "execution_count": 31,
   "id": "483d3466-bf7e-4319-b071-c3d660b9c6ae",
   "metadata": {
    "tags": []
   },
   "outputs": [
    {
     "data": {
      "text/plain": [
       "\n",
       " 4  6  8 \n",
       "11  7 14 "
      ]
     },
     "metadata": {},
     "output_type": "display_data"
    }
   ],
   "source": [
    "table(mtcars$cyl)"
   ]
  },
  {
   "cell_type": "code",
   "execution_count": 32,
   "id": "e7f0a46b-8eda-4024-af01-97369ec4e61f",
   "metadata": {
    "tags": []
   },
   "outputs": [
    {
     "data": {
      "image/png": "[encoded data removed]",
      "text/plain": [
       "plot without title"
      ]
     },
     "metadata": {
      "image/png": {
       "height": 420,
       "width": 420
      }
     },
     "output_type": "display_data"
    }
   ],
   "source": [
    "barplot(table(mtcars$cyl))"
   ]
  },
  {
   "cell_type": "code",
   "execution_count": 33,
   "id": "02415a0a-9940-4c69-91c3-1137e342c510",
   "metadata": {
    "tags": []
   },
   "outputs": [
    {
     "data": {
      "text/html": [
       "'table'"
      ],
      "text/latex": [
       "'table'"
      ],
      "text/markdown": [
       "'table'"
      ],
      "text/plain": [
       "[1] \"table\""
      ]
     },
     "metadata": {},
     "output_type": "display_data"
    }
   ],
   "source": [
    "result <- table(mtcars$cyl)\n",
    "class(result)"
   ]
  },
  {
   "cell_type": "code",
   "execution_count": 34,
   "id": "94dc5bc2-e14f-42c5-b044-4f17cd6e0bc2",
   "metadata": {
    "tags": []
   },
   "outputs": [
    {
     "data": {
      "image/png": "[encoded data removed]",
      "text/plain": [
       "plot without title"
      ]
     },
     "metadata": {
      "image/png": {
       "height": 420,
       "width": 420
      }
     },
     "output_type": "display_data"
    }
   ],
   "source": [
    "barplot(table(mtcars$cyl), col = 'green', border = 'red')"
   ]
  },
  {
   "cell_type": "code",
   "execution_count": 35,
   "id": "be355aa0-6a9c-4fc8-b994-15cc1aefa8b4",
   "metadata": {
    "tags": []
   },
   "outputs": [],
   "source": [
    "library(readxl)"
   ]
  },
  {
   "cell_type": "code",
   "execution_count": 36,
   "id": "5e1c7cf3-23a5-404c-8bf8-e75d884a5f90",
   "metadata": {
    "tags": []
   },
   "outputs": [
    {
     "data": {
      "text/html": [
       "<style>\n",
       ".list-inline {list-style: none; margin:0; padding: 0}\n",
       ".list-inline>li {display: inline-block}\n",
       ".list-inline>li:not(:last-child)::after {content: \"\\00b7\"; padding: 0 .5ex}\n",
       "</style>\n",
       "<ol class=list-inline><li>'2015년 초미세먼지.xlsx'</li><li>'202121059-정보경-exercise-4.ipynb'</li><li>'202121059-정보경-무작정 따라하기-4.ipynb'</li><li>'2022년_도로교통공단_시군구별 월별 교통사고 통계.xlsx'</li><li>'데이터과학-중간고사.xlsx'</li><li>'실습 설문지.xlsx'</li></ol>\n"
      ],
      "text/latex": [
       "\\begin{enumerate*}\n",
       "\\item '2015년 초미세먼지.xlsx'\n",
       "\\item '202121059-정보경-exercise-4.ipynb'\n",
       "\\item '202121059-정보경-무작정 따라하기-4.ipynb'\n",
       "\\item '2022년\\_도로교통공단\\_시군구별 월별 교통사고 통계.xlsx'\n",
       "\\item '데이터과학-중간고사.xlsx'\n",
       "\\item '실습 설문지.xlsx'\n",
       "\\end{enumerate*}\n"
      ],
      "text/markdown": [
       "1. '2015년 초미세먼지.xlsx'\n",
       "2. '202121059-정보경-exercise-4.ipynb'\n",
       "3. '202121059-정보경-무작정 따라하기-4.ipynb'\n",
       "4. '2022년_도로교통공단_시군구별 월별 교통사고 통계.xlsx'\n",
       "5. '데이터과학-중간고사.xlsx'\n",
       "6. '실습 설문지.xlsx'\n",
       "\n",
       "\n"
      ],
      "text/plain": [
       "[1] \"2015년 초미세먼지.xlsx\"                              \n",
       "[2] \"202121059-정보경-exercise-4.ipynb\"                   \n",
       "[3] \"202121059-정보경-무작정 따라하기-4.ipynb\"            \n",
       "[4] \"2022년_도로교통공단_시군구별 월별 교통사고 통계.xlsx\"\n",
       "[5] \"데이터과학-중간고사.xlsx\"                            \n",
       "[6] \"실습 설문지.xlsx\"                                    "
      ]
     },
     "metadata": {},
     "output_type": "display_data"
    }
   ],
   "source": [
    "list.files()"
   ]
  },
  {
   "cell_type": "code",
   "execution_count": 37,
   "id": "b8520055-a7dd-4fec-82ef-2f1dc0b8ffb8",
   "metadata": {
    "tags": []
   },
   "outputs": [
    {
     "data": {
      "text/html": [
       "<table class=\"dataframe\">\n",
       "<caption>A tibble: 6 × 8</caption>\n",
       "<thead>\n",
       "\t<tr><th scope=col>번호</th><th scope=col>학년</th><th scope=col>통신사</th><th scope=col>제조회사</th><th scope=col>계기</th><th scope=col>만족도</th><th scope=col>구매이유</th><th scope=col>사용앱</th></tr>\n",
       "\t<tr><th scope=col>&lt;dbl&gt;</th><th scope=col>&lt;chr&gt;</th><th scope=col>&lt;chr&gt;</th><th scope=col>&lt;chr&gt;</th><th scope=col>&lt;chr&gt;</th><th scope=col>&lt;dbl&gt;</th><th scope=col>&lt;chr&gt;</th><th scope=col>&lt;chr&gt;</th></tr>\n",
       "</thead>\n",
       "<tbody>\n",
       "\t<tr><td>1</td><td>2학년</td><td>KT  </td><td>애플</td><td>아는 사람 소개        </td><td>3</td><td>디자인이 마음에 들어서              </td><td>카카오톡, 유투브, 영화보기(Netplix 등)</td></tr>\n",
       "\t<tr><td>2</td><td>3학년</td><td>LGU+</td><td>애플</td><td>인터넷을 통해서       </td><td>5</td><td>성능이 좋아서                       </td><td>카카오톡, 유투브, 카메라              </td></tr>\n",
       "\t<tr><td>3</td><td>4학년</td><td>SKT </td><td>삼성</td><td>인터넷을 통해서       </td><td>4</td><td>가격이 착해서, 성능이 좋아서        </td><td>카카오톡, 유투브, 인터넷              </td></tr>\n",
       "\t<tr><td>4</td><td>3학년</td><td>SKT </td><td>애플</td><td>어릴적이라 기억이 안남</td><td>5</td><td>디자인이 마음에 들어서              </td><td>카카오톡, 유투브, 인스타그램          </td></tr>\n",
       "\t<tr><td>5</td><td>2학년</td><td>SKT </td><td>삼성</td><td>인터넷을 통해서       </td><td>3</td><td>가격이 착해서, 이전 폰에 싫증이 나서</td><td>유투브, 게임, TV 다시보기             </td></tr>\n",
       "\t<tr><td>6</td><td>3학년</td><td>KT  </td><td>삼성</td><td>인터넷을 통해서       </td><td>3</td><td>성능이 좋아서                       </td><td>카카오톡, 유투브, 인터넷              </td></tr>\n",
       "</tbody>\n",
       "</table>\n"
      ],
      "text/latex": [
       "A tibble: 6 × 8\n",
       "\\begin{tabular}{llllllll}\n",
       " 번호 & 학년 & 통신사 & 제조회사 & 계기 & 만족도 & 구매이유 & 사용앱\\\\\n",
       " <dbl> & <chr> & <chr> & <chr> & <chr> & <dbl> & <chr> & <chr>\\\\\n",
       "\\hline\n",
       "\t 1 & 2학년 & KT   & 애플 & 아는 사람 소개         & 3 & 디자인이 마음에 들어서               & 카카오톡, 유투브, 영화보기(Netplix 등)\\\\\n",
       "\t 2 & 3학년 & LGU+ & 애플 & 인터넷을 통해서        & 5 & 성능이 좋아서                        & 카카오톡, 유투브, 카메라              \\\\\n",
       "\t 3 & 4학년 & SKT  & 삼성 & 인터넷을 통해서        & 4 & 가격이 착해서, 성능이 좋아서         & 카카오톡, 유투브, 인터넷              \\\\\n",
       "\t 4 & 3학년 & SKT  & 애플 & 어릴적이라 기억이 안남 & 5 & 디자인이 마음에 들어서               & 카카오톡, 유투브, 인스타그램          \\\\\n",
       "\t 5 & 2학년 & SKT  & 삼성 & 인터넷을 통해서        & 3 & 가격이 착해서, 이전 폰에 싫증이 나서 & 유투브, 게임, TV 다시보기             \\\\\n",
       "\t 6 & 3학년 & KT   & 삼성 & 인터넷을 통해서        & 3 & 성능이 좋아서                        & 카카오톡, 유투브, 인터넷              \\\\\n",
       "\\end{tabular}\n"
      ],
      "text/markdown": [
       "\n",
       "A tibble: 6 × 8\n",
       "\n",
       "| 번호 &lt;dbl&gt; | 학년 &lt;chr&gt; | 통신사 &lt;chr&gt; | 제조회사 &lt;chr&gt; | 계기 &lt;chr&gt; | 만족도 &lt;dbl&gt; | 구매이유 &lt;chr&gt; | 사용앱 &lt;chr&gt; |\n",
       "|---|---|---|---|---|---|---|---|\n",
       "| 1 | 2학년 | KT   | 애플 | 아는 사람 소개         | 3 | 디자인이 마음에 들어서               | 카카오톡, 유투브, 영화보기(Netplix 등) |\n",
       "| 2 | 3학년 | LGU+ | 애플 | 인터넷을 통해서        | 5 | 성능이 좋아서                        | 카카오톡, 유투브, 카메라               |\n",
       "| 3 | 4학년 | SKT  | 삼성 | 인터넷을 통해서        | 4 | 가격이 착해서, 성능이 좋아서         | 카카오톡, 유투브, 인터넷               |\n",
       "| 4 | 3학년 | SKT  | 애플 | 어릴적이라 기억이 안남 | 5 | 디자인이 마음에 들어서               | 카카오톡, 유투브, 인스타그램           |\n",
       "| 5 | 2학년 | SKT  | 삼성 | 인터넷을 통해서        | 3 | 가격이 착해서, 이전 폰에 싫증이 나서 | 유투브, 게임, TV 다시보기              |\n",
       "| 6 | 3학년 | KT   | 삼성 | 인터넷을 통해서        | 3 | 성능이 좋아서                        | 카카오톡, 유투브, 인터넷               |\n",
       "\n"
      ],
      "text/plain": [
       "  번호 학년  통신사 제조회사 계기                   만족도\n",
       "1 1    2학년 KT     애플     아는 사람 소개         3     \n",
       "2 2    3학년 LGU+   애플     인터넷을 통해서        5     \n",
       "3 3    4학년 SKT    삼성     인터넷을 통해서        4     \n",
       "4 4    3학년 SKT    애플     어릴적이라 기억이 안남 5     \n",
       "5 5    2학년 SKT    삼성     인터넷을 통해서        3     \n",
       "6 6    3학년 KT     삼성     인터넷을 통해서        3     \n",
       "  구매이유                             사용앱                                \n",
       "1 디자인이 마음에 들어서               카카오톡, 유투브, 영화보기(Netplix 등)\n",
       "2 성능이 좋아서                        카카오톡, 유투브, 카메라              \n",
       "3 가격이 착해서, 성능이 좋아서         카카오톡, 유투브, 인터넷              \n",
       "4 디자인이 마음에 들어서               카카오톡, 유투브, 인스타그램          \n",
       "5 가격이 착해서, 이전 폰에 싫증이 나서 유투브, 게임, TV 다시보기             \n",
       "6 성능이 좋아서                        카카오톡, 유투브, 인터넷              "
      ]
     },
     "metadata": {},
     "output_type": "display_data"
    }
   ],
   "source": [
    "data <- read_xlsx(\"실습 설문지.xlsx\")\n",
    "head(data)"
   ]
  },
  {
   "cell_type": "code",
   "execution_count": 38,
   "id": "9368c868-e710-405f-bc86-2b721999809c",
   "metadata": {
    "tags": []
   },
   "outputs": [
    {
     "data": {
      "text/plain": [
       "\n",
       "2학년 3학년 4학년 \n",
       "   19    33     6 "
      ]
     },
     "metadata": {},
     "output_type": "display_data"
    }
   ],
   "source": [
    "table(data$'학년')"
   ]
  },
  {
   "cell_type": "code",
   "execution_count": 39,
   "id": "1d1d6331-07bb-4583-9e83-54ba2cb5bd3f",
   "metadata": {
    "tags": []
   },
   "outputs": [
    {
     "data": {
      "text/plain": [
       "\n",
       "    KT   LGU+    SKT 알뜰폰 \n",
       "    14     16     24      4 "
      ]
     },
     "metadata": {},
     "output_type": "display_data"
    }
   ],
   "source": [
    "table(data$'통신사')"
   ]
  },
  {
   "cell_type": "code",
   "execution_count": 40,
   "id": "ff3f4754-f897-413c-8862-8dceba7d8404",
   "metadata": {
    "tags": []
   },
   "outputs": [
    {
     "data": {
      "text/html": [
       "<table class=\"dataframe\">\n",
       "<caption>A table: 4 × 5 of type dbl</caption>\n",
       "<thead>\n",
       "\t<tr><th></th><th scope=col>KT</th><th scope=col>LGU+</th><th scope=col>SKT</th><th scope=col>알뜰폰</th><th scope=col>Sum</th></tr>\n",
       "</thead>\n",
       "<tbody>\n",
       "\t<tr><th scope=row>2학년</th><td> 4</td><td> 5</td><td> 8</td><td>2</td><td>19</td></tr>\n",
       "\t<tr><th scope=row>3학년</th><td> 9</td><td>10</td><td>13</td><td>1</td><td>33</td></tr>\n",
       "\t<tr><th scope=row>4학년</th><td> 1</td><td> 1</td><td> 3</td><td>1</td><td> 6</td></tr>\n",
       "\t<tr><th scope=row>Sum</th><td>14</td><td>16</td><td>24</td><td>4</td><td>58</td></tr>\n",
       "</tbody>\n",
       "</table>\n"
      ],
      "text/latex": [
       "A table: 4 × 5 of type dbl\n",
       "\\begin{tabular}{r|lllll}\n",
       "  & KT & LGU+ & SKT & 알뜰폰 & Sum\\\\\n",
       "\\hline\n",
       "\t2학년 &  4 &  5 &  8 & 2 & 19\\\\\n",
       "\t3학년 &  9 & 10 & 13 & 1 & 33\\\\\n",
       "\t4학년 &  1 &  1 &  3 & 1 &  6\\\\\n",
       "\tSum & 14 & 16 & 24 & 4 & 58\\\\\n",
       "\\end{tabular}\n"
      ],
      "text/markdown": [
       "\n",
       "A table: 4 × 5 of type dbl\n",
       "\n",
       "| <!--/--> | KT | LGU+ | SKT | 알뜰폰 | Sum |\n",
       "|---|---|---|---|---|---|\n",
       "| 2학년 |  4 |  5 |  8 | 2 | 19 |\n",
       "| 3학년 |  9 | 10 | 13 | 1 | 33 |\n",
       "| 4학년 |  1 |  1 |  3 | 1 |  6 |\n",
       "| Sum | 14 | 16 | 24 | 4 | 58 |\n",
       "\n"
      ],
      "text/plain": [
       "       \n",
       "        KT LGU+ SKT 알뜰폰 Sum\n",
       "  2학년  4  5    8  2      19 \n",
       "  3학년  9 10   13  1      33 \n",
       "  4학년  1  1    3  1       6 \n",
       "  Sum   14 16   24  4      58 "
      ]
     },
     "metadata": {},
     "output_type": "display_data"
    }
   ],
   "source": [
    "result <- table(data$학년, data$통신사)\n",
    "addmargins(result)"
   ]
  },
  {
   "cell_type": "code",
   "execution_count": 41,
   "id": "619a6606-8d29-4004-865b-39dc0d444598",
   "metadata": {
    "tags": []
   },
   "outputs": [
    {
     "data": {
      "text/html": [
       "<table class=\"dataframe\">\n",
       "<caption>A table: 5 × 4 of type dbl</caption>\n",
       "<thead>\n",
       "\t<tr><th></th><th scope=col>KT</th><th scope=col>삼성</th><th scope=col>애플</th><th scope=col>Sum</th></tr>\n",
       "</thead>\n",
       "<tbody>\n",
       "\t<tr><th scope=row>KT</th><td>1</td><td> 9</td><td> 4</td><td>14</td></tr>\n",
       "\t<tr><th scope=row>LGU+</th><td>0</td><td> 7</td><td> 9</td><td>16</td></tr>\n",
       "\t<tr><th scope=row>SKT</th><td>0</td><td>13</td><td>11</td><td>24</td></tr>\n",
       "\t<tr><th scope=row>알뜰폰</th><td>0</td><td> 3</td><td> 1</td><td> 4</td></tr>\n",
       "\t<tr><th scope=row>Sum</th><td>1</td><td>32</td><td>25</td><td>58</td></tr>\n",
       "</tbody>\n",
       "</table>\n"
      ],
      "text/latex": [
       "A table: 5 × 4 of type dbl\n",
       "\\begin{tabular}{r|llll}\n",
       "  & KT & 삼성 & 애플 & Sum\\\\\n",
       "\\hline\n",
       "\tKT & 1 &  9 &  4 & 14\\\\\n",
       "\tLGU+ & 0 &  7 &  9 & 16\\\\\n",
       "\tSKT & 0 & 13 & 11 & 24\\\\\n",
       "\t알뜰폰 & 0 &  3 &  1 &  4\\\\\n",
       "\tSum & 1 & 32 & 25 & 58\\\\\n",
       "\\end{tabular}\n"
      ],
      "text/markdown": [
       "\n",
       "A table: 5 × 4 of type dbl\n",
       "\n",
       "| <!--/--> | KT | 삼성 | 애플 | Sum |\n",
       "|---|---|---|---|---|\n",
       "| KT | 1 |  9 |  4 | 14 |\n",
       "| LGU+ | 0 |  7 |  9 | 16 |\n",
       "| SKT | 0 | 13 | 11 | 24 |\n",
       "| 알뜰폰 | 0 |  3 |  1 |  4 |\n",
       "| Sum | 1 | 32 | 25 | 58 |\n",
       "\n"
      ],
      "text/plain": [
       "        \n",
       "         KT 삼성 애플 Sum\n",
       "  KT     1   9    4   14 \n",
       "  LGU+   0   7    9   16 \n",
       "  SKT    0  13   11   24 \n",
       "  알뜰폰 0   3    1    4 \n",
       "  Sum    1  32   25   58 "
      ]
     },
     "metadata": {},
     "output_type": "display_data"
    }
   ],
   "source": [
    "result <- table(data$통신사, data$제조회사)\n",
    "addmargins(result)"
   ]
  },
  {
   "cell_type": "code",
   "execution_count": 42,
   "id": "4dd18ecc-a934-44b1-9511-5bb385f35551",
   "metadata": {
    "tags": []
   },
   "outputs": [
    {
     "data": {
      "image/png": "[encoded data removed]",
      "text/plain": [
       "Plot with title “이 제품을 알게된 계기”"
      ]
     },
     "metadata": {
      "image/png": {
       "height": 420,
       "width": 420
      }
     },
     "output_type": "display_data"
    }
   ],
   "source": [
    "options(repr.plot.with = 14)\n",
    "result <- table(data$'계기')\n",
    "barplot(result, col = 'gold', border = 'red', main = '이 제품을 알게된 계기')"
   ]
  },
  {
   "cell_type": "code",
   "execution_count": 43,
   "id": "b96cf880-690d-4f7a-955e-488ec74b5444",
   "metadata": {
    "tags": []
   },
   "outputs": [
    {
     "data": {
      "text/html": [
       "<style>\n",
       ".list-inline {list-style: none; margin:0; padding: 0}\n",
       ".list-inline>li {display: inline-block}\n",
       ".list-inline>li:not(:last-child)::after {content: \"\\00b7\"; padding: 0 .5ex}\n",
       "</style>\n",
       "<ol class=list-inline><li>'2015년 초미세먼지.xlsx'</li><li>'202121059-정보경-exercise-4.ipynb'</li><li>'202121059-정보경-무작정 따라하기-4.ipynb'</li><li>'2022년_도로교통공단_시군구별 월별 교통사고 통계.xlsx'</li><li>'데이터과학-중간고사.xlsx'</li><li>'실습 설문지.xlsx'</li></ol>\n"
      ],
      "text/latex": [
       "\\begin{enumerate*}\n",
       "\\item '2015년 초미세먼지.xlsx'\n",
       "\\item '202121059-정보경-exercise-4.ipynb'\n",
       "\\item '202121059-정보경-무작정 따라하기-4.ipynb'\n",
       "\\item '2022년\\_도로교통공단\\_시군구별 월별 교통사고 통계.xlsx'\n",
       "\\item '데이터과학-중간고사.xlsx'\n",
       "\\item '실습 설문지.xlsx'\n",
       "\\end{enumerate*}\n"
      ],
      "text/markdown": [
       "1. '2015년 초미세먼지.xlsx'\n",
       "2. '202121059-정보경-exercise-4.ipynb'\n",
       "3. '202121059-정보경-무작정 따라하기-4.ipynb'\n",
       "4. '2022년_도로교통공단_시군구별 월별 교통사고 통계.xlsx'\n",
       "5. '데이터과학-중간고사.xlsx'\n",
       "6. '실습 설문지.xlsx'\n",
       "\n",
       "\n"
      ],
      "text/plain": [
       "[1] \"2015년 초미세먼지.xlsx\"                              \n",
       "[2] \"202121059-정보경-exercise-4.ipynb\"                   \n",
       "[3] \"202121059-정보경-무작정 따라하기-4.ipynb\"            \n",
       "[4] \"2022년_도로교통공단_시군구별 월별 교통사고 통계.xlsx\"\n",
       "[5] \"데이터과학-중간고사.xlsx\"                            \n",
       "[6] \"실습 설문지.xlsx\"                                    "
      ]
     },
     "metadata": {},
     "output_type": "display_data"
    }
   ],
   "source": [
    "list.files()"
   ]
  },
  {
   "cell_type": "code",
   "execution_count": 44,
   "id": "35ed3779-22f7-4585-9c48-79776bb0e80c",
   "metadata": {
    "tags": []
   },
   "outputs": [
    {
     "data": {
      "text/html": [
       "<table class=\"dataframe\">\n",
       "<caption>A tibble: 6 × 8</caption>\n",
       "<thead>\n",
       "\t<tr><th scope=col>시도</th><th scope=col>시군구</th><th scope=col>발생월</th><th scope=col>사고건수</th><th scope=col>사망자수</th><th scope=col>중상자수</th><th scope=col>경상자수</th><th scope=col>부상신고자수</th></tr>\n",
       "\t<tr><th scope=col>&lt;chr&gt;</th><th scope=col>&lt;chr&gt;</th><th scope=col>&lt;dbl&gt;</th><th scope=col>&lt;dbl&gt;</th><th scope=col>&lt;dbl&gt;</th><th scope=col>&lt;dbl&gt;</th><th scope=col>&lt;dbl&gt;</th><th scope=col>&lt;dbl&gt;</th></tr>\n",
       "</thead>\n",
       "<tbody>\n",
       "\t<tr><td>서울</td><td>종로구</td><td>1</td><td>69</td><td>3</td><td>21</td><td>66</td><td> 6</td></tr>\n",
       "\t<tr><td>서울</td><td>종로구</td><td>2</td><td>54</td><td>0</td><td>21</td><td>46</td><td> 8</td></tr>\n",
       "\t<tr><td>서울</td><td>종로구</td><td>3</td><td>66</td><td>0</td><td>17</td><td>65</td><td>10</td></tr>\n",
       "\t<tr><td>서울</td><td>종로구</td><td>4</td><td>51</td><td>0</td><td>21</td><td>39</td><td> 6</td></tr>\n",
       "\t<tr><td>서울</td><td>종로구</td><td>5</td><td>62</td><td>0</td><td>12</td><td>68</td><td>11</td></tr>\n",
       "\t<tr><td>서울</td><td>종로구</td><td>6</td><td>70</td><td>1</td><td>16</td><td>69</td><td> 5</td></tr>\n",
       "</tbody>\n",
       "</table>\n"
      ],
      "text/latex": [
       "A tibble: 6 × 8\n",
       "\\begin{tabular}{llllllll}\n",
       " 시도 & 시군구 & 발생월 & 사고건수 & 사망자수 & 중상자수 & 경상자수 & 부상신고자수\\\\\n",
       " <chr> & <chr> & <dbl> & <dbl> & <dbl> & <dbl> & <dbl> & <dbl>\\\\\n",
       "\\hline\n",
       "\t 서울 & 종로구 & 1 & 69 & 3 & 21 & 66 &  6\\\\\n",
       "\t 서울 & 종로구 & 2 & 54 & 0 & 21 & 46 &  8\\\\\n",
       "\t 서울 & 종로구 & 3 & 66 & 0 & 17 & 65 & 10\\\\\n",
       "\t 서울 & 종로구 & 4 & 51 & 0 & 21 & 39 &  6\\\\\n",
       "\t 서울 & 종로구 & 5 & 62 & 0 & 12 & 68 & 11\\\\\n",
       "\t 서울 & 종로구 & 6 & 70 & 1 & 16 & 69 &  5\\\\\n",
       "\\end{tabular}\n"
      ],
      "text/markdown": [
       "\n",
       "A tibble: 6 × 8\n",
       "\n",
       "| 시도 &lt;chr&gt; | 시군구 &lt;chr&gt; | 발생월 &lt;dbl&gt; | 사고건수 &lt;dbl&gt; | 사망자수 &lt;dbl&gt; | 중상자수 &lt;dbl&gt; | 경상자수 &lt;dbl&gt; | 부상신고자수 &lt;dbl&gt; |\n",
       "|---|---|---|---|---|---|---|---|\n",
       "| 서울 | 종로구 | 1 | 69 | 3 | 21 | 66 |  6 |\n",
       "| 서울 | 종로구 | 2 | 54 | 0 | 21 | 46 |  8 |\n",
       "| 서울 | 종로구 | 3 | 66 | 0 | 17 | 65 | 10 |\n",
       "| 서울 | 종로구 | 4 | 51 | 0 | 21 | 39 |  6 |\n",
       "| 서울 | 종로구 | 5 | 62 | 0 | 12 | 68 | 11 |\n",
       "| 서울 | 종로구 | 6 | 70 | 1 | 16 | 69 |  5 |\n",
       "\n"
      ],
      "text/plain": [
       "  시도 시군구 발생월 사고건수 사망자수 중상자수 경상자수 부상신고자수\n",
       "1 서울 종로구 1      69       3        21       66        6          \n",
       "2 서울 종로구 2      54       0        21       46        8          \n",
       "3 서울 종로구 3      66       0        17       65       10          \n",
       "4 서울 종로구 4      51       0        21       39        6          \n",
       "5 서울 종로구 5      62       0        12       68       11          \n",
       "6 서울 종로구 6      70       1        16       69        5          "
      ]
     },
     "metadata": {},
     "output_type": "display_data"
    }
   ],
   "source": [
    "data <- read_xlsx(\"2022년_도로교통공단_시군구별 월별 교통사고 통계.xlsx\")\n",
    "head(data)"
   ]
  },
  {
   "cell_type": "code",
   "execution_count": 45,
   "id": "469da39c-2df7-49b5-beee-cf0b580d3e5c",
   "metadata": {
    "tags": []
   },
   "outputs": [
    {
     "name": "stdout",
     "output_type": "stream",
     "text": [
      "\n",
      "강원 경기 경남 경북 광주 대구 대전 부산 서울 세종 울산 인천 전남 전북 제주 충남 \n",
      " 216  372  216  269   60   96   60  192  300   12   60  117  264  167   24  180 \n",
      "충북 \n",
      " 132 \n"
     ]
    }
   ],
   "source": [
    "print(table(data$'시도'))"
   ]
  },
  {
   "cell_type": "code",
   "execution_count": 46,
   "id": "76f7483d-a9c8-4809-8b7f-dd3c8d706ee5",
   "metadata": {
    "tags": []
   },
   "outputs": [
    {
     "data": {
      "text/html": [
       "<table class=\"dataframe\">\n",
       "<caption>A matrix: 1 × 17 of type int</caption>\n",
       "<thead>\n",
       "\t<tr><th scope=col>강원</th><th scope=col>경기</th><th scope=col>경남</th><th scope=col>경북</th><th scope=col>광주</th><th scope=col>대구</th><th scope=col>대전</th><th scope=col>부산</th><th scope=col>서울</th><th scope=col>세종</th><th scope=col>울산</th><th scope=col>인천</th><th scope=col>전남</th><th scope=col>전북</th><th scope=col>제주</th><th scope=col>충남</th><th scope=col>충북</th></tr>\n",
       "</thead>\n",
       "<tbody>\n",
       "\t<tr><td>216</td><td>372</td><td>216</td><td>269</td><td>60</td><td>96</td><td>60</td><td>192</td><td>300</td><td>12</td><td>60</td><td>117</td><td>264</td><td>167</td><td>24</td><td>180</td><td>132</td></tr>\n",
       "</tbody>\n",
       "</table>\n"
      ],
      "text/latex": [
       "A matrix: 1 × 17 of type int\n",
       "\\begin{tabular}{lllllllllllllllll}\n",
       " 강원 & 경기 & 경남 & 경북 & 광주 & 대구 & 대전 & 부산 & 서울 & 세종 & 울산 & 인천 & 전남 & 전북 & 제주 & 충남 & 충북\\\\\n",
       "\\hline\n",
       "\t 216 & 372 & 216 & 269 & 60 & 96 & 60 & 192 & 300 & 12 & 60 & 117 & 264 & 167 & 24 & 180 & 132\\\\\n",
       "\\end{tabular}\n"
      ],
      "text/markdown": [
       "\n",
       "A matrix: 1 × 17 of type int\n",
       "\n",
       "| 강원 | 경기 | 경남 | 경북 | 광주 | 대구 | 대전 | 부산 | 서울 | 세종 | 울산 | 인천 | 전남 | 전북 | 제주 | 충남 | 충북 |\n",
       "|---|---|---|---|---|---|---|---|---|---|---|---|---|---|---|---|---|\n",
       "| 216 | 372 | 216 | 269 | 60 | 96 | 60 | 192 | 300 | 12 | 60 | 117 | 264 | 167 | 24 | 180 | 132 |\n",
       "\n"
      ],
      "text/plain": [
       "     강원 경기 경남 경북 광주 대구 대전 부산 서울 세종 울산 인천 전남 전북 제주\n",
       "[1,] 216  372  216  269  60   96   60   192  300  12   60   117  264  167  24  \n",
       "     충남 충북\n",
       "[1,] 180  132 "
      ]
     },
     "metadata": {},
     "output_type": "display_data"
    }
   ],
   "source": [
    "t(as.matrix(table(data$시도)))"
   ]
  },
  {
   "cell_type": "code",
   "execution_count": 47,
   "id": "44cdec63-a95f-4e84-8909-233f8d37a9ae",
   "metadata": {
    "tags": []
   },
   "outputs": [
    {
     "data": {
      "text/html": [
       "74.2162952137377"
      ],
      "text/latex": [
       "74.2162952137377"
      ],
      "text/markdown": [
       "74.2162952137377"
      ],
      "text/plain": [
       "[1] 74.2163"
      ]
     },
     "metadata": {},
     "output_type": "display_data"
    }
   ],
   "source": [
    "mean(data$사고건수)"
   ]
  },
  {
   "cell_type": "code",
   "execution_count": 48,
   "id": "7731713e-050f-4f9c-8b63-4b1424e217bc",
   "metadata": {
    "tags": []
   },
   "outputs": [
    {
     "data": {
      "text/html": [
       "459"
      ],
      "text/latex": [
       "459"
      ],
      "text/markdown": [
       "459"
      ],
      "text/plain": [
       "[1] 459"
      ]
     },
     "metadata": {},
     "output_type": "display_data"
    }
   ],
   "source": [
    "max(data$사고건수)"
   ]
  },
  {
   "cell_type": "code",
   "execution_count": 49,
   "id": "7c19a371-0a53-4d6d-ac2a-d0fe185b2b54",
   "metadata": {
    "tags": []
   },
   "outputs": [
    {
     "data": {
      "text/html": [
       "1"
      ],
      "text/latex": [
       "1"
      ],
      "text/markdown": [
       "1"
      ],
      "text/plain": [
       "[1] 1"
      ]
     },
     "metadata": {},
     "output_type": "display_data"
    }
   ],
   "source": [
    "min(data$사고건수)"
   ]
  },
  {
   "cell_type": "code",
   "execution_count": 50,
   "id": "4d2452b9-2790-42d6-a1b0-6d6105fcef91",
   "metadata": {
    "tags": []
   },
   "outputs": [
    {
     "data": {
      "text/html": [
       "52"
      ],
      "text/latex": [
       "52"
      ],
      "text/markdown": [
       "52"
      ],
      "text/plain": [
       "[1] 52"
      ]
     },
     "metadata": {},
     "output_type": "display_data"
    }
   ],
   "source": [
    "median(data$경상자수)"
   ]
  },
  {
   "cell_type": "code",
   "execution_count": 51,
   "id": "91829d5d-c295-4c90-ba36-3ba745456b92",
   "metadata": {
    "tags": []
   },
   "outputs": [
    {
     "data": {
      "text/plain": [
       "     시도              시군구              발생월          사고건수     \n",
       " Length:2737        Length:2737        Min.   : 1.000   Min.   :  1.00  \n",
       " Class :character   Class :character   1st Qu.: 4.000   1st Qu.: 19.00  \n",
       " Mode  :character   Mode  :character   Median : 6.000   Median : 51.00  \n",
       "                                       Mean   : 6.499   Mean   : 74.22  \n",
       "                                       3rd Qu.: 9.000   3rd Qu.:101.00  \n",
       "                                       Max.   :12.000   Max.   :459.00  \n",
       "    사망자수        중상자수         경상자수       부상신고자수   \n",
       " Min.   :0.000   Min.   :  0.00   Min.   :  0.00   Min.   : 0.000  \n",
       " 1st Qu.:0.000   1st Qu.:  7.00   1st Qu.: 19.00   1st Qu.: 0.000  \n",
       " Median :1.000   Median : 16.00   Median : 52.00   Median : 3.000  \n",
       " Mean   :1.065   Mean   : 20.43   Mean   : 80.12   Mean   : 5.999  \n",
       " 3rd Qu.:2.000   3rd Qu.: 27.00   3rd Qu.:106.00   3rd Qu.: 8.000  \n",
       " Max.   :8.000   Max.   :114.00   Max.   :515.00   Max.   :62.000  "
      ]
     },
     "metadata": {},
     "output_type": "display_data"
    }
   ],
   "source": [
    "summary(data)"
   ]
  },
  {
   "cell_type": "code",
   "execution_count": 52,
   "id": "cc0c6ca3-0bfd-4809-87fb-1d55b503a842",
   "metadata": {
    "tags": []
   },
   "outputs": [
    {
     "data": {
      "text/html": [
       "<style>\n",
       ".list-inline {list-style: none; margin:0; padding: 0}\n",
       ".list-inline>li {display: inline-block}\n",
       ".list-inline>li:not(:last-child)::after {content: \"\\00b7\"; padding: 0 .5ex}\n",
       "</style>\n",
       "<ol class=list-inline><li>498</li><li>502</li><li>503</li><li>504</li></ol>\n"
      ],
      "text/latex": [
       "\\begin{enumerate*}\n",
       "\\item 498\n",
       "\\item 502\n",
       "\\item 503\n",
       "\\item 504\n",
       "\\end{enumerate*}\n"
      ],
      "text/markdown": [
       "1. 498\n",
       "2. 502\n",
       "3. 503\n",
       "4. 504\n",
       "\n",
       "\n"
      ],
      "text/plain": [
       "[1] 498 502 503 504"
      ]
     },
     "metadata": {},
     "output_type": "display_data"
    }
   ],
   "source": [
    "which(data$사고건수 >= 400)"
   ]
  },
  {
   "cell_type": "code",
   "execution_count": 53,
   "id": "4bd81f94-809d-4edb-bf38-6e3f7f5c3961",
   "metadata": {
    "tags": []
   },
   "outputs": [
    {
     "data": {
      "text/html": [
       "<table class=\"dataframe\">\n",
       "<caption>A tibble: 4 × 8</caption>\n",
       "<thead>\n",
       "\t<tr><th scope=col>시도</th><th scope=col>시군구</th><th scope=col>발생월</th><th scope=col>사고건수</th><th scope=col>사망자수</th><th scope=col>중상자수</th><th scope=col>경상자수</th><th scope=col>부상신고자수</th></tr>\n",
       "\t<tr><th scope=col>&lt;chr&gt;</th><th scope=col>&lt;chr&gt;</th><th scope=col>&lt;dbl&gt;</th><th scope=col>&lt;dbl&gt;</th><th scope=col>&lt;dbl&gt;</th><th scope=col>&lt;dbl&gt;</th><th scope=col>&lt;dbl&gt;</th><th scope=col>&lt;dbl&gt;</th></tr>\n",
       "</thead>\n",
       "<tbody>\n",
       "\t<tr><td>경기</td><td>수원시</td><td> 6</td><td>411</td><td>1</td><td>94</td><td>456</td><td>42</td></tr>\n",
       "\t<tr><td>경기</td><td>수원시</td><td>10</td><td>436</td><td>3</td><td>91</td><td>476</td><td>39</td></tr>\n",
       "\t<tr><td>경기</td><td>수원시</td><td>11</td><td>459</td><td>2</td><td>93</td><td>515</td><td>58</td></tr>\n",
       "\t<tr><td>경기</td><td>수원시</td><td>12</td><td>413</td><td>7</td><td>80</td><td>485</td><td>41</td></tr>\n",
       "</tbody>\n",
       "</table>\n"
      ],
      "text/latex": [
       "A tibble: 4 × 8\n",
       "\\begin{tabular}{llllllll}\n",
       " 시도 & 시군구 & 발생월 & 사고건수 & 사망자수 & 중상자수 & 경상자수 & 부상신고자수\\\\\n",
       " <chr> & <chr> & <dbl> & <dbl> & <dbl> & <dbl> & <dbl> & <dbl>\\\\\n",
       "\\hline\n",
       "\t 경기 & 수원시 &  6 & 411 & 1 & 94 & 456 & 42\\\\\n",
       "\t 경기 & 수원시 & 10 & 436 & 3 & 91 & 476 & 39\\\\\n",
       "\t 경기 & 수원시 & 11 & 459 & 2 & 93 & 515 & 58\\\\\n",
       "\t 경기 & 수원시 & 12 & 413 & 7 & 80 & 485 & 41\\\\\n",
       "\\end{tabular}\n"
      ],
      "text/markdown": [
       "\n",
       "A tibble: 4 × 8\n",
       "\n",
       "| 시도 &lt;chr&gt; | 시군구 &lt;chr&gt; | 발생월 &lt;dbl&gt; | 사고건수 &lt;dbl&gt; | 사망자수 &lt;dbl&gt; | 중상자수 &lt;dbl&gt; | 경상자수 &lt;dbl&gt; | 부상신고자수 &lt;dbl&gt; |\n",
       "|---|---|---|---|---|---|---|---|\n",
       "| 경기 | 수원시 |  6 | 411 | 1 | 94 | 456 | 42 |\n",
       "| 경기 | 수원시 | 10 | 436 | 3 | 91 | 476 | 39 |\n",
       "| 경기 | 수원시 | 11 | 459 | 2 | 93 | 515 | 58 |\n",
       "| 경기 | 수원시 | 12 | 413 | 7 | 80 | 485 | 41 |\n",
       "\n"
      ],
      "text/plain": [
       "  시도 시군구 발생월 사고건수 사망자수 중상자수 경상자수 부상신고자수\n",
       "1 경기 수원시  6     411      1        94       456      42          \n",
       "2 경기 수원시 10     436      3        91       476      39          \n",
       "3 경기 수원시 11     459      2        93       515      58          \n",
       "4 경기 수원시 12     413      7        80       485      41          "
      ]
     },
     "metadata": {},
     "output_type": "display_data"
    }
   ],
   "source": [
    "idx <- which(data$사고건수 >= 400)\n",
    "data[idx, ]"
   ]
  },
  {
   "cell_type": "code",
   "execution_count": 54,
   "id": "32abf2fa-652d-4a13-8265-344571bbcc13",
   "metadata": {
    "tags": []
   },
   "outputs": [
    {
     "name": "stdout",
     "output_type": "stream",
     "text": [
      "\n",
      "          SNS를 통해서                TV 광고          개통사의 권유 \n",
      "                     6                      7                      1 \n",
      "         매장에서 구입         아는 사람 소개 어릴적이라 기억이 안남 \n",
      "                     1                     11                      1 \n",
      "       인터넷을 통해서              지인 사용 \n",
      "                    30                      1 \n"
     ]
    }
   ],
   "source": [
    "x <- c(3, 5, 10, 15, 21, 25)\n",
    "bins <- c(0, 10, 20, 30)\n",
    "rsult <- cut(x, breaks = bins)\n",
    "print(result)"
   ]
  },
  {
   "cell_type": "code",
   "execution_count": 55,
   "id": "ad6a2c1c-afc1-45a3-be65-68cdcb4ccf2f",
   "metadata": {
    "tags": []
   },
   "outputs": [
    {
     "data": {
      "text/plain": [
       "   Min. 1st Qu.  Median    Mean 3rd Qu.    Max. \n",
       "   1.00   19.00   51.00   74.22  101.00  459.00 "
      ]
     },
     "metadata": {},
     "output_type": "display_data"
    }
   ],
   "source": [
    "summary(data$사고건수)"
   ]
  },
  {
   "cell_type": "code",
   "execution_count": 56,
   "id": "1b02eeba-485a-40b4-b356-f7d2ac1b6e83",
   "metadata": {
    "tags": []
   },
   "outputs": [
    {
     "data": {
      "text/plain": [
       "result\n",
       "  (0,100] (100,200] (200,300] (300,400] (400,500]       Sum \n",
       "     2052       479       144        58         4      2737 "
      ]
     },
     "metadata": {},
     "output_type": "display_data"
    }
   ],
   "source": [
    "bins <- c(0:5) * 100\n",
    "result <- cut(data$사고건수, breaks = bins)\n",
    "addmargins(table(result))"
   ]
  },
  {
   "cell_type": "code",
   "execution_count": 57,
   "id": "a71f0073-02ce-4f47-8933-771355d98e41",
   "metadata": {
    "tags": []
   },
   "outputs": [
    {
     "data": {
      "text/plain": [
       "result\n",
       "  (0,100] (100,200] (200,300] (300,400] (400,500]       Sum \n",
       "     2052       479       144        58         4      2737 "
      ]
     },
     "metadata": {},
     "output_type": "display_data"
    }
   ],
   "source": [
    "bins <- seq(0, 500, 100)\n",
    "result <- cut(data$사고건수, breaks = bins)\n",
    "addmargins(table(result))"
   ]
  },
  {
   "cell_type": "code",
   "execution_count": 58,
   "id": "4bb2e6bf-78ea-4269-9d13-f4c5583f0e38",
   "metadata": {
    "tags": []
   },
   "outputs": [
    {
     "data": {
      "text/plain": [
       "result\n",
       "  (0,100] (100,200] (200,300] (300,400] (400,500]       Sum \n",
       "     2052       479       144        58         4      2737 "
      ]
     },
     "metadata": {},
     "output_type": "display_data"
    }
   ],
   "source": [
    "bins <- c(0:5) * 100\n",
    "result <- cut(data$사고건수, breaks = bins)\n",
    "addmargins(table(result))"
   ]
  },
  {
   "cell_type": "code",
   "execution_count": 59,
   "id": "6f6c67e4-869a-44ff-ae9f-5a1ca395ceaf",
   "metadata": {
    "tags": []
   },
   "outputs": [
    {
     "data": {
      "text/plain": [
       "result\n",
       "  [0,100) [100,200) [200,300) [300,400) [400,500)       Sum \n",
       "     2042       485       146        60         4      2737 "
      ]
     },
     "metadata": {},
     "output_type": "display_data"
    }
   ],
   "source": [
    "bins <- c(0:5) * 100\n",
    "result <- cut(data$사고건수, breaks = bins, right = F)\n",
    "addmargins(table(result))"
   ]
  },
  {
   "cell_type": "code",
   "execution_count": 60,
   "id": "e7aee014-aede-43cd-963c-c7905bbe499b",
   "metadata": {
    "tags": []
   },
   "outputs": [
    {
     "data": {
      "text/html": [
       "<table class=\"dataframe\">\n",
       "<caption>A tibble: 10 × 8</caption>\n",
       "<thead>\n",
       "\t<tr><th scope=col>시도</th><th scope=col>시군구</th><th scope=col>발생월</th><th scope=col>사고건수</th><th scope=col>사망자수</th><th scope=col>중상자수</th><th scope=col>경상자수</th><th scope=col>부상신고자수</th></tr>\n",
       "\t<tr><th scope=col>&lt;chr&gt;</th><th scope=col>&lt;chr&gt;</th><th scope=col>&lt;dbl&gt;</th><th scope=col>&lt;dbl&gt;</th><th scope=col>&lt;dbl&gt;</th><th scope=col>&lt;dbl&gt;</th><th scope=col>&lt;dbl&gt;</th><th scope=col>&lt;dbl&gt;</th></tr>\n",
       "</thead>\n",
       "<tbody>\n",
       "\t<tr><td>서울</td><td>마포구</td><td> 5</td><td>100</td><td>4</td><td>25</td><td> 96</td><td>13</td></tr>\n",
       "\t<tr><td>서울</td><td>마포구</td><td> 9</td><td>100</td><td>1</td><td>28</td><td>111</td><td>16</td></tr>\n",
       "\t<tr><td>서울</td><td>중랑구</td><td> 8</td><td>100</td><td>0</td><td>23</td><td> 85</td><td>14</td></tr>\n",
       "\t<tr><td>서울</td><td>중랑구</td><td> 9</td><td>100</td><td>1</td><td>25</td><td> 99</td><td>14</td></tr>\n",
       "\t<tr><td>서울</td><td>강북구</td><td> 1</td><td>100</td><td>0</td><td>22</td><td>104</td><td> 2</td></tr>\n",
       "\t<tr><td>전북</td><td>익산시</td><td>10</td><td>100</td><td>3</td><td>30</td><td>113</td><td> 3</td></tr>\n",
       "\t<tr><td>전남</td><td>목포시</td><td> 2</td><td>100</td><td>0</td><td>18</td><td>150</td><td> 1</td></tr>\n",
       "\t<tr><td>인천</td><td>남동구</td><td> 3</td><td>100</td><td>0</td><td>20</td><td>123</td><td> 3</td></tr>\n",
       "\t<tr><td>대전</td><td>동구  </td><td> 4</td><td>100</td><td>0</td><td>30</td><td>109</td><td> 1</td></tr>\n",
       "\t<tr><td>대전</td><td>동구  </td><td> 9</td><td>100</td><td>1</td><td>19</td><td>106</td><td> 2</td></tr>\n",
       "</tbody>\n",
       "</table>\n"
      ],
      "text/latex": [
       "A tibble: 10 × 8\n",
       "\\begin{tabular}{llllllll}\n",
       " 시도 & 시군구 & 발생월 & 사고건수 & 사망자수 & 중상자수 & 경상자수 & 부상신고자수\\\\\n",
       " <chr> & <chr> & <dbl> & <dbl> & <dbl> & <dbl> & <dbl> & <dbl>\\\\\n",
       "\\hline\n",
       "\t 서울 & 마포구 &  5 & 100 & 4 & 25 &  96 & 13\\\\\n",
       "\t 서울 & 마포구 &  9 & 100 & 1 & 28 & 111 & 16\\\\\n",
       "\t 서울 & 중랑구 &  8 & 100 & 0 & 23 &  85 & 14\\\\\n",
       "\t 서울 & 중랑구 &  9 & 100 & 1 & 25 &  99 & 14\\\\\n",
       "\t 서울 & 강북구 &  1 & 100 & 0 & 22 & 104 &  2\\\\\n",
       "\t 전북 & 익산시 & 10 & 100 & 3 & 30 & 113 &  3\\\\\n",
       "\t 전남 & 목포시 &  2 & 100 & 0 & 18 & 150 &  1\\\\\n",
       "\t 인천 & 남동구 &  3 & 100 & 0 & 20 & 123 &  3\\\\\n",
       "\t 대전 & 동구   &  4 & 100 & 0 & 30 & 109 &  1\\\\\n",
       "\t 대전 & 동구   &  9 & 100 & 1 & 19 & 106 &  2\\\\\n",
       "\\end{tabular}\n"
      ],
      "text/markdown": [
       "\n",
       "A tibble: 10 × 8\n",
       "\n",
       "| 시도 &lt;chr&gt; | 시군구 &lt;chr&gt; | 발생월 &lt;dbl&gt; | 사고건수 &lt;dbl&gt; | 사망자수 &lt;dbl&gt; | 중상자수 &lt;dbl&gt; | 경상자수 &lt;dbl&gt; | 부상신고자수 &lt;dbl&gt; |\n",
       "|---|---|---|---|---|---|---|---|\n",
       "| 서울 | 마포구 |  5 | 100 | 4 | 25 |  96 | 13 |\n",
       "| 서울 | 마포구 |  9 | 100 | 1 | 28 | 111 | 16 |\n",
       "| 서울 | 중랑구 |  8 | 100 | 0 | 23 |  85 | 14 |\n",
       "| 서울 | 중랑구 |  9 | 100 | 1 | 25 |  99 | 14 |\n",
       "| 서울 | 강북구 |  1 | 100 | 0 | 22 | 104 |  2 |\n",
       "| 전북 | 익산시 | 10 | 100 | 3 | 30 | 113 |  3 |\n",
       "| 전남 | 목포시 |  2 | 100 | 0 | 18 | 150 |  1 |\n",
       "| 인천 | 남동구 |  3 | 100 | 0 | 20 | 123 |  3 |\n",
       "| 대전 | 동구   |  4 | 100 | 0 | 30 | 109 |  1 |\n",
       "| 대전 | 동구   |  9 | 100 | 1 | 19 | 106 |  2 |\n",
       "\n"
      ],
      "text/plain": [
       "   시도 시군구 발생월 사고건수 사망자수 중상자수 경상자수 부상신고자수\n",
       "1  서울 마포구  5     100      4        25        96      13          \n",
       "2  서울 마포구  9     100      1        28       111      16          \n",
       "3  서울 중랑구  8     100      0        23        85      14          \n",
       "4  서울 중랑구  9     100      1        25        99      14          \n",
       "5  서울 강북구  1     100      0        22       104       2          \n",
       "6  전북 익산시 10     100      3        30       113       3          \n",
       "7  전남 목포시  2     100      0        18       150       1          \n",
       "8  인천 남동구  3     100      0        20       123       3          \n",
       "9  대전 동구    4     100      0        30       109       1          \n",
       "10 대전 동구    9     100      1        19       106       2          "
      ]
     },
     "metadata": {},
     "output_type": "display_data"
    }
   ],
   "source": [
    "data[data$사고건수 == 100, ]"
   ]
  },
  {
   "cell_type": "code",
   "execution_count": 61,
   "id": "854edcb2-bfc6-4433-9ec0-94aa16484b33",
   "metadata": {
    "tags": []
   },
   "outputs": [
    {
     "data": {
      "image/png": "[encoded data removed]",
      "text/plain": [
       "Plot with title “Histogram of data$사고건수”"
      ]
     },
     "metadata": {
      "image/png": {
       "height": 420,
       "width": 600
      }
     },
     "output_type": "display_data"
    }
   ],
   "source": [
    "options(repr.plot.width = 10)\n",
    "par(mfrow = c(1, 2))\n",
    "\n",
    "hist(data$사고건수, breaks = c(0:5) * 100)\n",
    "hist(data$사고건수, breaks = c(0:5) * 100, right = F)"
   ]
  },
  {
   "cell_type": "code",
   "execution_count": 62,
   "id": "eab4fab3-65dd-48c3-be4d-08cfe45722e7",
   "metadata": {
    "tags": []
   },
   "outputs": [
    {
     "data": {
      "text/plain": [
       "\n",
       "괴산군 단양군 보은군 영동군 옥천군 음성군 제천시 증평군 진천군 청주시 충주시 \n",
       "    12     12     12     12     12     12     12     12     12     12     12 "
      ]
     },
     "metadata": {},
     "output_type": "display_data"
    }
   ],
   "source": [
    "cb <- subset(data, data$시도 == \"충북\")\n",
    "table(cb$시군구)"
   ]
  },
  {
   "cell_type": "code",
   "execution_count": 63,
   "id": "9fcc2745-f20b-43df-a32c-3ec95661d23c",
   "metadata": {
    "tags": []
   },
   "outputs": [
    {
     "data": {
      "text/plain": [
       "\n",
       "제천시 청주시 충주시 \n",
       "    12     12     12 "
      ]
     },
     "metadata": {},
     "output_type": "display_data"
    }
   ],
   "source": [
    "idx <- grep(\"시$\", cb$시군구)\n",
    "city <- cb[idx, ]\n",
    "table(city$시군구)"
   ]
  },
  {
   "cell_type": "code",
   "execution_count": 64,
   "id": "0b9c2789-2cdb-45a4-b7cf-2e99f8840dcd",
   "metadata": {
    "tags": []
   },
   "outputs": [
    {
     "data": {
      "image/png": "[encoded data removed]",
      "text/plain": [
       "plot without title"
      ]
     },
     "metadata": {
      "image/png": {
       "height": 420,
       "width": 600
      }
     },
     "output_type": "display_data"
    }
   ],
   "source": [
    "boxplot(city$사고건수, col = 'gold')"
   ]
  },
  {
   "cell_type": "code",
   "execution_count": 65,
   "id": "9106d294-fffc-4f96-b88d-da94bca5bff3",
   "metadata": {
    "tags": []
   },
   "outputs": [
    {
     "data": {
      "image/png": "[encoded data removed]",
      "text/plain": [
       "plot without title"
      ]
     },
     "metadata": {
      "image/png": {
       "height": 420,
       "width": 420
      }
     },
     "output_type": "display_data"
    }
   ],
   "source": [
    "options(repr.plot.width = 7)\n",
    "boxplot(사고건수 ~ 시군구, data = city, col = c('gold', 'green', 'pink'))"
   ]
  },
  {
   "cell_type": "code",
   "execution_count": 66,
   "id": "a23e4f12-09cb-4a7c-8445-7f687161af28",
   "metadata": {
    "tags": []
   },
   "outputs": [
    {
     "name": "stdout",
     "output_type": "stream",
     "text": [
      "     [,1] [,2] [,3] [,4] [,5]\n",
      "[1,]    1    5    9   13   17\n",
      "[2,]    2    6   10   14   18\n",
      "[3,]    3    7   11   15   19\n",
      "[4,]    4    8   12   16   20\n"
     ]
    }
   ],
   "source": [
    "A <- matrix(1:20, 4, 5)\n",
    "print(A)"
   ]
  },
  {
   "cell_type": "code",
   "execution_count": 67,
   "id": "44c33e5c-a5df-4806-9de2-1cbb1c710089",
   "metadata": {
    "tags": []
   },
   "outputs": [
    {
     "data": {
      "text/html": [
       "<style>\n",
       ".list-inline {list-style: none; margin:0; padding: 0}\n",
       ".list-inline>li {display: inline-block}\n",
       ".list-inline>li:not(:last-child)::after {content: \"\\00b7\"; padding: 0 .5ex}\n",
       "</style>\n",
       "<ol class=list-inline><li>45</li><li>50</li><li>55</li><li>60</li></ol>\n"
      ],
      "text/latex": [
       "\\begin{enumerate*}\n",
       "\\item 45\n",
       "\\item 50\n",
       "\\item 55\n",
       "\\item 60\n",
       "\\end{enumerate*}\n"
      ],
      "text/markdown": [
       "1. 45\n",
       "2. 50\n",
       "3. 55\n",
       "4. 60\n",
       "\n",
       "\n"
      ],
      "text/plain": [
       "[1] 45 50 55 60"
      ]
     },
     "metadata": {},
     "output_type": "display_data"
    }
   ],
   "source": [
    "apply(A, 1, sum)"
   ]
  },
  {
   "cell_type": "code",
   "execution_count": 68,
   "id": "68263fde-b362-4316-a195-9364ee5be327",
   "metadata": {
    "tags": []
   },
   "outputs": [
    {
     "data": {
      "text/html": [
       "<style>\n",
       ".list-inline {list-style: none; margin:0; padding: 0}\n",
       ".list-inline>li {display: inline-block}\n",
       ".list-inline>li:not(:last-child)::after {content: \"\\00b7\"; padding: 0 .5ex}\n",
       "</style>\n",
       "<ol class=list-inline><li>2.5</li><li>6.5</li><li>10.5</li><li>14.5</li><li>18.5</li></ol>\n"
      ],
      "text/latex": [
       "\\begin{enumerate*}\n",
       "\\item 2.5\n",
       "\\item 6.5\n",
       "\\item 10.5\n",
       "\\item 14.5\n",
       "\\item 18.5\n",
       "\\end{enumerate*}\n"
      ],
      "text/markdown": [
       "1. 2.5\n",
       "2. 6.5\n",
       "3. 10.5\n",
       "4. 14.5\n",
       "5. 18.5\n",
       "\n",
       "\n"
      ],
      "text/plain": [
       "[1]  2.5  6.5 10.5 14.5 18.5"
      ]
     },
     "metadata": {},
     "output_type": "display_data"
    }
   ],
   "source": [
    "apply(A, 2, mean)"
   ]
  },
  {
   "cell_type": "code",
   "execution_count": 69,
   "id": "2688e7ab-698a-4473-9681-177f3038914f",
   "metadata": {
    "tags": []
   },
   "outputs": [
    {
     "data": {
      "text/html": [
       "<table class=\"dataframe\">\n",
       "<caption>A data.frame: 3 × 11</caption>\n",
       "<thead>\n",
       "\t<tr><th></th><th scope=col>mpg</th><th scope=col>cyl</th><th scope=col>disp</th><th scope=col>hp</th><th scope=col>drat</th><th scope=col>wt</th><th scope=col>qsec</th><th scope=col>vs</th><th scope=col>am</th><th scope=col>gear</th><th scope=col>carb</th></tr>\n",
       "\t<tr><th></th><th scope=col>&lt;dbl&gt;</th><th scope=col>&lt;dbl&gt;</th><th scope=col>&lt;dbl&gt;</th><th scope=col>&lt;dbl&gt;</th><th scope=col>&lt;dbl&gt;</th><th scope=col>&lt;dbl&gt;</th><th scope=col>&lt;dbl&gt;</th><th scope=col>&lt;dbl&gt;</th><th scope=col>&lt;dbl&gt;</th><th scope=col>&lt;dbl&gt;</th><th scope=col>&lt;dbl&gt;</th></tr>\n",
       "</thead>\n",
       "<tbody>\n",
       "\t<tr><th scope=row>Mazda RX4</th><td>21.0</td><td>6</td><td>160</td><td>110</td><td>3.90</td><td>2.620</td><td>16.46</td><td>0</td><td>1</td><td>4</td><td>4</td></tr>\n",
       "\t<tr><th scope=row>Mazda RX4 Wag</th><td>21.0</td><td>6</td><td>160</td><td>110</td><td>3.90</td><td>2.875</td><td>17.02</td><td>0</td><td>1</td><td>4</td><td>4</td></tr>\n",
       "\t<tr><th scope=row>Datsun 710</th><td>22.8</td><td>4</td><td>108</td><td> 93</td><td>3.85</td><td>2.320</td><td>18.61</td><td>1</td><td>1</td><td>4</td><td>1</td></tr>\n",
       "</tbody>\n",
       "</table>\n"
      ],
      "text/latex": [
       "A data.frame: 3 × 11\n",
       "\\begin{tabular}{r|lllllllllll}\n",
       "  & mpg & cyl & disp & hp & drat & wt & qsec & vs & am & gear & carb\\\\\n",
       "  & <dbl> & <dbl> & <dbl> & <dbl> & <dbl> & <dbl> & <dbl> & <dbl> & <dbl> & <dbl> & <dbl>\\\\\n",
       "\\hline\n",
       "\tMazda RX4 & 21.0 & 6 & 160 & 110 & 3.90 & 2.620 & 16.46 & 0 & 1 & 4 & 4\\\\\n",
       "\tMazda RX4 Wag & 21.0 & 6 & 160 & 110 & 3.90 & 2.875 & 17.02 & 0 & 1 & 4 & 4\\\\\n",
       "\tDatsun 710 & 22.8 & 4 & 108 &  93 & 3.85 & 2.320 & 18.61 & 1 & 1 & 4 & 1\\\\\n",
       "\\end{tabular}\n"
      ],
      "text/markdown": [
       "\n",
       "A data.frame: 3 × 11\n",
       "\n",
       "| <!--/--> | mpg &lt;dbl&gt; | cyl &lt;dbl&gt; | disp &lt;dbl&gt; | hp &lt;dbl&gt; | drat &lt;dbl&gt; | wt &lt;dbl&gt; | qsec &lt;dbl&gt; | vs &lt;dbl&gt; | am &lt;dbl&gt; | gear &lt;dbl&gt; | carb &lt;dbl&gt; |\n",
       "|---|---|---|---|---|---|---|---|---|---|---|---|\n",
       "| Mazda RX4 | 21.0 | 6 | 160 | 110 | 3.90 | 2.620 | 16.46 | 0 | 1 | 4 | 4 |\n",
       "| Mazda RX4 Wag | 21.0 | 6 | 160 | 110 | 3.90 | 2.875 | 17.02 | 0 | 1 | 4 | 4 |\n",
       "| Datsun 710 | 22.8 | 4 | 108 |  93 | 3.85 | 2.320 | 18.61 | 1 | 1 | 4 | 1 |\n",
       "\n"
      ],
      "text/plain": [
       "              mpg  cyl disp hp  drat wt    qsec  vs am gear carb\n",
       "Mazda RX4     21.0 6   160  110 3.90 2.620 16.46 0  1  4    4   \n",
       "Mazda RX4 Wag 21.0 6   160  110 3.90 2.875 17.02 0  1  4    4   \n",
       "Datsun 710    22.8 4   108   93 3.85 2.320 18.61 1  1  4    1   "
      ]
     },
     "metadata": {},
     "output_type": "display_data"
    }
   ],
   "source": [
    "head(mtcars, 3)"
   ]
  },
  {
   "cell_type": "code",
   "execution_count": 70,
   "id": "50590f2e-0f67-4407-b362-80154db06bb2",
   "metadata": {
    "tags": []
   },
   "outputs": [
    {
     "data": {
      "text/html": [
       "<dl>\n",
       "\t<dt>$mpg</dt>\n",
       "\t\t<dd>20.090625</dd>\n",
       "\t<dt>$cyl</dt>\n",
       "\t\t<dd>6.1875</dd>\n",
       "\t<dt>$disp</dt>\n",
       "\t\t<dd>230.721875</dd>\n",
       "\t<dt>$hp</dt>\n",
       "\t\t<dd>146.6875</dd>\n",
       "\t<dt>$drat</dt>\n",
       "\t\t<dd>3.5965625</dd>\n",
       "\t<dt>$wt</dt>\n",
       "\t\t<dd>3.21725</dd>\n",
       "\t<dt>$qsec</dt>\n",
       "\t\t<dd>17.84875</dd>\n",
       "\t<dt>$vs</dt>\n",
       "\t\t<dd>0.4375</dd>\n",
       "\t<dt>$am</dt>\n",
       "\t\t<dd>0.40625</dd>\n",
       "\t<dt>$gear</dt>\n",
       "\t\t<dd>3.6875</dd>\n",
       "\t<dt>$carb</dt>\n",
       "\t\t<dd>2.8125</dd>\n",
       "</dl>\n"
      ],
      "text/latex": [
       "\\begin{description}\n",
       "\\item[\\$mpg] 20.090625\n",
       "\\item[\\$cyl] 6.1875\n",
       "\\item[\\$disp] 230.721875\n",
       "\\item[\\$hp] 146.6875\n",
       "\\item[\\$drat] 3.5965625\n",
       "\\item[\\$wt] 3.21725\n",
       "\\item[\\$qsec] 17.84875\n",
       "\\item[\\$vs] 0.4375\n",
       "\\item[\\$am] 0.40625\n",
       "\\item[\\$gear] 3.6875\n",
       "\\item[\\$carb] 2.8125\n",
       "\\end{description}\n"
      ],
      "text/markdown": [
       "$mpg\n",
       ":   20.090625\n",
       "$cyl\n",
       ":   6.1875\n",
       "$disp\n",
       ":   230.721875\n",
       "$hp\n",
       ":   146.6875\n",
       "$drat\n",
       ":   3.5965625\n",
       "$wt\n",
       ":   3.21725\n",
       "$qsec\n",
       ":   17.84875\n",
       "$vs\n",
       ":   0.4375\n",
       "$am\n",
       ":   0.40625\n",
       "$gear\n",
       ":   3.6875\n",
       "$carb\n",
       ":   2.8125\n",
       "\n",
       "\n"
      ],
      "text/plain": [
       "$mpg\n",
       "[1] 20.09062\n",
       "\n",
       "$cyl\n",
       "[1] 6.1875\n",
       "\n",
       "$disp\n",
       "[1] 230.7219\n",
       "\n",
       "$hp\n",
       "[1] 146.6875\n",
       "\n",
       "$drat\n",
       "[1] 3.596563\n",
       "\n",
       "$wt\n",
       "[1] 3.21725\n",
       "\n",
       "$qsec\n",
       "[1] 17.84875\n",
       "\n",
       "$vs\n",
       "[1] 0.4375\n",
       "\n",
       "$am\n",
       "[1] 0.40625\n",
       "\n",
       "$gear\n",
       "[1] 3.6875\n",
       "\n",
       "$carb\n",
       "[1] 2.8125\n"
      ]
     },
     "metadata": {},
     "output_type": "display_data"
    }
   ],
   "source": [
    "lapply(mtcars, mean)"
   ]
  },
  {
   "cell_type": "code",
   "execution_count": 71,
   "id": "3f6b3f05-aea1-4db6-926e-831c82594b15",
   "metadata": {
    "tags": []
   },
   "outputs": [
    {
     "data": {
      "text/html": [
       "20.090625"
      ],
      "text/latex": [
       "20.090625"
      ],
      "text/markdown": [
       "20.090625"
      ],
      "text/plain": [
       "[1] 20.09062"
      ]
     },
     "metadata": {},
     "output_type": "display_data"
    }
   ],
   "source": [
    "mean(mtcars$mpg)"
   ]
  },
  {
   "cell_type": "code",
   "execution_count": 72,
   "id": "c20fe242-2b4f-444a-8fcf-65dd3fe3dc92",
   "metadata": {
    "tags": []
   },
   "outputs": [
    {
     "data": {
      "text/html": [
       "3.21725"
      ],
      "text/latex": [
       "3.21725"
      ],
      "text/markdown": [
       "3.21725"
      ],
      "text/plain": [
       "[1] 3.21725"
      ]
     },
     "metadata": {},
     "output_type": "display_data"
    }
   ],
   "source": [
    "mean(mtcars$wt)"
   ]
  },
  {
   "cell_type": "code",
   "execution_count": 73,
   "id": "59e76183-7663-4602-a181-614f310b4799",
   "metadata": {
    "tags": []
   },
   "outputs": [
    {
     "data": {
      "text/html": [
       "<dl>\n",
       "\t<dt>$mpg</dt>\n",
       "\t\t<dd>33.9</dd>\n",
       "\t<dt>$cyl</dt>\n",
       "\t\t<dd>8</dd>\n",
       "\t<dt>$disp</dt>\n",
       "\t\t<dd>472</dd>\n",
       "\t<dt>$hp</dt>\n",
       "\t\t<dd>335</dd>\n",
       "\t<dt>$drat</dt>\n",
       "\t\t<dd>4.93</dd>\n",
       "\t<dt>$wt</dt>\n",
       "\t\t<dd>5.424</dd>\n",
       "\t<dt>$qsec</dt>\n",
       "\t\t<dd>22.9</dd>\n",
       "\t<dt>$vs</dt>\n",
       "\t\t<dd>1</dd>\n",
       "\t<dt>$am</dt>\n",
       "\t\t<dd>1</dd>\n",
       "\t<dt>$gear</dt>\n",
       "\t\t<dd>5</dd>\n",
       "\t<dt>$carb</dt>\n",
       "\t\t<dd>8</dd>\n",
       "</dl>\n"
      ],
      "text/latex": [
       "\\begin{description}\n",
       "\\item[\\$mpg] 33.9\n",
       "\\item[\\$cyl] 8\n",
       "\\item[\\$disp] 472\n",
       "\\item[\\$hp] 335\n",
       "\\item[\\$drat] 4.93\n",
       "\\item[\\$wt] 5.424\n",
       "\\item[\\$qsec] 22.9\n",
       "\\item[\\$vs] 1\n",
       "\\item[\\$am] 1\n",
       "\\item[\\$gear] 5\n",
       "\\item[\\$carb] 8\n",
       "\\end{description}\n"
      ],
      "text/markdown": [
       "$mpg\n",
       ":   33.9\n",
       "$cyl\n",
       ":   8\n",
       "$disp\n",
       ":   472\n",
       "$hp\n",
       ":   335\n",
       "$drat\n",
       ":   4.93\n",
       "$wt\n",
       ":   5.424\n",
       "$qsec\n",
       ":   22.9\n",
       "$vs\n",
       ":   1\n",
       "$am\n",
       ":   1\n",
       "$gear\n",
       ":   5\n",
       "$carb\n",
       ":   8\n",
       "\n",
       "\n"
      ],
      "text/plain": [
       "$mpg\n",
       "[1] 33.9\n",
       "\n",
       "$cyl\n",
       "[1] 8\n",
       "\n",
       "$disp\n",
       "[1] 472\n",
       "\n",
       "$hp\n",
       "[1] 335\n",
       "\n",
       "$drat\n",
       "[1] 4.93\n",
       "\n",
       "$wt\n",
       "[1] 5.424\n",
       "\n",
       "$qsec\n",
       "[1] 22.9\n",
       "\n",
       "$vs\n",
       "[1] 1\n",
       "\n",
       "$am\n",
       "[1] 1\n",
       "\n",
       "$gear\n",
       "[1] 5\n",
       "\n",
       "$carb\n",
       "[1] 8\n"
      ]
     },
     "metadata": {},
     "output_type": "display_data"
    }
   ],
   "source": [
    "lapply(mtcars, max)"
   ]
  },
  {
   "cell_type": "code",
   "execution_count": 74,
   "id": "f03b4029-de1c-49ac-93fd-aadc56b6b787",
   "metadata": {
    "tags": []
   },
   "outputs": [
    {
     "data": {
      "text/html": [
       "33.9"
      ],
      "text/latex": [
       "33.9"
      ],
      "text/markdown": [
       "33.9"
      ],
      "text/plain": [
       "[1] 33.9"
      ]
     },
     "metadata": {},
     "output_type": "display_data"
    }
   ],
   "source": [
    "max(mtcars$mpg)"
   ]
  },
  {
   "cell_type": "code",
   "execution_count": 75,
   "id": "7e83a6b5-0b2c-465f-8a77-46991160cd63",
   "metadata": {
    "tags": []
   },
   "outputs": [
    {
     "data": {
      "text/html": [
       "5.424"
      ],
      "text/latex": [
       "5.424"
      ],
      "text/markdown": [
       "5.424"
      ],
      "text/plain": [
       "[1] 5.424"
      ]
     },
     "metadata": {},
     "output_type": "display_data"
    }
   ],
   "source": [
    "max(mtcars$wt)"
   ]
  },
  {
   "cell_type": "code",
   "execution_count": 76,
   "id": "709f085f-ffc8-457e-87f6-cd44d3ec4565",
   "metadata": {
    "tags": []
   },
   "outputs": [
    {
     "data": {
      "text/html": [
       "<dl>\n",
       "\t<dt>$mpg</dt>\n",
       "\t\t<dd>20.090625</dd>\n",
       "\t<dt>$wt</dt>\n",
       "\t\t<dd>3.21725</dd>\n",
       "</dl>\n"
      ],
      "text/latex": [
       "\\begin{description}\n",
       "\\item[\\$mpg] 20.090625\n",
       "\\item[\\$wt] 3.21725\n",
       "\\end{description}\n"
      ],
      "text/markdown": [
       "$mpg\n",
       ":   20.090625\n",
       "$wt\n",
       ":   3.21725\n",
       "\n",
       "\n"
      ],
      "text/plain": [
       "$mpg\n",
       "[1] 20.09062\n",
       "\n",
       "$wt\n",
       "[1] 3.21725\n"
      ]
     },
     "metadata": {},
     "output_type": "display_data"
    }
   ],
   "source": [
    "lapply(mtcars[c('mpg', 'wt')], mean)"
   ]
  },
  {
   "cell_type": "code",
   "execution_count": 77,
   "id": "6f4138b7-d3ef-46f9-a5cc-898bae4b3b3c",
   "metadata": {
    "tags": []
   },
   "outputs": [
    {
     "data": {
      "text/html": [
       "<dl>\n",
       "\t<dt>$mpg</dt>\n",
       "\t\t<dd>10.4</dd>\n",
       "\t<dt>$wt</dt>\n",
       "\t\t<dd>1.513</dd>\n",
       "</dl>\n"
      ],
      "text/latex": [
       "\\begin{description}\n",
       "\\item[\\$mpg] 10.4\n",
       "\\item[\\$wt] 1.513\n",
       "\\end{description}\n"
      ],
      "text/markdown": [
       "$mpg\n",
       ":   10.4\n",
       "$wt\n",
       ":   1.513\n",
       "\n",
       "\n"
      ],
      "text/plain": [
       "$mpg\n",
       "[1] 10.4\n",
       "\n",
       "$wt\n",
       "[1] 1.513\n"
      ]
     },
     "metadata": {},
     "output_type": "display_data"
    }
   ],
   "source": [
    "lapply(mtcars[c('mpg', 'wt')], min)"
   ]
  },
  {
   "cell_type": "code",
   "execution_count": 78,
   "id": "54565acc-d59d-4071-8899-4850d22b8221",
   "metadata": {
    "tags": []
   },
   "outputs": [
    {
     "data": {
      "text/html": [
       "<dl>\n",
       "\t<dt>$mpg</dt>\n",
       "\t\t<dd>19.2</dd>\n",
       "\t<dt>$cyl</dt>\n",
       "\t\t<dd>6</dd>\n",
       "\t<dt>$disp</dt>\n",
       "\t\t<dd>196.3</dd>\n",
       "\t<dt>$hp</dt>\n",
       "\t\t<dd>123</dd>\n",
       "</dl>\n"
      ],
      "text/latex": [
       "\\begin{description}\n",
       "\\item[\\$mpg] 19.2\n",
       "\\item[\\$cyl] 6\n",
       "\\item[\\$disp] 196.3\n",
       "\\item[\\$hp] 123\n",
       "\\end{description}\n"
      ],
      "text/markdown": [
       "$mpg\n",
       ":   19.2\n",
       "$cyl\n",
       ":   6\n",
       "$disp\n",
       ":   196.3\n",
       "$hp\n",
       ":   123\n",
       "\n",
       "\n"
      ],
      "text/plain": [
       "$mpg\n",
       "[1] 19.2\n",
       "\n",
       "$cyl\n",
       "[1] 6\n",
       "\n",
       "$disp\n",
       "[1] 196.3\n",
       "\n",
       "$hp\n",
       "[1] 123\n"
      ]
     },
     "metadata": {},
     "output_type": "display_data"
    }
   ],
   "source": [
    "lapply(mtcars[c(1:4)], median)"
   ]
  },
  {
   "cell_type": "code",
   "execution_count": 79,
   "id": "85299831-0734-4bb0-a55e-2c2c4816968d",
   "metadata": {
    "tags": []
   },
   "outputs": [
    {
     "data": {
      "text/html": [
       "<table class=\"dataframe\">\n",
       "<caption>A data.frame: 3 × 4</caption>\n",
       "<thead>\n",
       "\t<tr><th></th><th scope=col>mpg</th><th scope=col>cyl</th><th scope=col>disp</th><th scope=col>hp</th></tr>\n",
       "\t<tr><th></th><th scope=col>&lt;dbl&gt;</th><th scope=col>&lt;dbl&gt;</th><th scope=col>&lt;dbl&gt;</th><th scope=col>&lt;dbl&gt;</th></tr>\n",
       "</thead>\n",
       "<tbody>\n",
       "\t<tr><th scope=row>Mazda RX4</th><td>  NA</td><td>6</td><td>160</td><td>110</td></tr>\n",
       "\t<tr><th scope=row>Mazda RX4 Wag</th><td>21.0</td><td>6</td><td>160</td><td>110</td></tr>\n",
       "\t<tr><th scope=row>Datsun 710</th><td>22.8</td><td>4</td><td>108</td><td> 93</td></tr>\n",
       "</tbody>\n",
       "</table>\n"
      ],
      "text/latex": [
       "A data.frame: 3 × 4\n",
       "\\begin{tabular}{r|llll}\n",
       "  & mpg & cyl & disp & hp\\\\\n",
       "  & <dbl> & <dbl> & <dbl> & <dbl>\\\\\n",
       "\\hline\n",
       "\tMazda RX4 &   NA & 6 & 160 & 110\\\\\n",
       "\tMazda RX4 Wag & 21.0 & 6 & 160 & 110\\\\\n",
       "\tDatsun 710 & 22.8 & 4 & 108 &  93\\\\\n",
       "\\end{tabular}\n"
      ],
      "text/markdown": [
       "\n",
       "A data.frame: 3 × 4\n",
       "\n",
       "| <!--/--> | mpg &lt;dbl&gt; | cyl &lt;dbl&gt; | disp &lt;dbl&gt; | hp &lt;dbl&gt; |\n",
       "|---|---|---|---|---|\n",
       "| Mazda RX4 |   NA | 6 | 160 | 110 |\n",
       "| Mazda RX4 Wag | 21.0 | 6 | 160 | 110 |\n",
       "| Datsun 710 | 22.8 | 4 | 108 |  93 |\n",
       "\n"
      ],
      "text/plain": [
       "              mpg  cyl disp hp \n",
       "Mazda RX4       NA 6   160  110\n",
       "Mazda RX4 Wag 21.0 6   160  110\n",
       "Datsun 710    22.8 4   108   93"
      ]
     },
     "metadata": {},
     "output_type": "display_data"
    }
   ],
   "source": [
    "mtcars[1, 1] <- NA\n",
    "head(mtcars[1:4], 3)"
   ]
  },
  {
   "cell_type": "code",
   "execution_count": 80,
   "id": "6c00bc8f-3f01-4d45-b378-c1f9c705a2df",
   "metadata": {
    "tags": []
   },
   "outputs": [
    {
     "data": {
      "text/html": [
       "<dl>\n",
       "\t<dt>$mpg</dt>\n",
       "\t\t<dd>&lt;NA&gt;</dd>\n",
       "\t<dt>$cyl</dt>\n",
       "\t\t<dd>6.1875</dd>\n",
       "\t<dt>$disp</dt>\n",
       "\t\t<dd>230.721875</dd>\n",
       "\t<dt>$hp</dt>\n",
       "\t\t<dd>146.6875</dd>\n",
       "</dl>\n"
      ],
      "text/latex": [
       "\\begin{description}\n",
       "\\item[\\$mpg] <NA>\n",
       "\\item[\\$cyl] 6.1875\n",
       "\\item[\\$disp] 230.721875\n",
       "\\item[\\$hp] 146.6875\n",
       "\\end{description}\n"
      ],
      "text/markdown": [
       "$mpg\n",
       ":   &lt;NA&gt;\n",
       "$cyl\n",
       ":   6.1875\n",
       "$disp\n",
       ":   230.721875\n",
       "$hp\n",
       ":   146.6875\n",
       "\n",
       "\n"
      ],
      "text/plain": [
       "$mpg\n",
       "[1] NA\n",
       "\n",
       "$cyl\n",
       "[1] 6.1875\n",
       "\n",
       "$disp\n",
       "[1] 230.7219\n",
       "\n",
       "$hp\n",
       "[1] 146.6875\n"
      ]
     },
     "metadata": {},
     "output_type": "display_data"
    }
   ],
   "source": [
    "lapply(mtcars[1:4], mean)"
   ]
  },
  {
   "cell_type": "code",
   "execution_count": 81,
   "id": "7516638e-8d10-4865-9323-895a048719c4",
   "metadata": {
    "tags": []
   },
   "outputs": [
    {
     "data": {
      "text/html": [
       "<dl>\n",
       "\t<dt>$mpg</dt>\n",
       "\t\t<dd>20.0612903225806</dd>\n",
       "\t<dt>$cyl</dt>\n",
       "\t\t<dd>6.1875</dd>\n",
       "\t<dt>$disp</dt>\n",
       "\t\t<dd>230.721875</dd>\n",
       "\t<dt>$hp</dt>\n",
       "\t\t<dd>146.6875</dd>\n",
       "</dl>\n"
      ],
      "text/latex": [
       "\\begin{description}\n",
       "\\item[\\$mpg] 20.0612903225806\n",
       "\\item[\\$cyl] 6.1875\n",
       "\\item[\\$disp] 230.721875\n",
       "\\item[\\$hp] 146.6875\n",
       "\\end{description}\n"
      ],
      "text/markdown": [
       "$mpg\n",
       ":   20.0612903225806\n",
       "$cyl\n",
       ":   6.1875\n",
       "$disp\n",
       ":   230.721875\n",
       "$hp\n",
       ":   146.6875\n",
       "\n",
       "\n"
      ],
      "text/plain": [
       "$mpg\n",
       "[1] 20.06129\n",
       "\n",
       "$cyl\n",
       "[1] 6.1875\n",
       "\n",
       "$disp\n",
       "[1] 230.7219\n",
       "\n",
       "$hp\n",
       "[1] 146.6875\n"
      ]
     },
     "metadata": {},
     "output_type": "display_data"
    }
   ],
   "source": [
    "lapply(mtcars[1:4], mean, na.rm = T)"
   ]
  },
  {
   "cell_type": "code",
   "execution_count": 82,
   "id": "da427e4f-66f2-4871-bd3d-edc29dac1749",
   "metadata": {
    "tags": []
   },
   "outputs": [
    {
     "data": {
      "text/html": [
       "<style>\n",
       ".dl-inline {width: auto; margin:0; padding: 0}\n",
       ".dl-inline>dt, .dl-inline>dd {float: none; width: auto; display: inline-block}\n",
       ".dl-inline>dt::after {content: \":\\0020\"; padding-right: .5ex}\n",
       ".dl-inline>dt:not(:first-of-type) {padding-left: .5ex}\n",
       "</style><dl class=dl-inline><dt>mpg</dt><dd>20.090625</dd><dt>cyl</dt><dd>6.1875</dd><dt>disp</dt><dd>230.721875</dd><dt>hp</dt><dd>146.6875</dd><dt>drat</dt><dd>3.5965625</dd><dt>wt</dt><dd>3.21725</dd><dt>qsec</dt><dd>17.84875</dd><dt>vs</dt><dd>0.4375</dd><dt>am</dt><dd>0.40625</dd><dt>gear</dt><dd>3.6875</dd><dt>carb</dt><dd>2.8125</dd></dl>\n"
      ],
      "text/latex": [
       "\\begin{description*}\n",
       "\\item[mpg] 20.090625\n",
       "\\item[cyl] 6.1875\n",
       "\\item[disp] 230.721875\n",
       "\\item[hp] 146.6875\n",
       "\\item[drat] 3.5965625\n",
       "\\item[wt] 3.21725\n",
       "\\item[qsec] 17.84875\n",
       "\\item[vs] 0.4375\n",
       "\\item[am] 0.40625\n",
       "\\item[gear] 3.6875\n",
       "\\item[carb] 2.8125\n",
       "\\end{description*}\n"
      ],
      "text/markdown": [
       "mpg\n",
       ":   20.090625cyl\n",
       ":   6.1875disp\n",
       ":   230.721875hp\n",
       ":   146.6875drat\n",
       ":   3.5965625wt\n",
       ":   3.21725qsec\n",
       ":   17.84875vs\n",
       ":   0.4375am\n",
       ":   0.40625gear\n",
       ":   3.6875carb\n",
       ":   2.8125\n",
       "\n"
      ],
      "text/plain": [
       "       mpg        cyl       disp         hp       drat         wt       qsec \n",
       " 20.090625   6.187500 230.721875 146.687500   3.596563   3.217250  17.848750 \n",
       "        vs         am       gear       carb \n",
       "  0.437500   0.406250   3.687500   2.812500 "
      ]
     },
     "metadata": {},
     "output_type": "display_data"
    }
   ],
   "source": [
    "data(mtcars)\n",
    "\n",
    "sapply(mtcars, mean)"
   ]
  },
  {
   "cell_type": "code",
   "execution_count": 83,
   "id": "8b52cefd-dc11-4010-b454-96db2b3dcba3",
   "metadata": {
    "tags": []
   },
   "outputs": [
    {
     "name": "stdout",
     "output_type": "stream",
     "text": [
      "       mpg        cyl       disp         hp       drat         wt       qsec \n",
      " 20.090625   6.187500 230.721875 146.687500   3.596563   3.217250  17.848750 \n",
      "        vs         am       gear       carb \n",
      "  0.437500   0.406250   3.687500   2.812500 \n"
     ]
    }
   ],
   "source": [
    "print(sapply(mtcars, mean))"
   ]
  },
  {
   "cell_type": "code",
   "execution_count": 84,
   "id": "c799f9ee-18ce-4262-b739-7f43817bba5e",
   "metadata": {
    "tags": []
   },
   "outputs": [
    {
     "data": {
      "text/html": [
       "'list'"
      ],
      "text/latex": [
       "'list'"
      ],
      "text/markdown": [
       "'list'"
      ],
      "text/plain": [
       "[1] \"list\""
      ]
     },
     "metadata": {},
     "output_type": "display_data"
    }
   ],
   "source": [
    "result <- lapply(mtcars, mean)\n",
    "class(result)"
   ]
  },
  {
   "cell_type": "code",
   "execution_count": 85,
   "id": "cd182139-01bf-4ca8-af67-fbf54fed4aef",
   "metadata": {
    "tags": []
   },
   "outputs": [
    {
     "data": {
      "text/html": [
       "'numeric'"
      ],
      "text/latex": [
       "'numeric'"
      ],
      "text/markdown": [
       "'numeric'"
      ],
      "text/plain": [
       "[1] \"numeric\""
      ]
     },
     "metadata": {},
     "output_type": "display_data"
    }
   ],
   "source": [
    "result <- sapply(mtcars, mean)\n",
    "class(result)"
   ]
  },
  {
   "cell_type": "code",
   "execution_count": 86,
   "id": "a114701a-794c-4c44-b52b-04f6c4783a06",
   "metadata": {
    "tags": []
   },
   "outputs": [
    {
     "data": {
      "text/html": [
       "<table class=\"dataframe\">\n",
       "<caption>A data.frame: 11 × 1</caption>\n",
       "<thead>\n",
       "\t<tr><th></th><th scope=col>result</th></tr>\n",
       "\t<tr><th></th><th scope=col>&lt;dbl&gt;</th></tr>\n",
       "</thead>\n",
       "<tbody>\n",
       "\t<tr><th scope=row>mpg</th><td> 20.090625</td></tr>\n",
       "\t<tr><th scope=row>cyl</th><td>  6.187500</td></tr>\n",
       "\t<tr><th scope=row>disp</th><td>230.721875</td></tr>\n",
       "\t<tr><th scope=row>hp</th><td>146.687500</td></tr>\n",
       "\t<tr><th scope=row>drat</th><td>  3.596563</td></tr>\n",
       "\t<tr><th scope=row>wt</th><td>  3.217250</td></tr>\n",
       "\t<tr><th scope=row>qsec</th><td> 17.848750</td></tr>\n",
       "\t<tr><th scope=row>vs</th><td>  0.437500</td></tr>\n",
       "\t<tr><th scope=row>am</th><td>  0.406250</td></tr>\n",
       "\t<tr><th scope=row>gear</th><td>  3.687500</td></tr>\n",
       "\t<tr><th scope=row>carb</th><td>  2.812500</td></tr>\n",
       "</tbody>\n",
       "</table>\n"
      ],
      "text/latex": [
       "A data.frame: 11 × 1\n",
       "\\begin{tabular}{r|l}\n",
       "  & result\\\\\n",
       "  & <dbl>\\\\\n",
       "\\hline\n",
       "\tmpg &  20.090625\\\\\n",
       "\tcyl &   6.187500\\\\\n",
       "\tdisp & 230.721875\\\\\n",
       "\thp & 146.687500\\\\\n",
       "\tdrat &   3.596563\\\\\n",
       "\twt &   3.217250\\\\\n",
       "\tqsec &  17.848750\\\\\n",
       "\tvs &   0.437500\\\\\n",
       "\tam &   0.406250\\\\\n",
       "\tgear &   3.687500\\\\\n",
       "\tcarb &   2.812500\\\\\n",
       "\\end{tabular}\n"
      ],
      "text/markdown": [
       "\n",
       "A data.frame: 11 × 1\n",
       "\n",
       "| <!--/--> | result &lt;dbl&gt; |\n",
       "|---|---|\n",
       "| mpg |  20.090625 |\n",
       "| cyl |   6.187500 |\n",
       "| disp | 230.721875 |\n",
       "| hp | 146.687500 |\n",
       "| drat |   3.596563 |\n",
       "| wt |   3.217250 |\n",
       "| qsec |  17.848750 |\n",
       "| vs |   0.437500 |\n",
       "| am |   0.406250 |\n",
       "| gear |   3.687500 |\n",
       "| carb |   2.812500 |\n",
       "\n"
      ],
      "text/plain": [
       "     result    \n",
       "mpg   20.090625\n",
       "cyl    6.187500\n",
       "disp 230.721875\n",
       "hp   146.687500\n",
       "drat   3.596563\n",
       "wt     3.217250\n",
       "qsec  17.848750\n",
       "vs     0.437500\n",
       "am     0.406250\n",
       "gear   3.687500\n",
       "carb   2.812500"
      ]
     },
     "metadata": {},
     "output_type": "display_data"
    }
   ],
   "source": [
    "result <- sapply(mtcars, mean)\n",
    "as.data.frame(result)"
   ]
  },
  {
   "cell_type": "code",
   "execution_count": 87,
   "id": "e53f2255-292d-41ff-88d3-baf71d0a84be",
   "metadata": {
    "tags": []
   },
   "outputs": [
    {
     "data": {
      "text/html": [
       "<table class=\"dataframe\">\n",
       "<caption>A data.frame: 6 × 3</caption>\n",
       "<thead>\n",
       "\t<tr><th></th><th scope=col>len</th><th scope=col>supp</th><th scope=col>dose</th></tr>\n",
       "\t<tr><th></th><th scope=col>&lt;dbl&gt;</th><th scope=col>&lt;fct&gt;</th><th scope=col>&lt;dbl&gt;</th></tr>\n",
       "</thead>\n",
       "<tbody>\n",
       "\t<tr><th scope=row>1</th><td> 4.2</td><td>VC</td><td>0.5</td></tr>\n",
       "\t<tr><th scope=row>2</th><td>11.5</td><td>VC</td><td>0.5</td></tr>\n",
       "\t<tr><th scope=row>3</th><td> 7.3</td><td>VC</td><td>0.5</td></tr>\n",
       "\t<tr><th scope=row>4</th><td> 5.8</td><td>VC</td><td>0.5</td></tr>\n",
       "\t<tr><th scope=row>5</th><td> 6.4</td><td>VC</td><td>0.5</td></tr>\n",
       "\t<tr><th scope=row>6</th><td>10.0</td><td>VC</td><td>0.5</td></tr>\n",
       "</tbody>\n",
       "</table>\n"
      ],
      "text/latex": [
       "A data.frame: 6 × 3\n",
       "\\begin{tabular}{r|lll}\n",
       "  & len & supp & dose\\\\\n",
       "  & <dbl> & <fct> & <dbl>\\\\\n",
       "\\hline\n",
       "\t1 &  4.2 & VC & 0.5\\\\\n",
       "\t2 & 11.5 & VC & 0.5\\\\\n",
       "\t3 &  7.3 & VC & 0.5\\\\\n",
       "\t4 &  5.8 & VC & 0.5\\\\\n",
       "\t5 &  6.4 & VC & 0.5\\\\\n",
       "\t6 & 10.0 & VC & 0.5\\\\\n",
       "\\end{tabular}\n"
      ],
      "text/markdown": [
       "\n",
       "A data.frame: 6 × 3\n",
       "\n",
       "| <!--/--> | len &lt;dbl&gt; | supp &lt;fct&gt; | dose &lt;dbl&gt; |\n",
       "|---|---|---|---|\n",
       "| 1 |  4.2 | VC | 0.5 |\n",
       "| 2 | 11.5 | VC | 0.5 |\n",
       "| 3 |  7.3 | VC | 0.5 |\n",
       "| 4 |  5.8 | VC | 0.5 |\n",
       "| 5 |  6.4 | VC | 0.5 |\n",
       "| 6 | 10.0 | VC | 0.5 |\n",
       "\n"
      ],
      "text/plain": [
       "  len  supp dose\n",
       "1  4.2 VC   0.5 \n",
       "2 11.5 VC   0.5 \n",
       "3  7.3 VC   0.5 \n",
       "4  5.8 VC   0.5 \n",
       "5  6.4 VC   0.5 \n",
       "6 10.0 VC   0.5 "
      ]
     },
     "metadata": {},
     "output_type": "display_data"
    }
   ],
   "source": [
    "head(ToothGrowth)"
   ]
  },
  {
   "cell_type": "code",
   "execution_count": 88,
   "id": "c5cdad61-cc39-4885-ac95-28198060ad9f",
   "metadata": {
    "tags": []
   },
   "outputs": [
    {
     "name": "stdout",
     "output_type": "stream",
     "text": [
      "      OJ       VC \n",
      "20.66333 16.96333 \n"
     ]
    }
   ],
   "source": [
    "result <- tapply(ToothGrowth$len, ToothGrowth$supp, mean)\n",
    "print(result)"
   ]
  },
  {
   "cell_type": "code",
   "execution_count": 89,
   "id": "3e620c9f-7a04-4584-9fe8-5a89204e9fa9",
   "metadata": {
    "tags": []
   },
   "outputs": [
    {
     "name": "stdout",
     "output_type": "stream",
     "text": [
      "      OJ       VC     mean \n",
      "20.66333 16.96333 18.81333 \n"
     ]
    }
   ],
   "source": [
    "print(addmargins(result, FUN = mean))"
   ]
  },
  {
   "cell_type": "code",
   "execution_count": 90,
   "id": "4b613b90-2531-4a00-ad41-e196ccab3239",
   "metadata": {
    "tags": []
   },
   "outputs": [
    {
     "data": {
      "text/html": [
       "18.8133333333333"
      ],
      "text/latex": [
       "18.8133333333333"
      ],
      "text/markdown": [
       "18.8133333333333"
      ],
      "text/plain": [
       "[1] 18.81333"
      ]
     },
     "metadata": {},
     "output_type": "display_data"
    }
   ],
   "source": [
    "mean(ToothGrowth$len)"
   ]
  },
  {
   "cell_type": "code",
   "execution_count": 91,
   "id": "1e1578c2-f98a-43f1-9a16-e90ce2904518",
   "metadata": {
    "tags": []
   },
   "outputs": [
    {
     "name": "stdout",
     "output_type": "stream",
     "text": [
      "     0.5     1     2\n",
      "OJ 13.23 22.70 26.06\n",
      "VC  7.98 16.77 26.14\n"
     ]
    }
   ],
   "source": [
    "result <- tapply(ToothGrowth$len, list(ToothGrowth$supp, ToothGrowth$dose), mean)\n",
    "print(result)"
   ]
  },
  {
   "cell_type": "code",
   "execution_count": 92,
   "id": "9f441df0-0203-41a1-ac6d-beb87f9cfa77",
   "metadata": {
    "tags": []
   },
   "outputs": [
    {
     "name": "stdout",
     "output_type": "stream",
     "text": [
      "Margins computed over dimensions\n",
      "in the following order:\n",
      "1: \n",
      "2: \n"
     ]
    },
    {
     "data": {
      "text/html": [
       "<table class=\"dataframe\">\n",
       "<caption>A matrix: 3 × 4 of type dbl</caption>\n",
       "<thead>\n",
       "\t<tr><th></th><th scope=col>0.5</th><th scope=col>1</th><th scope=col>2</th><th scope=col>mean</th></tr>\n",
       "</thead>\n",
       "<tbody>\n",
       "\t<tr><th scope=row>OJ</th><td>13.230</td><td>22.700</td><td>26.06</td><td>20.66333</td></tr>\n",
       "\t<tr><th scope=row>VC</th><td> 7.980</td><td>16.770</td><td>26.14</td><td>16.96333</td></tr>\n",
       "\t<tr><th scope=row>mean</th><td>10.605</td><td>19.735</td><td>26.10</td><td>18.81333</td></tr>\n",
       "</tbody>\n",
       "</table>\n"
      ],
      "text/latex": [
       "A matrix: 3 × 4 of type dbl\n",
       "\\begin{tabular}{r|llll}\n",
       "  & 0.5 & 1 & 2 & mean\\\\\n",
       "\\hline\n",
       "\tOJ & 13.230 & 22.700 & 26.06 & 20.66333\\\\\n",
       "\tVC &  7.980 & 16.770 & 26.14 & 16.96333\\\\\n",
       "\tmean & 10.605 & 19.735 & 26.10 & 18.81333\\\\\n",
       "\\end{tabular}\n"
      ],
      "text/markdown": [
       "\n",
       "A matrix: 3 × 4 of type dbl\n",
       "\n",
       "| <!--/--> | 0.5 | 1 | 2 | mean |\n",
       "|---|---|---|---|---|\n",
       "| OJ | 13.230 | 22.700 | 26.06 | 20.66333 |\n",
       "| VC |  7.980 | 16.770 | 26.14 | 16.96333 |\n",
       "| mean | 10.605 | 19.735 | 26.10 | 18.81333 |\n",
       "\n"
      ],
      "text/plain": [
       "     0.5    1      2     mean    \n",
       "OJ   13.230 22.700 26.06 20.66333\n",
       "VC    7.980 16.770 26.14 16.96333\n",
       "mean 10.605 19.735 26.10 18.81333"
      ]
     },
     "metadata": {},
     "output_type": "display_data"
    }
   ],
   "source": [
    "addmargins(result, FUN = mean)"
   ]
  },
  {
   "cell_type": "code",
   "execution_count": 93,
   "id": "3d36e2ee-fab4-43dc-a890-b501c32a1a87",
   "metadata": {
    "tags": []
   },
   "outputs": [
    {
     "name": "stdout",
     "output_type": "stream",
     "text": [
      "Margins computed over dimensions\n",
      "in the following order:\n",
      "1: \n",
      "2: \n"
     ]
    },
    {
     "data": {
      "text/html": [
       "<table class=\"dataframe\">\n",
       "<caption>A matrix: 3 × 4 of type dbl</caption>\n",
       "<thead>\n",
       "\t<tr><th></th><th scope=col>0.5</th><th scope=col>1</th><th scope=col>2</th><th scope=col>mean</th></tr>\n",
       "</thead>\n",
       "<tbody>\n",
       "\t<tr><th scope=row>OJ</th><td>13.2</td><td>22.7</td><td>26.1</td><td>20.7</td></tr>\n",
       "\t<tr><th scope=row>VC</th><td> 8.0</td><td>16.8</td><td>26.1</td><td>17.0</td></tr>\n",
       "\t<tr><th scope=row>mean</th><td>10.6</td><td>19.7</td><td>26.1</td><td>18.8</td></tr>\n",
       "</tbody>\n",
       "</table>\n"
      ],
      "text/latex": [
       "A matrix: 3 × 4 of type dbl\n",
       "\\begin{tabular}{r|llll}\n",
       "  & 0.5 & 1 & 2 & mean\\\\\n",
       "\\hline\n",
       "\tOJ & 13.2 & 22.7 & 26.1 & 20.7\\\\\n",
       "\tVC &  8.0 & 16.8 & 26.1 & 17.0\\\\\n",
       "\tmean & 10.6 & 19.7 & 26.1 & 18.8\\\\\n",
       "\\end{tabular}\n"
      ],
      "text/markdown": [
       "\n",
       "A matrix: 3 × 4 of type dbl\n",
       "\n",
       "| <!--/--> | 0.5 | 1 | 2 | mean |\n",
       "|---|---|---|---|---|\n",
       "| OJ | 13.2 | 22.7 | 26.1 | 20.7 |\n",
       "| VC |  8.0 | 16.8 | 26.1 | 17.0 |\n",
       "| mean | 10.6 | 19.7 | 26.1 | 18.8 |\n",
       "\n"
      ],
      "text/plain": [
       "     0.5  1    2    mean\n",
       "OJ   13.2 22.7 26.1 20.7\n",
       "VC    8.0 16.8 26.1 17.0\n",
       "mean 10.6 19.7 26.1 18.8"
      ]
     },
     "metadata": {},
     "output_type": "display_data"
    }
   ],
   "source": [
    "round(addmargins(result, FUN = mean), 1)"
   ]
  },
  {
   "cell_type": "code",
   "execution_count": 94,
   "id": "077c512e-34c5-4771-991c-8547de4d2966",
   "metadata": {
    "tags": []
   },
   "outputs": [
    {
     "data": {
      "text/html": [
       "<table class=\"dataframe\">\n",
       "<caption>A tibble: 6 × 8</caption>\n",
       "<thead>\n",
       "\t<tr><th scope=col>시도</th><th scope=col>시군구</th><th scope=col>발생월</th><th scope=col>사고건수</th><th scope=col>사망자수</th><th scope=col>중상자수</th><th scope=col>경상자수</th><th scope=col>부상신고자수</th></tr>\n",
       "\t<tr><th scope=col>&lt;chr&gt;</th><th scope=col>&lt;chr&gt;</th><th scope=col>&lt;dbl&gt;</th><th scope=col>&lt;dbl&gt;</th><th scope=col>&lt;dbl&gt;</th><th scope=col>&lt;dbl&gt;</th><th scope=col>&lt;dbl&gt;</th><th scope=col>&lt;dbl&gt;</th></tr>\n",
       "</thead>\n",
       "<tbody>\n",
       "\t<tr><td>서울</td><td>종로구</td><td>1</td><td>69</td><td>3</td><td>21</td><td>66</td><td> 6</td></tr>\n",
       "\t<tr><td>서울</td><td>종로구</td><td>2</td><td>54</td><td>0</td><td>21</td><td>46</td><td> 8</td></tr>\n",
       "\t<tr><td>서울</td><td>종로구</td><td>3</td><td>66</td><td>0</td><td>17</td><td>65</td><td>10</td></tr>\n",
       "\t<tr><td>서울</td><td>종로구</td><td>4</td><td>51</td><td>0</td><td>21</td><td>39</td><td> 6</td></tr>\n",
       "\t<tr><td>서울</td><td>종로구</td><td>5</td><td>62</td><td>0</td><td>12</td><td>68</td><td>11</td></tr>\n",
       "\t<tr><td>서울</td><td>종로구</td><td>6</td><td>70</td><td>1</td><td>16</td><td>69</td><td> 5</td></tr>\n",
       "</tbody>\n",
       "</table>\n"
      ],
      "text/latex": [
       "A tibble: 6 × 8\n",
       "\\begin{tabular}{llllllll}\n",
       " 시도 & 시군구 & 발생월 & 사고건수 & 사망자수 & 중상자수 & 경상자수 & 부상신고자수\\\\\n",
       " <chr> & <chr> & <dbl> & <dbl> & <dbl> & <dbl> & <dbl> & <dbl>\\\\\n",
       "\\hline\n",
       "\t 서울 & 종로구 & 1 & 69 & 3 & 21 & 66 &  6\\\\\n",
       "\t 서울 & 종로구 & 2 & 54 & 0 & 21 & 46 &  8\\\\\n",
       "\t 서울 & 종로구 & 3 & 66 & 0 & 17 & 65 & 10\\\\\n",
       "\t 서울 & 종로구 & 4 & 51 & 0 & 21 & 39 &  6\\\\\n",
       "\t 서울 & 종로구 & 5 & 62 & 0 & 12 & 68 & 11\\\\\n",
       "\t 서울 & 종로구 & 6 & 70 & 1 & 16 & 69 &  5\\\\\n",
       "\\end{tabular}\n"
      ],
      "text/markdown": [
       "\n",
       "A tibble: 6 × 8\n",
       "\n",
       "| 시도 &lt;chr&gt; | 시군구 &lt;chr&gt; | 발생월 &lt;dbl&gt; | 사고건수 &lt;dbl&gt; | 사망자수 &lt;dbl&gt; | 중상자수 &lt;dbl&gt; | 경상자수 &lt;dbl&gt; | 부상신고자수 &lt;dbl&gt; |\n",
       "|---|---|---|---|---|---|---|---|\n",
       "| 서울 | 종로구 | 1 | 69 | 3 | 21 | 66 |  6 |\n",
       "| 서울 | 종로구 | 2 | 54 | 0 | 21 | 46 |  8 |\n",
       "| 서울 | 종로구 | 3 | 66 | 0 | 17 | 65 | 10 |\n",
       "| 서울 | 종로구 | 4 | 51 | 0 | 21 | 39 |  6 |\n",
       "| 서울 | 종로구 | 5 | 62 | 0 | 12 | 68 | 11 |\n",
       "| 서울 | 종로구 | 6 | 70 | 1 | 16 | 69 |  5 |\n",
       "\n"
      ],
      "text/plain": [
       "  시도 시군구 발생월 사고건수 사망자수 중상자수 경상자수 부상신고자수\n",
       "1 서울 종로구 1      69       3        21       66        6          \n",
       "2 서울 종로구 2      54       0        21       46        8          \n",
       "3 서울 종로구 3      66       0        17       65       10          \n",
       "4 서울 종로구 4      51       0        21       39        6          \n",
       "5 서울 종로구 5      62       0        12       68       11          \n",
       "6 서울 종로구 6      70       1        16       69        5          "
      ]
     },
     "metadata": {},
     "output_type": "display_data"
    }
   ],
   "source": [
    "data <- read_xlsx(\"2022년_도로교통공단_시군구별 월별 교통사고 통계.xlsx\")\n",
    "head(data)"
   ]
  },
  {
   "cell_type": "code",
   "execution_count": 95,
   "id": "4490ba54-83a1-4266-8290-e895cf5cfbe7",
   "metadata": {
    "tags": []
   },
   "outputs": [
    {
     "data": {
      "text/html": [
       "<table class=\"dataframe\">\n",
       "<caption>A tibble: 3 × 8</caption>\n",
       "<thead>\n",
       "\t<tr><th scope=col>시도</th><th scope=col>시군구</th><th scope=col>발생월</th><th scope=col>사고건수</th><th scope=col>사망자수</th><th scope=col>중상자수</th><th scope=col>경상자수</th><th scope=col>부상신고자수</th></tr>\n",
       "\t<tr><th scope=col>&lt;chr&gt;</th><th scope=col>&lt;chr&gt;</th><th scope=col>&lt;dbl&gt;</th><th scope=col>&lt;dbl&gt;</th><th scope=col>&lt;dbl&gt;</th><th scope=col>&lt;dbl&gt;</th><th scope=col>&lt;dbl&gt;</th><th scope=col>&lt;dbl&gt;</th></tr>\n",
       "</thead>\n",
       "<tbody>\n",
       "\t<tr><td>서울</td><td>종로구</td><td>1</td><td>69</td><td>3</td><td>21</td><td>66</td><td> 6</td></tr>\n",
       "\t<tr><td>서울</td><td>종로구</td><td>2</td><td>54</td><td>0</td><td>21</td><td>46</td><td> 8</td></tr>\n",
       "\t<tr><td>서울</td><td>종로구</td><td>3</td><td>66</td><td>0</td><td>17</td><td>65</td><td>10</td></tr>\n",
       "</tbody>\n",
       "</table>\n"
      ],
      "text/latex": [
       "A tibble: 3 × 8\n",
       "\\begin{tabular}{llllllll}\n",
       " 시도 & 시군구 & 발생월 & 사고건수 & 사망자수 & 중상자수 & 경상자수 & 부상신고자수\\\\\n",
       " <chr> & <chr> & <dbl> & <dbl> & <dbl> & <dbl> & <dbl> & <dbl>\\\\\n",
       "\\hline\n",
       "\t 서울 & 종로구 & 1 & 69 & 3 & 21 & 66 &  6\\\\\n",
       "\t 서울 & 종로구 & 2 & 54 & 0 & 21 & 46 &  8\\\\\n",
       "\t 서울 & 종로구 & 3 & 66 & 0 & 17 & 65 & 10\\\\\n",
       "\\end{tabular}\n"
      ],
      "text/markdown": [
       "\n",
       "A tibble: 3 × 8\n",
       "\n",
       "| 시도 &lt;chr&gt; | 시군구 &lt;chr&gt; | 발생월 &lt;dbl&gt; | 사고건수 &lt;dbl&gt; | 사망자수 &lt;dbl&gt; | 중상자수 &lt;dbl&gt; | 경상자수 &lt;dbl&gt; | 부상신고자수 &lt;dbl&gt; |\n",
       "|---|---|---|---|---|---|---|---|\n",
       "| 서울 | 종로구 | 1 | 69 | 3 | 21 | 66 |  6 |\n",
       "| 서울 | 종로구 | 2 | 54 | 0 | 21 | 46 |  8 |\n",
       "| 서울 | 종로구 | 3 | 66 | 0 | 17 | 65 | 10 |\n",
       "\n"
      ],
      "text/plain": [
       "  시도 시군구 발생월 사고건수 사망자수 중상자수 경상자수 부상신고자수\n",
       "1 서울 종로구 1      69       3        21       66        6          \n",
       "2 서울 종로구 2      54       0        21       46        8          \n",
       "3 서울 종로구 3      66       0        17       65       10          "
      ]
     },
     "metadata": {},
     "output_type": "display_data"
    }
   ],
   "source": [
    "seoul <- subset(data, data$시도 == \"서울\")\n",
    "head(seoul, 3)"
   ]
  },
  {
   "cell_type": "code",
   "execution_count": 96,
   "id": "75e8c5d4-7e70-4e78-88cd-1a2dc5356c7f",
   "metadata": {
    "tags": []
   },
   "outputs": [
    {
     "data": {
      "text/plain": [
       "\n",
       "강남구 강동구 강북구 강서구 \n",
       "    12     12     12     12 "
      ]
     },
     "metadata": {},
     "output_type": "display_data"
    }
   ],
   "source": [
    "idx <- grep(\"^강\", seoul$시군구)\n",
    "river <- seoul[idx, ]\n",
    "table(river$시군구)"
   ]
  },
  {
   "cell_type": "code",
   "execution_count": 97,
   "id": "a3cb0271-0416-48ba-a478-53616461177f",
   "metadata": {
    "tags": []
   },
   "outputs": [
    {
     "name": "stdout",
     "output_type": "stream",
     "text": [
      "강남구 강동구 강북구 강서구    sum \n",
      "  3820   1047   1017   1501   7385 \n"
     ]
    }
   ],
   "source": [
    "result <- tapply(river$사고건수, river$시군구, sum)\n",
    "print(addmargins(result, FUN = sum))"
   ]
  },
  {
   "cell_type": "code",
   "execution_count": 98,
   "id": "ed03fb60-d736-47ff-9db3-d34804714b0e",
   "metadata": {
    "tags": []
   },
   "outputs": [
    {
     "name": "stdout",
     "output_type": "stream",
     "text": [
      "  강남구   강동구   강북구   강서구     mean \n",
      "318.3333  87.2500  84.7500 125.0833 153.8542 \n"
     ]
    }
   ],
   "source": [
    "result <- tapply(river$사고건수, river$시군구, mean)\n",
    "print(addmargins(result, FUN = mean))"
   ]
  },
  {
   "cell_type": "code",
   "execution_count": 99,
   "id": "d961d3b3-2814-4ea8-bc4f-8dfd48b30d72",
   "metadata": {},
   "outputs": [
    {
     "name": "stdout",
     "output_type": "stream",
     "text": [
      "Margins computed over dimensions\n",
      "in the following order:\n",
      "1: \n",
      "2: \n"
     ]
    },
    {
     "data": {
      "text/html": [
       "<table class=\"dataframe\">\n",
       "<caption>A matrix: 5 × 13 of type dbl</caption>\n",
       "<thead>\n",
       "\t<tr><th></th><th scope=col>1</th><th scope=col>2</th><th scope=col>3</th><th scope=col>4</th><th scope=col>5</th><th scope=col>6</th><th scope=col>7</th><th scope=col>8</th><th scope=col>9</th><th scope=col>10</th><th scope=col>11</th><th scope=col>12</th><th scope=col>sum</th></tr>\n",
       "</thead>\n",
       "<tbody>\n",
       "\t<tr><th scope=row>강남구</th><td>315</td><td>315</td><td>299</td><td>325</td><td>310</td><td>339</td><td>322</td><td>301</td><td>306</td><td>330</td><td>336</td><td>322</td><td>3820</td></tr>\n",
       "\t<tr><th scope=row>강동구</th><td>105</td><td> 80</td><td>104</td><td>101</td><td> 89</td><td> 82</td><td> 70</td><td> 79</td><td> 73</td><td> 89</td><td> 97</td><td> 78</td><td>1047</td></tr>\n",
       "\t<tr><th scope=row>강북구</th><td>100</td><td> 87</td><td> 74</td><td> 93</td><td> 90</td><td> 79</td><td> 83</td><td> 81</td><td> 64</td><td> 80</td><td> 92</td><td> 94</td><td>1017</td></tr>\n",
       "\t<tr><th scope=row>강서구</th><td>107</td><td> 92</td><td>116</td><td>126</td><td>141</td><td>144</td><td>149</td><td>117</td><td>121</td><td>130</td><td>131</td><td>127</td><td>1501</td></tr>\n",
       "\t<tr><th scope=row>sum</th><td>627</td><td>574</td><td>593</td><td>645</td><td>630</td><td>644</td><td>624</td><td>578</td><td>564</td><td>629</td><td>656</td><td>621</td><td>7385</td></tr>\n",
       "</tbody>\n",
       "</table>\n"
      ],
      "text/latex": [
       "A matrix: 5 × 13 of type dbl\n",
       "\\begin{tabular}{r|lllllllllllll}\n",
       "  & 1 & 2 & 3 & 4 & 5 & 6 & 7 & 8 & 9 & 10 & 11 & 12 & sum\\\\\n",
       "\\hline\n",
       "\t강남구 & 315 & 315 & 299 & 325 & 310 & 339 & 322 & 301 & 306 & 330 & 336 & 322 & 3820\\\\\n",
       "\t강동구 & 105 &  80 & 104 & 101 &  89 &  82 &  70 &  79 &  73 &  89 &  97 &  78 & 1047\\\\\n",
       "\t강북구 & 100 &  87 &  74 &  93 &  90 &  79 &  83 &  81 &  64 &  80 &  92 &  94 & 1017\\\\\n",
       "\t강서구 & 107 &  92 & 116 & 126 & 141 & 144 & 149 & 117 & 121 & 130 & 131 & 127 & 1501\\\\\n",
       "\tsum & 627 & 574 & 593 & 645 & 630 & 644 & 624 & 578 & 564 & 629 & 656 & 621 & 7385\\\\\n",
       "\\end{tabular}\n"
      ],
      "text/markdown": [
       "\n",
       "A matrix: 5 × 13 of type dbl\n",
       "\n",
       "| <!--/--> | 1 | 2 | 3 | 4 | 5 | 6 | 7 | 8 | 9 | 10 | 11 | 12 | sum |\n",
       "|---|---|---|---|---|---|---|---|---|---|---|---|---|---|\n",
       "| 강남구 | 315 | 315 | 299 | 325 | 310 | 339 | 322 | 301 | 306 | 330 | 336 | 322 | 3820 |\n",
       "| 강동구 | 105 |  80 | 104 | 101 |  89 |  82 |  70 |  79 |  73 |  89 |  97 |  78 | 1047 |\n",
       "| 강북구 | 100 |  87 |  74 |  93 |  90 |  79 |  83 |  81 |  64 |  80 |  92 |  94 | 1017 |\n",
       "| 강서구 | 107 |  92 | 116 | 126 | 141 | 144 | 149 | 117 | 121 | 130 | 131 | 127 | 1501 |\n",
       "| sum | 627 | 574 | 593 | 645 | 630 | 644 | 624 | 578 | 564 | 629 | 656 | 621 | 7385 |\n",
       "\n"
      ],
      "text/plain": [
       "       1   2   3   4   5   6   7   8   9   10  11  12  sum \n",
       "강남구 315 315 299 325 310 339 322 301 306 330 336 322 3820\n",
       "강동구 105  80 104 101  89  82  70  79  73  89  97  78 1047\n",
       "강북구 100  87  74  93  90  79  83  81  64  80  92  94 1017\n",
       "강서구 107  92 116 126 141 144 149 117 121 130 131 127 1501\n",
       "sum    627 574 593 645 630 644 624 578 564 629 656 621 7385"
      ]
     },
     "metadata": {},
     "output_type": "display_data"
    }
   ],
   "source": [
    "result <- tapply(river$사고건수, list(river$시군구, river$발생월),sum)\n",
    "addmargins(result, FUN = sum)"
   ]
  },
  {
   "cell_type": "code",
   "execution_count": 100,
   "id": "2e34ea57-aec4-4c74-a76d-460927b27247",
   "metadata": {
    "tags": []
   },
   "outputs": [
    {
     "name": "stdout",
     "output_type": "stream",
     "text": [
      "Margins computed over dimensions\n",
      "in the following order:\n",
      "1: \n",
      "2: \n"
     ]
    },
    {
     "data": {
      "text/html": [
       "<table class=\"dataframe\">\n",
       "<caption>A matrix: 5 × 13 of type dbl</caption>\n",
       "<thead>\n",
       "\t<tr><th></th><th scope=col>1</th><th scope=col>2</th><th scope=col>3</th><th scope=col>4</th><th scope=col>5</th><th scope=col>6</th><th scope=col>7</th><th scope=col>8</th><th scope=col>9</th><th scope=col>10</th><th scope=col>11</th><th scope=col>12</th><th scope=col>mean</th></tr>\n",
       "</thead>\n",
       "<tbody>\n",
       "\t<tr><th scope=row>강남구</th><td>315.0</td><td>315.0</td><td>299.0</td><td>325.0</td><td>310.0</td><td>339</td><td>322</td><td>301.0</td><td>306</td><td>330.0</td><td>336</td><td>322.0</td><td>318.3</td></tr>\n",
       "\t<tr><th scope=row>강동구</th><td>105.0</td><td> 80.0</td><td>104.0</td><td>101.0</td><td> 89.0</td><td> 82</td><td> 70</td><td> 79.0</td><td> 73</td><td> 89.0</td><td> 97</td><td> 78.0</td><td> 87.2</td></tr>\n",
       "\t<tr><th scope=row>강북구</th><td>100.0</td><td> 87.0</td><td> 74.0</td><td> 93.0</td><td> 90.0</td><td> 79</td><td> 83</td><td> 81.0</td><td> 64</td><td> 80.0</td><td> 92</td><td> 94.0</td><td> 84.8</td></tr>\n",
       "\t<tr><th scope=row>강서구</th><td>107.0</td><td> 92.0</td><td>116.0</td><td>126.0</td><td>141.0</td><td>144</td><td>149</td><td>117.0</td><td>121</td><td>130.0</td><td>131</td><td>127.0</td><td>125.1</td></tr>\n",
       "\t<tr><th scope=row>mean</th><td>156.8</td><td>143.5</td><td>148.2</td><td>161.2</td><td>157.5</td><td>161</td><td>156</td><td>144.5</td><td>141</td><td>157.2</td><td>164</td><td>155.2</td><td>153.9</td></tr>\n",
       "</tbody>\n",
       "</table>\n"
      ],
      "text/latex": [
       "A matrix: 5 × 13 of type dbl\n",
       "\\begin{tabular}{r|lllllllllllll}\n",
       "  & 1 & 2 & 3 & 4 & 5 & 6 & 7 & 8 & 9 & 10 & 11 & 12 & mean\\\\\n",
       "\\hline\n",
       "\t강남구 & 315.0 & 315.0 & 299.0 & 325.0 & 310.0 & 339 & 322 & 301.0 & 306 & 330.0 & 336 & 322.0 & 318.3\\\\\n",
       "\t강동구 & 105.0 &  80.0 & 104.0 & 101.0 &  89.0 &  82 &  70 &  79.0 &  73 &  89.0 &  97 &  78.0 &  87.2\\\\\n",
       "\t강북구 & 100.0 &  87.0 &  74.0 &  93.0 &  90.0 &  79 &  83 &  81.0 &  64 &  80.0 &  92 &  94.0 &  84.8\\\\\n",
       "\t강서구 & 107.0 &  92.0 & 116.0 & 126.0 & 141.0 & 144 & 149 & 117.0 & 121 & 130.0 & 131 & 127.0 & 125.1\\\\\n",
       "\tmean & 156.8 & 143.5 & 148.2 & 161.2 & 157.5 & 161 & 156 & 144.5 & 141 & 157.2 & 164 & 155.2 & 153.9\\\\\n",
       "\\end{tabular}\n"
      ],
      "text/markdown": [
       "\n",
       "A matrix: 5 × 13 of type dbl\n",
       "\n",
       "| <!--/--> | 1 | 2 | 3 | 4 | 5 | 6 | 7 | 8 | 9 | 10 | 11 | 12 | mean |\n",
       "|---|---|---|---|---|---|---|---|---|---|---|---|---|---|\n",
       "| 강남구 | 315.0 | 315.0 | 299.0 | 325.0 | 310.0 | 339 | 322 | 301.0 | 306 | 330.0 | 336 | 322.0 | 318.3 |\n",
       "| 강동구 | 105.0 |  80.0 | 104.0 | 101.0 |  89.0 |  82 |  70 |  79.0 |  73 |  89.0 |  97 |  78.0 |  87.2 |\n",
       "| 강북구 | 100.0 |  87.0 |  74.0 |  93.0 |  90.0 |  79 |  83 |  81.0 |  64 |  80.0 |  92 |  94.0 |  84.8 |\n",
       "| 강서구 | 107.0 |  92.0 | 116.0 | 126.0 | 141.0 | 144 | 149 | 117.0 | 121 | 130.0 | 131 | 127.0 | 125.1 |\n",
       "| mean | 156.8 | 143.5 | 148.2 | 161.2 | 157.5 | 161 | 156 | 144.5 | 141 | 157.2 | 164 | 155.2 | 153.9 |\n",
       "\n"
      ],
      "text/plain": [
       "       1     2     3     4     5     6   7   8     9   10    11  12    mean \n",
       "강남구 315.0 315.0 299.0 325.0 310.0 339 322 301.0 306 330.0 336 322.0 318.3\n",
       "강동구 105.0  80.0 104.0 101.0  89.0  82  70  79.0  73  89.0  97  78.0  87.2\n",
       "강북구 100.0  87.0  74.0  93.0  90.0  79  83  81.0  64  80.0  92  94.0  84.8\n",
       "강서구 107.0  92.0 116.0 126.0 141.0 144 149 117.0 121 130.0 131 127.0 125.1\n",
       "mean   156.8 143.5 148.2 161.2 157.5 161 156 144.5 141 157.2 164 155.2 153.9"
      ]
     },
     "metadata": {},
     "output_type": "display_data"
    }
   ],
   "source": [
    "result <- tapply(river$사고건수, list(river$시군구, river$발생월), mean)\n",
    "round(addmargins(result, FUN = mean), 1)"
   ]
  },
  {
   "cell_type": "code",
   "execution_count": 101,
   "id": "8286e899-118e-4e2b-9dec-dcd5d9898e1b",
   "metadata": {
    "tags": []
   },
   "outputs": [
    {
     "data": {
      "text/html": [
       "<style>\n",
       ".list-inline {list-style: none; margin:0; padding: 0}\n",
       ".list-inline>li {display: inline-block}\n",
       ".list-inline>li:not(:last-child)::after {content: \"\\00b7\"; padding: 0 .5ex}\n",
       "</style>\n",
       "<ol class=list-inline><li>'2015년 초미세먼지.xlsx'</li><li>'202121059-정보경-exercise-4.ipynb'</li><li>'202121059-정보경-무작정 따라하기-4.ipynb'</li><li>'2022년_도로교통공단_시군구별 월별 교통사고 통계.xlsx'</li><li>'데이터과학-중간고사.xlsx'</li><li>'실습 설문지.xlsx'</li></ol>\n"
      ],
      "text/latex": [
       "\\begin{enumerate*}\n",
       "\\item '2015년 초미세먼지.xlsx'\n",
       "\\item '202121059-정보경-exercise-4.ipynb'\n",
       "\\item '202121059-정보경-무작정 따라하기-4.ipynb'\n",
       "\\item '2022년\\_도로교통공단\\_시군구별 월별 교통사고 통계.xlsx'\n",
       "\\item '데이터과학-중간고사.xlsx'\n",
       "\\item '실습 설문지.xlsx'\n",
       "\\end{enumerate*}\n"
      ],
      "text/markdown": [
       "1. '2015년 초미세먼지.xlsx'\n",
       "2. '202121059-정보경-exercise-4.ipynb'\n",
       "3. '202121059-정보경-무작정 따라하기-4.ipynb'\n",
       "4. '2022년_도로교통공단_시군구별 월별 교통사고 통계.xlsx'\n",
       "5. '데이터과학-중간고사.xlsx'\n",
       "6. '실습 설문지.xlsx'\n",
       "\n",
       "\n"
      ],
      "text/plain": [
       "[1] \"2015년 초미세먼지.xlsx\"                              \n",
       "[2] \"202121059-정보경-exercise-4.ipynb\"                   \n",
       "[3] \"202121059-정보경-무작정 따라하기-4.ipynb\"            \n",
       "[4] \"2022년_도로교통공단_시군구별 월별 교통사고 통계.xlsx\"\n",
       "[5] \"데이터과학-중간고사.xlsx\"                            \n",
       "[6] \"실습 설문지.xlsx\"                                    "
      ]
     },
     "metadata": {},
     "output_type": "display_data"
    }
   ],
   "source": [
    "list.files()"
   ]
  },
  {
   "cell_type": "code",
   "execution_count": 102,
   "id": "f1397cd5-8cd2-4a8b-b515-01ddfbf68f1d",
   "metadata": {
    "tags": []
   },
   "outputs": [],
   "source": [
    "library(readxl)"
   ]
  },
  {
   "cell_type": "code",
   "execution_count": 103,
   "id": "306de3fa-9a6f-4110-99ae-3645a9f4dcac",
   "metadata": {
    "tags": []
   },
   "outputs": [],
   "source": [
    "mise1 <- read_xlsx(\"2015년 초미세먼지.xlsx\", sheet = 1)\n",
    "mise2 <- read_xlsx(\"2015년 초미세먼지.xlsx\", sheet = 2)\n",
    "mise3 <- read_xlsx(\"2015년 초미세먼지.xlsx\", sheet = 3)"
   ]
  },
  {
   "cell_type": "code",
   "execution_count": 104,
   "id": "bea8023c-e872-4998-8cbb-ab912f1c3904",
   "metadata": {
    "tags": []
   },
   "outputs": [
    {
     "name": "stdout",
     "output_type": "stream",
     "text": [
      "tibble [1,574,914 × 9] (S3: tbl_df/tbl/data.frame)\n",
      " $ AREA : chr [1:1574914] \"서울\" \"서울\" \"서울\" \"서울\" ...\n",
      " $ Point: chr [1:1574914] \"중구\" \"중구\" \"중구\" \"중구\" ...\n",
      " $ Date : num [1:1574914] 2.02e+09 2.02e+09 2.02e+09 2.02e+09 2.02e+09 ...\n",
      " $ Year : num [1:1574914] 2015 2015 2015 2015 2015 ...\n",
      " $ Month: num [1:1574914] 1 1 1 1 1 1 1 1 1 1 ...\n",
      " $ Day  : num [1:1574914] 1 1 1 1 1 1 1 1 1 1 ...\n",
      " $ Time : num [1:1574914] 0 1 2 3 4 5 6 7 8 9 ...\n",
      " $ PM10 : num [1:1574914] 44 57 76 86 106 128 139 132 121 94 ...\n",
      " $ PM25 : num [1:1574914] 7 10 10 11 12 18 19 16 14 16 ...\n"
     ]
    }
   ],
   "source": [
    "mise <- rbind(mise1, mise2, mise3)\n",
    "str(mise)"
   ]
  },
  {
   "cell_type": "code",
   "execution_count": 105,
   "id": "8295c32f-b11e-4a50-983f-2eda581c9361",
   "metadata": {
    "tags": []
   },
   "outputs": [
    {
     "data": {
      "text/plain": [
       "\n",
       "  강원 강릉시   강원 고성군   강원 동해시   강원 삼척시   강원 양구군 \n",
       "         5003          4221          4903          5008          4228 \n",
       "  강원 원주시   강원 정선군   강원 춘천시   강원 횡성군   경기 가평군 \n",
       "         9933          4275         10031          4251          4950 \n",
       "  경기 고양시   경기 과천시   경기 광명시   경기 광주시   경기 구리시 \n",
       "        15059          9997         10074          5055          9969 \n",
       "  경기 군포시   경기 김포시 경기 남양주시 경기 동두천시   경기 부천시 \n",
       "         9975         15099         10022          4983         25178 \n",
       "  경기 성남시   경기 수원시   경기 시흥시   경기 안산시   경기 안성시 \n",
       "        40085         35070         15076         39874          5025 \n",
       "  경기 안양시   경기 양주시   경기 양평군   경기 여주군   경기 연천군 \n",
       "        18543          5010          5047          4975          4973 \n",
       "  경기 오산시   경기 용인시   경기 의왕시 경기 의정부시   경기 이천시 \n",
       "         5017         20178         10040          9876          9218 \n",
       "  경기 파주시   경기 평택시   경기 포천시   경기 하남시   경기 화성시 \n",
       "         8125         15034          9301          5032         15102 \n",
       "  경남 거제시   경남 거창군   경남 김해시   경남 사천시   경남 양산시 \n",
       "         9254          4165         15189          5050         10098 \n",
       "  경남 진주시   경남 창원시   경남 하동군   경북 경산시   경북 경주시 \n",
       "        15067         49743          5053          5006          4997 \n",
       "  경북 구미시   경북 김천시   경북 안동시   경북 영덕군   경북 영주시 \n",
       "        19589          5069          5031          4196          4839 \n",
       "  경북 영천시   경북 울릉군   경북 의성군   경북 포항시   광주 광산구 \n",
       "         2245          4309          4180         25399         10160 \n",
       "    광주 남구     광주 동구     광주 북구     광주 서구     대구 남구 \n",
       "         5079          5081         15259         10176          5088 \n",
       "  대구 달서구   대구 달성군     대구 동구     대구 북구     대구 서구 \n",
       "         5056          5061         10112         10117         10112 \n",
       "  대구 수성구     대구 중구   대전 대덕구     대전 동구     대전 서구 \n",
       "        10105         10121         10153          5077         15233 \n",
       "  대전 유성구     대전 중구   부산 강서구   부산 금정구   부산 기장군 \n",
       "        10162         10130          9720          9731          9802 \n",
       "    부산 남구     부산 동구   부산 동래구 부산 부산진구     부산 북구 \n",
       "         5071         10088          9751          5027          4989 \n",
       "  부산 사상구   부산 사하구     부산 서구   부산 수영구   부산 연제구 \n",
       "         4785          4876          5069          5070          5040 \n",
       "  부산 영도구     부산 중구 부산 해운대구          서울     울산 남구 \n",
       "         5074          4986          5068        195786         35052 \n",
       "    울산 동구     울산 북구   울산 울주군     울산 중구   인천 강화군 \n",
       "         5017         10024         19790          5022          9279 \n",
       "  인천 계양구     인천 남구   인천 남동구     인천 동구   인천 부평구 \n",
       "         4983         10176         15140         10136         10065 \n",
       "    인천 서구   인천 연수구   인천 옹진군     인천 중구   전남 광양시 \n",
       "        20245          5088          8468         10045         20012 \n",
       "  전남 목포시   전남 순천시   전남 여수시   전남 영암군   전남 화순군 \n",
       "        10059         20043         25147          4951          4216 \n",
       "  전북 고창군   전북 군산시   전북 남원시   전북 부안군   전북 익산시 \n",
       "         5088         15181          5088          5087         15251 \n",
       "  전북 임실군   전북 전주시   전북 정읍시 제주 서귀포시   제주 제주시 \n",
       "         4179         20320          5019          5088         14468 \n",
       "  충남 공주시   충남 당진군   충남 서산시   충남 아산시   충남 천안시 \n",
       "         4166         10169         10172          5023         15089 \n",
       "  충남 태안군   충북 괴산군   충북 단양군   충북 제천시   충북 청원군 \n",
       "         4134          4131          5088          5059          5088 \n",
       "  충북 청주시   충북 충주시 \n",
       "        25384         10175 "
      ]
     },
     "metadata": {},
     "output_type": "display_data"
    }
   ],
   "source": [
    "table(mise$AREA)"
   ]
  },
  {
   "cell_type": "code",
   "execution_count": 106,
   "id": "bdd321b4-d613-41a0-aadb-da56d72f3544",
   "metadata": {
    "tags": []
   },
   "outputs": [
    {
     "data": {
      "text/plain": [
       "\n",
       "강원 강릉시 강원 고성군 강원 동해시 강원 삼척시 강원 양구군 강원 원주시 \n",
       "       5003        4221        4903        5008        4228        9933 \n",
       "강원 정선군 강원 춘천시 강원 횡성군 \n",
       "       4275       10031        4251 "
      ]
     },
     "metadata": {},
     "output_type": "display_data"
    }
   ],
   "source": [
    "idx <- grep(\"^강원\", mise$AREA)\n",
    "gangwon <- mise[idx, ]\n",
    "table(gangwon$AREA)"
   ]
  },
  {
   "cell_type": "code",
   "execution_count": 107,
   "id": "56acadf0-0e4b-4ce4-bf1d-60d435701e4b",
   "metadata": {
    "tags": []
   },
   "outputs": [
    {
     "data": {
      "text/html": [
       "<style>\n",
       ".dl-inline {width: auto; margin:0; padding: 0}\n",
       ".dl-inline>dt, .dl-inline>dd {float: none; width: auto; display: inline-block}\n",
       ".dl-inline>dt::after {content: \":\\0020\"; padding-right: .5ex}\n",
       ".dl-inline>dt:not(:first-of-type) {padding-left: .5ex}\n",
       "</style><dl class=dl-inline><dt>간성읍</dt><dd>&lt;NA&gt;</dd><dt>남양동1</dt><dd>&lt;NA&gt;</dd><dt>명륜동</dt><dd>&lt;NA&gt;</dd><dt>방산면</dt><dd>&lt;NA&gt;</dd><dt>북평면</dt><dd>&lt;NA&gt;</dd><dt>석사동</dt><dd>&lt;NA&gt;</dd><dt>옥천동</dt><dd>&lt;NA&gt;</dd><dt>중앙동(원주)</dt><dd>&lt;NA&gt;</dd><dt>중앙로</dt><dd>&lt;NA&gt;</dd><dt>천곡동</dt><dd>&lt;NA&gt;</dd><dt>치악산</dt><dd>&lt;NA&gt;</dd></dl>\n"
      ],
      "text/latex": [
       "\\begin{description*}\n",
       "\\item[간성읍] <NA>\n",
       "\\item[남양동1] <NA>\n",
       "\\item[명륜동] <NA>\n",
       "\\item[방산면] <NA>\n",
       "\\item[북평면] <NA>\n",
       "\\item[석사동] <NA>\n",
       "\\item[옥천동] <NA>\n",
       "\\item[중앙동(원주)] <NA>\n",
       "\\item[중앙로] <NA>\n",
       "\\item[천곡동] <NA>\n",
       "\\item[치악산] <NA>\n",
       "\\end{description*}\n"
      ],
      "text/markdown": [
       "간성읍\n",
       ":   &lt;NA&gt;남양동1\n",
       ":   &lt;NA&gt;명륜동\n",
       ":   &lt;NA&gt;방산면\n",
       ":   &lt;NA&gt;북평면\n",
       ":   &lt;NA&gt;석사동\n",
       ":   &lt;NA&gt;옥천동\n",
       ":   &lt;NA&gt;중앙동(원주)\n",
       ":   &lt;NA&gt;중앙로\n",
       ":   &lt;NA&gt;천곡동\n",
       ":   &lt;NA&gt;치악산\n",
       ":   &lt;NA&gt;\n",
       "\n"
      ],
      "text/plain": [
       "      간성읍      남양동1       명륜동       방산면       북평면       석사동 \n",
       "          NA           NA           NA           NA           NA           NA \n",
       "      옥천동 중앙동(원주)       중앙로       천곡동       치악산 \n",
       "          NA           NA           NA           NA           NA "
      ]
     },
     "metadata": {},
     "output_type": "display_data"
    }
   ],
   "source": [
    "tapply(gangwon$PM10, gangwon$Point, mean)"
   ]
  },
  {
   "cell_type": "code",
   "execution_count": 108,
   "id": "38882c2a-57b3-4f32-a6c3-9a2351c1a41e",
   "metadata": {
    "tags": []
   },
   "outputs": [
    {
     "data": {
      "text/html": [
       "<table class=\"dataframe\">\n",
       "<caption>A data.frame: 11 × 1</caption>\n",
       "<thead>\n",
       "\t<tr><th></th><th scope=col>PM_mean</th></tr>\n",
       "\t<tr><th></th><th scope=col>&lt;dbl&gt;</th></tr>\n",
       "</thead>\n",
       "<tbody>\n",
       "\t<tr><th scope=row>간성읍</th><td>45.4</td></tr>\n",
       "\t<tr><th scope=row>남양동1</th><td>46.0</td></tr>\n",
       "\t<tr><th scope=row>명륜동</th><td>69.5</td></tr>\n",
       "\t<tr><th scope=row>방산면</th><td>51.3</td></tr>\n",
       "\t<tr><th scope=row>북평면</th><td>39.7</td></tr>\n",
       "\t<tr><th scope=row>석사동</th><td>65.4</td></tr>\n",
       "\t<tr><th scope=row>옥천동</th><td>54.2</td></tr>\n",
       "\t<tr><th scope=row>중앙동(원주)</th><td>65.0</td></tr>\n",
       "\t<tr><th scope=row>중앙로</th><td>51.8</td></tr>\n",
       "\t<tr><th scope=row>천곡동</th><td>47.7</td></tr>\n",
       "\t<tr><th scope=row>치악산</th><td>51.6</td></tr>\n",
       "</tbody>\n",
       "</table>\n"
      ],
      "text/latex": [
       "A data.frame: 11 × 1\n",
       "\\begin{tabular}{r|l}\n",
       "  & PM\\_mean\\\\\n",
       "  & <dbl>\\\\\n",
       "\\hline\n",
       "\t간성읍 & 45.4\\\\\n",
       "\t남양동1 & 46.0\\\\\n",
       "\t명륜동 & 69.5\\\\\n",
       "\t방산면 & 51.3\\\\\n",
       "\t북평면 & 39.7\\\\\n",
       "\t석사동 & 65.4\\\\\n",
       "\t옥천동 & 54.2\\\\\n",
       "\t중앙동(원주) & 65.0\\\\\n",
       "\t중앙로 & 51.8\\\\\n",
       "\t천곡동 & 47.7\\\\\n",
       "\t치악산 & 51.6\\\\\n",
       "\\end{tabular}\n"
      ],
      "text/markdown": [
       "\n",
       "A data.frame: 11 × 1\n",
       "\n",
       "| <!--/--> | PM_mean &lt;dbl&gt; |\n",
       "|---|---|\n",
       "| 간성읍 | 45.4 |\n",
       "| 남양동1 | 46.0 |\n",
       "| 명륜동 | 69.5 |\n",
       "| 방산면 | 51.3 |\n",
       "| 북평면 | 39.7 |\n",
       "| 석사동 | 65.4 |\n",
       "| 옥천동 | 54.2 |\n",
       "| 중앙동(원주) | 65.0 |\n",
       "| 중앙로 | 51.8 |\n",
       "| 천곡동 | 47.7 |\n",
       "| 치악산 | 51.6 |\n",
       "\n"
      ],
      "text/plain": [
       "             PM_mean\n",
       "간성읍       45.4   \n",
       "남양동1      46.0   \n",
       "명륜동       69.5   \n",
       "방산면       51.3   \n",
       "북평면       39.7   \n",
       "석사동       65.4   \n",
       "옥천동       54.2   \n",
       "중앙동(원주) 65.0   \n",
       "중앙로       51.8   \n",
       "천곡동       47.7   \n",
       "치악산       51.6   "
      ]
     },
     "metadata": {},
     "output_type": "display_data"
    }
   ],
   "source": [
    "PM_mean <- round(tapply(gangwon$PM10, gangwon$Point, mean, na.rm = T), 1)\n",
    "as.data.frame(PM_mean)"
   ]
  },
  {
   "cell_type": "code",
   "execution_count": 109,
   "id": "cebf067b-1729-44b6-aee3-36836525d6fc",
   "metadata": {
    "tags": []
   },
   "outputs": [
    {
     "data": {
      "text/html": [
       "<table class=\"dataframe\">\n",
       "<caption>A matrix: 11 × 7 of type dbl</caption>\n",
       "<thead>\n",
       "\t<tr><th></th><th scope=col>1</th><th scope=col>2</th><th scope=col>3</th><th scope=col>4</th><th scope=col>5</th><th scope=col>6</th><th scope=col>7</th></tr>\n",
       "</thead>\n",
       "<tbody>\n",
       "\t<tr><th scope=row>간성읍</th><td>35.5</td><td> 56.6</td><td>67.5</td><td>42.1</td><td>42.8</td><td>27.9</td><td>  NA</td></tr>\n",
       "\t<tr><th scope=row>남양동1</th><td>35.6</td><td> 52.8</td><td>54.6</td><td>43.7</td><td>51.5</td><td>46.0</td><td>38.5</td></tr>\n",
       "\t<tr><th scope=row>명륜동</th><td>81.9</td><td>112.7</td><td>97.0</td><td>58.5</td><td>62.8</td><td>44.3</td><td>32.1</td></tr>\n",
       "\t<tr><th scope=row>방산면</th><td>44.3</td><td> 68.9</td><td>65.5</td><td>43.5</td><td>49.2</td><td>37.5</td><td>  NA</td></tr>\n",
       "\t<tr><th scope=row>북평면</th><td>31.4</td><td> 30.5</td><td>57.2</td><td>37.8</td><td>42.7</td><td>29.3</td><td>  NA</td></tr>\n",
       "\t<tr><th scope=row>석사동</th><td>73.4</td><td>101.0</td><td>87.5</td><td>55.4</td><td>60.8</td><td>44.0</td><td>37.3</td></tr>\n",
       "\t<tr><th scope=row>옥천동</th><td>47.8</td><td> 74.1</td><td>72.2</td><td>55.3</td><td>54.4</td><td>43.1</td><td>33.9</td></tr>\n",
       "\t<tr><th scope=row>중앙동(원주)</th><td>76.1</td><td>104.9</td><td>90.9</td><td>49.3</td><td>60.4</td><td>44.3</td><td>33.0</td></tr>\n",
       "\t<tr><th scope=row>중앙로</th><td>57.5</td><td> 88.7</td><td>73.9</td><td>43.4</td><td>44.6</td><td>29.5</td><td>26.8</td></tr>\n",
       "\t<tr><th scope=row>천곡동</th><td>38.7</td><td> 63.7</td><td>66.4</td><td>51.4</td><td>51.8</td><td>37.9</td><td>26.3</td></tr>\n",
       "\t<tr><th scope=row>치악산</th><td>48.9</td><td> 77.8</td><td>68.4</td><td>40.6</td><td>43.7</td><td>31.7</td><td>  NA</td></tr>\n",
       "</tbody>\n",
       "</table>\n"
      ],
      "text/latex": [
       "A matrix: 11 × 7 of type dbl\n",
       "\\begin{tabular}{r|lllllll}\n",
       "  & 1 & 2 & 3 & 4 & 5 & 6 & 7\\\\\n",
       "\\hline\n",
       "\t간성읍 & 35.5 &  56.6 & 67.5 & 42.1 & 42.8 & 27.9 &   NA\\\\\n",
       "\t남양동1 & 35.6 &  52.8 & 54.6 & 43.7 & 51.5 & 46.0 & 38.5\\\\\n",
       "\t명륜동 & 81.9 & 112.7 & 97.0 & 58.5 & 62.8 & 44.3 & 32.1\\\\\n",
       "\t방산면 & 44.3 &  68.9 & 65.5 & 43.5 & 49.2 & 37.5 &   NA\\\\\n",
       "\t북평면 & 31.4 &  30.5 & 57.2 & 37.8 & 42.7 & 29.3 &   NA\\\\\n",
       "\t석사동 & 73.4 & 101.0 & 87.5 & 55.4 & 60.8 & 44.0 & 37.3\\\\\n",
       "\t옥천동 & 47.8 &  74.1 & 72.2 & 55.3 & 54.4 & 43.1 & 33.9\\\\\n",
       "\t중앙동(원주) & 76.1 & 104.9 & 90.9 & 49.3 & 60.4 & 44.3 & 33.0\\\\\n",
       "\t중앙로 & 57.5 &  88.7 & 73.9 & 43.4 & 44.6 & 29.5 & 26.8\\\\\n",
       "\t천곡동 & 38.7 &  63.7 & 66.4 & 51.4 & 51.8 & 37.9 & 26.3\\\\\n",
       "\t치악산 & 48.9 &  77.8 & 68.4 & 40.6 & 43.7 & 31.7 &   NA\\\\\n",
       "\\end{tabular}\n"
      ],
      "text/markdown": [
       "\n",
       "A matrix: 11 × 7 of type dbl\n",
       "\n",
       "| <!--/--> | 1 | 2 | 3 | 4 | 5 | 6 | 7 |\n",
       "|---|---|---|---|---|---|---|---|\n",
       "| 간성읍 | 35.5 |  56.6 | 67.5 | 42.1 | 42.8 | 27.9 |   NA |\n",
       "| 남양동1 | 35.6 |  52.8 | 54.6 | 43.7 | 51.5 | 46.0 | 38.5 |\n",
       "| 명륜동 | 81.9 | 112.7 | 97.0 | 58.5 | 62.8 | 44.3 | 32.1 |\n",
       "| 방산면 | 44.3 |  68.9 | 65.5 | 43.5 | 49.2 | 37.5 |   NA |\n",
       "| 북평면 | 31.4 |  30.5 | 57.2 | 37.8 | 42.7 | 29.3 |   NA |\n",
       "| 석사동 | 73.4 | 101.0 | 87.5 | 55.4 | 60.8 | 44.0 | 37.3 |\n",
       "| 옥천동 | 47.8 |  74.1 | 72.2 | 55.3 | 54.4 | 43.1 | 33.9 |\n",
       "| 중앙동(원주) | 76.1 | 104.9 | 90.9 | 49.3 | 60.4 | 44.3 | 33.0 |\n",
       "| 중앙로 | 57.5 |  88.7 | 73.9 | 43.4 | 44.6 | 29.5 | 26.8 |\n",
       "| 천곡동 | 38.7 |  63.7 | 66.4 | 51.4 | 51.8 | 37.9 | 26.3 |\n",
       "| 치악산 | 48.9 |  77.8 | 68.4 | 40.6 | 43.7 | 31.7 |   NA |\n",
       "\n"
      ],
      "text/plain": [
       "             1    2     3    4    5    6    7   \n",
       "간성읍       35.5  56.6 67.5 42.1 42.8 27.9   NA\n",
       "남양동1      35.6  52.8 54.6 43.7 51.5 46.0 38.5\n",
       "명륜동       81.9 112.7 97.0 58.5 62.8 44.3 32.1\n",
       "방산면       44.3  68.9 65.5 43.5 49.2 37.5   NA\n",
       "북평면       31.4  30.5 57.2 37.8 42.7 29.3   NA\n",
       "석사동       73.4 101.0 87.5 55.4 60.8 44.0 37.3\n",
       "옥천동       47.8  74.1 72.2 55.3 54.4 43.1 33.9\n",
       "중앙동(원주) 76.1 104.9 90.9 49.3 60.4 44.3 33.0\n",
       "중앙로       57.5  88.7 73.9 43.4 44.6 29.5 26.8\n",
       "천곡동       38.7  63.7 66.4 51.4 51.8 37.9 26.3\n",
       "치악산       48.9  77.8 68.4 40.6 43.7 31.7   NA"
      ]
     },
     "metadata": {},
     "output_type": "display_data"
    }
   ],
   "source": [
    "round(tapply(gangwon$PM10, list(gangwon$Point, gangwon$Month), mean, na.rm=T),1)"
   ]
  },
  {
   "cell_type": "code",
   "execution_count": 110,
   "id": "70c64a51-30c7-4a67-bfbe-db108f03b384",
   "metadata": {
    "tags": []
   },
   "outputs": [
    {
     "data": {
      "text/plain": [
       "\n",
       "  1   2   3   4   5   6 \n",
       "726 658 725 699 707 706 "
      ]
     },
     "metadata": {},
     "output_type": "display_data"
    }
   ],
   "source": [
    "gansung <- subset(gangwon, gangwon$Point==\"간성읍\")\n",
    "table(gansung$Month)"
   ]
  }
 ],
 "metadata": {
  "kernelspec": {
   "display_name": "R",
   "language": "R",
   "name": "ir"
  },
  "language_info": {
   "codemirror_mode": "r",
   "file_extension": ".r",
   "mimetype": "text/x-r-source",
   "name": "R",
   "pygments_lexer": "r",
   "version": "4.3.1"
  }
 },
 "nbformat": 4,
 "nbformat_minor": 5
}
