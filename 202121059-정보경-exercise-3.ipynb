{
 "cells": [
  {
   "cell_type": "markdown",
   "id": "2d752f2d-effe-445f-addf-6185086e0b5b",
   "metadata": {},
   "source": [
    "<h1>R 스스로 해보기 3</h1>\n",
    "<h3>2023년 11월 1일 (수)</h3>\n",
    "<hr>"
   ]
  },
  {
   "cell_type": "markdown",
   "id": "1785d37f-4d8e-4cae-85e7-fc4aa0ce6c6b",
   "metadata": {},
   "source": [
    "<h4>세 문자열 “I”, “love”, “R”을 paste()함수를 이용하여 다음 결과가 나오는 코드 작\n",
    "성</h4>"
   ]
  },
  {
   "cell_type": "code",
   "execution_count": 1,
   "id": "1d8c350e-c866-44a4-98b8-762397b924c4",
   "metadata": {
    "tags": []
   },
   "outputs": [
    {
     "data": {
      "text/html": [
       "'I-love-R'"
      ],
      "text/latex": [
       "'I-love-R'"
      ],
      "text/markdown": [
       "'I-love-R'"
      ],
      "text/plain": [
       "[1] \"I-love-R\""
      ]
     },
     "metadata": {},
     "output_type": "display_data"
    }
   ],
   "source": [
    "paste(\"I\",\"love\",\"R\", sep=\"-\")"
   ]
  },
  {
   "cell_type": "markdown",
   "id": "96bd9486-cd04-4ff4-8e7a-0be413268da2",
   "metadata": {
    "tags": []
   },
   "source": [
    "<hr>\n",
    "<h4>2. paste() 함수를 이용하여 다음의 결과가 나오는 코드 작성</h4>"
   ]
  },
  {
   "cell_type": "code",
   "execution_count": 2,
   "id": "ef34bb56-dd98-4581-ba00-8c8a54a2e148",
   "metadata": {
    "tags": []
   },
   "outputs": [
    {
     "name": "stdout",
     "output_type": "stream",
     "text": [
      " [1] \"X.1\"  \"X.2\"  \"X.3\"  \"X.4\"  \"X.5\"  \"X.6\"  \"X.7\"  \"X.8\"  \"X.9\"  \"X.10\"\n",
      "[11] \"X.11\" \"X.12\" \"X.13\" \"X.14\" \"X.15\" \"X.16\" \"X.17\" \"X.18\" \"X.19\" \"X.20\"\n",
      "[21] \"X.21\" \"X.22\" \"X.23\" \"X.24\" \"X.25\" \"X.26\" \"X.27\" \"X.28\" \"X.29\" \"X.30\"\n"
     ]
    }
   ],
   "source": [
    "print(paste(\"X\", 1:30, sep=\".\"))"
   ]
  },
  {
   "cell_type": "markdown",
   "id": "fe694f41-4b45-4f7c-8c21-a43ad304430d",
   "metadata": {
    "tags": []
   },
   "source": [
    "<hr>\n",
    "<h4>3. msg <- \"KokUk UniVersity NaTuraL SciEnce\"의 모든 문자를 소문자로 변환</h4>"
   ]
  },
  {
   "cell_type": "code",
   "execution_count": 3,
   "id": "a5ea388a-c4ab-420c-9dd4-83a9ddba1423",
   "metadata": {
    "tags": []
   },
   "outputs": [
    {
     "name": "stdout",
     "output_type": "stream",
     "text": [
      "[1] \"kokuk university natural science\"\n"
     ]
    }
   ],
   "source": [
    "msg <- \"KokUk UniVersity NaTuraL SciEnce\"\n",
    "print(tolower(msg))"
   ]
  },
  {
   "cell_type": "markdown",
   "id": "7f473b2f-a0ae-4668-8faf-2d069603c750",
   "metadata": {
    "tags": []
   },
   "source": [
    "<hr>\n",
    "<h4>4. 다음은 최근 4회의 하계 올림픽이 개최된 정보가 저장된 데이터프레임이다. 데이터프레\n",
    "임 olympic을 생성하는 코드</h4>"
   ]
  },
  {
   "cell_type": "code",
   "execution_count": 4,
   "id": "67ad23e3-e9fb-43dc-a218-b6921a4a5366",
   "metadata": {
    "tags": []
   },
   "outputs": [
    {
     "data": {
      "text/html": [
       "<table class=\"dataframe\">\n",
       "<caption>A data.frame: 4 × 3</caption>\n",
       "<thead>\n",
       "\t<tr><th scope=col>no</th><th scope=col>date</th><th scope=col>place</th></tr>\n",
       "\t<tr><th scope=col>&lt;int&gt;</th><th scope=col>&lt;chr&gt;</th><th scope=col>&lt;chr&gt;</th></tr>\n",
       "</thead>\n",
       "<tbody>\n",
       "\t<tr><td>32</td><td>20210723</td><td>동경          </td></tr>\n",
       "\t<tr><td>31</td><td>20160805</td><td>리우데자네이루</td></tr>\n",
       "\t<tr><td>30</td><td>20120727</td><td>런던          </td></tr>\n",
       "\t<tr><td>29</td><td>20080808</td><td>베이징        </td></tr>\n",
       "</tbody>\n",
       "</table>\n"
      ],
      "text/latex": [
       "A data.frame: 4 × 3\n",
       "\\begin{tabular}{lll}\n",
       " no & date & place\\\\\n",
       " <int> & <chr> & <chr>\\\\\n",
       "\\hline\n",
       "\t 32 & 20210723 & 동경          \\\\\n",
       "\t 31 & 20160805 & 리우데자네이루\\\\\n",
       "\t 30 & 20120727 & 런던          \\\\\n",
       "\t 29 & 20080808 & 베이징        \\\\\n",
       "\\end{tabular}\n"
      ],
      "text/markdown": [
       "\n",
       "A data.frame: 4 × 3\n",
       "\n",
       "| no &lt;int&gt; | date &lt;chr&gt; | place &lt;chr&gt; |\n",
       "|---|---|---|\n",
       "| 32 | 20210723 | 동경           |\n",
       "| 31 | 20160805 | 리우데자네이루 |\n",
       "| 30 | 20120727 | 런던           |\n",
       "| 29 | 20080808 | 베이징         |\n",
       "\n"
      ],
      "text/plain": [
       "  no date     place         \n",
       "1 32 20210723 동경          \n",
       "2 31 20160805 리우데자네이루\n",
       "3 30 20120727 런던          \n",
       "4 29 20080808 베이징        "
      ]
     },
     "metadata": {},
     "output_type": "display_data"
    }
   ],
   "source": [
    "no <- 32:29\n",
    "date <- c(\"20210723\", \"20160805\", \"20120727\", \"20080808\")\n",
    "place <- c(\"동경\", \"리우데자네이루\", \"런던\", \"베이징\") \n",
    "olympic <- data.frame(no = no, date = date, place = place)\n",
    "\n",
    "olympic"
   ]
  },
  {
   "cell_type": "markdown",
   "id": "005ee1a7-e196-4fd8-82d7-faab57874012",
   "metadata": {
    "tags": []
   },
   "source": [
    "<hr>\n",
    "<h4>5. 변수 date에서 year, month, day를 각각 추출하여 olympic의 변수로 추가 </h4>"
   ]
  },
  {
   "cell_type": "code",
   "execution_count": 5,
   "id": "0251c41a-1901-4f61-97ef-f6df16ed4223",
   "metadata": {
    "tags": []
   },
   "outputs": [
    {
     "data": {
      "text/html": [
       "<table class=\"dataframe\">\n",
       "<caption>A data.frame: 4 × 6</caption>\n",
       "<thead>\n",
       "\t<tr><th scope=col>no</th><th scope=col>date</th><th scope=col>place</th><th scope=col>year</th><th scope=col>month</th><th scope=col>day</th></tr>\n",
       "\t<tr><th scope=col>&lt;int&gt;</th><th scope=col>&lt;chr&gt;</th><th scope=col>&lt;chr&gt;</th><th scope=col>&lt;chr&gt;</th><th scope=col>&lt;chr&gt;</th><th scope=col>&lt;chr&gt;</th></tr>\n",
       "</thead>\n",
       "<tbody>\n",
       "\t<tr><td>32</td><td>20210723</td><td>동경          </td><td>2021</td><td>07</td><td>23</td></tr>\n",
       "\t<tr><td>31</td><td>20160805</td><td>리우데자네이루</td><td>2016</td><td>08</td><td>05</td></tr>\n",
       "\t<tr><td>30</td><td>20120727</td><td>런던          </td><td>2012</td><td>07</td><td>27</td></tr>\n",
       "\t<tr><td>29</td><td>20080808</td><td>베이징        </td><td>2008</td><td>08</td><td>08</td></tr>\n",
       "</tbody>\n",
       "</table>\n"
      ],
      "text/latex": [
       "A data.frame: 4 × 6\n",
       "\\begin{tabular}{llllll}\n",
       " no & date & place & year & month & day\\\\\n",
       " <int> & <chr> & <chr> & <chr> & <chr> & <chr>\\\\\n",
       "\\hline\n",
       "\t 32 & 20210723 & 동경           & 2021 & 07 & 23\\\\\n",
       "\t 31 & 20160805 & 리우데자네이루 & 2016 & 08 & 05\\\\\n",
       "\t 30 & 20120727 & 런던           & 2012 & 07 & 27\\\\\n",
       "\t 29 & 20080808 & 베이징         & 2008 & 08 & 08\\\\\n",
       "\\end{tabular}\n"
      ],
      "text/markdown": [
       "\n",
       "A data.frame: 4 × 6\n",
       "\n",
       "| no &lt;int&gt; | date &lt;chr&gt; | place &lt;chr&gt; | year &lt;chr&gt; | month &lt;chr&gt; | day &lt;chr&gt; |\n",
       "|---|---|---|---|---|---|\n",
       "| 32 | 20210723 | 동경           | 2021 | 07 | 23 |\n",
       "| 31 | 20160805 | 리우데자네이루 | 2016 | 08 | 05 |\n",
       "| 30 | 20120727 | 런던           | 2012 | 07 | 27 |\n",
       "| 29 | 20080808 | 베이징         | 2008 | 08 | 08 |\n",
       "\n"
      ],
      "text/plain": [
       "  no date     place          year month day\n",
       "1 32 20210723 동경           2021 07    23 \n",
       "2 31 20160805 리우데자네이루 2016 08    05 \n",
       "3 30 20120727 런던           2012 07    27 \n",
       "4 29 20080808 베이징         2008 08    08 "
      ]
     },
     "metadata": {},
     "output_type": "display_data"
    }
   ],
   "source": [
    "olympic$year <- substr(olympic$date, 1, 4)\n",
    "olympic$month <- substr(olympic$date, 5, 6)\n",
    "olympic$day <- substr(olympic$date, 7, 8)\n",
    "\n",
    "olympic"
   ]
  },
  {
   "cell_type": "markdown",
   "id": "6caeb827-ac16-46e2-99c7-7f971b8bf2cd",
   "metadata": {
    "tags": []
   },
   "source": [
    "<hr>\n",
    "<h4>6. 데이터프레임 mtcars의 행이름(row.names)을 변수 model에 저장\n",
    "그리고 mtcars의 행이름(now.names)은 1부터 32로 지정</h4>"
   ]
  },
  {
   "cell_type": "code",
   "execution_count": 6,
   "id": "d827cff5-9e38-4eb9-991c-8a3fe52a7eea",
   "metadata": {
    "tags": []
   },
   "outputs": [
    {
     "data": {
      "text/html": [
       "<table class=\"dataframe\">\n",
       "<caption>A data.frame: 6 × 11</caption>\n",
       "<thead>\n",
       "\t<tr><th></th><th scope=col>mpg</th><th scope=col>cyl</th><th scope=col>disp</th><th scope=col>hp</th><th scope=col>drat</th><th scope=col>wt</th><th scope=col>qsec</th><th scope=col>vs</th><th scope=col>am</th><th scope=col>gear</th><th scope=col>carb</th></tr>\n",
       "\t<tr><th></th><th scope=col>&lt;dbl&gt;</th><th scope=col>&lt;dbl&gt;</th><th scope=col>&lt;dbl&gt;</th><th scope=col>&lt;dbl&gt;</th><th scope=col>&lt;dbl&gt;</th><th scope=col>&lt;dbl&gt;</th><th scope=col>&lt;dbl&gt;</th><th scope=col>&lt;dbl&gt;</th><th scope=col>&lt;dbl&gt;</th><th scope=col>&lt;dbl&gt;</th><th scope=col>&lt;dbl&gt;</th></tr>\n",
       "</thead>\n",
       "<tbody>\n",
       "\t<tr><th scope=row>Mazda RX4</th><td>21.0</td><td>6</td><td>160</td><td>110</td><td>3.90</td><td>2.620</td><td>16.46</td><td>0</td><td>1</td><td>4</td><td>4</td></tr>\n",
       "\t<tr><th scope=row>Mazda RX4 Wag</th><td>21.0</td><td>6</td><td>160</td><td>110</td><td>3.90</td><td>2.875</td><td>17.02</td><td>0</td><td>1</td><td>4</td><td>4</td></tr>\n",
       "\t<tr><th scope=row>Datsun 710</th><td>22.8</td><td>4</td><td>108</td><td> 93</td><td>3.85</td><td>2.320</td><td>18.61</td><td>1</td><td>1</td><td>4</td><td>1</td></tr>\n",
       "\t<tr><th scope=row>Hornet 4 Drive</th><td>21.4</td><td>6</td><td>258</td><td>110</td><td>3.08</td><td>3.215</td><td>19.44</td><td>1</td><td>0</td><td>3</td><td>1</td></tr>\n",
       "\t<tr><th scope=row>Hornet Sportabout</th><td>18.7</td><td>8</td><td>360</td><td>175</td><td>3.15</td><td>3.440</td><td>17.02</td><td>0</td><td>0</td><td>3</td><td>2</td></tr>\n",
       "\t<tr><th scope=row>Valiant</th><td>18.1</td><td>6</td><td>225</td><td>105</td><td>2.76</td><td>3.460</td><td>20.22</td><td>1</td><td>0</td><td>3</td><td>1</td></tr>\n",
       "</tbody>\n",
       "</table>\n"
      ],
      "text/latex": [
       "A data.frame: 6 × 11\n",
       "\\begin{tabular}{r|lllllllllll}\n",
       "  & mpg & cyl & disp & hp & drat & wt & qsec & vs & am & gear & carb\\\\\n",
       "  & <dbl> & <dbl> & <dbl> & <dbl> & <dbl> & <dbl> & <dbl> & <dbl> & <dbl> & <dbl> & <dbl>\\\\\n",
       "\\hline\n",
       "\tMazda RX4 & 21.0 & 6 & 160 & 110 & 3.90 & 2.620 & 16.46 & 0 & 1 & 4 & 4\\\\\n",
       "\tMazda RX4 Wag & 21.0 & 6 & 160 & 110 & 3.90 & 2.875 & 17.02 & 0 & 1 & 4 & 4\\\\\n",
       "\tDatsun 710 & 22.8 & 4 & 108 &  93 & 3.85 & 2.320 & 18.61 & 1 & 1 & 4 & 1\\\\\n",
       "\tHornet 4 Drive & 21.4 & 6 & 258 & 110 & 3.08 & 3.215 & 19.44 & 1 & 0 & 3 & 1\\\\\n",
       "\tHornet Sportabout & 18.7 & 8 & 360 & 175 & 3.15 & 3.440 & 17.02 & 0 & 0 & 3 & 2\\\\\n",
       "\tValiant & 18.1 & 6 & 225 & 105 & 2.76 & 3.460 & 20.22 & 1 & 0 & 3 & 1\\\\\n",
       "\\end{tabular}\n"
      ],
      "text/markdown": [
       "\n",
       "A data.frame: 6 × 11\n",
       "\n",
       "| <!--/--> | mpg &lt;dbl&gt; | cyl &lt;dbl&gt; | disp &lt;dbl&gt; | hp &lt;dbl&gt; | drat &lt;dbl&gt; | wt &lt;dbl&gt; | qsec &lt;dbl&gt; | vs &lt;dbl&gt; | am &lt;dbl&gt; | gear &lt;dbl&gt; | carb &lt;dbl&gt; |\n",
       "|---|---|---|---|---|---|---|---|---|---|---|---|\n",
       "| Mazda RX4 | 21.0 | 6 | 160 | 110 | 3.90 | 2.620 | 16.46 | 0 | 1 | 4 | 4 |\n",
       "| Mazda RX4 Wag | 21.0 | 6 | 160 | 110 | 3.90 | 2.875 | 17.02 | 0 | 1 | 4 | 4 |\n",
       "| Datsun 710 | 22.8 | 4 | 108 |  93 | 3.85 | 2.320 | 18.61 | 1 | 1 | 4 | 1 |\n",
       "| Hornet 4 Drive | 21.4 | 6 | 258 | 110 | 3.08 | 3.215 | 19.44 | 1 | 0 | 3 | 1 |\n",
       "| Hornet Sportabout | 18.7 | 8 | 360 | 175 | 3.15 | 3.440 | 17.02 | 0 | 0 | 3 | 2 |\n",
       "| Valiant | 18.1 | 6 | 225 | 105 | 2.76 | 3.460 | 20.22 | 1 | 0 | 3 | 1 |\n",
       "\n"
      ],
      "text/plain": [
       "                  mpg  cyl disp hp  drat wt    qsec  vs am gear carb\n",
       "Mazda RX4         21.0 6   160  110 3.90 2.620 16.46 0  1  4    4   \n",
       "Mazda RX4 Wag     21.0 6   160  110 3.90 2.875 17.02 0  1  4    4   \n",
       "Datsun 710        22.8 4   108   93 3.85 2.320 18.61 1  1  4    1   \n",
       "Hornet 4 Drive    21.4 6   258  110 3.08 3.215 19.44 1  0  3    1   \n",
       "Hornet Sportabout 18.7 8   360  175 3.15 3.440 17.02 0  0  3    2   \n",
       "Valiant           18.1 6   225  105 2.76 3.460 20.22 1  0  3    1   "
      ]
     },
     "metadata": {},
     "output_type": "display_data"
    }
   ],
   "source": [
    "head(mtcars)\n",
    "\n",
    "library(stringr)"
   ]
  },
  {
   "cell_type": "code",
   "execution_count": 7,
   "id": "16049361-9009-41af-b94b-966d593304c5",
   "metadata": {
    "tags": []
   },
   "outputs": [
    {
     "data": {
      "text/html": [
       "<table class=\"dataframe\">\n",
       "<caption>A data.frame: 32 × 12</caption>\n",
       "<thead>\n",
       "\t<tr><th></th><th scope=col>mpg</th><th scope=col>cyl</th><th scope=col>disp</th><th scope=col>hp</th><th scope=col>drat</th><th scope=col>wt</th><th scope=col>qsec</th><th scope=col>vs</th><th scope=col>am</th><th scope=col>gear</th><th scope=col>carb</th><th scope=col>model</th></tr>\n",
       "\t<tr><th></th><th scope=col>&lt;dbl&gt;</th><th scope=col>&lt;dbl&gt;</th><th scope=col>&lt;dbl&gt;</th><th scope=col>&lt;dbl&gt;</th><th scope=col>&lt;dbl&gt;</th><th scope=col>&lt;dbl&gt;</th><th scope=col>&lt;dbl&gt;</th><th scope=col>&lt;dbl&gt;</th><th scope=col>&lt;dbl&gt;</th><th scope=col>&lt;dbl&gt;</th><th scope=col>&lt;dbl&gt;</th><th scope=col>&lt;chr&gt;</th></tr>\n",
       "</thead>\n",
       "<tbody>\n",
       "\t<tr><th scope=row>1</th><td>21.0</td><td>6</td><td>160.0</td><td>110</td><td>3.90</td><td>2.620</td><td>16.46</td><td>0</td><td>1</td><td>4</td><td>4</td><td>Mazda RX4          </td></tr>\n",
       "\t<tr><th scope=row>2</th><td>21.0</td><td>6</td><td>160.0</td><td>110</td><td>3.90</td><td>2.875</td><td>17.02</td><td>0</td><td>1</td><td>4</td><td>4</td><td>Mazda RX4 Wag      </td></tr>\n",
       "\t<tr><th scope=row>3</th><td>22.8</td><td>4</td><td>108.0</td><td> 93</td><td>3.85</td><td>2.320</td><td>18.61</td><td>1</td><td>1</td><td>4</td><td>1</td><td>Datsun 710         </td></tr>\n",
       "\t<tr><th scope=row>4</th><td>21.4</td><td>6</td><td>258.0</td><td>110</td><td>3.08</td><td>3.215</td><td>19.44</td><td>1</td><td>0</td><td>3</td><td>1</td><td>Hornet 4 Drive     </td></tr>\n",
       "\t<tr><th scope=row>5</th><td>18.7</td><td>8</td><td>360.0</td><td>175</td><td>3.15</td><td>3.440</td><td>17.02</td><td>0</td><td>0</td><td>3</td><td>2</td><td>Hornet Sportabout  </td></tr>\n",
       "\t<tr><th scope=row>6</th><td>18.1</td><td>6</td><td>225.0</td><td>105</td><td>2.76</td><td>3.460</td><td>20.22</td><td>1</td><td>0</td><td>3</td><td>1</td><td>Valiant            </td></tr>\n",
       "\t<tr><th scope=row>7</th><td>14.3</td><td>8</td><td>360.0</td><td>245</td><td>3.21</td><td>3.570</td><td>15.84</td><td>0</td><td>0</td><td>3</td><td>4</td><td>Duster 360         </td></tr>\n",
       "\t<tr><th scope=row>8</th><td>24.4</td><td>4</td><td>146.7</td><td> 62</td><td>3.69</td><td>3.190</td><td>20.00</td><td>1</td><td>0</td><td>4</td><td>2</td><td>Merc 240D          </td></tr>\n",
       "\t<tr><th scope=row>9</th><td>22.8</td><td>4</td><td>140.8</td><td> 95</td><td>3.92</td><td>3.150</td><td>22.90</td><td>1</td><td>0</td><td>4</td><td>2</td><td>Merc 230           </td></tr>\n",
       "\t<tr><th scope=row>10</th><td>19.2</td><td>6</td><td>167.6</td><td>123</td><td>3.92</td><td>3.440</td><td>18.30</td><td>1</td><td>0</td><td>4</td><td>4</td><td>Merc 280           </td></tr>\n",
       "\t<tr><th scope=row>11</th><td>17.8</td><td>6</td><td>167.6</td><td>123</td><td>3.92</td><td>3.440</td><td>18.90</td><td>1</td><td>0</td><td>4</td><td>4</td><td>Merc 280C          </td></tr>\n",
       "\t<tr><th scope=row>12</th><td>16.4</td><td>8</td><td>275.8</td><td>180</td><td>3.07</td><td>4.070</td><td>17.40</td><td>0</td><td>0</td><td>3</td><td>3</td><td>Merc 450SE         </td></tr>\n",
       "\t<tr><th scope=row>13</th><td>17.3</td><td>8</td><td>275.8</td><td>180</td><td>3.07</td><td>3.730</td><td>17.60</td><td>0</td><td>0</td><td>3</td><td>3</td><td>Merc 450SL         </td></tr>\n",
       "\t<tr><th scope=row>14</th><td>15.2</td><td>8</td><td>275.8</td><td>180</td><td>3.07</td><td>3.780</td><td>18.00</td><td>0</td><td>0</td><td>3</td><td>3</td><td>Merc 450SLC        </td></tr>\n",
       "\t<tr><th scope=row>15</th><td>10.4</td><td>8</td><td>472.0</td><td>205</td><td>2.93</td><td>5.250</td><td>17.98</td><td>0</td><td>0</td><td>3</td><td>4</td><td>Cadillac Fleetwood </td></tr>\n",
       "\t<tr><th scope=row>16</th><td>10.4</td><td>8</td><td>460.0</td><td>215</td><td>3.00</td><td>5.424</td><td>17.82</td><td>0</td><td>0</td><td>3</td><td>4</td><td>Lincoln Continental</td></tr>\n",
       "\t<tr><th scope=row>17</th><td>14.7</td><td>8</td><td>440.0</td><td>230</td><td>3.23</td><td>5.345</td><td>17.42</td><td>0</td><td>0</td><td>3</td><td>4</td><td>Chrysler Imperial  </td></tr>\n",
       "\t<tr><th scope=row>18</th><td>32.4</td><td>4</td><td> 78.7</td><td> 66</td><td>4.08</td><td>2.200</td><td>19.47</td><td>1</td><td>1</td><td>4</td><td>1</td><td>Fiat 128           </td></tr>\n",
       "\t<tr><th scope=row>19</th><td>30.4</td><td>4</td><td> 75.7</td><td> 52</td><td>4.93</td><td>1.615</td><td>18.52</td><td>1</td><td>1</td><td>4</td><td>2</td><td>Honda Civic        </td></tr>\n",
       "\t<tr><th scope=row>20</th><td>33.9</td><td>4</td><td> 71.1</td><td> 65</td><td>4.22</td><td>1.835</td><td>19.90</td><td>1</td><td>1</td><td>4</td><td>1</td><td>Toyota Corolla     </td></tr>\n",
       "\t<tr><th scope=row>21</th><td>21.5</td><td>4</td><td>120.1</td><td> 97</td><td>3.70</td><td>2.465</td><td>20.01</td><td>1</td><td>0</td><td>3</td><td>1</td><td>Toyota Corona      </td></tr>\n",
       "\t<tr><th scope=row>22</th><td>15.5</td><td>8</td><td>318.0</td><td>150</td><td>2.76</td><td>3.520</td><td>16.87</td><td>0</td><td>0</td><td>3</td><td>2</td><td>Dodge Challenger   </td></tr>\n",
       "\t<tr><th scope=row>23</th><td>15.2</td><td>8</td><td>304.0</td><td>150</td><td>3.15</td><td>3.435</td><td>17.30</td><td>0</td><td>0</td><td>3</td><td>2</td><td>AMC Javelin        </td></tr>\n",
       "\t<tr><th scope=row>24</th><td>13.3</td><td>8</td><td>350.0</td><td>245</td><td>3.73</td><td>3.840</td><td>15.41</td><td>0</td><td>0</td><td>3</td><td>4</td><td>Camaro Z28         </td></tr>\n",
       "\t<tr><th scope=row>25</th><td>19.2</td><td>8</td><td>400.0</td><td>175</td><td>3.08</td><td>3.845</td><td>17.05</td><td>0</td><td>0</td><td>3</td><td>2</td><td>Pontiac Firebird   </td></tr>\n",
       "\t<tr><th scope=row>26</th><td>27.3</td><td>4</td><td> 79.0</td><td> 66</td><td>4.08</td><td>1.935</td><td>18.90</td><td>1</td><td>1</td><td>4</td><td>1</td><td>Fiat X1-9          </td></tr>\n",
       "\t<tr><th scope=row>27</th><td>26.0</td><td>4</td><td>120.3</td><td> 91</td><td>4.43</td><td>2.140</td><td>16.70</td><td>0</td><td>1</td><td>5</td><td>2</td><td>Porsche 914-2      </td></tr>\n",
       "\t<tr><th scope=row>28</th><td>30.4</td><td>4</td><td> 95.1</td><td>113</td><td>3.77</td><td>1.513</td><td>16.90</td><td>1</td><td>1</td><td>5</td><td>2</td><td>Lotus Europa       </td></tr>\n",
       "\t<tr><th scope=row>29</th><td>15.8</td><td>8</td><td>351.0</td><td>264</td><td>4.22</td><td>3.170</td><td>14.50</td><td>0</td><td>1</td><td>5</td><td>4</td><td>Ford Pantera L     </td></tr>\n",
       "\t<tr><th scope=row>30</th><td>19.7</td><td>6</td><td>145.0</td><td>175</td><td>3.62</td><td>2.770</td><td>15.50</td><td>0</td><td>1</td><td>5</td><td>6</td><td>Ferrari Dino       </td></tr>\n",
       "\t<tr><th scope=row>31</th><td>15.0</td><td>8</td><td>301.0</td><td>335</td><td>3.54</td><td>3.570</td><td>14.60</td><td>0</td><td>1</td><td>5</td><td>8</td><td>Maserati Bora      </td></tr>\n",
       "\t<tr><th scope=row>32</th><td>21.4</td><td>4</td><td>121.0</td><td>109</td><td>4.11</td><td>2.780</td><td>18.60</td><td>1</td><td>1</td><td>4</td><td>2</td><td>Volvo 142E         </td></tr>\n",
       "</tbody>\n",
       "</table>\n"
      ],
      "text/latex": [
       "A data.frame: 32 × 12\n",
       "\\begin{tabular}{r|llllllllllll}\n",
       "  & mpg & cyl & disp & hp & drat & wt & qsec & vs & am & gear & carb & model\\\\\n",
       "  & <dbl> & <dbl> & <dbl> & <dbl> & <dbl> & <dbl> & <dbl> & <dbl> & <dbl> & <dbl> & <dbl> & <chr>\\\\\n",
       "\\hline\n",
       "\t1 & 21.0 & 6 & 160.0 & 110 & 3.90 & 2.620 & 16.46 & 0 & 1 & 4 & 4 & Mazda RX4          \\\\\n",
       "\t2 & 21.0 & 6 & 160.0 & 110 & 3.90 & 2.875 & 17.02 & 0 & 1 & 4 & 4 & Mazda RX4 Wag      \\\\\n",
       "\t3 & 22.8 & 4 & 108.0 &  93 & 3.85 & 2.320 & 18.61 & 1 & 1 & 4 & 1 & Datsun 710         \\\\\n",
       "\t4 & 21.4 & 6 & 258.0 & 110 & 3.08 & 3.215 & 19.44 & 1 & 0 & 3 & 1 & Hornet 4 Drive     \\\\\n",
       "\t5 & 18.7 & 8 & 360.0 & 175 & 3.15 & 3.440 & 17.02 & 0 & 0 & 3 & 2 & Hornet Sportabout  \\\\\n",
       "\t6 & 18.1 & 6 & 225.0 & 105 & 2.76 & 3.460 & 20.22 & 1 & 0 & 3 & 1 & Valiant            \\\\\n",
       "\t7 & 14.3 & 8 & 360.0 & 245 & 3.21 & 3.570 & 15.84 & 0 & 0 & 3 & 4 & Duster 360         \\\\\n",
       "\t8 & 24.4 & 4 & 146.7 &  62 & 3.69 & 3.190 & 20.00 & 1 & 0 & 4 & 2 & Merc 240D          \\\\\n",
       "\t9 & 22.8 & 4 & 140.8 &  95 & 3.92 & 3.150 & 22.90 & 1 & 0 & 4 & 2 & Merc 230           \\\\\n",
       "\t10 & 19.2 & 6 & 167.6 & 123 & 3.92 & 3.440 & 18.30 & 1 & 0 & 4 & 4 & Merc 280           \\\\\n",
       "\t11 & 17.8 & 6 & 167.6 & 123 & 3.92 & 3.440 & 18.90 & 1 & 0 & 4 & 4 & Merc 280C          \\\\\n",
       "\t12 & 16.4 & 8 & 275.8 & 180 & 3.07 & 4.070 & 17.40 & 0 & 0 & 3 & 3 & Merc 450SE         \\\\\n",
       "\t13 & 17.3 & 8 & 275.8 & 180 & 3.07 & 3.730 & 17.60 & 0 & 0 & 3 & 3 & Merc 450SL         \\\\\n",
       "\t14 & 15.2 & 8 & 275.8 & 180 & 3.07 & 3.780 & 18.00 & 0 & 0 & 3 & 3 & Merc 450SLC        \\\\\n",
       "\t15 & 10.4 & 8 & 472.0 & 205 & 2.93 & 5.250 & 17.98 & 0 & 0 & 3 & 4 & Cadillac Fleetwood \\\\\n",
       "\t16 & 10.4 & 8 & 460.0 & 215 & 3.00 & 5.424 & 17.82 & 0 & 0 & 3 & 4 & Lincoln Continental\\\\\n",
       "\t17 & 14.7 & 8 & 440.0 & 230 & 3.23 & 5.345 & 17.42 & 0 & 0 & 3 & 4 & Chrysler Imperial  \\\\\n",
       "\t18 & 32.4 & 4 &  78.7 &  66 & 4.08 & 2.200 & 19.47 & 1 & 1 & 4 & 1 & Fiat 128           \\\\\n",
       "\t19 & 30.4 & 4 &  75.7 &  52 & 4.93 & 1.615 & 18.52 & 1 & 1 & 4 & 2 & Honda Civic        \\\\\n",
       "\t20 & 33.9 & 4 &  71.1 &  65 & 4.22 & 1.835 & 19.90 & 1 & 1 & 4 & 1 & Toyota Corolla     \\\\\n",
       "\t21 & 21.5 & 4 & 120.1 &  97 & 3.70 & 2.465 & 20.01 & 1 & 0 & 3 & 1 & Toyota Corona      \\\\\n",
       "\t22 & 15.5 & 8 & 318.0 & 150 & 2.76 & 3.520 & 16.87 & 0 & 0 & 3 & 2 & Dodge Challenger   \\\\\n",
       "\t23 & 15.2 & 8 & 304.0 & 150 & 3.15 & 3.435 & 17.30 & 0 & 0 & 3 & 2 & AMC Javelin        \\\\\n",
       "\t24 & 13.3 & 8 & 350.0 & 245 & 3.73 & 3.840 & 15.41 & 0 & 0 & 3 & 4 & Camaro Z28         \\\\\n",
       "\t25 & 19.2 & 8 & 400.0 & 175 & 3.08 & 3.845 & 17.05 & 0 & 0 & 3 & 2 & Pontiac Firebird   \\\\\n",
       "\t26 & 27.3 & 4 &  79.0 &  66 & 4.08 & 1.935 & 18.90 & 1 & 1 & 4 & 1 & Fiat X1-9          \\\\\n",
       "\t27 & 26.0 & 4 & 120.3 &  91 & 4.43 & 2.140 & 16.70 & 0 & 1 & 5 & 2 & Porsche 914-2      \\\\\n",
       "\t28 & 30.4 & 4 &  95.1 & 113 & 3.77 & 1.513 & 16.90 & 1 & 1 & 5 & 2 & Lotus Europa       \\\\\n",
       "\t29 & 15.8 & 8 & 351.0 & 264 & 4.22 & 3.170 & 14.50 & 0 & 1 & 5 & 4 & Ford Pantera L     \\\\\n",
       "\t30 & 19.7 & 6 & 145.0 & 175 & 3.62 & 2.770 & 15.50 & 0 & 1 & 5 & 6 & Ferrari Dino       \\\\\n",
       "\t31 & 15.0 & 8 & 301.0 & 335 & 3.54 & 3.570 & 14.60 & 0 & 1 & 5 & 8 & Maserati Bora      \\\\\n",
       "\t32 & 21.4 & 4 & 121.0 & 109 & 4.11 & 2.780 & 18.60 & 1 & 1 & 4 & 2 & Volvo 142E         \\\\\n",
       "\\end{tabular}\n"
      ],
      "text/markdown": [
       "\n",
       "A data.frame: 32 × 12\n",
       "\n",
       "| <!--/--> | mpg &lt;dbl&gt; | cyl &lt;dbl&gt; | disp &lt;dbl&gt; | hp &lt;dbl&gt; | drat &lt;dbl&gt; | wt &lt;dbl&gt; | qsec &lt;dbl&gt; | vs &lt;dbl&gt; | am &lt;dbl&gt; | gear &lt;dbl&gt; | carb &lt;dbl&gt; | model &lt;chr&gt; |\n",
       "|---|---|---|---|---|---|---|---|---|---|---|---|---|\n",
       "| 1 | 21.0 | 6 | 160.0 | 110 | 3.90 | 2.620 | 16.46 | 0 | 1 | 4 | 4 | Mazda RX4           |\n",
       "| 2 | 21.0 | 6 | 160.0 | 110 | 3.90 | 2.875 | 17.02 | 0 | 1 | 4 | 4 | Mazda RX4 Wag       |\n",
       "| 3 | 22.8 | 4 | 108.0 |  93 | 3.85 | 2.320 | 18.61 | 1 | 1 | 4 | 1 | Datsun 710          |\n",
       "| 4 | 21.4 | 6 | 258.0 | 110 | 3.08 | 3.215 | 19.44 | 1 | 0 | 3 | 1 | Hornet 4 Drive      |\n",
       "| 5 | 18.7 | 8 | 360.0 | 175 | 3.15 | 3.440 | 17.02 | 0 | 0 | 3 | 2 | Hornet Sportabout   |\n",
       "| 6 | 18.1 | 6 | 225.0 | 105 | 2.76 | 3.460 | 20.22 | 1 | 0 | 3 | 1 | Valiant             |\n",
       "| 7 | 14.3 | 8 | 360.0 | 245 | 3.21 | 3.570 | 15.84 | 0 | 0 | 3 | 4 | Duster 360          |\n",
       "| 8 | 24.4 | 4 | 146.7 |  62 | 3.69 | 3.190 | 20.00 | 1 | 0 | 4 | 2 | Merc 240D           |\n",
       "| 9 | 22.8 | 4 | 140.8 |  95 | 3.92 | 3.150 | 22.90 | 1 | 0 | 4 | 2 | Merc 230            |\n",
       "| 10 | 19.2 | 6 | 167.6 | 123 | 3.92 | 3.440 | 18.30 | 1 | 0 | 4 | 4 | Merc 280            |\n",
       "| 11 | 17.8 | 6 | 167.6 | 123 | 3.92 | 3.440 | 18.90 | 1 | 0 | 4 | 4 | Merc 280C           |\n",
       "| 12 | 16.4 | 8 | 275.8 | 180 | 3.07 | 4.070 | 17.40 | 0 | 0 | 3 | 3 | Merc 450SE          |\n",
       "| 13 | 17.3 | 8 | 275.8 | 180 | 3.07 | 3.730 | 17.60 | 0 | 0 | 3 | 3 | Merc 450SL          |\n",
       "| 14 | 15.2 | 8 | 275.8 | 180 | 3.07 | 3.780 | 18.00 | 0 | 0 | 3 | 3 | Merc 450SLC         |\n",
       "| 15 | 10.4 | 8 | 472.0 | 205 | 2.93 | 5.250 | 17.98 | 0 | 0 | 3 | 4 | Cadillac Fleetwood  |\n",
       "| 16 | 10.4 | 8 | 460.0 | 215 | 3.00 | 5.424 | 17.82 | 0 | 0 | 3 | 4 | Lincoln Continental |\n",
       "| 17 | 14.7 | 8 | 440.0 | 230 | 3.23 | 5.345 | 17.42 | 0 | 0 | 3 | 4 | Chrysler Imperial   |\n",
       "| 18 | 32.4 | 4 |  78.7 |  66 | 4.08 | 2.200 | 19.47 | 1 | 1 | 4 | 1 | Fiat 128            |\n",
       "| 19 | 30.4 | 4 |  75.7 |  52 | 4.93 | 1.615 | 18.52 | 1 | 1 | 4 | 2 | Honda Civic         |\n",
       "| 20 | 33.9 | 4 |  71.1 |  65 | 4.22 | 1.835 | 19.90 | 1 | 1 | 4 | 1 | Toyota Corolla      |\n",
       "| 21 | 21.5 | 4 | 120.1 |  97 | 3.70 | 2.465 | 20.01 | 1 | 0 | 3 | 1 | Toyota Corona       |\n",
       "| 22 | 15.5 | 8 | 318.0 | 150 | 2.76 | 3.520 | 16.87 | 0 | 0 | 3 | 2 | Dodge Challenger    |\n",
       "| 23 | 15.2 | 8 | 304.0 | 150 | 3.15 | 3.435 | 17.30 | 0 | 0 | 3 | 2 | AMC Javelin         |\n",
       "| 24 | 13.3 | 8 | 350.0 | 245 | 3.73 | 3.840 | 15.41 | 0 | 0 | 3 | 4 | Camaro Z28          |\n",
       "| 25 | 19.2 | 8 | 400.0 | 175 | 3.08 | 3.845 | 17.05 | 0 | 0 | 3 | 2 | Pontiac Firebird    |\n",
       "| 26 | 27.3 | 4 |  79.0 |  66 | 4.08 | 1.935 | 18.90 | 1 | 1 | 4 | 1 | Fiat X1-9           |\n",
       "| 27 | 26.0 | 4 | 120.3 |  91 | 4.43 | 2.140 | 16.70 | 0 | 1 | 5 | 2 | Porsche 914-2       |\n",
       "| 28 | 30.4 | 4 |  95.1 | 113 | 3.77 | 1.513 | 16.90 | 1 | 1 | 5 | 2 | Lotus Europa        |\n",
       "| 29 | 15.8 | 8 | 351.0 | 264 | 4.22 | 3.170 | 14.50 | 0 | 1 | 5 | 4 | Ford Pantera L      |\n",
       "| 30 | 19.7 | 6 | 145.0 | 175 | 3.62 | 2.770 | 15.50 | 0 | 1 | 5 | 6 | Ferrari Dino        |\n",
       "| 31 | 15.0 | 8 | 301.0 | 335 | 3.54 | 3.570 | 14.60 | 0 | 1 | 5 | 8 | Maserati Bora       |\n",
       "| 32 | 21.4 | 4 | 121.0 | 109 | 4.11 | 2.780 | 18.60 | 1 | 1 | 4 | 2 | Volvo 142E          |\n",
       "\n"
      ],
      "text/plain": [
       "   mpg  cyl disp  hp  drat wt    qsec  vs am gear carb model              \n",
       "1  21.0 6   160.0 110 3.90 2.620 16.46 0  1  4    4    Mazda RX4          \n",
       "2  21.0 6   160.0 110 3.90 2.875 17.02 0  1  4    4    Mazda RX4 Wag      \n",
       "3  22.8 4   108.0  93 3.85 2.320 18.61 1  1  4    1    Datsun 710         \n",
       "4  21.4 6   258.0 110 3.08 3.215 19.44 1  0  3    1    Hornet 4 Drive     \n",
       "5  18.7 8   360.0 175 3.15 3.440 17.02 0  0  3    2    Hornet Sportabout  \n",
       "6  18.1 6   225.0 105 2.76 3.460 20.22 1  0  3    1    Valiant            \n",
       "7  14.3 8   360.0 245 3.21 3.570 15.84 0  0  3    4    Duster 360         \n",
       "8  24.4 4   146.7  62 3.69 3.190 20.00 1  0  4    2    Merc 240D          \n",
       "9  22.8 4   140.8  95 3.92 3.150 22.90 1  0  4    2    Merc 230           \n",
       "10 19.2 6   167.6 123 3.92 3.440 18.30 1  0  4    4    Merc 280           \n",
       "11 17.8 6   167.6 123 3.92 3.440 18.90 1  0  4    4    Merc 280C          \n",
       "12 16.4 8   275.8 180 3.07 4.070 17.40 0  0  3    3    Merc 450SE         \n",
       "13 17.3 8   275.8 180 3.07 3.730 17.60 0  0  3    3    Merc 450SL         \n",
       "14 15.2 8   275.8 180 3.07 3.780 18.00 0  0  3    3    Merc 450SLC        \n",
       "15 10.4 8   472.0 205 2.93 5.250 17.98 0  0  3    4    Cadillac Fleetwood \n",
       "16 10.4 8   460.0 215 3.00 5.424 17.82 0  0  3    4    Lincoln Continental\n",
       "17 14.7 8   440.0 230 3.23 5.345 17.42 0  0  3    4    Chrysler Imperial  \n",
       "18 32.4 4    78.7  66 4.08 2.200 19.47 1  1  4    1    Fiat 128           \n",
       "19 30.4 4    75.7  52 4.93 1.615 18.52 1  1  4    2    Honda Civic        \n",
       "20 33.9 4    71.1  65 4.22 1.835 19.90 1  1  4    1    Toyota Corolla     \n",
       "21 21.5 4   120.1  97 3.70 2.465 20.01 1  0  3    1    Toyota Corona      \n",
       "22 15.5 8   318.0 150 2.76 3.520 16.87 0  0  3    2    Dodge Challenger   \n",
       "23 15.2 8   304.0 150 3.15 3.435 17.30 0  0  3    2    AMC Javelin        \n",
       "24 13.3 8   350.0 245 3.73 3.840 15.41 0  0  3    4    Camaro Z28         \n",
       "25 19.2 8   400.0 175 3.08 3.845 17.05 0  0  3    2    Pontiac Firebird   \n",
       "26 27.3 4    79.0  66 4.08 1.935 18.90 1  1  4    1    Fiat X1-9          \n",
       "27 26.0 4   120.3  91 4.43 2.140 16.70 0  1  5    2    Porsche 914-2      \n",
       "28 30.4 4    95.1 113 3.77 1.513 16.90 1  1  5    2    Lotus Europa       \n",
       "29 15.8 8   351.0 264 4.22 3.170 14.50 0  1  5    4    Ford Pantera L     \n",
       "30 19.7 6   145.0 175 3.62 2.770 15.50 0  1  5    6    Ferrari Dino       \n",
       "31 15.0 8   301.0 335 3.54 3.570 14.60 0  1  5    8    Maserati Bora      \n",
       "32 21.4 4   121.0 109 4.11 2.780 18.60 1  1  4    2    Volvo 142E         "
      ]
     },
     "metadata": {},
     "output_type": "display_data"
    }
   ],
   "source": [
    "mtcars$model <- row.names(mtcars)\n",
    "row.names(mtcars) <- 1:32\n",
    "mtcars"
   ]
  },
  {
   "cell_type": "markdown",
   "id": "b7c9ba55-9ab8-4901-94ae-76b598dbac3f",
   "metadata": {
    "tags": []
   },
   "source": [
    "<hr>\n",
    "<h4>7. model에 대문자 “S”를 포함하고 있는 행만 검색하고 출력</h4>"
   ]
  },
  {
   "cell_type": "code",
   "execution_count": 8,
   "id": "b50bc9e5-94e6-4dcc-8c28-5b8989cca4c8",
   "metadata": {
    "tags": []
   },
   "outputs": [
    {
     "data": {
      "text/html": [
       "<table class=\"dataframe\">\n",
       "<caption>A data.frame: 4 × 12</caption>\n",
       "<thead>\n",
       "\t<tr><th></th><th scope=col>mpg</th><th scope=col>cyl</th><th scope=col>disp</th><th scope=col>hp</th><th scope=col>drat</th><th scope=col>wt</th><th scope=col>qsec</th><th scope=col>vs</th><th scope=col>am</th><th scope=col>gear</th><th scope=col>carb</th><th scope=col>model</th></tr>\n",
       "\t<tr><th></th><th scope=col>&lt;dbl&gt;</th><th scope=col>&lt;dbl&gt;</th><th scope=col>&lt;dbl&gt;</th><th scope=col>&lt;dbl&gt;</th><th scope=col>&lt;dbl&gt;</th><th scope=col>&lt;dbl&gt;</th><th scope=col>&lt;dbl&gt;</th><th scope=col>&lt;dbl&gt;</th><th scope=col>&lt;dbl&gt;</th><th scope=col>&lt;dbl&gt;</th><th scope=col>&lt;dbl&gt;</th><th scope=col>&lt;chr&gt;</th></tr>\n",
       "</thead>\n",
       "<tbody>\n",
       "\t<tr><th scope=row>5</th><td>18.7</td><td>8</td><td>360.0</td><td>175</td><td>3.15</td><td>3.44</td><td>17.02</td><td>0</td><td>0</td><td>3</td><td>2</td><td>Hornet Sportabout</td></tr>\n",
       "\t<tr><th scope=row>12</th><td>16.4</td><td>8</td><td>275.8</td><td>180</td><td>3.07</td><td>4.07</td><td>17.40</td><td>0</td><td>0</td><td>3</td><td>3</td><td>Merc 450SE       </td></tr>\n",
       "\t<tr><th scope=row>13</th><td>17.3</td><td>8</td><td>275.8</td><td>180</td><td>3.07</td><td>3.73</td><td>17.60</td><td>0</td><td>0</td><td>3</td><td>3</td><td>Merc 450SL       </td></tr>\n",
       "\t<tr><th scope=row>14</th><td>15.2</td><td>8</td><td>275.8</td><td>180</td><td>3.07</td><td>3.78</td><td>18.00</td><td>0</td><td>0</td><td>3</td><td>3</td><td>Merc 450SLC      </td></tr>\n",
       "</tbody>\n",
       "</table>\n"
      ],
      "text/latex": [
       "A data.frame: 4 × 12\n",
       "\\begin{tabular}{r|llllllllllll}\n",
       "  & mpg & cyl & disp & hp & drat & wt & qsec & vs & am & gear & carb & model\\\\\n",
       "  & <dbl> & <dbl> & <dbl> & <dbl> & <dbl> & <dbl> & <dbl> & <dbl> & <dbl> & <dbl> & <dbl> & <chr>\\\\\n",
       "\\hline\n",
       "\t5 & 18.7 & 8 & 360.0 & 175 & 3.15 & 3.44 & 17.02 & 0 & 0 & 3 & 2 & Hornet Sportabout\\\\\n",
       "\t12 & 16.4 & 8 & 275.8 & 180 & 3.07 & 4.07 & 17.40 & 0 & 0 & 3 & 3 & Merc 450SE       \\\\\n",
       "\t13 & 17.3 & 8 & 275.8 & 180 & 3.07 & 3.73 & 17.60 & 0 & 0 & 3 & 3 & Merc 450SL       \\\\\n",
       "\t14 & 15.2 & 8 & 275.8 & 180 & 3.07 & 3.78 & 18.00 & 0 & 0 & 3 & 3 & Merc 450SLC      \\\\\n",
       "\\end{tabular}\n"
      ],
      "text/markdown": [
       "\n",
       "A data.frame: 4 × 12\n",
       "\n",
       "| <!--/--> | mpg &lt;dbl&gt; | cyl &lt;dbl&gt; | disp &lt;dbl&gt; | hp &lt;dbl&gt; | drat &lt;dbl&gt; | wt &lt;dbl&gt; | qsec &lt;dbl&gt; | vs &lt;dbl&gt; | am &lt;dbl&gt; | gear &lt;dbl&gt; | carb &lt;dbl&gt; | model &lt;chr&gt; |\n",
       "|---|---|---|---|---|---|---|---|---|---|---|---|---|\n",
       "| 5 | 18.7 | 8 | 360.0 | 175 | 3.15 | 3.44 | 17.02 | 0 | 0 | 3 | 2 | Hornet Sportabout |\n",
       "| 12 | 16.4 | 8 | 275.8 | 180 | 3.07 | 4.07 | 17.40 | 0 | 0 | 3 | 3 | Merc 450SE        |\n",
       "| 13 | 17.3 | 8 | 275.8 | 180 | 3.07 | 3.73 | 17.60 | 0 | 0 | 3 | 3 | Merc 450SL        |\n",
       "| 14 | 15.2 | 8 | 275.8 | 180 | 3.07 | 3.78 | 18.00 | 0 | 0 | 3 | 3 | Merc 450SLC       |\n",
       "\n"
      ],
      "text/plain": [
       "   mpg  cyl disp  hp  drat wt   qsec  vs am gear carb model            \n",
       "5  18.7 8   360.0 175 3.15 3.44 17.02 0  0  3    2    Hornet Sportabout\n",
       "12 16.4 8   275.8 180 3.07 4.07 17.40 0  0  3    3    Merc 450SE       \n",
       "13 17.3 8   275.8 180 3.07 3.73 17.60 0  0  3    3    Merc 450SL       \n",
       "14 15.2 8   275.8 180 3.07 3.78 18.00 0  0  3    3    Merc 450SLC      "
      ]
     },
     "metadata": {},
     "output_type": "display_data"
    }
   ],
   "source": [
    "idx <- grep(\"S\", mtcars$model)\n",
    "\n",
    "mtcars[idx, ]"
   ]
  },
  {
   "cell_type": "markdown",
   "id": "57044c51-ba3e-4a81-bd40-a9ad94953fef",
   "metadata": {
    "tags": []
   },
   "source": [
    "<hr>\n",
    "<h4>8.  대소문자 구별없이 “S” 또는 “s”를 포함하고 있는 행을 검색하고 출력</h4>"
   ]
  },
  {
   "cell_type": "code",
   "execution_count": 9,
   "id": "1098694c-6d51-4183-b2e6-f151f79b64e8",
   "metadata": {
    "tags": []
   },
   "outputs": [
    {
     "data": {
      "text/html": [
       "<table class=\"dataframe\">\n",
       "<caption>A data.frame: 10 × 12</caption>\n",
       "<thead>\n",
       "\t<tr><th></th><th scope=col>mpg</th><th scope=col>cyl</th><th scope=col>disp</th><th scope=col>hp</th><th scope=col>drat</th><th scope=col>wt</th><th scope=col>qsec</th><th scope=col>vs</th><th scope=col>am</th><th scope=col>gear</th><th scope=col>carb</th><th scope=col>model</th></tr>\n",
       "\t<tr><th></th><th scope=col>&lt;dbl&gt;</th><th scope=col>&lt;dbl&gt;</th><th scope=col>&lt;dbl&gt;</th><th scope=col>&lt;dbl&gt;</th><th scope=col>&lt;dbl&gt;</th><th scope=col>&lt;dbl&gt;</th><th scope=col>&lt;dbl&gt;</th><th scope=col>&lt;dbl&gt;</th><th scope=col>&lt;dbl&gt;</th><th scope=col>&lt;dbl&gt;</th><th scope=col>&lt;dbl&gt;</th><th scope=col>&lt;chr&gt;</th></tr>\n",
       "</thead>\n",
       "<tbody>\n",
       "\t<tr><th scope=row>3</th><td>22.8</td><td>4</td><td>108.0</td><td> 93</td><td>3.85</td><td>2.320</td><td>18.61</td><td>1</td><td>1</td><td>4</td><td>1</td><td>Datsun 710       </td></tr>\n",
       "\t<tr><th scope=row>5</th><td>18.7</td><td>8</td><td>360.0</td><td>175</td><td>3.15</td><td>3.440</td><td>17.02</td><td>0</td><td>0</td><td>3</td><td>2</td><td>Hornet Sportabout</td></tr>\n",
       "\t<tr><th scope=row>7</th><td>14.3</td><td>8</td><td>360.0</td><td>245</td><td>3.21</td><td>3.570</td><td>15.84</td><td>0</td><td>0</td><td>3</td><td>4</td><td>Duster 360       </td></tr>\n",
       "\t<tr><th scope=row>12</th><td>16.4</td><td>8</td><td>275.8</td><td>180</td><td>3.07</td><td>4.070</td><td>17.40</td><td>0</td><td>0</td><td>3</td><td>3</td><td>Merc 450SE       </td></tr>\n",
       "\t<tr><th scope=row>13</th><td>17.3</td><td>8</td><td>275.8</td><td>180</td><td>3.07</td><td>3.730</td><td>17.60</td><td>0</td><td>0</td><td>3</td><td>3</td><td>Merc 450SL       </td></tr>\n",
       "\t<tr><th scope=row>14</th><td>15.2</td><td>8</td><td>275.8</td><td>180</td><td>3.07</td><td>3.780</td><td>18.00</td><td>0</td><td>0</td><td>3</td><td>3</td><td>Merc 450SLC      </td></tr>\n",
       "\t<tr><th scope=row>17</th><td>14.7</td><td>8</td><td>440.0</td><td>230</td><td>3.23</td><td>5.345</td><td>17.42</td><td>0</td><td>0</td><td>3</td><td>4</td><td>Chrysler Imperial</td></tr>\n",
       "\t<tr><th scope=row>27</th><td>26.0</td><td>4</td><td>120.3</td><td> 91</td><td>4.43</td><td>2.140</td><td>16.70</td><td>0</td><td>1</td><td>5</td><td>2</td><td>Porsche 914-2    </td></tr>\n",
       "\t<tr><th scope=row>28</th><td>30.4</td><td>4</td><td> 95.1</td><td>113</td><td>3.77</td><td>1.513</td><td>16.90</td><td>1</td><td>1</td><td>5</td><td>2</td><td>Lotus Europa     </td></tr>\n",
       "\t<tr><th scope=row>31</th><td>15.0</td><td>8</td><td>301.0</td><td>335</td><td>3.54</td><td>3.570</td><td>14.60</td><td>0</td><td>1</td><td>5</td><td>8</td><td>Maserati Bora    </td></tr>\n",
       "</tbody>\n",
       "</table>\n"
      ],
      "text/latex": [
       "A data.frame: 10 × 12\n",
       "\\begin{tabular}{r|llllllllllll}\n",
       "  & mpg & cyl & disp & hp & drat & wt & qsec & vs & am & gear & carb & model\\\\\n",
       "  & <dbl> & <dbl> & <dbl> & <dbl> & <dbl> & <dbl> & <dbl> & <dbl> & <dbl> & <dbl> & <dbl> & <chr>\\\\\n",
       "\\hline\n",
       "\t3 & 22.8 & 4 & 108.0 &  93 & 3.85 & 2.320 & 18.61 & 1 & 1 & 4 & 1 & Datsun 710       \\\\\n",
       "\t5 & 18.7 & 8 & 360.0 & 175 & 3.15 & 3.440 & 17.02 & 0 & 0 & 3 & 2 & Hornet Sportabout\\\\\n",
       "\t7 & 14.3 & 8 & 360.0 & 245 & 3.21 & 3.570 & 15.84 & 0 & 0 & 3 & 4 & Duster 360       \\\\\n",
       "\t12 & 16.4 & 8 & 275.8 & 180 & 3.07 & 4.070 & 17.40 & 0 & 0 & 3 & 3 & Merc 450SE       \\\\\n",
       "\t13 & 17.3 & 8 & 275.8 & 180 & 3.07 & 3.730 & 17.60 & 0 & 0 & 3 & 3 & Merc 450SL       \\\\\n",
       "\t14 & 15.2 & 8 & 275.8 & 180 & 3.07 & 3.780 & 18.00 & 0 & 0 & 3 & 3 & Merc 450SLC      \\\\\n",
       "\t17 & 14.7 & 8 & 440.0 & 230 & 3.23 & 5.345 & 17.42 & 0 & 0 & 3 & 4 & Chrysler Imperial\\\\\n",
       "\t27 & 26.0 & 4 & 120.3 &  91 & 4.43 & 2.140 & 16.70 & 0 & 1 & 5 & 2 & Porsche 914-2    \\\\\n",
       "\t28 & 30.4 & 4 &  95.1 & 113 & 3.77 & 1.513 & 16.90 & 1 & 1 & 5 & 2 & Lotus Europa     \\\\\n",
       "\t31 & 15.0 & 8 & 301.0 & 335 & 3.54 & 3.570 & 14.60 & 0 & 1 & 5 & 8 & Maserati Bora    \\\\\n",
       "\\end{tabular}\n"
      ],
      "text/markdown": [
       "\n",
       "A data.frame: 10 × 12\n",
       "\n",
       "| <!--/--> | mpg &lt;dbl&gt; | cyl &lt;dbl&gt; | disp &lt;dbl&gt; | hp &lt;dbl&gt; | drat &lt;dbl&gt; | wt &lt;dbl&gt; | qsec &lt;dbl&gt; | vs &lt;dbl&gt; | am &lt;dbl&gt; | gear &lt;dbl&gt; | carb &lt;dbl&gt; | model &lt;chr&gt; |\n",
       "|---|---|---|---|---|---|---|---|---|---|---|---|---|\n",
       "| 3 | 22.8 | 4 | 108.0 |  93 | 3.85 | 2.320 | 18.61 | 1 | 1 | 4 | 1 | Datsun 710        |\n",
       "| 5 | 18.7 | 8 | 360.0 | 175 | 3.15 | 3.440 | 17.02 | 0 | 0 | 3 | 2 | Hornet Sportabout |\n",
       "| 7 | 14.3 | 8 | 360.0 | 245 | 3.21 | 3.570 | 15.84 | 0 | 0 | 3 | 4 | Duster 360        |\n",
       "| 12 | 16.4 | 8 | 275.8 | 180 | 3.07 | 4.070 | 17.40 | 0 | 0 | 3 | 3 | Merc 450SE        |\n",
       "| 13 | 17.3 | 8 | 275.8 | 180 | 3.07 | 3.730 | 17.60 | 0 | 0 | 3 | 3 | Merc 450SL        |\n",
       "| 14 | 15.2 | 8 | 275.8 | 180 | 3.07 | 3.780 | 18.00 | 0 | 0 | 3 | 3 | Merc 450SLC       |\n",
       "| 17 | 14.7 | 8 | 440.0 | 230 | 3.23 | 5.345 | 17.42 | 0 | 0 | 3 | 4 | Chrysler Imperial |\n",
       "| 27 | 26.0 | 4 | 120.3 |  91 | 4.43 | 2.140 | 16.70 | 0 | 1 | 5 | 2 | Porsche 914-2     |\n",
       "| 28 | 30.4 | 4 |  95.1 | 113 | 3.77 | 1.513 | 16.90 | 1 | 1 | 5 | 2 | Lotus Europa      |\n",
       "| 31 | 15.0 | 8 | 301.0 | 335 | 3.54 | 3.570 | 14.60 | 0 | 1 | 5 | 8 | Maserati Bora     |\n",
       "\n"
      ],
      "text/plain": [
       "   mpg  cyl disp  hp  drat wt    qsec  vs am gear carb model            \n",
       "3  22.8 4   108.0  93 3.85 2.320 18.61 1  1  4    1    Datsun 710       \n",
       "5  18.7 8   360.0 175 3.15 3.440 17.02 0  0  3    2    Hornet Sportabout\n",
       "7  14.3 8   360.0 245 3.21 3.570 15.84 0  0  3    4    Duster 360       \n",
       "12 16.4 8   275.8 180 3.07 4.070 17.40 0  0  3    3    Merc 450SE       \n",
       "13 17.3 8   275.8 180 3.07 3.730 17.60 0  0  3    3    Merc 450SL       \n",
       "14 15.2 8   275.8 180 3.07 3.780 18.00 0  0  3    3    Merc 450SLC      \n",
       "17 14.7 8   440.0 230 3.23 5.345 17.42 0  0  3    4    Chrysler Imperial\n",
       "27 26.0 4   120.3  91 4.43 2.140 16.70 0  1  5    2    Porsche 914-2    \n",
       "28 30.4 4    95.1 113 3.77 1.513 16.90 1  1  5    2    Lotus Europa     \n",
       "31 15.0 8   301.0 335 3.54 3.570 14.60 0  1  5    8    Maserati Bora    "
      ]
     },
     "metadata": {},
     "output_type": "display_data"
    }
   ],
   "source": [
    "idx <- grep(\"S\", mtcars$model, ignore.case = T)\n",
    "\n",
    "mtcars[idx, ]"
   ]
  },
  {
   "cell_type": "markdown",
   "id": "78551059-8827-46a7-bfc6-d932d300ce13",
   "metadata": {
    "tags": []
   },
   "source": [
    "<hr>\n",
    "<h4>9. 숫자로 끝나는 행을 검색하고 출력</h4>"
   ]
  },
  {
   "cell_type": "code",
   "execution_count": 10,
   "id": "79d1fd74-00b5-4007-b58b-3f97e6ce090a",
   "metadata": {
    "tags": []
   },
   "outputs": [
    {
     "data": {
      "text/html": [
       "<table class=\"dataframe\">\n",
       "<caption>A data.frame: 9 × 12</caption>\n",
       "<thead>\n",
       "\t<tr><th></th><th scope=col>mpg</th><th scope=col>cyl</th><th scope=col>disp</th><th scope=col>hp</th><th scope=col>drat</th><th scope=col>wt</th><th scope=col>qsec</th><th scope=col>vs</th><th scope=col>am</th><th scope=col>gear</th><th scope=col>carb</th><th scope=col>model</th></tr>\n",
       "\t<tr><th></th><th scope=col>&lt;dbl&gt;</th><th scope=col>&lt;dbl&gt;</th><th scope=col>&lt;dbl&gt;</th><th scope=col>&lt;dbl&gt;</th><th scope=col>&lt;dbl&gt;</th><th scope=col>&lt;dbl&gt;</th><th scope=col>&lt;dbl&gt;</th><th scope=col>&lt;dbl&gt;</th><th scope=col>&lt;dbl&gt;</th><th scope=col>&lt;dbl&gt;</th><th scope=col>&lt;dbl&gt;</th><th scope=col>&lt;chr&gt;</th></tr>\n",
       "</thead>\n",
       "<tbody>\n",
       "\t<tr><th scope=row>1</th><td>21.0</td><td>6</td><td>160.0</td><td>110</td><td>3.90</td><td>2.620</td><td>16.46</td><td>0</td><td>1</td><td>4</td><td>4</td><td>Mazda RX4    </td></tr>\n",
       "\t<tr><th scope=row>3</th><td>22.8</td><td>4</td><td>108.0</td><td> 93</td><td>3.85</td><td>2.320</td><td>18.61</td><td>1</td><td>1</td><td>4</td><td>1</td><td>Datsun 710   </td></tr>\n",
       "\t<tr><th scope=row>7</th><td>14.3</td><td>8</td><td>360.0</td><td>245</td><td>3.21</td><td>3.570</td><td>15.84</td><td>0</td><td>0</td><td>3</td><td>4</td><td>Duster 360   </td></tr>\n",
       "\t<tr><th scope=row>9</th><td>22.8</td><td>4</td><td>140.8</td><td> 95</td><td>3.92</td><td>3.150</td><td>22.90</td><td>1</td><td>0</td><td>4</td><td>2</td><td>Merc 230     </td></tr>\n",
       "\t<tr><th scope=row>10</th><td>19.2</td><td>6</td><td>167.6</td><td>123</td><td>3.92</td><td>3.440</td><td>18.30</td><td>1</td><td>0</td><td>4</td><td>4</td><td>Merc 280     </td></tr>\n",
       "\t<tr><th scope=row>18</th><td>32.4</td><td>4</td><td> 78.7</td><td> 66</td><td>4.08</td><td>2.200</td><td>19.47</td><td>1</td><td>1</td><td>4</td><td>1</td><td>Fiat 128     </td></tr>\n",
       "\t<tr><th scope=row>24</th><td>13.3</td><td>8</td><td>350.0</td><td>245</td><td>3.73</td><td>3.840</td><td>15.41</td><td>0</td><td>0</td><td>3</td><td>4</td><td>Camaro Z28   </td></tr>\n",
       "\t<tr><th scope=row>26</th><td>27.3</td><td>4</td><td> 79.0</td><td> 66</td><td>4.08</td><td>1.935</td><td>18.90</td><td>1</td><td>1</td><td>4</td><td>1</td><td>Fiat X1-9    </td></tr>\n",
       "\t<tr><th scope=row>27</th><td>26.0</td><td>4</td><td>120.3</td><td> 91</td><td>4.43</td><td>2.140</td><td>16.70</td><td>0</td><td>1</td><td>5</td><td>2</td><td>Porsche 914-2</td></tr>\n",
       "</tbody>\n",
       "</table>\n"
      ],
      "text/latex": [
       "A data.frame: 9 × 12\n",
       "\\begin{tabular}{r|llllllllllll}\n",
       "  & mpg & cyl & disp & hp & drat & wt & qsec & vs & am & gear & carb & model\\\\\n",
       "  & <dbl> & <dbl> & <dbl> & <dbl> & <dbl> & <dbl> & <dbl> & <dbl> & <dbl> & <dbl> & <dbl> & <chr>\\\\\n",
       "\\hline\n",
       "\t1 & 21.0 & 6 & 160.0 & 110 & 3.90 & 2.620 & 16.46 & 0 & 1 & 4 & 4 & Mazda RX4    \\\\\n",
       "\t3 & 22.8 & 4 & 108.0 &  93 & 3.85 & 2.320 & 18.61 & 1 & 1 & 4 & 1 & Datsun 710   \\\\\n",
       "\t7 & 14.3 & 8 & 360.0 & 245 & 3.21 & 3.570 & 15.84 & 0 & 0 & 3 & 4 & Duster 360   \\\\\n",
       "\t9 & 22.8 & 4 & 140.8 &  95 & 3.92 & 3.150 & 22.90 & 1 & 0 & 4 & 2 & Merc 230     \\\\\n",
       "\t10 & 19.2 & 6 & 167.6 & 123 & 3.92 & 3.440 & 18.30 & 1 & 0 & 4 & 4 & Merc 280     \\\\\n",
       "\t18 & 32.4 & 4 &  78.7 &  66 & 4.08 & 2.200 & 19.47 & 1 & 1 & 4 & 1 & Fiat 128     \\\\\n",
       "\t24 & 13.3 & 8 & 350.0 & 245 & 3.73 & 3.840 & 15.41 & 0 & 0 & 3 & 4 & Camaro Z28   \\\\\n",
       "\t26 & 27.3 & 4 &  79.0 &  66 & 4.08 & 1.935 & 18.90 & 1 & 1 & 4 & 1 & Fiat X1-9    \\\\\n",
       "\t27 & 26.0 & 4 & 120.3 &  91 & 4.43 & 2.140 & 16.70 & 0 & 1 & 5 & 2 & Porsche 914-2\\\\\n",
       "\\end{tabular}\n"
      ],
      "text/markdown": [
       "\n",
       "A data.frame: 9 × 12\n",
       "\n",
       "| <!--/--> | mpg &lt;dbl&gt; | cyl &lt;dbl&gt; | disp &lt;dbl&gt; | hp &lt;dbl&gt; | drat &lt;dbl&gt; | wt &lt;dbl&gt; | qsec &lt;dbl&gt; | vs &lt;dbl&gt; | am &lt;dbl&gt; | gear &lt;dbl&gt; | carb &lt;dbl&gt; | model &lt;chr&gt; |\n",
       "|---|---|---|---|---|---|---|---|---|---|---|---|---|\n",
       "| 1 | 21.0 | 6 | 160.0 | 110 | 3.90 | 2.620 | 16.46 | 0 | 1 | 4 | 4 | Mazda RX4     |\n",
       "| 3 | 22.8 | 4 | 108.0 |  93 | 3.85 | 2.320 | 18.61 | 1 | 1 | 4 | 1 | Datsun 710    |\n",
       "| 7 | 14.3 | 8 | 360.0 | 245 | 3.21 | 3.570 | 15.84 | 0 | 0 | 3 | 4 | Duster 360    |\n",
       "| 9 | 22.8 | 4 | 140.8 |  95 | 3.92 | 3.150 | 22.90 | 1 | 0 | 4 | 2 | Merc 230      |\n",
       "| 10 | 19.2 | 6 | 167.6 | 123 | 3.92 | 3.440 | 18.30 | 1 | 0 | 4 | 4 | Merc 280      |\n",
       "| 18 | 32.4 | 4 |  78.7 |  66 | 4.08 | 2.200 | 19.47 | 1 | 1 | 4 | 1 | Fiat 128      |\n",
       "| 24 | 13.3 | 8 | 350.0 | 245 | 3.73 | 3.840 | 15.41 | 0 | 0 | 3 | 4 | Camaro Z28    |\n",
       "| 26 | 27.3 | 4 |  79.0 |  66 | 4.08 | 1.935 | 18.90 | 1 | 1 | 4 | 1 | Fiat X1-9     |\n",
       "| 27 | 26.0 | 4 | 120.3 |  91 | 4.43 | 2.140 | 16.70 | 0 | 1 | 5 | 2 | Porsche 914-2 |\n",
       "\n"
      ],
      "text/plain": [
       "   mpg  cyl disp  hp  drat wt    qsec  vs am gear carb model        \n",
       "1  21.0 6   160.0 110 3.90 2.620 16.46 0  1  4    4    Mazda RX4    \n",
       "3  22.8 4   108.0  93 3.85 2.320 18.61 1  1  4    1    Datsun 710   \n",
       "7  14.3 8   360.0 245 3.21 3.570 15.84 0  0  3    4    Duster 360   \n",
       "9  22.8 4   140.8  95 3.92 3.150 22.90 1  0  4    2    Merc 230     \n",
       "10 19.2 6   167.6 123 3.92 3.440 18.30 1  0  4    4    Merc 280     \n",
       "18 32.4 4    78.7  66 4.08 2.200 19.47 1  1  4    1    Fiat 128     \n",
       "24 13.3 8   350.0 245 3.73 3.840 15.41 0  0  3    4    Camaro Z28   \n",
       "26 27.3 4    79.0  66 4.08 1.935 18.90 1  1  4    1    Fiat X1-9    \n",
       "27 26.0 4   120.3  91 4.43 2.140 16.70 0  1  5    2    Porsche 914-2"
      ]
     },
     "metadata": {},
     "output_type": "display_data"
    }
   ],
   "source": [
    "idx <- grep(\"[0-9]$\", mtcars$model)\n",
    "\n",
    "mtcars[idx, ]"
   ]
  },
  {
   "cell_type": "markdown",
   "id": "6780eb4c-1ea7-4d84-890c-1e22838a5494",
   "metadata": {
    "tags": []
   },
   "source": [
    "<hr>\n",
    "<h4>10. 대문자 “H”로 시작하는 행을 검색하고 출력</h4>"
   ]
  },
  {
   "cell_type": "code",
   "execution_count": 11,
   "id": "b74a9586-35d3-4e2a-9db9-78ff66b45657",
   "metadata": {
    "tags": []
   },
   "outputs": [
    {
     "data": {
      "text/html": [
       "<table class=\"dataframe\">\n",
       "<caption>A data.frame: 3 × 12</caption>\n",
       "<thead>\n",
       "\t<tr><th></th><th scope=col>mpg</th><th scope=col>cyl</th><th scope=col>disp</th><th scope=col>hp</th><th scope=col>drat</th><th scope=col>wt</th><th scope=col>qsec</th><th scope=col>vs</th><th scope=col>am</th><th scope=col>gear</th><th scope=col>carb</th><th scope=col>model</th></tr>\n",
       "\t<tr><th></th><th scope=col>&lt;dbl&gt;</th><th scope=col>&lt;dbl&gt;</th><th scope=col>&lt;dbl&gt;</th><th scope=col>&lt;dbl&gt;</th><th scope=col>&lt;dbl&gt;</th><th scope=col>&lt;dbl&gt;</th><th scope=col>&lt;dbl&gt;</th><th scope=col>&lt;dbl&gt;</th><th scope=col>&lt;dbl&gt;</th><th scope=col>&lt;dbl&gt;</th><th scope=col>&lt;dbl&gt;</th><th scope=col>&lt;chr&gt;</th></tr>\n",
       "</thead>\n",
       "<tbody>\n",
       "\t<tr><th scope=row>4</th><td>21.4</td><td>6</td><td>258.0</td><td>110</td><td>3.08</td><td>3.215</td><td>19.44</td><td>1</td><td>0</td><td>3</td><td>1</td><td>Hornet 4 Drive   </td></tr>\n",
       "\t<tr><th scope=row>5</th><td>18.7</td><td>8</td><td>360.0</td><td>175</td><td>3.15</td><td>3.440</td><td>17.02</td><td>0</td><td>0</td><td>3</td><td>2</td><td>Hornet Sportabout</td></tr>\n",
       "\t<tr><th scope=row>19</th><td>30.4</td><td>4</td><td> 75.7</td><td> 52</td><td>4.93</td><td>1.615</td><td>18.52</td><td>1</td><td>1</td><td>4</td><td>2</td><td>Honda Civic      </td></tr>\n",
       "</tbody>\n",
       "</table>\n"
      ],
      "text/latex": [
       "A data.frame: 3 × 12\n",
       "\\begin{tabular}{r|llllllllllll}\n",
       "  & mpg & cyl & disp & hp & drat & wt & qsec & vs & am & gear & carb & model\\\\\n",
       "  & <dbl> & <dbl> & <dbl> & <dbl> & <dbl> & <dbl> & <dbl> & <dbl> & <dbl> & <dbl> & <dbl> & <chr>\\\\\n",
       "\\hline\n",
       "\t4 & 21.4 & 6 & 258.0 & 110 & 3.08 & 3.215 & 19.44 & 1 & 0 & 3 & 1 & Hornet 4 Drive   \\\\\n",
       "\t5 & 18.7 & 8 & 360.0 & 175 & 3.15 & 3.440 & 17.02 & 0 & 0 & 3 & 2 & Hornet Sportabout\\\\\n",
       "\t19 & 30.4 & 4 &  75.7 &  52 & 4.93 & 1.615 & 18.52 & 1 & 1 & 4 & 2 & Honda Civic      \\\\\n",
       "\\end{tabular}\n"
      ],
      "text/markdown": [
       "\n",
       "A data.frame: 3 × 12\n",
       "\n",
       "| <!--/--> | mpg &lt;dbl&gt; | cyl &lt;dbl&gt; | disp &lt;dbl&gt; | hp &lt;dbl&gt; | drat &lt;dbl&gt; | wt &lt;dbl&gt; | qsec &lt;dbl&gt; | vs &lt;dbl&gt; | am &lt;dbl&gt; | gear &lt;dbl&gt; | carb &lt;dbl&gt; | model &lt;chr&gt; |\n",
       "|---|---|---|---|---|---|---|---|---|---|---|---|---|\n",
       "| 4 | 21.4 | 6 | 258.0 | 110 | 3.08 | 3.215 | 19.44 | 1 | 0 | 3 | 1 | Hornet 4 Drive    |\n",
       "| 5 | 18.7 | 8 | 360.0 | 175 | 3.15 | 3.440 | 17.02 | 0 | 0 | 3 | 2 | Hornet Sportabout |\n",
       "| 19 | 30.4 | 4 |  75.7 |  52 | 4.93 | 1.615 | 18.52 | 1 | 1 | 4 | 2 | Honda Civic       |\n",
       "\n"
      ],
      "text/plain": [
       "   mpg  cyl disp  hp  drat wt    qsec  vs am gear carb model            \n",
       "4  21.4 6   258.0 110 3.08 3.215 19.44 1  0  3    1    Hornet 4 Drive   \n",
       "5  18.7 8   360.0 175 3.15 3.440 17.02 0  0  3    2    Hornet Sportabout\n",
       "19 30.4 4    75.7  52 4.93 1.615 18.52 1  1  4    2    Honda Civic      "
      ]
     },
     "metadata": {},
     "output_type": "display_data"
    }
   ],
   "source": [
    "idx <- grep(\"^H\", mtcars$model)\n",
    "mtcars[idx,]"
   ]
  },
  {
   "cell_type": "markdown",
   "id": "7cf8c3a1-3027-495f-a4e6-fc9d5555ec2d",
   "metadata": {
    "tags": []
   },
   "source": [
    "<hr>\n",
    "<h4>11. 대문자 A, B, C, D, E로 시작하는 행을 검색하고 출력</h4>"
   ]
  },
  {
   "cell_type": "code",
   "execution_count": 12,
   "id": "7fd188c9-9aaf-4490-a07d-560f44938017",
   "metadata": {
    "tags": []
   },
   "outputs": [
    {
     "data": {
      "text/html": [
       "<table class=\"dataframe\">\n",
       "<caption>A data.frame: 7 × 12</caption>\n",
       "<thead>\n",
       "\t<tr><th></th><th scope=col>mpg</th><th scope=col>cyl</th><th scope=col>disp</th><th scope=col>hp</th><th scope=col>drat</th><th scope=col>wt</th><th scope=col>qsec</th><th scope=col>vs</th><th scope=col>am</th><th scope=col>gear</th><th scope=col>carb</th><th scope=col>model</th></tr>\n",
       "\t<tr><th></th><th scope=col>&lt;dbl&gt;</th><th scope=col>&lt;dbl&gt;</th><th scope=col>&lt;dbl&gt;</th><th scope=col>&lt;dbl&gt;</th><th scope=col>&lt;dbl&gt;</th><th scope=col>&lt;dbl&gt;</th><th scope=col>&lt;dbl&gt;</th><th scope=col>&lt;dbl&gt;</th><th scope=col>&lt;dbl&gt;</th><th scope=col>&lt;dbl&gt;</th><th scope=col>&lt;dbl&gt;</th><th scope=col>&lt;chr&gt;</th></tr>\n",
       "</thead>\n",
       "<tbody>\n",
       "\t<tr><th scope=row>3</th><td>22.8</td><td>4</td><td>108</td><td> 93</td><td>3.85</td><td>2.320</td><td>18.61</td><td>1</td><td>1</td><td>4</td><td>1</td><td>Datsun 710        </td></tr>\n",
       "\t<tr><th scope=row>7</th><td>14.3</td><td>8</td><td>360</td><td>245</td><td>3.21</td><td>3.570</td><td>15.84</td><td>0</td><td>0</td><td>3</td><td>4</td><td>Duster 360        </td></tr>\n",
       "\t<tr><th scope=row>15</th><td>10.4</td><td>8</td><td>472</td><td>205</td><td>2.93</td><td>5.250</td><td>17.98</td><td>0</td><td>0</td><td>3</td><td>4</td><td>Cadillac Fleetwood</td></tr>\n",
       "\t<tr><th scope=row>17</th><td>14.7</td><td>8</td><td>440</td><td>230</td><td>3.23</td><td>5.345</td><td>17.42</td><td>0</td><td>0</td><td>3</td><td>4</td><td>Chrysler Imperial </td></tr>\n",
       "\t<tr><th scope=row>22</th><td>15.5</td><td>8</td><td>318</td><td>150</td><td>2.76</td><td>3.520</td><td>16.87</td><td>0</td><td>0</td><td>3</td><td>2</td><td>Dodge Challenger  </td></tr>\n",
       "\t<tr><th scope=row>23</th><td>15.2</td><td>8</td><td>304</td><td>150</td><td>3.15</td><td>3.435</td><td>17.30</td><td>0</td><td>0</td><td>3</td><td>2</td><td>AMC Javelin       </td></tr>\n",
       "\t<tr><th scope=row>24</th><td>13.3</td><td>8</td><td>350</td><td>245</td><td>3.73</td><td>3.840</td><td>15.41</td><td>0</td><td>0</td><td>3</td><td>4</td><td>Camaro Z28        </td></tr>\n",
       "</tbody>\n",
       "</table>\n"
      ],
      "text/latex": [
       "A data.frame: 7 × 12\n",
       "\\begin{tabular}{r|llllllllllll}\n",
       "  & mpg & cyl & disp & hp & drat & wt & qsec & vs & am & gear & carb & model\\\\\n",
       "  & <dbl> & <dbl> & <dbl> & <dbl> & <dbl> & <dbl> & <dbl> & <dbl> & <dbl> & <dbl> & <dbl> & <chr>\\\\\n",
       "\\hline\n",
       "\t3 & 22.8 & 4 & 108 &  93 & 3.85 & 2.320 & 18.61 & 1 & 1 & 4 & 1 & Datsun 710        \\\\\n",
       "\t7 & 14.3 & 8 & 360 & 245 & 3.21 & 3.570 & 15.84 & 0 & 0 & 3 & 4 & Duster 360        \\\\\n",
       "\t15 & 10.4 & 8 & 472 & 205 & 2.93 & 5.250 & 17.98 & 0 & 0 & 3 & 4 & Cadillac Fleetwood\\\\\n",
       "\t17 & 14.7 & 8 & 440 & 230 & 3.23 & 5.345 & 17.42 & 0 & 0 & 3 & 4 & Chrysler Imperial \\\\\n",
       "\t22 & 15.5 & 8 & 318 & 150 & 2.76 & 3.520 & 16.87 & 0 & 0 & 3 & 2 & Dodge Challenger  \\\\\n",
       "\t23 & 15.2 & 8 & 304 & 150 & 3.15 & 3.435 & 17.30 & 0 & 0 & 3 & 2 & AMC Javelin       \\\\\n",
       "\t24 & 13.3 & 8 & 350 & 245 & 3.73 & 3.840 & 15.41 & 0 & 0 & 3 & 4 & Camaro Z28        \\\\\n",
       "\\end{tabular}\n"
      ],
      "text/markdown": [
       "\n",
       "A data.frame: 7 × 12\n",
       "\n",
       "| <!--/--> | mpg &lt;dbl&gt; | cyl &lt;dbl&gt; | disp &lt;dbl&gt; | hp &lt;dbl&gt; | drat &lt;dbl&gt; | wt &lt;dbl&gt; | qsec &lt;dbl&gt; | vs &lt;dbl&gt; | am &lt;dbl&gt; | gear &lt;dbl&gt; | carb &lt;dbl&gt; | model &lt;chr&gt; |\n",
       "|---|---|---|---|---|---|---|---|---|---|---|---|---|\n",
       "| 3 | 22.8 | 4 | 108 |  93 | 3.85 | 2.320 | 18.61 | 1 | 1 | 4 | 1 | Datsun 710         |\n",
       "| 7 | 14.3 | 8 | 360 | 245 | 3.21 | 3.570 | 15.84 | 0 | 0 | 3 | 4 | Duster 360         |\n",
       "| 15 | 10.4 | 8 | 472 | 205 | 2.93 | 5.250 | 17.98 | 0 | 0 | 3 | 4 | Cadillac Fleetwood |\n",
       "| 17 | 14.7 | 8 | 440 | 230 | 3.23 | 5.345 | 17.42 | 0 | 0 | 3 | 4 | Chrysler Imperial  |\n",
       "| 22 | 15.5 | 8 | 318 | 150 | 2.76 | 3.520 | 16.87 | 0 | 0 | 3 | 2 | Dodge Challenger   |\n",
       "| 23 | 15.2 | 8 | 304 | 150 | 3.15 | 3.435 | 17.30 | 0 | 0 | 3 | 2 | AMC Javelin        |\n",
       "| 24 | 13.3 | 8 | 350 | 245 | 3.73 | 3.840 | 15.41 | 0 | 0 | 3 | 4 | Camaro Z28         |\n",
       "\n"
      ],
      "text/plain": [
       "   mpg  cyl disp hp  drat wt    qsec  vs am gear carb model             \n",
       "3  22.8 4   108   93 3.85 2.320 18.61 1  1  4    1    Datsun 710        \n",
       "7  14.3 8   360  245 3.21 3.570 15.84 0  0  3    4    Duster 360        \n",
       "15 10.4 8   472  205 2.93 5.250 17.98 0  0  3    4    Cadillac Fleetwood\n",
       "17 14.7 8   440  230 3.23 5.345 17.42 0  0  3    4    Chrysler Imperial \n",
       "22 15.5 8   318  150 2.76 3.520 16.87 0  0  3    2    Dodge Challenger  \n",
       "23 15.2 8   304  150 3.15 3.435 17.30 0  0  3    2    AMC Javelin       \n",
       "24 13.3 8   350  245 3.73 3.840 15.41 0  0  3    4    Camaro Z28        "
      ]
     },
     "metadata": {},
     "output_type": "display_data"
    }
   ],
   "source": [
    "idx <- grep(\"^A|^B|^C|^D|^E\", mtcars$model)\n",
    "mtcars[idx,]"
   ]
  },
  {
   "cell_type": "markdown",
   "id": "7678eb25-b0c7-4971-8568-ff364801e83b",
   "metadata": {
    "tags": []
   },
   "source": [
    "<hr>\n",
    "<h4>12. 현재의 폴더(디렉토리) 출력</h4>"
   ]
  },
  {
   "cell_type": "code",
   "execution_count": 13,
   "id": "cf1846bf-5acf-4d23-99f5-032dad1f4d83",
   "metadata": {
    "tags": []
   },
   "outputs": [
    {
     "data": {
      "text/html": [
       "'/home/students/cs/202121059'"
      ],
      "text/latex": [
       "'/home/students/cs/202121059'"
      ],
      "text/markdown": [
       "'/home/students/cs/202121059'"
      ],
      "text/plain": [
       "[1] \"/home/students/cs/202121059\""
      ]
     },
     "metadata": {},
     "output_type": "display_data"
    }
   ],
   "source": [
    "getwd()"
   ]
  },
  {
   "cell_type": "markdown",
   "id": "f935ae07-1b25-4a58-810b-be5a547e146b",
   "metadata": {
    "tags": []
   },
   "source": [
    "<hr>\n",
    "<h4>13. 현재 디렉토리에 엑셀(*.xlsx) 파일을 검색하여 출력</h4>"
   ]
  },
  {
   "cell_type": "code",
   "execution_count": 14,
   "id": "bc50beca-7b3d-48f7-86d5-d0fc26e67e3d",
   "metadata": {
    "tags": []
   },
   "outputs": [
    {
     "data": {
      "text/html": [
       "<style>\n",
       ".list-inline {list-style: none; margin:0; padding: 0}\n",
       ".list-inline>li {display: inline-block}\n",
       ".list-inline>li:not(:last-child)::after {content: \"\\00b7\"; padding: 0 .5ex}\n",
       "</style>\n",
       "<ol class=list-inline><li>'2015년 초미세먼지.xlsx'</li><li>'2022년_도로교통공단_시군구별 월별 교통사고 통계.xlsx'</li><li>'air_2021.xlsx'</li><li>'cb.xlsx'</li><li>'merge.xlsx'</li><li>'newdata.xlsx'</li><li>'sample.xlsx'</li></ol>\n"
      ],
      "text/latex": [
       "\\begin{enumerate*}\n",
       "\\item '2015년 초미세먼지.xlsx'\n",
       "\\item '2022년\\_도로교통공단\\_시군구별 월별 교통사고 통계.xlsx'\n",
       "\\item 'air\\_2021.xlsx'\n",
       "\\item 'cb.xlsx'\n",
       "\\item 'merge.xlsx'\n",
       "\\item 'newdata.xlsx'\n",
       "\\item 'sample.xlsx'\n",
       "\\end{enumerate*}\n"
      ],
      "text/markdown": [
       "1. '2015년 초미세먼지.xlsx'\n",
       "2. '2022년_도로교통공단_시군구별 월별 교통사고 통계.xlsx'\n",
       "3. 'air_2021.xlsx'\n",
       "4. 'cb.xlsx'\n",
       "5. 'merge.xlsx'\n",
       "6. 'newdata.xlsx'\n",
       "7. 'sample.xlsx'\n",
       "\n",
       "\n"
      ],
      "text/plain": [
       "[1] \"2015년 초미세먼지.xlsx\"                              \n",
       "[2] \"2022년_도로교통공단_시군구별 월별 교통사고 통계.xlsx\"\n",
       "[3] \"air_2021.xlsx\"                                       \n",
       "[4] \"cb.xlsx\"                                             \n",
       "[5] \"merge.xlsx\"                                          \n",
       "[6] \"newdata.xlsx\"                                        \n",
       "[7] \"sample.xlsx\"                                         "
      ]
     },
     "metadata": {},
     "output_type": "display_data"
    }
   ],
   "source": [
    "list.files(pattern=\"*.xlsx\")"
   ]
  },
  {
   "cell_type": "markdown",
   "id": "c60d7e28-a966-4e7c-9cf7-d63e93982fb6",
   "metadata": {
    "tags": []
   },
   "source": [
    "<hr>\n",
    "<h4>14. 파일에는 3개의 시트(1분기, 2분기, 3분기)가 있다. 각각의 시트를 읽은 후 하나로 합\n",
    "쳐 하나의 데이터 mise에 저장하고 데이터프레임 mise의 구조(str) 출력</h4>"
   ]
  },
  {
   "cell_type": "code",
   "execution_count": 15,
   "id": "9ec03c77-fc5b-42b9-b403-748a4257c1c5",
   "metadata": {
    "tags": []
   },
   "outputs": [
    {
     "name": "stdout",
     "output_type": "stream",
     "text": [
      "tibble [1,574,914 × 9] (S3: tbl_df/tbl/data.frame)\n",
      " $ AREA : chr [1:1574914] \"서울\" \"서울\" \"서울\" \"서울\" ...\n",
      " $ Point: chr [1:1574914] \"중구\" \"중구\" \"중구\" \"중구\" ...\n",
      " $ Date : num [1:1574914] 2.02e+09 2.02e+09 2.02e+09 2.02e+09 2.02e+09 ...\n",
      " $ Year : num [1:1574914] 2015 2015 2015 2015 2015 ...\n",
      " $ Month: num [1:1574914] 1 1 1 1 1 1 1 1 1 1 ...\n",
      " $ Day  : num [1:1574914] 1 1 1 1 1 1 1 1 1 1 ...\n",
      " $ Time : num [1:1574914] 0 1 2 3 4 5 6 7 8 9 ...\n",
      " $ PM10 : num [1:1574914] 44 57 76 86 106 128 139 132 121 94 ...\n",
      " $ PM25 : num [1:1574914] 7 10 10 11 12 18 19 16 14 16 ...\n"
     ]
    }
   ],
   "source": [
    "library(readxl)\n",
    "mise1 <- read_xlsx(\"2015년 초미세먼지.xlsx\", sheet=1)\n",
    "mise2 <- read_xlsx(\"2015년 초미세먼지.xlsx\", sheet=2)\n",
    "mise3 <- read_xlsx(\"2015년 초미세먼지.xlsx\", sheet=3)\n",
    "\n",
    "mise <- rbind(mise1, mise2, mise3)\n",
    "str(mise)"
   ]
  },
  {
   "cell_type": "markdown",
   "id": "67dfca2e-aea6-411f-81a3-9e8f4e5b2a03",
   "metadata": {
    "tags": []
   },
   "source": [
    "<hr>\n",
    "<h4>15. AREA가 서울인 데이터만 추출하여 seoul에 저장하고 Point의 빈도표 구하기(table()\n",
    "이용)</h4>"
   ]
  },
  {
   "cell_type": "code",
   "execution_count": 16,
   "id": "eb7d128f-cd41-4c7f-bdc1-330ce4c9dc80",
   "metadata": {
    "tags": []
   },
   "outputs": [
    {
     "data": {
      "text/plain": [
       "\n",
       "           강남구          강남대로            강동구          강변북로 \n",
       "             5075              5081              5085              5084 \n",
       "           강북구            강서구          공항대로            관악구 \n",
       "             5066              5064              4957              5083 \n",
       "           광진구            구로구            금천구              길동 \n",
       "             5030              5085              5031              4961 \n",
       "       내부순환로            노원구            도봉구          도산대로 \n",
       "             5013              5070              5058              3968 \n",
       "         동대문구            동작구 동작대로 중앙차로            마포구 \n",
       "             5057              5025              4998              5046 \n",
       "         서대문구            서초구            성동구            성북구 \n",
       "             5064              5085              5084              5059 \n",
       "           송파구            신촌로            양천구          영등포구 \n",
       "             5055              5018              5076              5079 \n",
       "         영등포로            용산구            은평구              종로 \n",
       "             5025              5066              5069              4949 \n",
       "           종로구              중구            중랑구            청계천 \n",
       "             5075              5032              5083              5067 \n",
       "           청량리          한강대로            화랑로 \n",
       "             4958              5036              5069 "
      ]
     },
     "metadata": {},
     "output_type": "display_data"
    }
   ],
   "source": [
    "seoul <- subset(mise, AREA == \"서울\")\n",
    "table(seoul$Point)"
   ]
  },
  {
   "cell_type": "markdown",
   "id": "39558468-5769-4e59-b71e-bda26d227a90",
   "metadata": {
    "tags": []
   },
   "source": [
    "<hr>\n",
    "<h4>16. 서울에는 25개의 구가 있다. 위 데이터 seoul에서 25개의 구 데이터만 추출하고자 한다.</h4>\n",
    "\n",
    "<h5>i. grep을 이용하여 seoul$Point 중에서 “구”로 끝나는 데이터의 인덱스를 idx에 저장</h5>\n",
    "<h5>ii. 데이터프레임 seoul에서 위 idx의 인덱스부분만 추출하여 gu로 저장</h5>\n",
    "<h5>iii. 빈도표 출력</h5>"
   ]
  },
  {
   "cell_type": "code",
   "execution_count": 17,
   "id": "cfb36525-d550-44a8-a4fe-cec8079cb7aa",
   "metadata": {
    "tags": []
   },
   "outputs": [
    {
     "data": {
      "text/plain": [
       "\n",
       "  강남구   강동구   강북구   강서구   관악구   광진구   구로구   금천구 \n",
       "    5075     5085     5066     5064     5083     5030     5085     5031 \n",
       "  노원구   도봉구 동대문구   동작구   마포구 서대문구   서초구   성동구 \n",
       "    5070     5058     5057     5025     5046     5064     5085     5084 \n",
       "  성북구   송파구   양천구 영등포구   용산구   은평구   종로구     중구 \n",
       "    5059     5055     5076     5079     5066     5069     5075     5032 \n",
       "  중랑구 \n",
       "    5083 "
      ]
     },
     "metadata": {},
     "output_type": "display_data"
    }
   ],
   "source": [
    "idx <- grep(\"구$\", seoul$Point)\n",
    "gu <- seoul[idx,]\n",
    "\n",
    "table(gu$Point)"
   ]
  },
  {
   "cell_type": "markdown",
   "id": "e39dca29-8cf3-4a35-aa64-64da4456094d",
   "metadata": {
    "tags": []
   },
   "source": [
    "<hr>\n",
    "<h4>17. 다음 코드를 실행하여 데이터 gu에서 각 구별 PM10의 평균 구하기</h4>"
   ]
  },
  {
   "cell_type": "code",
   "execution_count": 18,
   "id": "847cb1ea-4cd9-4a46-a08d-5a9853fc463b",
   "metadata": {
    "tags": []
   },
   "outputs": [
    {
     "data": {
      "text/html": [
       "<table class=\"dataframe\">\n",
       "<caption>A data.frame: 25 × 1</caption>\n",
       "<thead>\n",
       "\t<tr><th></th><th scope=col>round(result, 2)</th></tr>\n",
       "\t<tr><th></th><th scope=col>&lt;dbl&gt;</th></tr>\n",
       "</thead>\n",
       "<tbody>\n",
       "\t<tr><th scope=row>강남구</th><td>52.38</td></tr>\n",
       "\t<tr><th scope=row>강동구</th><td>48.20</td></tr>\n",
       "\t<tr><th scope=row>강북구</th><td>48.24</td></tr>\n",
       "\t<tr><th scope=row>강서구</th><td>51.03</td></tr>\n",
       "\t<tr><th scope=row>관악구</th><td>55.78</td></tr>\n",
       "\t<tr><th scope=row>광진구</th><td>51.88</td></tr>\n",
       "\t<tr><th scope=row>구로구</th><td>51.60</td></tr>\n",
       "\t<tr><th scope=row>금천구</th><td>49.72</td></tr>\n",
       "\t<tr><th scope=row>노원구</th><td>52.52</td></tr>\n",
       "\t<tr><th scope=row>도봉구</th><td>48.76</td></tr>\n",
       "\t<tr><th scope=row>동대문구</th><td>49.04</td></tr>\n",
       "\t<tr><th scope=row>동작구</th><td>47.59</td></tr>\n",
       "\t<tr><th scope=row>마포구</th><td>52.75</td></tr>\n",
       "\t<tr><th scope=row>서대문구</th><td>48.38</td></tr>\n",
       "\t<tr><th scope=row>서초구</th><td>54.12</td></tr>\n",
       "\t<tr><th scope=row>성동구</th><td>51.02</td></tr>\n",
       "\t<tr><th scope=row>성북구</th><td>48.13</td></tr>\n",
       "\t<tr><th scope=row>송파구</th><td>49.59</td></tr>\n",
       "\t<tr><th scope=row>양천구</th><td>48.32</td></tr>\n",
       "\t<tr><th scope=row>영등포구</th><td>53.87</td></tr>\n",
       "\t<tr><th scope=row>용산구</th><td>47.45</td></tr>\n",
       "\t<tr><th scope=row>은평구</th><td>50.30</td></tr>\n",
       "\t<tr><th scope=row>종로구</th><td>58.17</td></tr>\n",
       "\t<tr><th scope=row>중구</th><td>50.74</td></tr>\n",
       "\t<tr><th scope=row>중랑구</th><td>51.65</td></tr>\n",
       "</tbody>\n",
       "</table>\n"
      ],
      "text/latex": [
       "A data.frame: 25 × 1\n",
       "\\begin{tabular}{r|l}\n",
       "  & round(result, 2)\\\\\n",
       "  & <dbl>\\\\\n",
       "\\hline\n",
       "\t강남구 & 52.38\\\\\n",
       "\t강동구 & 48.20\\\\\n",
       "\t강북구 & 48.24\\\\\n",
       "\t강서구 & 51.03\\\\\n",
       "\t관악구 & 55.78\\\\\n",
       "\t광진구 & 51.88\\\\\n",
       "\t구로구 & 51.60\\\\\n",
       "\t금천구 & 49.72\\\\\n",
       "\t노원구 & 52.52\\\\\n",
       "\t도봉구 & 48.76\\\\\n",
       "\t동대문구 & 49.04\\\\\n",
       "\t동작구 & 47.59\\\\\n",
       "\t마포구 & 52.75\\\\\n",
       "\t서대문구 & 48.38\\\\\n",
       "\t서초구 & 54.12\\\\\n",
       "\t성동구 & 51.02\\\\\n",
       "\t성북구 & 48.13\\\\\n",
       "\t송파구 & 49.59\\\\\n",
       "\t양천구 & 48.32\\\\\n",
       "\t영등포구 & 53.87\\\\\n",
       "\t용산구 & 47.45\\\\\n",
       "\t은평구 & 50.30\\\\\n",
       "\t종로구 & 58.17\\\\\n",
       "\t중구 & 50.74\\\\\n",
       "\t중랑구 & 51.65\\\\\n",
       "\\end{tabular}\n"
      ],
      "text/markdown": [
       "\n",
       "A data.frame: 25 × 1\n",
       "\n",
       "| <!--/--> | round(result, 2) &lt;dbl&gt; |\n",
       "|---|---|\n",
       "| 강남구 | 52.38 |\n",
       "| 강동구 | 48.20 |\n",
       "| 강북구 | 48.24 |\n",
       "| 강서구 | 51.03 |\n",
       "| 관악구 | 55.78 |\n",
       "| 광진구 | 51.88 |\n",
       "| 구로구 | 51.60 |\n",
       "| 금천구 | 49.72 |\n",
       "| 노원구 | 52.52 |\n",
       "| 도봉구 | 48.76 |\n",
       "| 동대문구 | 49.04 |\n",
       "| 동작구 | 47.59 |\n",
       "| 마포구 | 52.75 |\n",
       "| 서대문구 | 48.38 |\n",
       "| 서초구 | 54.12 |\n",
       "| 성동구 | 51.02 |\n",
       "| 성북구 | 48.13 |\n",
       "| 송파구 | 49.59 |\n",
       "| 양천구 | 48.32 |\n",
       "| 영등포구 | 53.87 |\n",
       "| 용산구 | 47.45 |\n",
       "| 은평구 | 50.30 |\n",
       "| 종로구 | 58.17 |\n",
       "| 중구 | 50.74 |\n",
       "| 중랑구 | 51.65 |\n",
       "\n"
      ],
      "text/plain": [
       "         round(result, 2)\n",
       "강남구   52.38           \n",
       "강동구   48.20           \n",
       "강북구   48.24           \n",
       "강서구   51.03           \n",
       "관악구   55.78           \n",
       "광진구   51.88           \n",
       "구로구   51.60           \n",
       "금천구   49.72           \n",
       "노원구   52.52           \n",
       "도봉구   48.76           \n",
       "동대문구 49.04           \n",
       "동작구   47.59           \n",
       "마포구   52.75           \n",
       "서대문구 48.38           \n",
       "서초구   54.12           \n",
       "성동구   51.02           \n",
       "성북구   48.13           \n",
       "송파구   49.59           \n",
       "양천구   48.32           \n",
       "영등포구 53.87           \n",
       "용산구   47.45           \n",
       "은평구   50.30           \n",
       "종로구   58.17           \n",
       "중구     50.74           \n",
       "중랑구   51.65           "
      ]
     },
     "metadata": {},
     "output_type": "display_data"
    }
   ],
   "source": [
    "result <- tapply(gu$PM10, gu$Point, mean, na.rm = T)\n",
    "result <- as.data.frame(round(result,2))\n",
    "\n",
    "result"
   ]
  },
  {
   "cell_type": "markdown",
   "id": "7e3dbf62-b6e4-4dc9-b8a6-58ddd1710f3d",
   "metadata": {
    "tags": []
   },
   "source": [
    "<hr>\n",
    "<h4>18. 각각의 시트를 읽어 air1, air2, …, air6에 저장한 후, rbind를 이용하여 하나로\n",
    "합쳐 하나의 데이터 air에 저장하고 데이터프레임 air의 구조(str) 출력</h4>"
   ]
  },
  {
   "cell_type": "code",
   "execution_count": null,
   "id": "ab76ad2e-af3f-480d-8556-a0378287fb62",
   "metadata": {
    "tags": []
   },
   "outputs": [],
   "source": [
    "air1 <- read_xlsx(\"air_2021.xlsx\", sheet=1)\n",
    "air2 <- read_xlsx(\"air_2021.xlsx\", sheet=2)\n",
    "air3 <- read_xlsx(\"air_2021.xlsx\", sheet=3)\n",
    "air4 <- read_xlsx(\"air_2021.xlsx\", sheet=4)\n",
    "air5 <- read_xlsx(\"air_2021.xlsx\", sheet=5)\n",
    "air6 <- read_xlsx(\"air_2021.xlsx\", sheet=6)\n",
    "\n",
    "air <- rbind(air1, air2, air3, air4, air5, air6)\n",
    "str(air)"
   ]
  },
  {
   "cell_type": "markdown",
   "id": "cdbff14c-7f49-40ea-b6d1-2b8b077fd1f4",
   "metadata": {
    "tags": []
   },
   "source": [
    "<hr>\n",
    "<h4>19. 측정소(point)의 개수를 unique() 함수와 length()를 이용하여 출력</h4>"
   ]
  },
  {
   "cell_type": "code",
   "execution_count": null,
   "id": "44501ad6-3802-4708-a7c8-556e5e6845c0",
   "metadata": {
    "tags": []
   },
   "outputs": [],
   "source": [
    "print(length(unique(air$point)))"
   ]
  },
  {
   "cell_type": "markdown",
   "id": "f40eb56c-c14c-4a48-838b-f7cfc8b2758d",
   "metadata": {
    "tags": []
   },
   "source": [
    "<hr>\n",
    "<h4>20. 시군구(city)가 충주시인 데이터만 추출하여 데이터 cb에 저장하고, 측정소(point)\n",
    "의 빈도표 출력</h4>"
   ]
  },
  {
   "cell_type": "code",
   "execution_count": null,
   "id": "b4637be1-3a3c-4a9d-b179-76ab2ad1dbe8",
   "metadata": {
    "tags": []
   },
   "outputs": [],
   "source": [
    "cb <- grep(\"충주\", air$city)\n",
    "chungju <- air[cb,]\n",
    "table(chungju$point)"
   ]
  },
  {
   "cell_type": "markdown",
   "id": "206e62d3-b612-4bd6-ba21-07ea4d9e1414",
   "metadata": {
    "tags": []
   },
   "source": [
    "<hr>\n",
    "<h4>21. 데이터 cb에서 각 측정소별 PM10의 평균을 구하여 출력(17번 참조)</h4>"
   ]
  },
  {
   "cell_type": "code",
   "execution_count": null,
   "id": "3feb817a-6280-48fa-bed6-3ab2fd9d060c",
   "metadata": {
    "tags": []
   },
   "outputs": [],
   "source": [
    "cb <- grep(\"충주\", air$city)\n",
    "chungju <- air[cb,]\n",
    "result <- tapply(chungju$PM10, chungju$point, mean, na.rm = T)\n",
    "result <- as.data.frame(round(result,2))\n",
    "\n",
    "result"
   ]
  },
  {
   "cell_type": "markdown",
   "id": "d54165f2-9230-4d4a-a7f5-60830729ee41",
   "metadata": {
    "tags": []
   },
   "source": [
    "<hr>\n",
    "<h4>22. 가거도와 같이 ‘가’로 시작하는 측정소(point)만 검색하여 데이터 ga에 저장 후 빈도\n",
    "표 출력</h4>"
   ]
  },
  {
   "cell_type": "code",
   "execution_count": null,
   "id": "1ff7cf0e-6a2a-4663-9a9a-ba5f206a96fb",
   "metadata": {
    "tags": []
   },
   "outputs": [],
   "source": [
    "idx <- grep(\"^가\", air$point) \n",
    "ga <- air[idx,] \n",
    "\n",
    "table(ga$point) "
   ]
  },
  {
   "cell_type": "markdown",
   "id": "c7cda171-7b4d-4d15-a083-f8ee805a06ca",
   "metadata": {
    "tags": []
   },
   "source": [
    "<hr>\n",
    "<h4>23. 데이터 ga에서 세 변수 prov, city, point를 하나의 문자열로 합쳐 point2에 저장\n",
    "하고, 다음 변수만 출력하여 확인</h4>"
   ]
  },
  {
   "cell_type": "code",
   "execution_count": null,
   "id": "4a678956-aceb-436d-ab5e-62f54ec9c004",
   "metadata": {
    "tags": []
   },
   "outputs": [],
   "source": [
    "ga$point2 <- paste(ga$prov, ga$city, ga$point)\n",
    "\n",
    "gaprint <- data.frame(prov = ga$prov, city = ga$city, point = ga$point, PM10 = ga$PM10, point2 = ga$point2)\n",
    "\n",
    "gaprint"
   ]
  },
  {
   "cell_type": "markdown",
   "id": "7002fdb5-e053-4762-8bf2-04578a0624b4",
   "metadata": {
    "tags": []
   },
   "source": [
    "<hr>\n",
    "<h4>24.데이터 ga에서 측정소별(point2) PM10의 평균을 다음과 같이 출력</h4>"
   ]
  },
  {
   "cell_type": "code",
   "execution_count": null,
   "id": "f49a01b3-458e-42d2-9301-ca05e0c0b277",
   "metadata": {
    "tags": []
   },
   "outputs": [],
   "source": [
    "result <- tapply(ga$PM10, ga$point2, mean, na.rm = T)\n",
    "result <- as.data.frame(round(result,2))\n",
    "\n",
    "result"
   ]
  }
 ],
 "metadata": {
  "kernelspec": {
   "display_name": "R",
   "language": "R",
   "name": "ir"
  },
  "language_info": {
   "codemirror_mode": "r",
   "file_extension": ".r",
   "mimetype": "text/x-r-source",
   "name": "R",
   "pygments_lexer": "r",
   "version": "4.3.1"
  }
 },
 "nbformat": 4,
 "nbformat_minor": 5
}
