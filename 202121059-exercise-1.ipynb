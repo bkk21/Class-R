{
 "cells": [
  {
   "cell_type": "markdown",
   "id": "2d752f2d-effe-445f-addf-6185086e0b5b",
   "metadata": {},
   "source": [
    "<h1>R 스스로 해보기</h1>\n",
    "<h3>2023년 10월 4일 (수)</h3>\n",
    "<hr>"
   ]
  },
  {
   "cell_type": "markdown",
   "id": "1785d37f-4d8e-4cae-85e7-fc4aa0ce6c6b",
   "metadata": {},
   "source": [
    "<h4>1. 4개의 4를 이용하여 다음과 같이 1, 4, 5, 9, 10의 결과를 출력하는 코드를 작성하시오.</h4>\n",
    "<h5>(산술연산자, 괄호 등 사용 가능. 단, 함수 사용 금지) </h5>"
   ]
  },
  {
   "cell_type": "code",
   "execution_count": 177,
   "id": "1d8c350e-c866-44a4-98b8-762397b924c4",
   "metadata": {
    "tags": []
   },
   "outputs": [
    {
     "name": "stdout",
     "output_type": "stream",
     "text": [
      "[1] 1\n",
      "[1] 4\n",
      "[1] 5\n",
      "[1] 9\n",
      "[1] 10\n"
     ]
    }
   ],
   "source": [
    "print(44 / 44) # 1 출력\n",
    "print((4 %% 4) / 4 + 4) # 4 출력\n",
    "print((4 * 4 + 4) / 4) # 5 출력 \n",
    "print(4 / 4 + 4 + 4) # 9 출력\n",
    "print((44 - 4) / 4) # 10 출력"
   ]
  },
  {
   "cell_type": "markdown",
   "id": "96bd9486-cd04-4ff4-8e7a-0be413268da2",
   "metadata": {
    "tags": []
   },
   "source": [
    "<hr>\n",
    "<h4>2. 벡터 x에 10, 11, 20, 27, 30 저장하고 x 출력</h4>\n",
    "<h5>(print(x) 또는 그냥 x) </h5>"
   ]
  },
  {
   "cell_type": "code",
   "execution_count": 42,
   "id": "ef34bb56-dd98-4581-ba00-8c8a54a2e148",
   "metadata": {
    "tags": []
   },
   "outputs": [
    {
     "name": "stdout",
     "output_type": "stream",
     "text": [
      "[1] 10 11 20 27 30\n"
     ]
    }
   ],
   "source": [
    "x <- c(10, 11, 20, 27, 30)\n",
    "print(x)"
   ]
  },
  {
   "cell_type": "markdown",
   "id": "fe694f41-4b45-4f7c-8c21-a43ad304430d",
   "metadata": {
    "tags": []
   },
   "source": [
    "<hr>\n",
    "<h4>3. 벡터 x의 평균을 구하여 m에 저장하고 m 출력</h4>"
   ]
  },
  {
   "cell_type": "code",
   "execution_count": 49,
   "id": "a5ea388a-c4ab-420c-9dd4-83a9ddba1423",
   "metadata": {
    "tags": []
   },
   "outputs": [
    {
     "name": "stdout",
     "output_type": "stream",
     "text": [
      "[1] 19.6\n"
     ]
    }
   ],
   "source": [
    "m <- mean(x)\n",
    "print(m)"
   ]
  },
  {
   "cell_type": "markdown",
   "id": "7f473b2f-a0ae-4668-8faf-2d069603c750",
   "metadata": {
    "tags": []
   },
   "source": [
    "<hr>\n",
    "<h4>4. 벡터 x의 각 성분에서 m을 빼서 xm에 저장하고 xm 출력</h4>"
   ]
  },
  {
   "cell_type": "code",
   "execution_count": 55,
   "id": "67ad23e3-e9fb-43dc-a218-b6921a4a5366",
   "metadata": {
    "tags": []
   },
   "outputs": [
    {
     "name": "stdout",
     "output_type": "stream",
     "text": [
      "[1] -9.6 -8.6  0.4  7.4 10.4\n"
     ]
    }
   ],
   "source": [
    "xm <- x - m\n",
    "print(mx)"
   ]
  },
  {
   "cell_type": "markdown",
   "id": "005ee1a7-e196-4fd8-82d7-faab57874012",
   "metadata": {
    "tags": []
   },
   "source": [
    "<hr>\n",
    "<h4>5. xm의 각 성분을 제곱하여 xm2에 저장하고 xm2 출력 </h4>"
   ]
  },
  {
   "cell_type": "code",
   "execution_count": 57,
   "id": "0251c41a-1901-4f61-97ef-f6df16ed4223",
   "metadata": {
    "tags": []
   },
   "outputs": [
    {
     "name": "stdout",
     "output_type": "stream",
     "text": [
      "[1]  92.16  73.96   0.16  54.76 108.16\n"
     ]
    }
   ],
   "source": [
    "xm2 <- xm ^ 2\n",
    "print(xm2)"
   ]
  },
  {
   "cell_type": "markdown",
   "id": "6caeb827-ac16-46e2-99c7-7f971b8bf2cd",
   "metadata": {
    "tags": []
   },
   "source": [
    "<hr>\n",
    "<h4>6. xm2의 성분의 합을 v에 저장</h4>"
   ]
  },
  {
   "cell_type": "code",
   "execution_count": 60,
   "id": "d827cff5-9e38-4eb9-991c-8a3fe52a7eea",
   "metadata": {
    "tags": []
   },
   "outputs": [
    {
     "name": "stdout",
     "output_type": "stream",
     "text": [
      "[1] 329.2\n"
     ]
    }
   ],
   "source": [
    "v <- sum(xm2)\n",
    "print(v)"
   ]
  },
  {
   "cell_type": "markdown",
   "id": "b7c9ba55-9ab8-4901-94ae-76b598dbac3f",
   "metadata": {
    "tags": []
   },
   "source": [
    "<hr>\n",
    "<h4>7. 벡터 v를 4로 나눈 결과를 출력</h4>"
   ]
  },
  {
   "cell_type": "markdown",
   "id": "e8c55ce3-a7a9-40e0-881d-6d068d0bd066",
   "metadata": {
    "tags": []
   },
   "source": [
    "print(v / 4)"
   ]
  },
  {
   "cell_type": "markdown",
   "id": "57044c51-ba3e-4a81-bd40-a9ad94953fef",
   "metadata": {
    "tags": []
   },
   "source": [
    "<hr>\n",
    "<h4>8. var(x)의 값을 출력</h4>"
   ]
  },
  {
   "cell_type": "code",
   "execution_count": 65,
   "id": "1098694c-6d51-4183-b2e6-f151f79b64e8",
   "metadata": {
    "tags": []
   },
   "outputs": [
    {
     "name": "stdout",
     "output_type": "stream",
     "text": [
      "[1] 82.3\n"
     ]
    }
   ],
   "source": [
    "print(var(x))"
   ]
  },
  {
   "cell_type": "markdown",
   "id": "78551059-8827-46a7-bfc6-d932d300ce13",
   "metadata": {
    "tags": []
   },
   "source": [
    "<hr>\n",
    "<h4>9. 다음과 같은 행렬을 만들어 m에 저장하고, 출력</h4>"
   ]
  },
  {
   "cell_type": "code",
   "execution_count": 69,
   "id": "79d1fd74-00b5-4007-b58b-3f97e6ce090a",
   "metadata": {
    "tags": []
   },
   "outputs": [
    {
     "name": "stdout",
     "output_type": "stream",
     "text": [
      "     [,1] [,2] [,3] [,4]\n",
      "[1,]   17   36   25   24\n",
      "[2,]   37   38   37   29\n",
      "[3,]   33   24   16   48\n"
     ]
    }
   ],
   "source": [
    "m <- matrix(c(17, 37, 33, 36, 38, 24, 25, 37, 16, 24, 29, 48), 3, 4)\n",
    "print(m)"
   ]
  },
  {
   "cell_type": "markdown",
   "id": "6780eb4c-1ea7-4d84-890c-1e22838a5494",
   "metadata": {
    "tags": []
   },
   "source": [
    "<hr>\n",
    "<h4>10. 행렬 m의 (2, 2) 성분의 값을 22로 수정</h4>"
   ]
  },
  {
   "cell_type": "code",
   "execution_count": 75,
   "id": "b74a9586-35d3-4e2a-9db9-78ff66b45657",
   "metadata": {
    "tags": []
   },
   "outputs": [
    {
     "name": "stdout",
     "output_type": "stream",
     "text": [
      "     [,1] [,2] [,3] [,4]\n",
      "[1,]   17   36   25   24\n",
      "[2,]   37   22   37   29\n",
      "[3,]   33   24   16   48\n"
     ]
    }
   ],
   "source": [
    "m[2,2] <- 22\n",
    "print(m)"
   ]
  },
  {
   "cell_type": "markdown",
   "id": "7cf8c3a1-3027-495f-a4e6-fc9d5555ec2d",
   "metadata": {
    "tags": []
   },
   "source": [
    "<hr>\n",
    "<h4>11. 행렬 m의 (3, 4) 성분의 값을 34로 수정</h4>"
   ]
  },
  {
   "cell_type": "code",
   "execution_count": 78,
   "id": "7fd188c9-9aaf-4490-a07d-560f44938017",
   "metadata": {
    "tags": []
   },
   "outputs": [
    {
     "name": "stdout",
     "output_type": "stream",
     "text": [
      "     [,1] [,2] [,3] [,4]\n",
      "[1,]   17   36   25   24\n",
      "[2,]   37   22   37   29\n",
      "[3,]   34   24   16   34\n"
     ]
    }
   ],
   "source": [
    "m[3, 4] <- 34\n",
    "print(m)"
   ]
  },
  {
   "cell_type": "markdown",
   "id": "7678eb25-b0c7-4971-8568-ff364801e83b",
   "metadata": {
    "tags": []
   },
   "source": [
    "<hr>\n",
    "<h4>12. 행렬의 각 행의 합을 구하여 벡터 rsum에 저장</h4>"
   ]
  },
  {
   "cell_type": "code",
   "execution_count": 83,
   "id": "cf1846bf-5acf-4d23-99f5-032dad1f4d83",
   "metadata": {
    "tags": []
   },
   "outputs": [
    {
     "name": "stdout",
     "output_type": "stream",
     "text": [
      "[1] 102 125 108\n"
     ]
    }
   ],
   "source": [
    "rsum <- rowSums(m)\n",
    "print(rsum)"
   ]
  },
  {
   "cell_type": "markdown",
   "id": "f935ae07-1b25-4a58-810b-be5a547e146b",
   "metadata": {
    "tags": []
   },
   "source": [
    "<hr>\n",
    "<h4>13. 행렬의 각 열의 합을 구하여 벡터 csum에 저장</h4>"
   ]
  },
  {
   "cell_type": "code",
   "execution_count": 86,
   "id": "bc50beca-7b3d-48f7-86d5-d0fc26e67e3d",
   "metadata": {
    "tags": []
   },
   "outputs": [
    {
     "name": "stdout",
     "output_type": "stream",
     "text": [
      "[1] 88 82 78 87\n"
     ]
    }
   ],
   "source": [
    "csum <- colSums(m)\n",
    "print(csum)"
   ]
  },
  {
   "cell_type": "markdown",
   "id": "c60d7e28-a966-4e7c-9cf7-d63e93982fb6",
   "metadata": {
    "tags": []
   },
   "source": [
    "<hr>\n",
    "<h4>14. 다음과 같이 주사위 난수를 100개 생성하여 벡터 dice에 저장</h4>"
   ]
  },
  {
   "cell_type": "code",
   "execution_count": 90,
   "id": "9ec03c77-fc5b-42b9-b403-748a4257c1c5",
   "metadata": {
    "tags": []
   },
   "outputs": [],
   "source": [
    "dice <- floor(runif(100, 0, 6)) + 1"
   ]
  },
  {
   "cell_type": "markdown",
   "id": "67dfca2e-aea6-411f-81a3-9e8f4e5b2a03",
   "metadata": {
    "tags": []
   },
   "source": [
    "<hr>\n",
    "<h4>15. 벡터 dice의 처음 10개의 원소만 추출하여 dice10에 저장하고 출력 </h4>"
   ]
  },
  {
   "cell_type": "code",
   "execution_count": 93,
   "id": "eb7d128f-cd41-4c7f-bdc1-330ce4c9dc80",
   "metadata": {
    "tags": []
   },
   "outputs": [
    {
     "name": "stdout",
     "output_type": "stream",
     "text": [
      " [1] 5 3 5 4 2 3 1 6 1 5\n"
     ]
    }
   ],
   "source": [
    "dice10 <- dice[1:10]\n",
    "print(dice10)"
   ]
  },
  {
   "cell_type": "markdown",
   "id": "39558468-5769-4e59-b71e-bda26d227a90",
   "metadata": {
    "tags": []
   },
   "source": [
    "<hr>\n",
    "<h4>16. 벡터 dice의 10번째, 20번째, ..., 100번째 원소만 추출하여 dice10에 저장하고 출력 </h4>"
   ]
  },
  {
   "cell_type": "code",
   "execution_count": 107,
   "id": "cfb36525-d550-44a8-a4fe-cec8079cb7aa",
   "metadata": {
    "tags": []
   },
   "outputs": [
    {
     "name": "stdout",
     "output_type": "stream",
     "text": [
      " [1] 5 1 3 4 6 5 3 1 6 5\n"
     ]
    }
   ],
   "source": [
    "dice100 <- dice[10 * 1:10]\n",
    "print(dice100)"
   ]
  },
  {
   "cell_type": "markdown",
   "id": "e39dca29-8cf3-4a35-aa64-64da4456094d",
   "metadata": {
    "tags": []
   },
   "source": [
    "<hr>\n",
    "<h4>17. 세 벡터 dice, dice10, dice100의 평균을 각각 구하여 출력 </h4>"
   ]
  },
  {
   "cell_type": "code",
   "execution_count": 113,
   "id": "847cb1ea-4cd9-4a46-a08d-5a9853fc463b",
   "metadata": {
    "tags": []
   },
   "outputs": [
    {
     "name": "stdout",
     "output_type": "stream",
     "text": [
      "[1] 3.52\n",
      "[1] 3.5\n",
      "[1] 3.9\n"
     ]
    }
   ],
   "source": [
    "print(mean(dice)) #dice 평균\n",
    "print(mean(dice10)) #dice10 평균\n",
    "print(mean(dice100)) #dice100 평균"
   ]
  },
  {
   "cell_type": "markdown",
   "id": "7e3dbf62-b6e4-4dc9-b8a6-58ddd1710f3d",
   "metadata": {
    "tags": []
   },
   "source": [
    "<hr>\n",
    "<h4>18. 다음은 11명의 키와 몸무게에 대한 자료이다. 각각 벡터 h와 w에 대한 자료를 입력하고 출력</h4>"
   ]
  },
  {
   "cell_type": "code",
   "execution_count": 124,
   "id": "ab76ad2e-af3f-480d-8556-a0378287fb62",
   "metadata": {
    "tags": []
   },
   "outputs": [
    {
     "name": "stdout",
     "output_type": "stream",
     "text": [
      " [1] 58 59 60 61 62 63 64 65 66 67 68\n",
      " [1] 115 117 120 123 126 129 132 135 139 142 146\n"
     ]
    }
   ],
   "source": [
    "h <- c(58:68)\n",
    "print(h)\n",
    "\n",
    "w <- c(115, 117, 120, 123, 126, 129, 132, 135, 139, 142, 146)\n",
    "print(w)"
   ]
  },
  {
   "cell_type": "markdown",
   "id": "cdbff14c-7f49-40ea-b6d1-2b8b077fd1f4",
   "metadata": {
    "tags": []
   },
   "source": [
    "<hr>\n",
    "<h4>19. 1인치(in)는 2.54cm이다. h를 m 단위로 환산하여 h2에 저장</h4>"
   ]
  },
  {
   "cell_type": "code",
   "execution_count": 128,
   "id": "44501ad6-3802-4708-a7c8-556e5e6845c0",
   "metadata": {
    "tags": []
   },
   "outputs": [
    {
     "name": "stdout",
     "output_type": "stream",
     "text": [
      " [1] 147.32 149.86 152.40 154.94 157.48 160.02 162.56 165.10 167.64 170.18\n",
      "[11] 172.72\n"
     ]
    }
   ],
   "source": [
    "h2 <- h * 2.54\n",
    "print(h2)"
   ]
  },
  {
   "cell_type": "markdown",
   "id": "f40eb56c-c14c-4a48-838b-f7cfc8b2758d",
   "metadata": {
    "tags": []
   },
   "source": [
    "<hr>\n",
    "<h4>20. 1파운드(lbs)는 0.45Kg이다. w를 Kg 단위로 환산하여 w2에 저장 </h4>"
   ]
  },
  {
   "cell_type": "code",
   "execution_count": 132,
   "id": "b4637be1-3a3c-4a9d-b179-76ab2ad1dbe8",
   "metadata": {
    "tags": []
   },
   "outputs": [
    {
     "name": "stdout",
     "output_type": "stream",
     "text": [
      " [1] 51.75 52.65 54.00 55.35 56.70 58.05 59.40 60.75 62.55 63.90 65.70\n"
     ]
    }
   ],
   "source": [
    "w2 <- w * 0.45\n",
    "print(w2)"
   ]
  },
  {
   "cell_type": "markdown",
   "id": "206e62d3-b612-4bd6-ba21-07ea4d9e1414",
   "metadata": {
    "tags": []
   },
   "source": [
    "<hr>\n",
    "<h4>21. 두 벡터 h2, w2로 다음과 같이 데이터프레임을 생성</h4>"
   ]
  },
  {
   "cell_type": "code",
   "execution_count": 136,
   "id": "3feb817a-6280-48fa-bed6-3ab2fd9d060c",
   "metadata": {
    "tags": []
   },
   "outputs": [
    {
     "name": "stdout",
     "output_type": "stream",
     "text": [
      "   height weight\n",
      "1  147.32  51.75\n",
      "2  149.86  52.65\n",
      "3  152.40  54.00\n",
      "4  154.94  55.35\n",
      "5  157.48  56.70\n",
      "6  160.02  58.05\n",
      "7  162.56  59.40\n",
      "8  165.10  60.75\n",
      "9  167.64  62.55\n",
      "10 170.18  63.90\n",
      "11 172.72  65.70\n"
     ]
    }
   ],
   "source": [
    "mydf <- data.frame(height = h2, weight = w2)\n",
    "\n",
    "print(mydf)"
   ]
  },
  {
   "cell_type": "markdown",
   "id": "d54165f2-9230-4d4a-a7f5-60830729ee41",
   "metadata": {
    "tags": []
   },
   "source": [
    "<hr>\n",
    "<h4>22. 다음과 같이 체질량 지수 bmi를 계산하여 데이터프레임 mydf의 키 bmi에 저장. 즉, mydf$bmi에 저장하고 mydf 출력</h4>\n",
    "<h5>(단, 소수점 둘째 자리까지 구한다.)</h5>"
   ]
  },
  {
   "cell_type": "code",
   "execution_count": 160,
   "id": "1ff7cf0e-6a2a-4663-9a9a-ba5f206a96fb",
   "metadata": {
    "tags": []
   },
   "outputs": [
    {
     "name": "stdout",
     "output_type": "stream",
     "text": [
      "   height weight   bmi\n",
      "1  147.32  51.75 23.84\n",
      "2  149.86  52.65 23.44\n",
      "3  152.40  54.00 23.25\n",
      "4  154.94  55.35 23.06\n",
      "5  157.48  56.70 22.86\n",
      "6  160.02  58.05 22.67\n",
      "7  162.56  59.40 22.48\n",
      "8  165.10  60.75 22.29\n",
      "9  167.64  62.55 22.26\n",
      "10 170.18  63.90 22.06\n",
      "11 172.72  65.70 22.02\n"
     ]
    }
   ],
   "source": [
    "mydf$bmi = round(mydf$weight / (mydf$height * 0.01) ^2, 2)\n",
    "print(mydf)"
   ]
  },
  {
   "cell_type": "markdown",
   "id": "c7cda171-7b4d-4d15-a083-f8ee805a06ca",
   "metadata": {
    "tags": []
   },
   "source": [
    "<hr>\n",
    "<h4>23. 변수 T0에 현재 온도 -10을 입력 </h4>"
   ]
  },
  {
   "cell_type": "code",
   "execution_count": 167,
   "id": "4a678956-aceb-436d-ab5e-62f54ec9c004",
   "metadata": {
    "tags": []
   },
   "outputs": [
    {
     "name": "stdout",
     "output_type": "stream",
     "text": [
      "[1] -10\n"
     ]
    }
   ],
   "source": [
    "T0 <- -10\n",
    "print(T0)"
   ]
  },
  {
   "cell_type": "markdown",
   "id": "7002fdb5-e053-4762-8bf2-04578a0624b4",
   "metadata": {
    "tags": []
   },
   "source": [
    "<hr>\n",
    "<h4>24. 벡터 V에 풍속을 1부터 30까지 저장</h4>"
   ]
  },
  {
   "cell_type": "code",
   "execution_count": 170,
   "id": "f49a01b3-458e-42d2-9301-ca05e0c0b277",
   "metadata": {
    "tags": []
   },
   "outputs": [
    {
     "name": "stdout",
     "output_type": "stream",
     "text": [
      " [1]  1  2  3  4  5  6  7  8  9 10 11 12 13 14 15 16 17 18 19 20 21 22 23 24 25\n",
      "[26] 26 27 28 29 30\n"
     ]
    }
   ],
   "source": [
    "v <- 1:30\n",
    "print(v)"
   ]
  },
  {
   "cell_type": "markdown",
   "id": "76dc5e96-4116-47a3-964f-777f10600f3e",
   "metadata": {
    "tags": []
   },
   "source": [
    "<hr>\n",
    "<h4>25. 체감온도 T를 구하여 출력(print(T))</h4>"
   ]
  },
  {
   "cell_type": "code",
   "execution_count": 174,
   "id": "7fc2dad6-1441-4225-98f8-70fe43195d38",
   "metadata": {
    "tags": []
   },
   "outputs": [
    {
     "name": "stdout",
     "output_type": "stream",
     "text": [
      " [1]  -8.30000 -10.10622 -11.25947 -12.12429 -12.82305 -13.41280 -13.92502\n",
      " [8] -14.37905 -14.78767 -15.15977 -15.50183 -15.81869 -16.11409 -16.39098\n",
      "[15] -16.65173 -16.89827 -17.13218 -17.35481 -17.56728 -17.77056 -17.96547\n",
      "[22] -18.15273 -18.33298 -18.50675 -18.67455 -18.83680 -18.99390 -19.14617\n",
      "[29] -19.29395 -19.43751\n"
     ]
    }
   ],
   "source": [
    "T = 13.1 + 0.6 * T0 + (0.4 * T0 - 11.4) * v ^ 0.16\n",
    "\n",
    "print(T)"
   ]
  },
  {
   "cell_type": "markdown",
   "id": "c679e9f1-cea8-46bd-b280-abc345cb835e",
   "metadata": {
    "tags": []
   },
   "source": [
    "<hr>\n",
    "<h4>26. v와 T에 대한 그래프 출력 (plot(v, T))</h4>"
   ]
  },
  {
   "cell_type": "code",
   "execution_count": 176,
   "id": "420203d4-4880-4340-b057-21dd584aef17",
   "metadata": {
    "tags": []
   },
   "outputs": [
    {
     "data": {
      "image/png": "[encoded data removed]",
      "text/plain": [
       "plot without title"
      ]
     },
     "metadata": {
      "image/png": {
       "height": 420,
       "width": 420
      }
     },
     "output_type": "display_data"
    }
   ],
   "source": [
    "plot(v, T)"
   ]
  }
 ],
 "metadata": {
  "kernelspec": {
   "display_name": "R",
   "language": "R",
   "name": "ir"
  },
  "language_info": {
   "codemirror_mode": "r",
   "file_extension": ".r",
   "mimetype": "text/x-r-source",
   "name": "R",
   "pygments_lexer": "r",
   "version": "4.3.1"
  }
 },
 "nbformat": 4,
 "nbformat_minor": 5
}
