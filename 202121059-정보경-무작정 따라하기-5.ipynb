{
 "cells": [
  {
   "cell_type": "markdown",
   "id": "1fa9f67c-4520-4579-9fca-c82b6e16a1c4",
   "metadata": {
    "tags": []
   },
   "source": [
    "<h1>R 무작정 따라하기 5</h1>\n",
    "<h3>2023년 11월 15일 (수)</h3>\n",
    "<hr>"
   ]
  },
  {
   "cell_type": "code",
   "execution_count": 1,
   "id": "09ebf277-44fc-4ec8-8d78-2d889d3dde69",
   "metadata": {
    "tags": []
   },
   "outputs": [],
   "source": [
    "library(doBy)"
   ]
  },
  {
   "cell_type": "code",
   "execution_count": 2,
   "id": "6a4e2f84-d9ca-4e16-b379-14f5cfe90696",
   "metadata": {
    "tags": []
   },
   "outputs": [
    {
     "data": {
      "text/html": [
       "<table class=\"dataframe\">\n",
       "<caption>A data.frame: 2 × 2</caption>\n",
       "<thead>\n",
       "\t<tr><th></th><th scope=col>supp</th><th scope=col>len.mean</th></tr>\n",
       "\t<tr><th></th><th scope=col>&lt;fct&gt;</th><th scope=col>&lt;dbl&gt;</th></tr>\n",
       "</thead>\n",
       "<tbody>\n",
       "\t<tr><th scope=row>1</th><td>OJ</td><td>20.66333</td></tr>\n",
       "\t<tr><th scope=row>2</th><td>VC</td><td>16.96333</td></tr>\n",
       "</tbody>\n",
       "</table>\n"
      ],
      "text/latex": [
       "A data.frame: 2 × 2\n",
       "\\begin{tabular}{r|ll}\n",
       "  & supp & len.mean\\\\\n",
       "  & <fct> & <dbl>\\\\\n",
       "\\hline\n",
       "\t1 & OJ & 20.66333\\\\\n",
       "\t2 & VC & 16.96333\\\\\n",
       "\\end{tabular}\n"
      ],
      "text/markdown": [
       "\n",
       "A data.frame: 2 × 2\n",
       "\n",
       "| <!--/--> | supp &lt;fct&gt; | len.mean &lt;dbl&gt; |\n",
       "|---|---|---|\n",
       "| 1 | OJ | 20.66333 |\n",
       "| 2 | VC | 16.96333 |\n",
       "\n"
      ],
      "text/plain": [
       "  supp len.mean\n",
       "1 OJ   20.66333\n",
       "2 VC   16.96333"
      ]
     },
     "metadata": {},
     "output_type": "display_data"
    }
   ],
   "source": [
    "result <- summaryBy(len ~ supp, data = ToothGrowth, FUN = mean)\n",
    "result"
   ]
  },
  {
   "cell_type": "code",
   "execution_count": 3,
   "id": "fbbd04bb-1e1a-4e9e-b609-cb97ff771d64",
   "metadata": {
    "tags": []
   },
   "outputs": [
    {
     "data": {
      "text/html": [
       "'data.frame'"
      ],
      "text/latex": [
       "'data.frame'"
      ],
      "text/markdown": [
       "'data.frame'"
      ],
      "text/plain": [
       "[1] \"data.frame\""
      ]
     },
     "metadata": {},
     "output_type": "display_data"
    }
   ],
   "source": [
    "class(result)"
   ]
  },
  {
   "cell_type": "code",
   "execution_count": 4,
   "id": "9878b5e7-d2f8-4a68-8f69-402cae145788",
   "metadata": {
    "tags": []
   },
   "outputs": [
    {
     "data": {
      "text/html": [
       "<table class=\"dataframe\">\n",
       "<caption>A data.frame: 3 × 2</caption>\n",
       "<thead>\n",
       "\t<tr><th></th><th scope=col>dose</th><th scope=col>len.mean</th></tr>\n",
       "\t<tr><th></th><th scope=col>&lt;dbl&gt;</th><th scope=col>&lt;dbl&gt;</th></tr>\n",
       "</thead>\n",
       "<tbody>\n",
       "\t<tr><th scope=row>1</th><td>0.5</td><td>10.605</td></tr>\n",
       "\t<tr><th scope=row>2</th><td>1.0</td><td>19.735</td></tr>\n",
       "\t<tr><th scope=row>3</th><td>2.0</td><td>26.100</td></tr>\n",
       "</tbody>\n",
       "</table>\n"
      ],
      "text/latex": [
       "A data.frame: 3 × 2\n",
       "\\begin{tabular}{r|ll}\n",
       "  & dose & len.mean\\\\\n",
       "  & <dbl> & <dbl>\\\\\n",
       "\\hline\n",
       "\t1 & 0.5 & 10.605\\\\\n",
       "\t2 & 1.0 & 19.735\\\\\n",
       "\t3 & 2.0 & 26.100\\\\\n",
       "\\end{tabular}\n"
      ],
      "text/markdown": [
       "\n",
       "A data.frame: 3 × 2\n",
       "\n",
       "| <!--/--> | dose &lt;dbl&gt; | len.mean &lt;dbl&gt; |\n",
       "|---|---|---|\n",
       "| 1 | 0.5 | 10.605 |\n",
       "| 2 | 1.0 | 19.735 |\n",
       "| 3 | 2.0 | 26.100 |\n",
       "\n"
      ],
      "text/plain": [
       "  dose len.mean\n",
       "1 0.5  10.605  \n",
       "2 1.0  19.735  \n",
       "3 2.0  26.100  "
      ]
     },
     "metadata": {},
     "output_type": "display_data"
    }
   ],
   "source": [
    "result <- summaryBy(len ~ dose, data = ToothGrowth, FUN = mean)\n",
    "result"
   ]
  },
  {
   "cell_type": "code",
   "execution_count": 5,
   "id": "b24ee85d-5c16-4b56-9271-bdaa7dceb9e6",
   "metadata": {
    "tags": []
   },
   "outputs": [
    {
     "data": {
      "text/html": [
       "<table class=\"dataframe\">\n",
       "<caption>A data.frame: 3 × 2</caption>\n",
       "<thead>\n",
       "\t<tr><th></th><th scope=col>dose</th><th scope=col>len.mean</th></tr>\n",
       "\t<tr><th></th><th scope=col>&lt;dbl&gt;</th><th scope=col>&lt;dbl&gt;</th></tr>\n",
       "</thead>\n",
       "<tbody>\n",
       "\t<tr><th scope=row>1</th><td>0.5</td><td>10.61</td></tr>\n",
       "\t<tr><th scope=row>2</th><td>1.0</td><td>19.74</td></tr>\n",
       "\t<tr><th scope=row>3</th><td>2.0</td><td>26.10</td></tr>\n",
       "</tbody>\n",
       "</table>\n"
      ],
      "text/latex": [
       "A data.frame: 3 × 2\n",
       "\\begin{tabular}{r|ll}\n",
       "  & dose & len.mean\\\\\n",
       "  & <dbl> & <dbl>\\\\\n",
       "\\hline\n",
       "\t1 & 0.5 & 10.61\\\\\n",
       "\t2 & 1.0 & 19.74\\\\\n",
       "\t3 & 2.0 & 26.10\\\\\n",
       "\\end{tabular}\n"
      ],
      "text/markdown": [
       "\n",
       "A data.frame: 3 × 2\n",
       "\n",
       "| <!--/--> | dose &lt;dbl&gt; | len.mean &lt;dbl&gt; |\n",
       "|---|---|---|\n",
       "| 1 | 0.5 | 10.61 |\n",
       "| 2 | 1.0 | 19.74 |\n",
       "| 3 | 2.0 | 26.10 |\n",
       "\n"
      ],
      "text/plain": [
       "  dose len.mean\n",
       "1 0.5  10.61   \n",
       "2 1.0  19.74   \n",
       "3 2.0  26.10   "
      ]
     },
     "metadata": {},
     "output_type": "display_data"
    }
   ],
   "source": [
    "result$len.mean <- round(result$len.mean, 2)\n",
    "result"
   ]
  },
  {
   "cell_type": "code",
   "execution_count": 6,
   "id": "ce26e6d4-8745-4f41-9fc1-6fa3075cf1cd",
   "metadata": {
    "tags": []
   },
   "outputs": [
    {
     "data": {
      "text/html": [
       "<table class=\"dataframe\">\n",
       "<caption>A data.frame: 6 × 3</caption>\n",
       "<thead>\n",
       "\t<tr><th></th><th scope=col>supp</th><th scope=col>dose</th><th scope=col>len.median</th></tr>\n",
       "\t<tr><th></th><th scope=col>&lt;fct&gt;</th><th scope=col>&lt;dbl&gt;</th><th scope=col>&lt;dbl&gt;</th></tr>\n",
       "</thead>\n",
       "<tbody>\n",
       "\t<tr><th scope=row>1</th><td>OJ</td><td>0.5</td><td>12.25</td></tr>\n",
       "\t<tr><th scope=row>2</th><td>OJ</td><td>1.0</td><td>23.45</td></tr>\n",
       "\t<tr><th scope=row>3</th><td>OJ</td><td>2.0</td><td>25.95</td></tr>\n",
       "\t<tr><th scope=row>4</th><td>VC</td><td>0.5</td><td> 7.15</td></tr>\n",
       "\t<tr><th scope=row>5</th><td>VC</td><td>1.0</td><td>16.50</td></tr>\n",
       "\t<tr><th scope=row>6</th><td>VC</td><td>2.0</td><td>25.95</td></tr>\n",
       "</tbody>\n",
       "</table>\n"
      ],
      "text/latex": [
       "A data.frame: 6 × 3\n",
       "\\begin{tabular}{r|lll}\n",
       "  & supp & dose & len.median\\\\\n",
       "  & <fct> & <dbl> & <dbl>\\\\\n",
       "\\hline\n",
       "\t1 & OJ & 0.5 & 12.25\\\\\n",
       "\t2 & OJ & 1.0 & 23.45\\\\\n",
       "\t3 & OJ & 2.0 & 25.95\\\\\n",
       "\t4 & VC & 0.5 &  7.15\\\\\n",
       "\t5 & VC & 1.0 & 16.50\\\\\n",
       "\t6 & VC & 2.0 & 25.95\\\\\n",
       "\\end{tabular}\n"
      ],
      "text/markdown": [
       "\n",
       "A data.frame: 6 × 3\n",
       "\n",
       "| <!--/--> | supp &lt;fct&gt; | dose &lt;dbl&gt; | len.median &lt;dbl&gt; |\n",
       "|---|---|---|---|\n",
       "| 1 | OJ | 0.5 | 12.25 |\n",
       "| 2 | OJ | 1.0 | 23.45 |\n",
       "| 3 | OJ | 2.0 | 25.95 |\n",
       "| 4 | VC | 0.5 |  7.15 |\n",
       "| 5 | VC | 1.0 | 16.50 |\n",
       "| 6 | VC | 2.0 | 25.95 |\n",
       "\n"
      ],
      "text/plain": [
       "  supp dose len.median\n",
       "1 OJ   0.5  12.25     \n",
       "2 OJ   1.0  23.45     \n",
       "3 OJ   2.0  25.95     \n",
       "4 VC   0.5   7.15     \n",
       "5 VC   1.0  16.50     \n",
       "6 VC   2.0  25.95     "
      ]
     },
     "metadata": {},
     "output_type": "display_data"
    }
   ],
   "source": [
    "summaryBy(len ~ supp + dose, data=ToothGrowth, FUN=median)"
   ]
  },
  {
   "cell_type": "code",
   "execution_count": 7,
   "id": "4b0bc22a-f64c-4730-9c05-2e8a68f0f611",
   "metadata": {
    "tags": []
   },
   "outputs": [
    {
     "data": {
      "text/html": [
       "<table class=\"dataframe\">\n",
       "<caption>A matrix: 2 × 3 of type dbl</caption>\n",
       "<thead>\n",
       "\t<tr><th></th><th scope=col>0.5</th><th scope=col>1</th><th scope=col>2</th></tr>\n",
       "</thead>\n",
       "<tbody>\n",
       "\t<tr><th scope=row>OJ</th><td>13.23</td><td>22.70</td><td>26.06</td></tr>\n",
       "\t<tr><th scope=row>VC</th><td> 7.98</td><td>16.77</td><td>26.14</td></tr>\n",
       "</tbody>\n",
       "</table>\n"
      ],
      "text/latex": [
       "A matrix: 2 × 3 of type dbl\n",
       "\\begin{tabular}{r|lll}\n",
       "  & 0.5 & 1 & 2\\\\\n",
       "\\hline\n",
       "\tOJ & 13.23 & 22.70 & 26.06\\\\\n",
       "\tVC &  7.98 & 16.77 & 26.14\\\\\n",
       "\\end{tabular}\n"
      ],
      "text/markdown": [
       "\n",
       "A matrix: 2 × 3 of type dbl\n",
       "\n",
       "| <!--/--> | 0.5 | 1 | 2 |\n",
       "|---|---|---|---|\n",
       "| OJ | 13.23 | 22.70 | 26.06 |\n",
       "| VC |  7.98 | 16.77 | 26.14 |\n",
       "\n"
      ],
      "text/plain": [
       "   0.5   1     2    \n",
       "OJ 13.23 22.70 26.06\n",
       "VC  7.98 16.77 26.14"
      ]
     },
     "metadata": {},
     "output_type": "display_data"
    }
   ],
   "source": [
    "tapply(ToothGrowth$len, list(ToothGrowth$supp, ToothGrowth$dose), mean)"
   ]
  },
  {
   "cell_type": "code",
   "execution_count": 8,
   "id": "25c80825-c9db-43ee-b289-5cef6a6a218c",
   "metadata": {
    "tags": []
   },
   "outputs": [
    {
     "data": {
      "text/html": [
       "<table class=\"dataframe\">\n",
       "<caption>A data.frame: 2 × 4</caption>\n",
       "<thead>\n",
       "\t<tr><th></th><th scope=col>supp</th><th scope=col>len.mean</th><th scope=col>len.min</th><th scope=col>len.max</th></tr>\n",
       "\t<tr><th></th><th scope=col>&lt;fct&gt;</th><th scope=col>&lt;dbl&gt;</th><th scope=col>&lt;dbl&gt;</th><th scope=col>&lt;dbl&gt;</th></tr>\n",
       "</thead>\n",
       "<tbody>\n",
       "\t<tr><th scope=row>1</th><td>OJ</td><td>20.66333</td><td>8.2</td><td>30.9</td></tr>\n",
       "\t<tr><th scope=row>2</th><td>VC</td><td>16.96333</td><td>4.2</td><td>33.9</td></tr>\n",
       "</tbody>\n",
       "</table>\n"
      ],
      "text/latex": [
       "A data.frame: 2 × 4\n",
       "\\begin{tabular}{r|llll}\n",
       "  & supp & len.mean & len.min & len.max\\\\\n",
       "  & <fct> & <dbl> & <dbl> & <dbl>\\\\\n",
       "\\hline\n",
       "\t1 & OJ & 20.66333 & 8.2 & 30.9\\\\\n",
       "\t2 & VC & 16.96333 & 4.2 & 33.9\\\\\n",
       "\\end{tabular}\n"
      ],
      "text/markdown": [
       "\n",
       "A data.frame: 2 × 4\n",
       "\n",
       "| <!--/--> | supp &lt;fct&gt; | len.mean &lt;dbl&gt; | len.min &lt;dbl&gt; | len.max &lt;dbl&gt; |\n",
       "|---|---|---|---|---|\n",
       "| 1 | OJ | 20.66333 | 8.2 | 30.9 |\n",
       "| 2 | VC | 16.96333 | 4.2 | 33.9 |\n",
       "\n"
      ],
      "text/plain": [
       "  supp len.mean len.min len.max\n",
       "1 OJ   20.66333 8.2     30.9   \n",
       "2 VC   16.96333 4.2     33.9   "
      ]
     },
     "metadata": {},
     "output_type": "display_data"
    }
   ],
   "source": [
    "result <- summaryBy(len ~ supp, data=ToothGrowth, FUN=c(mean, min, max))\n",
    "result"
   ]
  },
  {
   "cell_type": "code",
   "execution_count": 9,
   "id": "a1adae69-c262-4583-b37b-b08ce26c5f2f",
   "metadata": {
    "tags": []
   },
   "outputs": [
    {
     "data": {
      "text/html": [
       "<table class=\"dataframe\">\n",
       "<caption>A data.frame: 6 × 4</caption>\n",
       "<thead>\n",
       "\t<tr><th></th><th scope=col>supp</th><th scope=col>dose</th><th scope=col>len.length</th><th scope=col>len.mean</th></tr>\n",
       "\t<tr><th></th><th scope=col>&lt;fct&gt;</th><th scope=col>&lt;dbl&gt;</th><th scope=col>&lt;dbl&gt;</th><th scope=col>&lt;dbl&gt;</th></tr>\n",
       "</thead>\n",
       "<tbody>\n",
       "\t<tr><th scope=row>1</th><td>OJ</td><td>0.5</td><td>10</td><td>13.23</td></tr>\n",
       "\t<tr><th scope=row>2</th><td>OJ</td><td>1.0</td><td>10</td><td>22.70</td></tr>\n",
       "\t<tr><th scope=row>3</th><td>OJ</td><td>2.0</td><td>10</td><td>26.06</td></tr>\n",
       "\t<tr><th scope=row>4</th><td>VC</td><td>0.5</td><td>10</td><td> 7.98</td></tr>\n",
       "\t<tr><th scope=row>5</th><td>VC</td><td>1.0</td><td>10</td><td>16.77</td></tr>\n",
       "\t<tr><th scope=row>6</th><td>VC</td><td>2.0</td><td>10</td><td>26.14</td></tr>\n",
       "</tbody>\n",
       "</table>\n"
      ],
      "text/latex": [
       "A data.frame: 6 × 4\n",
       "\\begin{tabular}{r|llll}\n",
       "  & supp & dose & len.length & len.mean\\\\\n",
       "  & <fct> & <dbl> & <dbl> & <dbl>\\\\\n",
       "\\hline\n",
       "\t1 & OJ & 0.5 & 10 & 13.23\\\\\n",
       "\t2 & OJ & 1.0 & 10 & 22.70\\\\\n",
       "\t3 & OJ & 2.0 & 10 & 26.06\\\\\n",
       "\t4 & VC & 0.5 & 10 &  7.98\\\\\n",
       "\t5 & VC & 1.0 & 10 & 16.77\\\\\n",
       "\t6 & VC & 2.0 & 10 & 26.14\\\\\n",
       "\\end{tabular}\n"
      ],
      "text/markdown": [
       "\n",
       "A data.frame: 6 × 4\n",
       "\n",
       "| <!--/--> | supp &lt;fct&gt; | dose &lt;dbl&gt; | len.length &lt;dbl&gt; | len.mean &lt;dbl&gt; |\n",
       "|---|---|---|---|---|\n",
       "| 1 | OJ | 0.5 | 10 | 13.23 |\n",
       "| 2 | OJ | 1.0 | 10 | 22.70 |\n",
       "| 3 | OJ | 2.0 | 10 | 26.06 |\n",
       "| 4 | VC | 0.5 | 10 |  7.98 |\n",
       "| 5 | VC | 1.0 | 10 | 16.77 |\n",
       "| 6 | VC | 2.0 | 10 | 26.14 |\n",
       "\n"
      ],
      "text/plain": [
       "  supp dose len.length len.mean\n",
       "1 OJ   0.5  10         13.23   \n",
       "2 OJ   1.0  10         22.70   \n",
       "3 OJ   2.0  10         26.06   \n",
       "4 VC   0.5  10          7.98   \n",
       "5 VC   1.0  10         16.77   \n",
       "6 VC   2.0  10         26.14   "
      ]
     },
     "metadata": {},
     "output_type": "display_data"
    }
   ],
   "source": [
    "result <- summaryBy(len ~ supp + dose, data=ToothGrowth, FUN=c(length, mean))\n",
    "result"
   ]
  },
  {
   "cell_type": "code",
   "execution_count": 10,
   "id": "cfb55480-fda2-4bd1-acac-5950d0fa10c0",
   "metadata": {
    "tags": []
   },
   "outputs": [
    {
     "data": {
      "text/html": [
       "<style>\n",
       ".list-inline {list-style: none; margin:0; padding: 0}\n",
       ".list-inline>li {display: inline-block}\n",
       ".list-inline>li:not(:last-child)::after {content: \"\\00b7\"; padding: 0 .5ex}\n",
       "</style>\n",
       "<ol class=list-inline><li>'202121059-정보경-exercise-5.ipynb'</li><li>'202121059-정보경-무작정 따라하기-5.ipynb'</li><li>'2022년_도로교통공단_일자별 시군구별 교통사고 건수.csv'</li><li>'2022년_서울_일별평균대기오염도_2022.csv'</li><li>'air_2021.xlsx'</li></ol>\n"
      ],
      "text/latex": [
       "\\begin{enumerate*}\n",
       "\\item '202121059-정보경-exercise-5.ipynb'\n",
       "\\item '202121059-정보경-무작정 따라하기-5.ipynb'\n",
       "\\item '2022년\\_도로교통공단\\_일자별 시군구별 교통사고 건수.csv'\n",
       "\\item '2022년\\_서울\\_일별평균대기오염도\\_2022.csv'\n",
       "\\item 'air\\_2021.xlsx'\n",
       "\\end{enumerate*}\n"
      ],
      "text/markdown": [
       "1. '202121059-정보경-exercise-5.ipynb'\n",
       "2. '202121059-정보경-무작정 따라하기-5.ipynb'\n",
       "3. '2022년_도로교통공단_일자별 시군구별 교통사고 건수.csv'\n",
       "4. '2022년_서울_일별평균대기오염도_2022.csv'\n",
       "5. 'air_2021.xlsx'\n",
       "\n",
       "\n"
      ],
      "text/plain": [
       "[1] \"202121059-정보경-exercise-5.ipynb\"                    \n",
       "[2] \"202121059-정보경-무작정 따라하기-5.ipynb\"             \n",
       "[3] \"2022년_도로교통공단_일자별 시군구별 교통사고 건수.csv\"\n",
       "[4] \"2022년_서울_일별평균대기오염도_2022.csv\"              \n",
       "[5] \"air_2021.xlsx\"                                        "
      ]
     },
     "metadata": {},
     "output_type": "display_data"
    }
   ],
   "source": [
    "list.files()"
   ]
  },
  {
   "cell_type": "code",
   "execution_count": 11,
   "id": "c9765814-dd4d-45a1-b6a8-94b2bb7dd0ad",
   "metadata": {
    "tags": []
   },
   "outputs": [
    {
     "data": {
      "text/html": [
       "<table class=\"dataframe\">\n",
       "<caption>A data.frame: 6 × 8</caption>\n",
       "<thead>\n",
       "\t<tr><th></th><th scope=col>측정일시</th><th scope=col>측정소명</th><th scope=col>이산화질소</th><th scope=col>오존</th><th scope=col>일산화탄소</th><th scope=col>아황산가스</th><th scope=col>미세먼지</th><th scope=col>초미세먼지</th></tr>\n",
       "\t<tr><th></th><th scope=col>&lt;int&gt;</th><th scope=col>&lt;chr&gt;</th><th scope=col>&lt;dbl&gt;</th><th scope=col>&lt;dbl&gt;</th><th scope=col>&lt;dbl&gt;</th><th scope=col>&lt;dbl&gt;</th><th scope=col>&lt;int&gt;</th><th scope=col>&lt;int&gt;</th></tr>\n",
       "</thead>\n",
       "<tbody>\n",
       "\t<tr><th scope=row>1</th><td>20220101</td><td>강남구  </td><td>0.029</td><td>0.014</td><td>0.5</td><td>0.003</td><td>25</td><td>12</td></tr>\n",
       "\t<tr><th scope=row>2</th><td>20220101</td><td>홍릉로  </td><td>0.038</td><td>0.009</td><td>0.6</td><td>0.004</td><td>27</td><td>16</td></tr>\n",
       "\t<tr><th scope=row>3</th><td>20220101</td><td>행주    </td><td>0.034</td><td>0.012</td><td>0.7</td><td>0.004</td><td>27</td><td>16</td></tr>\n",
       "\t<tr><th scope=row>4</th><td>20220101</td><td>항동    </td><td>0.030</td><td>0.011</td><td>0.5</td><td>0.003</td><td>27</td><td>14</td></tr>\n",
       "\t<tr><th scope=row>5</th><td>20220101</td><td>한강대로</td><td>0.037</td><td>0.011</td><td>0.6</td><td>0.003</td><td>34</td><td>14</td></tr>\n",
       "\t<tr><th scope=row>6</th><td>20220101</td><td>청계천로</td><td>0.037</td><td>0.011</td><td>0.6</td><td>0.003</td><td>27</td><td>16</td></tr>\n",
       "</tbody>\n",
       "</table>\n"
      ],
      "text/latex": [
       "A data.frame: 6 × 8\n",
       "\\begin{tabular}{r|llllllll}\n",
       "  & 측정일시 & 측정소명 & 이산화질소 & 오존 & 일산화탄소 & 아황산가스 & 미세먼지 & 초미세먼지\\\\\n",
       "  & <int> & <chr> & <dbl> & <dbl> & <dbl> & <dbl> & <int> & <int>\\\\\n",
       "\\hline\n",
       "\t1 & 20220101 & 강남구   & 0.029 & 0.014 & 0.5 & 0.003 & 25 & 12\\\\\n",
       "\t2 & 20220101 & 홍릉로   & 0.038 & 0.009 & 0.6 & 0.004 & 27 & 16\\\\\n",
       "\t3 & 20220101 & 행주     & 0.034 & 0.012 & 0.7 & 0.004 & 27 & 16\\\\\n",
       "\t4 & 20220101 & 항동     & 0.030 & 0.011 & 0.5 & 0.003 & 27 & 14\\\\\n",
       "\t5 & 20220101 & 한강대로 & 0.037 & 0.011 & 0.6 & 0.003 & 34 & 14\\\\\n",
       "\t6 & 20220101 & 청계천로 & 0.037 & 0.011 & 0.6 & 0.003 & 27 & 16\\\\\n",
       "\\end{tabular}\n"
      ],
      "text/markdown": [
       "\n",
       "A data.frame: 6 × 8\n",
       "\n",
       "| <!--/--> | 측정일시 &lt;int&gt; | 측정소명 &lt;chr&gt; | 이산화질소 &lt;dbl&gt; | 오존 &lt;dbl&gt; | 일산화탄소 &lt;dbl&gt; | 아황산가스 &lt;dbl&gt; | 미세먼지 &lt;int&gt; | 초미세먼지 &lt;int&gt; |\n",
       "|---|---|---|---|---|---|---|---|---|\n",
       "| 1 | 20220101 | 강남구   | 0.029 | 0.014 | 0.5 | 0.003 | 25 | 12 |\n",
       "| 2 | 20220101 | 홍릉로   | 0.038 | 0.009 | 0.6 | 0.004 | 27 | 16 |\n",
       "| 3 | 20220101 | 행주     | 0.034 | 0.012 | 0.7 | 0.004 | 27 | 16 |\n",
       "| 4 | 20220101 | 항동     | 0.030 | 0.011 | 0.5 | 0.003 | 27 | 14 |\n",
       "| 5 | 20220101 | 한강대로 | 0.037 | 0.011 | 0.6 | 0.003 | 34 | 14 |\n",
       "| 6 | 20220101 | 청계천로 | 0.037 | 0.011 | 0.6 | 0.003 | 27 | 16 |\n",
       "\n"
      ],
      "text/plain": [
       "  측정일시 측정소명 이산화질소 오존  일산화탄소 아황산가스 미세먼지 초미세먼지\n",
       "1 20220101 강남구   0.029      0.014 0.5        0.003      25       12        \n",
       "2 20220101 홍릉로   0.038      0.009 0.6        0.004      27       16        \n",
       "3 20220101 행주     0.034      0.012 0.7        0.004      27       16        \n",
       "4 20220101 항동     0.030      0.011 0.5        0.003      27       14        \n",
       "5 20220101 한강대로 0.037      0.011 0.6        0.003      34       14        \n",
       "6 20220101 청계천로 0.037      0.011 0.6        0.003      27       16        "
      ]
     },
     "metadata": {},
     "output_type": "display_data"
    }
   ],
   "source": [
    "data <- read.csv(\"2022년_서울_일별평균대기오염도_2022.csv\", fileEncoding = \"CP949\")\n",
    "head(data)"
   ]
  },
  {
   "cell_type": "code",
   "execution_count": 12,
   "id": "7ee0961e-8d4f-4336-bd11-16ea057216ef",
   "metadata": {
    "tags": []
   },
   "outputs": [
    {
     "data": {
      "text/html": [
       "TRUE"
      ],
      "text/latex": [
       "TRUE"
      ],
      "text/markdown": [
       "TRUE"
      ],
      "text/plain": [
       "[1] TRUE"
      ]
     },
     "metadata": {},
     "output_type": "display_data"
    }
   ],
   "source": [
    "any(is.na(data))"
   ]
  },
  {
   "cell_type": "code",
   "execution_count": 13,
   "id": "108223e4-ef66-4388-9827-3cffa75dabad",
   "metadata": {
    "tags": []
   },
   "outputs": [
    {
     "data": {
      "text/html": [
       "<table class=\"dataframe\">\n",
       "<caption>A data.frame: 565 × 8</caption>\n",
       "<thead>\n",
       "\t<tr><th></th><th scope=col>측정일시</th><th scope=col>측정소명</th><th scope=col>이산화질소</th><th scope=col>오존</th><th scope=col>일산화탄소</th><th scope=col>아황산가스</th><th scope=col>미세먼지</th><th scope=col>초미세먼지</th></tr>\n",
       "\t<tr><th></th><th scope=col>&lt;int&gt;</th><th scope=col>&lt;chr&gt;</th><th scope=col>&lt;dbl&gt;</th><th scope=col>&lt;dbl&gt;</th><th scope=col>&lt;dbl&gt;</th><th scope=col>&lt;dbl&gt;</th><th scope=col>&lt;int&gt;</th><th scope=col>&lt;int&gt;</th></tr>\n",
       "</thead>\n",
       "<tbody>\n",
       "\t<tr><th scope=row>1492</th><td>20220130</td><td>관악산  </td><td>NA</td><td>0.036</td><td>0.4</td><td>0.004</td><td>29</td><td>14</td></tr>\n",
       "\t<tr><th scope=row>1542</th><td>20220131</td><td>관악산  </td><td>NA</td><td>0.042</td><td>0.4</td><td>0.003</td><td>28</td><td>17</td></tr>\n",
       "\t<tr><th scope=row>1595</th><td>20220201</td><td>관악산  </td><td>NA</td><td>0.040</td><td>0.4</td><td>0.003</td><td>39</td><td>33</td></tr>\n",
       "\t<tr><th scope=row>3332</th><td>20220308</td><td>서대문구</td><td>NA</td><td>0.040</td><td>0.5</td><td>0.003</td><td>66</td><td>30</td></tr>\n",
       "\t<tr><th scope=row>3755</th><td>20220317</td><td>항동    </td><td>NA</td><td>   NA</td><td> NA</td><td>   NA</td><td>NA</td><td>NA</td></tr>\n",
       "\t<tr><th scope=row>3805</th><td>20220318</td><td>항동    </td><td>NA</td><td>   NA</td><td> NA</td><td>   NA</td><td>NA</td><td>NA</td></tr>\n",
       "\t<tr><th scope=row>3855</th><td>20220319</td><td>항동    </td><td>NA</td><td>   NA</td><td> NA</td><td>   NA</td><td>NA</td><td>NA</td></tr>\n",
       "\t<tr><th scope=row>3905</th><td>20220320</td><td>항동    </td><td>NA</td><td>   NA</td><td> NA</td><td>   NA</td><td>NA</td><td>NA</td></tr>\n",
       "\t<tr><th scope=row>4155</th><td>20220325</td><td>항동    </td><td>NA</td><td>   NA</td><td> NA</td><td>   NA</td><td>NA</td><td>NA</td></tr>\n",
       "\t<tr><th scope=row>4205</th><td>20220326</td><td>항동    </td><td>NA</td><td>   NA</td><td> NA</td><td>   NA</td><td>NA</td><td>NA</td></tr>\n",
       "\t<tr><th scope=row>4255</th><td>20220327</td><td>항동    </td><td>NA</td><td>   NA</td><td> NA</td><td>   NA</td><td>NA</td><td>NA</td></tr>\n",
       "\t<tr><th scope=row>4305</th><td>20220328</td><td>항동    </td><td>NA</td><td>   NA</td><td> NA</td><td>   NA</td><td>NA</td><td>NA</td></tr>\n",
       "\t<tr><th scope=row>4355</th><td>20220329</td><td>항동    </td><td>NA</td><td>   NA</td><td> NA</td><td>   NA</td><td>NA</td><td>NA</td></tr>\n",
       "\t<tr><th scope=row>8379</th><td>20220617</td><td>북한산  </td><td>NA</td><td>   NA</td><td> NA</td><td>   NA</td><td>NA</td><td>NA</td></tr>\n",
       "\t<tr><th scope=row>8429</th><td>20220618</td><td>북한산  </td><td>NA</td><td>   NA</td><td> NA</td><td>   NA</td><td>NA</td><td>NA</td></tr>\n",
       "\t<tr><th scope=row>8482</th><td>20220619</td><td>북한산  </td><td>NA</td><td>   NA</td><td> NA</td><td>   NA</td><td>NA</td><td>NA</td></tr>\n",
       "\t<tr><th scope=row>8485</th><td>20220619</td><td>동작대로</td><td>NA</td><td>   NA</td><td> NA</td><td>   NA</td><td>NA</td><td>NA</td></tr>\n",
       "\t<tr><th scope=row>8530</th><td>20220620</td><td>북한산  </td><td>NA</td><td>   NA</td><td> NA</td><td>   NA</td><td>NA</td><td>NA</td></tr>\n",
       "\t<tr><th scope=row>8579</th><td>20220621</td><td>북한산  </td><td>NA</td><td>   NA</td><td> NA</td><td>   NA</td><td>NA</td><td>NA</td></tr>\n",
       "\t<tr><th scope=row>8631</th><td>20220622</td><td>북한산  </td><td>NA</td><td>   NA</td><td> NA</td><td>   NA</td><td>NA</td><td>NA</td></tr>\n",
       "\t<tr><th scope=row>8679</th><td>20220623</td><td>북한산  </td><td>NA</td><td>   NA</td><td> NA</td><td>   NA</td><td>NA</td><td>NA</td></tr>\n",
       "\t<tr><th scope=row>8729</th><td>20220624</td><td>북한산  </td><td>NA</td><td>   NA</td><td> NA</td><td>   NA</td><td>NA</td><td>NA</td></tr>\n",
       "\t<tr><th scope=row>8782</th><td>20220625</td><td>북한산  </td><td>NA</td><td>   NA</td><td> NA</td><td>   NA</td><td>NA</td><td>NA</td></tr>\n",
       "\t<tr><th scope=row>8829</th><td>20220626</td><td>북한산  </td><td>NA</td><td>   NA</td><td> NA</td><td>   NA</td><td>NA</td><td>NA</td></tr>\n",
       "\t<tr><th scope=row>10173</th><td>20220723</td><td>송파구  </td><td>NA</td><td>   NA</td><td> NA</td><td>   NA</td><td>NA</td><td>NA</td></tr>\n",
       "\t<tr><th scope=row>11037</th><td>20220809</td><td>동대문구</td><td>NA</td><td>   NA</td><td> NA</td><td>   NA</td><td>NA</td><td>NA</td></tr>\n",
       "\t<tr><th scope=row>11073</th><td>20220810</td><td>송파구  </td><td>NA</td><td>0.038</td><td>0.3</td><td>0.002</td><td>11</td><td> 5</td></tr>\n",
       "\t<tr><th scope=row>11084</th><td>20220810</td><td>동대문구</td><td>NA</td><td>   NA</td><td> NA</td><td>   NA</td><td>NA</td><td>NA</td></tr>\n",
       "\t<tr><th scope=row>11134</th><td>20220811</td><td>동대문구</td><td>NA</td><td>   NA</td><td> NA</td><td>   NA</td><td>NA</td><td>NA</td></tr>\n",
       "\t<tr><th scope=row>11186</th><td>20220812</td><td>동대문구</td><td>NA</td><td>   NA</td><td> NA</td><td>   NA</td><td>NA</td><td>NA</td></tr>\n",
       "\t<tr><th scope=row>⋮</th><td>⋮</td><td>⋮</td><td>⋮</td><td>⋮</td><td>⋮</td><td>⋮</td><td>⋮</td><td>⋮</td></tr>\n",
       "\t<tr><th scope=row>NA.457</th><td>NA</td><td>NA</td><td>NA</td><td>NA</td><td>NA</td><td>NA</td><td>NA</td><td>NA</td></tr>\n",
       "\t<tr><th scope=row>NA.458</th><td>NA</td><td>NA</td><td>NA</td><td>NA</td><td>NA</td><td>NA</td><td>NA</td><td>NA</td></tr>\n",
       "\t<tr><th scope=row>NA.459</th><td>NA</td><td>NA</td><td>NA</td><td>NA</td><td>NA</td><td>NA</td><td>NA</td><td>NA</td></tr>\n",
       "\t<tr><th scope=row>NA.460</th><td>NA</td><td>NA</td><td>NA</td><td>NA</td><td>NA</td><td>NA</td><td>NA</td><td>NA</td></tr>\n",
       "\t<tr><th scope=row>NA.461</th><td>NA</td><td>NA</td><td>NA</td><td>NA</td><td>NA</td><td>NA</td><td>NA</td><td>NA</td></tr>\n",
       "\t<tr><th scope=row>NA.462</th><td>NA</td><td>NA</td><td>NA</td><td>NA</td><td>NA</td><td>NA</td><td>NA</td><td>NA</td></tr>\n",
       "\t<tr><th scope=row>NA.463</th><td>NA</td><td>NA</td><td>NA</td><td>NA</td><td>NA</td><td>NA</td><td>NA</td><td>NA</td></tr>\n",
       "\t<tr><th scope=row>NA.464</th><td>NA</td><td>NA</td><td>NA</td><td>NA</td><td>NA</td><td>NA</td><td>NA</td><td>NA</td></tr>\n",
       "\t<tr><th scope=row>NA.465</th><td>NA</td><td>NA</td><td>NA</td><td>NA</td><td>NA</td><td>NA</td><td>NA</td><td>NA</td></tr>\n",
       "\t<tr><th scope=row>NA.466</th><td>NA</td><td>NA</td><td>NA</td><td>NA</td><td>NA</td><td>NA</td><td>NA</td><td>NA</td></tr>\n",
       "\t<tr><th scope=row>NA.467</th><td>NA</td><td>NA</td><td>NA</td><td>NA</td><td>NA</td><td>NA</td><td>NA</td><td>NA</td></tr>\n",
       "\t<tr><th scope=row>NA.468</th><td>NA</td><td>NA</td><td>NA</td><td>NA</td><td>NA</td><td>NA</td><td>NA</td><td>NA</td></tr>\n",
       "\t<tr><th scope=row>NA.469</th><td>NA</td><td>NA</td><td>NA</td><td>NA</td><td>NA</td><td>NA</td><td>NA</td><td>NA</td></tr>\n",
       "\t<tr><th scope=row>NA.470</th><td>NA</td><td>NA</td><td>NA</td><td>NA</td><td>NA</td><td>NA</td><td>NA</td><td>NA</td></tr>\n",
       "\t<tr><th scope=row>NA.471</th><td>NA</td><td>NA</td><td>NA</td><td>NA</td><td>NA</td><td>NA</td><td>NA</td><td>NA</td></tr>\n",
       "\t<tr><th scope=row>NA.472</th><td>NA</td><td>NA</td><td>NA</td><td>NA</td><td>NA</td><td>NA</td><td>NA</td><td>NA</td></tr>\n",
       "\t<tr><th scope=row>NA.473</th><td>NA</td><td>NA</td><td>NA</td><td>NA</td><td>NA</td><td>NA</td><td>NA</td><td>NA</td></tr>\n",
       "\t<tr><th scope=row>NA.474</th><td>NA</td><td>NA</td><td>NA</td><td>NA</td><td>NA</td><td>NA</td><td>NA</td><td>NA</td></tr>\n",
       "\t<tr><th scope=row>NA.475</th><td>NA</td><td>NA</td><td>NA</td><td>NA</td><td>NA</td><td>NA</td><td>NA</td><td>NA</td></tr>\n",
       "\t<tr><th scope=row>NA.476</th><td>NA</td><td>NA</td><td>NA</td><td>NA</td><td>NA</td><td>NA</td><td>NA</td><td>NA</td></tr>\n",
       "\t<tr><th scope=row>NA.477</th><td>NA</td><td>NA</td><td>NA</td><td>NA</td><td>NA</td><td>NA</td><td>NA</td><td>NA</td></tr>\n",
       "\t<tr><th scope=row>NA.478</th><td>NA</td><td>NA</td><td>NA</td><td>NA</td><td>NA</td><td>NA</td><td>NA</td><td>NA</td></tr>\n",
       "\t<tr><th scope=row>NA.479</th><td>NA</td><td>NA</td><td>NA</td><td>NA</td><td>NA</td><td>NA</td><td>NA</td><td>NA</td></tr>\n",
       "\t<tr><th scope=row>NA.480</th><td>NA</td><td>NA</td><td>NA</td><td>NA</td><td>NA</td><td>NA</td><td>NA</td><td>NA</td></tr>\n",
       "\t<tr><th scope=row>NA.481</th><td>NA</td><td>NA</td><td>NA</td><td>NA</td><td>NA</td><td>NA</td><td>NA</td><td>NA</td></tr>\n",
       "\t<tr><th scope=row>NA.482</th><td>NA</td><td>NA</td><td>NA</td><td>NA</td><td>NA</td><td>NA</td><td>NA</td><td>NA</td></tr>\n",
       "\t<tr><th scope=row>NA.483</th><td>NA</td><td>NA</td><td>NA</td><td>NA</td><td>NA</td><td>NA</td><td>NA</td><td>NA</td></tr>\n",
       "\t<tr><th scope=row>NA.484</th><td>NA</td><td>NA</td><td>NA</td><td>NA</td><td>NA</td><td>NA</td><td>NA</td><td>NA</td></tr>\n",
       "\t<tr><th scope=row>NA.485</th><td>NA</td><td>NA</td><td>NA</td><td>NA</td><td>NA</td><td>NA</td><td>NA</td><td>NA</td></tr>\n",
       "\t<tr><th scope=row>NA.486</th><td>NA</td><td>NA</td><td>NA</td><td>NA</td><td>NA</td><td>NA</td><td>NA</td><td>NA</td></tr>\n",
       "</tbody>\n",
       "</table>\n"
      ],
      "text/latex": [
       "A data.frame: 565 × 8\n",
       "\\begin{tabular}{r|llllllll}\n",
       "  & 측정일시 & 측정소명 & 이산화질소 & 오존 & 일산화탄소 & 아황산가스 & 미세먼지 & 초미세먼지\\\\\n",
       "  & <int> & <chr> & <dbl> & <dbl> & <dbl> & <dbl> & <int> & <int>\\\\\n",
       "\\hline\n",
       "\t1492 & 20220130 & 관악산   & NA & 0.036 & 0.4 & 0.004 & 29 & 14\\\\\n",
       "\t1542 & 20220131 & 관악산   & NA & 0.042 & 0.4 & 0.003 & 28 & 17\\\\\n",
       "\t1595 & 20220201 & 관악산   & NA & 0.040 & 0.4 & 0.003 & 39 & 33\\\\\n",
       "\t3332 & 20220308 & 서대문구 & NA & 0.040 & 0.5 & 0.003 & 66 & 30\\\\\n",
       "\t3755 & 20220317 & 항동     & NA &    NA &  NA &    NA & NA & NA\\\\\n",
       "\t3805 & 20220318 & 항동     & NA &    NA &  NA &    NA & NA & NA\\\\\n",
       "\t3855 & 20220319 & 항동     & NA &    NA &  NA &    NA & NA & NA\\\\\n",
       "\t3905 & 20220320 & 항동     & NA &    NA &  NA &    NA & NA & NA\\\\\n",
       "\t4155 & 20220325 & 항동     & NA &    NA &  NA &    NA & NA & NA\\\\\n",
       "\t4205 & 20220326 & 항동     & NA &    NA &  NA &    NA & NA & NA\\\\\n",
       "\t4255 & 20220327 & 항동     & NA &    NA &  NA &    NA & NA & NA\\\\\n",
       "\t4305 & 20220328 & 항동     & NA &    NA &  NA &    NA & NA & NA\\\\\n",
       "\t4355 & 20220329 & 항동     & NA &    NA &  NA &    NA & NA & NA\\\\\n",
       "\t8379 & 20220617 & 북한산   & NA &    NA &  NA &    NA & NA & NA\\\\\n",
       "\t8429 & 20220618 & 북한산   & NA &    NA &  NA &    NA & NA & NA\\\\\n",
       "\t8482 & 20220619 & 북한산   & NA &    NA &  NA &    NA & NA & NA\\\\\n",
       "\t8485 & 20220619 & 동작대로 & NA &    NA &  NA &    NA & NA & NA\\\\\n",
       "\t8530 & 20220620 & 북한산   & NA &    NA &  NA &    NA & NA & NA\\\\\n",
       "\t8579 & 20220621 & 북한산   & NA &    NA &  NA &    NA & NA & NA\\\\\n",
       "\t8631 & 20220622 & 북한산   & NA &    NA &  NA &    NA & NA & NA\\\\\n",
       "\t8679 & 20220623 & 북한산   & NA &    NA &  NA &    NA & NA & NA\\\\\n",
       "\t8729 & 20220624 & 북한산   & NA &    NA &  NA &    NA & NA & NA\\\\\n",
       "\t8782 & 20220625 & 북한산   & NA &    NA &  NA &    NA & NA & NA\\\\\n",
       "\t8829 & 20220626 & 북한산   & NA &    NA &  NA &    NA & NA & NA\\\\\n",
       "\t10173 & 20220723 & 송파구   & NA &    NA &  NA &    NA & NA & NA\\\\\n",
       "\t11037 & 20220809 & 동대문구 & NA &    NA &  NA &    NA & NA & NA\\\\\n",
       "\t11073 & 20220810 & 송파구   & NA & 0.038 & 0.3 & 0.002 & 11 &  5\\\\\n",
       "\t11084 & 20220810 & 동대문구 & NA &    NA &  NA &    NA & NA & NA\\\\\n",
       "\t11134 & 20220811 & 동대문구 & NA &    NA &  NA &    NA & NA & NA\\\\\n",
       "\t11186 & 20220812 & 동대문구 & NA &    NA &  NA &    NA & NA & NA\\\\\n",
       "\t⋮ & ⋮ & ⋮ & ⋮ & ⋮ & ⋮ & ⋮ & ⋮ & ⋮\\\\\n",
       "\tNA.457 & NA & NA & NA & NA & NA & NA & NA & NA\\\\\n",
       "\tNA.458 & NA & NA & NA & NA & NA & NA & NA & NA\\\\\n",
       "\tNA.459 & NA & NA & NA & NA & NA & NA & NA & NA\\\\\n",
       "\tNA.460 & NA & NA & NA & NA & NA & NA & NA & NA\\\\\n",
       "\tNA.461 & NA & NA & NA & NA & NA & NA & NA & NA\\\\\n",
       "\tNA.462 & NA & NA & NA & NA & NA & NA & NA & NA\\\\\n",
       "\tNA.463 & NA & NA & NA & NA & NA & NA & NA & NA\\\\\n",
       "\tNA.464 & NA & NA & NA & NA & NA & NA & NA & NA\\\\\n",
       "\tNA.465 & NA & NA & NA & NA & NA & NA & NA & NA\\\\\n",
       "\tNA.466 & NA & NA & NA & NA & NA & NA & NA & NA\\\\\n",
       "\tNA.467 & NA & NA & NA & NA & NA & NA & NA & NA\\\\\n",
       "\tNA.468 & NA & NA & NA & NA & NA & NA & NA & NA\\\\\n",
       "\tNA.469 & NA & NA & NA & NA & NA & NA & NA & NA\\\\\n",
       "\tNA.470 & NA & NA & NA & NA & NA & NA & NA & NA\\\\\n",
       "\tNA.471 & NA & NA & NA & NA & NA & NA & NA & NA\\\\\n",
       "\tNA.472 & NA & NA & NA & NA & NA & NA & NA & NA\\\\\n",
       "\tNA.473 & NA & NA & NA & NA & NA & NA & NA & NA\\\\\n",
       "\tNA.474 & NA & NA & NA & NA & NA & NA & NA & NA\\\\\n",
       "\tNA.475 & NA & NA & NA & NA & NA & NA & NA & NA\\\\\n",
       "\tNA.476 & NA & NA & NA & NA & NA & NA & NA & NA\\\\\n",
       "\tNA.477 & NA & NA & NA & NA & NA & NA & NA & NA\\\\\n",
       "\tNA.478 & NA & NA & NA & NA & NA & NA & NA & NA\\\\\n",
       "\tNA.479 & NA & NA & NA & NA & NA & NA & NA & NA\\\\\n",
       "\tNA.480 & NA & NA & NA & NA & NA & NA & NA & NA\\\\\n",
       "\tNA.481 & NA & NA & NA & NA & NA & NA & NA & NA\\\\\n",
       "\tNA.482 & NA & NA & NA & NA & NA & NA & NA & NA\\\\\n",
       "\tNA.483 & NA & NA & NA & NA & NA & NA & NA & NA\\\\\n",
       "\tNA.484 & NA & NA & NA & NA & NA & NA & NA & NA\\\\\n",
       "\tNA.485 & NA & NA & NA & NA & NA & NA & NA & NA\\\\\n",
       "\tNA.486 & NA & NA & NA & NA & NA & NA & NA & NA\\\\\n",
       "\\end{tabular}\n"
      ],
      "text/markdown": [
       "\n",
       "A data.frame: 565 × 8\n",
       "\n",
       "| <!--/--> | 측정일시 &lt;int&gt; | 측정소명 &lt;chr&gt; | 이산화질소 &lt;dbl&gt; | 오존 &lt;dbl&gt; | 일산화탄소 &lt;dbl&gt; | 아황산가스 &lt;dbl&gt; | 미세먼지 &lt;int&gt; | 초미세먼지 &lt;int&gt; |\n",
       "|---|---|---|---|---|---|---|---|---|\n",
       "| 1492 | 20220130 | 관악산   | NA | 0.036 | 0.4 | 0.004 | 29 | 14 |\n",
       "| 1542 | 20220131 | 관악산   | NA | 0.042 | 0.4 | 0.003 | 28 | 17 |\n",
       "| 1595 | 20220201 | 관악산   | NA | 0.040 | 0.4 | 0.003 | 39 | 33 |\n",
       "| 3332 | 20220308 | 서대문구 | NA | 0.040 | 0.5 | 0.003 | 66 | 30 |\n",
       "| 3755 | 20220317 | 항동     | NA |    NA |  NA |    NA | NA | NA |\n",
       "| 3805 | 20220318 | 항동     | NA |    NA |  NA |    NA | NA | NA |\n",
       "| 3855 | 20220319 | 항동     | NA |    NA |  NA |    NA | NA | NA |\n",
       "| 3905 | 20220320 | 항동     | NA |    NA |  NA |    NA | NA | NA |\n",
       "| 4155 | 20220325 | 항동     | NA |    NA |  NA |    NA | NA | NA |\n",
       "| 4205 | 20220326 | 항동     | NA |    NA |  NA |    NA | NA | NA |\n",
       "| 4255 | 20220327 | 항동     | NA |    NA |  NA |    NA | NA | NA |\n",
       "| 4305 | 20220328 | 항동     | NA |    NA |  NA |    NA | NA | NA |\n",
       "| 4355 | 20220329 | 항동     | NA |    NA |  NA |    NA | NA | NA |\n",
       "| 8379 | 20220617 | 북한산   | NA |    NA |  NA |    NA | NA | NA |\n",
       "| 8429 | 20220618 | 북한산   | NA |    NA |  NA |    NA | NA | NA |\n",
       "| 8482 | 20220619 | 북한산   | NA |    NA |  NA |    NA | NA | NA |\n",
       "| 8485 | 20220619 | 동작대로 | NA |    NA |  NA |    NA | NA | NA |\n",
       "| 8530 | 20220620 | 북한산   | NA |    NA |  NA |    NA | NA | NA |\n",
       "| 8579 | 20220621 | 북한산   | NA |    NA |  NA |    NA | NA | NA |\n",
       "| 8631 | 20220622 | 북한산   | NA |    NA |  NA |    NA | NA | NA |\n",
       "| 8679 | 20220623 | 북한산   | NA |    NA |  NA |    NA | NA | NA |\n",
       "| 8729 | 20220624 | 북한산   | NA |    NA |  NA |    NA | NA | NA |\n",
       "| 8782 | 20220625 | 북한산   | NA |    NA |  NA |    NA | NA | NA |\n",
       "| 8829 | 20220626 | 북한산   | NA |    NA |  NA |    NA | NA | NA |\n",
       "| 10173 | 20220723 | 송파구   | NA |    NA |  NA |    NA | NA | NA |\n",
       "| 11037 | 20220809 | 동대문구 | NA |    NA |  NA |    NA | NA | NA |\n",
       "| 11073 | 20220810 | 송파구   | NA | 0.038 | 0.3 | 0.002 | 11 |  5 |\n",
       "| 11084 | 20220810 | 동대문구 | NA |    NA |  NA |    NA | NA | NA |\n",
       "| 11134 | 20220811 | 동대문구 | NA |    NA |  NA |    NA | NA | NA |\n",
       "| 11186 | 20220812 | 동대문구 | NA |    NA |  NA |    NA | NA | NA |\n",
       "| ⋮ | ⋮ | ⋮ | ⋮ | ⋮ | ⋮ | ⋮ | ⋮ | ⋮ |\n",
       "| NA.457 | NA | NA | NA | NA | NA | NA | NA | NA |\n",
       "| NA.458 | NA | NA | NA | NA | NA | NA | NA | NA |\n",
       "| NA.459 | NA | NA | NA | NA | NA | NA | NA | NA |\n",
       "| NA.460 | NA | NA | NA | NA | NA | NA | NA | NA |\n",
       "| NA.461 | NA | NA | NA | NA | NA | NA | NA | NA |\n",
       "| NA.462 | NA | NA | NA | NA | NA | NA | NA | NA |\n",
       "| NA.463 | NA | NA | NA | NA | NA | NA | NA | NA |\n",
       "| NA.464 | NA | NA | NA | NA | NA | NA | NA | NA |\n",
       "| NA.465 | NA | NA | NA | NA | NA | NA | NA | NA |\n",
       "| NA.466 | NA | NA | NA | NA | NA | NA | NA | NA |\n",
       "| NA.467 | NA | NA | NA | NA | NA | NA | NA | NA |\n",
       "| NA.468 | NA | NA | NA | NA | NA | NA | NA | NA |\n",
       "| NA.469 | NA | NA | NA | NA | NA | NA | NA | NA |\n",
       "| NA.470 | NA | NA | NA | NA | NA | NA | NA | NA |\n",
       "| NA.471 | NA | NA | NA | NA | NA | NA | NA | NA |\n",
       "| NA.472 | NA | NA | NA | NA | NA | NA | NA | NA |\n",
       "| NA.473 | NA | NA | NA | NA | NA | NA | NA | NA |\n",
       "| NA.474 | NA | NA | NA | NA | NA | NA | NA | NA |\n",
       "| NA.475 | NA | NA | NA | NA | NA | NA | NA | NA |\n",
       "| NA.476 | NA | NA | NA | NA | NA | NA | NA | NA |\n",
       "| NA.477 | NA | NA | NA | NA | NA | NA | NA | NA |\n",
       "| NA.478 | NA | NA | NA | NA | NA | NA | NA | NA |\n",
       "| NA.479 | NA | NA | NA | NA | NA | NA | NA | NA |\n",
       "| NA.480 | NA | NA | NA | NA | NA | NA | NA | NA |\n",
       "| NA.481 | NA | NA | NA | NA | NA | NA | NA | NA |\n",
       "| NA.482 | NA | NA | NA | NA | NA | NA | NA | NA |\n",
       "| NA.483 | NA | NA | NA | NA | NA | NA | NA | NA |\n",
       "| NA.484 | NA | NA | NA | NA | NA | NA | NA | NA |\n",
       "| NA.485 | NA | NA | NA | NA | NA | NA | NA | NA |\n",
       "| NA.486 | NA | NA | NA | NA | NA | NA | NA | NA |\n",
       "\n"
      ],
      "text/plain": [
       "       측정일시 측정소명 이산화질소 오존  일산화탄소 아황산가스 미세먼지\n",
       "1492   20220130 관악산   NA         0.036 0.4        0.004      29      \n",
       "1542   20220131 관악산   NA         0.042 0.4        0.003      28      \n",
       "1595   20220201 관악산   NA         0.040 0.4        0.003      39      \n",
       "3332   20220308 서대문구 NA         0.040 0.5        0.003      66      \n",
       "3755   20220317 항동     NA            NA  NA           NA      NA      \n",
       "3805   20220318 항동     NA            NA  NA           NA      NA      \n",
       "3855   20220319 항동     NA            NA  NA           NA      NA      \n",
       "3905   20220320 항동     NA            NA  NA           NA      NA      \n",
       "4155   20220325 항동     NA            NA  NA           NA      NA      \n",
       "4205   20220326 항동     NA            NA  NA           NA      NA      \n",
       "4255   20220327 항동     NA            NA  NA           NA      NA      \n",
       "4305   20220328 항동     NA            NA  NA           NA      NA      \n",
       "4355   20220329 항동     NA            NA  NA           NA      NA      \n",
       "8379   20220617 북한산   NA            NA  NA           NA      NA      \n",
       "8429   20220618 북한산   NA            NA  NA           NA      NA      \n",
       "8482   20220619 북한산   NA            NA  NA           NA      NA      \n",
       "8485   20220619 동작대로 NA            NA  NA           NA      NA      \n",
       "8530   20220620 북한산   NA            NA  NA           NA      NA      \n",
       "8579   20220621 북한산   NA            NA  NA           NA      NA      \n",
       "8631   20220622 북한산   NA            NA  NA           NA      NA      \n",
       "8679   20220623 북한산   NA            NA  NA           NA      NA      \n",
       "8729   20220624 북한산   NA            NA  NA           NA      NA      \n",
       "8782   20220625 북한산   NA            NA  NA           NA      NA      \n",
       "8829   20220626 북한산   NA            NA  NA           NA      NA      \n",
       "10173  20220723 송파구   NA            NA  NA           NA      NA      \n",
       "11037  20220809 동대문구 NA            NA  NA           NA      NA      \n",
       "11073  20220810 송파구   NA         0.038 0.3        0.002      11      \n",
       "11084  20220810 동대문구 NA            NA  NA           NA      NA      \n",
       "11134  20220811 동대문구 NA            NA  NA           NA      NA      \n",
       "11186  20220812 동대문구 NA            NA  NA           NA      NA      \n",
       "⋮      ⋮        ⋮        ⋮          ⋮     ⋮          ⋮          ⋮       \n",
       "NA.457 NA       NA       NA         NA    NA         NA         NA      \n",
       "NA.458 NA       NA       NA         NA    NA         NA         NA      \n",
       "NA.459 NA       NA       NA         NA    NA         NA         NA      \n",
       "NA.460 NA       NA       NA         NA    NA         NA         NA      \n",
       "NA.461 NA       NA       NA         NA    NA         NA         NA      \n",
       "NA.462 NA       NA       NA         NA    NA         NA         NA      \n",
       "NA.463 NA       NA       NA         NA    NA         NA         NA      \n",
       "NA.464 NA       NA       NA         NA    NA         NA         NA      \n",
       "NA.465 NA       NA       NA         NA    NA         NA         NA      \n",
       "NA.466 NA       NA       NA         NA    NA         NA         NA      \n",
       "NA.467 NA       NA       NA         NA    NA         NA         NA      \n",
       "NA.468 NA       NA       NA         NA    NA         NA         NA      \n",
       "NA.469 NA       NA       NA         NA    NA         NA         NA      \n",
       "NA.470 NA       NA       NA         NA    NA         NA         NA      \n",
       "NA.471 NA       NA       NA         NA    NA         NA         NA      \n",
       "NA.472 NA       NA       NA         NA    NA         NA         NA      \n",
       "NA.473 NA       NA       NA         NA    NA         NA         NA      \n",
       "NA.474 NA       NA       NA         NA    NA         NA         NA      \n",
       "NA.475 NA       NA       NA         NA    NA         NA         NA      \n",
       "NA.476 NA       NA       NA         NA    NA         NA         NA      \n",
       "NA.477 NA       NA       NA         NA    NA         NA         NA      \n",
       "NA.478 NA       NA       NA         NA    NA         NA         NA      \n",
       "NA.479 NA       NA       NA         NA    NA         NA         NA      \n",
       "NA.480 NA       NA       NA         NA    NA         NA         NA      \n",
       "NA.481 NA       NA       NA         NA    NA         NA         NA      \n",
       "NA.482 NA       NA       NA         NA    NA         NA         NA      \n",
       "NA.483 NA       NA       NA         NA    NA         NA         NA      \n",
       "NA.484 NA       NA       NA         NA    NA         NA         NA      \n",
       "NA.485 NA       NA       NA         NA    NA         NA         NA      \n",
       "NA.486 NA       NA       NA         NA    NA         NA         NA      \n",
       "       초미세먼지\n",
       "1492   14        \n",
       "1542   17        \n",
       "1595   33        \n",
       "3332   30        \n",
       "3755   NA        \n",
       "3805   NA        \n",
       "3855   NA        \n",
       "3905   NA        \n",
       "4155   NA        \n",
       "4205   NA        \n",
       "4255   NA        \n",
       "4305   NA        \n",
       "4355   NA        \n",
       "8379   NA        \n",
       "8429   NA        \n",
       "8482   NA        \n",
       "8485   NA        \n",
       "8530   NA        \n",
       "8579   NA        \n",
       "8631   NA        \n",
       "8679   NA        \n",
       "8729   NA        \n",
       "8782   NA        \n",
       "8829   NA        \n",
       "10173  NA        \n",
       "11037  NA        \n",
       "11073   5        \n",
       "11084  NA        \n",
       "11134  NA        \n",
       "11186  NA        \n",
       "⋮      ⋮         \n",
       "NA.457 NA        \n",
       "NA.458 NA        \n",
       "NA.459 NA        \n",
       "NA.460 NA        \n",
       "NA.461 NA        \n",
       "NA.462 NA        \n",
       "NA.463 NA        \n",
       "NA.464 NA        \n",
       "NA.465 NA        \n",
       "NA.466 NA        \n",
       "NA.467 NA        \n",
       "NA.468 NA        \n",
       "NA.469 NA        \n",
       "NA.470 NA        \n",
       "NA.471 NA        \n",
       "NA.472 NA        \n",
       "NA.473 NA        \n",
       "NA.474 NA        \n",
       "NA.475 NA        \n",
       "NA.476 NA        \n",
       "NA.477 NA        \n",
       "NA.478 NA        \n",
       "NA.479 NA        \n",
       "NA.480 NA        \n",
       "NA.481 NA        \n",
       "NA.482 NA        \n",
       "NA.483 NA        \n",
       "NA.484 NA        \n",
       "NA.485 NA        \n",
       "NA.486 NA        "
      ]
     },
     "metadata": {},
     "output_type": "display_data"
    }
   ],
   "source": [
    "idx <- which(is.na(data[3:8]))\n",
    "data[idx, ]"
   ]
  },
  {
   "cell_type": "code",
   "execution_count": 14,
   "id": "587ec824-4712-4223-ac67-d611584b9574",
   "metadata": {
    "tags": []
   },
   "outputs": [
    {
     "data": {
      "text/plain": [
       "\n",
       "관악산   남산 북한산 \n",
       "   365    365    365 "
      ]
     },
     "metadata": {},
     "output_type": "display_data"
    }
   ],
   "source": [
    "idx <- grep(\"산$\", data$측정소명)\n",
    "san <- data[idx, ]\n",
    "table(san$측정소명)"
   ]
  },
  {
   "cell_type": "code",
   "execution_count": 15,
   "id": "9f7826b2-baf7-4b29-a36e-436cceae1099",
   "metadata": {
    "tags": []
   },
   "outputs": [
    {
     "data": {
      "text/html": [
       "<table class=\"dataframe\">\n",
       "<caption>A data.frame: 3 × 3</caption>\n",
       "<thead>\n",
       "\t<tr><th></th><th scope=col>측정소명</th><th scope=col>미세먼지.mean</th><th scope=col>미세먼지.max</th></tr>\n",
       "\t<tr><th></th><th scope=col>&lt;chr&gt;</th><th scope=col>&lt;dbl&gt;</th><th scope=col>&lt;dbl&gt;</th></tr>\n",
       "</thead>\n",
       "<tbody>\n",
       "\t<tr><th scope=row>1</th><td>관악산</td><td>NA</td><td>NA</td></tr>\n",
       "\t<tr><th scope=row>2</th><td>남산  </td><td>NA</td><td>NA</td></tr>\n",
       "\t<tr><th scope=row>3</th><td>북한산</td><td>NA</td><td>NA</td></tr>\n",
       "</tbody>\n",
       "</table>\n"
      ],
      "text/latex": [
       "A data.frame: 3 × 3\n",
       "\\begin{tabular}{r|lll}\n",
       "  & 측정소명 & 미세먼지.mean & 미세먼지.max\\\\\n",
       "  & <chr> & <dbl> & <dbl>\\\\\n",
       "\\hline\n",
       "\t1 & 관악산 & NA & NA\\\\\n",
       "\t2 & 남산   & NA & NA\\\\\n",
       "\t3 & 북한산 & NA & NA\\\\\n",
       "\\end{tabular}\n"
      ],
      "text/markdown": [
       "\n",
       "A data.frame: 3 × 3\n",
       "\n",
       "| <!--/--> | 측정소명 &lt;chr&gt; | 미세먼지.mean &lt;dbl&gt; | 미세먼지.max &lt;dbl&gt; |\n",
       "|---|---|---|---|\n",
       "| 1 | 관악산 | NA | NA |\n",
       "| 2 | 남산   | NA | NA |\n",
       "| 3 | 북한산 | NA | NA |\n",
       "\n"
      ],
      "text/plain": [
       "  측정소명 미세먼지.mean 미세먼지.max\n",
       "1 관악산   NA            NA          \n",
       "2 남산     NA            NA          \n",
       "3 북한산   NA            NA          "
      ]
     },
     "metadata": {},
     "output_type": "display_data"
    }
   ],
   "source": [
    "summaryBy(미세먼지 ~ 측정소명, data=san, FUN=c(mean, max))"
   ]
  },
  {
   "cell_type": "code",
   "execution_count": 16,
   "id": "be6c3e22-89b5-4536-b52a-3976c97415c9",
   "metadata": {
    "tags": []
   },
   "outputs": [
    {
     "data": {
      "text/html": [
       "<table class=\"dataframe\">\n",
       "<caption>A data.frame: 3 × 4</caption>\n",
       "<thead>\n",
       "\t<tr><th></th><th scope=col>측정소명</th><th scope=col>미세먼지.min</th><th scope=col>미세먼지.mean</th><th scope=col>미세먼지.max</th></tr>\n",
       "\t<tr><th></th><th scope=col>&lt;chr&gt;</th><th scope=col>&lt;dbl&gt;</th><th scope=col>&lt;dbl&gt;</th><th scope=col>&lt;dbl&gt;</th></tr>\n",
       "</thead>\n",
       "<tbody>\n",
       "\t<tr><th scope=row>1</th><td>관악산</td><td>3</td><td>29.32676</td><td>186</td></tr>\n",
       "\t<tr><th scope=row>2</th><td>남산  </td><td>3</td><td>28.80435</td><td>223</td></tr>\n",
       "\t<tr><th scope=row>3</th><td>북한산</td><td>3</td><td>25.93803</td><td>228</td></tr>\n",
       "</tbody>\n",
       "</table>\n"
      ],
      "text/latex": [
       "A data.frame: 3 × 4\n",
       "\\begin{tabular}{r|llll}\n",
       "  & 측정소명 & 미세먼지.min & 미세먼지.mean & 미세먼지.max\\\\\n",
       "  & <chr> & <dbl> & <dbl> & <dbl>\\\\\n",
       "\\hline\n",
       "\t1 & 관악산 & 3 & 29.32676 & 186\\\\\n",
       "\t2 & 남산   & 3 & 28.80435 & 223\\\\\n",
       "\t3 & 북한산 & 3 & 25.93803 & 228\\\\\n",
       "\\end{tabular}\n"
      ],
      "text/markdown": [
       "\n",
       "A data.frame: 3 × 4\n",
       "\n",
       "| <!--/--> | 측정소명 &lt;chr&gt; | 미세먼지.min &lt;dbl&gt; | 미세먼지.mean &lt;dbl&gt; | 미세먼지.max &lt;dbl&gt; |\n",
       "|---|---|---|---|---|\n",
       "| 1 | 관악산 | 3 | 29.32676 | 186 |\n",
       "| 2 | 남산   | 3 | 28.80435 | 223 |\n",
       "| 3 | 북한산 | 3 | 25.93803 | 228 |\n",
       "\n"
      ],
      "text/plain": [
       "  측정소명 미세먼지.min 미세먼지.mean 미세먼지.max\n",
       "1 관악산   3            29.32676      186         \n",
       "2 남산     3            28.80435      223         \n",
       "3 북한산   3            25.93803      228         "
      ]
     },
     "metadata": {},
     "output_type": "display_data"
    }
   ],
   "source": [
    "summaryBy(미세먼지 ~ 측정소명, data=san, FUN=c(min, mean, max), na.rm=T)"
   ]
  },
  {
   "cell_type": "code",
   "execution_count": 17,
   "id": "16e201ba-2b69-4304-9345-bbf3fe59298e",
   "metadata": {
    "tags": []
   },
   "outputs": [
    {
     "ename": "ERROR",
     "evalue": "Error in currFUN(x, ...): 2 arguments passed to 'length' which requires 1\n",
     "output_type": "error",
     "traceback": [
      "Error in currFUN(x, ...): 2 arguments passed to 'length' which requires 1\nTraceback:\n",
      "1. summaryBy(미세먼지 ~ 측정소명, data = san, FUN = c(length, \n .     mean), na.rm = T)",
      "2. tapply(currVAR, rh.string.factor, function(x) {\n .     currFUN(x, ...)\n . }, simplify = FALSE)",
      "3. lapply(X = ans[index], FUN = FUN, ...)",
      "4. FUN(X[[i]], ...)"
     ]
    }
   ],
   "source": [
    "summaryBy(미세먼지 ~ 측정소명, data=san, FUN=c(length, mean), na.rm=T)"
   ]
  },
  {
   "cell_type": "code",
   "execution_count": 18,
   "id": "99fa1601-9f97-4675-8115-6c5092cc706d",
   "metadata": {
    "tags": []
   },
   "outputs": [
    {
     "data": {
      "text/html": [
       "<style>\n",
       ".list-inline {list-style: none; margin:0; padding: 0}\n",
       ".list-inline>li {display: inline-block}\n",
       ".list-inline>li:not(:last-child)::after {content: \"\\00b7\"; padding: 0 .5ex}\n",
       "</style>\n",
       "<ol class=list-inline><li>17</li><li>20</li><li>23</li><li>26</li><li>29</li><li>32</li><li>35</li><li>38</li><li>41</li><li>44</li><li>47</li><li>50</li><li>53</li><li>56</li><li>59</li><li>62</li><li>65</li><li>68</li><li>71</li><li>74</li><li>77</li><li>80</li><li>83</li><li>86</li><li>89</li><li>92</li><li>95</li><li>98</li><li>101</li><li>104</li><li>107</li><li>110</li><li>113</li><li>116</li><li>119</li><li>122</li><li>125</li><li>128</li><li>131</li><li>134</li><li>137</li><li>140</li><li>347</li><li>502</li><li>505</li><li>508</li><li>511</li><li>514</li><li>517</li><li>520</li><li>523</li><li>526</li><li>529</li><li>873</li><li>876</li><li>879</li><li>882</li><li>885</li><li>888</li><li>891</li><li>951</li><li>996</li><li>1023</li></ol>\n"
      ],
      "text/latex": [
       "\\begin{enumerate*}\n",
       "\\item 17\n",
       "\\item 20\n",
       "\\item 23\n",
       "\\item 26\n",
       "\\item 29\n",
       "\\item 32\n",
       "\\item 35\n",
       "\\item 38\n",
       "\\item 41\n",
       "\\item 44\n",
       "\\item 47\n",
       "\\item 50\n",
       "\\item 53\n",
       "\\item 56\n",
       "\\item 59\n",
       "\\item 62\n",
       "\\item 65\n",
       "\\item 68\n",
       "\\item 71\n",
       "\\item 74\n",
       "\\item 77\n",
       "\\item 80\n",
       "\\item 83\n",
       "\\item 86\n",
       "\\item 89\n",
       "\\item 92\n",
       "\\item 95\n",
       "\\item 98\n",
       "\\item 101\n",
       "\\item 104\n",
       "\\item 107\n",
       "\\item 110\n",
       "\\item 113\n",
       "\\item 116\n",
       "\\item 119\n",
       "\\item 122\n",
       "\\item 125\n",
       "\\item 128\n",
       "\\item 131\n",
       "\\item 134\n",
       "\\item 137\n",
       "\\item 140\n",
       "\\item 347\n",
       "\\item 502\n",
       "\\item 505\n",
       "\\item 508\n",
       "\\item 511\n",
       "\\item 514\n",
       "\\item 517\n",
       "\\item 520\n",
       "\\item 523\n",
       "\\item 526\n",
       "\\item 529\n",
       "\\item 873\n",
       "\\item 876\n",
       "\\item 879\n",
       "\\item 882\n",
       "\\item 885\n",
       "\\item 888\n",
       "\\item 891\n",
       "\\item 951\n",
       "\\item 996\n",
       "\\item 1023\n",
       "\\end{enumerate*}\n"
      ],
      "text/markdown": [
       "1. 17\n",
       "2. 20\n",
       "3. 23\n",
       "4. 26\n",
       "5. 29\n",
       "6. 32\n",
       "7. 35\n",
       "8. 38\n",
       "9. 41\n",
       "10. 44\n",
       "11. 47\n",
       "12. 50\n",
       "13. 53\n",
       "14. 56\n",
       "15. 59\n",
       "16. 62\n",
       "17. 65\n",
       "18. 68\n",
       "19. 71\n",
       "20. 74\n",
       "21. 77\n",
       "22. 80\n",
       "23. 83\n",
       "24. 86\n",
       "25. 89\n",
       "26. 92\n",
       "27. 95\n",
       "28. 98\n",
       "29. 101\n",
       "30. 104\n",
       "31. 107\n",
       "32. 110\n",
       "33. 113\n",
       "34. 116\n",
       "35. 119\n",
       "36. 122\n",
       "37. 125\n",
       "38. 128\n",
       "39. 131\n",
       "40. 134\n",
       "41. 137\n",
       "42. 140\n",
       "43. 347\n",
       "44. 502\n",
       "45. 505\n",
       "46. 508\n",
       "47. 511\n",
       "48. 514\n",
       "49. 517\n",
       "50. 520\n",
       "51. 523\n",
       "52. 526\n",
       "53. 529\n",
       "54. 873\n",
       "55. 876\n",
       "56. 879\n",
       "57. 882\n",
       "58. 885\n",
       "59. 888\n",
       "60. 891\n",
       "61. 951\n",
       "62. 996\n",
       "63. 1023\n",
       "\n",
       "\n"
      ],
      "text/plain": [
       " [1]   17   20   23   26   29   32   35   38   41   44   47   50   53   56   59\n",
       "[16]   62   65   68   71   74   77   80   83   86   89   92   95   98  101  104\n",
       "[31]  107  110  113  116  119  122  125  128  131  134  137  140  347  502  505\n",
       "[46]  508  511  514  517  520  523  526  529  873  876  879  882  885  888  891\n",
       "[61]  951  996 1023"
      ]
     },
     "metadata": {},
     "output_type": "display_data"
    }
   ],
   "source": [
    "idx <- which(is.na(san$미세먼지))\n",
    "idx"
   ]
  },
  {
   "cell_type": "code",
   "execution_count": 19,
   "id": "796d3200-c6cd-47f3-9b77-864f0876c64b",
   "metadata": {
    "tags": []
   },
   "outputs": [
    {
     "data": {
      "text/html": [
       "<table class=\"dataframe\">\n",
       "<caption>A data.frame: 3 × 3</caption>\n",
       "<thead>\n",
       "\t<tr><th></th><th scope=col>측정소명</th><th scope=col>미세먼지.length</th><th scope=col>미세먼지.mean</th></tr>\n",
       "\t<tr><th></th><th scope=col>&lt;chr&gt;</th><th scope=col>&lt;dbl&gt;</th><th scope=col>&lt;dbl&gt;</th></tr>\n",
       "</thead>\n",
       "<tbody>\n",
       "\t<tr><th scope=row>1</th><td>관악산</td><td>355</td><td>29.32676</td></tr>\n",
       "\t<tr><th scope=row>2</th><td>남산  </td><td>322</td><td>28.80435</td></tr>\n",
       "\t<tr><th scope=row>3</th><td>북한산</td><td>355</td><td>25.93803</td></tr>\n",
       "</tbody>\n",
       "</table>\n"
      ],
      "text/latex": [
       "A data.frame: 3 × 3\n",
       "\\begin{tabular}{r|lll}\n",
       "  & 측정소명 & 미세먼지.length & 미세먼지.mean\\\\\n",
       "  & <chr> & <dbl> & <dbl>\\\\\n",
       "\\hline\n",
       "\t1 & 관악산 & 355 & 29.32676\\\\\n",
       "\t2 & 남산   & 322 & 28.80435\\\\\n",
       "\t3 & 북한산 & 355 & 25.93803\\\\\n",
       "\\end{tabular}\n"
      ],
      "text/markdown": [
       "\n",
       "A data.frame: 3 × 3\n",
       "\n",
       "| <!--/--> | 측정소명 &lt;chr&gt; | 미세먼지.length &lt;dbl&gt; | 미세먼지.mean &lt;dbl&gt; |\n",
       "|---|---|---|---|\n",
       "| 1 | 관악산 | 355 | 29.32676 |\n",
       "| 2 | 남산   | 322 | 28.80435 |\n",
       "| 3 | 북한산 | 355 | 25.93803 |\n",
       "\n"
      ],
      "text/plain": [
       "  측정소명 미세먼지.length 미세먼지.mean\n",
       "1 관악산   355             29.32676     \n",
       "2 남산     322             28.80435     \n",
       "3 북한산   355             25.93803     "
      ]
     },
     "metadata": {},
     "output_type": "display_data"
    }
   ],
   "source": [
    "san2 <- san[-idx, ]\n",
    "\n",
    "summaryBy(미세먼지 ~ 측정소명, data=san2, FUN=c(length, mean))"
   ]
  },
  {
   "cell_type": "code",
   "execution_count": 20,
   "id": "4b223453-89a4-481c-82f5-dde9098ee72d",
   "metadata": {
    "tags": []
   },
   "outputs": [
    {
     "data": {
      "text/html": [
       "<table class=\"dataframe\">\n",
       "<caption>A data.frame: 6 × 3</caption>\n",
       "<thead>\n",
       "\t<tr><th></th><th scope=col>측정소명</th><th scope=col>월</th><th scope=col>초미세먼지</th></tr>\n",
       "\t<tr><th></th><th scope=col>&lt;chr&gt;</th><th scope=col>&lt;chr&gt;</th><th scope=col>&lt;int&gt;</th></tr>\n",
       "</thead>\n",
       "<tbody>\n",
       "\t<tr><th scope=row>30</th><td>북한산</td><td>01</td><td>13</td></tr>\n",
       "\t<tr><th scope=row>39</th><td>남산  </td><td>01</td><td>13</td></tr>\n",
       "\t<tr><th scope=row>43</th><td>관악산</td><td>01</td><td> 9</td></tr>\n",
       "\t<tr><th scope=row>79</th><td>북한산</td><td>01</td><td>24</td></tr>\n",
       "\t<tr><th scope=row>88</th><td>남산  </td><td>01</td><td>22</td></tr>\n",
       "\t<tr><th scope=row>92</th><td>관악산</td><td>01</td><td>21</td></tr>\n",
       "</tbody>\n",
       "</table>\n"
      ],
      "text/latex": [
       "A data.frame: 6 × 3\n",
       "\\begin{tabular}{r|lll}\n",
       "  & 측정소명 & 월 & 초미세먼지\\\\\n",
       "  & <chr> & <chr> & <int>\\\\\n",
       "\\hline\n",
       "\t30 & 북한산 & 01 & 13\\\\\n",
       "\t39 & 남산   & 01 & 13\\\\\n",
       "\t43 & 관악산 & 01 &  9\\\\\n",
       "\t79 & 북한산 & 01 & 24\\\\\n",
       "\t88 & 남산   & 01 & 22\\\\\n",
       "\t92 & 관악산 & 01 & 21\\\\\n",
       "\\end{tabular}\n"
      ],
      "text/markdown": [
       "\n",
       "A data.frame: 6 × 3\n",
       "\n",
       "| <!--/--> | 측정소명 &lt;chr&gt; | 월 &lt;chr&gt; | 초미세먼지 &lt;int&gt; |\n",
       "|---|---|---|---|\n",
       "| 30 | 북한산 | 01 | 13 |\n",
       "| 39 | 남산   | 01 | 13 |\n",
       "| 43 | 관악산 | 01 |  9 |\n",
       "| 79 | 북한산 | 01 | 24 |\n",
       "| 88 | 남산   | 01 | 22 |\n",
       "| 92 | 관악산 | 01 | 21 |\n",
       "\n"
      ],
      "text/plain": [
       "   측정소명 월 초미세먼지\n",
       "30 북한산   01 13        \n",
       "39 남산     01 13        \n",
       "43 관악산   01  9        \n",
       "79 북한산   01 24        \n",
       "88 남산     01 22        \n",
       "92 관악산   01 21        "
      ]
     },
     "metadata": {},
     "output_type": "display_data"
    }
   ],
   "source": [
    "san$월 <- substr(san$측정일시, 5,6)\n",
    "head(san[c('측정소명', '월', '초미세먼지')])"
   ]
  },
  {
   "cell_type": "code",
   "execution_count": 21,
   "id": "d59dd323-6ebd-4c60-926a-7f3ed6978a19",
   "metadata": {
    "tags": []
   },
   "outputs": [
    {
     "data": {
      "text/html": [
       "<table class=\"dataframe\">\n",
       "<caption>A data.frame: 36 × 3</caption>\n",
       "<thead>\n",
       "\t<tr><th></th><th scope=col>월</th><th scope=col>측정소명</th><th scope=col>초미세먼지.mean</th></tr>\n",
       "\t<tr><th></th><th scope=col>&lt;chr&gt;</th><th scope=col>&lt;chr&gt;</th><th scope=col>&lt;dbl&gt;</th></tr>\n",
       "</thead>\n",
       "<tbody>\n",
       "\t<tr><th scope=row>1</th><td>01</td><td>관악산</td><td>22.967742</td></tr>\n",
       "\t<tr><th scope=row>2</th><td>01</td><td>남산  </td><td>18.000000</td></tr>\n",
       "\t<tr><th scope=row>3</th><td>01</td><td>북한산</td><td>24.483871</td></tr>\n",
       "\t<tr><th scope=row>4</th><td>02</td><td>관악산</td><td>21.785714</td></tr>\n",
       "\t<tr><th scope=row>5</th><td>02</td><td>남산  </td><td>21.583333</td></tr>\n",
       "\t<tr><th scope=row>6</th><td>02</td><td>북한산</td><td>23.285714</td></tr>\n",
       "\t<tr><th scope=row>7</th><td>03</td><td>관악산</td><td>18.645161</td></tr>\n",
       "\t<tr><th scope=row>8</th><td>03</td><td>남산  </td><td>20.677419</td></tr>\n",
       "\t<tr><th scope=row>9</th><td>03</td><td>북한산</td><td>21.032258</td></tr>\n",
       "\t<tr><th scope=row>10</th><td>04</td><td>관악산</td><td>19.366667</td></tr>\n",
       "\t<tr><th scope=row>11</th><td>04</td><td>남산  </td><td>19.933333</td></tr>\n",
       "\t<tr><th scope=row>12</th><td>04</td><td>북한산</td><td>20.400000</td></tr>\n",
       "\t<tr><th scope=row>13</th><td>05</td><td>관악산</td><td>16.483871</td></tr>\n",
       "\t<tr><th scope=row>14</th><td>05</td><td>남산  </td><td>14.935484</td></tr>\n",
       "\t<tr><th scope=row>15</th><td>05</td><td>북한산</td><td>15.741935</td></tr>\n",
       "\t<tr><th scope=row>16</th><td>06</td><td>관악산</td><td>12.400000</td></tr>\n",
       "\t<tr><th scope=row>17</th><td>06</td><td>남산  </td><td> 9.166667</td></tr>\n",
       "\t<tr><th scope=row>18</th><td>06</td><td>북한산</td><td> 8.700000</td></tr>\n",
       "\t<tr><th scope=row>19</th><td>07</td><td>관악산</td><td>15.741935</td></tr>\n",
       "\t<tr><th scope=row>20</th><td>07</td><td>남산  </td><td>10.451613</td></tr>\n",
       "\t<tr><th scope=row>21</th><td>07</td><td>북한산</td><td>12.516129</td></tr>\n",
       "\t<tr><th scope=row>22</th><td>08</td><td>관악산</td><td>10.419355</td></tr>\n",
       "\t<tr><th scope=row>23</th><td>08</td><td>남산  </td><td> 6.161290</td></tr>\n",
       "\t<tr><th scope=row>24</th><td>08</td><td>북한산</td><td> 8.129032</td></tr>\n",
       "\t<tr><th scope=row>25</th><td>09</td><td>관악산</td><td>10.866667</td></tr>\n",
       "\t<tr><th scope=row>26</th><td>09</td><td>남산  </td><td> 7.900000</td></tr>\n",
       "\t<tr><th scope=row>27</th><td>09</td><td>북한산</td><td> 7.700000</td></tr>\n",
       "\t<tr><th scope=row>28</th><td>10</td><td>관악산</td><td>13.000000</td></tr>\n",
       "\t<tr><th scope=row>29</th><td>10</td><td>남산  </td><td>12.419355</td></tr>\n",
       "\t<tr><th scope=row>30</th><td>10</td><td>북한산</td><td> 9.580645</td></tr>\n",
       "\t<tr><th scope=row>31</th><td>11</td><td>관악산</td><td>18.766667</td></tr>\n",
       "\t<tr><th scope=row>32</th><td>11</td><td>남산  </td><td>21.866667</td></tr>\n",
       "\t<tr><th scope=row>33</th><td>11</td><td>북한산</td><td>17.600000</td></tr>\n",
       "\t<tr><th scope=row>34</th><td>12</td><td>관악산</td><td>13.483871</td></tr>\n",
       "\t<tr><th scope=row>35</th><td>12</td><td>남산  </td><td>18.419355</td></tr>\n",
       "\t<tr><th scope=row>36</th><td>12</td><td>북한산</td><td>15.548387</td></tr>\n",
       "</tbody>\n",
       "</table>\n"
      ],
      "text/latex": [
       "A data.frame: 36 × 3\n",
       "\\begin{tabular}{r|lll}\n",
       "  & 월 & 측정소명 & 초미세먼지.mean\\\\\n",
       "  & <chr> & <chr> & <dbl>\\\\\n",
       "\\hline\n",
       "\t1 & 01 & 관악산 & 22.967742\\\\\n",
       "\t2 & 01 & 남산   & 18.000000\\\\\n",
       "\t3 & 01 & 북한산 & 24.483871\\\\\n",
       "\t4 & 02 & 관악산 & 21.785714\\\\\n",
       "\t5 & 02 & 남산   & 21.583333\\\\\n",
       "\t6 & 02 & 북한산 & 23.285714\\\\\n",
       "\t7 & 03 & 관악산 & 18.645161\\\\\n",
       "\t8 & 03 & 남산   & 20.677419\\\\\n",
       "\t9 & 03 & 북한산 & 21.032258\\\\\n",
       "\t10 & 04 & 관악산 & 19.366667\\\\\n",
       "\t11 & 04 & 남산   & 19.933333\\\\\n",
       "\t12 & 04 & 북한산 & 20.400000\\\\\n",
       "\t13 & 05 & 관악산 & 16.483871\\\\\n",
       "\t14 & 05 & 남산   & 14.935484\\\\\n",
       "\t15 & 05 & 북한산 & 15.741935\\\\\n",
       "\t16 & 06 & 관악산 & 12.400000\\\\\n",
       "\t17 & 06 & 남산   &  9.166667\\\\\n",
       "\t18 & 06 & 북한산 &  8.700000\\\\\n",
       "\t19 & 07 & 관악산 & 15.741935\\\\\n",
       "\t20 & 07 & 남산   & 10.451613\\\\\n",
       "\t21 & 07 & 북한산 & 12.516129\\\\\n",
       "\t22 & 08 & 관악산 & 10.419355\\\\\n",
       "\t23 & 08 & 남산   &  6.161290\\\\\n",
       "\t24 & 08 & 북한산 &  8.129032\\\\\n",
       "\t25 & 09 & 관악산 & 10.866667\\\\\n",
       "\t26 & 09 & 남산   &  7.900000\\\\\n",
       "\t27 & 09 & 북한산 &  7.700000\\\\\n",
       "\t28 & 10 & 관악산 & 13.000000\\\\\n",
       "\t29 & 10 & 남산   & 12.419355\\\\\n",
       "\t30 & 10 & 북한산 &  9.580645\\\\\n",
       "\t31 & 11 & 관악산 & 18.766667\\\\\n",
       "\t32 & 11 & 남산   & 21.866667\\\\\n",
       "\t33 & 11 & 북한산 & 17.600000\\\\\n",
       "\t34 & 12 & 관악산 & 13.483871\\\\\n",
       "\t35 & 12 & 남산   & 18.419355\\\\\n",
       "\t36 & 12 & 북한산 & 15.548387\\\\\n",
       "\\end{tabular}\n"
      ],
      "text/markdown": [
       "\n",
       "A data.frame: 36 × 3\n",
       "\n",
       "| <!--/--> | 월 &lt;chr&gt; | 측정소명 &lt;chr&gt; | 초미세먼지.mean &lt;dbl&gt; |\n",
       "|---|---|---|---|\n",
       "| 1 | 01 | 관악산 | 22.967742 |\n",
       "| 2 | 01 | 남산   | 18.000000 |\n",
       "| 3 | 01 | 북한산 | 24.483871 |\n",
       "| 4 | 02 | 관악산 | 21.785714 |\n",
       "| 5 | 02 | 남산   | 21.583333 |\n",
       "| 6 | 02 | 북한산 | 23.285714 |\n",
       "| 7 | 03 | 관악산 | 18.645161 |\n",
       "| 8 | 03 | 남산   | 20.677419 |\n",
       "| 9 | 03 | 북한산 | 21.032258 |\n",
       "| 10 | 04 | 관악산 | 19.366667 |\n",
       "| 11 | 04 | 남산   | 19.933333 |\n",
       "| 12 | 04 | 북한산 | 20.400000 |\n",
       "| 13 | 05 | 관악산 | 16.483871 |\n",
       "| 14 | 05 | 남산   | 14.935484 |\n",
       "| 15 | 05 | 북한산 | 15.741935 |\n",
       "| 16 | 06 | 관악산 | 12.400000 |\n",
       "| 17 | 06 | 남산   |  9.166667 |\n",
       "| 18 | 06 | 북한산 |  8.700000 |\n",
       "| 19 | 07 | 관악산 | 15.741935 |\n",
       "| 20 | 07 | 남산   | 10.451613 |\n",
       "| 21 | 07 | 북한산 | 12.516129 |\n",
       "| 22 | 08 | 관악산 | 10.419355 |\n",
       "| 23 | 08 | 남산   |  6.161290 |\n",
       "| 24 | 08 | 북한산 |  8.129032 |\n",
       "| 25 | 09 | 관악산 | 10.866667 |\n",
       "| 26 | 09 | 남산   |  7.900000 |\n",
       "| 27 | 09 | 북한산 |  7.700000 |\n",
       "| 28 | 10 | 관악산 | 13.000000 |\n",
       "| 29 | 10 | 남산   | 12.419355 |\n",
       "| 30 | 10 | 북한산 |  9.580645 |\n",
       "| 31 | 11 | 관악산 | 18.766667 |\n",
       "| 32 | 11 | 남산   | 21.866667 |\n",
       "| 33 | 11 | 북한산 | 17.600000 |\n",
       "| 34 | 12 | 관악산 | 13.483871 |\n",
       "| 35 | 12 | 남산   | 18.419355 |\n",
       "| 36 | 12 | 북한산 | 15.548387 |\n",
       "\n"
      ],
      "text/plain": [
       "   월 측정소명 초미세먼지.mean\n",
       "1  01 관악산   22.967742      \n",
       "2  01 남산     18.000000      \n",
       "3  01 북한산   24.483871      \n",
       "4  02 관악산   21.785714      \n",
       "5  02 남산     21.583333      \n",
       "6  02 북한산   23.285714      \n",
       "7  03 관악산   18.645161      \n",
       "8  03 남산     20.677419      \n",
       "9  03 북한산   21.032258      \n",
       "10 04 관악산   19.366667      \n",
       "11 04 남산     19.933333      \n",
       "12 04 북한산   20.400000      \n",
       "13 05 관악산   16.483871      \n",
       "14 05 남산     14.935484      \n",
       "15 05 북한산   15.741935      \n",
       "16 06 관악산   12.400000      \n",
       "17 06 남산      9.166667      \n",
       "18 06 북한산    8.700000      \n",
       "19 07 관악산   15.741935      \n",
       "20 07 남산     10.451613      \n",
       "21 07 북한산   12.516129      \n",
       "22 08 관악산   10.419355      \n",
       "23 08 남산      6.161290      \n",
       "24 08 북한산    8.129032      \n",
       "25 09 관악산   10.866667      \n",
       "26 09 남산      7.900000      \n",
       "27 09 북한산    7.700000      \n",
       "28 10 관악산   13.000000      \n",
       "29 10 남산     12.419355      \n",
       "30 10 북한산    9.580645      \n",
       "31 11 관악산   18.766667      \n",
       "32 11 남산     21.866667      \n",
       "33 11 북한산   17.600000      \n",
       "34 12 관악산   13.483871      \n",
       "35 12 남산     18.419355      \n",
       "36 12 북한산   15.548387      "
      ]
     },
     "metadata": {},
     "output_type": "display_data"
    }
   ],
   "source": [
    "summaryBy(초미세먼지 ~ 월 + 측정소명, data=san, FUN = mean, na.rm = T)"
   ]
  },
  {
   "cell_type": "code",
   "execution_count": 22,
   "id": "00345bca-58c8-4dd5-8045-f33f13bb185c",
   "metadata": {
    "tags": []
   },
   "outputs": [
    {
     "name": "stderr",
     "output_type": "stream",
     "text": [
      "\n",
      "Attaching package: ‘dplyr’\n",
      "\n",
      "\n",
      "The following object is masked from ‘package:doBy’:\n",
      "\n",
      "    order_by\n",
      "\n",
      "\n",
      "The following objects are masked from ‘package:stats’:\n",
      "\n",
      "    filter, lag\n",
      "\n",
      "\n",
      "The following objects are masked from ‘package:base’:\n",
      "\n",
      "    intersect, setdiff, setequal, union\n",
      "\n",
      "\n"
     ]
    }
   ],
   "source": [
    "library(dplyr)"
   ]
  },
  {
   "cell_type": "code",
   "execution_count": 23,
   "id": "7d98e49a-f97a-4396-8d70-6a53d49d7ab2",
   "metadata": {
    "tags": []
   },
   "outputs": [
    {
     "data": {
      "text/html": [
       "<style>\n",
       ".list-inline {list-style: none; margin:0; padding: 0}\n",
       ".list-inline>li {display: inline-block}\n",
       ".list-inline>li:not(:last-child)::after {content: \"\\00b7\"; padding: 0 .5ex}\n",
       "</style>\n",
       "<ol class=list-inline><li>'202121059-정보경-exercise-5.ipynb'</li><li>'202121059-정보경-무작정 따라하기-5.ipynb'</li><li>'2022년_도로교통공단_일자별 시군구별 교통사고 건수.csv'</li><li>'2022년_서울_일별평균대기오염도_2022.csv'</li><li>'air_2021.xlsx'</li></ol>\n"
      ],
      "text/latex": [
       "\\begin{enumerate*}\n",
       "\\item '202121059-정보경-exercise-5.ipynb'\n",
       "\\item '202121059-정보경-무작정 따라하기-5.ipynb'\n",
       "\\item '2022년\\_도로교통공단\\_일자별 시군구별 교통사고 건수.csv'\n",
       "\\item '2022년\\_서울\\_일별평균대기오염도\\_2022.csv'\n",
       "\\item 'air\\_2021.xlsx'\n",
       "\\end{enumerate*}\n"
      ],
      "text/markdown": [
       "1. '202121059-정보경-exercise-5.ipynb'\n",
       "2. '202121059-정보경-무작정 따라하기-5.ipynb'\n",
       "3. '2022년_도로교통공단_일자별 시군구별 교통사고 건수.csv'\n",
       "4. '2022년_서울_일별평균대기오염도_2022.csv'\n",
       "5. 'air_2021.xlsx'\n",
       "\n",
       "\n"
      ],
      "text/plain": [
       "[1] \"202121059-정보경-exercise-5.ipynb\"                    \n",
       "[2] \"202121059-정보경-무작정 따라하기-5.ipynb\"             \n",
       "[3] \"2022년_도로교통공단_일자별 시군구별 교통사고 건수.csv\"\n",
       "[4] \"2022년_서울_일별평균대기오염도_2022.csv\"              \n",
       "[5] \"air_2021.xlsx\"                                        "
      ]
     },
     "metadata": {},
     "output_type": "display_data"
    }
   ],
   "source": [
    "list.files()"
   ]
  },
  {
   "cell_type": "code",
   "execution_count": 24,
   "id": "e4d4235f-8313-4496-97e6-71058350e8f7",
   "metadata": {
    "tags": []
   },
   "outputs": [],
   "source": [
    "data <- read.csv(\"2022년_도로교통공단_일자별 시군구별 교통사고 건수.csv\")"
   ]
  },
  {
   "cell_type": "code",
   "execution_count": 25,
   "id": "5f051ad4-b713-43aa-ae8e-3ad74bc984c1",
   "metadata": {
    "tags": []
   },
   "outputs": [
    {
     "data": {
      "text/html": [
       "<table class=\"dataframe\">\n",
       "<caption>A data.frame: 6 × 8</caption>\n",
       "<thead>\n",
       "\t<tr><th></th><th scope=col>날짜</th><th scope=col>시도</th><th scope=col>시군구</th><th scope=col>사고건수</th><th scope=col>사망자수</th><th scope=col>중상자수</th><th scope=col>경상자수</th><th scope=col>부상신고자수</th></tr>\n",
       "\t<tr><th></th><th scope=col>&lt;int&gt;</th><th scope=col>&lt;chr&gt;</th><th scope=col>&lt;chr&gt;</th><th scope=col>&lt;int&gt;</th><th scope=col>&lt;int&gt;</th><th scope=col>&lt;int&gt;</th><th scope=col>&lt;int&gt;</th><th scope=col>&lt;int&gt;</th></tr>\n",
       "</thead>\n",
       "<tbody>\n",
       "\t<tr><th scope=row>1</th><td>20220101</td><td>서울</td><td>강남구  </td><td>9</td><td>0</td><td>1</td><td>14</td><td>0</td></tr>\n",
       "\t<tr><th scope=row>2</th><td>20220101</td><td>서울</td><td>용산구  </td><td>4</td><td>0</td><td>1</td><td> 3</td><td>0</td></tr>\n",
       "\t<tr><th scope=row>3</th><td>20220101</td><td>서울</td><td>성동구  </td><td>1</td><td>0</td><td>1</td><td> 0</td><td>0</td></tr>\n",
       "\t<tr><th scope=row>4</th><td>20220101</td><td>서울</td><td>동대문구</td><td>2</td><td>0</td><td>1</td><td> 1</td><td>0</td></tr>\n",
       "\t<tr><th scope=row>5</th><td>20220101</td><td>서울</td><td>도봉구  </td><td>5</td><td>0</td><td>4</td><td> 1</td><td>0</td></tr>\n",
       "\t<tr><th scope=row>6</th><td>20220101</td><td>서울</td><td>은평구  </td><td>3</td><td>0</td><td>1</td><td> 2</td><td>0</td></tr>\n",
       "</tbody>\n",
       "</table>\n"
      ],
      "text/latex": [
       "A data.frame: 6 × 8\n",
       "\\begin{tabular}{r|llllllll}\n",
       "  & 날짜 & 시도 & 시군구 & 사고건수 & 사망자수 & 중상자수 & 경상자수 & 부상신고자수\\\\\n",
       "  & <int> & <chr> & <chr> & <int> & <int> & <int> & <int> & <int>\\\\\n",
       "\\hline\n",
       "\t1 & 20220101 & 서울 & 강남구   & 9 & 0 & 1 & 14 & 0\\\\\n",
       "\t2 & 20220101 & 서울 & 용산구   & 4 & 0 & 1 &  3 & 0\\\\\n",
       "\t3 & 20220101 & 서울 & 성동구   & 1 & 0 & 1 &  0 & 0\\\\\n",
       "\t4 & 20220101 & 서울 & 동대문구 & 2 & 0 & 1 &  1 & 0\\\\\n",
       "\t5 & 20220101 & 서울 & 도봉구   & 5 & 0 & 4 &  1 & 0\\\\\n",
       "\t6 & 20220101 & 서울 & 은평구   & 3 & 0 & 1 &  2 & 0\\\\\n",
       "\\end{tabular}\n"
      ],
      "text/markdown": [
       "\n",
       "A data.frame: 6 × 8\n",
       "\n",
       "| <!--/--> | 날짜 &lt;int&gt; | 시도 &lt;chr&gt; | 시군구 &lt;chr&gt; | 사고건수 &lt;int&gt; | 사망자수 &lt;int&gt; | 중상자수 &lt;int&gt; | 경상자수 &lt;int&gt; | 부상신고자수 &lt;int&gt; |\n",
       "|---|---|---|---|---|---|---|---|---|\n",
       "| 1 | 20220101 | 서울 | 강남구   | 9 | 0 | 1 | 14 | 0 |\n",
       "| 2 | 20220101 | 서울 | 용산구   | 4 | 0 | 1 |  3 | 0 |\n",
       "| 3 | 20220101 | 서울 | 성동구   | 1 | 0 | 1 |  0 | 0 |\n",
       "| 4 | 20220101 | 서울 | 동대문구 | 2 | 0 | 1 |  1 | 0 |\n",
       "| 5 | 20220101 | 서울 | 도봉구   | 5 | 0 | 4 |  1 | 0 |\n",
       "| 6 | 20220101 | 서울 | 은평구   | 3 | 0 | 1 |  2 | 0 |\n",
       "\n"
      ],
      "text/plain": [
       "  날짜     시도 시군구   사고건수 사망자수 중상자수 경상자수 부상신고자수\n",
       "1 20220101 서울 강남구   9        0        1        14       0           \n",
       "2 20220101 서울 용산구   4        0        1         3       0           \n",
       "3 20220101 서울 성동구   1        0        1         0       0           \n",
       "4 20220101 서울 동대문구 2        0        1         1       0           \n",
       "5 20220101 서울 도봉구   5        0        4         1       0           \n",
       "6 20220101 서울 은평구   3        0        1         2       0           "
      ]
     },
     "metadata": {},
     "output_type": "display_data"
    }
   ],
   "source": [
    "head(data)"
   ]
  },
  {
   "cell_type": "code",
   "execution_count": 26,
   "id": "a06d1847-0425-4f07-84de-0598cfb9d651",
   "metadata": {
    "tags": []
   },
   "outputs": [
    {
     "data": {
      "text/html": [
       "<table class=\"dataframe\">\n",
       "<caption>A data.frame: 3 × 4</caption>\n",
       "<thead>\n",
       "\t<tr><th></th><th scope=col>날짜</th><th scope=col>시도</th><th scope=col>시군구</th><th scope=col>사고건수</th></tr>\n",
       "\t<tr><th></th><th scope=col>&lt;int&gt;</th><th scope=col>&lt;chr&gt;</th><th scope=col>&lt;chr&gt;</th><th scope=col>&lt;int&gt;</th></tr>\n",
       "</thead>\n",
       "<tbody>\n",
       "\t<tr><th scope=row>1</th><td>20220101</td><td>서울</td><td>강남구</td><td>9</td></tr>\n",
       "\t<tr><th scope=row>2</th><td>20220101</td><td>서울</td><td>용산구</td><td>4</td></tr>\n",
       "\t<tr><th scope=row>3</th><td>20220101</td><td>서울</td><td>성동구</td><td>1</td></tr>\n",
       "</tbody>\n",
       "</table>\n"
      ],
      "text/latex": [
       "A data.frame: 3 × 4\n",
       "\\begin{tabular}{r|llll}\n",
       "  & 날짜 & 시도 & 시군구 & 사고건수\\\\\n",
       "  & <int> & <chr> & <chr> & <int>\\\\\n",
       "\\hline\n",
       "\t1 & 20220101 & 서울 & 강남구 & 9\\\\\n",
       "\t2 & 20220101 & 서울 & 용산구 & 4\\\\\n",
       "\t3 & 20220101 & 서울 & 성동구 & 1\\\\\n",
       "\\end{tabular}\n"
      ],
      "text/markdown": [
       "\n",
       "A data.frame: 3 × 4\n",
       "\n",
       "| <!--/--> | 날짜 &lt;int&gt; | 시도 &lt;chr&gt; | 시군구 &lt;chr&gt; | 사고건수 &lt;int&gt; |\n",
       "|---|---|---|---|---|\n",
       "| 1 | 20220101 | 서울 | 강남구 | 9 |\n",
       "| 2 | 20220101 | 서울 | 용산구 | 4 |\n",
       "| 3 | 20220101 | 서울 | 성동구 | 1 |\n",
       "\n"
      ],
      "text/plain": [
       "  날짜     시도 시군구 사고건수\n",
       "1 20220101 서울 강남구 9       \n",
       "2 20220101 서울 용산구 4       \n",
       "3 20220101 서울 성동구 1       "
      ]
     },
     "metadata": {},
     "output_type": "display_data"
    }
   ],
   "source": [
    "data2 <- select(data, 날짜, 시도, 시군구, 사고건수)\n",
    "head(data2, 3)"
   ]
  },
  {
   "cell_type": "code",
   "execution_count": 27,
   "id": "afc909a1-b752-4d00-88d8-daa427ca14eb",
   "metadata": {
    "tags": []
   },
   "outputs": [
    {
     "data": {
      "text/html": [
       "<table class=\"dataframe\">\n",
       "<caption>A data.frame: 3 × 5</caption>\n",
       "<thead>\n",
       "\t<tr><th></th><th scope=col>날짜</th><th scope=col>시도</th><th scope=col>사고건수</th><th scope=col>사망자수</th><th scope=col>중상자수</th></tr>\n",
       "\t<tr><th></th><th scope=col>&lt;int&gt;</th><th scope=col>&lt;chr&gt;</th><th scope=col>&lt;int&gt;</th><th scope=col>&lt;int&gt;</th><th scope=col>&lt;int&gt;</th></tr>\n",
       "</thead>\n",
       "<tbody>\n",
       "\t<tr><th scope=row>1</th><td>20220101</td><td>서울</td><td>9</td><td>0</td><td>1</td></tr>\n",
       "\t<tr><th scope=row>2</th><td>20220101</td><td>서울</td><td>4</td><td>0</td><td>1</td></tr>\n",
       "\t<tr><th scope=row>3</th><td>20220101</td><td>서울</td><td>1</td><td>0</td><td>1</td></tr>\n",
       "</tbody>\n",
       "</table>\n"
      ],
      "text/latex": [
       "A data.frame: 3 × 5\n",
       "\\begin{tabular}{r|lllll}\n",
       "  & 날짜 & 시도 & 사고건수 & 사망자수 & 중상자수\\\\\n",
       "  & <int> & <chr> & <int> & <int> & <int>\\\\\n",
       "\\hline\n",
       "\t1 & 20220101 & 서울 & 9 & 0 & 1\\\\\n",
       "\t2 & 20220101 & 서울 & 4 & 0 & 1\\\\\n",
       "\t3 & 20220101 & 서울 & 1 & 0 & 1\\\\\n",
       "\\end{tabular}\n"
      ],
      "text/markdown": [
       "\n",
       "A data.frame: 3 × 5\n",
       "\n",
       "| <!--/--> | 날짜 &lt;int&gt; | 시도 &lt;chr&gt; | 사고건수 &lt;int&gt; | 사망자수 &lt;int&gt; | 중상자수 &lt;int&gt; |\n",
       "|---|---|---|---|---|---|\n",
       "| 1 | 20220101 | 서울 | 9 | 0 | 1 |\n",
       "| 2 | 20220101 | 서울 | 4 | 0 | 1 |\n",
       "| 3 | 20220101 | 서울 | 1 | 0 | 1 |\n",
       "\n"
      ],
      "text/plain": [
       "  날짜     시도 사고건수 사망자수 중상자수\n",
       "1 20220101 서울 9        0        1       \n",
       "2 20220101 서울 4        0        1       \n",
       "3 20220101 서울 1        0        1       "
      ]
     },
     "metadata": {},
     "output_type": "display_data"
    }
   ],
   "source": [
    "data3 <- select(data, c(1:2, 4:6))\n",
    "head(data3, 3)"
   ]
  },
  {
   "cell_type": "code",
   "execution_count": 28,
   "id": "33541b46-b3d1-486c-88dd-e2aac5e8ea85",
   "metadata": {
    "tags": []
   },
   "outputs": [
    {
     "data": {
      "text/html": [
       "<table class=\"dataframe\">\n",
       "<caption>A data.frame: 6 × 7</caption>\n",
       "<thead>\n",
       "\t<tr><th></th><th scope=col>날짜</th><th scope=col>시도</th><th scope=col>시군구</th><th scope=col>사고건수</th><th scope=col>사망자수</th><th scope=col>중상자수</th><th scope=col>경상자수</th></tr>\n",
       "\t<tr><th></th><th scope=col>&lt;int&gt;</th><th scope=col>&lt;chr&gt;</th><th scope=col>&lt;chr&gt;</th><th scope=col>&lt;int&gt;</th><th scope=col>&lt;int&gt;</th><th scope=col>&lt;int&gt;</th><th scope=col>&lt;int&gt;</th></tr>\n",
       "</thead>\n",
       "<tbody>\n",
       "\t<tr><th scope=row>1</th><td>20220101</td><td>서울</td><td>강남구  </td><td>9</td><td>0</td><td>1</td><td>14</td></tr>\n",
       "\t<tr><th scope=row>2</th><td>20220101</td><td>서울</td><td>용산구  </td><td>4</td><td>0</td><td>1</td><td> 3</td></tr>\n",
       "\t<tr><th scope=row>3</th><td>20220101</td><td>서울</td><td>성동구  </td><td>1</td><td>0</td><td>1</td><td> 0</td></tr>\n",
       "\t<tr><th scope=row>4</th><td>20220101</td><td>서울</td><td>동대문구</td><td>2</td><td>0</td><td>1</td><td> 1</td></tr>\n",
       "\t<tr><th scope=row>5</th><td>20220101</td><td>서울</td><td>도봉구  </td><td>5</td><td>0</td><td>4</td><td> 1</td></tr>\n",
       "\t<tr><th scope=row>6</th><td>20220101</td><td>서울</td><td>은평구  </td><td>3</td><td>0</td><td>1</td><td> 2</td></tr>\n",
       "</tbody>\n",
       "</table>\n"
      ],
      "text/latex": [
       "A data.frame: 6 × 7\n",
       "\\begin{tabular}{r|lllllll}\n",
       "  & 날짜 & 시도 & 시군구 & 사고건수 & 사망자수 & 중상자수 & 경상자수\\\\\n",
       "  & <int> & <chr> & <chr> & <int> & <int> & <int> & <int>\\\\\n",
       "\\hline\n",
       "\t1 & 20220101 & 서울 & 강남구   & 9 & 0 & 1 & 14\\\\\n",
       "\t2 & 20220101 & 서울 & 용산구   & 4 & 0 & 1 &  3\\\\\n",
       "\t3 & 20220101 & 서울 & 성동구   & 1 & 0 & 1 &  0\\\\\n",
       "\t4 & 20220101 & 서울 & 동대문구 & 2 & 0 & 1 &  1\\\\\n",
       "\t5 & 20220101 & 서울 & 도봉구   & 5 & 0 & 4 &  1\\\\\n",
       "\t6 & 20220101 & 서울 & 은평구   & 3 & 0 & 1 &  2\\\\\n",
       "\\end{tabular}\n"
      ],
      "text/markdown": [
       "\n",
       "A data.frame: 6 × 7\n",
       "\n",
       "| <!--/--> | 날짜 &lt;int&gt; | 시도 &lt;chr&gt; | 시군구 &lt;chr&gt; | 사고건수 &lt;int&gt; | 사망자수 &lt;int&gt; | 중상자수 &lt;int&gt; | 경상자수 &lt;int&gt; |\n",
       "|---|---|---|---|---|---|---|---|\n",
       "| 1 | 20220101 | 서울 | 강남구   | 9 | 0 | 1 | 14 |\n",
       "| 2 | 20220101 | 서울 | 용산구   | 4 | 0 | 1 |  3 |\n",
       "| 3 | 20220101 | 서울 | 성동구   | 1 | 0 | 1 |  0 |\n",
       "| 4 | 20220101 | 서울 | 동대문구 | 2 | 0 | 1 |  1 |\n",
       "| 5 | 20220101 | 서울 | 도봉구   | 5 | 0 | 4 |  1 |\n",
       "| 6 | 20220101 | 서울 | 은평구   | 3 | 0 | 1 |  2 |\n",
       "\n"
      ],
      "text/plain": [
       "  날짜     시도 시군구   사고건수 사망자수 중상자수 경상자수\n",
       "1 20220101 서울 강남구   9        0        1        14      \n",
       "2 20220101 서울 용산구   4        0        1         3      \n",
       "3 20220101 서울 성동구   1        0        1         0      \n",
       "4 20220101 서울 동대문구 2        0        1         1      \n",
       "5 20220101 서울 도봉구   5        0        4         1      \n",
       "6 20220101 서울 은평구   3        0        1         2      "
      ]
     },
     "metadata": {},
     "output_type": "display_data"
    }
   ],
   "source": [
    "data2 <- select(data, -부상신고자수)\n",
    "head(data2)"
   ]
  },
  {
   "cell_type": "code",
   "execution_count": 29,
   "id": "bb42b403-547e-43b2-84ed-6dd6b47244b5",
   "metadata": {
    "tags": []
   },
   "outputs": [
    {
     "data": {
      "text/html": [
       "<table class=\"dataframe\">\n",
       "<caption>A data.frame: 6 × 5</caption>\n",
       "<thead>\n",
       "\t<tr><th></th><th scope=col>날짜</th><th scope=col>시도</th><th scope=col>시군구</th><th scope=col>사고건수</th><th scope=col>중상자수</th></tr>\n",
       "\t<tr><th></th><th scope=col>&lt;int&gt;</th><th scope=col>&lt;chr&gt;</th><th scope=col>&lt;chr&gt;</th><th scope=col>&lt;int&gt;</th><th scope=col>&lt;int&gt;</th></tr>\n",
       "</thead>\n",
       "<tbody>\n",
       "\t<tr><th scope=row>1</th><td>20220101</td><td>서울</td><td>강남구  </td><td>9</td><td>1</td></tr>\n",
       "\t<tr><th scope=row>2</th><td>20220101</td><td>서울</td><td>용산구  </td><td>4</td><td>1</td></tr>\n",
       "\t<tr><th scope=row>3</th><td>20220101</td><td>서울</td><td>성동구  </td><td>1</td><td>1</td></tr>\n",
       "\t<tr><th scope=row>4</th><td>20220101</td><td>서울</td><td>동대문구</td><td>2</td><td>1</td></tr>\n",
       "\t<tr><th scope=row>5</th><td>20220101</td><td>서울</td><td>도봉구  </td><td>5</td><td>4</td></tr>\n",
       "\t<tr><th scope=row>6</th><td>20220101</td><td>서울</td><td>은평구  </td><td>3</td><td>1</td></tr>\n",
       "</tbody>\n",
       "</table>\n"
      ],
      "text/latex": [
       "A data.frame: 6 × 5\n",
       "\\begin{tabular}{r|lllll}\n",
       "  & 날짜 & 시도 & 시군구 & 사고건수 & 중상자수\\\\\n",
       "  & <int> & <chr> & <chr> & <int> & <int>\\\\\n",
       "\\hline\n",
       "\t1 & 20220101 & 서울 & 강남구   & 9 & 1\\\\\n",
       "\t2 & 20220101 & 서울 & 용산구   & 4 & 1\\\\\n",
       "\t3 & 20220101 & 서울 & 성동구   & 1 & 1\\\\\n",
       "\t4 & 20220101 & 서울 & 동대문구 & 2 & 1\\\\\n",
       "\t5 & 20220101 & 서울 & 도봉구   & 5 & 4\\\\\n",
       "\t6 & 20220101 & 서울 & 은평구   & 3 & 1\\\\\n",
       "\\end{tabular}\n"
      ],
      "text/markdown": [
       "\n",
       "A data.frame: 6 × 5\n",
       "\n",
       "| <!--/--> | 날짜 &lt;int&gt; | 시도 &lt;chr&gt; | 시군구 &lt;chr&gt; | 사고건수 &lt;int&gt; | 중상자수 &lt;int&gt; |\n",
       "|---|---|---|---|---|---|\n",
       "| 1 | 20220101 | 서울 | 강남구   | 9 | 1 |\n",
       "| 2 | 20220101 | 서울 | 용산구   | 4 | 1 |\n",
       "| 3 | 20220101 | 서울 | 성동구   | 1 | 1 |\n",
       "| 4 | 20220101 | 서울 | 동대문구 | 2 | 1 |\n",
       "| 5 | 20220101 | 서울 | 도봉구   | 5 | 4 |\n",
       "| 6 | 20220101 | 서울 | 은평구   | 3 | 1 |\n",
       "\n"
      ],
      "text/plain": [
       "  날짜     시도 시군구   사고건수 중상자수\n",
       "1 20220101 서울 강남구   9        1       \n",
       "2 20220101 서울 용산구   4        1       \n",
       "3 20220101 서울 성동구   1        1       \n",
       "4 20220101 서울 동대문구 2        1       \n",
       "5 20220101 서울 도봉구   5        4       \n",
       "6 20220101 서울 은평구   3        1       "
      ]
     },
     "metadata": {},
     "output_type": "display_data"
    }
   ],
   "source": [
    "data3 <- select(data, 1:6,-사망자수)\n",
    "head(data3)"
   ]
  },
  {
   "cell_type": "code",
   "execution_count": 30,
   "id": "9c125ff0-210f-4d79-96f8-4d41eb8fc07c",
   "metadata": {
    "tags": []
   },
   "outputs": [
    {
     "data": {
      "text/html": [
       "<table class=\"dataframe\">\n",
       "<caption>A data.frame: 6 × 9</caption>\n",
       "<thead>\n",
       "\t<tr><th></th><th scope=col>날짜</th><th scope=col>시도</th><th scope=col>시군구</th><th scope=col>사고건수</th><th scope=col>사망자수</th><th scope=col>중상자수</th><th scope=col>경상자수</th><th scope=col>부상신고자수</th><th scope=col>부상자수</th></tr>\n",
       "\t<tr><th></th><th scope=col>&lt;int&gt;</th><th scope=col>&lt;chr&gt;</th><th scope=col>&lt;chr&gt;</th><th scope=col>&lt;int&gt;</th><th scope=col>&lt;int&gt;</th><th scope=col>&lt;int&gt;</th><th scope=col>&lt;int&gt;</th><th scope=col>&lt;int&gt;</th><th scope=col>&lt;int&gt;</th></tr>\n",
       "</thead>\n",
       "<tbody>\n",
       "\t<tr><th scope=row>1</th><td>20220101</td><td>서울</td><td>강남구  </td><td>9</td><td>0</td><td>1</td><td>14</td><td>0</td><td>15</td></tr>\n",
       "\t<tr><th scope=row>2</th><td>20220101</td><td>서울</td><td>용산구  </td><td>4</td><td>0</td><td>1</td><td> 3</td><td>0</td><td> 4</td></tr>\n",
       "\t<tr><th scope=row>3</th><td>20220101</td><td>서울</td><td>성동구  </td><td>1</td><td>0</td><td>1</td><td> 0</td><td>0</td><td> 1</td></tr>\n",
       "\t<tr><th scope=row>4</th><td>20220101</td><td>서울</td><td>동대문구</td><td>2</td><td>0</td><td>1</td><td> 1</td><td>0</td><td> 2</td></tr>\n",
       "\t<tr><th scope=row>5</th><td>20220101</td><td>서울</td><td>도봉구  </td><td>5</td><td>0</td><td>4</td><td> 1</td><td>0</td><td> 5</td></tr>\n",
       "\t<tr><th scope=row>6</th><td>20220101</td><td>서울</td><td>은평구  </td><td>3</td><td>0</td><td>1</td><td> 2</td><td>0</td><td> 3</td></tr>\n",
       "</tbody>\n",
       "</table>\n"
      ],
      "text/latex": [
       "A data.frame: 6 × 9\n",
       "\\begin{tabular}{r|lllllllll}\n",
       "  & 날짜 & 시도 & 시군구 & 사고건수 & 사망자수 & 중상자수 & 경상자수 & 부상신고자수 & 부상자수\\\\\n",
       "  & <int> & <chr> & <chr> & <int> & <int> & <int> & <int> & <int> & <int>\\\\\n",
       "\\hline\n",
       "\t1 & 20220101 & 서울 & 강남구   & 9 & 0 & 1 & 14 & 0 & 15\\\\\n",
       "\t2 & 20220101 & 서울 & 용산구   & 4 & 0 & 1 &  3 & 0 &  4\\\\\n",
       "\t3 & 20220101 & 서울 & 성동구   & 1 & 0 & 1 &  0 & 0 &  1\\\\\n",
       "\t4 & 20220101 & 서울 & 동대문구 & 2 & 0 & 1 &  1 & 0 &  2\\\\\n",
       "\t5 & 20220101 & 서울 & 도봉구   & 5 & 0 & 4 &  1 & 0 &  5\\\\\n",
       "\t6 & 20220101 & 서울 & 은평구   & 3 & 0 & 1 &  2 & 0 &  3\\\\\n",
       "\\end{tabular}\n"
      ],
      "text/markdown": [
       "\n",
       "A data.frame: 6 × 9\n",
       "\n",
       "| <!--/--> | 날짜 &lt;int&gt; | 시도 &lt;chr&gt; | 시군구 &lt;chr&gt; | 사고건수 &lt;int&gt; | 사망자수 &lt;int&gt; | 중상자수 &lt;int&gt; | 경상자수 &lt;int&gt; | 부상신고자수 &lt;int&gt; | 부상자수 &lt;int&gt; |\n",
       "|---|---|---|---|---|---|---|---|---|---|\n",
       "| 1 | 20220101 | 서울 | 강남구   | 9 | 0 | 1 | 14 | 0 | 15 |\n",
       "| 2 | 20220101 | 서울 | 용산구   | 4 | 0 | 1 |  3 | 0 |  4 |\n",
       "| 3 | 20220101 | 서울 | 성동구   | 1 | 0 | 1 |  0 | 0 |  1 |\n",
       "| 4 | 20220101 | 서울 | 동대문구 | 2 | 0 | 1 |  1 | 0 |  2 |\n",
       "| 5 | 20220101 | 서울 | 도봉구   | 5 | 0 | 4 |  1 | 0 |  5 |\n",
       "| 6 | 20220101 | 서울 | 은평구   | 3 | 0 | 1 |  2 | 0 |  3 |\n",
       "\n"
      ],
      "text/plain": [
       "  날짜     시도 시군구   사고건수 사망자수 중상자수 경상자수 부상신고자수\n",
       "1 20220101 서울 강남구   9        0        1        14       0           \n",
       "2 20220101 서울 용산구   4        0        1         3       0           \n",
       "3 20220101 서울 성동구   1        0        1         0       0           \n",
       "4 20220101 서울 동대문구 2        0        1         1       0           \n",
       "5 20220101 서울 도봉구   5        0        4         1       0           \n",
       "6 20220101 서울 은평구   3        0        1         2       0           \n",
       "  부상자수\n",
       "1 15      \n",
       "2  4      \n",
       "3  1      \n",
       "4  2      \n",
       "5  5      \n",
       "6  3      "
      ]
     },
     "metadata": {},
     "output_type": "display_data"
    }
   ],
   "source": [
    "data2 <- mutate(data, 부상자수 = 경상자수 + 중상자수 + 부상신고자수)\n",
    "head(data2)"
   ]
  },
  {
   "cell_type": "code",
   "execution_count": 31,
   "id": "91e2e187-9acc-4d23-9b68-23acab0a041b",
   "metadata": {
    "tags": []
   },
   "outputs": [
    {
     "data": {
      "text/html": [
       "<table class=\"dataframe\">\n",
       "<caption>A data.frame: 6 × 6</caption>\n",
       "<thead>\n",
       "\t<tr><th></th><th scope=col>날짜</th><th scope=col>시도</th><th scope=col>시군구</th><th scope=col>사고건수</th><th scope=col>부상자수</th><th scope=col>사고당부상자수</th></tr>\n",
       "\t<tr><th></th><th scope=col>&lt;int&gt;</th><th scope=col>&lt;chr&gt;</th><th scope=col>&lt;chr&gt;</th><th scope=col>&lt;int&gt;</th><th scope=col>&lt;int&gt;</th><th scope=col>&lt;dbl&gt;</th></tr>\n",
       "</thead>\n",
       "<tbody>\n",
       "\t<tr><th scope=row>1</th><td>20220101</td><td>서울</td><td>강남구  </td><td>9</td><td>15</td><td>1.666667</td></tr>\n",
       "\t<tr><th scope=row>2</th><td>20220101</td><td>서울</td><td>용산구  </td><td>4</td><td> 4</td><td>1.000000</td></tr>\n",
       "\t<tr><th scope=row>3</th><td>20220101</td><td>서울</td><td>성동구  </td><td>1</td><td> 1</td><td>1.000000</td></tr>\n",
       "\t<tr><th scope=row>4</th><td>20220101</td><td>서울</td><td>동대문구</td><td>2</td><td> 2</td><td>1.000000</td></tr>\n",
       "\t<tr><th scope=row>5</th><td>20220101</td><td>서울</td><td>도봉구  </td><td>5</td><td> 5</td><td>1.000000</td></tr>\n",
       "\t<tr><th scope=row>6</th><td>20220101</td><td>서울</td><td>은평구  </td><td>3</td><td> 3</td><td>1.000000</td></tr>\n",
       "</tbody>\n",
       "</table>\n"
      ],
      "text/latex": [
       "A data.frame: 6 × 6\n",
       "\\begin{tabular}{r|llllll}\n",
       "  & 날짜 & 시도 & 시군구 & 사고건수 & 부상자수 & 사고당부상자수\\\\\n",
       "  & <int> & <chr> & <chr> & <int> & <int> & <dbl>\\\\\n",
       "\\hline\n",
       "\t1 & 20220101 & 서울 & 강남구   & 9 & 15 & 1.666667\\\\\n",
       "\t2 & 20220101 & 서울 & 용산구   & 4 &  4 & 1.000000\\\\\n",
       "\t3 & 20220101 & 서울 & 성동구   & 1 &  1 & 1.000000\\\\\n",
       "\t4 & 20220101 & 서울 & 동대문구 & 2 &  2 & 1.000000\\\\\n",
       "\t5 & 20220101 & 서울 & 도봉구   & 5 &  5 & 1.000000\\\\\n",
       "\t6 & 20220101 & 서울 & 은평구   & 3 &  3 & 1.000000\\\\\n",
       "\\end{tabular}\n"
      ],
      "text/markdown": [
       "\n",
       "A data.frame: 6 × 6\n",
       "\n",
       "| <!--/--> | 날짜 &lt;int&gt; | 시도 &lt;chr&gt; | 시군구 &lt;chr&gt; | 사고건수 &lt;int&gt; | 부상자수 &lt;int&gt; | 사고당부상자수 &lt;dbl&gt; |\n",
       "|---|---|---|---|---|---|---|\n",
       "| 1 | 20220101 | 서울 | 강남구   | 9 | 15 | 1.666667 |\n",
       "| 2 | 20220101 | 서울 | 용산구   | 4 |  4 | 1.000000 |\n",
       "| 3 | 20220101 | 서울 | 성동구   | 1 |  1 | 1.000000 |\n",
       "| 4 | 20220101 | 서울 | 동대문구 | 2 |  2 | 1.000000 |\n",
       "| 5 | 20220101 | 서울 | 도봉구   | 5 |  5 | 1.000000 |\n",
       "| 6 | 20220101 | 서울 | 은평구   | 3 |  3 | 1.000000 |\n",
       "\n"
      ],
      "text/plain": [
       "  날짜     시도 시군구   사고건수 부상자수 사고당부상자수\n",
       "1 20220101 서울 강남구   9        15       1.666667      \n",
       "2 20220101 서울 용산구   4         4       1.000000      \n",
       "3 20220101 서울 성동구   1         1       1.000000      \n",
       "4 20220101 서울 동대문구 2         2       1.000000      \n",
       "5 20220101 서울 도봉구   5         5       1.000000      \n",
       "6 20220101 서울 은평구   3         3       1.000000      "
      ]
     },
     "metadata": {},
     "output_type": "display_data"
    }
   ],
   "source": [
    "data3 <- mutate(data2, 사고당부상자수 = 부상자수/사고건수)\n",
    "head(data3[c(1:4, 9:10)])"
   ]
  },
  {
   "cell_type": "code",
   "execution_count": 32,
   "id": "9d358aa3-7f37-4721-959c-952c56f8f897",
   "metadata": {
    "tags": []
   },
   "outputs": [
    {
     "data": {
      "text/html": [
       "<table class=\"dataframe\">\n",
       "<caption>A data.frame: 6 × 13</caption>\n",
       "<thead>\n",
       "\t<tr><th></th><th scope=col>날짜</th><th scope=col>시도</th><th scope=col>시군구</th><th scope=col>사고건수</th><th scope=col>사망자수</th><th scope=col>중상자수</th><th scope=col>경상자수</th><th scope=col>부상신고자수</th><th scope=col>부상자수</th><th scope=col>사고당부상자수</th><th scope=col>년</th><th scope=col>월</th><th scope=col>일</th></tr>\n",
       "\t<tr><th></th><th scope=col>&lt;int&gt;</th><th scope=col>&lt;chr&gt;</th><th scope=col>&lt;chr&gt;</th><th scope=col>&lt;int&gt;</th><th scope=col>&lt;int&gt;</th><th scope=col>&lt;int&gt;</th><th scope=col>&lt;int&gt;</th><th scope=col>&lt;int&gt;</th><th scope=col>&lt;int&gt;</th><th scope=col>&lt;dbl&gt;</th><th scope=col>&lt;chr&gt;</th><th scope=col>&lt;chr&gt;</th><th scope=col>&lt;chr&gt;</th></tr>\n",
       "</thead>\n",
       "<tbody>\n",
       "\t<tr><th scope=row>1</th><td>20220101</td><td>서울</td><td>강남구  </td><td>9</td><td>0</td><td>1</td><td>14</td><td>0</td><td>15</td><td>1.666667</td><td>2022</td><td>01</td><td>01</td></tr>\n",
       "\t<tr><th scope=row>2</th><td>20220101</td><td>서울</td><td>용산구  </td><td>4</td><td>0</td><td>1</td><td> 3</td><td>0</td><td> 4</td><td>1.000000</td><td>2022</td><td>01</td><td>01</td></tr>\n",
       "\t<tr><th scope=row>3</th><td>20220101</td><td>서울</td><td>성동구  </td><td>1</td><td>0</td><td>1</td><td> 0</td><td>0</td><td> 1</td><td>1.000000</td><td>2022</td><td>01</td><td>01</td></tr>\n",
       "\t<tr><th scope=row>4</th><td>20220101</td><td>서울</td><td>동대문구</td><td>2</td><td>0</td><td>1</td><td> 1</td><td>0</td><td> 2</td><td>1.000000</td><td>2022</td><td>01</td><td>01</td></tr>\n",
       "\t<tr><th scope=row>5</th><td>20220101</td><td>서울</td><td>도봉구  </td><td>5</td><td>0</td><td>4</td><td> 1</td><td>0</td><td> 5</td><td>1.000000</td><td>2022</td><td>01</td><td>01</td></tr>\n",
       "\t<tr><th scope=row>6</th><td>20220101</td><td>서울</td><td>은평구  </td><td>3</td><td>0</td><td>1</td><td> 2</td><td>0</td><td> 3</td><td>1.000000</td><td>2022</td><td>01</td><td>01</td></tr>\n",
       "</tbody>\n",
       "</table>\n"
      ],
      "text/latex": [
       "A data.frame: 6 × 13\n",
       "\\begin{tabular}{r|lllllllllllll}\n",
       "  & 날짜 & 시도 & 시군구 & 사고건수 & 사망자수 & 중상자수 & 경상자수 & 부상신고자수 & 부상자수 & 사고당부상자수 & 년 & 월 & 일\\\\\n",
       "  & <int> & <chr> & <chr> & <int> & <int> & <int> & <int> & <int> & <int> & <dbl> & <chr> & <chr> & <chr>\\\\\n",
       "\\hline\n",
       "\t1 & 20220101 & 서울 & 강남구   & 9 & 0 & 1 & 14 & 0 & 15 & 1.666667 & 2022 & 01 & 01\\\\\n",
       "\t2 & 20220101 & 서울 & 용산구   & 4 & 0 & 1 &  3 & 0 &  4 & 1.000000 & 2022 & 01 & 01\\\\\n",
       "\t3 & 20220101 & 서울 & 성동구   & 1 & 0 & 1 &  0 & 0 &  1 & 1.000000 & 2022 & 01 & 01\\\\\n",
       "\t4 & 20220101 & 서울 & 동대문구 & 2 & 0 & 1 &  1 & 0 &  2 & 1.000000 & 2022 & 01 & 01\\\\\n",
       "\t5 & 20220101 & 서울 & 도봉구   & 5 & 0 & 4 &  1 & 0 &  5 & 1.000000 & 2022 & 01 & 01\\\\\n",
       "\t6 & 20220101 & 서울 & 은평구   & 3 & 0 & 1 &  2 & 0 &  3 & 1.000000 & 2022 & 01 & 01\\\\\n",
       "\\end{tabular}\n"
      ],
      "text/markdown": [
       "\n",
       "A data.frame: 6 × 13\n",
       "\n",
       "| <!--/--> | 날짜 &lt;int&gt; | 시도 &lt;chr&gt; | 시군구 &lt;chr&gt; | 사고건수 &lt;int&gt; | 사망자수 &lt;int&gt; | 중상자수 &lt;int&gt; | 경상자수 &lt;int&gt; | 부상신고자수 &lt;int&gt; | 부상자수 &lt;int&gt; | 사고당부상자수 &lt;dbl&gt; | 년 &lt;chr&gt; | 월 &lt;chr&gt; | 일 &lt;chr&gt; |\n",
       "|---|---|---|---|---|---|---|---|---|---|---|---|---|---|\n",
       "| 1 | 20220101 | 서울 | 강남구   | 9 | 0 | 1 | 14 | 0 | 15 | 1.666667 | 2022 | 01 | 01 |\n",
       "| 2 | 20220101 | 서울 | 용산구   | 4 | 0 | 1 |  3 | 0 |  4 | 1.000000 | 2022 | 01 | 01 |\n",
       "| 3 | 20220101 | 서울 | 성동구   | 1 | 0 | 1 |  0 | 0 |  1 | 1.000000 | 2022 | 01 | 01 |\n",
       "| 4 | 20220101 | 서울 | 동대문구 | 2 | 0 | 1 |  1 | 0 |  2 | 1.000000 | 2022 | 01 | 01 |\n",
       "| 5 | 20220101 | 서울 | 도봉구   | 5 | 0 | 4 |  1 | 0 |  5 | 1.000000 | 2022 | 01 | 01 |\n",
       "| 6 | 20220101 | 서울 | 은평구   | 3 | 0 | 1 |  2 | 0 |  3 | 1.000000 | 2022 | 01 | 01 |\n",
       "\n"
      ],
      "text/plain": [
       "  날짜     시도 시군구   사고건수 사망자수 중상자수 경상자수 부상신고자수\n",
       "1 20220101 서울 강남구   9        0        1        14       0           \n",
       "2 20220101 서울 용산구   4        0        1         3       0           \n",
       "3 20220101 서울 성동구   1        0        1         0       0           \n",
       "4 20220101 서울 동대문구 2        0        1         1       0           \n",
       "5 20220101 서울 도봉구   5        0        4         1       0           \n",
       "6 20220101 서울 은평구   3        0        1         2       0           \n",
       "  부상자수 사고당부상자수 년   월 일\n",
       "1 15       1.666667       2022 01 01\n",
       "2  4       1.000000       2022 01 01\n",
       "3  1       1.000000       2022 01 01\n",
       "4  2       1.000000       2022 01 01\n",
       "5  5       1.000000       2022 01 01\n",
       "6  3       1.000000       2022 01 01"
      ]
     },
     "metadata": {},
     "output_type": "display_data"
    }
   ],
   "source": [
    "data4 <- mutate(data3, 년 = substr(날짜,1,4), 월 = substr(날짜,5,6), 일 = substr(날짜,7,8))\n",
    "head(data4)"
   ]
  },
  {
   "cell_type": "code",
   "execution_count": 33,
   "id": "9900d1ab-8b96-4039-9ec5-6f3e15c9bce9",
   "metadata": {
    "tags": []
   },
   "outputs": [
    {
     "data": {
      "text/html": [
       "<table class=\"dataframe\">\n",
       "<caption>A data.frame: 6 × 8</caption>\n",
       "<thead>\n",
       "\t<tr><th></th><th scope=col>년</th><th scope=col>월</th><th scope=col>일</th><th scope=col>시도</th><th scope=col>시군구</th><th scope=col>사고건수</th><th scope=col>부상자수</th><th scope=col>사고당부상자수</th></tr>\n",
       "\t<tr><th></th><th scope=col>&lt;chr&gt;</th><th scope=col>&lt;chr&gt;</th><th scope=col>&lt;chr&gt;</th><th scope=col>&lt;chr&gt;</th><th scope=col>&lt;chr&gt;</th><th scope=col>&lt;int&gt;</th><th scope=col>&lt;int&gt;</th><th scope=col>&lt;dbl&gt;</th></tr>\n",
       "</thead>\n",
       "<tbody>\n",
       "\t<tr><th scope=row>1</th><td>2022</td><td>01</td><td>21</td><td>경기</td><td>수원시</td><td>32</td><td>40</td><td>1.250000</td></tr>\n",
       "\t<tr><th scope=row>2</th><td>2022</td><td>12</td><td>17</td><td>경기</td><td>성남시</td><td>30</td><td>50</td><td>1.666667</td></tr>\n",
       "\t<tr><th scope=row>3</th><td>2022</td><td>01</td><td>20</td><td>경기</td><td>수원시</td><td>28</td><td>48</td><td>1.714286</td></tr>\n",
       "\t<tr><th scope=row>4</th><td>2022</td><td>12</td><td>24</td><td>경기</td><td>수원시</td><td>27</td><td>54</td><td>2.000000</td></tr>\n",
       "\t<tr><th scope=row>5</th><td>2022</td><td>01</td><td>06</td><td>경기</td><td>수원시</td><td>25</td><td>36</td><td>1.440000</td></tr>\n",
       "\t<tr><th scope=row>6</th><td>2022</td><td>01</td><td>14</td><td>경기</td><td>성남시</td><td>25</td><td>29</td><td>1.160000</td></tr>\n",
       "</tbody>\n",
       "</table>\n"
      ],
      "text/latex": [
       "A data.frame: 6 × 8\n",
       "\\begin{tabular}{r|llllllll}\n",
       "  & 년 & 월 & 일 & 시도 & 시군구 & 사고건수 & 부상자수 & 사고당부상자수\\\\\n",
       "  & <chr> & <chr> & <chr> & <chr> & <chr> & <int> & <int> & <dbl>\\\\\n",
       "\\hline\n",
       "\t1 & 2022 & 01 & 21 & 경기 & 수원시 & 32 & 40 & 1.250000\\\\\n",
       "\t2 & 2022 & 12 & 17 & 경기 & 성남시 & 30 & 50 & 1.666667\\\\\n",
       "\t3 & 2022 & 01 & 20 & 경기 & 수원시 & 28 & 48 & 1.714286\\\\\n",
       "\t4 & 2022 & 12 & 24 & 경기 & 수원시 & 27 & 54 & 2.000000\\\\\n",
       "\t5 & 2022 & 01 & 06 & 경기 & 수원시 & 25 & 36 & 1.440000\\\\\n",
       "\t6 & 2022 & 01 & 14 & 경기 & 성남시 & 25 & 29 & 1.160000\\\\\n",
       "\\end{tabular}\n"
      ],
      "text/markdown": [
       "\n",
       "A data.frame: 6 × 8\n",
       "\n",
       "| <!--/--> | 년 &lt;chr&gt; | 월 &lt;chr&gt; | 일 &lt;chr&gt; | 시도 &lt;chr&gt; | 시군구 &lt;chr&gt; | 사고건수 &lt;int&gt; | 부상자수 &lt;int&gt; | 사고당부상자수 &lt;dbl&gt; |\n",
       "|---|---|---|---|---|---|---|---|---|\n",
       "| 1 | 2022 | 01 | 21 | 경기 | 수원시 | 32 | 40 | 1.250000 |\n",
       "| 2 | 2022 | 12 | 17 | 경기 | 성남시 | 30 | 50 | 1.666667 |\n",
       "| 3 | 2022 | 01 | 20 | 경기 | 수원시 | 28 | 48 | 1.714286 |\n",
       "| 4 | 2022 | 12 | 24 | 경기 | 수원시 | 27 | 54 | 2.000000 |\n",
       "| 5 | 2022 | 01 | 06 | 경기 | 수원시 | 25 | 36 | 1.440000 |\n",
       "| 6 | 2022 | 01 | 14 | 경기 | 성남시 | 25 | 29 | 1.160000 |\n",
       "\n"
      ],
      "text/plain": [
       "  년   월 일 시도 시군구 사고건수 부상자수 사고당부상자수\n",
       "1 2022 01 21 경기 수원시 32       40       1.250000      \n",
       "2 2022 12 17 경기 성남시 30       50       1.666667      \n",
       "3 2022 01 20 경기 수원시 28       48       1.714286      \n",
       "4 2022 12 24 경기 수원시 27       54       2.000000      \n",
       "5 2022 01 06 경기 수원시 25       36       1.440000      \n",
       "6 2022 01 14 경기 성남시 25       29       1.160000      "
      ]
     },
     "metadata": {},
     "output_type": "display_data"
    }
   ],
   "source": [
    "data5 <- select(data4, c(11:13, 2:4, 9:10))\n",
    "data6 <- arrange(data5, desc(사고건수))\n",
    "head(data6)"
   ]
  },
  {
   "cell_type": "code",
   "execution_count": 34,
   "id": "22a9e8e4-e828-4d68-9245-733a16c3206b",
   "metadata": {
    "tags": []
   },
   "outputs": [
    {
     "data": {
      "text/html": [
       "<table class=\"dataframe\">\n",
       "<caption>A data.frame: 6 × 8</caption>\n",
       "<thead>\n",
       "\t<tr><th></th><th scope=col>년</th><th scope=col>월</th><th scope=col>일</th><th scope=col>시도</th><th scope=col>시군구</th><th scope=col>사고건수</th><th scope=col>부상자수</th><th scope=col>사고당부상자수</th></tr>\n",
       "\t<tr><th></th><th scope=col>&lt;chr&gt;</th><th scope=col>&lt;chr&gt;</th><th scope=col>&lt;chr&gt;</th><th scope=col>&lt;chr&gt;</th><th scope=col>&lt;chr&gt;</th><th scope=col>&lt;int&gt;</th><th scope=col>&lt;int&gt;</th><th scope=col>&lt;dbl&gt;</th></tr>\n",
       "</thead>\n",
       "<tbody>\n",
       "\t<tr><th scope=row>1</th><td>2022</td><td>01</td><td>21</td><td>경기</td><td>수원시</td><td>32</td><td>40</td><td>1.250000</td></tr>\n",
       "\t<tr><th scope=row>2</th><td>2022</td><td>12</td><td>17</td><td>경기</td><td>성남시</td><td>30</td><td>50</td><td>1.666667</td></tr>\n",
       "\t<tr><th scope=row>3</th><td>2022</td><td>01</td><td>20</td><td>경기</td><td>수원시</td><td>28</td><td>48</td><td>1.714286</td></tr>\n",
       "\t<tr><th scope=row>4</th><td>2022</td><td>12</td><td>24</td><td>경기</td><td>수원시</td><td>27</td><td>54</td><td>2.000000</td></tr>\n",
       "\t<tr><th scope=row>5</th><td>2022</td><td>01</td><td>14</td><td>경기</td><td>성남시</td><td>25</td><td>29</td><td>1.160000</td></tr>\n",
       "\t<tr><th scope=row>6</th><td>2022</td><td>01</td><td>06</td><td>경기</td><td>수원시</td><td>25</td><td>36</td><td>1.440000</td></tr>\n",
       "</tbody>\n",
       "</table>\n"
      ],
      "text/latex": [
       "A data.frame: 6 × 8\n",
       "\\begin{tabular}{r|llllllll}\n",
       "  & 년 & 월 & 일 & 시도 & 시군구 & 사고건수 & 부상자수 & 사고당부상자수\\\\\n",
       "  & <chr> & <chr> & <chr> & <chr> & <chr> & <int> & <int> & <dbl>\\\\\n",
       "\\hline\n",
       "\t1 & 2022 & 01 & 21 & 경기 & 수원시 & 32 & 40 & 1.250000\\\\\n",
       "\t2 & 2022 & 12 & 17 & 경기 & 성남시 & 30 & 50 & 1.666667\\\\\n",
       "\t3 & 2022 & 01 & 20 & 경기 & 수원시 & 28 & 48 & 1.714286\\\\\n",
       "\t4 & 2022 & 12 & 24 & 경기 & 수원시 & 27 & 54 & 2.000000\\\\\n",
       "\t5 & 2022 & 01 & 14 & 경기 & 성남시 & 25 & 29 & 1.160000\\\\\n",
       "\t6 & 2022 & 01 & 06 & 경기 & 수원시 & 25 & 36 & 1.440000\\\\\n",
       "\\end{tabular}\n"
      ],
      "text/markdown": [
       "\n",
       "A data.frame: 6 × 8\n",
       "\n",
       "| <!--/--> | 년 &lt;chr&gt; | 월 &lt;chr&gt; | 일 &lt;chr&gt; | 시도 &lt;chr&gt; | 시군구 &lt;chr&gt; | 사고건수 &lt;int&gt; | 부상자수 &lt;int&gt; | 사고당부상자수 &lt;dbl&gt; |\n",
       "|---|---|---|---|---|---|---|---|---|\n",
       "| 1 | 2022 | 01 | 21 | 경기 | 수원시 | 32 | 40 | 1.250000 |\n",
       "| 2 | 2022 | 12 | 17 | 경기 | 성남시 | 30 | 50 | 1.666667 |\n",
       "| 3 | 2022 | 01 | 20 | 경기 | 수원시 | 28 | 48 | 1.714286 |\n",
       "| 4 | 2022 | 12 | 24 | 경기 | 수원시 | 27 | 54 | 2.000000 |\n",
       "| 5 | 2022 | 01 | 14 | 경기 | 성남시 | 25 | 29 | 1.160000 |\n",
       "| 6 | 2022 | 01 | 06 | 경기 | 수원시 | 25 | 36 | 1.440000 |\n",
       "\n"
      ],
      "text/plain": [
       "  년   월 일 시도 시군구 사고건수 부상자수 사고당부상자수\n",
       "1 2022 01 21 경기 수원시 32       40       1.250000      \n",
       "2 2022 12 17 경기 성남시 30       50       1.666667      \n",
       "3 2022 01 20 경기 수원시 28       48       1.714286      \n",
       "4 2022 12 24 경기 수원시 27       54       2.000000      \n",
       "5 2022 01 14 경기 성남시 25       29       1.160000      \n",
       "6 2022 01 06 경기 수원시 25       36       1.440000      "
      ]
     },
     "metadata": {},
     "output_type": "display_data"
    }
   ],
   "source": [
    "data6 <- arrange(data5, desc(사고건수), 사고당부상자수)\n",
    "head(data6)"
   ]
  },
  {
   "cell_type": "code",
   "execution_count": 35,
   "id": "eefd9a3d-febd-441e-896d-a0b3813541a8",
   "metadata": {
    "tags": []
   },
   "outputs": [
    {
     "data": {
      "text/html": [
       "<table class=\"dataframe\">\n",
       "<caption>A data.frame: 6 × 8</caption>\n",
       "<thead>\n",
       "\t<tr><th></th><th scope=col>년</th><th scope=col>월</th><th scope=col>일</th><th scope=col>시도</th><th scope=col>시군구</th><th scope=col>사고건수</th><th scope=col>부상자수</th><th scope=col>사고당부상자수</th></tr>\n",
       "\t<tr><th></th><th scope=col>&lt;chr&gt;</th><th scope=col>&lt;chr&gt;</th><th scope=col>&lt;chr&gt;</th><th scope=col>&lt;chr&gt;</th><th scope=col>&lt;chr&gt;</th><th scope=col>&lt;int&gt;</th><th scope=col>&lt;int&gt;</th><th scope=col>&lt;dbl&gt;</th></tr>\n",
       "</thead>\n",
       "<tbody>\n",
       "\t<tr><th scope=row>1</th><td>2022</td><td>12</td><td>06</td><td>경기</td><td>용인시</td><td>16</td><td>75</td><td>4.687500</td></tr>\n",
       "\t<tr><th scope=row>2</th><td>2022</td><td>12</td><td>04</td><td>경기</td><td>용인시</td><td>12</td><td>61</td><td>5.083333</td></tr>\n",
       "\t<tr><th scope=row>3</th><td>2022</td><td>05</td><td>14</td><td>경기</td><td>용인시</td><td>10</td><td>44</td><td>4.400000</td></tr>\n",
       "\t<tr><th scope=row>4</th><td>2022</td><td>07</td><td>13</td><td>경기</td><td>안산시</td><td> 9</td><td>40</td><td>4.444444</td></tr>\n",
       "\t<tr><th scope=row>5</th><td>2022</td><td>11</td><td>05</td><td>경기</td><td>평택시</td><td> 9</td><td>41</td><td>4.555556</td></tr>\n",
       "\t<tr><th scope=row>6</th><td>2022</td><td>10</td><td>19</td><td>경기</td><td>광주시</td><td> 9</td><td>46</td><td>5.111111</td></tr>\n",
       "</tbody>\n",
       "</table>\n"
      ],
      "text/latex": [
       "A data.frame: 6 × 8\n",
       "\\begin{tabular}{r|llllllll}\n",
       "  & 년 & 월 & 일 & 시도 & 시군구 & 사고건수 & 부상자수 & 사고당부상자수\\\\\n",
       "  & <chr> & <chr> & <chr> & <chr> & <chr> & <int> & <int> & <dbl>\\\\\n",
       "\\hline\n",
       "\t1 & 2022 & 12 & 06 & 경기 & 용인시 & 16 & 75 & 4.687500\\\\\n",
       "\t2 & 2022 & 12 & 04 & 경기 & 용인시 & 12 & 61 & 5.083333\\\\\n",
       "\t3 & 2022 & 05 & 14 & 경기 & 용인시 & 10 & 44 & 4.400000\\\\\n",
       "\t4 & 2022 & 07 & 13 & 경기 & 안산시 &  9 & 40 & 4.444444\\\\\n",
       "\t5 & 2022 & 11 & 05 & 경기 & 평택시 &  9 & 41 & 4.555556\\\\\n",
       "\t6 & 2022 & 10 & 19 & 경기 & 광주시 &  9 & 46 & 5.111111\\\\\n",
       "\\end{tabular}\n"
      ],
      "text/markdown": [
       "\n",
       "A data.frame: 6 × 8\n",
       "\n",
       "| <!--/--> | 년 &lt;chr&gt; | 월 &lt;chr&gt; | 일 &lt;chr&gt; | 시도 &lt;chr&gt; | 시군구 &lt;chr&gt; | 사고건수 &lt;int&gt; | 부상자수 &lt;int&gt; | 사고당부상자수 &lt;dbl&gt; |\n",
       "|---|---|---|---|---|---|---|---|---|\n",
       "| 1 | 2022 | 12 | 06 | 경기 | 용인시 | 16 | 75 | 4.687500 |\n",
       "| 2 | 2022 | 12 | 04 | 경기 | 용인시 | 12 | 61 | 5.083333 |\n",
       "| 3 | 2022 | 05 | 14 | 경기 | 용인시 | 10 | 44 | 4.400000 |\n",
       "| 4 | 2022 | 07 | 13 | 경기 | 안산시 |  9 | 40 | 4.444444 |\n",
       "| 5 | 2022 | 11 | 05 | 경기 | 평택시 |  9 | 41 | 4.555556 |\n",
       "| 6 | 2022 | 10 | 19 | 경기 | 광주시 |  9 | 46 | 5.111111 |\n",
       "\n"
      ],
      "text/plain": [
       "  년   월 일 시도 시군구 사고건수 부상자수 사고당부상자수\n",
       "1 2022 12 06 경기 용인시 16       75       4.687500      \n",
       "2 2022 12 04 경기 용인시 12       61       5.083333      \n",
       "3 2022 05 14 경기 용인시 10       44       4.400000      \n",
       "4 2022 07 13 경기 안산시  9       40       4.444444      \n",
       "5 2022 11 05 경기 평택시  9       41       4.555556      \n",
       "6 2022 10 19 경기 광주시  9       46       5.111111      "
      ]
     },
     "metadata": {},
     "output_type": "display_data"
    }
   ],
   "source": [
    "data7 <- filter(data6, 사고당부상자수 >= 4)\n",
    "head(data7)"
   ]
  },
  {
   "cell_type": "code",
   "execution_count": 36,
   "id": "a5040703-6e9b-42a2-966f-74a739bec066",
   "metadata": {
    "tags": []
   },
   "outputs": [
    {
     "data": {
      "text/html": [
       "<table class=\"dataframe\">\n",
       "<caption>A data.frame: 6 × 8</caption>\n",
       "<thead>\n",
       "\t<tr><th></th><th scope=col>년</th><th scope=col>월</th><th scope=col>일</th><th scope=col>시도</th><th scope=col>시군구</th><th scope=col>사고건수</th><th scope=col>부상자수</th><th scope=col>사고당부상자수</th></tr>\n",
       "\t<tr><th></th><th scope=col>&lt;chr&gt;</th><th scope=col>&lt;chr&gt;</th><th scope=col>&lt;chr&gt;</th><th scope=col>&lt;chr&gt;</th><th scope=col>&lt;chr&gt;</th><th scope=col>&lt;int&gt;</th><th scope=col>&lt;int&gt;</th><th scope=col>&lt;dbl&gt;</th></tr>\n",
       "</thead>\n",
       "<tbody>\n",
       "\t<tr><th scope=row>1</th><td>2022</td><td>10</td><td>26</td><td>경기</td><td>이천시</td><td>1</td><td>26</td><td>26</td></tr>\n",
       "\t<tr><th scope=row>2</th><td>2022</td><td>06</td><td>26</td><td>부산</td><td>동구  </td><td>1</td><td>24</td><td>24</td></tr>\n",
       "\t<tr><th scope=row>3</th><td>2022</td><td>08</td><td>10</td><td>대구</td><td>북구  </td><td>1</td><td>23</td><td>23</td></tr>\n",
       "\t<tr><th scope=row>4</th><td>2022</td><td>06</td><td>02</td><td>전남</td><td>신안군</td><td>1</td><td>21</td><td>21</td></tr>\n",
       "\t<tr><th scope=row>5</th><td>2022</td><td>07</td><td>22</td><td>경남</td><td>합천군</td><td>1</td><td>17</td><td>17</td></tr>\n",
       "\t<tr><th scope=row>6</th><td>2022</td><td>03</td><td>19</td><td>강원</td><td>양양군</td><td>2</td><td>34</td><td>17</td></tr>\n",
       "</tbody>\n",
       "</table>\n"
      ],
      "text/latex": [
       "A data.frame: 6 × 8\n",
       "\\begin{tabular}{r|llllllll}\n",
       "  & 년 & 월 & 일 & 시도 & 시군구 & 사고건수 & 부상자수 & 사고당부상자수\\\\\n",
       "  & <chr> & <chr> & <chr> & <chr> & <chr> & <int> & <int> & <dbl>\\\\\n",
       "\\hline\n",
       "\t1 & 2022 & 10 & 26 & 경기 & 이천시 & 1 & 26 & 26\\\\\n",
       "\t2 & 2022 & 06 & 26 & 부산 & 동구   & 1 & 24 & 24\\\\\n",
       "\t3 & 2022 & 08 & 10 & 대구 & 북구   & 1 & 23 & 23\\\\\n",
       "\t4 & 2022 & 06 & 02 & 전남 & 신안군 & 1 & 21 & 21\\\\\n",
       "\t5 & 2022 & 07 & 22 & 경남 & 합천군 & 1 & 17 & 17\\\\\n",
       "\t6 & 2022 & 03 & 19 & 강원 & 양양군 & 2 & 34 & 17\\\\\n",
       "\\end{tabular}\n"
      ],
      "text/markdown": [
       "\n",
       "A data.frame: 6 × 8\n",
       "\n",
       "| <!--/--> | 년 &lt;chr&gt; | 월 &lt;chr&gt; | 일 &lt;chr&gt; | 시도 &lt;chr&gt; | 시군구 &lt;chr&gt; | 사고건수 &lt;int&gt; | 부상자수 &lt;int&gt; | 사고당부상자수 &lt;dbl&gt; |\n",
       "|---|---|---|---|---|---|---|---|---|\n",
       "| 1 | 2022 | 10 | 26 | 경기 | 이천시 | 1 | 26 | 26 |\n",
       "| 2 | 2022 | 06 | 26 | 부산 | 동구   | 1 | 24 | 24 |\n",
       "| 3 | 2022 | 08 | 10 | 대구 | 북구   | 1 | 23 | 23 |\n",
       "| 4 | 2022 | 06 | 02 | 전남 | 신안군 | 1 | 21 | 21 |\n",
       "| 5 | 2022 | 07 | 22 | 경남 | 합천군 | 1 | 17 | 17 |\n",
       "| 6 | 2022 | 03 | 19 | 강원 | 양양군 | 2 | 34 | 17 |\n",
       "\n"
      ],
      "text/plain": [
       "  년   월 일 시도 시군구 사고건수 부상자수 사고당부상자수\n",
       "1 2022 10 26 경기 이천시 1        26       26            \n",
       "2 2022 06 26 부산 동구   1        24       24            \n",
       "3 2022 08 10 대구 북구   1        23       23            \n",
       "4 2022 06 02 전남 신안군 1        21       21            \n",
       "5 2022 07 22 경남 합천군 1        17       17            \n",
       "6 2022 03 19 강원 양양군 2        34       17            "
      ]
     },
     "metadata": {},
     "output_type": "display_data"
    }
   ],
   "source": [
    "data7 <- filter(data6, 사고당부상자수 >= 4) %>% arrange(desc(사고당부상자수), 사고건수)\n",
    "head(data7)"
   ]
  },
  {
   "cell_type": "code",
   "execution_count": 37,
   "id": "94a8b739-eed1-4084-9481-8535be81e906",
   "metadata": {
    "tags": []
   },
   "outputs": [
    {
     "data": {
      "text/html": [
       "<table class=\"dataframe\">\n",
       "<caption>A data.frame: 5 × 8</caption>\n",
       "<thead>\n",
       "\t<tr><th scope=col>년</th><th scope=col>월</th><th scope=col>일</th><th scope=col>시도</th><th scope=col>시군구</th><th scope=col>사고건수</th><th scope=col>부상자수</th><th scope=col>사고당부상자수</th></tr>\n",
       "\t<tr><th scope=col>&lt;chr&gt;</th><th scope=col>&lt;chr&gt;</th><th scope=col>&lt;chr&gt;</th><th scope=col>&lt;chr&gt;</th><th scope=col>&lt;chr&gt;</th><th scope=col>&lt;int&gt;</th><th scope=col>&lt;int&gt;</th><th scope=col>&lt;dbl&gt;</th></tr>\n",
       "</thead>\n",
       "<tbody>\n",
       "\t<tr><td>2022</td><td>10</td><td>19</td><td>경기</td><td>광주시</td><td> 9</td><td>46</td><td>5.111111</td></tr>\n",
       "\t<tr><td>2022</td><td>12</td><td>04</td><td>경기</td><td>용인시</td><td>12</td><td>61</td><td>5.083333</td></tr>\n",
       "\t<tr><td>2022</td><td>11</td><td>05</td><td>경기</td><td>평택시</td><td> 9</td><td>41</td><td>4.555556</td></tr>\n",
       "\t<tr><td>2022</td><td>07</td><td>13</td><td>경기</td><td>안산시</td><td> 9</td><td>40</td><td>4.444444</td></tr>\n",
       "\t<tr><td>2022</td><td>05</td><td>14</td><td>경기</td><td>용인시</td><td>10</td><td>44</td><td>4.400000</td></tr>\n",
       "</tbody>\n",
       "</table>\n"
      ],
      "text/latex": [
       "A data.frame: 5 × 8\n",
       "\\begin{tabular}{llllllll}\n",
       " 년 & 월 & 일 & 시도 & 시군구 & 사고건수 & 부상자수 & 사고당부상자수\\\\\n",
       " <chr> & <chr> & <chr> & <chr> & <chr> & <int> & <int> & <dbl>\\\\\n",
       "\\hline\n",
       "\t 2022 & 10 & 19 & 경기 & 광주시 &  9 & 46 & 5.111111\\\\\n",
       "\t 2022 & 12 & 04 & 경기 & 용인시 & 12 & 61 & 5.083333\\\\\n",
       "\t 2022 & 11 & 05 & 경기 & 평택시 &  9 & 41 & 4.555556\\\\\n",
       "\t 2022 & 07 & 13 & 경기 & 안산시 &  9 & 40 & 4.444444\\\\\n",
       "\t 2022 & 05 & 14 & 경기 & 용인시 & 10 & 44 & 4.400000\\\\\n",
       "\\end{tabular}\n"
      ],
      "text/markdown": [
       "\n",
       "A data.frame: 5 × 8\n",
       "\n",
       "| 년 &lt;chr&gt; | 월 &lt;chr&gt; | 일 &lt;chr&gt; | 시도 &lt;chr&gt; | 시군구 &lt;chr&gt; | 사고건수 &lt;int&gt; | 부상자수 &lt;int&gt; | 사고당부상자수 &lt;dbl&gt; |\n",
       "|---|---|---|---|---|---|---|---|\n",
       "| 2022 | 10 | 19 | 경기 | 광주시 |  9 | 46 | 5.111111 |\n",
       "| 2022 | 12 | 04 | 경기 | 용인시 | 12 | 61 | 5.083333 |\n",
       "| 2022 | 11 | 05 | 경기 | 평택시 |  9 | 41 | 4.555556 |\n",
       "| 2022 | 07 | 13 | 경기 | 안산시 |  9 | 40 | 4.444444 |\n",
       "| 2022 | 05 | 14 | 경기 | 용인시 | 10 | 44 | 4.400000 |\n",
       "\n"
      ],
      "text/plain": [
       "  년   월 일 시도 시군구 사고건수 부상자수 사고당부상자수\n",
       "1 2022 10 19 경기 광주시  9       46       5.111111      \n",
       "2 2022 12 04 경기 용인시 12       61       5.083333      \n",
       "3 2022 11 05 경기 평택시  9       41       4.555556      \n",
       "4 2022 07 13 경기 안산시  9       40       4.444444      \n",
       "5 2022 05 14 경기 용인시 10       44       4.400000      "
      ]
     },
     "metadata": {},
     "output_type": "display_data"
    }
   ],
   "source": [
    "data7 <- filter(data6, 사고당부상자수 >= 4, 사고건수 >= 9, 사고건수 <= 12) %>% arrange(desc(사고당부상자수), 사고건수)\n",
    "data7"
   ]
  },
  {
   "cell_type": "code",
   "execution_count": 38,
   "id": "ed49ace3-50a1-47ac-afb8-931648363e1a",
   "metadata": {
    "tags": []
   },
   "outputs": [
    {
     "data": {
      "text/html": [
       "<table class=\"dataframe\">\n",
       "<caption>A data.frame: 4 × 8</caption>\n",
       "<thead>\n",
       "\t<tr><th scope=col>년</th><th scope=col>월</th><th scope=col>일</th><th scope=col>시도</th><th scope=col>시군구</th><th scope=col>사고건수</th><th scope=col>부상자수</th><th scope=col>사고당부상자수</th></tr>\n",
       "\t<tr><th scope=col>&lt;chr&gt;</th><th scope=col>&lt;chr&gt;</th><th scope=col>&lt;chr&gt;</th><th scope=col>&lt;chr&gt;</th><th scope=col>&lt;chr&gt;</th><th scope=col>&lt;int&gt;</th><th scope=col>&lt;int&gt;</th><th scope=col>&lt;dbl&gt;</th></tr>\n",
       "</thead>\n",
       "<tbody>\n",
       "\t<tr><td>2022</td><td>10</td><td>19</td><td>경기</td><td>광주시</td><td> 9</td><td>46</td><td>5.111111</td></tr>\n",
       "\t<tr><td>2022</td><td>12</td><td>04</td><td>경기</td><td>용인시</td><td>12</td><td>61</td><td>5.083333</td></tr>\n",
       "\t<tr><td>2022</td><td>11</td><td>05</td><td>경기</td><td>평택시</td><td> 9</td><td>41</td><td>4.555556</td></tr>\n",
       "\t<tr><td>2022</td><td>07</td><td>13</td><td>경기</td><td>안산시</td><td> 9</td><td>40</td><td>4.444444</td></tr>\n",
       "</tbody>\n",
       "</table>\n"
      ],
      "text/latex": [
       "A data.frame: 4 × 8\n",
       "\\begin{tabular}{llllllll}\n",
       " 년 & 월 & 일 & 시도 & 시군구 & 사고건수 & 부상자수 & 사고당부상자수\\\\\n",
       " <chr> & <chr> & <chr> & <chr> & <chr> & <int> & <int> & <dbl>\\\\\n",
       "\\hline\n",
       "\t 2022 & 10 & 19 & 경기 & 광주시 &  9 & 46 & 5.111111\\\\\n",
       "\t 2022 & 12 & 04 & 경기 & 용인시 & 12 & 61 & 5.083333\\\\\n",
       "\t 2022 & 11 & 05 & 경기 & 평택시 &  9 & 41 & 4.555556\\\\\n",
       "\t 2022 & 07 & 13 & 경기 & 안산시 &  9 & 40 & 4.444444\\\\\n",
       "\\end{tabular}\n"
      ],
      "text/markdown": [
       "\n",
       "A data.frame: 4 × 8\n",
       "\n",
       "| 년 &lt;chr&gt; | 월 &lt;chr&gt; | 일 &lt;chr&gt; | 시도 &lt;chr&gt; | 시군구 &lt;chr&gt; | 사고건수 &lt;int&gt; | 부상자수 &lt;int&gt; | 사고당부상자수 &lt;dbl&gt; |\n",
       "|---|---|---|---|---|---|---|---|\n",
       "| 2022 | 10 | 19 | 경기 | 광주시 |  9 | 46 | 5.111111 |\n",
       "| 2022 | 12 | 04 | 경기 | 용인시 | 12 | 61 | 5.083333 |\n",
       "| 2022 | 11 | 05 | 경기 | 평택시 |  9 | 41 | 4.555556 |\n",
       "| 2022 | 07 | 13 | 경기 | 안산시 |  9 | 40 | 4.444444 |\n",
       "\n"
      ],
      "text/plain": [
       "  년   월 일 시도 시군구 사고건수 부상자수 사고당부상자수\n",
       "1 2022 10 19 경기 광주시  9       46       5.111111      \n",
       "2 2022 12 04 경기 용인시 12       61       5.083333      \n",
       "3 2022 11 05 경기 평택시  9       41       4.555556      \n",
       "4 2022 07 13 경기 안산시  9       40       4.444444      "
      ]
     },
     "metadata": {},
     "output_type": "display_data"
    }
   ],
   "source": [
    "data7 <- filter(data6, 사고당부상자수 >= 4, 사고건수 == 9 | 사고건수 == 12) %>% arrange(desc(사고당부상자수), 사고건수)\n",
    "data7"
   ]
  },
  {
   "cell_type": "code",
   "execution_count": 39,
   "id": "27c072c8-5cd8-4414-ae62-95c3b860b8a5",
   "metadata": {
    "tags": []
   },
   "outputs": [
    {
     "data": {
      "text/html": [
       "<table class=\"dataframe\">\n",
       "<caption>A data.frame: 3 × 8</caption>\n",
       "<thead>\n",
       "\t<tr><th></th><th scope=col>년</th><th scope=col>월</th><th scope=col>일</th><th scope=col>시도</th><th scope=col>시군구</th><th scope=col>사고건수</th><th scope=col>부상자수</th><th scope=col>사고당부상자수</th></tr>\n",
       "\t<tr><th></th><th scope=col>&lt;chr&gt;</th><th scope=col>&lt;chr&gt;</th><th scope=col>&lt;chr&gt;</th><th scope=col>&lt;chr&gt;</th><th scope=col>&lt;chr&gt;</th><th scope=col>&lt;int&gt;</th><th scope=col>&lt;int&gt;</th><th scope=col>&lt;dbl&gt;</th></tr>\n",
       "</thead>\n",
       "<tbody>\n",
       "\t<tr><th scope=row>1</th><td>2022</td><td>12</td><td>06</td><td>경기</td><td>용인시</td><td>16</td><td>75</td><td>4.687500</td></tr>\n",
       "\t<tr><th scope=row>2</th><td>2022</td><td>12</td><td>04</td><td>경기</td><td>용인시</td><td>12</td><td>61</td><td>5.083333</td></tr>\n",
       "\t<tr><th scope=row>3</th><td>2022</td><td>05</td><td>14</td><td>경기</td><td>용인시</td><td>10</td><td>44</td><td>4.400000</td></tr>\n",
       "</tbody>\n",
       "</table>\n"
      ],
      "text/latex": [
       "A data.frame: 3 × 8\n",
       "\\begin{tabular}{r|llllllll}\n",
       "  & 년 & 월 & 일 & 시도 & 시군구 & 사고건수 & 부상자수 & 사고당부상자수\\\\\n",
       "  & <chr> & <chr> & <chr> & <chr> & <chr> & <int> & <int> & <dbl>\\\\\n",
       "\\hline\n",
       "\t1 & 2022 & 12 & 06 & 경기 & 용인시 & 16 & 75 & 4.687500\\\\\n",
       "\t2 & 2022 & 12 & 04 & 경기 & 용인시 & 12 & 61 & 5.083333\\\\\n",
       "\t3 & 2022 & 05 & 14 & 경기 & 용인시 & 10 & 44 & 4.400000\\\\\n",
       "\\end{tabular}\n"
      ],
      "text/markdown": [
       "\n",
       "A data.frame: 3 × 8\n",
       "\n",
       "| <!--/--> | 년 &lt;chr&gt; | 월 &lt;chr&gt; | 일 &lt;chr&gt; | 시도 &lt;chr&gt; | 시군구 &lt;chr&gt; | 사고건수 &lt;int&gt; | 부상자수 &lt;int&gt; | 사고당부상자수 &lt;dbl&gt; |\n",
       "|---|---|---|---|---|---|---|---|---|\n",
       "| 1 | 2022 | 12 | 06 | 경기 | 용인시 | 16 | 75 | 4.687500 |\n",
       "| 2 | 2022 | 12 | 04 | 경기 | 용인시 | 12 | 61 | 5.083333 |\n",
       "| 3 | 2022 | 05 | 14 | 경기 | 용인시 | 10 | 44 | 4.400000 |\n",
       "\n"
      ],
      "text/plain": [
       "  년   월 일 시도 시군구 사고건수 부상자수 사고당부상자수\n",
       "1 2022 12 06 경기 용인시 16       75       4.687500      \n",
       "2 2022 12 04 경기 용인시 12       61       5.083333      \n",
       "3 2022 05 14 경기 용인시 10       44       4.400000      "
      ]
     },
     "metadata": {},
     "output_type": "display_data"
    }
   ],
   "source": [
    "data2 <- mutate(data, 부상자수 = 경상자수 + 중상자수 + 부상신고자수)\n",
    "data3 <- mutate(data2, 사고당부상자수 = 부상자수 / 사고건수)\n",
    "data4 <- mutate(data3, 년 = substr(날짜, 1, 4), 월 = substr(날짜, 5, 6), 일 = substr(날짜, 7, 8))\n",
    "data5 <- select(data4, c(11:13, 2:4, 9:10))\n",
    "data6 <- arrange(data5, desc(사고건수))\n",
    "data7 <- filter(data6, 사고당부상자수 >= 4)\n",
    "\n",
    "head(data7, 3)"
   ]
  },
  {
   "cell_type": "code",
   "execution_count": 40,
   "id": "3413d52c-b6c8-4cb4-8838-da6f6e090a64",
   "metadata": {
    "tags": []
   },
   "outputs": [
    {
     "data": {
      "text/html": [
       "<table class=\"dataframe\">\n",
       "<caption>A data.frame: 3 × 8</caption>\n",
       "<thead>\n",
       "\t<tr><th></th><th scope=col>년</th><th scope=col>월</th><th scope=col>일</th><th scope=col>시도</th><th scope=col>시군구</th><th scope=col>사고건수</th><th scope=col>부상자수</th><th scope=col>사고당부상자수</th></tr>\n",
       "\t<tr><th></th><th scope=col>&lt;chr&gt;</th><th scope=col>&lt;chr&gt;</th><th scope=col>&lt;chr&gt;</th><th scope=col>&lt;chr&gt;</th><th scope=col>&lt;chr&gt;</th><th scope=col>&lt;int&gt;</th><th scope=col>&lt;int&gt;</th><th scope=col>&lt;dbl&gt;</th></tr>\n",
       "</thead>\n",
       "<tbody>\n",
       "\t<tr><th scope=row>1</th><td>2022</td><td>12</td><td>06</td><td>경기</td><td>용인시</td><td>16</td><td>75</td><td>4.687500</td></tr>\n",
       "\t<tr><th scope=row>2</th><td>2022</td><td>12</td><td>04</td><td>경기</td><td>용인시</td><td>12</td><td>61</td><td>5.083333</td></tr>\n",
       "\t<tr><th scope=row>3</th><td>2022</td><td>05</td><td>14</td><td>경기</td><td>용인시</td><td>10</td><td>44</td><td>4.400000</td></tr>\n",
       "</tbody>\n",
       "</table>\n"
      ],
      "text/latex": [
       "A data.frame: 3 × 8\n",
       "\\begin{tabular}{r|llllllll}\n",
       "  & 년 & 월 & 일 & 시도 & 시군구 & 사고건수 & 부상자수 & 사고당부상자수\\\\\n",
       "  & <chr> & <chr> & <chr> & <chr> & <chr> & <int> & <int> & <dbl>\\\\\n",
       "\\hline\n",
       "\t1 & 2022 & 12 & 06 & 경기 & 용인시 & 16 & 75 & 4.687500\\\\\n",
       "\t2 & 2022 & 12 & 04 & 경기 & 용인시 & 12 & 61 & 5.083333\\\\\n",
       "\t3 & 2022 & 05 & 14 & 경기 & 용인시 & 10 & 44 & 4.400000\\\\\n",
       "\\end{tabular}\n"
      ],
      "text/markdown": [
       "\n",
       "A data.frame: 3 × 8\n",
       "\n",
       "| <!--/--> | 년 &lt;chr&gt; | 월 &lt;chr&gt; | 일 &lt;chr&gt; | 시도 &lt;chr&gt; | 시군구 &lt;chr&gt; | 사고건수 &lt;int&gt; | 부상자수 &lt;int&gt; | 사고당부상자수 &lt;dbl&gt; |\n",
       "|---|---|---|---|---|---|---|---|---|\n",
       "| 1 | 2022 | 12 | 06 | 경기 | 용인시 | 16 | 75 | 4.687500 |\n",
       "| 2 | 2022 | 12 | 04 | 경기 | 용인시 | 12 | 61 | 5.083333 |\n",
       "| 3 | 2022 | 05 | 14 | 경기 | 용인시 | 10 | 44 | 4.400000 |\n",
       "\n"
      ],
      "text/plain": [
       "  년   월 일 시도 시군구 사고건수 부상자수 사고당부상자수\n",
       "1 2022 12 06 경기 용인시 16       75       4.687500      \n",
       "2 2022 12 04 경기 용인시 12       61       5.083333      \n",
       "3 2022 05 14 경기 용인시 10       44       4.400000      "
      ]
     },
     "metadata": {},
     "output_type": "display_data"
    }
   ],
   "source": [
    "data7 <- data %>% mutate(부상자수 = 경상자수 + 중상자수 + 부상신고자수) %>% mutate(사고당부상자수 = 부상자수 / 사고건수) %>% mutate(년 = substr(날짜, 1, 4), 월 = substr(날짜, 5, 6), 일 = substr(날짜, 7, 8)) %>% \n",
    "    select(c(11:13, 2:4, 9:10)) %>% arrange(desc(사고건수)) %>% filter(사고당부상자수 >= 4)\n",
    "\n",
    "head(data7, 3)"
   ]
  },
  {
   "cell_type": "code",
   "execution_count": 41,
   "id": "271754d2-efdd-4ac7-9527-de093bdf09fe",
   "metadata": {
    "tags": []
   },
   "outputs": [
    {
     "data": {
      "text/html": [
       "<table class=\"dataframe\">\n",
       "<caption>A data.frame: 3 × 13</caption>\n",
       "<thead>\n",
       "\t<tr><th></th><th scope=col>날짜</th><th scope=col>시도</th><th scope=col>시군구</th><th scope=col>사고건수</th><th scope=col>사망자수</th><th scope=col>중상자수</th><th scope=col>경상자수</th><th scope=col>부상신고자수</th><th scope=col>부상자수</th><th scope=col>년</th><th scope=col>월</th><th scope=col>일</th><th scope=col>지역</th></tr>\n",
       "\t<tr><th></th><th scope=col>&lt;int&gt;</th><th scope=col>&lt;chr&gt;</th><th scope=col>&lt;chr&gt;</th><th scope=col>&lt;int&gt;</th><th scope=col>&lt;int&gt;</th><th scope=col>&lt;int&gt;</th><th scope=col>&lt;int&gt;</th><th scope=col>&lt;int&gt;</th><th scope=col>&lt;int&gt;</th><th scope=col>&lt;chr&gt;</th><th scope=col>&lt;chr&gt;</th><th scope=col>&lt;chr&gt;</th><th scope=col>&lt;chr&gt;</th></tr>\n",
       "</thead>\n",
       "<tbody>\n",
       "\t<tr><th scope=row>1</th><td>20220101</td><td>서울</td><td>강남구</td><td>9</td><td>0</td><td>1</td><td>14</td><td>0</td><td>15</td><td>2022</td><td>01</td><td>01</td><td>서울 강남구</td></tr>\n",
       "\t<tr><th scope=row>2</th><td>20220101</td><td>서울</td><td>용산구</td><td>4</td><td>0</td><td>1</td><td> 3</td><td>0</td><td> 4</td><td>2022</td><td>01</td><td>01</td><td>서울 용산구</td></tr>\n",
       "\t<tr><th scope=row>3</th><td>20220101</td><td>서울</td><td>성동구</td><td>1</td><td>0</td><td>1</td><td> 0</td><td>0</td><td> 1</td><td>2022</td><td>01</td><td>01</td><td>서울 성동구</td></tr>\n",
       "</tbody>\n",
       "</table>\n"
      ],
      "text/latex": [
       "A data.frame: 3 × 13\n",
       "\\begin{tabular}{r|lllllllllllll}\n",
       "  & 날짜 & 시도 & 시군구 & 사고건수 & 사망자수 & 중상자수 & 경상자수 & 부상신고자수 & 부상자수 & 년 & 월 & 일 & 지역\\\\\n",
       "  & <int> & <chr> & <chr> & <int> & <int> & <int> & <int> & <int> & <int> & <chr> & <chr> & <chr> & <chr>\\\\\n",
       "\\hline\n",
       "\t1 & 20220101 & 서울 & 강남구 & 9 & 0 & 1 & 14 & 0 & 15 & 2022 & 01 & 01 & 서울 강남구\\\\\n",
       "\t2 & 20220101 & 서울 & 용산구 & 4 & 0 & 1 &  3 & 0 &  4 & 2022 & 01 & 01 & 서울 용산구\\\\\n",
       "\t3 & 20220101 & 서울 & 성동구 & 1 & 0 & 1 &  0 & 0 &  1 & 2022 & 01 & 01 & 서울 성동구\\\\\n",
       "\\end{tabular}\n"
      ],
      "text/markdown": [
       "\n",
       "A data.frame: 3 × 13\n",
       "\n",
       "| <!--/--> | 날짜 &lt;int&gt; | 시도 &lt;chr&gt; | 시군구 &lt;chr&gt; | 사고건수 &lt;int&gt; | 사망자수 &lt;int&gt; | 중상자수 &lt;int&gt; | 경상자수 &lt;int&gt; | 부상신고자수 &lt;int&gt; | 부상자수 &lt;int&gt; | 년 &lt;chr&gt; | 월 &lt;chr&gt; | 일 &lt;chr&gt; | 지역 &lt;chr&gt; |\n",
       "|---|---|---|---|---|---|---|---|---|---|---|---|---|---|\n",
       "| 1 | 20220101 | 서울 | 강남구 | 9 | 0 | 1 | 14 | 0 | 15 | 2022 | 01 | 01 | 서울 강남구 |\n",
       "| 2 | 20220101 | 서울 | 용산구 | 4 | 0 | 1 |  3 | 0 |  4 | 2022 | 01 | 01 | 서울 용산구 |\n",
       "| 3 | 20220101 | 서울 | 성동구 | 1 | 0 | 1 |  0 | 0 |  1 | 2022 | 01 | 01 | 서울 성동구 |\n",
       "\n"
      ],
      "text/plain": [
       "  날짜     시도 시군구 사고건수 사망자수 중상자수 경상자수 부상신고자수\n",
       "1 20220101 서울 강남구 9        0        1        14       0           \n",
       "2 20220101 서울 용산구 4        0        1         3       0           \n",
       "3 20220101 서울 성동구 1        0        1         0       0           \n",
       "  부상자수 년   월 일 지역       \n",
       "1 15       2022 01 01 서울 강남구\n",
       "2  4       2022 01 01 서울 용산구\n",
       "3  1       2022 01 01 서울 성동구"
      ]
     },
     "metadata": {},
     "output_type": "display_data"
    }
   ],
   "source": [
    "newdata <- data %>% mutate(부상자수 = 경상자수 + 중상자수 + 부상신고자수) %>% mutate(년 = substr(날짜, 1, 4), \n",
    "        월 = substr(날짜, 5, 6), 일 = substr(날짜, 7, 8)) %>% mutate(지역 = paste(시도, 시군구))\n",
    "\n",
    "head(newdata, 3)"
   ]
  },
  {
   "cell_type": "code",
   "execution_count": 42,
   "id": "9270424a-878b-453e-901a-a38c80e05c37",
   "metadata": {
    "tags": []
   },
   "outputs": [
    {
     "data": {
      "text/html": [
       "<table class=\"dataframe\">\n",
       "<caption>A data.frame: 3 × 10</caption>\n",
       "<thead>\n",
       "\t<tr><th></th><th scope=col>지역</th><th scope=col>년</th><th scope=col>월</th><th scope=col>일</th><th scope=col>사고건수</th><th scope=col>사망자수</th><th scope=col>중상자수</th><th scope=col>경상자수</th><th scope=col>부상신고자수</th><th scope=col>부상자수</th></tr>\n",
       "\t<tr><th></th><th scope=col>&lt;chr&gt;</th><th scope=col>&lt;chr&gt;</th><th scope=col>&lt;chr&gt;</th><th scope=col>&lt;chr&gt;</th><th scope=col>&lt;int&gt;</th><th scope=col>&lt;int&gt;</th><th scope=col>&lt;int&gt;</th><th scope=col>&lt;int&gt;</th><th scope=col>&lt;int&gt;</th><th scope=col>&lt;int&gt;</th></tr>\n",
       "</thead>\n",
       "<tbody>\n",
       "\t<tr><th scope=row>1</th><td>서울 강남구</td><td>2022</td><td>01</td><td>01</td><td>9</td><td>0</td><td>1</td><td>14</td><td>0</td><td>15</td></tr>\n",
       "\t<tr><th scope=row>2</th><td>서울 용산구</td><td>2022</td><td>01</td><td>01</td><td>4</td><td>0</td><td>1</td><td> 3</td><td>0</td><td> 4</td></tr>\n",
       "\t<tr><th scope=row>3</th><td>서울 성동구</td><td>2022</td><td>01</td><td>01</td><td>1</td><td>0</td><td>1</td><td> 0</td><td>0</td><td> 1</td></tr>\n",
       "</tbody>\n",
       "</table>\n"
      ],
      "text/latex": [
       "A data.frame: 3 × 10\n",
       "\\begin{tabular}{r|llllllllll}\n",
       "  & 지역 & 년 & 월 & 일 & 사고건수 & 사망자수 & 중상자수 & 경상자수 & 부상신고자수 & 부상자수\\\\\n",
       "  & <chr> & <chr> & <chr> & <chr> & <int> & <int> & <int> & <int> & <int> & <int>\\\\\n",
       "\\hline\n",
       "\t1 & 서울 강남구 & 2022 & 01 & 01 & 9 & 0 & 1 & 14 & 0 & 15\\\\\n",
       "\t2 & 서울 용산구 & 2022 & 01 & 01 & 4 & 0 & 1 &  3 & 0 &  4\\\\\n",
       "\t3 & 서울 성동구 & 2022 & 01 & 01 & 1 & 0 & 1 &  0 & 0 &  1\\\\\n",
       "\\end{tabular}\n"
      ],
      "text/markdown": [
       "\n",
       "A data.frame: 3 × 10\n",
       "\n",
       "| <!--/--> | 지역 &lt;chr&gt; | 년 &lt;chr&gt; | 월 &lt;chr&gt; | 일 &lt;chr&gt; | 사고건수 &lt;int&gt; | 사망자수 &lt;int&gt; | 중상자수 &lt;int&gt; | 경상자수 &lt;int&gt; | 부상신고자수 &lt;int&gt; | 부상자수 &lt;int&gt; |\n",
       "|---|---|---|---|---|---|---|---|---|---|---|\n",
       "| 1 | 서울 강남구 | 2022 | 01 | 01 | 9 | 0 | 1 | 14 | 0 | 15 |\n",
       "| 2 | 서울 용산구 | 2022 | 01 | 01 | 4 | 0 | 1 |  3 | 0 |  4 |\n",
       "| 3 | 서울 성동구 | 2022 | 01 | 01 | 1 | 0 | 1 |  0 | 0 |  1 |\n",
       "\n"
      ],
      "text/plain": [
       "  지역        년   월 일 사고건수 사망자수 중상자수 경상자수 부상신고자수\n",
       "1 서울 강남구 2022 01 01 9        0        1        14       0           \n",
       "2 서울 용산구 2022 01 01 4        0        1         3       0           \n",
       "3 서울 성동구 2022 01 01 1        0        1         0       0           \n",
       "  부상자수\n",
       "1 15      \n",
       "2  4      \n",
       "3  1      "
      ]
     },
     "metadata": {},
     "output_type": "display_data"
    }
   ],
   "source": [
    "newdata <- newdata %>% select(13, 10:12, 4:9)\n",
    "head(newdata, 3)"
   ]
  },
  {
   "cell_type": "code",
   "execution_count": 43,
   "id": "03229218-f416-486a-8c70-732513a5d158",
   "metadata": {
    "tags": []
   },
   "outputs": [
    {
     "name": "stdout",
     "output_type": "stream",
     "text": [
      "'data.frame':\t57729 obs. of  10 variables:\n",
      " $ 지역        : chr  \"서울 강남구\" \"서울 용산구\" \"서울 성동구\" \"서울 동대문구\" ...\n",
      " $ 년          : chr  \"2022\" \"2022\" \"2022\" \"2022\" ...\n",
      " $ 월          : chr  \"01\" \"01\" \"01\" \"01\" ...\n",
      " $ 일          : chr  \"01\" \"01\" \"01\" \"01\" ...\n",
      " $ 사고건수    : int  9 4 1 2 5 3 1 2 3 2 ...\n",
      " $ 사망자수    : int  0 0 0 0 0 0 0 0 0 0 ...\n",
      " $ 중상자수    : int  1 1 1 1 4 1 1 1 0 1 ...\n",
      " $ 경상자수    : int  14 3 0 1 1 2 1 1 4 1 ...\n",
      " $ 부상신고자수: int  0 0 0 0 0 0 0 1 0 0 ...\n",
      " $ 부상자수    : int  15 4 1 2 5 3 2 3 4 2 ...\n"
     ]
    }
   ],
   "source": [
    "str(newdata)"
   ]
  },
  {
   "cell_type": "code",
   "execution_count": 44,
   "id": "8af192c9-e727-4f09-acc5-26f31b297b09",
   "metadata": {
    "tags": []
   },
   "outputs": [
    {
     "data": {
      "text/html": [
       "<table class=\"dataframe\">\n",
       "<caption>A data.frame: 1 × 1</caption>\n",
       "<thead>\n",
       "\t<tr><th scope=col>mean(사고건수)</th></tr>\n",
       "\t<tr><th scope=col>&lt;dbl&gt;</th></tr>\n",
       "</thead>\n",
       "<tbody>\n",
       "\t<tr><td>3.409655</td></tr>\n",
       "</tbody>\n",
       "</table>\n"
      ],
      "text/latex": [
       "A data.frame: 1 × 1\n",
       "\\begin{tabular}{l}\n",
       " mean(사고건수)\\\\\n",
       " <dbl>\\\\\n",
       "\\hline\n",
       "\t 3.409655\\\\\n",
       "\\end{tabular}\n"
      ],
      "text/markdown": [
       "\n",
       "A data.frame: 1 × 1\n",
       "\n",
       "| mean(사고건수) &lt;dbl&gt; |\n",
       "|---|\n",
       "| 3.409655 |\n",
       "\n"
      ],
      "text/plain": [
       "  mean(사고건수)\n",
       "1 3.409655      "
      ]
     },
     "metadata": {},
     "output_type": "display_data"
    }
   ],
   "source": [
    "summarise(newdata, mean(사고건수))"
   ]
  },
  {
   "cell_type": "code",
   "execution_count": 45,
   "id": "cb8ba80b-e5fe-4205-a741-0b4e31772866",
   "metadata": {
    "tags": []
   },
   "outputs": [
    {
     "data": {
      "text/html": [
       "<table class=\"dataframe\">\n",
       "<caption>A data.frame: 1 × 4</caption>\n",
       "<thead>\n",
       "\t<tr><th scope=col>n()</th><th scope=col>mean(사고건수)</th><th scope=col>mean(부상자수)</th><th scope=col>max(부상자수)</th></tr>\n",
       "\t<tr><th scope=col>&lt;int&gt;</th><th scope=col>&lt;dbl&gt;</th><th scope=col>&lt;dbl&gt;</th><th scope=col>&lt;int&gt;</th></tr>\n",
       "</thead>\n",
       "<tbody>\n",
       "\t<tr><td>57729</td><td>3.409655</td><td>4.881481</td><td>75</td></tr>\n",
       "</tbody>\n",
       "</table>\n"
      ],
      "text/latex": [
       "A data.frame: 1 × 4\n",
       "\\begin{tabular}{llll}\n",
       " n() & mean(사고건수) & mean(부상자수) & max(부상자수)\\\\\n",
       " <int> & <dbl> & <dbl> & <int>\\\\\n",
       "\\hline\n",
       "\t 57729 & 3.409655 & 4.881481 & 75\\\\\n",
       "\\end{tabular}\n"
      ],
      "text/markdown": [
       "\n",
       "A data.frame: 1 × 4\n",
       "\n",
       "| n() &lt;int&gt; | mean(사고건수) &lt;dbl&gt; | mean(부상자수) &lt;dbl&gt; | max(부상자수) &lt;int&gt; |\n",
       "|---|---|---|---|\n",
       "| 57729 | 3.409655 | 4.881481 | 75 |\n",
       "\n"
      ],
      "text/plain": [
       "  n()   mean(사고건수) mean(부상자수) max(부상자수)\n",
       "1 57729 3.409655       4.881481       75           "
      ]
     },
     "metadata": {},
     "output_type": "display_data"
    }
   ],
   "source": [
    "summarise(newdata, n(), mean(사고건수), mean(부상자수), max(부상자수))"
   ]
  },
  {
   "cell_type": "code",
   "execution_count": 46,
   "id": "17d60532-e151-48ef-b426-4d550a711ab3",
   "metadata": {
    "tags": []
   },
   "outputs": [
    {
     "data": {
      "text/html": [
       "<table class=\"dataframe\">\n",
       "<caption>A data.frame: 1 × 3</caption>\n",
       "<thead>\n",
       "\t<tr><th scope=col>평균사고건수</th><th scope=col>평균부상자수</th><th scope=col>최대부상자수</th></tr>\n",
       "\t<tr><th scope=col>&lt;dbl&gt;</th><th scope=col>&lt;dbl&gt;</th><th scope=col>&lt;int&gt;</th></tr>\n",
       "</thead>\n",
       "<tbody>\n",
       "\t<tr><td>3.409655</td><td>4.881481</td><td>75</td></tr>\n",
       "</tbody>\n",
       "</table>\n"
      ],
      "text/latex": [
       "A data.frame: 1 × 3\n",
       "\\begin{tabular}{lll}\n",
       " 평균사고건수 & 평균부상자수 & 최대부상자수\\\\\n",
       " <dbl> & <dbl> & <int>\\\\\n",
       "\\hline\n",
       "\t 3.409655 & 4.881481 & 75\\\\\n",
       "\\end{tabular}\n"
      ],
      "text/markdown": [
       "\n",
       "A data.frame: 1 × 3\n",
       "\n",
       "| 평균사고건수 &lt;dbl&gt; | 평균부상자수 &lt;dbl&gt; | 최대부상자수 &lt;int&gt; |\n",
       "|---|---|---|\n",
       "| 3.409655 | 4.881481 | 75 |\n",
       "\n"
      ],
      "text/plain": [
       "  평균사고건수 평균부상자수 최대부상자수\n",
       "1 3.409655     4.881481     75          "
      ]
     },
     "metadata": {},
     "output_type": "display_data"
    }
   ],
   "source": [
    "summarise(newdata, 평균사고건수 = mean(사고건수), 평균부상자수 = mean(부상자수), 최대부상자수 = max(부상자수))"
   ]
  },
  {
   "cell_type": "code",
   "execution_count": 47,
   "id": "e1f07965-aa8d-415a-b5d0-46a917b83fc4",
   "metadata": {
    "tags": []
   },
   "outputs": [
    {
     "data": {
      "text/plain": [
       "\n",
       "충북 괴산군 충북 단양군 충북 보은군 충북 영동군 충북 옥천군 충북 음성군 \n",
       "        149         118         111         113         103         279 \n",
       "충북 제천시 충북 증평군 충북 진천군 충북 청주시 충북 충주시 \n",
       "        309         119         246         365         343 "
      ]
     },
     "metadata": {},
     "output_type": "display_data"
    }
   ],
   "source": [
    "cb <- filter(newdata, grepl(\"충북\", 지역)) \n",
    "\n",
    "table(cb$지역)"
   ]
  },
  {
   "cell_type": "code",
   "execution_count": 48,
   "id": "f57095f4-1169-45d8-ac94-9be9d94c8dda",
   "metadata": {
    "tags": []
   },
   "outputs": [
    {
     "data": {
      "text/html": [
       "<table class=\"dataframe\">\n",
       "<caption>A tibble: 11 × 3</caption>\n",
       "<thead>\n",
       "\t<tr><th scope=col>지역</th><th scope=col>n()</th><th scope=col>mean(사고건수)</th></tr>\n",
       "\t<tr><th scope=col>&lt;chr&gt;</th><th scope=col>&lt;int&gt;</th><th scope=col>&lt;dbl&gt;</th></tr>\n",
       "</thead>\n",
       "<tbody>\n",
       "\t<tr><td>충북 괴산군</td><td>149</td><td> 1.261745</td></tr>\n",
       "\t<tr><td>충북 단양군</td><td>118</td><td> 1.245763</td></tr>\n",
       "\t<tr><td>충북 보은군</td><td>111</td><td> 1.207207</td></tr>\n",
       "\t<tr><td>충북 영동군</td><td>113</td><td> 1.176991</td></tr>\n",
       "\t<tr><td>충북 옥천군</td><td>103</td><td> 1.165049</td></tr>\n",
       "\t<tr><td>충북 음성군</td><td>279</td><td> 1.924731</td></tr>\n",
       "\t<tr><td>충북 제천시</td><td>309</td><td> 2.268608</td></tr>\n",
       "\t<tr><td>충북 증평군</td><td>119</td><td> 1.277311</td></tr>\n",
       "\t<tr><td>충북 진천군</td><td>246</td><td> 1.788618</td></tr>\n",
       "\t<tr><td>충북 청주시</td><td>365</td><td>11.065753</td></tr>\n",
       "\t<tr><td>충북 충주시</td><td>343</td><td> 3.069971</td></tr>\n",
       "</tbody>\n",
       "</table>\n"
      ],
      "text/latex": [
       "A tibble: 11 × 3\n",
       "\\begin{tabular}{lll}\n",
       " 지역 & n() & mean(사고건수)\\\\\n",
       " <chr> & <int> & <dbl>\\\\\n",
       "\\hline\n",
       "\t 충북 괴산군 & 149 &  1.261745\\\\\n",
       "\t 충북 단양군 & 118 &  1.245763\\\\\n",
       "\t 충북 보은군 & 111 &  1.207207\\\\\n",
       "\t 충북 영동군 & 113 &  1.176991\\\\\n",
       "\t 충북 옥천군 & 103 &  1.165049\\\\\n",
       "\t 충북 음성군 & 279 &  1.924731\\\\\n",
       "\t 충북 제천시 & 309 &  2.268608\\\\\n",
       "\t 충북 증평군 & 119 &  1.277311\\\\\n",
       "\t 충북 진천군 & 246 &  1.788618\\\\\n",
       "\t 충북 청주시 & 365 & 11.065753\\\\\n",
       "\t 충북 충주시 & 343 &  3.069971\\\\\n",
       "\\end{tabular}\n"
      ],
      "text/markdown": [
       "\n",
       "A tibble: 11 × 3\n",
       "\n",
       "| 지역 &lt;chr&gt; | n() &lt;int&gt; | mean(사고건수) &lt;dbl&gt; |\n",
       "|---|---|---|\n",
       "| 충북 괴산군 | 149 |  1.261745 |\n",
       "| 충북 단양군 | 118 |  1.245763 |\n",
       "| 충북 보은군 | 111 |  1.207207 |\n",
       "| 충북 영동군 | 113 |  1.176991 |\n",
       "| 충북 옥천군 | 103 |  1.165049 |\n",
       "| 충북 음성군 | 279 |  1.924731 |\n",
       "| 충북 제천시 | 309 |  2.268608 |\n",
       "| 충북 증평군 | 119 |  1.277311 |\n",
       "| 충북 진천군 | 246 |  1.788618 |\n",
       "| 충북 청주시 | 365 | 11.065753 |\n",
       "| 충북 충주시 | 343 |  3.069971 |\n",
       "\n"
      ],
      "text/plain": [
       "   지역        n() mean(사고건수)\n",
       "1  충북 괴산군 149  1.261745     \n",
       "2  충북 단양군 118  1.245763     \n",
       "3  충북 보은군 111  1.207207     \n",
       "4  충북 영동군 113  1.176991     \n",
       "5  충북 옥천군 103  1.165049     \n",
       "6  충북 음성군 279  1.924731     \n",
       "7  충북 제천시 309  2.268608     \n",
       "8  충북 증평군 119  1.277311     \n",
       "9  충북 진천군 246  1.788618     \n",
       "10 충북 청주시 365 11.065753     \n",
       "11 충북 충주시 343  3.069971     "
      ]
     },
     "metadata": {},
     "output_type": "display_data"
    }
   ],
   "source": [
    "grp <- group_by(cb, 지역)\n",
    "summarise(grp, n(), mean(사고건수))"
   ]
  },
  {
   "cell_type": "code",
   "execution_count": 49,
   "id": "4ac47910-f6ba-47a2-866e-0e71053ff61f",
   "metadata": {
    "tags": []
   },
   "outputs": [
    {
     "data": {
      "text/html": [
       "<table class=\"dataframe\">\n",
       "<caption>A tibble: 11 × 6</caption>\n",
       "<thead>\n",
       "\t<tr><th scope=col>지역</th><th scope=col>n()</th><th scope=col>합계</th><th scope=col>평균</th><th scope=col>중앙값</th><th scope=col>최댓값</th></tr>\n",
       "\t<tr><th scope=col>&lt;chr&gt;</th><th scope=col>&lt;int&gt;</th><th scope=col>&lt;int&gt;</th><th scope=col>&lt;dbl&gt;</th><th scope=col>&lt;dbl&gt;</th><th scope=col>&lt;int&gt;</th></tr>\n",
       "</thead>\n",
       "<tbody>\n",
       "\t<tr><td>충북 청주시</td><td>365</td><td>4039</td><td>11.065753</td><td>11.0</td><td>23</td></tr>\n",
       "\t<tr><td>충북 충주시</td><td>343</td><td>1053</td><td> 3.069971</td><td> 3.0</td><td>12</td></tr>\n",
       "\t<tr><td>충북 음성군</td><td>279</td><td> 537</td><td> 1.924731</td><td> 2.0</td><td> 6</td></tr>\n",
       "\t<tr><td>충북 제천시</td><td>309</td><td> 701</td><td> 2.268608</td><td> 2.0</td><td> 7</td></tr>\n",
       "\t<tr><td>충북 진천군</td><td>246</td><td> 440</td><td> 1.788618</td><td> 1.5</td><td> 7</td></tr>\n",
       "\t<tr><td>충북 괴산군</td><td>149</td><td> 188</td><td> 1.261745</td><td> 1.0</td><td> 3</td></tr>\n",
       "\t<tr><td>충북 단양군</td><td>118</td><td> 147</td><td> 1.245763</td><td> 1.0</td><td> 4</td></tr>\n",
       "\t<tr><td>충북 보은군</td><td>111</td><td> 134</td><td> 1.207207</td><td> 1.0</td><td> 3</td></tr>\n",
       "\t<tr><td>충북 영동군</td><td>113</td><td> 133</td><td> 1.176991</td><td> 1.0</td><td> 3</td></tr>\n",
       "\t<tr><td>충북 옥천군</td><td>103</td><td> 120</td><td> 1.165049</td><td> 1.0</td><td> 3</td></tr>\n",
       "\t<tr><td>충북 증평군</td><td>119</td><td> 152</td><td> 1.277311</td><td> 1.0</td><td> 3</td></tr>\n",
       "</tbody>\n",
       "</table>\n"
      ],
      "text/latex": [
       "A tibble: 11 × 6\n",
       "\\begin{tabular}{llllll}\n",
       " 지역 & n() & 합계 & 평균 & 중앙값 & 최댓값\\\\\n",
       " <chr> & <int> & <int> & <dbl> & <dbl> & <int>\\\\\n",
       "\\hline\n",
       "\t 충북 청주시 & 365 & 4039 & 11.065753 & 11.0 & 23\\\\\n",
       "\t 충북 충주시 & 343 & 1053 &  3.069971 &  3.0 & 12\\\\\n",
       "\t 충북 음성군 & 279 &  537 &  1.924731 &  2.0 &  6\\\\\n",
       "\t 충북 제천시 & 309 &  701 &  2.268608 &  2.0 &  7\\\\\n",
       "\t 충북 진천군 & 246 &  440 &  1.788618 &  1.5 &  7\\\\\n",
       "\t 충북 괴산군 & 149 &  188 &  1.261745 &  1.0 &  3\\\\\n",
       "\t 충북 단양군 & 118 &  147 &  1.245763 &  1.0 &  4\\\\\n",
       "\t 충북 보은군 & 111 &  134 &  1.207207 &  1.0 &  3\\\\\n",
       "\t 충북 영동군 & 113 &  133 &  1.176991 &  1.0 &  3\\\\\n",
       "\t 충북 옥천군 & 103 &  120 &  1.165049 &  1.0 &  3\\\\\n",
       "\t 충북 증평군 & 119 &  152 &  1.277311 &  1.0 &  3\\\\\n",
       "\\end{tabular}\n"
      ],
      "text/markdown": [
       "\n",
       "A tibble: 11 × 6\n",
       "\n",
       "| 지역 &lt;chr&gt; | n() &lt;int&gt; | 합계 &lt;int&gt; | 평균 &lt;dbl&gt; | 중앙값 &lt;dbl&gt; | 최댓값 &lt;int&gt; |\n",
       "|---|---|---|---|---|---|\n",
       "| 충북 청주시 | 365 | 4039 | 11.065753 | 11.0 | 23 |\n",
       "| 충북 충주시 | 343 | 1053 |  3.069971 |  3.0 | 12 |\n",
       "| 충북 음성군 | 279 |  537 |  1.924731 |  2.0 |  6 |\n",
       "| 충북 제천시 | 309 |  701 |  2.268608 |  2.0 |  7 |\n",
       "| 충북 진천군 | 246 |  440 |  1.788618 |  1.5 |  7 |\n",
       "| 충북 괴산군 | 149 |  188 |  1.261745 |  1.0 |  3 |\n",
       "| 충북 단양군 | 118 |  147 |  1.245763 |  1.0 |  4 |\n",
       "| 충북 보은군 | 111 |  134 |  1.207207 |  1.0 |  3 |\n",
       "| 충북 영동군 | 113 |  133 |  1.176991 |  1.0 |  3 |\n",
       "| 충북 옥천군 | 103 |  120 |  1.165049 |  1.0 |  3 |\n",
       "| 충북 증평군 | 119 |  152 |  1.277311 |  1.0 |  3 |\n",
       "\n"
      ],
      "text/plain": [
       "   지역        n() 합계 평균      중앙값 최댓값\n",
       "1  충북 청주시 365 4039 11.065753 11.0   23    \n",
       "2  충북 충주시 343 1053  3.069971  3.0   12    \n",
       "3  충북 음성군 279  537  1.924731  2.0    6    \n",
       "4  충북 제천시 309  701  2.268608  2.0    7    \n",
       "5  충북 진천군 246  440  1.788618  1.5    7    \n",
       "6  충북 괴산군 149  188  1.261745  1.0    3    \n",
       "7  충북 단양군 118  147  1.245763  1.0    4    \n",
       "8  충북 보은군 111  134  1.207207  1.0    3    \n",
       "9  충북 영동군 113  133  1.176991  1.0    3    \n",
       "10 충북 옥천군 103  120  1.165049  1.0    3    \n",
       "11 충북 증평군 119  152  1.277311  1.0    3    "
      ]
     },
     "metadata": {},
     "output_type": "display_data"
    }
   ],
   "source": [
    "grp <- group_by(cb, 지역)\n",
    "summarise(grp, n(), 합계=sum(사고건수), 평균=mean(사고건수), 중앙값=median(사고건수), 최댓값=max(사고건수)) %>% arrange(desc(중앙값))"
   ]
  },
  {
   "cell_type": "code",
   "execution_count": 50,
   "id": "768665c7-05c9-4c0a-a59f-dc26b1fc91cb",
   "metadata": {
    "tags": []
   },
   "outputs": [
    {
     "data": {
      "text/html": [
       "<style>\n",
       ".list-inline {list-style: none; margin:0; padding: 0}\n",
       ".list-inline>li {display: inline-block}\n",
       ".list-inline>li:not(:last-child)::after {content: \"\\00b7\"; padding: 0 .5ex}\n",
       "</style>\n",
       "<ol class=list-inline><li>'202121059-정보경-exercise-5.ipynb'</li><li>'202121059-정보경-무작정 따라하기-5.ipynb'</li><li>'2022년_도로교통공단_일자별 시군구별 교통사고 건수.csv'</li><li>'2022년_서울_일별평균대기오염도_2022.csv'</li><li>'air_2021.xlsx'</li></ol>\n"
      ],
      "text/latex": [
       "\\begin{enumerate*}\n",
       "\\item '202121059-정보경-exercise-5.ipynb'\n",
       "\\item '202121059-정보경-무작정 따라하기-5.ipynb'\n",
       "\\item '2022년\\_도로교통공단\\_일자별 시군구별 교통사고 건수.csv'\n",
       "\\item '2022년\\_서울\\_일별평균대기오염도\\_2022.csv'\n",
       "\\item 'air\\_2021.xlsx'\n",
       "\\end{enumerate*}\n"
      ],
      "text/markdown": [
       "1. '202121059-정보경-exercise-5.ipynb'\n",
       "2. '202121059-정보경-무작정 따라하기-5.ipynb'\n",
       "3. '2022년_도로교통공단_일자별 시군구별 교통사고 건수.csv'\n",
       "4. '2022년_서울_일별평균대기오염도_2022.csv'\n",
       "5. 'air_2021.xlsx'\n",
       "\n",
       "\n"
      ],
      "text/plain": [
       "[1] \"202121059-정보경-exercise-5.ipynb\"                    \n",
       "[2] \"202121059-정보경-무작정 따라하기-5.ipynb\"             \n",
       "[3] \"2022년_도로교통공단_일자별 시군구별 교통사고 건수.csv\"\n",
       "[4] \"2022년_서울_일별평균대기오염도_2022.csv\"              \n",
       "[5] \"air_2021.xlsx\"                                        "
      ]
     },
     "metadata": {},
     "output_type": "display_data"
    }
   ],
   "source": [
    "list.files()"
   ]
  },
  {
   "cell_type": "code",
   "execution_count": 51,
   "id": "04c8178e-026f-4d42-a7d9-9071f727507a",
   "metadata": {
    "tags": []
   },
   "outputs": [
    {
     "data": {
      "text/html": [
       "<table class=\"dataframe\">\n",
       "<caption>A data.frame: 6 × 8</caption>\n",
       "<thead>\n",
       "\t<tr><th></th><th scope=col>측정일시</th><th scope=col>측정소명</th><th scope=col>이산화질소</th><th scope=col>오존</th><th scope=col>일산화탄소</th><th scope=col>아황산가스</th><th scope=col>미세먼지</th><th scope=col>초미세먼지</th></tr>\n",
       "\t<tr><th></th><th scope=col>&lt;int&gt;</th><th scope=col>&lt;chr&gt;</th><th scope=col>&lt;dbl&gt;</th><th scope=col>&lt;dbl&gt;</th><th scope=col>&lt;dbl&gt;</th><th scope=col>&lt;dbl&gt;</th><th scope=col>&lt;int&gt;</th><th scope=col>&lt;int&gt;</th></tr>\n",
       "</thead>\n",
       "<tbody>\n",
       "\t<tr><th scope=row>1</th><td>20220101</td><td>강남구  </td><td>0.029</td><td>0.014</td><td>0.5</td><td>0.003</td><td>25</td><td>12</td></tr>\n",
       "\t<tr><th scope=row>2</th><td>20220101</td><td>홍릉로  </td><td>0.038</td><td>0.009</td><td>0.6</td><td>0.004</td><td>27</td><td>16</td></tr>\n",
       "\t<tr><th scope=row>3</th><td>20220101</td><td>행주    </td><td>0.034</td><td>0.012</td><td>0.7</td><td>0.004</td><td>27</td><td>16</td></tr>\n",
       "\t<tr><th scope=row>4</th><td>20220101</td><td>항동    </td><td>0.030</td><td>0.011</td><td>0.5</td><td>0.003</td><td>27</td><td>14</td></tr>\n",
       "\t<tr><th scope=row>5</th><td>20220101</td><td>한강대로</td><td>0.037</td><td>0.011</td><td>0.6</td><td>0.003</td><td>34</td><td>14</td></tr>\n",
       "\t<tr><th scope=row>6</th><td>20220101</td><td>청계천로</td><td>0.037</td><td>0.011</td><td>0.6</td><td>0.003</td><td>27</td><td>16</td></tr>\n",
       "</tbody>\n",
       "</table>\n"
      ],
      "text/latex": [
       "A data.frame: 6 × 8\n",
       "\\begin{tabular}{r|llllllll}\n",
       "  & 측정일시 & 측정소명 & 이산화질소 & 오존 & 일산화탄소 & 아황산가스 & 미세먼지 & 초미세먼지\\\\\n",
       "  & <int> & <chr> & <dbl> & <dbl> & <dbl> & <dbl> & <int> & <int>\\\\\n",
       "\\hline\n",
       "\t1 & 20220101 & 강남구   & 0.029 & 0.014 & 0.5 & 0.003 & 25 & 12\\\\\n",
       "\t2 & 20220101 & 홍릉로   & 0.038 & 0.009 & 0.6 & 0.004 & 27 & 16\\\\\n",
       "\t3 & 20220101 & 행주     & 0.034 & 0.012 & 0.7 & 0.004 & 27 & 16\\\\\n",
       "\t4 & 20220101 & 항동     & 0.030 & 0.011 & 0.5 & 0.003 & 27 & 14\\\\\n",
       "\t5 & 20220101 & 한강대로 & 0.037 & 0.011 & 0.6 & 0.003 & 34 & 14\\\\\n",
       "\t6 & 20220101 & 청계천로 & 0.037 & 0.011 & 0.6 & 0.003 & 27 & 16\\\\\n",
       "\\end{tabular}\n"
      ],
      "text/markdown": [
       "\n",
       "A data.frame: 6 × 8\n",
       "\n",
       "| <!--/--> | 측정일시 &lt;int&gt; | 측정소명 &lt;chr&gt; | 이산화질소 &lt;dbl&gt; | 오존 &lt;dbl&gt; | 일산화탄소 &lt;dbl&gt; | 아황산가스 &lt;dbl&gt; | 미세먼지 &lt;int&gt; | 초미세먼지 &lt;int&gt; |\n",
       "|---|---|---|---|---|---|---|---|---|\n",
       "| 1 | 20220101 | 강남구   | 0.029 | 0.014 | 0.5 | 0.003 | 25 | 12 |\n",
       "| 2 | 20220101 | 홍릉로   | 0.038 | 0.009 | 0.6 | 0.004 | 27 | 16 |\n",
       "| 3 | 20220101 | 행주     | 0.034 | 0.012 | 0.7 | 0.004 | 27 | 16 |\n",
       "| 4 | 20220101 | 항동     | 0.030 | 0.011 | 0.5 | 0.003 | 27 | 14 |\n",
       "| 5 | 20220101 | 한강대로 | 0.037 | 0.011 | 0.6 | 0.003 | 34 | 14 |\n",
       "| 6 | 20220101 | 청계천로 | 0.037 | 0.011 | 0.6 | 0.003 | 27 | 16 |\n",
       "\n"
      ],
      "text/plain": [
       "  측정일시 측정소명 이산화질소 오존  일산화탄소 아황산가스 미세먼지 초미세먼지\n",
       "1 20220101 강남구   0.029      0.014 0.5        0.003      25       12        \n",
       "2 20220101 홍릉로   0.038      0.009 0.6        0.004      27       16        \n",
       "3 20220101 행주     0.034      0.012 0.7        0.004      27       16        \n",
       "4 20220101 항동     0.030      0.011 0.5        0.003      27       14        \n",
       "5 20220101 한강대로 0.037      0.011 0.6        0.003      34       14        \n",
       "6 20220101 청계천로 0.037      0.011 0.6        0.003      27       16        "
      ]
     },
     "metadata": {},
     "output_type": "display_data"
    }
   ],
   "source": [
    "data <- read.csv(\"2022년_서울_일별평균대기오염도_2022.csv\", fileEncoding=\"CP949\")\n",
    "head(data)"
   ]
  },
  {
   "cell_type": "code",
   "execution_count": 52,
   "id": "f7e1c335-f54f-4292-81fb-6bfa85729e7b",
   "metadata": {
    "tags": []
   },
   "outputs": [
    {
     "data": {
      "text/plain": [
       "\n",
       "관악산   남산 북한산 \n",
       "   365    365    365 "
      ]
     },
     "metadata": {},
     "output_type": "display_data"
    }
   ],
   "source": [
    "san <- data %>% filter(grepl(\"산$\", 측정소명))\n",
    "table(san$측정소명)"
   ]
  },
  {
   "cell_type": "code",
   "execution_count": 53,
   "id": "3cf1e90a-8889-4941-9710-c42d8e9c1592",
   "metadata": {
    "tags": []
   },
   "outputs": [
    {
     "data": {
      "text/html": [
       "<table class=\"dataframe\">\n",
       "<caption>A tibble: 3 × 3</caption>\n",
       "<thead>\n",
       "\t<tr><th scope=col>측정소명</th><th scope=col>n()</th><th scope=col>mean(미세먼지, na.rm = T)</th></tr>\n",
       "\t<tr><th scope=col>&lt;chr&gt;</th><th scope=col>&lt;int&gt;</th><th scope=col>&lt;dbl&gt;</th></tr>\n",
       "</thead>\n",
       "<tbody>\n",
       "\t<tr><td>관악산</td><td>365</td><td>29.32676</td></tr>\n",
       "\t<tr><td>남산  </td><td>365</td><td>28.80435</td></tr>\n",
       "\t<tr><td>북한산</td><td>365</td><td>25.93803</td></tr>\n",
       "</tbody>\n",
       "</table>\n"
      ],
      "text/latex": [
       "A tibble: 3 × 3\n",
       "\\begin{tabular}{lll}\n",
       " 측정소명 & n() & mean(미세먼지, na.rm = T)\\\\\n",
       " <chr> & <int> & <dbl>\\\\\n",
       "\\hline\n",
       "\t 관악산 & 365 & 29.32676\\\\\n",
       "\t 남산   & 365 & 28.80435\\\\\n",
       "\t 북한산 & 365 & 25.93803\\\\\n",
       "\\end{tabular}\n"
      ],
      "text/markdown": [
       "\n",
       "A tibble: 3 × 3\n",
       "\n",
       "| 측정소명 &lt;chr&gt; | n() &lt;int&gt; | mean(미세먼지, na.rm = T) &lt;dbl&gt; |\n",
       "|---|---|---|\n",
       "| 관악산 | 365 | 29.32676 |\n",
       "| 남산   | 365 | 28.80435 |\n",
       "| 북한산 | 365 | 25.93803 |\n",
       "\n"
      ],
      "text/plain": [
       "  측정소명 n() mean(미세먼지, na.rm = T)\n",
       "1 관악산   365 29.32676                 \n",
       "2 남산     365 28.80435                 \n",
       "3 북한산   365 25.93803                 "
      ]
     },
     "metadata": {},
     "output_type": "display_data"
    }
   ],
   "source": [
    "grp <- group_by(san, 측정소명)\n",
    "summarise(grp, n(), mean(미세먼지, na.rm=T))"
   ]
  },
  {
   "cell_type": "code",
   "execution_count": 54,
   "id": "322b50e0-de53-4fc5-a21a-cd7f5e7901b2",
   "metadata": {
    "tags": []
   },
   "outputs": [
    {
     "data": {
      "text/html": [
       "<table class=\"dataframe\">\n",
       "<caption>A tibble: 3 × 3</caption>\n",
       "<thead>\n",
       "\t<tr><th scope=col>측정소명</th><th scope=col>sum(!is.na(미세먼지))</th><th scope=col>mean(미세먼지, na.rm = T)</th></tr>\n",
       "\t<tr><th scope=col>&lt;chr&gt;</th><th scope=col>&lt;int&gt;</th><th scope=col>&lt;dbl&gt;</th></tr>\n",
       "</thead>\n",
       "<tbody>\n",
       "\t<tr><td>관악산</td><td>355</td><td>29.32676</td></tr>\n",
       "\t<tr><td>남산  </td><td>322</td><td>28.80435</td></tr>\n",
       "\t<tr><td>북한산</td><td>355</td><td>25.93803</td></tr>\n",
       "</tbody>\n",
       "</table>\n"
      ],
      "text/latex": [
       "A tibble: 3 × 3\n",
       "\\begin{tabular}{lll}\n",
       " 측정소명 & sum(!is.na(미세먼지)) & mean(미세먼지, na.rm = T)\\\\\n",
       " <chr> & <int> & <dbl>\\\\\n",
       "\\hline\n",
       "\t 관악산 & 355 & 29.32676\\\\\n",
       "\t 남산   & 322 & 28.80435\\\\\n",
       "\t 북한산 & 355 & 25.93803\\\\\n",
       "\\end{tabular}\n"
      ],
      "text/markdown": [
       "\n",
       "A tibble: 3 × 3\n",
       "\n",
       "| 측정소명 &lt;chr&gt; | sum(!is.na(미세먼지)) &lt;int&gt; | mean(미세먼지, na.rm = T) &lt;dbl&gt; |\n",
       "|---|---|---|\n",
       "| 관악산 | 355 | 29.32676 |\n",
       "| 남산   | 322 | 28.80435 |\n",
       "| 북한산 | 355 | 25.93803 |\n",
       "\n"
      ],
      "text/plain": [
       "  측정소명 sum(!is.na(미세먼지)) mean(미세먼지, na.rm = T)\n",
       "1 관악산   355                   29.32676                 \n",
       "2 남산     322                   28.80435                 \n",
       "3 북한산   355                   25.93803                 "
      ]
     },
     "metadata": {},
     "output_type": "display_data"
    }
   ],
   "source": [
    "grp <- group_by(san, 측정소명)\n",
    "summarise(grp, sum(!is.na(미세먼지)), mean(미세먼지, na.rm=T))"
   ]
  },
  {
   "cell_type": "code",
   "execution_count": 55,
   "id": "1fcefb8a-4e47-4c93-92ee-3c52883ce431",
   "metadata": {
    "tags": []
   },
   "outputs": [
    {
     "data": {
      "text/html": [
       "<style>\n",
       ".list-inline {list-style: none; margin:0; padding: 0}\n",
       ".list-inline>li {display: inline-block}\n",
       ".list-inline>li:not(:last-child)::after {content: \"\\00b7\"; padding: 0 .5ex}\n",
       "</style>\n",
       "<ol class=list-inline><li>291</li><li>292</li><li>293</li><li>294</li><li>295</li><li>296</li><li>297</li><li>317</li><li>332</li><li>341</li></ol>\n"
      ],
      "text/latex": [
       "\\begin{enumerate*}\n",
       "\\item 291\n",
       "\\item 292\n",
       "\\item 293\n",
       "\\item 294\n",
       "\\item 295\n",
       "\\item 296\n",
       "\\item 297\n",
       "\\item 317\n",
       "\\item 332\n",
       "\\item 341\n",
       "\\end{enumerate*}\n"
      ],
      "text/markdown": [
       "1. 291\n",
       "2. 292\n",
       "3. 293\n",
       "4. 294\n",
       "5. 295\n",
       "6. 296\n",
       "7. 297\n",
       "8. 317\n",
       "9. 332\n",
       "10. 341\n",
       "\n",
       "\n"
      ],
      "text/plain": [
       " [1] 291 292 293 294 295 296 297 317 332 341"
      ]
     },
     "metadata": {},
     "output_type": "display_data"
    },
    {
     "data": {
      "text/html": [
       "10"
      ],
      "text/latex": [
       "10"
      ],
      "text/markdown": [
       "10"
      ],
      "text/plain": [
       "[1] 10"
      ]
     },
     "metadata": {},
     "output_type": "display_data"
    }
   ],
   "source": [
    "snu <- filter(san, 측정소명 == \"관악산\")\n",
    "which(is.na(snu$미세먼지))\n",
    "sum(is.na(snu$미세먼지))"
   ]
  },
  {
   "cell_type": "code",
   "execution_count": 56,
   "id": "895ea563-e9f5-43a7-9554-43859be9f651",
   "metadata": {
    "tags": []
   },
   "outputs": [
    {
     "data": {
      "text/html": [
       "<table class=\"dataframe\">\n",
       "<caption>A data.frame: 6 × 3</caption>\n",
       "<thead>\n",
       "\t<tr><th></th><th scope=col>측정일시</th><th scope=col>측정소명</th><th scope=col>미세먼지</th></tr>\n",
       "\t<tr><th></th><th scope=col>&lt;int&gt;</th><th scope=col>&lt;chr&gt;</th><th scope=col>&lt;int&gt;</th></tr>\n",
       "</thead>\n",
       "<tbody>\n",
       "\t<tr><th scope=row>1</th><td>20220101</td><td>북한산</td><td>18</td></tr>\n",
       "\t<tr><th scope=row>2</th><td>20220101</td><td>남산  </td><td>23</td></tr>\n",
       "\t<tr><th scope=row>3</th><td>20220101</td><td>관악산</td><td>19</td></tr>\n",
       "\t<tr><th scope=row>4</th><td>20220102</td><td>북한산</td><td>30</td></tr>\n",
       "\t<tr><th scope=row>5</th><td>20220102</td><td>남산  </td><td>29</td></tr>\n",
       "\t<tr><th scope=row>6</th><td>20220102</td><td>관악산</td><td>31</td></tr>\n",
       "</tbody>\n",
       "</table>\n"
      ],
      "text/latex": [
       "A data.frame: 6 × 3\n",
       "\\begin{tabular}{r|lll}\n",
       "  & 측정일시 & 측정소명 & 미세먼지\\\\\n",
       "  & <int> & <chr> & <int>\\\\\n",
       "\\hline\n",
       "\t1 & 20220101 & 북한산 & 18\\\\\n",
       "\t2 & 20220101 & 남산   & 23\\\\\n",
       "\t3 & 20220101 & 관악산 & 19\\\\\n",
       "\t4 & 20220102 & 북한산 & 30\\\\\n",
       "\t5 & 20220102 & 남산   & 29\\\\\n",
       "\t6 & 20220102 & 관악산 & 31\\\\\n",
       "\\end{tabular}\n"
      ],
      "text/markdown": [
       "\n",
       "A data.frame: 6 × 3\n",
       "\n",
       "| <!--/--> | 측정일시 &lt;int&gt; | 측정소명 &lt;chr&gt; | 미세먼지 &lt;int&gt; |\n",
       "|---|---|---|---|\n",
       "| 1 | 20220101 | 북한산 | 18 |\n",
       "| 2 | 20220101 | 남산   | 23 |\n",
       "| 3 | 20220101 | 관악산 | 19 |\n",
       "| 4 | 20220102 | 북한산 | 30 |\n",
       "| 5 | 20220102 | 남산   | 29 |\n",
       "| 6 | 20220102 | 관악산 | 31 |\n",
       "\n"
      ],
      "text/plain": [
       "  측정일시 측정소명 미세먼지\n",
       "1 20220101 북한산   18      \n",
       "2 20220101 남산     23      \n",
       "3 20220101 관악산   19      \n",
       "4 20220102 북한산   30      \n",
       "5 20220102 남산     29      \n",
       "6 20220102 관악산   31      "
      ]
     },
     "metadata": {},
     "output_type": "display_data"
    }
   ],
   "source": [
    "head(san[c(1,2,7)])"
   ]
  },
  {
   "cell_type": "code",
   "execution_count": 57,
   "id": "bb13d78d-63fe-4652-ac83-31c740c962a6",
   "metadata": {
    "tags": []
   },
   "outputs": [
    {
     "data": {
      "text/html": [
       "<table class=\"dataframe\">\n",
       "<caption>A tibble: 3 × 3</caption>\n",
       "<thead>\n",
       "\t<tr><th scope=col>측정소명</th><th scope=col>n()</th><th scope=col>mean(미세먼지)</th></tr>\n",
       "\t<tr><th scope=col>&lt;chr&gt;</th><th scope=col>&lt;int&gt;</th><th scope=col>&lt;dbl&gt;</th></tr>\n",
       "</thead>\n",
       "<tbody>\n",
       "\t<tr><td>관악산</td><td>355</td><td>29.32676</td></tr>\n",
       "\t<tr><td>남산  </td><td>322</td><td>28.80435</td></tr>\n",
       "\t<tr><td>북한산</td><td>355</td><td>25.93803</td></tr>\n",
       "</tbody>\n",
       "</table>\n"
      ],
      "text/latex": [
       "A tibble: 3 × 3\n",
       "\\begin{tabular}{lll}\n",
       " 측정소명 & n() & mean(미세먼지)\\\\\n",
       " <chr> & <int> & <dbl>\\\\\n",
       "\\hline\n",
       "\t 관악산 & 355 & 29.32676\\\\\n",
       "\t 남산   & 322 & 28.80435\\\\\n",
       "\t 북한산 & 355 & 25.93803\\\\\n",
       "\\end{tabular}\n"
      ],
      "text/markdown": [
       "\n",
       "A tibble: 3 × 3\n",
       "\n",
       "| 측정소명 &lt;chr&gt; | n() &lt;int&gt; | mean(미세먼지) &lt;dbl&gt; |\n",
       "|---|---|---|\n",
       "| 관악산 | 355 | 29.32676 |\n",
       "| 남산   | 322 | 28.80435 |\n",
       "| 북한산 | 355 | 25.93803 |\n",
       "\n"
      ],
      "text/plain": [
       "  측정소명 n() mean(미세먼지)\n",
       "1 관악산   355 29.32676      \n",
       "2 남산     322 28.80435      \n",
       "3 북한산   355 25.93803      "
      ]
     },
     "metadata": {},
     "output_type": "display_data"
    }
   ],
   "source": [
    "san %>% select(1, 2, 7) %>% na.omit() %>% group_by(측정소명) %>% summarise(n(), mean(미세먼지))"
   ]
  },
  {
   "cell_type": "code",
   "execution_count": 58,
   "id": "28f384a5-3358-4911-bf1a-30e517ea2826",
   "metadata": {
    "tags": []
   },
   "outputs": [],
   "source": [
    "library(dplyr)"
   ]
  },
  {
   "cell_type": "code",
   "execution_count": 59,
   "id": "6cb8eeb5-3f03-4412-a122-d4ac5f327a79",
   "metadata": {
    "tags": []
   },
   "outputs": [
    {
     "data": {
      "text/html": [
       "<table class=\"dataframe\">\n",
       "<caption>A data.frame: 3 × 2</caption>\n",
       "<thead>\n",
       "\t<tr><th></th><th scope=col>mpg</th><th scope=col>cyl</th></tr>\n",
       "\t<tr><th></th><th scope=col>&lt;dbl&gt;</th><th scope=col>&lt;dbl&gt;</th></tr>\n",
       "</thead>\n",
       "<tbody>\n",
       "\t<tr><th scope=row>Mazda RX4</th><td>21.0</td><td>6</td></tr>\n",
       "\t<tr><th scope=row>Mazda RX4 Wag</th><td>21.0</td><td>6</td></tr>\n",
       "\t<tr><th scope=row>Datsun 710</th><td>22.8</td><td>4</td></tr>\n",
       "</tbody>\n",
       "</table>\n"
      ],
      "text/latex": [
       "A data.frame: 3 × 2\n",
       "\\begin{tabular}{r|ll}\n",
       "  & mpg & cyl\\\\\n",
       "  & <dbl> & <dbl>\\\\\n",
       "\\hline\n",
       "\tMazda RX4 & 21.0 & 6\\\\\n",
       "\tMazda RX4 Wag & 21.0 & 6\\\\\n",
       "\tDatsun 710 & 22.8 & 4\\\\\n",
       "\\end{tabular}\n"
      ],
      "text/markdown": [
       "\n",
       "A data.frame: 3 × 2\n",
       "\n",
       "| <!--/--> | mpg &lt;dbl&gt; | cyl &lt;dbl&gt; |\n",
       "|---|---|---|\n",
       "| Mazda RX4 | 21.0 | 6 |\n",
       "| Mazda RX4 Wag | 21.0 | 6 |\n",
       "| Datsun 710 | 22.8 | 4 |\n",
       "\n"
      ],
      "text/plain": [
       "              mpg  cyl\n",
       "Mazda RX4     21.0 6  \n",
       "Mazda RX4 Wag 21.0 6  \n",
       "Datsun 710    22.8 4  "
      ]
     },
     "metadata": {},
     "output_type": "display_data"
    }
   ],
   "source": [
    "newcyl <- select(mtcars, mpg, cyl)\n",
    "head(newcyl, 3)"
   ]
  },
  {
   "cell_type": "code",
   "execution_count": 60,
   "id": "0696c306-e270-412a-9e9a-2faa1ebcce62",
   "metadata": {
    "tags": []
   },
   "outputs": [
    {
     "data": {
      "text/html": [
       "<table class=\"dataframe\">\n",
       "<caption>A data.frame: 6 × 2</caption>\n",
       "<thead>\n",
       "\t<tr><th></th><th scope=col>mpg</th><th scope=col>cyl</th></tr>\n",
       "\t<tr><th></th><th scope=col>&lt;dbl&gt;</th><th scope=col>&lt;dbl&gt;</th></tr>\n",
       "</thead>\n",
       "<tbody>\n",
       "\t<tr><th scope=row>Mazda RX4</th><td>21.0</td><td>6</td></tr>\n",
       "\t<tr><th scope=row>Mazda RX4 Wag</th><td>21.0</td><td>6</td></tr>\n",
       "\t<tr><th scope=row>Datsun 710</th><td>22.8</td><td>4</td></tr>\n",
       "\t<tr><th scope=row>Hornet 4 Drive</th><td>21.4</td><td>6</td></tr>\n",
       "\t<tr><th scope=row>Hornet Sportabout</th><td>18.7</td><td>8</td></tr>\n",
       "\t<tr><th scope=row>Valiant</th><td>18.1</td><td>6</td></tr>\n",
       "</tbody>\n",
       "</table>\n"
      ],
      "text/latex": [
       "A data.frame: 6 × 2\n",
       "\\begin{tabular}{r|ll}\n",
       "  & mpg & cyl\\\\\n",
       "  & <dbl> & <dbl>\\\\\n",
       "\\hline\n",
       "\tMazda RX4 & 21.0 & 6\\\\\n",
       "\tMazda RX4 Wag & 21.0 & 6\\\\\n",
       "\tDatsun 710 & 22.8 & 4\\\\\n",
       "\tHornet 4 Drive & 21.4 & 6\\\\\n",
       "\tHornet Sportabout & 18.7 & 8\\\\\n",
       "\tValiant & 18.1 & 6\\\\\n",
       "\\end{tabular}\n"
      ],
      "text/markdown": [
       "\n",
       "A data.frame: 6 × 2\n",
       "\n",
       "| <!--/--> | mpg &lt;dbl&gt; | cyl &lt;dbl&gt; |\n",
       "|---|---|---|\n",
       "| Mazda RX4 | 21.0 | 6 |\n",
       "| Mazda RX4 Wag | 21.0 | 6 |\n",
       "| Datsun 710 | 22.8 | 4 |\n",
       "| Hornet 4 Drive | 21.4 | 6 |\n",
       "| Hornet Sportabout | 18.7 | 8 |\n",
       "| Valiant | 18.1 | 6 |\n",
       "\n"
      ],
      "text/plain": [
       "                  mpg  cyl\n",
       "Mazda RX4         21.0 6  \n",
       "Mazda RX4 Wag     21.0 6  \n",
       "Datsun 710        22.8 4  \n",
       "Hornet 4 Drive    21.4 6  \n",
       "Hornet Sportabout 18.7 8  \n",
       "Valiant           18.1 6  "
      ]
     },
     "metadata": {},
     "output_type": "display_data"
    }
   ],
   "source": [
    "newcyl <- mtcars %>% select(mpg, cyl) \n",
    "head(newcyl)"
   ]
  },
  {
   "cell_type": "code",
   "execution_count": 61,
   "id": "5cd0178c-5ce0-4b1d-b98a-fb26f3c71de6",
   "metadata": {
    "tags": []
   },
   "outputs": [
    {
     "data": {
      "text/html": [
       "<table class=\"dataframe\">\n",
       "<caption>A data.frame: 3 × 3</caption>\n",
       "<thead>\n",
       "\t<tr><th></th><th scope=col>mpg</th><th scope=col>cyl</th><th scope=col>mPc</th></tr>\n",
       "\t<tr><th></th><th scope=col>&lt;dbl&gt;</th><th scope=col>&lt;dbl&gt;</th><th scope=col>&lt;dbl&gt;</th></tr>\n",
       "</thead>\n",
       "<tbody>\n",
       "\t<tr><th scope=row>Mazda RX4</th><td>21.0</td><td>6</td><td>3.5</td></tr>\n",
       "\t<tr><th scope=row>Mazda RX4 Wag</th><td>21.0</td><td>6</td><td>3.5</td></tr>\n",
       "\t<tr><th scope=row>Datsun 710</th><td>22.8</td><td>4</td><td>5.7</td></tr>\n",
       "</tbody>\n",
       "</table>\n"
      ],
      "text/latex": [
       "A data.frame: 3 × 3\n",
       "\\begin{tabular}{r|lll}\n",
       "  & mpg & cyl & mPc\\\\\n",
       "  & <dbl> & <dbl> & <dbl>\\\\\n",
       "\\hline\n",
       "\tMazda RX4 & 21.0 & 6 & 3.5\\\\\n",
       "\tMazda RX4 Wag & 21.0 & 6 & 3.5\\\\\n",
       "\tDatsun 710 & 22.8 & 4 & 5.7\\\\\n",
       "\\end{tabular}\n"
      ],
      "text/markdown": [
       "\n",
       "A data.frame: 3 × 3\n",
       "\n",
       "| <!--/--> | mpg &lt;dbl&gt; | cyl &lt;dbl&gt; | mPc &lt;dbl&gt; |\n",
       "|---|---|---|---|\n",
       "| Mazda RX4 | 21.0 | 6 | 3.5 |\n",
       "| Mazda RX4 Wag | 21.0 | 6 | 3.5 |\n",
       "| Datsun 710 | 22.8 | 4 | 5.7 |\n",
       "\n"
      ],
      "text/plain": [
       "              mpg  cyl mPc\n",
       "Mazda RX4     21.0 6   3.5\n",
       "Mazda RX4 Wag 21.0 6   3.5\n",
       "Datsun 710    22.8 4   5.7"
      ]
     },
     "metadata": {},
     "output_type": "display_data"
    }
   ],
   "source": [
    "newcyl <- select(mtcars, mpg, cyl)\n",
    "newcyl2 <- mutate(newcyl, mPc = mpg/cyl)\n",
    "head(newcyl2, 3)"
   ]
  },
  {
   "cell_type": "code",
   "execution_count": 62,
   "id": "34541138-24f2-4514-be98-a100df1a05d4",
   "metadata": {
    "tags": []
   },
   "outputs": [
    {
     "data": {
      "text/html": [
       "<table class=\"dataframe\">\n",
       "<caption>A data.frame: 6 × 3</caption>\n",
       "<thead>\n",
       "\t<tr><th></th><th scope=col>mpg</th><th scope=col>cyl</th><th scope=col>mPc</th></tr>\n",
       "\t<tr><th></th><th scope=col>&lt;dbl&gt;</th><th scope=col>&lt;dbl&gt;</th><th scope=col>&lt;dbl&gt;</th></tr>\n",
       "</thead>\n",
       "<tbody>\n",
       "\t<tr><th scope=row>Mazda RX4</th><td>21.0</td><td>6</td><td>3.500000</td></tr>\n",
       "\t<tr><th scope=row>Mazda RX4 Wag</th><td>21.0</td><td>6</td><td>3.500000</td></tr>\n",
       "\t<tr><th scope=row>Datsun 710</th><td>22.8</td><td>4</td><td>5.700000</td></tr>\n",
       "\t<tr><th scope=row>Hornet 4 Drive</th><td>21.4</td><td>6</td><td>3.566667</td></tr>\n",
       "\t<tr><th scope=row>Hornet Sportabout</th><td>18.7</td><td>8</td><td>2.337500</td></tr>\n",
       "\t<tr><th scope=row>Valiant</th><td>18.1</td><td>6</td><td>3.016667</td></tr>\n",
       "</tbody>\n",
       "</table>\n"
      ],
      "text/latex": [
       "A data.frame: 6 × 3\n",
       "\\begin{tabular}{r|lll}\n",
       "  & mpg & cyl & mPc\\\\\n",
       "  & <dbl> & <dbl> & <dbl>\\\\\n",
       "\\hline\n",
       "\tMazda RX4 & 21.0 & 6 & 3.500000\\\\\n",
       "\tMazda RX4 Wag & 21.0 & 6 & 3.500000\\\\\n",
       "\tDatsun 710 & 22.8 & 4 & 5.700000\\\\\n",
       "\tHornet 4 Drive & 21.4 & 6 & 3.566667\\\\\n",
       "\tHornet Sportabout & 18.7 & 8 & 2.337500\\\\\n",
       "\tValiant & 18.1 & 6 & 3.016667\\\\\n",
       "\\end{tabular}\n"
      ],
      "text/markdown": [
       "\n",
       "A data.frame: 6 × 3\n",
       "\n",
       "| <!--/--> | mpg &lt;dbl&gt; | cyl &lt;dbl&gt; | mPc &lt;dbl&gt; |\n",
       "|---|---|---|---|\n",
       "| Mazda RX4 | 21.0 | 6 | 3.500000 |\n",
       "| Mazda RX4 Wag | 21.0 | 6 | 3.500000 |\n",
       "| Datsun 710 | 22.8 | 4 | 5.700000 |\n",
       "| Hornet 4 Drive | 21.4 | 6 | 3.566667 |\n",
       "| Hornet Sportabout | 18.7 | 8 | 2.337500 |\n",
       "| Valiant | 18.1 | 6 | 3.016667 |\n",
       "\n"
      ],
      "text/plain": [
       "                  mpg  cyl mPc     \n",
       "Mazda RX4         21.0 6   3.500000\n",
       "Mazda RX4 Wag     21.0 6   3.500000\n",
       "Datsun 710        22.8 4   5.700000\n",
       "Hornet 4 Drive    21.4 6   3.566667\n",
       "Hornet Sportabout 18.7 8   2.337500\n",
       "Valiant           18.1 6   3.016667"
      ]
     },
     "metadata": {},
     "output_type": "display_data"
    }
   ],
   "source": [
    "newcyl <- mtcars %>% select(mpg, cyl) %>% mutate(mPc = mpg/cyl)\n",
    "head(newcyl)"
   ]
  },
  {
   "cell_type": "code",
   "execution_count": 63,
   "id": "4d038b40-4ca5-482d-ae71-6dda13077bc4",
   "metadata": {
    "tags": []
   },
   "outputs": [
    {
     "data": {
      "text/html": [
       "<table class=\"dataframe\">\n",
       "<caption>A data.frame: 3 × 3</caption>\n",
       "<thead>\n",
       "\t<tr><th></th><th scope=col>mpg</th><th scope=col>cyl</th><th scope=col>mPc</th></tr>\n",
       "\t<tr><th></th><th scope=col>&lt;dbl&gt;</th><th scope=col>&lt;dbl&gt;</th><th scope=col>&lt;dbl&gt;</th></tr>\n",
       "</thead>\n",
       "<tbody>\n",
       "\t<tr><th scope=row>Mazda RX4</th><td>21.0</td><td>6</td><td>3.5</td></tr>\n",
       "\t<tr><th scope=row>Mazda RX4 Wag</th><td>21.0</td><td>6</td><td>3.5</td></tr>\n",
       "\t<tr><th scope=row>Datsun 710</th><td>22.8</td><td>4</td><td>5.7</td></tr>\n",
       "</tbody>\n",
       "</table>\n"
      ],
      "text/latex": [
       "A data.frame: 3 × 3\n",
       "\\begin{tabular}{r|lll}\n",
       "  & mpg & cyl & mPc\\\\\n",
       "  & <dbl> & <dbl> & <dbl>\\\\\n",
       "\\hline\n",
       "\tMazda RX4 & 21.0 & 6 & 3.5\\\\\n",
       "\tMazda RX4 Wag & 21.0 & 6 & 3.5\\\\\n",
       "\tDatsun 710 & 22.8 & 4 & 5.7\\\\\n",
       "\\end{tabular}\n"
      ],
      "text/markdown": [
       "\n",
       "A data.frame: 3 × 3\n",
       "\n",
       "| <!--/--> | mpg &lt;dbl&gt; | cyl &lt;dbl&gt; | mPc &lt;dbl&gt; |\n",
       "|---|---|---|---|\n",
       "| Mazda RX4 | 21.0 | 6 | 3.5 |\n",
       "| Mazda RX4 Wag | 21.0 | 6 | 3.5 |\n",
       "| Datsun 710 | 22.8 | 4 | 5.7 |\n",
       "\n"
      ],
      "text/plain": [
       "              mpg  cyl mPc\n",
       "Mazda RX4     21.0 6   3.5\n",
       "Mazda RX4 Wag 21.0 6   3.5\n",
       "Datsun 710    22.8 4   5.7"
      ]
     },
     "metadata": {},
     "output_type": "display_data"
    }
   ],
   "source": [
    "newcyl <- select(mtcars, mpg, cyl)\n",
    "newcyl2 <- mutate(newcyl, mPc = mpg/cyl)\n",
    "newcyl3 <- filter(newcyl2, mPc >= 3)\n",
    "head(newcyl3, 3)"
   ]
  },
  {
   "cell_type": "code",
   "execution_count": 64,
   "id": "946f836b-ff9b-43d1-8329-5b734e5b9777",
   "metadata": {
    "tags": []
   },
   "outputs": [
    {
     "data": {
      "text/html": [
       "<table class=\"dataframe\">\n",
       "<caption>A data.frame: 6 × 3</caption>\n",
       "<thead>\n",
       "\t<tr><th></th><th scope=col>mpg</th><th scope=col>cyl</th><th scope=col>mPc</th></tr>\n",
       "\t<tr><th></th><th scope=col>&lt;dbl&gt;</th><th scope=col>&lt;dbl&gt;</th><th scope=col>&lt;dbl&gt;</th></tr>\n",
       "</thead>\n",
       "<tbody>\n",
       "\t<tr><th scope=row>Mazda RX4</th><td>21.0</td><td>6</td><td>3.500000</td></tr>\n",
       "\t<tr><th scope=row>Mazda RX4 Wag</th><td>21.0</td><td>6</td><td>3.500000</td></tr>\n",
       "\t<tr><th scope=row>Datsun 710</th><td>22.8</td><td>4</td><td>5.700000</td></tr>\n",
       "\t<tr><th scope=row>Hornet 4 Drive</th><td>21.4</td><td>6</td><td>3.566667</td></tr>\n",
       "\t<tr><th scope=row>Valiant</th><td>18.1</td><td>6</td><td>3.016667</td></tr>\n",
       "\t<tr><th scope=row>Merc 240D</th><td>24.4</td><td>4</td><td>6.100000</td></tr>\n",
       "</tbody>\n",
       "</table>\n"
      ],
      "text/latex": [
       "A data.frame: 6 × 3\n",
       "\\begin{tabular}{r|lll}\n",
       "  & mpg & cyl & mPc\\\\\n",
       "  & <dbl> & <dbl> & <dbl>\\\\\n",
       "\\hline\n",
       "\tMazda RX4 & 21.0 & 6 & 3.500000\\\\\n",
       "\tMazda RX4 Wag & 21.0 & 6 & 3.500000\\\\\n",
       "\tDatsun 710 & 22.8 & 4 & 5.700000\\\\\n",
       "\tHornet 4 Drive & 21.4 & 6 & 3.566667\\\\\n",
       "\tValiant & 18.1 & 6 & 3.016667\\\\\n",
       "\tMerc 240D & 24.4 & 4 & 6.100000\\\\\n",
       "\\end{tabular}\n"
      ],
      "text/markdown": [
       "\n",
       "A data.frame: 6 × 3\n",
       "\n",
       "| <!--/--> | mpg &lt;dbl&gt; | cyl &lt;dbl&gt; | mPc &lt;dbl&gt; |\n",
       "|---|---|---|---|\n",
       "| Mazda RX4 | 21.0 | 6 | 3.500000 |\n",
       "| Mazda RX4 Wag | 21.0 | 6 | 3.500000 |\n",
       "| Datsun 710 | 22.8 | 4 | 5.700000 |\n",
       "| Hornet 4 Drive | 21.4 | 6 | 3.566667 |\n",
       "| Valiant | 18.1 | 6 | 3.016667 |\n",
       "| Merc 240D | 24.4 | 4 | 6.100000 |\n",
       "\n"
      ],
      "text/plain": [
       "               mpg  cyl mPc     \n",
       "Mazda RX4      21.0 6   3.500000\n",
       "Mazda RX4 Wag  21.0 6   3.500000\n",
       "Datsun 710     22.8 4   5.700000\n",
       "Hornet 4 Drive 21.4 6   3.566667\n",
       "Valiant        18.1 6   3.016667\n",
       "Merc 240D      24.4 4   6.100000"
      ]
     },
     "metadata": {},
     "output_type": "display_data"
    }
   ],
   "source": [
    "mtcars %>% select(mpg, cyl) %>% mutate(mPc = mpg/cyl) %>% filter(mPc >= 3) %>% head()"
   ]
  },
  {
   "cell_type": "code",
   "execution_count": 65,
   "id": "59f68692-c9eb-4e7c-a5b5-5621fa5db4dd",
   "metadata": {
    "tags": []
   },
   "outputs": [],
   "source": [
    "library(pivottabler)\n",
    "library(dplyr)"
   ]
  },
  {
   "cell_type": "code",
   "execution_count": 66,
   "id": "1555f295-12ca-43f2-b085-3cea01f2cf12",
   "metadata": {
    "tags": []
   },
   "outputs": [
    {
     "data": {
      "text/html": [
       "<style>\n",
       ".list-inline {list-style: none; margin:0; padding: 0}\n",
       ".list-inline>li {display: inline-block}\n",
       ".list-inline>li:not(:last-child)::after {content: \"\\00b7\"; padding: 0 .5ex}\n",
       "</style>\n",
       "<ol class=list-inline><li>'202121059-정보경-exercise-5.ipynb'</li><li>'202121059-정보경-무작정 따라하기-5.ipynb'</li><li>'2022년_도로교통공단_일자별 시군구별 교통사고 건수.csv'</li><li>'2022년_서울_일별평균대기오염도_2022.csv'</li><li>'air_2021.xlsx'</li></ol>\n"
      ],
      "text/latex": [
       "\\begin{enumerate*}\n",
       "\\item '202121059-정보경-exercise-5.ipynb'\n",
       "\\item '202121059-정보경-무작정 따라하기-5.ipynb'\n",
       "\\item '2022년\\_도로교통공단\\_일자별 시군구별 교통사고 건수.csv'\n",
       "\\item '2022년\\_서울\\_일별평균대기오염도\\_2022.csv'\n",
       "\\item 'air\\_2021.xlsx'\n",
       "\\end{enumerate*}\n"
      ],
      "text/markdown": [
       "1. '202121059-정보경-exercise-5.ipynb'\n",
       "2. '202121059-정보경-무작정 따라하기-5.ipynb'\n",
       "3. '2022년_도로교통공단_일자별 시군구별 교통사고 건수.csv'\n",
       "4. '2022년_서울_일별평균대기오염도_2022.csv'\n",
       "5. 'air_2021.xlsx'\n",
       "\n",
       "\n"
      ],
      "text/plain": [
       "[1] \"202121059-정보경-exercise-5.ipynb\"                    \n",
       "[2] \"202121059-정보경-무작정 따라하기-5.ipynb\"             \n",
       "[3] \"2022년_도로교통공단_일자별 시군구별 교통사고 건수.csv\"\n",
       "[4] \"2022년_서울_일별평균대기오염도_2022.csv\"              \n",
       "[5] \"air_2021.xlsx\"                                        "
      ]
     },
     "metadata": {},
     "output_type": "display_data"
    }
   ],
   "source": [
    "list.files()"
   ]
  },
  {
   "cell_type": "code",
   "execution_count": 67,
   "id": "777d03c7-da52-44a3-9b7c-f79ff11b224d",
   "metadata": {
    "tags": []
   },
   "outputs": [
    {
     "data": {
      "text/html": [
       "<table class=\"dataframe\">\n",
       "<caption>A data.frame: 6 × 8</caption>\n",
       "<thead>\n",
       "\t<tr><th></th><th scope=col>측정일시</th><th scope=col>측정소명</th><th scope=col>이산화질소</th><th scope=col>오존</th><th scope=col>일산화탄소</th><th scope=col>아황산가스</th><th scope=col>미세먼지</th><th scope=col>초미세먼지</th></tr>\n",
       "\t<tr><th></th><th scope=col>&lt;int&gt;</th><th scope=col>&lt;chr&gt;</th><th scope=col>&lt;dbl&gt;</th><th scope=col>&lt;dbl&gt;</th><th scope=col>&lt;dbl&gt;</th><th scope=col>&lt;dbl&gt;</th><th scope=col>&lt;int&gt;</th><th scope=col>&lt;int&gt;</th></tr>\n",
       "</thead>\n",
       "<tbody>\n",
       "\t<tr><th scope=row>1</th><td>20220101</td><td>강남구  </td><td>0.029</td><td>0.014</td><td>0.5</td><td>0.003</td><td>25</td><td>12</td></tr>\n",
       "\t<tr><th scope=row>2</th><td>20220101</td><td>홍릉로  </td><td>0.038</td><td>0.009</td><td>0.6</td><td>0.004</td><td>27</td><td>16</td></tr>\n",
       "\t<tr><th scope=row>3</th><td>20220101</td><td>행주    </td><td>0.034</td><td>0.012</td><td>0.7</td><td>0.004</td><td>27</td><td>16</td></tr>\n",
       "\t<tr><th scope=row>4</th><td>20220101</td><td>항동    </td><td>0.030</td><td>0.011</td><td>0.5</td><td>0.003</td><td>27</td><td>14</td></tr>\n",
       "\t<tr><th scope=row>5</th><td>20220101</td><td>한강대로</td><td>0.037</td><td>0.011</td><td>0.6</td><td>0.003</td><td>34</td><td>14</td></tr>\n",
       "\t<tr><th scope=row>6</th><td>20220101</td><td>청계천로</td><td>0.037</td><td>0.011</td><td>0.6</td><td>0.003</td><td>27</td><td>16</td></tr>\n",
       "</tbody>\n",
       "</table>\n"
      ],
      "text/latex": [
       "A data.frame: 6 × 8\n",
       "\\begin{tabular}{r|llllllll}\n",
       "  & 측정일시 & 측정소명 & 이산화질소 & 오존 & 일산화탄소 & 아황산가스 & 미세먼지 & 초미세먼지\\\\\n",
       "  & <int> & <chr> & <dbl> & <dbl> & <dbl> & <dbl> & <int> & <int>\\\\\n",
       "\\hline\n",
       "\t1 & 20220101 & 강남구   & 0.029 & 0.014 & 0.5 & 0.003 & 25 & 12\\\\\n",
       "\t2 & 20220101 & 홍릉로   & 0.038 & 0.009 & 0.6 & 0.004 & 27 & 16\\\\\n",
       "\t3 & 20220101 & 행주     & 0.034 & 0.012 & 0.7 & 0.004 & 27 & 16\\\\\n",
       "\t4 & 20220101 & 항동     & 0.030 & 0.011 & 0.5 & 0.003 & 27 & 14\\\\\n",
       "\t5 & 20220101 & 한강대로 & 0.037 & 0.011 & 0.6 & 0.003 & 34 & 14\\\\\n",
       "\t6 & 20220101 & 청계천로 & 0.037 & 0.011 & 0.6 & 0.003 & 27 & 16\\\\\n",
       "\\end{tabular}\n"
      ],
      "text/markdown": [
       "\n",
       "A data.frame: 6 × 8\n",
       "\n",
       "| <!--/--> | 측정일시 &lt;int&gt; | 측정소명 &lt;chr&gt; | 이산화질소 &lt;dbl&gt; | 오존 &lt;dbl&gt; | 일산화탄소 &lt;dbl&gt; | 아황산가스 &lt;dbl&gt; | 미세먼지 &lt;int&gt; | 초미세먼지 &lt;int&gt; |\n",
       "|---|---|---|---|---|---|---|---|---|\n",
       "| 1 | 20220101 | 강남구   | 0.029 | 0.014 | 0.5 | 0.003 | 25 | 12 |\n",
       "| 2 | 20220101 | 홍릉로   | 0.038 | 0.009 | 0.6 | 0.004 | 27 | 16 |\n",
       "| 3 | 20220101 | 행주     | 0.034 | 0.012 | 0.7 | 0.004 | 27 | 16 |\n",
       "| 4 | 20220101 | 항동     | 0.030 | 0.011 | 0.5 | 0.003 | 27 | 14 |\n",
       "| 5 | 20220101 | 한강대로 | 0.037 | 0.011 | 0.6 | 0.003 | 34 | 14 |\n",
       "| 6 | 20220101 | 청계천로 | 0.037 | 0.011 | 0.6 | 0.003 | 27 | 16 |\n",
       "\n"
      ],
      "text/plain": [
       "  측정일시 측정소명 이산화질소 오존  일산화탄소 아황산가스 미세먼지 초미세먼지\n",
       "1 20220101 강남구   0.029      0.014 0.5        0.003      25       12        \n",
       "2 20220101 홍릉로   0.038      0.009 0.6        0.004      27       16        \n",
       "3 20220101 행주     0.034      0.012 0.7        0.004      27       16        \n",
       "4 20220101 항동     0.030      0.011 0.5        0.003      27       14        \n",
       "5 20220101 한강대로 0.037      0.011 0.6        0.003      34       14        \n",
       "6 20220101 청계천로 0.037      0.011 0.6        0.003      27       16        "
      ]
     },
     "metadata": {},
     "output_type": "display_data"
    }
   ],
   "source": [
    "data <- read.csv(\"2022년_서울_일별평균대기오염도_2022.csv\", fileEncoding=\"CP949\")\n",
    "head(data)"
   ]
  },
  {
   "cell_type": "code",
   "execution_count": 68,
   "id": "e372668d-141f-4adb-ae5e-feb2671849d0",
   "metadata": {
    "tags": []
   },
   "outputs": [
    {
     "data": {
      "text/html": [
       "<table class=\"dataframe\">\n",
       "<caption>A data.frame: 6 × 3</caption>\n",
       "<thead>\n",
       "\t<tr><th></th><th scope=col>측정소명</th><th scope=col>월</th><th scope=col>초미세먼지</th></tr>\n",
       "\t<tr><th></th><th scope=col>&lt;chr&gt;</th><th scope=col>&lt;chr&gt;</th><th scope=col>&lt;int&gt;</th></tr>\n",
       "</thead>\n",
       "<tbody>\n",
       "\t<tr><th scope=row>1</th><td>강남구</td><td>01</td><td>12</td></tr>\n",
       "\t<tr><th scope=row>2</th><td>중구  </td><td>01</td><td>17</td></tr>\n",
       "\t<tr><th scope=row>3</th><td>강서구</td><td>01</td><td>12</td></tr>\n",
       "\t<tr><th scope=row>4</th><td>강북구</td><td>01</td><td>16</td></tr>\n",
       "\t<tr><th scope=row>5</th><td>강동구</td><td>01</td><td>15</td></tr>\n",
       "\t<tr><th scope=row>6</th><td>중구  </td><td>01</td><td>27</td></tr>\n",
       "</tbody>\n",
       "</table>\n"
      ],
      "text/latex": [
       "A data.frame: 6 × 3\n",
       "\\begin{tabular}{r|lll}\n",
       "  & 측정소명 & 월 & 초미세먼지\\\\\n",
       "  & <chr> & <chr> & <int>\\\\\n",
       "\\hline\n",
       "\t1 & 강남구 & 01 & 12\\\\\n",
       "\t2 & 중구   & 01 & 17\\\\\n",
       "\t3 & 강서구 & 01 & 12\\\\\n",
       "\t4 & 강북구 & 01 & 16\\\\\n",
       "\t5 & 강동구 & 01 & 15\\\\\n",
       "\t6 & 중구   & 01 & 27\\\\\n",
       "\\end{tabular}\n"
      ],
      "text/markdown": [
       "\n",
       "A data.frame: 6 × 3\n",
       "\n",
       "| <!--/--> | 측정소명 &lt;chr&gt; | 월 &lt;chr&gt; | 초미세먼지 &lt;int&gt; |\n",
       "|---|---|---|---|\n",
       "| 1 | 강남구 | 01 | 12 |\n",
       "| 2 | 중구   | 01 | 17 |\n",
       "| 3 | 강서구 | 01 | 12 |\n",
       "| 4 | 강북구 | 01 | 16 |\n",
       "| 5 | 강동구 | 01 | 15 |\n",
       "| 6 | 중구   | 01 | 27 |\n",
       "\n"
      ],
      "text/plain": [
       "  측정소명 월 초미세먼지\n",
       "1 강남구   01 12        \n",
       "2 중구     01 17        \n",
       "3 강서구   01 12        \n",
       "4 강북구   01 16        \n",
       "5 강동구   01 15        \n",
       "6 중구     01 27        "
      ]
     },
     "metadata": {},
     "output_type": "display_data"
    }
   ],
   "source": [
    "news <- data %>% filter(grepl(\"강.구|중구\", 측정소명)) %>% mutate(월=substr(측정일시, 5, 6)) %>% select(측정소명, 월, 초미세먼지)\n",
    "head(news)"
   ]
  },
  {
   "cell_type": "code",
   "execution_count": 69,
   "id": "cc25a7d7-9523-4ec2-bf7d-e20d614cbc0c",
   "metadata": {
    "tags": []
   },
   "outputs": [
    {
     "data": {
      "text/html": [
       "FALSE"
      ],
      "text/latex": [
       "FALSE"
      ],
      "text/markdown": [
       "FALSE"
      ],
      "text/plain": [
       "[1] FALSE"
      ]
     },
     "metadata": {},
     "output_type": "display_data"
    }
   ],
   "source": [
    "any(is.na(news))"
   ]
  },
  {
   "cell_type": "code",
   "execution_count": 70,
   "id": "c75d25fc-47d7-41ff-a54a-3b887537aa5f",
   "metadata": {
    "tags": []
   },
   "outputs": [
    {
     "data": {
      "text/html": [
       "<table class=\"dataframe\">\n",
       "<caption>A tibble: 5 × 3</caption>\n",
       "<thead>\n",
       "\t<tr><th scope=col>측정소명</th><th scope=col>N</th><th scope=col>PM25평균</th></tr>\n",
       "\t<tr><th scope=col>&lt;chr&gt;</th><th scope=col>&lt;int&gt;</th><th scope=col>&lt;dbl&gt;</th></tr>\n",
       "</thead>\n",
       "<tbody>\n",
       "\t<tr><td>강남구</td><td>365</td><td>17.60548</td></tr>\n",
       "\t<tr><td>강동구</td><td>365</td><td>18.70411</td></tr>\n",
       "\t<tr><td>강북구</td><td>365</td><td>18.33151</td></tr>\n",
       "\t<tr><td>강서구</td><td>365</td><td>18.27123</td></tr>\n",
       "\t<tr><td>중구  </td><td>365</td><td>19.26575</td></tr>\n",
       "</tbody>\n",
       "</table>\n"
      ],
      "text/latex": [
       "A tibble: 5 × 3\n",
       "\\begin{tabular}{lll}\n",
       " 측정소명 & N & PM25평균\\\\\n",
       " <chr> & <int> & <dbl>\\\\\n",
       "\\hline\n",
       "\t 강남구 & 365 & 17.60548\\\\\n",
       "\t 강동구 & 365 & 18.70411\\\\\n",
       "\t 강북구 & 365 & 18.33151\\\\\n",
       "\t 강서구 & 365 & 18.27123\\\\\n",
       "\t 중구   & 365 & 19.26575\\\\\n",
       "\\end{tabular}\n"
      ],
      "text/markdown": [
       "\n",
       "A tibble: 5 × 3\n",
       "\n",
       "| 측정소명 &lt;chr&gt; | N &lt;int&gt; | PM25평균 &lt;dbl&gt; |\n",
       "|---|---|---|\n",
       "| 강남구 | 365 | 17.60548 |\n",
       "| 강동구 | 365 | 18.70411 |\n",
       "| 강북구 | 365 | 18.33151 |\n",
       "| 강서구 | 365 | 18.27123 |\n",
       "| 중구   | 365 | 19.26575 |\n",
       "\n"
      ],
      "text/plain": [
       "  측정소명 N   PM25평균\n",
       "1 강남구   365 17.60548\n",
       "2 강동구   365 18.70411\n",
       "3 강북구   365 18.33151\n",
       "4 강서구   365 18.27123\n",
       "5 중구     365 19.26575"
      ]
     },
     "metadata": {},
     "output_type": "display_data"
    }
   ],
   "source": [
    "grp <- group_by(news, 측정소명)\n",
    "summarise(grp, N = sum(!is.na(초미세먼지)), PM25평균 = mean(초미세먼지, na.rm = T))"
   ]
  },
  {
   "cell_type": "code",
   "execution_count": 71,
   "id": "4a049cee-c404-42a7-b34f-dcb9f8a681e8",
   "metadata": {
    "tags": []
   },
   "outputs": [
    {
     "data": {
      "text/html": [
       "<table class=\"dataframe\">\n",
       "<caption>A tibble: 12 × 2</caption>\n",
       "<thead>\n",
       "\t<tr><th scope=col>월</th><th scope=col>PM25평균</th></tr>\n",
       "\t<tr><th scope=col>&lt;chr&gt;</th><th scope=col>&lt;dbl&gt;</th></tr>\n",
       "</thead>\n",
       "<tbody>\n",
       "\t<tr><td>01</td><td>29.42581</td></tr>\n",
       "\t<tr><td>02</td><td>25.57143</td></tr>\n",
       "\t<tr><td>03</td><td>20.75484</td></tr>\n",
       "\t<tr><td>04</td><td>21.79333</td></tr>\n",
       "\t<tr><td>05</td><td>16.70323</td></tr>\n",
       "\t<tr><td>06</td><td>12.42667</td></tr>\n",
       "\t<tr><td>07</td><td>16.72258</td></tr>\n",
       "\t<tr><td>08</td><td>11.65806</td></tr>\n",
       "\t<tr><td>09</td><td>10.90000</td></tr>\n",
       "\t<tr><td>10</td><td>13.50323</td></tr>\n",
       "\t<tr><td>11</td><td>22.24000</td></tr>\n",
       "\t<tr><td>12</td><td>20.01290</td></tr>\n",
       "</tbody>\n",
       "</table>\n"
      ],
      "text/latex": [
       "A tibble: 12 × 2\n",
       "\\begin{tabular}{ll}\n",
       " 월 & PM25평균\\\\\n",
       " <chr> & <dbl>\\\\\n",
       "\\hline\n",
       "\t 01 & 29.42581\\\\\n",
       "\t 02 & 25.57143\\\\\n",
       "\t 03 & 20.75484\\\\\n",
       "\t 04 & 21.79333\\\\\n",
       "\t 05 & 16.70323\\\\\n",
       "\t 06 & 12.42667\\\\\n",
       "\t 07 & 16.72258\\\\\n",
       "\t 08 & 11.65806\\\\\n",
       "\t 09 & 10.90000\\\\\n",
       "\t 10 & 13.50323\\\\\n",
       "\t 11 & 22.24000\\\\\n",
       "\t 12 & 20.01290\\\\\n",
       "\\end{tabular}\n"
      ],
      "text/markdown": [
       "\n",
       "A tibble: 12 × 2\n",
       "\n",
       "| 월 &lt;chr&gt; | PM25평균 &lt;dbl&gt; |\n",
       "|---|---|\n",
       "| 01 | 29.42581 |\n",
       "| 02 | 25.57143 |\n",
       "| 03 | 20.75484 |\n",
       "| 04 | 21.79333 |\n",
       "| 05 | 16.70323 |\n",
       "| 06 | 12.42667 |\n",
       "| 07 | 16.72258 |\n",
       "| 08 | 11.65806 |\n",
       "| 09 | 10.90000 |\n",
       "| 10 | 13.50323 |\n",
       "| 11 | 22.24000 |\n",
       "| 12 | 20.01290 |\n",
       "\n"
      ],
      "text/plain": [
       "   월 PM25평균\n",
       "1  01 29.42581\n",
       "2  02 25.57143\n",
       "3  03 20.75484\n",
       "4  04 21.79333\n",
       "5  05 16.70323\n",
       "6  06 12.42667\n",
       "7  07 16.72258\n",
       "8  08 11.65806\n",
       "9  09 10.90000\n",
       "10 10 13.50323\n",
       "11 11 22.24000\n",
       "12 12 20.01290"
      ]
     },
     "metadata": {},
     "output_type": "display_data"
    }
   ],
   "source": [
    "news %>% group_by(월) %>% summarise(PM25평균=mean(초미세먼지))"
   ]
  },
  {
   "cell_type": "code",
   "execution_count": 72,
   "id": "84ee94de-bbaa-424a-ab85-e3b8b86b5371",
   "metadata": {
    "tags": []
   },
   "outputs": [
    {
     "data": {
      "text/plain": [
       "       강남구    강동구    강북구    강서구    중구     Total  \n",
       "01     26.68  31.45  30.39  27.45  31.16  29.43  \n",
       "02     23.32  26.18  27.61  23.54  27.21  25.57  \n",
       "03     19.39  21.65  22.16  20.00  20.58  20.75  \n",
       "04     20.83  21.53  22.23  22.20  22.17  21.79  \n",
       "05     16.06  16.00  17.77  16.35  17.32  16.70  \n",
       "06     12.03  12.47  13.13  12.17  12.33  12.43  \n",
       "07     16.52  15.42  15.65  18.61  17.42  16.72  \n",
       "08     12.16  11.00  10.90  11.87  12.35  11.66  \n",
       "09     11.27   9.83   9.87  12.43  11.10  10.90  \n",
       "10     13.77  13.87  12.42  13.81  13.65  13.50  \n",
       "11     21.53  23.20  19.40  22.80  24.27  22.24  \n",
       "12     18.10  22.32  19.06  18.42  22.16  20.01  \n",
       "Total  17.61  18.70  18.33  18.27  19.27  18.44  "
      ]
     },
     "metadata": {},
     "output_type": "display_data"
    }
   ],
   "source": [
    "result <-qpvt(news, \"월\", \"측정소명\", \"mean(초미세먼지)\",formats = \"%.2f\")\n",
    "result"
   ]
  },
  {
   "cell_type": "code",
   "execution_count": 73,
   "id": "0bf65aa5-057b-4793-9d68-7d97955de494",
   "metadata": {
    "tags": []
   },
   "outputs": [],
   "source": [
    "san <- data %>% filter(grepl(\"산$\", 측정소명)) %>% mutate(월=substr(측정일시, 5, 6)) %>% select(측정소명, 월, 미세먼지)"
   ]
  },
  {
   "cell_type": "code",
   "execution_count": 74,
   "id": "f3b513e0-e7bc-4027-bbce-1fe7c36dd960",
   "metadata": {
    "tags": []
   },
   "outputs": [
    {
     "data": {
      "text/plain": [
       "       관악산           남산            북한산           Total         \n",
       "01     35.71         NA            32.97         NA            \n",
       "02     35.68         NA            32.93         NA            \n",
       "03     38.52         40.23         36.61         38.45         \n",
       "04     42.37         NA            38.97         NA            \n",
       "05     32.97         30.87         28.23         30.69         \n",
       "06     21.50         19.10         NA            NA            \n",
       "07     22.16         20.65         20.48         21.10         \n",
       "08     14.29         15.77         15.29         15.12         \n",
       "09     20.47         19.80         13.50         17.92         \n",
       "10     NA            23.58         15.48         NA            \n",
       "11     NA            38.00         29.17         NA            \n",
       "12     NA            34.84         29.77         NA            \n",
       "Total  NA            NA            NA            NA            "
      ]
     },
     "metadata": {},
     "output_type": "display_data"
    }
   ],
   "source": [
    "result <-qpvt(san, \"월\", \"측정소명\", \"mean(미세먼지)\",formats = \"%-12.2f\")\n",
    "result"
   ]
  },
  {
   "cell_type": "code",
   "execution_count": 75,
   "id": "046db483-39ad-4ae3-b657-de804a9a7218",
   "metadata": {
    "tags": []
   },
   "outputs": [
    {
     "data": {
      "text/plain": [
       "       관악산           남산            북한산           Total         \n",
       "01     35.71         27.40         32.97         33.82         \n",
       "02     35.68         37.33         32.93         34.84         \n",
       "03     38.52         40.23         36.61         38.45         \n",
       "04     42.37         42.72         38.97         41.34         \n",
       "05     32.97         30.87         28.23         30.69         \n",
       "06     21.50         19.10         14.65         18.89         \n",
       "07     22.16         20.65         20.48         21.10         \n",
       "08     14.29         15.77         15.29         15.12         \n",
       "09     20.47         19.80         13.50         17.92         \n",
       "10     20.46         23.58         15.48         19.79         \n",
       "11     36.43         38.00         29.17         34.49         \n",
       "12     30.60         34.84         29.77         31.75         \n",
       "Total  29.33         28.80         25.94         28.00         "
      ]
     },
     "metadata": {},
     "output_type": "display_data"
    }
   ],
   "source": [
    "result <-qpvt(san, \"월\", \"측정소명\", \"mean(미세먼지, na.rm=T)\",formats = \"%-12.2f\")\n",
    "result"
   ]
  },
  {
   "cell_type": "code",
   "execution_count": 76,
   "id": "e1629168-4ddf-4aec-a01f-2d45c25e3c61",
   "metadata": {
    "tags": []
   },
   "outputs": [],
   "source": [
    "san <- data %>% filter(grepl(\"산$\", 측정소명)) %>% mutate(월=substr(측정일시, 5, 6)) %>% select(측정소명, 월, 미세먼지) %>% na.omit()"
   ]
  },
  {
   "cell_type": "code",
   "execution_count": 77,
   "id": "72c86eee-e18e-4181-a8ba-d4c95b21876d",
   "metadata": {
    "tags": []
   },
   "outputs": [
    {
     "data": {
      "text/plain": [
       "       관악산           남산            북한산           Total         \n",
       "01     35.71         27.40         32.97         33.82         \n",
       "02     35.68         37.33         32.93         34.84         \n",
       "03     38.52         40.23         36.61         38.45         \n",
       "04     42.37         42.72         38.97         41.34         \n",
       "05     32.97         30.87         28.23         30.69         \n",
       "06     21.50         19.10         14.65         18.89         \n",
       "07     22.16         20.65         20.48         21.10         \n",
       "08     14.29         15.77         15.29         15.12         \n",
       "09     20.47         19.80         13.50         17.92         \n",
       "10     20.46         23.58         15.48         19.79         \n",
       "11     36.43         38.00         29.17         34.49         \n",
       "12     30.60         34.84         29.77         31.75         \n",
       "Total  29.33         28.80         25.94         28.00         "
      ]
     },
     "metadata": {},
     "output_type": "display_data"
    }
   ],
   "source": [
    "result <-qpvt(san, \"월\", \"측정소명\", \"mean(미세먼지)\",formats = \"%-12.2f\")\n",
    "result"
   ]
  },
  {
   "cell_type": "code",
   "execution_count": 78,
   "id": "e1f81e91-acff-4cb9-941c-876736bbeb2a",
   "metadata": {
    "tags": []
   },
   "outputs": [
    {
     "data": {
      "text/plain": [
       "       관악산  남산   북한산  Total  \n",
       "01      31    5   31     67  \n",
       "02      28   12   28     68  \n",
       "03      31   31   31     93  \n",
       "04      30   29   30     89  \n",
       "05      31   31   31     93  \n",
       "06      30   30   20     80  \n",
       "07      31   31   31     93  \n",
       "08      31   31   31     93  \n",
       "09      30   30   30     90  \n",
       "10      24   31   31     86  \n",
       "11      28   30   30     88  \n",
       "12      30   31   31     92  \n",
       "Total  355  322  355   1032  "
      ]
     },
     "metadata": {},
     "output_type": "display_data"
    }
   ],
   "source": [
    "qpvt(san, \"월\", \"측정소명\", \"n()\")"
   ]
  }
 ],
 "metadata": {
  "kernelspec": {
   "display_name": "R",
   "language": "R",
   "name": "ir"
  },
  "language_info": {
   "codemirror_mode": "r",
   "file_extension": ".r",
   "mimetype": "text/x-r-source",
   "name": "R",
   "pygments_lexer": "r",
   "version": "4.3.1"
  }
 },
 "nbformat": 4,
 "nbformat_minor": 5
}
