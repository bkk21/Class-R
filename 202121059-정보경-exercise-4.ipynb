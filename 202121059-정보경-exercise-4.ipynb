{
 "cells": [
  {
   "cell_type": "markdown",
   "id": "2d752f2d-effe-445f-addf-6185086e0b5b",
   "metadata": {},
   "source": [
    "<h1>R 스스로 해보기 4</h1>\n",
    "<h3>2023년 11월 8일 (수)</h3>\n",
    "<hr>"
   ]
  },
  {
   "cell_type": "markdown",
   "id": "1785d37f-4d8e-4cae-85e7-fc4aa0ce6c6b",
   "metadata": {},
   "source": [
    "<h4>1. 데이터 mtcars의 변수 cyl에 대하여 다음과 같이 출력하는 코드</h4>"
   ]
  },
  {
   "cell_type": "code",
   "execution_count": 1,
   "id": "1d8c350e-c866-44a4-98b8-762397b924c4",
   "metadata": {
    "tags": []
   },
   "outputs": [
    {
     "data": {
      "text/plain": [
       "4 기통 6 기통 8 기통    Sum \n",
       "    11      7     14     32 "
      ]
     },
     "metadata": {},
     "output_type": "display_data"
    }
   ],
   "source": [
    "#a. 빈도표를 변수 result에 저장\n",
    "result <- table(mtcars$cyl)\n",
    "\n",
    "#b.b. 변수 result의 이름(names)를 “4기통”, “6기통”, “8기통”으로 변경\n",
    "names(result) <- paste(names(result), \"기통\")\n",
    "\n",
    "#c. 가로합을 구하여 출력\n",
    "addmargins(result)"
   ]
  },
  {
   "cell_type": "markdown",
   "id": "96bd9486-cd04-4ff4-8e7a-0be413268da2",
   "metadata": {
    "tags": []
   },
   "source": [
    "<hr>\n",
    "<h4>2. 위 결과를 다음과 같이 색상의 gold, 경계선은 red로 출력하는 코드</h4>"
   ]
  },
  {
   "cell_type": "code",
   "execution_count": 2,
   "id": "ef34bb56-dd98-4581-ba00-8c8a54a2e148",
   "metadata": {
    "tags": []
   },
   "outputs": [
    {
     "data": {
      "image/png": "[encoded data removed]",
      "text/plain": [
       "plot without title"
      ]
     },
     "metadata": {
      "image/png": {
       "height": 420,
       "width": 420
      }
     },
     "output_type": "display_data"
    }
   ],
   "source": [
    "barplot(result, col='gold', border='red')"
   ]
  },
  {
   "cell_type": "markdown",
   "id": "fe694f41-4b45-4f7c-8c21-a43ad304430d",
   "metadata": {
    "tags": []
   },
   "source": [
    "<hr>\n",
    "<h4>3. cyl의 수에 따른 mpg의 평균을 구하여 다음과 같이 출력하는 코드</h4>"
   ]
  },
  {
   "cell_type": "code",
   "execution_count": 3,
   "id": "a5ea388a-c4ab-420c-9dd4-83a9ddba1423",
   "metadata": {
    "tags": []
   },
   "outputs": [
    {
     "name": "stdout",
     "output_type": "stream",
     "text": [
      "4기통 6기통 8기통  전체 \n",
      "26.66 19.74 15.10 20.50 \n"
     ]
    }
   ],
   "source": [
    "#a. cyl의 수에 따른 mpg의 평균을 구하여 변수 result에 저장\n",
    "result <- tapply(mtcars$mpg, mtcars$cyl, mean)\n",
    "\n",
    "#b. addmargins를 이용하여 전체 평균을 구한후 다시 result에 저장\n",
    "result <- addmargins(result, FUN = mean)\n",
    "\n",
    "#c. 결과를 소수점 둘째자리까지만 표시\n",
    "result <- round(result, 2)\n",
    "\n",
    "#d. 변수 result의 이름(names)를 다음과 같이 변경하여 출력\n",
    "names(result) <- c(\"4기통\", \"6기통\", \"8기통\", \"전체\")\n",
    "\n",
    "print(result)"
   ]
  },
  {
   "cell_type": "markdown",
   "id": "7f473b2f-a0ae-4668-8faf-2d069603c750",
   "metadata": {
    "tags": []
   },
   "source": [
    "<hr>\n",
    "<h4>4. 두 변수 am과 cyl에 대하여 다음과 같이 교차표를 출력하는 코드</h4>"
   ]
  },
  {
   "cell_type": "code",
   "execution_count": 4,
   "id": "67ad23e3-e9fb-43dc-a218-b6921a4a5366",
   "metadata": {
    "tags": []
   },
   "outputs": [
    {
     "data": {
      "text/html": [
       "<table class=\"dataframe\">\n",
       "<caption>A table: 3 × 4 of type dbl</caption>\n",
       "<thead>\n",
       "\t<tr><th></th><th scope=col>4기통</th><th scope=col>6기통</th><th scope=col>8기통</th><th scope=col>전체</th></tr>\n",
       "</thead>\n",
       "<tbody>\n",
       "\t<tr><th scope=row>auto</th><td> 3</td><td>4</td><td>12</td><td>19</td></tr>\n",
       "\t<tr><th scope=row>manual</th><td> 8</td><td>3</td><td> 2</td><td>13</td></tr>\n",
       "\t<tr><th scope=row>전체</th><td>11</td><td>7</td><td>14</td><td>32</td></tr>\n",
       "</tbody>\n",
       "</table>\n"
      ],
      "text/latex": [
       "A table: 3 × 4 of type dbl\n",
       "\\begin{tabular}{r|llll}\n",
       "  & 4기통 & 6기통 & 8기통 & 전체\\\\\n",
       "\\hline\n",
       "\tauto &  3 & 4 & 12 & 19\\\\\n",
       "\tmanual &  8 & 3 &  2 & 13\\\\\n",
       "\t전체 & 11 & 7 & 14 & 32\\\\\n",
       "\\end{tabular}\n"
      ],
      "text/markdown": [
       "\n",
       "A table: 3 × 4 of type dbl\n",
       "\n",
       "| <!--/--> | 4기통 | 6기통 | 8기통 | 전체 |\n",
       "|---|---|---|---|---|\n",
       "| auto |  3 | 4 | 12 | 19 |\n",
       "| manual |  8 | 3 |  2 | 13 |\n",
       "| 전체 | 11 | 7 | 14 | 32 |\n",
       "\n"
      ],
      "text/plain": [
       "        \n",
       "         4기통 6기통 8기통 전체\n",
       "  auto    3    4     12    19  \n",
       "  manual  8    3      2    13  \n",
       "  전체   11    7     14    32  "
      ]
     },
     "metadata": {},
     "output_type": "display_data"
    }
   ],
   "source": [
    "# a. 두 변수의 교차표를 구하여 변수 result에 저장\n",
    "result <- table(mtcars$am, mtcars$cyl)\n",
    "\n",
    "# b. 가로합과 세로합을 추가하여 다시 변수 result에 저장\n",
    "result <- addmargins(result)\n",
    "\n",
    "# c. 행이름(rownames)과 열이름(colnames)를 다음과 같이 변경하여 출력\n",
    "rownames(result) <- c(\"auto\", \"manual\", \"전체\")\n",
    "colnames(result) <- c(\"4기통\", \"6기통\", \"8기통\", \"전체\")\n",
    "\n",
    "result"
   ]
  },
  {
   "cell_type": "markdown",
   "id": "8882dc4c-15e9-426e-86ef-9bd5eb6c940d",
   "metadata": {
    "tags": []
   },
   "source": [
    "<hr>\n",
    "<h4>5. 두 변수 am과 cyl에 대하여 다음과 같이 mpg의 평균을 구하여 출력하는 코드</h4>"
   ]
  },
  {
   "cell_type": "code",
   "execution_count": 5,
   "id": "0251c41a-1901-4f61-97ef-f6df16ed4223",
   "metadata": {
    "tags": []
   },
   "outputs": [
    {
     "name": "stdout",
     "output_type": "stream",
     "text": [
      "Margins computed over dimensions\n",
      "in the following order:\n",
      "1: \n",
      "2: \n"
     ]
    },
    {
     "data": {
      "text/html": [
       "<table class=\"dataframe\">\n",
       "<caption>A matrix: 3 × 4 of type dbl</caption>\n",
       "<thead>\n",
       "\t<tr><th></th><th scope=col>4기통</th><th scope=col>6기통</th><th scope=col>8기통</th><th scope=col>전체</th></tr>\n",
       "</thead>\n",
       "<tbody>\n",
       "\t<tr><th scope=row>auto</th><td>22.90</td><td>19.12</td><td>15.05</td><td>19.02</td></tr>\n",
       "\t<tr><th scope=row>manual</th><td>28.08</td><td>20.57</td><td>15.40</td><td>21.35</td></tr>\n",
       "\t<tr><th scope=row>전체</th><td>25.49</td><td>19.85</td><td>15.23</td><td>20.19</td></tr>\n",
       "</tbody>\n",
       "</table>\n"
      ],
      "text/latex": [
       "A matrix: 3 × 4 of type dbl\n",
       "\\begin{tabular}{r|llll}\n",
       "  & 4기통 & 6기통 & 8기통 & 전체\\\\\n",
       "\\hline\n",
       "\tauto & 22.90 & 19.12 & 15.05 & 19.02\\\\\n",
       "\tmanual & 28.08 & 20.57 & 15.40 & 21.35\\\\\n",
       "\t전체 & 25.49 & 19.85 & 15.23 & 20.19\\\\\n",
       "\\end{tabular}\n"
      ],
      "text/markdown": [
       "\n",
       "A matrix: 3 × 4 of type dbl\n",
       "\n",
       "| <!--/--> | 4기통 | 6기통 | 8기통 | 전체 |\n",
       "|---|---|---|---|---|\n",
       "| auto | 22.90 | 19.12 | 15.05 | 19.02 |\n",
       "| manual | 28.08 | 20.57 | 15.40 | 21.35 |\n",
       "| 전체 | 25.49 | 19.85 | 15.23 | 20.19 |\n",
       "\n"
      ],
      "text/plain": [
       "       4기통 6기통 8기통 전체 \n",
       "auto   22.90 19.12 15.05 19.02\n",
       "manual 28.08 20.57 15.40 21.35\n",
       "전체   25.49 19.85 15.23 20.19"
      ]
     },
     "metadata": {},
     "output_type": "display_data"
    }
   ],
   "source": [
    "# a. 두 변수 am과 cyl의 각 경우에 대하여 mpg의 평균을 구하여 변수 result에 저장\n",
    "result <- tapply(mtcars$mpg, list(mtcars$am, mtcars$cyl), mean)\n",
    "\n",
    "# b. 가로 평균, 세로 평균을 구하여 다시 변수 result에 저장\n",
    "result <- addmargins(result, FUN = mean)\n",
    "\n",
    "# c. 행이름과 열이름을 다음과 같이 변경\n",
    "rownames(result) <- c(\"auto\", \"manual\", \"전체\")\n",
    "colnames(result) <- c(\"4기통\", \"6기통\", \"8기통\", \"전체\")\n",
    "\n",
    "# d. 결과를 소수점 둘째자리까지만 출력\n",
    "result <- round(result, 2)\n",
    "\n",
    "result"
   ]
  },
  {
   "cell_type": "markdown",
   "id": "6caeb827-ac16-46e2-99c7-7f971b8bf2cd",
   "metadata": {
    "tags": []
   },
   "source": [
    "<hr>\n",
    "<h4>※ 데이터 파일 “2015년 초미세먼지.xlsx”에 대하여 다음 물음에 답하시오.</h4>\n",
    "<hr>\n",
    "<h4>6. 파일의 3개의 시트를 모두 읽어 하나의 변수 mise에 저장하고 구조를 출력하는 코드</h4>"
   ]
  },
  {
   "cell_type": "code",
   "execution_count": 6,
   "id": "39122bf7-1ec2-41a7-bbf8-7cb83ce1d524",
   "metadata": {
    "tags": []
   },
   "outputs": [
    {
     "data": {
      "text/html": [
       "<style>\n",
       ".list-inline {list-style: none; margin:0; padding: 0}\n",
       ".list-inline>li {display: inline-block}\n",
       ".list-inline>li:not(:last-child)::after {content: \"\\00b7\"; padding: 0 .5ex}\n",
       "</style>\n",
       "<ol class=list-inline><li>'2015년 초미세먼지.xlsx'</li><li>'202121059-정보경-exercise-4.ipynb'</li><li>'202121059-정보경-무작정 따라하기-4.ipynb'</li><li>'2022년_도로교통공단_시군구별 월별 교통사고 통계.xlsx'</li><li>'데이터과학-중간고사.xlsx'</li><li>'실습 설문지.xlsx'</li></ol>\n"
      ],
      "text/latex": [
       "\\begin{enumerate*}\n",
       "\\item '2015년 초미세먼지.xlsx'\n",
       "\\item '202121059-정보경-exercise-4.ipynb'\n",
       "\\item '202121059-정보경-무작정 따라하기-4.ipynb'\n",
       "\\item '2022년\\_도로교통공단\\_시군구별 월별 교통사고 통계.xlsx'\n",
       "\\item '데이터과학-중간고사.xlsx'\n",
       "\\item '실습 설문지.xlsx'\n",
       "\\end{enumerate*}\n"
      ],
      "text/markdown": [
       "1. '2015년 초미세먼지.xlsx'\n",
       "2. '202121059-정보경-exercise-4.ipynb'\n",
       "3. '202121059-정보경-무작정 따라하기-4.ipynb'\n",
       "4. '2022년_도로교통공단_시군구별 월별 교통사고 통계.xlsx'\n",
       "5. '데이터과학-중간고사.xlsx'\n",
       "6. '실습 설문지.xlsx'\n",
       "\n",
       "\n"
      ],
      "text/plain": [
       "[1] \"2015년 초미세먼지.xlsx\"                              \n",
       "[2] \"202121059-정보경-exercise-4.ipynb\"                   \n",
       "[3] \"202121059-정보경-무작정 따라하기-4.ipynb\"            \n",
       "[4] \"2022년_도로교통공단_시군구별 월별 교통사고 통계.xlsx\"\n",
       "[5] \"데이터과학-중간고사.xlsx\"                            \n",
       "[6] \"실습 설문지.xlsx\"                                    "
      ]
     },
     "metadata": {},
     "output_type": "display_data"
    }
   ],
   "source": [
    "library(readxl)\n",
    "list.files()"
   ]
  },
  {
   "cell_type": "code",
   "execution_count": 7,
   "id": "d827cff5-9e38-4eb9-991c-8a3fe52a7eea",
   "metadata": {
    "tags": []
   },
   "outputs": [
    {
     "name": "stdout",
     "output_type": "stream",
     "text": [
      "tibble [1,574,914 × 9] (S3: tbl_df/tbl/data.frame)\n",
      " $ AREA : chr [1:1574914] \"서울\" \"서울\" \"서울\" \"서울\" ...\n",
      " $ Point: chr [1:1574914] \"중구\" \"중구\" \"중구\" \"중구\" ...\n",
      " $ Date : num [1:1574914] 2.02e+09 2.02e+09 2.02e+09 2.02e+09 2.02e+09 ...\n",
      " $ Year : num [1:1574914] 2015 2015 2015 2015 2015 ...\n",
      " $ Month: num [1:1574914] 1 1 1 1 1 1 1 1 1 1 ...\n",
      " $ Day  : num [1:1574914] 1 1 1 1 1 1 1 1 1 1 ...\n",
      " $ Time : num [1:1574914] 0 1 2 3 4 5 6 7 8 9 ...\n",
      " $ PM10 : num [1:1574914] 44 57 76 86 106 128 139 132 121 94 ...\n",
      " $ PM25 : num [1:1574914] 7 10 10 11 12 18 19 16 14 16 ...\n"
     ]
    }
   ],
   "source": [
    "mise1 <- read_xlsx(\"2015년 초미세먼지.xlsx\", sheet = 1)\n",
    "mise2 <- read_xlsx(\"2015년 초미세먼지.xlsx\", sheet = 2)\n",
    "mise3 <- read_xlsx(\"2015년 초미세먼지.xlsx\", sheet = 3)\n",
    "mise <- rbind(mise1, mise2, mise3)\n",
    "str(mise)"
   ]
  },
  {
   "cell_type": "markdown",
   "id": "b7c9ba55-9ab8-4901-94ae-76b598dbac3f",
   "metadata": {
    "tags": []
   },
   "source": [
    "<hr>\n",
    "<h4>7. 변수 AREA는 “서울”, “경기 부천시”와 같이 서울을 제외하면 모두 광역시도+시군구로\n",
    "이루어져 있다. 변수 AREA를 각각 광역시도(prov)와 시군구(city)로 분리하여 다음과\n",
    "같이 두 변수 prov, city를 추가하고, tail(mise)을 출력하는 코드</h4>"
   ]
  },
  {
   "cell_type": "code",
   "execution_count": 8,
   "id": "b50bc9e5-94e6-4dcc-8c28-5b8989cca4c8",
   "metadata": {
    "tags": []
   },
   "outputs": [
    {
     "data": {
      "text/html": [
       "<table class=\"dataframe\">\n",
       "<caption>A tibble: 6 × 11</caption>\n",
       "<thead>\n",
       "\t<tr><th scope=col>AREA</th><th scope=col>Point</th><th scope=col>Date</th><th scope=col>Year</th><th scope=col>Month</th><th scope=col>Day</th><th scope=col>Time</th><th scope=col>PM10</th><th scope=col>PM25</th><th scope=col>prov</th><th scope=col>city</th></tr>\n",
       "\t<tr><th scope=col>&lt;chr&gt;</th><th scope=col>&lt;chr&gt;</th><th scope=col>&lt;dbl&gt;</th><th scope=col>&lt;dbl&gt;</th><th scope=col>&lt;dbl&gt;</th><th scope=col>&lt;dbl&gt;</th><th scope=col>&lt;dbl&gt;</th><th scope=col>&lt;dbl&gt;</th><th scope=col>&lt;dbl&gt;</th><th scope=col>&lt;chr&gt;</th><th scope=col>&lt;chr&gt;</th></tr>\n",
       "</thead>\n",
       "<tbody>\n",
       "\t<tr><td>경기 부천시</td><td>계남공원</td><td>2015073118</td><td>2015</td><td>7</td><td>31</td><td>18</td><td>NA</td><td>NA</td><td>경기</td><td>부천시</td></tr>\n",
       "\t<tr><td>경기 부천시</td><td>계남공원</td><td>2015073119</td><td>2015</td><td>7</td><td>31</td><td>19</td><td>NA</td><td>NA</td><td>경기</td><td>부천시</td></tr>\n",
       "\t<tr><td>경기 부천시</td><td>계남공원</td><td>2015073120</td><td>2015</td><td>7</td><td>31</td><td>20</td><td>NA</td><td>NA</td><td>경기</td><td>부천시</td></tr>\n",
       "\t<tr><td>경기 부천시</td><td>계남공원</td><td>2015073121</td><td>2015</td><td>7</td><td>31</td><td>21</td><td>NA</td><td>NA</td><td>경기</td><td>부천시</td></tr>\n",
       "\t<tr><td>경기 부천시</td><td>계남공원</td><td>2015073122</td><td>2015</td><td>7</td><td>31</td><td>22</td><td>NA</td><td>NA</td><td>경기</td><td>부천시</td></tr>\n",
       "\t<tr><td>경기 부천시</td><td>계남공원</td><td>2015073123</td><td>2015</td><td>7</td><td>31</td><td>23</td><td>NA</td><td>NA</td><td>경기</td><td>부천시</td></tr>\n",
       "</tbody>\n",
       "</table>\n"
      ],
      "text/latex": [
       "A tibble: 6 × 11\n",
       "\\begin{tabular}{lllllllllll}\n",
       " AREA & Point & Date & Year & Month & Day & Time & PM10 & PM25 & prov & city\\\\\n",
       " <chr> & <chr> & <dbl> & <dbl> & <dbl> & <dbl> & <dbl> & <dbl> & <dbl> & <chr> & <chr>\\\\\n",
       "\\hline\n",
       "\t 경기 부천시 & 계남공원 & 2015073118 & 2015 & 7 & 31 & 18 & NA & NA & 경기 & 부천시\\\\\n",
       "\t 경기 부천시 & 계남공원 & 2015073119 & 2015 & 7 & 31 & 19 & NA & NA & 경기 & 부천시\\\\\n",
       "\t 경기 부천시 & 계남공원 & 2015073120 & 2015 & 7 & 31 & 20 & NA & NA & 경기 & 부천시\\\\\n",
       "\t 경기 부천시 & 계남공원 & 2015073121 & 2015 & 7 & 31 & 21 & NA & NA & 경기 & 부천시\\\\\n",
       "\t 경기 부천시 & 계남공원 & 2015073122 & 2015 & 7 & 31 & 22 & NA & NA & 경기 & 부천시\\\\\n",
       "\t 경기 부천시 & 계남공원 & 2015073123 & 2015 & 7 & 31 & 23 & NA & NA & 경기 & 부천시\\\\\n",
       "\\end{tabular}\n"
      ],
      "text/markdown": [
       "\n",
       "A tibble: 6 × 11\n",
       "\n",
       "| AREA &lt;chr&gt; | Point &lt;chr&gt; | Date &lt;dbl&gt; | Year &lt;dbl&gt; | Month &lt;dbl&gt; | Day &lt;dbl&gt; | Time &lt;dbl&gt; | PM10 &lt;dbl&gt; | PM25 &lt;dbl&gt; | prov &lt;chr&gt; | city &lt;chr&gt; |\n",
       "|---|---|---|---|---|---|---|---|---|---|---|\n",
       "| 경기 부천시 | 계남공원 | 2015073118 | 2015 | 7 | 31 | 18 | NA | NA | 경기 | 부천시 |\n",
       "| 경기 부천시 | 계남공원 | 2015073119 | 2015 | 7 | 31 | 19 | NA | NA | 경기 | 부천시 |\n",
       "| 경기 부천시 | 계남공원 | 2015073120 | 2015 | 7 | 31 | 20 | NA | NA | 경기 | 부천시 |\n",
       "| 경기 부천시 | 계남공원 | 2015073121 | 2015 | 7 | 31 | 21 | NA | NA | 경기 | 부천시 |\n",
       "| 경기 부천시 | 계남공원 | 2015073122 | 2015 | 7 | 31 | 22 | NA | NA | 경기 | 부천시 |\n",
       "| 경기 부천시 | 계남공원 | 2015073123 | 2015 | 7 | 31 | 23 | NA | NA | 경기 | 부천시 |\n",
       "\n"
      ],
      "text/plain": [
       "  AREA        Point    Date       Year Month Day Time PM10 PM25 prov city  \n",
       "1 경기 부천시 계남공원 2015073118 2015 7     31  18   NA   NA   경기 부천시\n",
       "2 경기 부천시 계남공원 2015073119 2015 7     31  19   NA   NA   경기 부천시\n",
       "3 경기 부천시 계남공원 2015073120 2015 7     31  20   NA   NA   경기 부천시\n",
       "4 경기 부천시 계남공원 2015073121 2015 7     31  21   NA   NA   경기 부천시\n",
       "5 경기 부천시 계남공원 2015073122 2015 7     31  22   NA   NA   경기 부천시\n",
       "6 경기 부천시 계남공원 2015073123 2015 7     31  23   NA   NA   경기 부천시"
      ]
     },
     "metadata": {},
     "output_type": "display_data"
    }
   ],
   "source": [
    "mise$prov <- substr(mise$AREA, 1, 2)\n",
    "mise$city <- substr(mise$AREA, 4, length(mise$AREA))\n",
    "tail(mise)"
   ]
  },
  {
   "cell_type": "markdown",
   "id": "57044c51-ba3e-4a81-bd40-a9ad94953fef",
   "metadata": {
    "tags": []
   },
   "source": [
    "<hr>\n",
    "<h4>8. prov가 충북인 데이터만 추출하여 변수 cb에 저장하고 Point의 빈도표를 출력하는 코드</h4>"
   ]
  },
  {
   "cell_type": "code",
   "execution_count": 9,
   "id": "1098694c-6d51-4183-b2e6-f151f79b64e8",
   "metadata": {
    "tags": []
   },
   "outputs": [
    {
     "data": {
      "text/plain": [
       "\n",
       "        매포읍         문화동         복대동         사천동 송정동(봉명동) \n",
       "          5088           5080           5052           5088           5076 \n",
       "        오창읍         용암동         장락동         청천면         칠금동 \n",
       "          5088           5088           5059           4131           5087 \n",
       "        호암동 \n",
       "          5088 "
      ]
     },
     "metadata": {},
     "output_type": "display_data"
    }
   ],
   "source": [
    "idx <- grep(\"충북\", mise$AREA)\n",
    "cb <- mise[idx, ]\n",
    "\n",
    "table(cb$Point)"
   ]
  },
  {
   "cell_type": "markdown",
   "id": "78551059-8827-46a7-bfc6-d932d300ce13",
   "metadata": {
    "tags": []
   },
   "source": [
    "<hr>\n",
    "<h4>9. 변수 cb에서 city와 Point를 결합하여 Point2에 저장하고 다음과 같이 지정한 변수만 포함하여 head만 출력하는 코드</h4>"
   ]
  },
  {
   "cell_type": "code",
   "execution_count": 10,
   "id": "79d1fd74-00b5-4007-b58b-3f97e6ce090a",
   "metadata": {
    "tags": []
   },
   "outputs": [
    {
     "data": {
      "text/html": [
       "<table class=\"dataframe\">\n",
       "<caption>A tibble: 6 × 6</caption>\n",
       "<thead>\n",
       "\t<tr><th scope=col>AREA</th><th scope=col>prov</th><th scope=col>city</th><th scope=col>Point</th><th scope=col>Point2</th><th scope=col>PM10</th></tr>\n",
       "\t<tr><th scope=col>&lt;chr&gt;</th><th scope=col>&lt;chr&gt;</th><th scope=col>&lt;chr&gt;</th><th scope=col>&lt;chr&gt;</th><th scope=col>&lt;chr&gt;</th><th scope=col>&lt;dbl&gt;</th></tr>\n",
       "</thead>\n",
       "<tbody>\n",
       "\t<tr><td>충북 청주시</td><td>충북</td><td>청주시</td><td>송정동(봉명동)</td><td>청주시 송정동(봉명동)</td><td>36</td></tr>\n",
       "\t<tr><td>충북 청주시</td><td>충북</td><td>청주시</td><td>송정동(봉명동)</td><td>청주시 송정동(봉명동)</td><td>47</td></tr>\n",
       "\t<tr><td>충북 청주시</td><td>충북</td><td>청주시</td><td>송정동(봉명동)</td><td>청주시 송정동(봉명동)</td><td>35</td></tr>\n",
       "\t<tr><td>충북 청주시</td><td>충북</td><td>청주시</td><td>송정동(봉명동)</td><td>청주시 송정동(봉명동)</td><td>60</td></tr>\n",
       "\t<tr><td>충북 청주시</td><td>충북</td><td>청주시</td><td>송정동(봉명동)</td><td>청주시 송정동(봉명동)</td><td>81</td></tr>\n",
       "\t<tr><td>충북 청주시</td><td>충북</td><td>청주시</td><td>송정동(봉명동)</td><td>청주시 송정동(봉명동)</td><td>94</td></tr>\n",
       "</tbody>\n",
       "</table>\n"
      ],
      "text/latex": [
       "A tibble: 6 × 6\n",
       "\\begin{tabular}{llllll}\n",
       " AREA & prov & city & Point & Point2 & PM10\\\\\n",
       " <chr> & <chr> & <chr> & <chr> & <chr> & <dbl>\\\\\n",
       "\\hline\n",
       "\t 충북 청주시 & 충북 & 청주시 & 송정동(봉명동) & 청주시 송정동(봉명동) & 36\\\\\n",
       "\t 충북 청주시 & 충북 & 청주시 & 송정동(봉명동) & 청주시 송정동(봉명동) & 47\\\\\n",
       "\t 충북 청주시 & 충북 & 청주시 & 송정동(봉명동) & 청주시 송정동(봉명동) & 35\\\\\n",
       "\t 충북 청주시 & 충북 & 청주시 & 송정동(봉명동) & 청주시 송정동(봉명동) & 60\\\\\n",
       "\t 충북 청주시 & 충북 & 청주시 & 송정동(봉명동) & 청주시 송정동(봉명동) & 81\\\\\n",
       "\t 충북 청주시 & 충북 & 청주시 & 송정동(봉명동) & 청주시 송정동(봉명동) & 94\\\\\n",
       "\\end{tabular}\n"
      ],
      "text/markdown": [
       "\n",
       "A tibble: 6 × 6\n",
       "\n",
       "| AREA &lt;chr&gt; | prov &lt;chr&gt; | city &lt;chr&gt; | Point &lt;chr&gt; | Point2 &lt;chr&gt; | PM10 &lt;dbl&gt; |\n",
       "|---|---|---|---|---|---|\n",
       "| 충북 청주시 | 충북 | 청주시 | 송정동(봉명동) | 청주시 송정동(봉명동) | 36 |\n",
       "| 충북 청주시 | 충북 | 청주시 | 송정동(봉명동) | 청주시 송정동(봉명동) | 47 |\n",
       "| 충북 청주시 | 충북 | 청주시 | 송정동(봉명동) | 청주시 송정동(봉명동) | 35 |\n",
       "| 충북 청주시 | 충북 | 청주시 | 송정동(봉명동) | 청주시 송정동(봉명동) | 60 |\n",
       "| 충북 청주시 | 충북 | 청주시 | 송정동(봉명동) | 청주시 송정동(봉명동) | 81 |\n",
       "| 충북 청주시 | 충북 | 청주시 | 송정동(봉명동) | 청주시 송정동(봉명동) | 94 |\n",
       "\n"
      ],
      "text/plain": [
       "  AREA        prov city   Point          Point2                PM10\n",
       "1 충북 청주시 충북 청주시 송정동(봉명동) 청주시 송정동(봉명동) 36  \n",
       "2 충북 청주시 충북 청주시 송정동(봉명동) 청주시 송정동(봉명동) 47  \n",
       "3 충북 청주시 충북 청주시 송정동(봉명동) 청주시 송정동(봉명동) 35  \n",
       "4 충북 청주시 충북 청주시 송정동(봉명동) 청주시 송정동(봉명동) 60  \n",
       "5 충북 청주시 충북 청주시 송정동(봉명동) 청주시 송정동(봉명동) 81  \n",
       "6 충북 청주시 충북 청주시 송정동(봉명동) 청주시 송정동(봉명동) 94  "
      ]
     },
     "metadata": {},
     "output_type": "display_data"
    }
   ],
   "source": [
    "cb$Point2 <- paste(cb$city, cb$Point)\n",
    "\n",
    "head(cb[c(\"AREA\", \"prov\", \"city\", \"Point\", \"Point2\", \"PM10\")])"
   ]
  },
  {
   "cell_type": "markdown",
   "id": "6780eb4c-1ea7-4d84-890c-1e22838a5494",
   "metadata": {
    "tags": []
   },
   "source": [
    "<hr>\n",
    "<h4>10. 변수 cb에서 Point2의 빈도표를 출력하는 코드</h4>"
   ]
  },
  {
   "cell_type": "code",
   "execution_count": 11,
   "id": "b74a9586-35d3-4e2a-9db9-78ff66b45657",
   "metadata": {
    "tags": []
   },
   "outputs": [
    {
     "data": {
      "text/plain": [
       "\n",
       "        괴산군 청천면         단양군 매포읍         제천시 장락동 \n",
       "                 4131                  5088                  5059 \n",
       "        청원군 오창읍         청주시 문화동         청주시 복대동 \n",
       "                 5088                  5080                  5052 \n",
       "        청주시 사천동 청주시 송정동(봉명동)         청주시 용암동 \n",
       "                 5088                  5076                  5088 \n",
       "        충주시 칠금동         충주시 호암동 \n",
       "                 5087                  5088 "
      ]
     },
     "metadata": {},
     "output_type": "display_data"
    }
   ],
   "source": [
    "table(cb$Point2)"
   ]
  },
  {
   "cell_type": "markdown",
   "id": "7cf8c3a1-3027-495f-a4e6-fc9d5555ec2d",
   "metadata": {
    "tags": []
   },
   "source": [
    "<hr>\n",
    "<h4>11. 데이터프레임 cb의 두 변수 PM10, PM25에 대하여 summary() 결과를 출력하는 코드</h4>"
   ]
  },
  {
   "cell_type": "code",
   "execution_count": 12,
   "id": "7fd188c9-9aaf-4490-a07d-560f44938017",
   "metadata": {
    "tags": []
   },
   "outputs": [
    {
     "data": {
      "text/plain": [
       "      PM10             PM25       \n",
       " Min.   :  0.00   Min.   :  0.00  \n",
       " 1st Qu.: 32.00   1st Qu.: 14.00  \n",
       " Median : 49.00   Median : 26.00  \n",
       " Mean   : 57.85   Mean   : 30.04  \n",
       " 3rd Qu.: 72.00   3rd Qu.: 42.00  \n",
       " Max.   :654.00   Max.   :198.00  \n",
       " NA's   :3123     NA's   :44154   "
      ]
     },
     "metadata": {},
     "output_type": "display_data"
    }
   ],
   "source": [
    "result <- cb[c(\"PM10\", \"PM25\")]\n",
    "summary(result)"
   ]
  },
  {
   "cell_type": "markdown",
   "id": "7678eb25-b0c7-4971-8568-ff364801e83b",
   "metadata": {
    "tags": []
   },
   "source": [
    "<hr>\n",
    "<h4>12. 데이터프레임 cb에 대하여 측정소(Point2)별 PM10의 평균을 다음과 같이 구하여 출력 하는 코드</h4>"
   ]
  },
  {
   "cell_type": "code",
   "execution_count": 13,
   "id": "cf1846bf-5acf-4d23-99f5-032dad1f4d83",
   "metadata": {
    "tags": []
   },
   "outputs": [
    {
     "data": {
      "text/html": [
       "<table class=\"dataframe\">\n",
       "<caption>A matrix: 11 × 1 of type dbl</caption>\n",
       "<thead>\n",
       "\t<tr><th></th><th scope=col>PM10 평균</th></tr>\n",
       "</thead>\n",
       "<tbody>\n",
       "\t<tr><th scope=row>괴산군 청천면</th><td>54.37</td></tr>\n",
       "\t<tr><th scope=row>단양군 매포읍</th><td>46.41</td></tr>\n",
       "\t<tr><th scope=row>제천시 장락동</th><td>52.06</td></tr>\n",
       "\t<tr><th scope=row>청원군 오창읍</th><td>67.36</td></tr>\n",
       "\t<tr><th scope=row>청주시 문화동</th><td>59.11</td></tr>\n",
       "\t<tr><th scope=row>청주시 복대동</th><td>75.96</td></tr>\n",
       "\t<tr><th scope=row>청주시 사천동</th><td>61.12</td></tr>\n",
       "\t<tr><th scope=row>청주시 송정동(봉명동)</th><td>64.86</td></tr>\n",
       "\t<tr><th scope=row>청주시 용암동</th><td>53.09</td></tr>\n",
       "\t<tr><th scope=row>충주시 칠금동</th><td>58.53</td></tr>\n",
       "\t<tr><th scope=row>충주시 호암동</th><td>43.14</td></tr>\n",
       "</tbody>\n",
       "</table>\n"
      ],
      "text/latex": [
       "A matrix: 11 × 1 of type dbl\n",
       "\\begin{tabular}{r|l}\n",
       "  & PM10 평균\\\\\n",
       "\\hline\n",
       "\t괴산군 청천면 & 54.37\\\\\n",
       "\t단양군 매포읍 & 46.41\\\\\n",
       "\t제천시 장락동 & 52.06\\\\\n",
       "\t청원군 오창읍 & 67.36\\\\\n",
       "\t청주시 문화동 & 59.11\\\\\n",
       "\t청주시 복대동 & 75.96\\\\\n",
       "\t청주시 사천동 & 61.12\\\\\n",
       "\t청주시 송정동(봉명동) & 64.86\\\\\n",
       "\t청주시 용암동 & 53.09\\\\\n",
       "\t충주시 칠금동 & 58.53\\\\\n",
       "\t충주시 호암동 & 43.14\\\\\n",
       "\\end{tabular}\n"
      ],
      "text/markdown": [
       "\n",
       "A matrix: 11 × 1 of type dbl\n",
       "\n",
       "| <!--/--> | PM10 평균 |\n",
       "|---|---|\n",
       "| 괴산군 청천면 | 54.37 |\n",
       "| 단양군 매포읍 | 46.41 |\n",
       "| 제천시 장락동 | 52.06 |\n",
       "| 청원군 오창읍 | 67.36 |\n",
       "| 청주시 문화동 | 59.11 |\n",
       "| 청주시 복대동 | 75.96 |\n",
       "| 청주시 사천동 | 61.12 |\n",
       "| 청주시 송정동(봉명동) | 64.86 |\n",
       "| 청주시 용암동 | 53.09 |\n",
       "| 충주시 칠금동 | 58.53 |\n",
       "| 충주시 호암동 | 43.14 |\n",
       "\n"
      ],
      "text/plain": [
       "                      PM10 평균\n",
       "괴산군 청천면         54.37    \n",
       "단양군 매포읍         46.41    \n",
       "제천시 장락동         52.06    \n",
       "청원군 오창읍         67.36    \n",
       "청주시 문화동         59.11    \n",
       "청주시 복대동         75.96    \n",
       "청주시 사천동         61.12    \n",
       "청주시 송정동(봉명동) 64.86    \n",
       "청주시 용암동         53.09    \n",
       "충주시 칠금동         58.53    \n",
       "충주시 호암동         43.14    "
      ]
     },
     "metadata": {},
     "output_type": "display_data"
    }
   ],
   "source": [
    "# a. NA를 제외한 측정소별 PM10의 평균을 구하여 변수 result에 저장\n",
    "result <- tapply(cb$PM10, cb$Point2, mean, na.rm=T)\n",
    "\n",
    "# b. 결과를 소수점 둘째자리까지만 표시\n",
    "result <- round(result, 2)\n",
    "\n",
    "# c. 결과를 행렬 형식으로 변환\n",
    "result <- as.matrix(result)\n",
    "\n",
    "# d. 이름(colnames)를 “PM10 평균”으로 지정하고 출력\n",
    "colnames(result) <- c(\"PM10 평균\")\n",
    "\n",
    "result"
   ]
  },
  {
   "cell_type": "markdown",
   "id": "f935ae07-1b25-4a58-810b-be5a547e146b",
   "metadata": {
    "tags": []
   },
   "source": [
    "<hr>\n",
    "<h4>13.  데이터프레임 cb의 변수 PM10의 평균을 구하는 코드(결측치 제외)</h4>"
   ]
  },
  {
   "cell_type": "code",
   "execution_count": 14,
   "id": "bc50beca-7b3d-48f7-86d5-d0fc26e67e3d",
   "metadata": {
    "tags": []
   },
   "outputs": [
    {
     "data": {
      "text/html": [
       "<table class=\"dataframe\">\n",
       "<caption>A matrix: 1 × 1 of type dbl</caption>\n",
       "<tbody>\n",
       "\t<tr><th scope=row>전체</th><td>57.84798</td></tr>\n",
       "</tbody>\n",
       "</table>\n"
      ],
      "text/latex": [
       "A matrix: 1 × 1 of type dbl\n",
       "\\begin{tabular}{r|l}\n",
       "\t전체 & 57.84798\\\\\n",
       "\\end{tabular}\n"
      ],
      "text/markdown": [
       "\n",
       "A matrix: 1 × 1 of type dbl\n",
       "\n",
       "| 전체 | 57.84798 |\n",
       "\n"
      ],
      "text/plain": [
       "     [,1]    \n",
       "전체 57.84798"
      ]
     },
     "metadata": {},
     "output_type": "display_data"
    }
   ],
   "source": [
    "# a. PM10의 평균을 구하여 변수 result2에 저장\n",
    "result2 <- mean(cb$PM10, na.rm=T)\n",
    "\n",
    "# b. result2의 이름(names)를 “전체”로 지정\n",
    "names(result2) <- c(\"전체\")\n",
    "\n",
    "# c. 변수 유형을 matrix로 변환하여 다시 result2에 저장하고 출력\n",
    "result2 <- as.matrix(result2)\n",
    "\n",
    "result2"
   ]
  },
  {
   "cell_type": "markdown",
   "id": "c60d7e28-a966-4e7c-9cf7-d63e93982fb6",
   "metadata": {
    "tags": []
   },
   "source": [
    "<hr>\n",
    "<h4>14. 위 12, 13번에서 구한 두 변수 result, result2를 rbind를 이용하여 합치고 다음과 같이 소수점 둘째자리까지 출력하는 코드</h4>"
   ]
  },
  {
   "cell_type": "code",
   "execution_count": 15,
   "id": "9ec03c77-fc5b-42b9-b403-748a4257c1c5",
   "metadata": {
    "tags": []
   },
   "outputs": [
    {
     "data": {
      "text/html": [
       "<table class=\"dataframe\">\n",
       "<caption>A matrix: 12 × 1 of type dbl</caption>\n",
       "<thead>\n",
       "\t<tr><th></th><th scope=col>PM10 평균</th></tr>\n",
       "</thead>\n",
       "<tbody>\n",
       "\t<tr><th scope=row>괴산군 청천면</th><td>54.37</td></tr>\n",
       "\t<tr><th scope=row>단양군 매포읍</th><td>46.41</td></tr>\n",
       "\t<tr><th scope=row>제천시 장락동</th><td>52.06</td></tr>\n",
       "\t<tr><th scope=row>청원군 오창읍</th><td>67.36</td></tr>\n",
       "\t<tr><th scope=row>청주시 문화동</th><td>59.11</td></tr>\n",
       "\t<tr><th scope=row>청주시 복대동</th><td>75.96</td></tr>\n",
       "\t<tr><th scope=row>청주시 사천동</th><td>61.12</td></tr>\n",
       "\t<tr><th scope=row>청주시 송정동(봉명동)</th><td>64.86</td></tr>\n",
       "\t<tr><th scope=row>청주시 용암동</th><td>53.09</td></tr>\n",
       "\t<tr><th scope=row>충주시 칠금동</th><td>58.53</td></tr>\n",
       "\t<tr><th scope=row>충주시 호암동</th><td>43.14</td></tr>\n",
       "\t<tr><th scope=row>전체</th><td>57.85</td></tr>\n",
       "</tbody>\n",
       "</table>\n"
      ],
      "text/latex": [
       "A matrix: 12 × 1 of type dbl\n",
       "\\begin{tabular}{r|l}\n",
       "  & PM10 평균\\\\\n",
       "\\hline\n",
       "\t괴산군 청천면 & 54.37\\\\\n",
       "\t단양군 매포읍 & 46.41\\\\\n",
       "\t제천시 장락동 & 52.06\\\\\n",
       "\t청원군 오창읍 & 67.36\\\\\n",
       "\t청주시 문화동 & 59.11\\\\\n",
       "\t청주시 복대동 & 75.96\\\\\n",
       "\t청주시 사천동 & 61.12\\\\\n",
       "\t청주시 송정동(봉명동) & 64.86\\\\\n",
       "\t청주시 용암동 & 53.09\\\\\n",
       "\t충주시 칠금동 & 58.53\\\\\n",
       "\t충주시 호암동 & 43.14\\\\\n",
       "\t전체 & 57.85\\\\\n",
       "\\end{tabular}\n"
      ],
      "text/markdown": [
       "\n",
       "A matrix: 12 × 1 of type dbl\n",
       "\n",
       "| <!--/--> | PM10 평균 |\n",
       "|---|---|\n",
       "| 괴산군 청천면 | 54.37 |\n",
       "| 단양군 매포읍 | 46.41 |\n",
       "| 제천시 장락동 | 52.06 |\n",
       "| 청원군 오창읍 | 67.36 |\n",
       "| 청주시 문화동 | 59.11 |\n",
       "| 청주시 복대동 | 75.96 |\n",
       "| 청주시 사천동 | 61.12 |\n",
       "| 청주시 송정동(봉명동) | 64.86 |\n",
       "| 청주시 용암동 | 53.09 |\n",
       "| 충주시 칠금동 | 58.53 |\n",
       "| 충주시 호암동 | 43.14 |\n",
       "| 전체 | 57.85 |\n",
       "\n"
      ],
      "text/plain": [
       "                      PM10 평균\n",
       "괴산군 청천면         54.37    \n",
       "단양군 매포읍         46.41    \n",
       "제천시 장락동         52.06    \n",
       "청원군 오창읍         67.36    \n",
       "청주시 문화동         59.11    \n",
       "청주시 복대동         75.96    \n",
       "청주시 사천동         61.12    \n",
       "청주시 송정동(봉명동) 64.86    \n",
       "청주시 용암동         53.09    \n",
       "충주시 칠금동         58.53    \n",
       "충주시 호암동         43.14    \n",
       "전체                  57.85    "
      ]
     },
     "metadata": {},
     "output_type": "display_data"
    }
   ],
   "source": [
    "new_result = rbind(result, result2)\n",
    "\n",
    "new_result <- round(new_result, 2)\n",
    "\n",
    "new_result"
   ]
  },
  {
   "cell_type": "markdown",
   "id": "67dfca2e-aea6-411f-81a3-9e8f4e5b2a03",
   "metadata": {
    "tags": []
   },
   "source": [
    "<hr>\n",
    "<h4>데이터 파일 “데이터과학-중간고사.xlsx”에 대하여 다음 물음에 답하시오. </h4>\n",
    "<hr>\n",
    "<h4>15.  파일에서 sheet=1을 읽어 데이터프레임 data에 저장하고 head를 출력하는 코드</h4>"
   ]
  },
  {
   "cell_type": "code",
   "execution_count": 16,
   "id": "eb7d128f-cd41-4c7f-bdc1-330ce4c9dc80",
   "metadata": {
    "tags": []
   },
   "outputs": [
    {
     "data": {
      "text/html": [
       "<table class=\"dataframe\">\n",
       "<caption>A tibble: 6 × 8</caption>\n",
       "<thead>\n",
       "\t<tr><th scope=col>날짜</th><th scope=col>광역시도</th><th scope=col>시군구</th><th scope=col>사고건수</th><th scope=col>사망자수</th><th scope=col>중상자수</th><th scope=col>경상자수</th><th scope=col>부상신고자수</th></tr>\n",
       "\t<tr><th scope=col>&lt;dbl&gt;</th><th scope=col>&lt;chr&gt;</th><th scope=col>&lt;chr&gt;</th><th scope=col>&lt;dbl&gt;</th><th scope=col>&lt;dbl&gt;</th><th scope=col>&lt;dbl&gt;</th><th scope=col>&lt;dbl&gt;</th><th scope=col>&lt;dbl&gt;</th></tr>\n",
       "</thead>\n",
       "<tbody>\n",
       "\t<tr><td>20220101</td><td>서울</td><td>중구    </td><td>3</td><td>0</td><td>0</td><td>2</td><td>1</td></tr>\n",
       "\t<tr><td>20220101</td><td>서울</td><td>용산구  </td><td>4</td><td>0</td><td>1</td><td>3</td><td>0</td></tr>\n",
       "\t<tr><td>20220101</td><td>서울</td><td>성동구  </td><td>1</td><td>0</td><td>1</td><td>0</td><td>0</td></tr>\n",
       "\t<tr><td>20220101</td><td>서울</td><td>동대문구</td><td>2</td><td>0</td><td>1</td><td>1</td><td>0</td></tr>\n",
       "\t<tr><td>20220101</td><td>서울</td><td>도봉구  </td><td>5</td><td>0</td><td>4</td><td>1</td><td>0</td></tr>\n",
       "\t<tr><td>20220101</td><td>서울</td><td>은평구  </td><td>3</td><td>0</td><td>1</td><td>2</td><td>0</td></tr>\n",
       "</tbody>\n",
       "</table>\n"
      ],
      "text/latex": [
       "A tibble: 6 × 8\n",
       "\\begin{tabular}{llllllll}\n",
       " 날짜 & 광역시도 & 시군구 & 사고건수 & 사망자수 & 중상자수 & 경상자수 & 부상신고자수\\\\\n",
       " <dbl> & <chr> & <chr> & <dbl> & <dbl> & <dbl> & <dbl> & <dbl>\\\\\n",
       "\\hline\n",
       "\t 20220101 & 서울 & 중구     & 3 & 0 & 0 & 2 & 1\\\\\n",
       "\t 20220101 & 서울 & 용산구   & 4 & 0 & 1 & 3 & 0\\\\\n",
       "\t 20220101 & 서울 & 성동구   & 1 & 0 & 1 & 0 & 0\\\\\n",
       "\t 20220101 & 서울 & 동대문구 & 2 & 0 & 1 & 1 & 0\\\\\n",
       "\t 20220101 & 서울 & 도봉구   & 5 & 0 & 4 & 1 & 0\\\\\n",
       "\t 20220101 & 서울 & 은평구   & 3 & 0 & 1 & 2 & 0\\\\\n",
       "\\end{tabular}\n"
      ],
      "text/markdown": [
       "\n",
       "A tibble: 6 × 8\n",
       "\n",
       "| 날짜 &lt;dbl&gt; | 광역시도 &lt;chr&gt; | 시군구 &lt;chr&gt; | 사고건수 &lt;dbl&gt; | 사망자수 &lt;dbl&gt; | 중상자수 &lt;dbl&gt; | 경상자수 &lt;dbl&gt; | 부상신고자수 &lt;dbl&gt; |\n",
       "|---|---|---|---|---|---|---|---|\n",
       "| 20220101 | 서울 | 중구     | 3 | 0 | 0 | 2 | 1 |\n",
       "| 20220101 | 서울 | 용산구   | 4 | 0 | 1 | 3 | 0 |\n",
       "| 20220101 | 서울 | 성동구   | 1 | 0 | 1 | 0 | 0 |\n",
       "| 20220101 | 서울 | 동대문구 | 2 | 0 | 1 | 1 | 0 |\n",
       "| 20220101 | 서울 | 도봉구   | 5 | 0 | 4 | 1 | 0 |\n",
       "| 20220101 | 서울 | 은평구   | 3 | 0 | 1 | 2 | 0 |\n",
       "\n"
      ],
      "text/plain": [
       "  날짜     광역시도 시군구   사고건수 사망자수 중상자수 경상자수 부상신고자수\n",
       "1 20220101 서울     중구     3        0        0        2        1           \n",
       "2 20220101 서울     용산구   4        0        1        3        0           \n",
       "3 20220101 서울     성동구   1        0        1        0        0           \n",
       "4 20220101 서울     동대문구 2        0        1        1        0           \n",
       "5 20220101 서울     도봉구   5        0        4        1        0           \n",
       "6 20220101 서울     은평구   3        0        1        2        0           "
      ]
     },
     "metadata": {},
     "output_type": "display_data"
    }
   ],
   "source": [
    "data <- read_xlsx(\"데이터과학-중간고사.xlsx\", sheet = 1)\n",
    "\n",
    "head(data)"
   ]
  },
  {
   "cell_type": "markdown",
   "id": "39558468-5769-4e59-b71e-bda26d227a90",
   "metadata": {
    "tags": []
   },
   "source": [
    "<hr>\n",
    "<h4>16. [문제1] 다음과 같이 변수 ‘사고건수’부터 ‘부상신고자수’까지 평균, 최솟값, 최댓값,\n",
    "중앙값을 구하여 출력하는 코드</h4>"
   ]
  },
  {
   "cell_type": "code",
   "execution_count": 17,
   "id": "cfb36525-d550-44a8-a4fe-cec8079cb7aa",
   "metadata": {
    "tags": []
   },
   "outputs": [
    {
     "data": {
      "text/html": [
       "<table class=\"dataframe\">\n",
       "<caption>A matrix: 4 × 5 of type dbl</caption>\n",
       "<thead>\n",
       "\t<tr><th></th><th scope=col>사고건수</th><th scope=col>사망자수</th><th scope=col>중상자수</th><th scope=col>경상자수</th><th scope=col>부상신고자수</th></tr>\n",
       "</thead>\n",
       "<tbody>\n",
       "\t<tr><th scope=row>Mean</th><td> 3.41</td><td>0.05</td><td> 0.9</td><td> 3.68</td><td> 0.31</td></tr>\n",
       "\t<tr><th scope=row>Min</th><td> 1.00</td><td>0.00</td><td> 0.0</td><td> 0.00</td><td> 0.00</td></tr>\n",
       "\t<tr><th scope=row>Max</th><td>32.00</td><td>4.00</td><td>13.0</td><td>64.00</td><td>31.00</td></tr>\n",
       "\t<tr><th scope=row>Median</th><td> 2.00</td><td>0.00</td><td> 1.0</td><td> 2.00</td><td> 0.00</td></tr>\n",
       "</tbody>\n",
       "</table>\n"
      ],
      "text/latex": [
       "A matrix: 4 × 5 of type dbl\n",
       "\\begin{tabular}{r|lllll}\n",
       "  & 사고건수 & 사망자수 & 중상자수 & 경상자수 & 부상신고자수\\\\\n",
       "\\hline\n",
       "\tMean &  3.41 & 0.05 &  0.9 &  3.68 &  0.31\\\\\n",
       "\tMin &  1.00 & 0.00 &  0.0 &  0.00 &  0.00\\\\\n",
       "\tMax & 32.00 & 4.00 & 13.0 & 64.00 & 31.00\\\\\n",
       "\tMedian &  2.00 & 0.00 &  1.0 &  2.00 &  0.00\\\\\n",
       "\\end{tabular}\n"
      ],
      "text/markdown": [
       "\n",
       "A matrix: 4 × 5 of type dbl\n",
       "\n",
       "| <!--/--> | 사고건수 | 사망자수 | 중상자수 | 경상자수 | 부상신고자수 |\n",
       "|---|---|---|---|---|---|\n",
       "| Mean |  3.41 | 0.05 |  0.9 |  3.68 |  0.31 |\n",
       "| Min |  1.00 | 0.00 |  0.0 |  0.00 |  0.00 |\n",
       "| Max | 32.00 | 4.00 | 13.0 | 64.00 | 31.00 |\n",
       "| Median |  2.00 | 0.00 |  1.0 |  2.00 |  0.00 |\n",
       "\n"
      ],
      "text/plain": [
       "       사고건수 사망자수 중상자수 경상자수 부상신고자수\n",
       "Mean    3.41    0.05      0.9      3.68     0.31       \n",
       "Min     1.00    0.00      0.0      0.00     0.00       \n",
       "Max    32.00    4.00     13.0     64.00    31.00       \n",
       "Median  2.00    0.00      1.0      2.00     0.00       "
      ]
     },
     "metadata": {},
     "output_type": "display_data"
    }
   ],
   "source": [
    "# a. 4개의 변수에 대하여 sapply를 이용하여 평균, 최솟값, 최댓값, 중앙값을 구하여 각각 Mean, Min, Max, Median에 저장\n",
    "Mean <- round(sapply(data[c(4:8)], mean), 2)\n",
    "Min <- round(sapply(data[c(4:8)], min), 2)\n",
    "Max <- round(sapply(data[c(4:8)], max), 2)\n",
    "Median <- round(sapply(data[c(4:8)], median), 2)\n",
    "\n",
    "# b. rbind를 이용하여 4개의 결과를 하나로 합쳐 출력\n",
    "result <- rbind(Mean, Min, Max, Median)\n",
    "\n",
    "result"
   ]
  },
  {
   "cell_type": "markdown",
   "id": "e39dca29-8cf3-4a35-aa64-64da4456094d",
   "metadata": {
    "tags": []
   },
   "source": [
    "<hr>\n",
    "<h4>17.  [문제2] 변수 날짜는 년, 월, 일로 분리하여 새로운 변수에 저장하고, 광역시도와 시군구는 합쳐서 지역에 저장하고 head를 출력하는 코드</h4>"
   ]
  },
  {
   "cell_type": "code",
   "execution_count": 18,
   "id": "847cb1ea-4cd9-4a46-a08d-5a9853fc463b",
   "metadata": {
    "tags": []
   },
   "outputs": [
    {
     "data": {
      "text/html": [
       "<table class=\"dataframe\">\n",
       "<caption>A tibble: 6 × 12</caption>\n",
       "<thead>\n",
       "\t<tr><th scope=col>날짜</th><th scope=col>광역시도</th><th scope=col>시군구</th><th scope=col>사고건수</th><th scope=col>사망자수</th><th scope=col>중상자수</th><th scope=col>경상자수</th><th scope=col>부상신고자수</th><th scope=col>년</th><th scope=col>월</th><th scope=col>일</th><th scope=col>지역</th></tr>\n",
       "\t<tr><th scope=col>&lt;dbl&gt;</th><th scope=col>&lt;chr&gt;</th><th scope=col>&lt;chr&gt;</th><th scope=col>&lt;dbl&gt;</th><th scope=col>&lt;dbl&gt;</th><th scope=col>&lt;dbl&gt;</th><th scope=col>&lt;dbl&gt;</th><th scope=col>&lt;dbl&gt;</th><th scope=col>&lt;chr&gt;</th><th scope=col>&lt;chr&gt;</th><th scope=col>&lt;chr&gt;</th><th scope=col>&lt;chr&gt;</th></tr>\n",
       "</thead>\n",
       "<tbody>\n",
       "\t<tr><td>20220101</td><td>서울</td><td>중구    </td><td>3</td><td>0</td><td>0</td><td>2</td><td>1</td><td>2022</td><td>01</td><td>01</td><td>서울 중구    </td></tr>\n",
       "\t<tr><td>20220101</td><td>서울</td><td>용산구  </td><td>4</td><td>0</td><td>1</td><td>3</td><td>0</td><td>2022</td><td>01</td><td>01</td><td>서울 용산구  </td></tr>\n",
       "\t<tr><td>20220101</td><td>서울</td><td>성동구  </td><td>1</td><td>0</td><td>1</td><td>0</td><td>0</td><td>2022</td><td>01</td><td>01</td><td>서울 성동구  </td></tr>\n",
       "\t<tr><td>20220101</td><td>서울</td><td>동대문구</td><td>2</td><td>0</td><td>1</td><td>1</td><td>0</td><td>2022</td><td>01</td><td>01</td><td>서울 동대문구</td></tr>\n",
       "\t<tr><td>20220101</td><td>서울</td><td>도봉구  </td><td>5</td><td>0</td><td>4</td><td>1</td><td>0</td><td>2022</td><td>01</td><td>01</td><td>서울 도봉구  </td></tr>\n",
       "\t<tr><td>20220101</td><td>서울</td><td>은평구  </td><td>3</td><td>0</td><td>1</td><td>2</td><td>0</td><td>2022</td><td>01</td><td>01</td><td>서울 은평구  </td></tr>\n",
       "</tbody>\n",
       "</table>\n"
      ],
      "text/latex": [
       "A tibble: 6 × 12\n",
       "\\begin{tabular}{llllllllllll}\n",
       " 날짜 & 광역시도 & 시군구 & 사고건수 & 사망자수 & 중상자수 & 경상자수 & 부상신고자수 & 년 & 월 & 일 & 지역\\\\\n",
       " <dbl> & <chr> & <chr> & <dbl> & <dbl> & <dbl> & <dbl> & <dbl> & <chr> & <chr> & <chr> & <chr>\\\\\n",
       "\\hline\n",
       "\t 20220101 & 서울 & 중구     & 3 & 0 & 0 & 2 & 1 & 2022 & 01 & 01 & 서울 중구    \\\\\n",
       "\t 20220101 & 서울 & 용산구   & 4 & 0 & 1 & 3 & 0 & 2022 & 01 & 01 & 서울 용산구  \\\\\n",
       "\t 20220101 & 서울 & 성동구   & 1 & 0 & 1 & 0 & 0 & 2022 & 01 & 01 & 서울 성동구  \\\\\n",
       "\t 20220101 & 서울 & 동대문구 & 2 & 0 & 1 & 1 & 0 & 2022 & 01 & 01 & 서울 동대문구\\\\\n",
       "\t 20220101 & 서울 & 도봉구   & 5 & 0 & 4 & 1 & 0 & 2022 & 01 & 01 & 서울 도봉구  \\\\\n",
       "\t 20220101 & 서울 & 은평구   & 3 & 0 & 1 & 2 & 0 & 2022 & 01 & 01 & 서울 은평구  \\\\\n",
       "\\end{tabular}\n"
      ],
      "text/markdown": [
       "\n",
       "A tibble: 6 × 12\n",
       "\n",
       "| 날짜 &lt;dbl&gt; | 광역시도 &lt;chr&gt; | 시군구 &lt;chr&gt; | 사고건수 &lt;dbl&gt; | 사망자수 &lt;dbl&gt; | 중상자수 &lt;dbl&gt; | 경상자수 &lt;dbl&gt; | 부상신고자수 &lt;dbl&gt; | 년 &lt;chr&gt; | 월 &lt;chr&gt; | 일 &lt;chr&gt; | 지역 &lt;chr&gt; |\n",
       "|---|---|---|---|---|---|---|---|---|---|---|---|\n",
       "| 20220101 | 서울 | 중구     | 3 | 0 | 0 | 2 | 1 | 2022 | 01 | 01 | 서울 중구     |\n",
       "| 20220101 | 서울 | 용산구   | 4 | 0 | 1 | 3 | 0 | 2022 | 01 | 01 | 서울 용산구   |\n",
       "| 20220101 | 서울 | 성동구   | 1 | 0 | 1 | 0 | 0 | 2022 | 01 | 01 | 서울 성동구   |\n",
       "| 20220101 | 서울 | 동대문구 | 2 | 0 | 1 | 1 | 0 | 2022 | 01 | 01 | 서울 동대문구 |\n",
       "| 20220101 | 서울 | 도봉구   | 5 | 0 | 4 | 1 | 0 | 2022 | 01 | 01 | 서울 도봉구   |\n",
       "| 20220101 | 서울 | 은평구   | 3 | 0 | 1 | 2 | 0 | 2022 | 01 | 01 | 서울 은평구   |\n",
       "\n"
      ],
      "text/plain": [
       "  날짜     광역시도 시군구   사고건수 사망자수 중상자수 경상자수 부상신고자수\n",
       "1 20220101 서울     중구     3        0        0        2        1           \n",
       "2 20220101 서울     용산구   4        0        1        3        0           \n",
       "3 20220101 서울     성동구   1        0        1        0        0           \n",
       "4 20220101 서울     동대문구 2        0        1        1        0           \n",
       "5 20220101 서울     도봉구   5        0        4        1        0           \n",
       "6 20220101 서울     은평구   3        0        1        2        0           \n",
       "  년   월 일 지역         \n",
       "1 2022 01 01 서울 중구    \n",
       "2 2022 01 01 서울 용산구  \n",
       "3 2022 01 01 서울 성동구  \n",
       "4 2022 01 01 서울 동대문구\n",
       "5 2022 01 01 서울 도봉구  \n",
       "6 2022 01 01 서울 은평구  "
      ]
     },
     "metadata": {},
     "output_type": "display_data"
    }
   ],
   "source": [
    "data$'년' <- substr(data$'날짜', 1, 4)\n",
    "data$'월' <- substr(data$'날짜', 5, 6)\n",
    "data$'일' <- substr(data$'날짜', 7, 8)\n",
    "data$'지역' <- paste(data$'광역시도', data$'시군구')\n",
    "\n",
    "head(data)"
   ]
  },
  {
   "cell_type": "markdown",
   "id": "7e3dbf62-b6e4-4dc9-b8a6-58ddd1710f3d",
   "metadata": {
    "tags": []
   },
   "source": [
    "<hr>\n",
    "<h4>18. [문제3] 광역시도별로 사고건수의 합계, 평균, 최솟값, 최댓값을 구하여 출력하는 코드</h4>"
   ]
  },
  {
   "cell_type": "code",
   "execution_count": 19,
   "id": "ab76ad2e-af3f-480d-8556-a0378287fb62",
   "metadata": {
    "tags": []
   },
   "outputs": [
    {
     "data": {
      "text/html": [
       "<table class=\"dataframe\">\n",
       "<caption>A matrix: 17 × 4 of type dbl</caption>\n",
       "<thead>\n",
       "\t<tr><th></th><th scope=col>Sum</th><th scope=col>Mean</th><th scope=col>Min</th><th scope=col>Max</th></tr>\n",
       "</thead>\n",
       "<tbody>\n",
       "\t<tr><th scope=row>강원</th><td> 6425</td><td>2.1</td><td>1</td><td>14</td></tr>\n",
       "\t<tr><th scope=row>경기</th><td>52968</td><td>5.4</td><td>1</td><td>32</td></tr>\n",
       "\t<tr><th scope=row>경남</th><td>10611</td><td>2.7</td><td>1</td><td>17</td></tr>\n",
       "\t<tr><th scope=row>경북</th><td>11037</td><td>2.4</td><td>1</td><td>16</td></tr>\n",
       "\t<tr><th scope=row>광주</th><td> 7122</td><td>4.3</td><td>1</td><td>17</td></tr>\n",
       "\t<tr><th scope=row>대구</th><td>11102</td><td>4.1</td><td>1</td><td>16</td></tr>\n",
       "\t<tr><th scope=row>대전</th><td> 6841</td><td>4.0</td><td>1</td><td>16</td></tr>\n",
       "\t<tr><th scope=row>부산</th><td>10882</td><td>2.3</td><td>1</td><td>12</td></tr>\n",
       "\t<tr><th scope=row>서울</th><td>33698</td><td>4.0</td><td>1</td><td>24</td></tr>\n",
       "\t<tr><th scope=row>세종</th><td>  932</td><td>2.8</td><td>1</td><td> 9</td></tr>\n",
       "\t<tr><th scope=row>울산</th><td> 3660</td><td>2.4</td><td>1</td><td>12</td></tr>\n",
       "\t<tr><th scope=row>인천</th><td> 7695</td><td>3.0</td><td>1</td><td>14</td></tr>\n",
       "\t<tr><th scope=row>전남</th><td> 8335</td><td>2.0</td><td>1</td><td>12</td></tr>\n",
       "\t<tr><th scope=row>전북</th><td> 5681</td><td>2.4</td><td>1</td><td>13</td></tr>\n",
       "\t<tr><th scope=row>제주</th><td> 4039</td><td>5.6</td><td>1</td><td>17</td></tr>\n",
       "\t<tr><th scope=row>충남</th><td> 8164</td><td>2.6</td><td>1</td><td>18</td></tr>\n",
       "\t<tr><th scope=row>충북</th><td> 7644</td><td>3.4</td><td>1</td><td>23</td></tr>\n",
       "</tbody>\n",
       "</table>\n"
      ],
      "text/latex": [
       "A matrix: 17 × 4 of type dbl\n",
       "\\begin{tabular}{r|llll}\n",
       "  & Sum & Mean & Min & Max\\\\\n",
       "\\hline\n",
       "\t강원 &  6425 & 2.1 & 1 & 14\\\\\n",
       "\t경기 & 52968 & 5.4 & 1 & 32\\\\\n",
       "\t경남 & 10611 & 2.7 & 1 & 17\\\\\n",
       "\t경북 & 11037 & 2.4 & 1 & 16\\\\\n",
       "\t광주 &  7122 & 4.3 & 1 & 17\\\\\n",
       "\t대구 & 11102 & 4.1 & 1 & 16\\\\\n",
       "\t대전 &  6841 & 4.0 & 1 & 16\\\\\n",
       "\t부산 & 10882 & 2.3 & 1 & 12\\\\\n",
       "\t서울 & 33698 & 4.0 & 1 & 24\\\\\n",
       "\t세종 &   932 & 2.8 & 1 &  9\\\\\n",
       "\t울산 &  3660 & 2.4 & 1 & 12\\\\\n",
       "\t인천 &  7695 & 3.0 & 1 & 14\\\\\n",
       "\t전남 &  8335 & 2.0 & 1 & 12\\\\\n",
       "\t전북 &  5681 & 2.4 & 1 & 13\\\\\n",
       "\t제주 &  4039 & 5.6 & 1 & 17\\\\\n",
       "\t충남 &  8164 & 2.6 & 1 & 18\\\\\n",
       "\t충북 &  7644 & 3.4 & 1 & 23\\\\\n",
       "\\end{tabular}\n"
      ],
      "text/markdown": [
       "\n",
       "A matrix: 17 × 4 of type dbl\n",
       "\n",
       "| <!--/--> | Sum | Mean | Min | Max |\n",
       "|---|---|---|---|---|\n",
       "| 강원 |  6425 | 2.1 | 1 | 14 |\n",
       "| 경기 | 52968 | 5.4 | 1 | 32 |\n",
       "| 경남 | 10611 | 2.7 | 1 | 17 |\n",
       "| 경북 | 11037 | 2.4 | 1 | 16 |\n",
       "| 광주 |  7122 | 4.3 | 1 | 17 |\n",
       "| 대구 | 11102 | 4.1 | 1 | 16 |\n",
       "| 대전 |  6841 | 4.0 | 1 | 16 |\n",
       "| 부산 | 10882 | 2.3 | 1 | 12 |\n",
       "| 서울 | 33698 | 4.0 | 1 | 24 |\n",
       "| 세종 |   932 | 2.8 | 1 |  9 |\n",
       "| 울산 |  3660 | 2.4 | 1 | 12 |\n",
       "| 인천 |  7695 | 3.0 | 1 | 14 |\n",
       "| 전남 |  8335 | 2.0 | 1 | 12 |\n",
       "| 전북 |  5681 | 2.4 | 1 | 13 |\n",
       "| 제주 |  4039 | 5.6 | 1 | 17 |\n",
       "| 충남 |  8164 | 2.6 | 1 | 18 |\n",
       "| 충북 |  7644 | 3.4 | 1 | 23 |\n",
       "\n"
      ],
      "text/plain": [
       "     Sum   Mean Min Max\n",
       "강원  6425 2.1  1   14 \n",
       "경기 52968 5.4  1   32 \n",
       "경남 10611 2.7  1   17 \n",
       "경북 11037 2.4  1   16 \n",
       "광주  7122 4.3  1   17 \n",
       "대구 11102 4.1  1   16 \n",
       "대전  6841 4.0  1   16 \n",
       "부산 10882 2.3  1   12 \n",
       "서울 33698 4.0  1   24 \n",
       "세종   932 2.8  1    9 \n",
       "울산  3660 2.4  1   12 \n",
       "인천  7695 3.0  1   14 \n",
       "전남  8335 2.0  1   12 \n",
       "전북  5681 2.4  1   13 \n",
       "제주  4039 5.6  1   17 \n",
       "충남  8164 2.6  1   18 \n",
       "충북  7644 3.4  1   23 "
      ]
     },
     "metadata": {},
     "output_type": "display_data"
    }
   ],
   "source": [
    "# a. tapply를 이용하여 광역시도별 사고건수의 합계, 평균, 최솟값, 최댓값을 구하여 각각 Sum, Mean, Min, Max에 저장\n",
    "Sum <- tapply(data$'사고건수', data$'광역시도', sum)\n",
    "Mean <- round(tapply(data$'사고건수', data$'광역시도', mean),1)\n",
    "Min <- tapply(data$'사고건수', data$'광역시도', min)\n",
    "Max <- tapply(data$'사고건수', data$'광역시도', max)\n",
    "\n",
    "# b. cbind를 이용하여 4개의 결과를 하나로 합쳐 출력\n",
    "result <- cbind(Sum, Mean, Min, Max)\n",
    "\n",
    "result"
   ]
  },
  {
   "cell_type": "markdown",
   "id": "cdbff14c-7f49-40ea-b6d1-2b8b077fd1f4",
   "metadata": {
    "tags": []
   },
   "source": [
    "<hr>\n",
    "<h4>19. 시군구가 ‘강동구’, ‘강서구’, ‘강남구’, ‘강북구’, ‘중구’인 지역만 추출하여 데이터프레임 news에 저장하고, 변수 지역의 빈도표를 출력하는 코드(행렬 형식으로 변환하여 출력)</h4>"
   ]
  },
  {
   "cell_type": "code",
   "execution_count": 20,
   "id": "44501ad6-3802-4708-a7c8-556e5e6845c0",
   "metadata": {
    "tags": []
   },
   "outputs": [
    {
     "data": {
      "text/html": [
       "<table class=\"dataframe\">\n",
       "<caption>A matrix: 11 × 1 of type int</caption>\n",
       "<tbody>\n",
       "\t<tr><th scope=row>대구 중구</th><td>303</td></tr>\n",
       "\t<tr><th scope=row>대전 중구</th><td>332</td></tr>\n",
       "\t<tr><th scope=row>부산 강서구</th><td>303</td></tr>\n",
       "\t<tr><th scope=row>부산 중구</th><td>214</td></tr>\n",
       "\t<tr><th scope=row>서울 강남구</th><td>365</td></tr>\n",
       "\t<tr><th scope=row>서울 강동구</th><td>348</td></tr>\n",
       "\t<tr><th scope=row>서울 강북구</th><td>332</td></tr>\n",
       "\t<tr><th scope=row>서울 강서구</th><td>356</td></tr>\n",
       "\t<tr><th scope=row>서울 중구</th><td>321</td></tr>\n",
       "\t<tr><th scope=row>울산 중구</th><td>292</td></tr>\n",
       "\t<tr><th scope=row>인천 중구</th><td>263</td></tr>\n",
       "</tbody>\n",
       "</table>\n"
      ],
      "text/latex": [
       "A matrix: 11 × 1 of type int\n",
       "\\begin{tabular}{r|l}\n",
       "\t대구 중구 & 303\\\\\n",
       "\t대전 중구 & 332\\\\\n",
       "\t부산 강서구 & 303\\\\\n",
       "\t부산 중구 & 214\\\\\n",
       "\t서울 강남구 & 365\\\\\n",
       "\t서울 강동구 & 348\\\\\n",
       "\t서울 강북구 & 332\\\\\n",
       "\t서울 강서구 & 356\\\\\n",
       "\t서울 중구 & 321\\\\\n",
       "\t울산 중구 & 292\\\\\n",
       "\t인천 중구 & 263\\\\\n",
       "\\end{tabular}\n"
      ],
      "text/markdown": [
       "\n",
       "A matrix: 11 × 1 of type int\n",
       "\n",
       "| 대구 중구 | 303 |\n",
       "| 대전 중구 | 332 |\n",
       "| 부산 강서구 | 303 |\n",
       "| 부산 중구 | 214 |\n",
       "| 서울 강남구 | 365 |\n",
       "| 서울 강동구 | 348 |\n",
       "| 서울 강북구 | 332 |\n",
       "| 서울 강서구 | 356 |\n",
       "| 서울 중구 | 321 |\n",
       "| 울산 중구 | 292 |\n",
       "| 인천 중구 | 263 |\n",
       "\n"
      ],
      "text/plain": [
       "            [,1]\n",
       "대구 중구   303 \n",
       "대전 중구   332 \n",
       "부산 강서구 303 \n",
       "부산 중구   214 \n",
       "서울 강남구 365 \n",
       "서울 강동구 348 \n",
       "서울 강북구 332 \n",
       "서울 강서구 356 \n",
       "서울 중구   321 \n",
       "울산 중구   292 \n",
       "인천 중구   263 "
      ]
     },
     "metadata": {},
     "output_type": "display_data"
    }
   ],
   "source": [
    "news <- subset(data, data$`시군구` %in% c(\"강동구\", \"강서구\", \"강남구\", \"강북구\", \"중구\"))\n",
    "news <- table(news$지역)\n",
    "news <- as.matrix(news)\n",
    "\n",
    "news"
   ]
  },
  {
   "cell_type": "markdown",
   "id": "f40eb56c-c14c-4a48-838b-f7cfc8b2758d",
   "metadata": {
    "tags": []
   },
   "source": [
    "<hr>\n",
    "<h4>20. [문제4] 위 19번에서 생성된 데이터프레임 news의 지역별x월별 사고건수의 평균을 구하여 출력하는 코드 </h4>"
   ]
  },
  {
   "cell_type": "code",
   "execution_count": 21,
   "id": "b4637be1-3a3c-4a9d-b179-76ab2ad1dbe8",
   "metadata": {
    "tags": []
   },
   "outputs": [
    {
     "data": {
      "text/html": [
       "<table class=\"dataframe\">\n",
       "<caption>A matrix: 11 × 12 of type dbl</caption>\n",
       "<thead>\n",
       "\t<tr><th></th><th scope=col>01</th><th scope=col>02</th><th scope=col>03</th><th scope=col>04</th><th scope=col>05</th><th scope=col>06</th><th scope=col>07</th><th scope=col>08</th><th scope=col>09</th><th scope=col>10</th><th scope=col>11</th><th scope=col>12</th></tr>\n",
       "</thead>\n",
       "<tbody>\n",
       "\t<tr><th scope=row>대구 중구</th><td> 2.38</td><td>2.00</td><td>1.79</td><td> 2.88</td><td> 2.52</td><td> 2.33</td><td> 2.68</td><td>2.68</td><td> 2.26</td><td> 2.30</td><td> 2.25</td><td>2.33</td></tr>\n",
       "\t<tr><th scope=row>대전 중구</th><td> 3.15</td><td>2.55</td><td>2.44</td><td> 3.52</td><td> 3.17</td><td> 3.39</td><td> 2.90</td><td>2.66</td><td> 3.64</td><td> 2.72</td><td> 2.93</td><td>3.86</td></tr>\n",
       "\t<tr><th scope=row>부산 강서구</th><td> 2.44</td><td>2.85</td><td>2.04</td><td> 2.38</td><td> 2.36</td><td> 2.85</td><td> 2.48</td><td>2.54</td><td> 2.76</td><td> 2.59</td><td> 2.33</td><td>2.73</td></tr>\n",
       "\t<tr><th scope=row>부산 중구</th><td> 1.44</td><td>1.18</td><td>1.50</td><td> 1.57</td><td> 2.05</td><td> 1.44</td><td> 1.81</td><td>2.29</td><td> 1.67</td><td> 1.40</td><td> 1.68</td><td>2.00</td></tr>\n",
       "\t<tr><th scope=row>서울 강남구</th><td>10.94</td><td>7.89</td><td>7.87</td><td>10.90</td><td>10.29</td><td>10.73</td><td>11.61</td><td>9.90</td><td>10.13</td><td>11.06</td><td>11.03</td><td>9.42</td></tr>\n",
       "\t<tr><th scope=row>서울 강동구</th><td> 3.89</td><td>2.92</td><td>3.00</td><td> 3.10</td><td> 3.11</td><td> 3.10</td><td> 3.48</td><td>3.55</td><td> 3.24</td><td> 3.61</td><td> 3.31</td><td>3.32</td></tr>\n",
       "\t<tr><th scope=row>서울 강북구</th><td> 2.89</td><td>3.42</td><td>2.38</td><td> 2.92</td><td> 3.46</td><td> 2.77</td><td> 3.52</td><td>3.24</td><td> 3.10</td><td> 3.55</td><td> 3.23</td><td>3.14</td></tr>\n",
       "\t<tr><th scope=row>서울 강서구</th><td> 4.67</td><td>4.30</td><td>3.86</td><td> 4.50</td><td> 4.97</td><td> 5.17</td><td> 4.77</td><td>4.20</td><td> 4.37</td><td> 4.29</td><td> 4.17</td><td>4.86</td></tr>\n",
       "\t<tr><th scope=row>서울 중구</th><td> 2.75</td><td>2.57</td><td>2.16</td><td> 2.79</td><td> 2.88</td><td> 2.92</td><td> 3.00</td><td>2.44</td><td> 3.38</td><td> 3.00</td><td> 3.41</td><td>3.77</td></tr>\n",
       "\t<tr><th scope=row>울산 중구</th><td> 2.18</td><td>2.05</td><td>2.09</td><td> 1.88</td><td> 2.00</td><td> 1.82</td><td> 1.54</td><td>2.22</td><td> 2.00</td><td> 2.32</td><td> 2.17</td><td>2.50</td></tr>\n",
       "\t<tr><th scope=row>인천 중구</th><td> 1.50</td><td>1.19</td><td>1.87</td><td> 1.47</td><td> 1.58</td><td> 2.04</td><td> 1.82</td><td>1.83</td><td> 2.08</td><td> 1.92</td><td> 1.77</td><td>1.76</td></tr>\n",
       "</tbody>\n",
       "</table>\n"
      ],
      "text/latex": [
       "A matrix: 11 × 12 of type dbl\n",
       "\\begin{tabular}{r|llllllllllll}\n",
       "  & 01 & 02 & 03 & 04 & 05 & 06 & 07 & 08 & 09 & 10 & 11 & 12\\\\\n",
       "\\hline\n",
       "\t대구 중구 &  2.38 & 2.00 & 1.79 &  2.88 &  2.52 &  2.33 &  2.68 & 2.68 &  2.26 &  2.30 &  2.25 & 2.33\\\\\n",
       "\t대전 중구 &  3.15 & 2.55 & 2.44 &  3.52 &  3.17 &  3.39 &  2.90 & 2.66 &  3.64 &  2.72 &  2.93 & 3.86\\\\\n",
       "\t부산 강서구 &  2.44 & 2.85 & 2.04 &  2.38 &  2.36 &  2.85 &  2.48 & 2.54 &  2.76 &  2.59 &  2.33 & 2.73\\\\\n",
       "\t부산 중구 &  1.44 & 1.18 & 1.50 &  1.57 &  2.05 &  1.44 &  1.81 & 2.29 &  1.67 &  1.40 &  1.68 & 2.00\\\\\n",
       "\t서울 강남구 & 10.94 & 7.89 & 7.87 & 10.90 & 10.29 & 10.73 & 11.61 & 9.90 & 10.13 & 11.06 & 11.03 & 9.42\\\\\n",
       "\t서울 강동구 &  3.89 & 2.92 & 3.00 &  3.10 &  3.11 &  3.10 &  3.48 & 3.55 &  3.24 &  3.61 &  3.31 & 3.32\\\\\n",
       "\t서울 강북구 &  2.89 & 3.42 & 2.38 &  2.92 &  3.46 &  2.77 &  3.52 & 3.24 &  3.10 &  3.55 &  3.23 & 3.14\\\\\n",
       "\t서울 강서구 &  4.67 & 4.30 & 3.86 &  4.50 &  4.97 &  5.17 &  4.77 & 4.20 &  4.37 &  4.29 &  4.17 & 4.86\\\\\n",
       "\t서울 중구 &  2.75 & 2.57 & 2.16 &  2.79 &  2.88 &  2.92 &  3.00 & 2.44 &  3.38 &  3.00 &  3.41 & 3.77\\\\\n",
       "\t울산 중구 &  2.18 & 2.05 & 2.09 &  1.88 &  2.00 &  1.82 &  1.54 & 2.22 &  2.00 &  2.32 &  2.17 & 2.50\\\\\n",
       "\t인천 중구 &  1.50 & 1.19 & 1.87 &  1.47 &  1.58 &  2.04 &  1.82 & 1.83 &  2.08 &  1.92 &  1.77 & 1.76\\\\\n",
       "\\end{tabular}\n"
      ],
      "text/markdown": [
       "\n",
       "A matrix: 11 × 12 of type dbl\n",
       "\n",
       "| <!--/--> | 01 | 02 | 03 | 04 | 05 | 06 | 07 | 08 | 09 | 10 | 11 | 12 |\n",
       "|---|---|---|---|---|---|---|---|---|---|---|---|---|\n",
       "| 대구 중구 |  2.38 | 2.00 | 1.79 |  2.88 |  2.52 |  2.33 |  2.68 | 2.68 |  2.26 |  2.30 |  2.25 | 2.33 |\n",
       "| 대전 중구 |  3.15 | 2.55 | 2.44 |  3.52 |  3.17 |  3.39 |  2.90 | 2.66 |  3.64 |  2.72 |  2.93 | 3.86 |\n",
       "| 부산 강서구 |  2.44 | 2.85 | 2.04 |  2.38 |  2.36 |  2.85 |  2.48 | 2.54 |  2.76 |  2.59 |  2.33 | 2.73 |\n",
       "| 부산 중구 |  1.44 | 1.18 | 1.50 |  1.57 |  2.05 |  1.44 |  1.81 | 2.29 |  1.67 |  1.40 |  1.68 | 2.00 |\n",
       "| 서울 강남구 | 10.94 | 7.89 | 7.87 | 10.90 | 10.29 | 10.73 | 11.61 | 9.90 | 10.13 | 11.06 | 11.03 | 9.42 |\n",
       "| 서울 강동구 |  3.89 | 2.92 | 3.00 |  3.10 |  3.11 |  3.10 |  3.48 | 3.55 |  3.24 |  3.61 |  3.31 | 3.32 |\n",
       "| 서울 강북구 |  2.89 | 3.42 | 2.38 |  2.92 |  3.46 |  2.77 |  3.52 | 3.24 |  3.10 |  3.55 |  3.23 | 3.14 |\n",
       "| 서울 강서구 |  4.67 | 4.30 | 3.86 |  4.50 |  4.97 |  5.17 |  4.77 | 4.20 |  4.37 |  4.29 |  4.17 | 4.86 |\n",
       "| 서울 중구 |  2.75 | 2.57 | 2.16 |  2.79 |  2.88 |  2.92 |  3.00 | 2.44 |  3.38 |  3.00 |  3.41 | 3.77 |\n",
       "| 울산 중구 |  2.18 | 2.05 | 2.09 |  1.88 |  2.00 |  1.82 |  1.54 | 2.22 |  2.00 |  2.32 |  2.17 | 2.50 |\n",
       "| 인천 중구 |  1.50 | 1.19 | 1.87 |  1.47 |  1.58 |  2.04 |  1.82 | 1.83 |  2.08 |  1.92 |  1.77 | 1.76 |\n",
       "\n"
      ],
      "text/plain": [
       "            01    02   03   04    05    06    07    08   09    10    11    12  \n",
       "대구 중구    2.38 2.00 1.79  2.88  2.52  2.33  2.68 2.68  2.26  2.30  2.25 2.33\n",
       "대전 중구    3.15 2.55 2.44  3.52  3.17  3.39  2.90 2.66  3.64  2.72  2.93 3.86\n",
       "부산 강서구  2.44 2.85 2.04  2.38  2.36  2.85  2.48 2.54  2.76  2.59  2.33 2.73\n",
       "부산 중구    1.44 1.18 1.50  1.57  2.05  1.44  1.81 2.29  1.67  1.40  1.68 2.00\n",
       "서울 강남구 10.94 7.89 7.87 10.90 10.29 10.73 11.61 9.90 10.13 11.06 11.03 9.42\n",
       "서울 강동구  3.89 2.92 3.00  3.10  3.11  3.10  3.48 3.55  3.24  3.61  3.31 3.32\n",
       "서울 강북구  2.89 3.42 2.38  2.92  3.46  2.77  3.52 3.24  3.10  3.55  3.23 3.14\n",
       "서울 강서구  4.67 4.30 3.86  4.50  4.97  5.17  4.77 4.20  4.37  4.29  4.17 4.86\n",
       "서울 중구    2.75 2.57 2.16  2.79  2.88  2.92  3.00 2.44  3.38  3.00  3.41 3.77\n",
       "울산 중구    2.18 2.05 2.09  1.88  2.00  1.82  1.54 2.22  2.00  2.32  2.17 2.50\n",
       "인천 중구    1.50 1.19 1.87  1.47  1.58  2.04  1.82 1.83  2.08  1.92  1.77 1.76"
      ]
     },
     "metadata": {},
     "output_type": "display_data"
    }
   ],
   "source": [
    "news <- subset(data, data$`시군구` %in% c(\"강동구\", \"강서구\", \"강남구\", \"강북구\", \"중구\"))\n",
    "result <- tapply(news$사고건수, list(news$지역, news$월), mean)\n",
    "result <- round(result,2)\n",
    "\n",
    "result"
   ]
  },
  {
   "cell_type": "markdown",
   "id": "206e62d3-b612-4bd6-ba21-07ea4d9e1414",
   "metadata": {
    "tags": []
   },
   "source": [
    "<hr>\n",
    "<h4>21. [문제5] sheet=6에 있는 데이터를 읽어 데이터프레임 data에 저장하고, 장소가 ‘북한산’인 데이터만 추출하여 head를 출력하는 코드</h4>"
   ]
  },
  {
   "cell_type": "code",
   "execution_count": 22,
   "id": "3feb817a-6280-48fa-bed6-3ab2fd9d060c",
   "metadata": {
    "tags": []
   },
   "outputs": [
    {
     "data": {
      "text/html": [
       "<table class=\"dataframe\">\n",
       "<caption>A tibble: 6 × 6</caption>\n",
       "<thead>\n",
       "\t<tr><th scope=col>날짜</th><th scope=col>장소</th><th scope=col>PM10</th><th scope=col>PM25</th><th scope=col>CO</th><th scope=col>O3</th></tr>\n",
       "\t<tr><th scope=col>&lt;dbl&gt;</th><th scope=col>&lt;chr&gt;</th><th scope=col>&lt;dbl&gt;</th><th scope=col>&lt;dbl&gt;</th><th scope=col>&lt;dbl&gt;</th><th scope=col>&lt;dbl&gt;</th></tr>\n",
       "</thead>\n",
       "<tbody>\n",
       "\t<tr><td>20230301</td><td>북한산</td><td>29</td><td>13</td><td>0.3</td><td>0.044</td></tr>\n",
       "\t<tr><td>20230302</td><td>북한산</td><td>55</td><td>10</td><td>0.3</td><td>0.042</td></tr>\n",
       "\t<tr><td>20230303</td><td>북한산</td><td>33</td><td>12</td><td>0.4</td><td>0.028</td></tr>\n",
       "\t<tr><td>20230304</td><td>북한산</td><td>77</td><td>49</td><td>0.4</td><td>0.050</td></tr>\n",
       "\t<tr><td>20230305</td><td>북한산</td><td>61</td><td>41</td><td>0.4</td><td>0.054</td></tr>\n",
       "\t<tr><td>20230306</td><td>북한산</td><td>50</td><td>31</td><td>0.3</td><td>0.054</td></tr>\n",
       "</tbody>\n",
       "</table>\n"
      ],
      "text/latex": [
       "A tibble: 6 × 6\n",
       "\\begin{tabular}{llllll}\n",
       " 날짜 & 장소 & PM10 & PM25 & CO & O3\\\\\n",
       " <dbl> & <chr> & <dbl> & <dbl> & <dbl> & <dbl>\\\\\n",
       "\\hline\n",
       "\t 20230301 & 북한산 & 29 & 13 & 0.3 & 0.044\\\\\n",
       "\t 20230302 & 북한산 & 55 & 10 & 0.3 & 0.042\\\\\n",
       "\t 20230303 & 북한산 & 33 & 12 & 0.4 & 0.028\\\\\n",
       "\t 20230304 & 북한산 & 77 & 49 & 0.4 & 0.050\\\\\n",
       "\t 20230305 & 북한산 & 61 & 41 & 0.4 & 0.054\\\\\n",
       "\t 20230306 & 북한산 & 50 & 31 & 0.3 & 0.054\\\\\n",
       "\\end{tabular}\n"
      ],
      "text/markdown": [
       "\n",
       "A tibble: 6 × 6\n",
       "\n",
       "| 날짜 &lt;dbl&gt; | 장소 &lt;chr&gt; | PM10 &lt;dbl&gt; | PM25 &lt;dbl&gt; | CO &lt;dbl&gt; | O3 &lt;dbl&gt; |\n",
       "|---|---|---|---|---|---|\n",
       "| 20230301 | 북한산 | 29 | 13 | 0.3 | 0.044 |\n",
       "| 20230302 | 북한산 | 55 | 10 | 0.3 | 0.042 |\n",
       "| 20230303 | 북한산 | 33 | 12 | 0.4 | 0.028 |\n",
       "| 20230304 | 북한산 | 77 | 49 | 0.4 | 0.050 |\n",
       "| 20230305 | 북한산 | 61 | 41 | 0.4 | 0.054 |\n",
       "| 20230306 | 북한산 | 50 | 31 | 0.3 | 0.054 |\n",
       "\n"
      ],
      "text/plain": [
       "  날짜     장소   PM10 PM25 CO  O3   \n",
       "1 20230301 북한산 29   13   0.3 0.044\n",
       "2 20230302 북한산 55   10   0.3 0.042\n",
       "3 20230303 북한산 33   12   0.4 0.028\n",
       "4 20230304 북한산 77   49   0.4 0.050\n",
       "5 20230305 북한산 61   41   0.4 0.054\n",
       "6 20230306 북한산 50   31   0.3 0.054"
      ]
     },
     "metadata": {},
     "output_type": "display_data"
    }
   ],
   "source": [
    "data <- read_xlsx(\"데이터과학-중간고사.xlsx\", sheet=6)\n",
    "result <- subset(data, data$장소=='북한산')\n",
    "\n",
    "head(result)"
   ]
  },
  {
   "cell_type": "markdown",
   "id": "d54165f2-9230-4d4a-a7f5-60830729ee41",
   "metadata": {
    "tags": []
   },
   "source": [
    "<hr>\n",
    "<h4>22.  [문제6] 북한산 지역의 미세먼지농도(PM10)에 대하여 다음 표를 구하여 출력하는 코드</h4>"
   ]
  },
  {
   "cell_type": "code",
   "execution_count": 23,
   "id": "1ff7cf0e-6a2a-4663-9a9a-ba5f206a96fb",
   "metadata": {
    "tags": []
   },
   "outputs": [
    {
     "data": {
      "text/plain": [
       "result\n",
       "   (0,30]   (30,80]  (80,150] (150,300]       Sum \n",
       "        2        25         3         1        31 "
      ]
     },
     "metadata": {},
     "output_type": "display_data"
    }
   ],
   "source": [
    "bins <- c(0,30,80,150,300)\n",
    "result <- cut(result$PM10, breaks=bins)\n",
    "result <- table(result)\n",
    "\n",
    "result <- addmargins(result)\n",
    "\n",
    "result"
   ]
  }
 ],
 "metadata": {
  "kernelspec": {
   "display_name": "R",
   "language": "R",
   "name": "ir"
  },
  "language_info": {
   "codemirror_mode": "r",
   "file_extension": ".r",
   "mimetype": "text/x-r-source",
   "name": "R",
   "pygments_lexer": "r",
   "version": "4.3.1"
  }
 },
 "nbformat": 4,
 "nbformat_minor": 5
}
