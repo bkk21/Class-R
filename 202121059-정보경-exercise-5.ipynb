{
 "cells": [
  {
   "cell_type": "markdown",
   "id": "2d752f2d-effe-445f-addf-6185086e0b5b",
   "metadata": {},
   "source": [
    "<h1>R 스스로 해보기 5</h1>\n",
    "<h3>2023년 11월 15일 (수)</h3>\n",
    "<hr>"
   ]
  },
  {
   "cell_type": "markdown",
   "id": "1785d37f-4d8e-4cae-85e7-fc4aa0ce6c6b",
   "metadata": {},
   "source": [
    "<h4>1. tapply()를 이용하여 기어(gear) 개수에 따른 qsec의 평균을 구하여 출력하는 코드</h4>"
   ]
  },
  {
   "cell_type": "code",
   "execution_count": 1,
   "id": "1d8c350e-c866-44a4-98b8-762397b924c4",
   "metadata": {
    "tags": []
   },
   "outputs": [
    {
     "name": "stdout",
     "output_type": "stream",
     "text": [
      "     3      4      5 \n",
      "17.692 18.965 15.640 \n"
     ]
    }
   ],
   "source": [
    "result <- tapply(mtcars$qsec, mtcars$gear, mean)\n",
    "\n",
    "print(result)"
   ]
  },
  {
   "cell_type": "markdown",
   "id": "96bd9486-cd04-4ff4-8e7a-0be413268da2",
   "metadata": {
    "tags": []
   },
   "source": [
    "<hr>\n",
    "<h4>2. 패키지 doBy의 summaryBy()를 이용하여 기어(gear) 개수에 따른 도수(빈도, length)와 qsec의 평균을 구하여 출력하는 코드</h4>"
   ]
  },
  {
   "cell_type": "code",
   "execution_count": 2,
   "id": "ef34bb56-dd98-4581-ba00-8c8a54a2e148",
   "metadata": {
    "tags": []
   },
   "outputs": [
    {
     "name": "stderr",
     "output_type": "stream",
     "text": [
      "\n",
      "Attaching package: ‘dplyr’\n",
      "\n",
      "\n",
      "The following object is masked from ‘package:doBy’:\n",
      "\n",
      "    order_by\n",
      "\n",
      "\n",
      "The following objects are masked from ‘package:stats’:\n",
      "\n",
      "    filter, lag\n",
      "\n",
      "\n",
      "The following objects are masked from ‘package:base’:\n",
      "\n",
      "    intersect, setdiff, setequal, union\n",
      "\n",
      "\n"
     ]
    },
    {
     "data": {
      "text/html": [
       "<table class=\"dataframe\">\n",
       "<caption>A data.frame: 3 × 3</caption>\n",
       "<thead>\n",
       "\t<tr><th></th><th scope=col>gear</th><th scope=col>qsec.length</th><th scope=col>qsec.mean</th></tr>\n",
       "\t<tr><th></th><th scope=col>&lt;dbl&gt;</th><th scope=col>&lt;dbl&gt;</th><th scope=col>&lt;dbl&gt;</th></tr>\n",
       "</thead>\n",
       "<tbody>\n",
       "\t<tr><th scope=row>1</th><td>3</td><td>15</td><td>17.692</td></tr>\n",
       "\t<tr><th scope=row>2</th><td>4</td><td>12</td><td>18.965</td></tr>\n",
       "\t<tr><th scope=row>3</th><td>5</td><td> 5</td><td>15.640</td></tr>\n",
       "</tbody>\n",
       "</table>\n"
      ],
      "text/latex": [
       "A data.frame: 3 × 3\n",
       "\\begin{tabular}{r|lll}\n",
       "  & gear & qsec.length & qsec.mean\\\\\n",
       "  & <dbl> & <dbl> & <dbl>\\\\\n",
       "\\hline\n",
       "\t1 & 3 & 15 & 17.692\\\\\n",
       "\t2 & 4 & 12 & 18.965\\\\\n",
       "\t3 & 5 &  5 & 15.640\\\\\n",
       "\\end{tabular}\n"
      ],
      "text/markdown": [
       "\n",
       "A data.frame: 3 × 3\n",
       "\n",
       "| <!--/--> | gear &lt;dbl&gt; | qsec.length &lt;dbl&gt; | qsec.mean &lt;dbl&gt; |\n",
       "|---|---|---|---|\n",
       "| 1 | 3 | 15 | 17.692 |\n",
       "| 2 | 4 | 12 | 18.965 |\n",
       "| 3 | 5 |  5 | 15.640 |\n",
       "\n"
      ],
      "text/plain": [
       "  gear qsec.length qsec.mean\n",
       "1 3    15          17.692   \n",
       "2 4    12          18.965   \n",
       "3 5     5          15.640   "
      ]
     },
     "metadata": {},
     "output_type": "display_data"
    }
   ],
   "source": [
    "library(doBy)\n",
    "library(dplyr)\n",
    "\n",
    "result <- summaryBy(qsec ~ gear, data = mtcars, FUN = c(length, mean))\n",
    "result"
   ]
  },
  {
   "cell_type": "markdown",
   "id": "fe694f41-4b45-4f7c-8c21-a43ad304430d",
   "metadata": {
    "tags": []
   },
   "source": [
    "<hr>\n",
    "<h4>3. 패키지 dplyr의 group_by와 summarise()를 이용하여 기어(gear) 개수에 따른 도수(빈도, n())와 qsec의 평균을 구하여 출력하는 코드</h4>"
   ]
  },
  {
   "cell_type": "code",
   "execution_count": 3,
   "id": "a5ea388a-c4ab-420c-9dd4-83a9ddba1423",
   "metadata": {
    "tags": []
   },
   "outputs": [
    {
     "data": {
      "text/html": [
       "<table class=\"dataframe\">\n",
       "<caption>A tibble: 3 × 3</caption>\n",
       "<thead>\n",
       "\t<tr><th scope=col>gear</th><th scope=col>freq</th><th scope=col>mean</th></tr>\n",
       "\t<tr><th scope=col>&lt;dbl&gt;</th><th scope=col>&lt;int&gt;</th><th scope=col>&lt;dbl&gt;</th></tr>\n",
       "</thead>\n",
       "<tbody>\n",
       "\t<tr><td>3</td><td>15</td><td>17.692</td></tr>\n",
       "\t<tr><td>4</td><td>12</td><td>18.965</td></tr>\n",
       "\t<tr><td>5</td><td> 5</td><td>15.640</td></tr>\n",
       "</tbody>\n",
       "</table>\n"
      ],
      "text/latex": [
       "A tibble: 3 × 3\n",
       "\\begin{tabular}{lll}\n",
       " gear & freq & mean\\\\\n",
       " <dbl> & <int> & <dbl>\\\\\n",
       "\\hline\n",
       "\t 3 & 15 & 17.692\\\\\n",
       "\t 4 & 12 & 18.965\\\\\n",
       "\t 5 &  5 & 15.640\\\\\n",
       "\\end{tabular}\n"
      ],
      "text/markdown": [
       "\n",
       "A tibble: 3 × 3\n",
       "\n",
       "| gear &lt;dbl&gt; | freq &lt;int&gt; | mean &lt;dbl&gt; |\n",
       "|---|---|---|\n",
       "| 3 | 15 | 17.692 |\n",
       "| 4 | 12 | 18.965 |\n",
       "| 5 |  5 | 15.640 |\n",
       "\n"
      ],
      "text/plain": [
       "  gear freq mean  \n",
       "1 3    15   17.692\n",
       "2 4    12   18.965\n",
       "3 5     5   15.640"
      ]
     },
     "metadata": {},
     "output_type": "display_data"
    }
   ],
   "source": [
    "# a. group_by()의 결과를 grp에 저장\n",
    "grp <- group_by(mtcars, gear)\n",
    "\n",
    "# b. summarise()를 이용하여 데이터의 개수(빈도)와 qsec의 평균을 구하고, 그 이름을 각각freq, mean으로 변경\n",
    "summarise(grp, freq = n(), mean = mean(qsec))"
   ]
  },
  {
   "cell_type": "markdown",
   "id": "7f473b2f-a0ae-4668-8faf-2d069603c750",
   "metadata": {
    "tags": []
   },
   "source": [
    "<hr>\n",
    "<h4>4. 위 3과 같은 결과를 파이프를 이용하여 출력하는 코드</h4>"
   ]
  },
  {
   "cell_type": "code",
   "execution_count": 4,
   "id": "67ad23e3-e9fb-43dc-a218-b6921a4a5366",
   "metadata": {
    "tags": []
   },
   "outputs": [
    {
     "data": {
      "text/html": [
       "<table class=\"dataframe\">\n",
       "<caption>A tibble: 3 × 3</caption>\n",
       "<thead>\n",
       "\t<tr><th scope=col>gear</th><th scope=col>freq</th><th scope=col>mean</th></tr>\n",
       "\t<tr><th scope=col>&lt;dbl&gt;</th><th scope=col>&lt;int&gt;</th><th scope=col>&lt;dbl&gt;</th></tr>\n",
       "</thead>\n",
       "<tbody>\n",
       "\t<tr><td>3</td><td>15</td><td>17.692</td></tr>\n",
       "\t<tr><td>4</td><td>12</td><td>18.965</td></tr>\n",
       "\t<tr><td>5</td><td> 5</td><td>15.640</td></tr>\n",
       "</tbody>\n",
       "</table>\n"
      ],
      "text/latex": [
       "A tibble: 3 × 3\n",
       "\\begin{tabular}{lll}\n",
       " gear & freq & mean\\\\\n",
       " <dbl> & <int> & <dbl>\\\\\n",
       "\\hline\n",
       "\t 3 & 15 & 17.692\\\\\n",
       "\t 4 & 12 & 18.965\\\\\n",
       "\t 5 &  5 & 15.640\\\\\n",
       "\\end{tabular}\n"
      ],
      "text/markdown": [
       "\n",
       "A tibble: 3 × 3\n",
       "\n",
       "| gear &lt;dbl&gt; | freq &lt;int&gt; | mean &lt;dbl&gt; |\n",
       "|---|---|---|\n",
       "| 3 | 15 | 17.692 |\n",
       "| 4 | 12 | 18.965 |\n",
       "| 5 |  5 | 15.640 |\n",
       "\n"
      ],
      "text/plain": [
       "  gear freq mean  \n",
       "1 3    15   17.692\n",
       "2 4    12   18.965\n",
       "3 5     5   15.640"
      ]
     },
     "metadata": {},
     "output_type": "display_data"
    }
   ],
   "source": [
    "mtcars %>% group_by(gear) %>% summarise(freq = n(), mean = mean(qsec))"
   ]
  },
  {
   "cell_type": "markdown",
   "id": "8882dc4c-15e9-426e-86ef-9bd5eb6c940d",
   "metadata": {
    "tags": []
   },
   "source": [
    "<hr>\n",
    "<h4>※ 데이터 파일 “2022년_도로교통공단_일자별 시군구별 교통사고 건수.csv”에 대하여 다음\n",
    "을 수행하시오.</h4>\n",
    "<hr>\n",
    "<h4>5. 다음과 같이 dplyr 패키지 함수를 이용하여 날짜를 년, 월, 일로 분리하고, 시도와 시\n",
    "군구를 합쳐서 지역 변수를 생성하는 코드.</h4>"
   ]
  },
  {
   "cell_type": "code",
   "execution_count": 5,
   "id": "46a41e5e-64bb-42cb-8686-560aa82b3d5f",
   "metadata": {
    "tags": []
   },
   "outputs": [
    {
     "data": {
      "text/html": [
       "<style>\n",
       ".list-inline {list-style: none; margin:0; padding: 0}\n",
       ".list-inline>li {display: inline-block}\n",
       ".list-inline>li:not(:last-child)::after {content: \"\\00b7\"; padding: 0 .5ex}\n",
       "</style>\n",
       "<ol class=list-inline><li>'202121059-정보경-exercise-5.ipynb'</li><li>'202121059-정보경-무작정 따라하기-5.ipynb'</li><li>'2022년_도로교통공단_일자별 시군구별 교통사고 건수.csv'</li><li>'2022년_서울_일별평균대기오염도_2022.csv'</li><li>'air_2021.xlsx'</li></ol>\n"
      ],
      "text/latex": [
       "\\begin{enumerate*}\n",
       "\\item '202121059-정보경-exercise-5.ipynb'\n",
       "\\item '202121059-정보경-무작정 따라하기-5.ipynb'\n",
       "\\item '2022년\\_도로교통공단\\_일자별 시군구별 교통사고 건수.csv'\n",
       "\\item '2022년\\_서울\\_일별평균대기오염도\\_2022.csv'\n",
       "\\item 'air\\_2021.xlsx'\n",
       "\\end{enumerate*}\n"
      ],
      "text/markdown": [
       "1. '202121059-정보경-exercise-5.ipynb'\n",
       "2. '202121059-정보경-무작정 따라하기-5.ipynb'\n",
       "3. '2022년_도로교통공단_일자별 시군구별 교통사고 건수.csv'\n",
       "4. '2022년_서울_일별평균대기오염도_2022.csv'\n",
       "5. 'air_2021.xlsx'\n",
       "\n",
       "\n"
      ],
      "text/plain": [
       "[1] \"202121059-정보경-exercise-5.ipynb\"                    \n",
       "[2] \"202121059-정보경-무작정 따라하기-5.ipynb\"             \n",
       "[3] \"2022년_도로교통공단_일자별 시군구별 교통사고 건수.csv\"\n",
       "[4] \"2022년_서울_일별평균대기오염도_2022.csv\"              \n",
       "[5] \"air_2021.xlsx\"                                        "
      ]
     },
     "metadata": {},
     "output_type": "display_data"
    }
   ],
   "source": [
    "list.files()"
   ]
  },
  {
   "cell_type": "code",
   "execution_count": 6,
   "id": "cb3d61cd-7ab0-4867-9869-1262ffe5a94b",
   "metadata": {
    "tags": []
   },
   "outputs": [
    {
     "data": {
      "text/html": [
       "<table class=\"dataframe\">\n",
       "<caption>A data.frame: 57729 × 8</caption>\n",
       "<thead>\n",
       "\t<tr><th scope=col>날짜</th><th scope=col>시도</th><th scope=col>시군구</th><th scope=col>사고건수</th><th scope=col>사망자수</th><th scope=col>중상자수</th><th scope=col>경상자수</th><th scope=col>부상신고자수</th></tr>\n",
       "\t<tr><th scope=col>&lt;int&gt;</th><th scope=col>&lt;chr&gt;</th><th scope=col>&lt;chr&gt;</th><th scope=col>&lt;int&gt;</th><th scope=col>&lt;int&gt;</th><th scope=col>&lt;int&gt;</th><th scope=col>&lt;int&gt;</th><th scope=col>&lt;int&gt;</th></tr>\n",
       "</thead>\n",
       "<tbody>\n",
       "\t<tr><td>20220101</td><td>서울</td><td>강남구  </td><td>9</td><td>0</td><td>1</td><td>14</td><td>0</td></tr>\n",
       "\t<tr><td>20220101</td><td>서울</td><td>용산구  </td><td>4</td><td>0</td><td>1</td><td> 3</td><td>0</td></tr>\n",
       "\t<tr><td>20220101</td><td>서울</td><td>성동구  </td><td>1</td><td>0</td><td>1</td><td> 0</td><td>0</td></tr>\n",
       "\t<tr><td>20220101</td><td>서울</td><td>동대문구</td><td>2</td><td>0</td><td>1</td><td> 1</td><td>0</td></tr>\n",
       "\t<tr><td>20220101</td><td>서울</td><td>도봉구  </td><td>5</td><td>0</td><td>4</td><td> 1</td><td>0</td></tr>\n",
       "\t<tr><td>20220101</td><td>서울</td><td>은평구  </td><td>3</td><td>0</td><td>1</td><td> 2</td><td>0</td></tr>\n",
       "\t<tr><td>20220101</td><td>서울</td><td>서대문구</td><td>1</td><td>0</td><td>1</td><td> 1</td><td>0</td></tr>\n",
       "\t<tr><td>20220101</td><td>서울</td><td>마포구  </td><td>2</td><td>0</td><td>1</td><td> 1</td><td>1</td></tr>\n",
       "\t<tr><td>20220102</td><td>서울</td><td>강남구  </td><td>3</td><td>0</td><td>0</td><td> 4</td><td>0</td></tr>\n",
       "\t<tr><td>20220101</td><td>서울</td><td>구로구  </td><td>2</td><td>0</td><td>1</td><td> 1</td><td>0</td></tr>\n",
       "\t<tr><td>20220101</td><td>서울</td><td>영등포구</td><td>3</td><td>0</td><td>0</td><td> 2</td><td>1</td></tr>\n",
       "\t<tr><td>20220101</td><td>서울</td><td>동작구  </td><td>2</td><td>0</td><td>1</td><td> 1</td><td>0</td></tr>\n",
       "\t<tr><td>20220101</td><td>서울</td><td>관악구  </td><td>3</td><td>0</td><td>0</td><td> 4</td><td>0</td></tr>\n",
       "\t<tr><td>20220103</td><td>서울</td><td>강남구  </td><td>9</td><td>0</td><td>1</td><td> 8</td><td>0</td></tr>\n",
       "\t<tr><td>20220101</td><td>서울</td><td>강동구  </td><td>2</td><td>0</td><td>0</td><td> 5</td><td>0</td></tr>\n",
       "\t<tr><td>20220101</td><td>서울</td><td>송파구  </td><td>7</td><td>0</td><td>4</td><td> 8</td><td>0</td></tr>\n",
       "\t<tr><td>20220101</td><td>서울</td><td>서초구  </td><td>2</td><td>0</td><td>1</td><td> 6</td><td>0</td></tr>\n",
       "\t<tr><td>20220101</td><td>서울</td><td>중랑구  </td><td>3</td><td>0</td><td>1</td><td> 4</td><td>0</td></tr>\n",
       "\t<tr><td>20220101</td><td>서울</td><td>노원구  </td><td>6</td><td>0</td><td>0</td><td> 8</td><td>3</td></tr>\n",
       "\t<tr><td>20220101</td><td>서울</td><td>강북구  </td><td>4</td><td>0</td><td>1</td><td> 4</td><td>1</td></tr>\n",
       "\t<tr><td>20220101</td><td>서울</td><td>금천구  </td><td>1</td><td>0</td><td>0</td><td> 0</td><td>1</td></tr>\n",
       "\t<tr><td>20220101</td><td>부산</td><td>영도구  </td><td>1</td><td>0</td><td>0</td><td> 2</td><td>0</td></tr>\n",
       "\t<tr><td>20220101</td><td>부산</td><td>부산진구</td><td>4</td><td>0</td><td>1</td><td> 3</td><td>0</td></tr>\n",
       "\t<tr><td>20220101</td><td>부산</td><td>동래구  </td><td>2</td><td>0</td><td>0</td><td> 3</td><td>0</td></tr>\n",
       "\t<tr><td>20220104</td><td>서울</td><td>강남구  </td><td>7</td><td>0</td><td>1</td><td> 5</td><td>2</td></tr>\n",
       "\t<tr><td>20220101</td><td>부산</td><td>해운대구</td><td>1</td><td>0</td><td>1</td><td> 2</td><td>0</td></tr>\n",
       "\t<tr><td>20220101</td><td>부산</td><td>사하구  </td><td>3</td><td>0</td><td>2</td><td> 1</td><td>0</td></tr>\n",
       "\t<tr><td>20220105</td><td>서울</td><td>강남구  </td><td>8</td><td>0</td><td>3</td><td> 6</td><td>0</td></tr>\n",
       "\t<tr><td>20220101</td><td>부산</td><td>수영구  </td><td>3</td><td>0</td><td>1</td><td> 2</td><td>0</td></tr>\n",
       "\t<tr><td>20220101</td><td>부산</td><td>사상구  </td><td>1</td><td>0</td><td>0</td><td> 1</td><td>0</td></tr>\n",
       "\t<tr><td>⋮</td><td>⋮</td><td>⋮</td><td>⋮</td><td>⋮</td><td>⋮</td><td>⋮</td><td>⋮</td></tr>\n",
       "\t<tr><td>20221231</td><td>경남</td><td>창원시(통합)</td><td>7</td><td>0</td><td>1</td><td>14</td><td>0</td></tr>\n",
       "\t<tr><td>20221231</td><td>제주</td><td>제주시      </td><td>9</td><td>0</td><td>1</td><td>13</td><td>0</td></tr>\n",
       "\t<tr><td>20221231</td><td>제주</td><td>서귀포시    </td><td>5</td><td>0</td><td>1</td><td> 3</td><td>1</td></tr>\n",
       "\t<tr><td>20221229</td><td>대구</td><td>중구        </td><td>3</td><td>0</td><td>0</td><td> 0</td><td>3</td></tr>\n",
       "\t<tr><td>20221229</td><td>인천</td><td>중구        </td><td>3</td><td>0</td><td>0</td><td> 2</td><td>1</td></tr>\n",
       "\t<tr><td>20221229</td><td>대전</td><td>중구        </td><td>4</td><td>0</td><td>0</td><td> 5</td><td>0</td></tr>\n",
       "\t<tr><td>20221229</td><td>울산</td><td>중구        </td><td>3</td><td>0</td><td>2</td><td> 2</td><td>0</td></tr>\n",
       "\t<tr><td>20221231</td><td>대구</td><td>수성구      </td><td>9</td><td>0</td><td>2</td><td>10</td><td>2</td></tr>\n",
       "\t<tr><td>20221231</td><td>대구</td><td>달서구      </td><td>2</td><td>0</td><td>0</td><td> 2</td><td>0</td></tr>\n",
       "\t<tr><td>20221231</td><td>인천</td><td>미추홀구    </td><td>6</td><td>0</td><td>1</td><td> 9</td><td>0</td></tr>\n",
       "\t<tr><td>20221231</td><td>인천</td><td>부평구      </td><td>6</td><td>0</td><td>2</td><td> 6</td><td>0</td></tr>\n",
       "\t<tr><td>20221231</td><td>인천</td><td>남동구      </td><td>5</td><td>0</td><td>0</td><td>13</td><td>0</td></tr>\n",
       "\t<tr><td>20221230</td><td>서울</td><td>중구        </td><td>6</td><td>0</td><td>0</td><td> 6</td><td>1</td></tr>\n",
       "\t<tr><td>20221231</td><td>인천</td><td>연수구      </td><td>5</td><td>0</td><td>0</td><td> 6</td><td>0</td></tr>\n",
       "\t<tr><td>20221231</td><td>인천</td><td>계양구      </td><td>2</td><td>0</td><td>0</td><td> 4</td><td>0</td></tr>\n",
       "\t<tr><td>20221230</td><td>부산</td><td>중구        </td><td>3</td><td>0</td><td>2</td><td> 9</td><td>0</td></tr>\n",
       "\t<tr><td>20221230</td><td>대구</td><td>중구        </td><td>3</td><td>0</td><td>0</td><td> 2</td><td>4</td></tr>\n",
       "\t<tr><td>20221230</td><td>인천</td><td>중구        </td><td>1</td><td>0</td><td>0</td><td> 1</td><td>0</td></tr>\n",
       "\t<tr><td>20221231</td><td>광주</td><td>광산구      </td><td>3</td><td>0</td><td>0</td><td> 6</td><td>0</td></tr>\n",
       "\t<tr><td>20221230</td><td>대전</td><td>중구        </td><td>4</td><td>0</td><td>0</td><td> 5</td><td>0</td></tr>\n",
       "\t<tr><td>20221230</td><td>울산</td><td>중구        </td><td>3</td><td>0</td><td>0</td><td> 3</td><td>0</td></tr>\n",
       "\t<tr><td>20221231</td><td>서울</td><td>중구        </td><td>2</td><td>0</td><td>0</td><td> 6</td><td>0</td></tr>\n",
       "\t<tr><td>20221231</td><td>부산</td><td>중구        </td><td>1</td><td>0</td><td>0</td><td> 1</td><td>0</td></tr>\n",
       "\t<tr><td>20221231</td><td>대전</td><td>유성구      </td><td>1</td><td>0</td><td>0</td><td> 1</td><td>1</td></tr>\n",
       "\t<tr><td>20221231</td><td>대전</td><td>대덕구      </td><td>4</td><td>0</td><td>2</td><td> 5</td><td>0</td></tr>\n",
       "\t<tr><td>20221231</td><td>대구</td><td>중구        </td><td>1</td><td>0</td><td>1</td><td> 0</td><td>0</td></tr>\n",
       "\t<tr><td>20221231</td><td>대전</td><td>중구        </td><td>8</td><td>0</td><td>4</td><td> 9</td><td>0</td></tr>\n",
       "\t<tr><td>20221231</td><td>울산</td><td>중구        </td><td>1</td><td>0</td><td>0</td><td> 1</td><td>0</td></tr>\n",
       "\t<tr><td>20221231</td><td>울산</td><td>울주군      </td><td>1</td><td>0</td><td>1</td><td> 2</td><td>0</td></tr>\n",
       "\t<tr><td>20221231</td><td>세종</td><td>세종시      </td><td>1</td><td>0</td><td>0</td><td> 2</td><td>0</td></tr>\n",
       "</tbody>\n",
       "</table>\n"
      ],
      "text/latex": [
       "A data.frame: 57729 × 8\n",
       "\\begin{tabular}{llllllll}\n",
       " 날짜 & 시도 & 시군구 & 사고건수 & 사망자수 & 중상자수 & 경상자수 & 부상신고자수\\\\\n",
       " <int> & <chr> & <chr> & <int> & <int> & <int> & <int> & <int>\\\\\n",
       "\\hline\n",
       "\t 20220101 & 서울 & 강남구   & 9 & 0 & 1 & 14 & 0\\\\\n",
       "\t 20220101 & 서울 & 용산구   & 4 & 0 & 1 &  3 & 0\\\\\n",
       "\t 20220101 & 서울 & 성동구   & 1 & 0 & 1 &  0 & 0\\\\\n",
       "\t 20220101 & 서울 & 동대문구 & 2 & 0 & 1 &  1 & 0\\\\\n",
       "\t 20220101 & 서울 & 도봉구   & 5 & 0 & 4 &  1 & 0\\\\\n",
       "\t 20220101 & 서울 & 은평구   & 3 & 0 & 1 &  2 & 0\\\\\n",
       "\t 20220101 & 서울 & 서대문구 & 1 & 0 & 1 &  1 & 0\\\\\n",
       "\t 20220101 & 서울 & 마포구   & 2 & 0 & 1 &  1 & 1\\\\\n",
       "\t 20220102 & 서울 & 강남구   & 3 & 0 & 0 &  4 & 0\\\\\n",
       "\t 20220101 & 서울 & 구로구   & 2 & 0 & 1 &  1 & 0\\\\\n",
       "\t 20220101 & 서울 & 영등포구 & 3 & 0 & 0 &  2 & 1\\\\\n",
       "\t 20220101 & 서울 & 동작구   & 2 & 0 & 1 &  1 & 0\\\\\n",
       "\t 20220101 & 서울 & 관악구   & 3 & 0 & 0 &  4 & 0\\\\\n",
       "\t 20220103 & 서울 & 강남구   & 9 & 0 & 1 &  8 & 0\\\\\n",
       "\t 20220101 & 서울 & 강동구   & 2 & 0 & 0 &  5 & 0\\\\\n",
       "\t 20220101 & 서울 & 송파구   & 7 & 0 & 4 &  8 & 0\\\\\n",
       "\t 20220101 & 서울 & 서초구   & 2 & 0 & 1 &  6 & 0\\\\\n",
       "\t 20220101 & 서울 & 중랑구   & 3 & 0 & 1 &  4 & 0\\\\\n",
       "\t 20220101 & 서울 & 노원구   & 6 & 0 & 0 &  8 & 3\\\\\n",
       "\t 20220101 & 서울 & 강북구   & 4 & 0 & 1 &  4 & 1\\\\\n",
       "\t 20220101 & 서울 & 금천구   & 1 & 0 & 0 &  0 & 1\\\\\n",
       "\t 20220101 & 부산 & 영도구   & 1 & 0 & 0 &  2 & 0\\\\\n",
       "\t 20220101 & 부산 & 부산진구 & 4 & 0 & 1 &  3 & 0\\\\\n",
       "\t 20220101 & 부산 & 동래구   & 2 & 0 & 0 &  3 & 0\\\\\n",
       "\t 20220104 & 서울 & 강남구   & 7 & 0 & 1 &  5 & 2\\\\\n",
       "\t 20220101 & 부산 & 해운대구 & 1 & 0 & 1 &  2 & 0\\\\\n",
       "\t 20220101 & 부산 & 사하구   & 3 & 0 & 2 &  1 & 0\\\\\n",
       "\t 20220105 & 서울 & 강남구   & 8 & 0 & 3 &  6 & 0\\\\\n",
       "\t 20220101 & 부산 & 수영구   & 3 & 0 & 1 &  2 & 0\\\\\n",
       "\t 20220101 & 부산 & 사상구   & 1 & 0 & 0 &  1 & 0\\\\\n",
       "\t ⋮ & ⋮ & ⋮ & ⋮ & ⋮ & ⋮ & ⋮ & ⋮\\\\\n",
       "\t 20221231 & 경남 & 창원시(통합) & 7 & 0 & 1 & 14 & 0\\\\\n",
       "\t 20221231 & 제주 & 제주시       & 9 & 0 & 1 & 13 & 0\\\\\n",
       "\t 20221231 & 제주 & 서귀포시     & 5 & 0 & 1 &  3 & 1\\\\\n",
       "\t 20221229 & 대구 & 중구         & 3 & 0 & 0 &  0 & 3\\\\\n",
       "\t 20221229 & 인천 & 중구         & 3 & 0 & 0 &  2 & 1\\\\\n",
       "\t 20221229 & 대전 & 중구         & 4 & 0 & 0 &  5 & 0\\\\\n",
       "\t 20221229 & 울산 & 중구         & 3 & 0 & 2 &  2 & 0\\\\\n",
       "\t 20221231 & 대구 & 수성구       & 9 & 0 & 2 & 10 & 2\\\\\n",
       "\t 20221231 & 대구 & 달서구       & 2 & 0 & 0 &  2 & 0\\\\\n",
       "\t 20221231 & 인천 & 미추홀구     & 6 & 0 & 1 &  9 & 0\\\\\n",
       "\t 20221231 & 인천 & 부평구       & 6 & 0 & 2 &  6 & 0\\\\\n",
       "\t 20221231 & 인천 & 남동구       & 5 & 0 & 0 & 13 & 0\\\\\n",
       "\t 20221230 & 서울 & 중구         & 6 & 0 & 0 &  6 & 1\\\\\n",
       "\t 20221231 & 인천 & 연수구       & 5 & 0 & 0 &  6 & 0\\\\\n",
       "\t 20221231 & 인천 & 계양구       & 2 & 0 & 0 &  4 & 0\\\\\n",
       "\t 20221230 & 부산 & 중구         & 3 & 0 & 2 &  9 & 0\\\\\n",
       "\t 20221230 & 대구 & 중구         & 3 & 0 & 0 &  2 & 4\\\\\n",
       "\t 20221230 & 인천 & 중구         & 1 & 0 & 0 &  1 & 0\\\\\n",
       "\t 20221231 & 광주 & 광산구       & 3 & 0 & 0 &  6 & 0\\\\\n",
       "\t 20221230 & 대전 & 중구         & 4 & 0 & 0 &  5 & 0\\\\\n",
       "\t 20221230 & 울산 & 중구         & 3 & 0 & 0 &  3 & 0\\\\\n",
       "\t 20221231 & 서울 & 중구         & 2 & 0 & 0 &  6 & 0\\\\\n",
       "\t 20221231 & 부산 & 중구         & 1 & 0 & 0 &  1 & 0\\\\\n",
       "\t 20221231 & 대전 & 유성구       & 1 & 0 & 0 &  1 & 1\\\\\n",
       "\t 20221231 & 대전 & 대덕구       & 4 & 0 & 2 &  5 & 0\\\\\n",
       "\t 20221231 & 대구 & 중구         & 1 & 0 & 1 &  0 & 0\\\\\n",
       "\t 20221231 & 대전 & 중구         & 8 & 0 & 4 &  9 & 0\\\\\n",
       "\t 20221231 & 울산 & 중구         & 1 & 0 & 0 &  1 & 0\\\\\n",
       "\t 20221231 & 울산 & 울주군       & 1 & 0 & 1 &  2 & 0\\\\\n",
       "\t 20221231 & 세종 & 세종시       & 1 & 0 & 0 &  2 & 0\\\\\n",
       "\\end{tabular}\n"
      ],
      "text/markdown": [
       "\n",
       "A data.frame: 57729 × 8\n",
       "\n",
       "| 날짜 &lt;int&gt; | 시도 &lt;chr&gt; | 시군구 &lt;chr&gt; | 사고건수 &lt;int&gt; | 사망자수 &lt;int&gt; | 중상자수 &lt;int&gt; | 경상자수 &lt;int&gt; | 부상신고자수 &lt;int&gt; |\n",
       "|---|---|---|---|---|---|---|---|\n",
       "| 20220101 | 서울 | 강남구   | 9 | 0 | 1 | 14 | 0 |\n",
       "| 20220101 | 서울 | 용산구   | 4 | 0 | 1 |  3 | 0 |\n",
       "| 20220101 | 서울 | 성동구   | 1 | 0 | 1 |  0 | 0 |\n",
       "| 20220101 | 서울 | 동대문구 | 2 | 0 | 1 |  1 | 0 |\n",
       "| 20220101 | 서울 | 도봉구   | 5 | 0 | 4 |  1 | 0 |\n",
       "| 20220101 | 서울 | 은평구   | 3 | 0 | 1 |  2 | 0 |\n",
       "| 20220101 | 서울 | 서대문구 | 1 | 0 | 1 |  1 | 0 |\n",
       "| 20220101 | 서울 | 마포구   | 2 | 0 | 1 |  1 | 1 |\n",
       "| 20220102 | 서울 | 강남구   | 3 | 0 | 0 |  4 | 0 |\n",
       "| 20220101 | 서울 | 구로구   | 2 | 0 | 1 |  1 | 0 |\n",
       "| 20220101 | 서울 | 영등포구 | 3 | 0 | 0 |  2 | 1 |\n",
       "| 20220101 | 서울 | 동작구   | 2 | 0 | 1 |  1 | 0 |\n",
       "| 20220101 | 서울 | 관악구   | 3 | 0 | 0 |  4 | 0 |\n",
       "| 20220103 | 서울 | 강남구   | 9 | 0 | 1 |  8 | 0 |\n",
       "| 20220101 | 서울 | 강동구   | 2 | 0 | 0 |  5 | 0 |\n",
       "| 20220101 | 서울 | 송파구   | 7 | 0 | 4 |  8 | 0 |\n",
       "| 20220101 | 서울 | 서초구   | 2 | 0 | 1 |  6 | 0 |\n",
       "| 20220101 | 서울 | 중랑구   | 3 | 0 | 1 |  4 | 0 |\n",
       "| 20220101 | 서울 | 노원구   | 6 | 0 | 0 |  8 | 3 |\n",
       "| 20220101 | 서울 | 강북구   | 4 | 0 | 1 |  4 | 1 |\n",
       "| 20220101 | 서울 | 금천구   | 1 | 0 | 0 |  0 | 1 |\n",
       "| 20220101 | 부산 | 영도구   | 1 | 0 | 0 |  2 | 0 |\n",
       "| 20220101 | 부산 | 부산진구 | 4 | 0 | 1 |  3 | 0 |\n",
       "| 20220101 | 부산 | 동래구   | 2 | 0 | 0 |  3 | 0 |\n",
       "| 20220104 | 서울 | 강남구   | 7 | 0 | 1 |  5 | 2 |\n",
       "| 20220101 | 부산 | 해운대구 | 1 | 0 | 1 |  2 | 0 |\n",
       "| 20220101 | 부산 | 사하구   | 3 | 0 | 2 |  1 | 0 |\n",
       "| 20220105 | 서울 | 강남구   | 8 | 0 | 3 |  6 | 0 |\n",
       "| 20220101 | 부산 | 수영구   | 3 | 0 | 1 |  2 | 0 |\n",
       "| 20220101 | 부산 | 사상구   | 1 | 0 | 0 |  1 | 0 |\n",
       "| ⋮ | ⋮ | ⋮ | ⋮ | ⋮ | ⋮ | ⋮ | ⋮ |\n",
       "| 20221231 | 경남 | 창원시(통합) | 7 | 0 | 1 | 14 | 0 |\n",
       "| 20221231 | 제주 | 제주시       | 9 | 0 | 1 | 13 | 0 |\n",
       "| 20221231 | 제주 | 서귀포시     | 5 | 0 | 1 |  3 | 1 |\n",
       "| 20221229 | 대구 | 중구         | 3 | 0 | 0 |  0 | 3 |\n",
       "| 20221229 | 인천 | 중구         | 3 | 0 | 0 |  2 | 1 |\n",
       "| 20221229 | 대전 | 중구         | 4 | 0 | 0 |  5 | 0 |\n",
       "| 20221229 | 울산 | 중구         | 3 | 0 | 2 |  2 | 0 |\n",
       "| 20221231 | 대구 | 수성구       | 9 | 0 | 2 | 10 | 2 |\n",
       "| 20221231 | 대구 | 달서구       | 2 | 0 | 0 |  2 | 0 |\n",
       "| 20221231 | 인천 | 미추홀구     | 6 | 0 | 1 |  9 | 0 |\n",
       "| 20221231 | 인천 | 부평구       | 6 | 0 | 2 |  6 | 0 |\n",
       "| 20221231 | 인천 | 남동구       | 5 | 0 | 0 | 13 | 0 |\n",
       "| 20221230 | 서울 | 중구         | 6 | 0 | 0 |  6 | 1 |\n",
       "| 20221231 | 인천 | 연수구       | 5 | 0 | 0 |  6 | 0 |\n",
       "| 20221231 | 인천 | 계양구       | 2 | 0 | 0 |  4 | 0 |\n",
       "| 20221230 | 부산 | 중구         | 3 | 0 | 2 |  9 | 0 |\n",
       "| 20221230 | 대구 | 중구         | 3 | 0 | 0 |  2 | 4 |\n",
       "| 20221230 | 인천 | 중구         | 1 | 0 | 0 |  1 | 0 |\n",
       "| 20221231 | 광주 | 광산구       | 3 | 0 | 0 |  6 | 0 |\n",
       "| 20221230 | 대전 | 중구         | 4 | 0 | 0 |  5 | 0 |\n",
       "| 20221230 | 울산 | 중구         | 3 | 0 | 0 |  3 | 0 |\n",
       "| 20221231 | 서울 | 중구         | 2 | 0 | 0 |  6 | 0 |\n",
       "| 20221231 | 부산 | 중구         | 1 | 0 | 0 |  1 | 0 |\n",
       "| 20221231 | 대전 | 유성구       | 1 | 0 | 0 |  1 | 1 |\n",
       "| 20221231 | 대전 | 대덕구       | 4 | 0 | 2 |  5 | 0 |\n",
       "| 20221231 | 대구 | 중구         | 1 | 0 | 1 |  0 | 0 |\n",
       "| 20221231 | 대전 | 중구         | 8 | 0 | 4 |  9 | 0 |\n",
       "| 20221231 | 울산 | 중구         | 1 | 0 | 0 |  1 | 0 |\n",
       "| 20221231 | 울산 | 울주군       | 1 | 0 | 1 |  2 | 0 |\n",
       "| 20221231 | 세종 | 세종시       | 1 | 0 | 0 |  2 | 0 |\n",
       "\n"
      ],
      "text/plain": [
       "      날짜     시도 시군구       사고건수 사망자수 중상자수 경상자수\n",
       "1     20220101 서울 강남구       9        0        1        14      \n",
       "2     20220101 서울 용산구       4        0        1         3      \n",
       "3     20220101 서울 성동구       1        0        1         0      \n",
       "4     20220101 서울 동대문구     2        0        1         1      \n",
       "5     20220101 서울 도봉구       5        0        4         1      \n",
       "6     20220101 서울 은평구       3        0        1         2      \n",
       "7     20220101 서울 서대문구     1        0        1         1      \n",
       "8     20220101 서울 마포구       2        0        1         1      \n",
       "9     20220102 서울 강남구       3        0        0         4      \n",
       "10    20220101 서울 구로구       2        0        1         1      \n",
       "11    20220101 서울 영등포구     3        0        0         2      \n",
       "12    20220101 서울 동작구       2        0        1         1      \n",
       "13    20220101 서울 관악구       3        0        0         4      \n",
       "14    20220103 서울 강남구       9        0        1         8      \n",
       "15    20220101 서울 강동구       2        0        0         5      \n",
       "16    20220101 서울 송파구       7        0        4         8      \n",
       "17    20220101 서울 서초구       2        0        1         6      \n",
       "18    20220101 서울 중랑구       3        0        1         4      \n",
       "19    20220101 서울 노원구       6        0        0         8      \n",
       "20    20220101 서울 강북구       4        0        1         4      \n",
       "21    20220101 서울 금천구       1        0        0         0      \n",
       "22    20220101 부산 영도구       1        0        0         2      \n",
       "23    20220101 부산 부산진구     4        0        1         3      \n",
       "24    20220101 부산 동래구       2        0        0         3      \n",
       "25    20220104 서울 강남구       7        0        1         5      \n",
       "26    20220101 부산 해운대구     1        0        1         2      \n",
       "27    20220101 부산 사하구       3        0        2         1      \n",
       "28    20220105 서울 강남구       8        0        3         6      \n",
       "29    20220101 부산 수영구       3        0        1         2      \n",
       "30    20220101 부산 사상구       1        0        0         1      \n",
       "⋮     ⋮        ⋮    ⋮            ⋮        ⋮        ⋮        ⋮       \n",
       "57700 20221231 경남 창원시(통합) 7        0        1        14      \n",
       "57701 20221231 제주 제주시       9        0        1        13      \n",
       "57702 20221231 제주 서귀포시     5        0        1         3      \n",
       "57703 20221229 대구 중구         3        0        0         0      \n",
       "57704 20221229 인천 중구         3        0        0         2      \n",
       "57705 20221229 대전 중구         4        0        0         5      \n",
       "57706 20221229 울산 중구         3        0        2         2      \n",
       "57707 20221231 대구 수성구       9        0        2        10      \n",
       "57708 20221231 대구 달서구       2        0        0         2      \n",
       "57709 20221231 인천 미추홀구     6        0        1         9      \n",
       "57710 20221231 인천 부평구       6        0        2         6      \n",
       "57711 20221231 인천 남동구       5        0        0        13      \n",
       "57712 20221230 서울 중구         6        0        0         6      \n",
       "57713 20221231 인천 연수구       5        0        0         6      \n",
       "57714 20221231 인천 계양구       2        0        0         4      \n",
       "57715 20221230 부산 중구         3        0        2         9      \n",
       "57716 20221230 대구 중구         3        0        0         2      \n",
       "57717 20221230 인천 중구         1        0        0         1      \n",
       "57718 20221231 광주 광산구       3        0        0         6      \n",
       "57719 20221230 대전 중구         4        0        0         5      \n",
       "57720 20221230 울산 중구         3        0        0         3      \n",
       "57721 20221231 서울 중구         2        0        0         6      \n",
       "57722 20221231 부산 중구         1        0        0         1      \n",
       "57723 20221231 대전 유성구       1        0        0         1      \n",
       "57724 20221231 대전 대덕구       4        0        2         5      \n",
       "57725 20221231 대구 중구         1        0        1         0      \n",
       "57726 20221231 대전 중구         8        0        4         9      \n",
       "57727 20221231 울산 중구         1        0        0         1      \n",
       "57728 20221231 울산 울주군       1        0        1         2      \n",
       "57729 20221231 세종 세종시       1        0        0         2      \n",
       "      부상신고자수\n",
       "1     0           \n",
       "2     0           \n",
       "3     0           \n",
       "4     0           \n",
       "5     0           \n",
       "6     0           \n",
       "7     0           \n",
       "8     1           \n",
       "9     0           \n",
       "10    0           \n",
       "11    1           \n",
       "12    0           \n",
       "13    0           \n",
       "14    0           \n",
       "15    0           \n",
       "16    0           \n",
       "17    0           \n",
       "18    0           \n",
       "19    3           \n",
       "20    1           \n",
       "21    1           \n",
       "22    0           \n",
       "23    0           \n",
       "24    0           \n",
       "25    2           \n",
       "26    0           \n",
       "27    0           \n",
       "28    0           \n",
       "29    0           \n",
       "30    0           \n",
       "⋮     ⋮           \n",
       "57700 0           \n",
       "57701 0           \n",
       "57702 1           \n",
       "57703 3           \n",
       "57704 1           \n",
       "57705 0           \n",
       "57706 0           \n",
       "57707 2           \n",
       "57708 0           \n",
       "57709 0           \n",
       "57710 0           \n",
       "57711 0           \n",
       "57712 1           \n",
       "57713 0           \n",
       "57714 0           \n",
       "57715 0           \n",
       "57716 4           \n",
       "57717 0           \n",
       "57718 0           \n",
       "57719 0           \n",
       "57720 0           \n",
       "57721 0           \n",
       "57722 0           \n",
       "57723 1           \n",
       "57724 0           \n",
       "57725 0           \n",
       "57726 0           \n",
       "57727 0           \n",
       "57728 0           \n",
       "57729 0           "
      ]
     },
     "metadata": {},
     "output_type": "display_data"
    }
   ],
   "source": [
    "data <- read.csv(\"2022년_도로교통공단_일자별 시군구별 교통사고 건수.csv\")\n",
    "data"
   ]
  },
  {
   "cell_type": "code",
   "execution_count": 7,
   "id": "0251c41a-1901-4f61-97ef-f6df16ed4223",
   "metadata": {
    "tags": []
   },
   "outputs": [
    {
     "data": {
      "text/html": [
       "<table class=\"dataframe\">\n",
       "<caption>A data.frame: 57729 × 11</caption>\n",
       "<thead>\n",
       "\t<tr><th scope=col>시도</th><th scope=col>시군구</th><th scope=col>지역</th><th scope=col>년</th><th scope=col>월</th><th scope=col>일</th><th scope=col>사고건수</th><th scope=col>사망자수</th><th scope=col>중상자수</th><th scope=col>경상자수</th><th scope=col>부상신고자수</th></tr>\n",
       "\t<tr><th scope=col>&lt;chr&gt;</th><th scope=col>&lt;chr&gt;</th><th scope=col>&lt;chr&gt;</th><th scope=col>&lt;chr&gt;</th><th scope=col>&lt;chr&gt;</th><th scope=col>&lt;chr&gt;</th><th scope=col>&lt;int&gt;</th><th scope=col>&lt;int&gt;</th><th scope=col>&lt;int&gt;</th><th scope=col>&lt;int&gt;</th><th scope=col>&lt;int&gt;</th></tr>\n",
       "</thead>\n",
       "<tbody>\n",
       "\t<tr><td>서울</td><td>강남구  </td><td>서울 강남구  </td><td>2022</td><td>01</td><td>01</td><td>9</td><td>0</td><td>1</td><td>14</td><td>0</td></tr>\n",
       "\t<tr><td>서울</td><td>용산구  </td><td>서울 용산구  </td><td>2022</td><td>01</td><td>01</td><td>4</td><td>0</td><td>1</td><td> 3</td><td>0</td></tr>\n",
       "\t<tr><td>서울</td><td>성동구  </td><td>서울 성동구  </td><td>2022</td><td>01</td><td>01</td><td>1</td><td>0</td><td>1</td><td> 0</td><td>0</td></tr>\n",
       "\t<tr><td>서울</td><td>동대문구</td><td>서울 동대문구</td><td>2022</td><td>01</td><td>01</td><td>2</td><td>0</td><td>1</td><td> 1</td><td>0</td></tr>\n",
       "\t<tr><td>서울</td><td>도봉구  </td><td>서울 도봉구  </td><td>2022</td><td>01</td><td>01</td><td>5</td><td>0</td><td>4</td><td> 1</td><td>0</td></tr>\n",
       "\t<tr><td>서울</td><td>은평구  </td><td>서울 은평구  </td><td>2022</td><td>01</td><td>01</td><td>3</td><td>0</td><td>1</td><td> 2</td><td>0</td></tr>\n",
       "\t<tr><td>서울</td><td>서대문구</td><td>서울 서대문구</td><td>2022</td><td>01</td><td>01</td><td>1</td><td>0</td><td>1</td><td> 1</td><td>0</td></tr>\n",
       "\t<tr><td>서울</td><td>마포구  </td><td>서울 마포구  </td><td>2022</td><td>01</td><td>01</td><td>2</td><td>0</td><td>1</td><td> 1</td><td>1</td></tr>\n",
       "\t<tr><td>서울</td><td>강남구  </td><td>서울 강남구  </td><td>2022</td><td>01</td><td>02</td><td>3</td><td>0</td><td>0</td><td> 4</td><td>0</td></tr>\n",
       "\t<tr><td>서울</td><td>구로구  </td><td>서울 구로구  </td><td>2022</td><td>01</td><td>01</td><td>2</td><td>0</td><td>1</td><td> 1</td><td>0</td></tr>\n",
       "\t<tr><td>서울</td><td>영등포구</td><td>서울 영등포구</td><td>2022</td><td>01</td><td>01</td><td>3</td><td>0</td><td>0</td><td> 2</td><td>1</td></tr>\n",
       "\t<tr><td>서울</td><td>동작구  </td><td>서울 동작구  </td><td>2022</td><td>01</td><td>01</td><td>2</td><td>0</td><td>1</td><td> 1</td><td>0</td></tr>\n",
       "\t<tr><td>서울</td><td>관악구  </td><td>서울 관악구  </td><td>2022</td><td>01</td><td>01</td><td>3</td><td>0</td><td>0</td><td> 4</td><td>0</td></tr>\n",
       "\t<tr><td>서울</td><td>강남구  </td><td>서울 강남구  </td><td>2022</td><td>01</td><td>03</td><td>9</td><td>0</td><td>1</td><td> 8</td><td>0</td></tr>\n",
       "\t<tr><td>서울</td><td>강동구  </td><td>서울 강동구  </td><td>2022</td><td>01</td><td>01</td><td>2</td><td>0</td><td>0</td><td> 5</td><td>0</td></tr>\n",
       "\t<tr><td>서울</td><td>송파구  </td><td>서울 송파구  </td><td>2022</td><td>01</td><td>01</td><td>7</td><td>0</td><td>4</td><td> 8</td><td>0</td></tr>\n",
       "\t<tr><td>서울</td><td>서초구  </td><td>서울 서초구  </td><td>2022</td><td>01</td><td>01</td><td>2</td><td>0</td><td>1</td><td> 6</td><td>0</td></tr>\n",
       "\t<tr><td>서울</td><td>중랑구  </td><td>서울 중랑구  </td><td>2022</td><td>01</td><td>01</td><td>3</td><td>0</td><td>1</td><td> 4</td><td>0</td></tr>\n",
       "\t<tr><td>서울</td><td>노원구  </td><td>서울 노원구  </td><td>2022</td><td>01</td><td>01</td><td>6</td><td>0</td><td>0</td><td> 8</td><td>3</td></tr>\n",
       "\t<tr><td>서울</td><td>강북구  </td><td>서울 강북구  </td><td>2022</td><td>01</td><td>01</td><td>4</td><td>0</td><td>1</td><td> 4</td><td>1</td></tr>\n",
       "\t<tr><td>서울</td><td>금천구  </td><td>서울 금천구  </td><td>2022</td><td>01</td><td>01</td><td>1</td><td>0</td><td>0</td><td> 0</td><td>1</td></tr>\n",
       "\t<tr><td>부산</td><td>영도구  </td><td>부산 영도구  </td><td>2022</td><td>01</td><td>01</td><td>1</td><td>0</td><td>0</td><td> 2</td><td>0</td></tr>\n",
       "\t<tr><td>부산</td><td>부산진구</td><td>부산 부산진구</td><td>2022</td><td>01</td><td>01</td><td>4</td><td>0</td><td>1</td><td> 3</td><td>0</td></tr>\n",
       "\t<tr><td>부산</td><td>동래구  </td><td>부산 동래구  </td><td>2022</td><td>01</td><td>01</td><td>2</td><td>0</td><td>0</td><td> 3</td><td>0</td></tr>\n",
       "\t<tr><td>서울</td><td>강남구  </td><td>서울 강남구  </td><td>2022</td><td>01</td><td>04</td><td>7</td><td>0</td><td>1</td><td> 5</td><td>2</td></tr>\n",
       "\t<tr><td>부산</td><td>해운대구</td><td>부산 해운대구</td><td>2022</td><td>01</td><td>01</td><td>1</td><td>0</td><td>1</td><td> 2</td><td>0</td></tr>\n",
       "\t<tr><td>부산</td><td>사하구  </td><td>부산 사하구  </td><td>2022</td><td>01</td><td>01</td><td>3</td><td>0</td><td>2</td><td> 1</td><td>0</td></tr>\n",
       "\t<tr><td>서울</td><td>강남구  </td><td>서울 강남구  </td><td>2022</td><td>01</td><td>05</td><td>8</td><td>0</td><td>3</td><td> 6</td><td>0</td></tr>\n",
       "\t<tr><td>부산</td><td>수영구  </td><td>부산 수영구  </td><td>2022</td><td>01</td><td>01</td><td>3</td><td>0</td><td>1</td><td> 2</td><td>0</td></tr>\n",
       "\t<tr><td>부산</td><td>사상구  </td><td>부산 사상구  </td><td>2022</td><td>01</td><td>01</td><td>1</td><td>0</td><td>0</td><td> 1</td><td>0</td></tr>\n",
       "\t<tr><td>⋮</td><td>⋮</td><td>⋮</td><td>⋮</td><td>⋮</td><td>⋮</td><td>⋮</td><td>⋮</td><td>⋮</td><td>⋮</td><td>⋮</td></tr>\n",
       "\t<tr><td>경남</td><td>창원시(통합)</td><td>경남 창원시(통합)</td><td>2022</td><td>12</td><td>31</td><td>7</td><td>0</td><td>1</td><td>14</td><td>0</td></tr>\n",
       "\t<tr><td>제주</td><td>제주시      </td><td>제주 제주시      </td><td>2022</td><td>12</td><td>31</td><td>9</td><td>0</td><td>1</td><td>13</td><td>0</td></tr>\n",
       "\t<tr><td>제주</td><td>서귀포시    </td><td>제주 서귀포시    </td><td>2022</td><td>12</td><td>31</td><td>5</td><td>0</td><td>1</td><td> 3</td><td>1</td></tr>\n",
       "\t<tr><td>대구</td><td>중구        </td><td>대구 중구        </td><td>2022</td><td>12</td><td>29</td><td>3</td><td>0</td><td>0</td><td> 0</td><td>3</td></tr>\n",
       "\t<tr><td>인천</td><td>중구        </td><td>인천 중구        </td><td>2022</td><td>12</td><td>29</td><td>3</td><td>0</td><td>0</td><td> 2</td><td>1</td></tr>\n",
       "\t<tr><td>대전</td><td>중구        </td><td>대전 중구        </td><td>2022</td><td>12</td><td>29</td><td>4</td><td>0</td><td>0</td><td> 5</td><td>0</td></tr>\n",
       "\t<tr><td>울산</td><td>중구        </td><td>울산 중구        </td><td>2022</td><td>12</td><td>29</td><td>3</td><td>0</td><td>2</td><td> 2</td><td>0</td></tr>\n",
       "\t<tr><td>대구</td><td>수성구      </td><td>대구 수성구      </td><td>2022</td><td>12</td><td>31</td><td>9</td><td>0</td><td>2</td><td>10</td><td>2</td></tr>\n",
       "\t<tr><td>대구</td><td>달서구      </td><td>대구 달서구      </td><td>2022</td><td>12</td><td>31</td><td>2</td><td>0</td><td>0</td><td> 2</td><td>0</td></tr>\n",
       "\t<tr><td>인천</td><td>미추홀구    </td><td>인천 미추홀구    </td><td>2022</td><td>12</td><td>31</td><td>6</td><td>0</td><td>1</td><td> 9</td><td>0</td></tr>\n",
       "\t<tr><td>인천</td><td>부평구      </td><td>인천 부평구      </td><td>2022</td><td>12</td><td>31</td><td>6</td><td>0</td><td>2</td><td> 6</td><td>0</td></tr>\n",
       "\t<tr><td>인천</td><td>남동구      </td><td>인천 남동구      </td><td>2022</td><td>12</td><td>31</td><td>5</td><td>0</td><td>0</td><td>13</td><td>0</td></tr>\n",
       "\t<tr><td>서울</td><td>중구        </td><td>서울 중구        </td><td>2022</td><td>12</td><td>30</td><td>6</td><td>0</td><td>0</td><td> 6</td><td>1</td></tr>\n",
       "\t<tr><td>인천</td><td>연수구      </td><td>인천 연수구      </td><td>2022</td><td>12</td><td>31</td><td>5</td><td>0</td><td>0</td><td> 6</td><td>0</td></tr>\n",
       "\t<tr><td>인천</td><td>계양구      </td><td>인천 계양구      </td><td>2022</td><td>12</td><td>31</td><td>2</td><td>0</td><td>0</td><td> 4</td><td>0</td></tr>\n",
       "\t<tr><td>부산</td><td>중구        </td><td>부산 중구        </td><td>2022</td><td>12</td><td>30</td><td>3</td><td>0</td><td>2</td><td> 9</td><td>0</td></tr>\n",
       "\t<tr><td>대구</td><td>중구        </td><td>대구 중구        </td><td>2022</td><td>12</td><td>30</td><td>3</td><td>0</td><td>0</td><td> 2</td><td>4</td></tr>\n",
       "\t<tr><td>인천</td><td>중구        </td><td>인천 중구        </td><td>2022</td><td>12</td><td>30</td><td>1</td><td>0</td><td>0</td><td> 1</td><td>0</td></tr>\n",
       "\t<tr><td>광주</td><td>광산구      </td><td>광주 광산구      </td><td>2022</td><td>12</td><td>31</td><td>3</td><td>0</td><td>0</td><td> 6</td><td>0</td></tr>\n",
       "\t<tr><td>대전</td><td>중구        </td><td>대전 중구        </td><td>2022</td><td>12</td><td>30</td><td>4</td><td>0</td><td>0</td><td> 5</td><td>0</td></tr>\n",
       "\t<tr><td>울산</td><td>중구        </td><td>울산 중구        </td><td>2022</td><td>12</td><td>30</td><td>3</td><td>0</td><td>0</td><td> 3</td><td>0</td></tr>\n",
       "\t<tr><td>서울</td><td>중구        </td><td>서울 중구        </td><td>2022</td><td>12</td><td>31</td><td>2</td><td>0</td><td>0</td><td> 6</td><td>0</td></tr>\n",
       "\t<tr><td>부산</td><td>중구        </td><td>부산 중구        </td><td>2022</td><td>12</td><td>31</td><td>1</td><td>0</td><td>0</td><td> 1</td><td>0</td></tr>\n",
       "\t<tr><td>대전</td><td>유성구      </td><td>대전 유성구      </td><td>2022</td><td>12</td><td>31</td><td>1</td><td>0</td><td>0</td><td> 1</td><td>1</td></tr>\n",
       "\t<tr><td>대전</td><td>대덕구      </td><td>대전 대덕구      </td><td>2022</td><td>12</td><td>31</td><td>4</td><td>0</td><td>2</td><td> 5</td><td>0</td></tr>\n",
       "\t<tr><td>대구</td><td>중구        </td><td>대구 중구        </td><td>2022</td><td>12</td><td>31</td><td>1</td><td>0</td><td>1</td><td> 0</td><td>0</td></tr>\n",
       "\t<tr><td>대전</td><td>중구        </td><td>대전 중구        </td><td>2022</td><td>12</td><td>31</td><td>8</td><td>0</td><td>4</td><td> 9</td><td>0</td></tr>\n",
       "\t<tr><td>울산</td><td>중구        </td><td>울산 중구        </td><td>2022</td><td>12</td><td>31</td><td>1</td><td>0</td><td>0</td><td> 1</td><td>0</td></tr>\n",
       "\t<tr><td>울산</td><td>울주군      </td><td>울산 울주군      </td><td>2022</td><td>12</td><td>31</td><td>1</td><td>0</td><td>1</td><td> 2</td><td>0</td></tr>\n",
       "\t<tr><td>세종</td><td>세종시      </td><td>세종 세종시      </td><td>2022</td><td>12</td><td>31</td><td>1</td><td>0</td><td>0</td><td> 2</td><td>0</td></tr>\n",
       "</tbody>\n",
       "</table>\n"
      ],
      "text/latex": [
       "A data.frame: 57729 × 11\n",
       "\\begin{tabular}{lllllllllll}\n",
       " 시도 & 시군구 & 지역 & 년 & 월 & 일 & 사고건수 & 사망자수 & 중상자수 & 경상자수 & 부상신고자수\\\\\n",
       " <chr> & <chr> & <chr> & <chr> & <chr> & <chr> & <int> & <int> & <int> & <int> & <int>\\\\\n",
       "\\hline\n",
       "\t 서울 & 강남구   & 서울 강남구   & 2022 & 01 & 01 & 9 & 0 & 1 & 14 & 0\\\\\n",
       "\t 서울 & 용산구   & 서울 용산구   & 2022 & 01 & 01 & 4 & 0 & 1 &  3 & 0\\\\\n",
       "\t 서울 & 성동구   & 서울 성동구   & 2022 & 01 & 01 & 1 & 0 & 1 &  0 & 0\\\\\n",
       "\t 서울 & 동대문구 & 서울 동대문구 & 2022 & 01 & 01 & 2 & 0 & 1 &  1 & 0\\\\\n",
       "\t 서울 & 도봉구   & 서울 도봉구   & 2022 & 01 & 01 & 5 & 0 & 4 &  1 & 0\\\\\n",
       "\t 서울 & 은평구   & 서울 은평구   & 2022 & 01 & 01 & 3 & 0 & 1 &  2 & 0\\\\\n",
       "\t 서울 & 서대문구 & 서울 서대문구 & 2022 & 01 & 01 & 1 & 0 & 1 &  1 & 0\\\\\n",
       "\t 서울 & 마포구   & 서울 마포구   & 2022 & 01 & 01 & 2 & 0 & 1 &  1 & 1\\\\\n",
       "\t 서울 & 강남구   & 서울 강남구   & 2022 & 01 & 02 & 3 & 0 & 0 &  4 & 0\\\\\n",
       "\t 서울 & 구로구   & 서울 구로구   & 2022 & 01 & 01 & 2 & 0 & 1 &  1 & 0\\\\\n",
       "\t 서울 & 영등포구 & 서울 영등포구 & 2022 & 01 & 01 & 3 & 0 & 0 &  2 & 1\\\\\n",
       "\t 서울 & 동작구   & 서울 동작구   & 2022 & 01 & 01 & 2 & 0 & 1 &  1 & 0\\\\\n",
       "\t 서울 & 관악구   & 서울 관악구   & 2022 & 01 & 01 & 3 & 0 & 0 &  4 & 0\\\\\n",
       "\t 서울 & 강남구   & 서울 강남구   & 2022 & 01 & 03 & 9 & 0 & 1 &  8 & 0\\\\\n",
       "\t 서울 & 강동구   & 서울 강동구   & 2022 & 01 & 01 & 2 & 0 & 0 &  5 & 0\\\\\n",
       "\t 서울 & 송파구   & 서울 송파구   & 2022 & 01 & 01 & 7 & 0 & 4 &  8 & 0\\\\\n",
       "\t 서울 & 서초구   & 서울 서초구   & 2022 & 01 & 01 & 2 & 0 & 1 &  6 & 0\\\\\n",
       "\t 서울 & 중랑구   & 서울 중랑구   & 2022 & 01 & 01 & 3 & 0 & 1 &  4 & 0\\\\\n",
       "\t 서울 & 노원구   & 서울 노원구   & 2022 & 01 & 01 & 6 & 0 & 0 &  8 & 3\\\\\n",
       "\t 서울 & 강북구   & 서울 강북구   & 2022 & 01 & 01 & 4 & 0 & 1 &  4 & 1\\\\\n",
       "\t 서울 & 금천구   & 서울 금천구   & 2022 & 01 & 01 & 1 & 0 & 0 &  0 & 1\\\\\n",
       "\t 부산 & 영도구   & 부산 영도구   & 2022 & 01 & 01 & 1 & 0 & 0 &  2 & 0\\\\\n",
       "\t 부산 & 부산진구 & 부산 부산진구 & 2022 & 01 & 01 & 4 & 0 & 1 &  3 & 0\\\\\n",
       "\t 부산 & 동래구   & 부산 동래구   & 2022 & 01 & 01 & 2 & 0 & 0 &  3 & 0\\\\\n",
       "\t 서울 & 강남구   & 서울 강남구   & 2022 & 01 & 04 & 7 & 0 & 1 &  5 & 2\\\\\n",
       "\t 부산 & 해운대구 & 부산 해운대구 & 2022 & 01 & 01 & 1 & 0 & 1 &  2 & 0\\\\\n",
       "\t 부산 & 사하구   & 부산 사하구   & 2022 & 01 & 01 & 3 & 0 & 2 &  1 & 0\\\\\n",
       "\t 서울 & 강남구   & 서울 강남구   & 2022 & 01 & 05 & 8 & 0 & 3 &  6 & 0\\\\\n",
       "\t 부산 & 수영구   & 부산 수영구   & 2022 & 01 & 01 & 3 & 0 & 1 &  2 & 0\\\\\n",
       "\t 부산 & 사상구   & 부산 사상구   & 2022 & 01 & 01 & 1 & 0 & 0 &  1 & 0\\\\\n",
       "\t ⋮ & ⋮ & ⋮ & ⋮ & ⋮ & ⋮ & ⋮ & ⋮ & ⋮ & ⋮ & ⋮\\\\\n",
       "\t 경남 & 창원시(통합) & 경남 창원시(통합) & 2022 & 12 & 31 & 7 & 0 & 1 & 14 & 0\\\\\n",
       "\t 제주 & 제주시       & 제주 제주시       & 2022 & 12 & 31 & 9 & 0 & 1 & 13 & 0\\\\\n",
       "\t 제주 & 서귀포시     & 제주 서귀포시     & 2022 & 12 & 31 & 5 & 0 & 1 &  3 & 1\\\\\n",
       "\t 대구 & 중구         & 대구 중구         & 2022 & 12 & 29 & 3 & 0 & 0 &  0 & 3\\\\\n",
       "\t 인천 & 중구         & 인천 중구         & 2022 & 12 & 29 & 3 & 0 & 0 &  2 & 1\\\\\n",
       "\t 대전 & 중구         & 대전 중구         & 2022 & 12 & 29 & 4 & 0 & 0 &  5 & 0\\\\\n",
       "\t 울산 & 중구         & 울산 중구         & 2022 & 12 & 29 & 3 & 0 & 2 &  2 & 0\\\\\n",
       "\t 대구 & 수성구       & 대구 수성구       & 2022 & 12 & 31 & 9 & 0 & 2 & 10 & 2\\\\\n",
       "\t 대구 & 달서구       & 대구 달서구       & 2022 & 12 & 31 & 2 & 0 & 0 &  2 & 0\\\\\n",
       "\t 인천 & 미추홀구     & 인천 미추홀구     & 2022 & 12 & 31 & 6 & 0 & 1 &  9 & 0\\\\\n",
       "\t 인천 & 부평구       & 인천 부평구       & 2022 & 12 & 31 & 6 & 0 & 2 &  6 & 0\\\\\n",
       "\t 인천 & 남동구       & 인천 남동구       & 2022 & 12 & 31 & 5 & 0 & 0 & 13 & 0\\\\\n",
       "\t 서울 & 중구         & 서울 중구         & 2022 & 12 & 30 & 6 & 0 & 0 &  6 & 1\\\\\n",
       "\t 인천 & 연수구       & 인천 연수구       & 2022 & 12 & 31 & 5 & 0 & 0 &  6 & 0\\\\\n",
       "\t 인천 & 계양구       & 인천 계양구       & 2022 & 12 & 31 & 2 & 0 & 0 &  4 & 0\\\\\n",
       "\t 부산 & 중구         & 부산 중구         & 2022 & 12 & 30 & 3 & 0 & 2 &  9 & 0\\\\\n",
       "\t 대구 & 중구         & 대구 중구         & 2022 & 12 & 30 & 3 & 0 & 0 &  2 & 4\\\\\n",
       "\t 인천 & 중구         & 인천 중구         & 2022 & 12 & 30 & 1 & 0 & 0 &  1 & 0\\\\\n",
       "\t 광주 & 광산구       & 광주 광산구       & 2022 & 12 & 31 & 3 & 0 & 0 &  6 & 0\\\\\n",
       "\t 대전 & 중구         & 대전 중구         & 2022 & 12 & 30 & 4 & 0 & 0 &  5 & 0\\\\\n",
       "\t 울산 & 중구         & 울산 중구         & 2022 & 12 & 30 & 3 & 0 & 0 &  3 & 0\\\\\n",
       "\t 서울 & 중구         & 서울 중구         & 2022 & 12 & 31 & 2 & 0 & 0 &  6 & 0\\\\\n",
       "\t 부산 & 중구         & 부산 중구         & 2022 & 12 & 31 & 1 & 0 & 0 &  1 & 0\\\\\n",
       "\t 대전 & 유성구       & 대전 유성구       & 2022 & 12 & 31 & 1 & 0 & 0 &  1 & 1\\\\\n",
       "\t 대전 & 대덕구       & 대전 대덕구       & 2022 & 12 & 31 & 4 & 0 & 2 &  5 & 0\\\\\n",
       "\t 대구 & 중구         & 대구 중구         & 2022 & 12 & 31 & 1 & 0 & 1 &  0 & 0\\\\\n",
       "\t 대전 & 중구         & 대전 중구         & 2022 & 12 & 31 & 8 & 0 & 4 &  9 & 0\\\\\n",
       "\t 울산 & 중구         & 울산 중구         & 2022 & 12 & 31 & 1 & 0 & 0 &  1 & 0\\\\\n",
       "\t 울산 & 울주군       & 울산 울주군       & 2022 & 12 & 31 & 1 & 0 & 1 &  2 & 0\\\\\n",
       "\t 세종 & 세종시       & 세종 세종시       & 2022 & 12 & 31 & 1 & 0 & 0 &  2 & 0\\\\\n",
       "\\end{tabular}\n"
      ],
      "text/markdown": [
       "\n",
       "A data.frame: 57729 × 11\n",
       "\n",
       "| 시도 &lt;chr&gt; | 시군구 &lt;chr&gt; | 지역 &lt;chr&gt; | 년 &lt;chr&gt; | 월 &lt;chr&gt; | 일 &lt;chr&gt; | 사고건수 &lt;int&gt; | 사망자수 &lt;int&gt; | 중상자수 &lt;int&gt; | 경상자수 &lt;int&gt; | 부상신고자수 &lt;int&gt; |\n",
       "|---|---|---|---|---|---|---|---|---|---|---|\n",
       "| 서울 | 강남구   | 서울 강남구   | 2022 | 01 | 01 | 9 | 0 | 1 | 14 | 0 |\n",
       "| 서울 | 용산구   | 서울 용산구   | 2022 | 01 | 01 | 4 | 0 | 1 |  3 | 0 |\n",
       "| 서울 | 성동구   | 서울 성동구   | 2022 | 01 | 01 | 1 | 0 | 1 |  0 | 0 |\n",
       "| 서울 | 동대문구 | 서울 동대문구 | 2022 | 01 | 01 | 2 | 0 | 1 |  1 | 0 |\n",
       "| 서울 | 도봉구   | 서울 도봉구   | 2022 | 01 | 01 | 5 | 0 | 4 |  1 | 0 |\n",
       "| 서울 | 은평구   | 서울 은평구   | 2022 | 01 | 01 | 3 | 0 | 1 |  2 | 0 |\n",
       "| 서울 | 서대문구 | 서울 서대문구 | 2022 | 01 | 01 | 1 | 0 | 1 |  1 | 0 |\n",
       "| 서울 | 마포구   | 서울 마포구   | 2022 | 01 | 01 | 2 | 0 | 1 |  1 | 1 |\n",
       "| 서울 | 강남구   | 서울 강남구   | 2022 | 01 | 02 | 3 | 0 | 0 |  4 | 0 |\n",
       "| 서울 | 구로구   | 서울 구로구   | 2022 | 01 | 01 | 2 | 0 | 1 |  1 | 0 |\n",
       "| 서울 | 영등포구 | 서울 영등포구 | 2022 | 01 | 01 | 3 | 0 | 0 |  2 | 1 |\n",
       "| 서울 | 동작구   | 서울 동작구   | 2022 | 01 | 01 | 2 | 0 | 1 |  1 | 0 |\n",
       "| 서울 | 관악구   | 서울 관악구   | 2022 | 01 | 01 | 3 | 0 | 0 |  4 | 0 |\n",
       "| 서울 | 강남구   | 서울 강남구   | 2022 | 01 | 03 | 9 | 0 | 1 |  8 | 0 |\n",
       "| 서울 | 강동구   | 서울 강동구   | 2022 | 01 | 01 | 2 | 0 | 0 |  5 | 0 |\n",
       "| 서울 | 송파구   | 서울 송파구   | 2022 | 01 | 01 | 7 | 0 | 4 |  8 | 0 |\n",
       "| 서울 | 서초구   | 서울 서초구   | 2022 | 01 | 01 | 2 | 0 | 1 |  6 | 0 |\n",
       "| 서울 | 중랑구   | 서울 중랑구   | 2022 | 01 | 01 | 3 | 0 | 1 |  4 | 0 |\n",
       "| 서울 | 노원구   | 서울 노원구   | 2022 | 01 | 01 | 6 | 0 | 0 |  8 | 3 |\n",
       "| 서울 | 강북구   | 서울 강북구   | 2022 | 01 | 01 | 4 | 0 | 1 |  4 | 1 |\n",
       "| 서울 | 금천구   | 서울 금천구   | 2022 | 01 | 01 | 1 | 0 | 0 |  0 | 1 |\n",
       "| 부산 | 영도구   | 부산 영도구   | 2022 | 01 | 01 | 1 | 0 | 0 |  2 | 0 |\n",
       "| 부산 | 부산진구 | 부산 부산진구 | 2022 | 01 | 01 | 4 | 0 | 1 |  3 | 0 |\n",
       "| 부산 | 동래구   | 부산 동래구   | 2022 | 01 | 01 | 2 | 0 | 0 |  3 | 0 |\n",
       "| 서울 | 강남구   | 서울 강남구   | 2022 | 01 | 04 | 7 | 0 | 1 |  5 | 2 |\n",
       "| 부산 | 해운대구 | 부산 해운대구 | 2022 | 01 | 01 | 1 | 0 | 1 |  2 | 0 |\n",
       "| 부산 | 사하구   | 부산 사하구   | 2022 | 01 | 01 | 3 | 0 | 2 |  1 | 0 |\n",
       "| 서울 | 강남구   | 서울 강남구   | 2022 | 01 | 05 | 8 | 0 | 3 |  6 | 0 |\n",
       "| 부산 | 수영구   | 부산 수영구   | 2022 | 01 | 01 | 3 | 0 | 1 |  2 | 0 |\n",
       "| 부산 | 사상구   | 부산 사상구   | 2022 | 01 | 01 | 1 | 0 | 0 |  1 | 0 |\n",
       "| ⋮ | ⋮ | ⋮ | ⋮ | ⋮ | ⋮ | ⋮ | ⋮ | ⋮ | ⋮ | ⋮ |\n",
       "| 경남 | 창원시(통합) | 경남 창원시(통합) | 2022 | 12 | 31 | 7 | 0 | 1 | 14 | 0 |\n",
       "| 제주 | 제주시       | 제주 제주시       | 2022 | 12 | 31 | 9 | 0 | 1 | 13 | 0 |\n",
       "| 제주 | 서귀포시     | 제주 서귀포시     | 2022 | 12 | 31 | 5 | 0 | 1 |  3 | 1 |\n",
       "| 대구 | 중구         | 대구 중구         | 2022 | 12 | 29 | 3 | 0 | 0 |  0 | 3 |\n",
       "| 인천 | 중구         | 인천 중구         | 2022 | 12 | 29 | 3 | 0 | 0 |  2 | 1 |\n",
       "| 대전 | 중구         | 대전 중구         | 2022 | 12 | 29 | 4 | 0 | 0 |  5 | 0 |\n",
       "| 울산 | 중구         | 울산 중구         | 2022 | 12 | 29 | 3 | 0 | 2 |  2 | 0 |\n",
       "| 대구 | 수성구       | 대구 수성구       | 2022 | 12 | 31 | 9 | 0 | 2 | 10 | 2 |\n",
       "| 대구 | 달서구       | 대구 달서구       | 2022 | 12 | 31 | 2 | 0 | 0 |  2 | 0 |\n",
       "| 인천 | 미추홀구     | 인천 미추홀구     | 2022 | 12 | 31 | 6 | 0 | 1 |  9 | 0 |\n",
       "| 인천 | 부평구       | 인천 부평구       | 2022 | 12 | 31 | 6 | 0 | 2 |  6 | 0 |\n",
       "| 인천 | 남동구       | 인천 남동구       | 2022 | 12 | 31 | 5 | 0 | 0 | 13 | 0 |\n",
       "| 서울 | 중구         | 서울 중구         | 2022 | 12 | 30 | 6 | 0 | 0 |  6 | 1 |\n",
       "| 인천 | 연수구       | 인천 연수구       | 2022 | 12 | 31 | 5 | 0 | 0 |  6 | 0 |\n",
       "| 인천 | 계양구       | 인천 계양구       | 2022 | 12 | 31 | 2 | 0 | 0 |  4 | 0 |\n",
       "| 부산 | 중구         | 부산 중구         | 2022 | 12 | 30 | 3 | 0 | 2 |  9 | 0 |\n",
       "| 대구 | 중구         | 대구 중구         | 2022 | 12 | 30 | 3 | 0 | 0 |  2 | 4 |\n",
       "| 인천 | 중구         | 인천 중구         | 2022 | 12 | 30 | 1 | 0 | 0 |  1 | 0 |\n",
       "| 광주 | 광산구       | 광주 광산구       | 2022 | 12 | 31 | 3 | 0 | 0 |  6 | 0 |\n",
       "| 대전 | 중구         | 대전 중구         | 2022 | 12 | 30 | 4 | 0 | 0 |  5 | 0 |\n",
       "| 울산 | 중구         | 울산 중구         | 2022 | 12 | 30 | 3 | 0 | 0 |  3 | 0 |\n",
       "| 서울 | 중구         | 서울 중구         | 2022 | 12 | 31 | 2 | 0 | 0 |  6 | 0 |\n",
       "| 부산 | 중구         | 부산 중구         | 2022 | 12 | 31 | 1 | 0 | 0 |  1 | 0 |\n",
       "| 대전 | 유성구       | 대전 유성구       | 2022 | 12 | 31 | 1 | 0 | 0 |  1 | 1 |\n",
       "| 대전 | 대덕구       | 대전 대덕구       | 2022 | 12 | 31 | 4 | 0 | 2 |  5 | 0 |\n",
       "| 대구 | 중구         | 대구 중구         | 2022 | 12 | 31 | 1 | 0 | 1 |  0 | 0 |\n",
       "| 대전 | 중구         | 대전 중구         | 2022 | 12 | 31 | 8 | 0 | 4 |  9 | 0 |\n",
       "| 울산 | 중구         | 울산 중구         | 2022 | 12 | 31 | 1 | 0 | 0 |  1 | 0 |\n",
       "| 울산 | 울주군       | 울산 울주군       | 2022 | 12 | 31 | 1 | 0 | 1 |  2 | 0 |\n",
       "| 세종 | 세종시       | 세종 세종시       | 2022 | 12 | 31 | 1 | 0 | 0 |  2 | 0 |\n",
       "\n"
      ],
      "text/plain": [
       "      시도 시군구       지역              년   월 일 사고건수 사망자수 중상자수\n",
       "1     서울 강남구       서울 강남구       2022 01 01 9        0        1       \n",
       "2     서울 용산구       서울 용산구       2022 01 01 4        0        1       \n",
       "3     서울 성동구       서울 성동구       2022 01 01 1        0        1       \n",
       "4     서울 동대문구     서울 동대문구     2022 01 01 2        0        1       \n",
       "5     서울 도봉구       서울 도봉구       2022 01 01 5        0        4       \n",
       "6     서울 은평구       서울 은평구       2022 01 01 3        0        1       \n",
       "7     서울 서대문구     서울 서대문구     2022 01 01 1        0        1       \n",
       "8     서울 마포구       서울 마포구       2022 01 01 2        0        1       \n",
       "9     서울 강남구       서울 강남구       2022 01 02 3        0        0       \n",
       "10    서울 구로구       서울 구로구       2022 01 01 2        0        1       \n",
       "11    서울 영등포구     서울 영등포구     2022 01 01 3        0        0       \n",
       "12    서울 동작구       서울 동작구       2022 01 01 2        0        1       \n",
       "13    서울 관악구       서울 관악구       2022 01 01 3        0        0       \n",
       "14    서울 강남구       서울 강남구       2022 01 03 9        0        1       \n",
       "15    서울 강동구       서울 강동구       2022 01 01 2        0        0       \n",
       "16    서울 송파구       서울 송파구       2022 01 01 7        0        4       \n",
       "17    서울 서초구       서울 서초구       2022 01 01 2        0        1       \n",
       "18    서울 중랑구       서울 중랑구       2022 01 01 3        0        1       \n",
       "19    서울 노원구       서울 노원구       2022 01 01 6        0        0       \n",
       "20    서울 강북구       서울 강북구       2022 01 01 4        0        1       \n",
       "21    서울 금천구       서울 금천구       2022 01 01 1        0        0       \n",
       "22    부산 영도구       부산 영도구       2022 01 01 1        0        0       \n",
       "23    부산 부산진구     부산 부산진구     2022 01 01 4        0        1       \n",
       "24    부산 동래구       부산 동래구       2022 01 01 2        0        0       \n",
       "25    서울 강남구       서울 강남구       2022 01 04 7        0        1       \n",
       "26    부산 해운대구     부산 해운대구     2022 01 01 1        0        1       \n",
       "27    부산 사하구       부산 사하구       2022 01 01 3        0        2       \n",
       "28    서울 강남구       서울 강남구       2022 01 05 8        0        3       \n",
       "29    부산 수영구       부산 수영구       2022 01 01 3        0        1       \n",
       "30    부산 사상구       부산 사상구       2022 01 01 1        0        0       \n",
       "⋮     ⋮    ⋮            ⋮                 ⋮    ⋮  ⋮  ⋮        ⋮        ⋮       \n",
       "57700 경남 창원시(통합) 경남 창원시(통합) 2022 12 31 7        0        1       \n",
       "57701 제주 제주시       제주 제주시       2022 12 31 9        0        1       \n",
       "57702 제주 서귀포시     제주 서귀포시     2022 12 31 5        0        1       \n",
       "57703 대구 중구         대구 중구         2022 12 29 3        0        0       \n",
       "57704 인천 중구         인천 중구         2022 12 29 3        0        0       \n",
       "57705 대전 중구         대전 중구         2022 12 29 4        0        0       \n",
       "57706 울산 중구         울산 중구         2022 12 29 3        0        2       \n",
       "57707 대구 수성구       대구 수성구       2022 12 31 9        0        2       \n",
       "57708 대구 달서구       대구 달서구       2022 12 31 2        0        0       \n",
       "57709 인천 미추홀구     인천 미추홀구     2022 12 31 6        0        1       \n",
       "57710 인천 부평구       인천 부평구       2022 12 31 6        0        2       \n",
       "57711 인천 남동구       인천 남동구       2022 12 31 5        0        0       \n",
       "57712 서울 중구         서울 중구         2022 12 30 6        0        0       \n",
       "57713 인천 연수구       인천 연수구       2022 12 31 5        0        0       \n",
       "57714 인천 계양구       인천 계양구       2022 12 31 2        0        0       \n",
       "57715 부산 중구         부산 중구         2022 12 30 3        0        2       \n",
       "57716 대구 중구         대구 중구         2022 12 30 3        0        0       \n",
       "57717 인천 중구         인천 중구         2022 12 30 1        0        0       \n",
       "57718 광주 광산구       광주 광산구       2022 12 31 3        0        0       \n",
       "57719 대전 중구         대전 중구         2022 12 30 4        0        0       \n",
       "57720 울산 중구         울산 중구         2022 12 30 3        0        0       \n",
       "57721 서울 중구         서울 중구         2022 12 31 2        0        0       \n",
       "57722 부산 중구         부산 중구         2022 12 31 1        0        0       \n",
       "57723 대전 유성구       대전 유성구       2022 12 31 1        0        0       \n",
       "57724 대전 대덕구       대전 대덕구       2022 12 31 4        0        2       \n",
       "57725 대구 중구         대구 중구         2022 12 31 1        0        1       \n",
       "57726 대전 중구         대전 중구         2022 12 31 8        0        4       \n",
       "57727 울산 중구         울산 중구         2022 12 31 1        0        0       \n",
       "57728 울산 울주군       울산 울주군       2022 12 31 1        0        1       \n",
       "57729 세종 세종시       세종 세종시       2022 12 31 1        0        0       \n",
       "      경상자수 부상신고자수\n",
       "1     14       0           \n",
       "2      3       0           \n",
       "3      0       0           \n",
       "4      1       0           \n",
       "5      1       0           \n",
       "6      2       0           \n",
       "7      1       0           \n",
       "8      1       1           \n",
       "9      4       0           \n",
       "10     1       0           \n",
       "11     2       1           \n",
       "12     1       0           \n",
       "13     4       0           \n",
       "14     8       0           \n",
       "15     5       0           \n",
       "16     8       0           \n",
       "17     6       0           \n",
       "18     4       0           \n",
       "19     8       3           \n",
       "20     4       1           \n",
       "21     0       1           \n",
       "22     2       0           \n",
       "23     3       0           \n",
       "24     3       0           \n",
       "25     5       2           \n",
       "26     2       0           \n",
       "27     1       0           \n",
       "28     6       0           \n",
       "29     2       0           \n",
       "30     1       0           \n",
       "⋮     ⋮        ⋮           \n",
       "57700 14       0           \n",
       "57701 13       0           \n",
       "57702  3       1           \n",
       "57703  0       3           \n",
       "57704  2       1           \n",
       "57705  5       0           \n",
       "57706  2       0           \n",
       "57707 10       2           \n",
       "57708  2       0           \n",
       "57709  9       0           \n",
       "57710  6       0           \n",
       "57711 13       0           \n",
       "57712  6       1           \n",
       "57713  6       0           \n",
       "57714  4       0           \n",
       "57715  9       0           \n",
       "57716  2       4           \n",
       "57717  1       0           \n",
       "57718  6       0           \n",
       "57719  5       0           \n",
       "57720  3       0           \n",
       "57721  6       0           \n",
       "57722  1       0           \n",
       "57723  1       1           \n",
       "57724  5       0           \n",
       "57725  0       0           \n",
       "57726  9       0           \n",
       "57727  1       0           \n",
       "57728  2       0           \n",
       "57729  2       0           "
      ]
     },
     "metadata": {},
     "output_type": "display_data"
    }
   ],
   "source": [
    "# a. 날짜를 년, 월, 일로 분리\n",
    "result <- mutate(data, 년 = substr(날짜,1,4), 월 = substr(날짜,5,6), 일 = substr(날짜, 7,8))\n",
    "\n",
    "# b. 시도와 시군구를 합쳐서 지역으로 생성\n",
    "result <- mutate(result, 지역 = paste(시도, 시군구))\n",
    "\n",
    "# c. 변수의 순서를 아래와 같이\n",
    "result <- result %>% select(2:3, 12, 9:11, 4:8)\n",
    "\n",
    "result"
   ]
  },
  {
   "cell_type": "markdown",
   "id": "6caeb827-ac16-46e2-99c7-7f971b8bf2cd",
   "metadata": {
    "tags": []
   },
   "source": [
    "\n",
    "<hr>\n",
    "<h4>6. 패키지 doBy의 summaryBy()를 이용하여 전국 월별 ‘사고건수’의 데이터 개수, 합계,\n",
    "평균, 최솟값, 최댓값, 중앙값을 구하는 코드</h4>"
   ]
  },
  {
   "cell_type": "code",
   "execution_count": 8,
   "id": "39122bf7-1ec2-41a7-bbf8-7cb83ce1d524",
   "metadata": {
    "tags": []
   },
   "outputs": [
    {
     "data": {
      "text/html": [
       "<table class=\"dataframe\">\n",
       "<caption>A data.frame: 12 × 7</caption>\n",
       "<thead>\n",
       "\t<tr><th></th><th scope=col>월</th><th scope=col>사고건수.length</th><th scope=col>사고건수.sum</th><th scope=col>사고건수.mean</th><th scope=col>사고건수.min</th><th scope=col>사고건수.max</th><th scope=col>사고건수.median</th></tr>\n",
       "\t<tr><th></th><th scope=col>&lt;chr&gt;</th><th scope=col>&lt;dbl&gt;</th><th scope=col>&lt;dbl&gt;</th><th scope=col>&lt;dbl&gt;</th><th scope=col>&lt;dbl&gt;</th><th scope=col>&lt;dbl&gt;</th><th scope=col>&lt;dbl&gt;</th></tr>\n",
       "</thead>\n",
       "<tbody>\n",
       "\t<tr><th scope=row>1</th><td>01</td><td>4658</td><td>15894</td><td>3.412194</td><td>1</td><td>32</td><td>2</td></tr>\n",
       "\t<tr><th scope=row>2</th><td>02</td><td>4071</td><td>12362</td><td>3.036600</td><td>1</td><td>19</td><td>2</td></tr>\n",
       "\t<tr><th scope=row>3</th><td>03</td><td>4547</td><td>13620</td><td>2.995382</td><td>1</td><td>18</td><td>2</td></tr>\n",
       "\t<tr><th scope=row>4</th><td>04</td><td>4820</td><td>16472</td><td>3.417427</td><td>1</td><td>21</td><td>2</td></tr>\n",
       "\t<tr><th scope=row>5</th><td>05</td><td>5102</td><td>18065</td><td>3.540768</td><td>1</td><td>23</td><td>2</td></tr>\n",
       "\t<tr><th scope=row>6</th><td>06</td><td>4824</td><td>16481</td><td>3.416459</td><td>1</td><td>21</td><td>2</td></tr>\n",
       "\t<tr><th scope=row>7</th><td>07</td><td>4981</td><td>17115</td><td>3.436057</td><td>1</td><td>21</td><td>2</td></tr>\n",
       "\t<tr><th scope=row>8</th><td>08</td><td>5015</td><td>16496</td><td>3.289332</td><td>1</td><td>21</td><td>2</td></tr>\n",
       "\t<tr><th scope=row>9</th><td>09</td><td>4890</td><td>17216</td><td>3.520654</td><td>1</td><td>23</td><td>2</td></tr>\n",
       "\t<tr><th scope=row>10</th><td>10</td><td>5173</td><td>18508</td><td>3.577808</td><td>1</td><td>24</td><td>3</td></tr>\n",
       "\t<tr><th scope=row>11</th><td>11</td><td>4903</td><td>17578</td><td>3.585152</td><td>1</td><td>23</td><td>2</td></tr>\n",
       "\t<tr><th scope=row>12</th><td>12</td><td>4745</td><td>17029</td><td>3.588830</td><td>1</td><td>30</td><td>2</td></tr>\n",
       "</tbody>\n",
       "</table>\n"
      ],
      "text/latex": [
       "A data.frame: 12 × 7\n",
       "\\begin{tabular}{r|lllllll}\n",
       "  & 월 & 사고건수.length & 사고건수.sum & 사고건수.mean & 사고건수.min & 사고건수.max & 사고건수.median\\\\\n",
       "  & <chr> & <dbl> & <dbl> & <dbl> & <dbl> & <dbl> & <dbl>\\\\\n",
       "\\hline\n",
       "\t1 & 01 & 4658 & 15894 & 3.412194 & 1 & 32 & 2\\\\\n",
       "\t2 & 02 & 4071 & 12362 & 3.036600 & 1 & 19 & 2\\\\\n",
       "\t3 & 03 & 4547 & 13620 & 2.995382 & 1 & 18 & 2\\\\\n",
       "\t4 & 04 & 4820 & 16472 & 3.417427 & 1 & 21 & 2\\\\\n",
       "\t5 & 05 & 5102 & 18065 & 3.540768 & 1 & 23 & 2\\\\\n",
       "\t6 & 06 & 4824 & 16481 & 3.416459 & 1 & 21 & 2\\\\\n",
       "\t7 & 07 & 4981 & 17115 & 3.436057 & 1 & 21 & 2\\\\\n",
       "\t8 & 08 & 5015 & 16496 & 3.289332 & 1 & 21 & 2\\\\\n",
       "\t9 & 09 & 4890 & 17216 & 3.520654 & 1 & 23 & 2\\\\\n",
       "\t10 & 10 & 5173 & 18508 & 3.577808 & 1 & 24 & 3\\\\\n",
       "\t11 & 11 & 4903 & 17578 & 3.585152 & 1 & 23 & 2\\\\\n",
       "\t12 & 12 & 4745 & 17029 & 3.588830 & 1 & 30 & 2\\\\\n",
       "\\end{tabular}\n"
      ],
      "text/markdown": [
       "\n",
       "A data.frame: 12 × 7\n",
       "\n",
       "| <!--/--> | 월 &lt;chr&gt; | 사고건수.length &lt;dbl&gt; | 사고건수.sum &lt;dbl&gt; | 사고건수.mean &lt;dbl&gt; | 사고건수.min &lt;dbl&gt; | 사고건수.max &lt;dbl&gt; | 사고건수.median &lt;dbl&gt; |\n",
       "|---|---|---|---|---|---|---|---|\n",
       "| 1 | 01 | 4658 | 15894 | 3.412194 | 1 | 32 | 2 |\n",
       "| 2 | 02 | 4071 | 12362 | 3.036600 | 1 | 19 | 2 |\n",
       "| 3 | 03 | 4547 | 13620 | 2.995382 | 1 | 18 | 2 |\n",
       "| 4 | 04 | 4820 | 16472 | 3.417427 | 1 | 21 | 2 |\n",
       "| 5 | 05 | 5102 | 18065 | 3.540768 | 1 | 23 | 2 |\n",
       "| 6 | 06 | 4824 | 16481 | 3.416459 | 1 | 21 | 2 |\n",
       "| 7 | 07 | 4981 | 17115 | 3.436057 | 1 | 21 | 2 |\n",
       "| 8 | 08 | 5015 | 16496 | 3.289332 | 1 | 21 | 2 |\n",
       "| 9 | 09 | 4890 | 17216 | 3.520654 | 1 | 23 | 2 |\n",
       "| 10 | 10 | 5173 | 18508 | 3.577808 | 1 | 24 | 3 |\n",
       "| 11 | 11 | 4903 | 17578 | 3.585152 | 1 | 23 | 2 |\n",
       "| 12 | 12 | 4745 | 17029 | 3.588830 | 1 | 30 | 2 |\n",
       "\n"
      ],
      "text/plain": [
       "   월 사고건수.length 사고건수.sum 사고건수.mean 사고건수.min 사고건수.max\n",
       "1  01 4658            15894        3.412194      1            32          \n",
       "2  02 4071            12362        3.036600      1            19          \n",
       "3  03 4547            13620        2.995382      1            18          \n",
       "4  04 4820            16472        3.417427      1            21          \n",
       "5  05 5102            18065        3.540768      1            23          \n",
       "6  06 4824            16481        3.416459      1            21          \n",
       "7  07 4981            17115        3.436057      1            21          \n",
       "8  08 5015            16496        3.289332      1            21          \n",
       "9  09 4890            17216        3.520654      1            23          \n",
       "10 10 5173            18508        3.577808      1            24          \n",
       "11 11 4903            17578        3.585152      1            23          \n",
       "12 12 4745            17029        3.588830      1            30          \n",
       "   사고건수.median\n",
       "1  2              \n",
       "2  2              \n",
       "3  2              \n",
       "4  2              \n",
       "5  2              \n",
       "6  2              \n",
       "7  2              \n",
       "8  2              \n",
       "9  2              \n",
       "10 3              \n",
       "11 2              \n",
       "12 2              "
      ]
     },
     "metadata": {},
     "output_type": "display_data"
    }
   ],
   "source": [
    "summaryBy(사고건수 ~ 월, data = result, FUN = c(length, sum, mean, min, max, median))"
   ]
  },
  {
   "cell_type": "markdown",
   "id": "b7c9ba55-9ab8-4901-94ae-76b598dbac3f",
   "metadata": {
    "tags": []
   },
   "source": [
    "<hr>\n",
    "<h4>7. 패키지 dplyr의 group_by와 summarise()를 이용하여 전국 월별 ‘사고건수’의 합계,\n",
    "평균, 최솟값, 최댓값, 중앙값을 구하는 코드</h4>"
   ]
  },
  {
   "cell_type": "code",
   "execution_count": 9,
   "id": "b50bc9e5-94e6-4dcc-8c28-5b8989cca4c8",
   "metadata": {
    "tags": []
   },
   "outputs": [
    {
     "data": {
      "text/html": [
       "<table class=\"dataframe\">\n",
       "<caption>A tibble: 12 × 6</caption>\n",
       "<thead>\n",
       "\t<tr><th scope=col>월</th><th scope=col>sum(사고건수)</th><th scope=col>mean(사고건수)</th><th scope=col>min(사고건수)</th><th scope=col>max(사고건수)</th><th scope=col>median(사고건수)</th></tr>\n",
       "\t<tr><th scope=col>&lt;chr&gt;</th><th scope=col>&lt;int&gt;</th><th scope=col>&lt;dbl&gt;</th><th scope=col>&lt;int&gt;</th><th scope=col>&lt;int&gt;</th><th scope=col>&lt;dbl&gt;</th></tr>\n",
       "</thead>\n",
       "<tbody>\n",
       "\t<tr><td>01</td><td>15894</td><td>3.412194</td><td>1</td><td>32</td><td>2</td></tr>\n",
       "\t<tr><td>02</td><td>12362</td><td>3.036600</td><td>1</td><td>19</td><td>2</td></tr>\n",
       "\t<tr><td>03</td><td>13620</td><td>2.995382</td><td>1</td><td>18</td><td>2</td></tr>\n",
       "\t<tr><td>04</td><td>16472</td><td>3.417427</td><td>1</td><td>21</td><td>2</td></tr>\n",
       "\t<tr><td>05</td><td>18065</td><td>3.540768</td><td>1</td><td>23</td><td>2</td></tr>\n",
       "\t<tr><td>06</td><td>16481</td><td>3.416459</td><td>1</td><td>21</td><td>2</td></tr>\n",
       "\t<tr><td>07</td><td>17115</td><td>3.436057</td><td>1</td><td>21</td><td>2</td></tr>\n",
       "\t<tr><td>08</td><td>16496</td><td>3.289332</td><td>1</td><td>21</td><td>2</td></tr>\n",
       "\t<tr><td>09</td><td>17216</td><td>3.520654</td><td>1</td><td>23</td><td>2</td></tr>\n",
       "\t<tr><td>10</td><td>18508</td><td>3.577808</td><td>1</td><td>24</td><td>3</td></tr>\n",
       "\t<tr><td>11</td><td>17578</td><td>3.585152</td><td>1</td><td>23</td><td>2</td></tr>\n",
       "\t<tr><td>12</td><td>17029</td><td>3.588830</td><td>1</td><td>30</td><td>2</td></tr>\n",
       "</tbody>\n",
       "</table>\n"
      ],
      "text/latex": [
       "A tibble: 12 × 6\n",
       "\\begin{tabular}{llllll}\n",
       " 월 & sum(사고건수) & mean(사고건수) & min(사고건수) & max(사고건수) & median(사고건수)\\\\\n",
       " <chr> & <int> & <dbl> & <int> & <int> & <dbl>\\\\\n",
       "\\hline\n",
       "\t 01 & 15894 & 3.412194 & 1 & 32 & 2\\\\\n",
       "\t 02 & 12362 & 3.036600 & 1 & 19 & 2\\\\\n",
       "\t 03 & 13620 & 2.995382 & 1 & 18 & 2\\\\\n",
       "\t 04 & 16472 & 3.417427 & 1 & 21 & 2\\\\\n",
       "\t 05 & 18065 & 3.540768 & 1 & 23 & 2\\\\\n",
       "\t 06 & 16481 & 3.416459 & 1 & 21 & 2\\\\\n",
       "\t 07 & 17115 & 3.436057 & 1 & 21 & 2\\\\\n",
       "\t 08 & 16496 & 3.289332 & 1 & 21 & 2\\\\\n",
       "\t 09 & 17216 & 3.520654 & 1 & 23 & 2\\\\\n",
       "\t 10 & 18508 & 3.577808 & 1 & 24 & 3\\\\\n",
       "\t 11 & 17578 & 3.585152 & 1 & 23 & 2\\\\\n",
       "\t 12 & 17029 & 3.588830 & 1 & 30 & 2\\\\\n",
       "\\end{tabular}\n"
      ],
      "text/markdown": [
       "\n",
       "A tibble: 12 × 6\n",
       "\n",
       "| 월 &lt;chr&gt; | sum(사고건수) &lt;int&gt; | mean(사고건수) &lt;dbl&gt; | min(사고건수) &lt;int&gt; | max(사고건수) &lt;int&gt; | median(사고건수) &lt;dbl&gt; |\n",
       "|---|---|---|---|---|---|\n",
       "| 01 | 15894 | 3.412194 | 1 | 32 | 2 |\n",
       "| 02 | 12362 | 3.036600 | 1 | 19 | 2 |\n",
       "| 03 | 13620 | 2.995382 | 1 | 18 | 2 |\n",
       "| 04 | 16472 | 3.417427 | 1 | 21 | 2 |\n",
       "| 05 | 18065 | 3.540768 | 1 | 23 | 2 |\n",
       "| 06 | 16481 | 3.416459 | 1 | 21 | 2 |\n",
       "| 07 | 17115 | 3.436057 | 1 | 21 | 2 |\n",
       "| 08 | 16496 | 3.289332 | 1 | 21 | 2 |\n",
       "| 09 | 17216 | 3.520654 | 1 | 23 | 2 |\n",
       "| 10 | 18508 | 3.577808 | 1 | 24 | 3 |\n",
       "| 11 | 17578 | 3.585152 | 1 | 23 | 2 |\n",
       "| 12 | 17029 | 3.588830 | 1 | 30 | 2 |\n",
       "\n"
      ],
      "text/plain": [
       "   월 sum(사고건수) mean(사고건수) min(사고건수) max(사고건수) median(사고건수)\n",
       "1  01 15894         3.412194       1             32            2               \n",
       "2  02 12362         3.036600       1             19            2               \n",
       "3  03 13620         2.995382       1             18            2               \n",
       "4  04 16472         3.417427       1             21            2               \n",
       "5  05 18065         3.540768       1             23            2               \n",
       "6  06 16481         3.416459       1             21            2               \n",
       "7  07 17115         3.436057       1             21            2               \n",
       "8  08 16496         3.289332       1             21            2               \n",
       "9  09 17216         3.520654       1             23            2               \n",
       "10 10 18508         3.577808       1             24            3               \n",
       "11 11 17578         3.585152       1             23            2               \n",
       "12 12 17029         3.588830       1             30            2               "
      ]
     },
     "metadata": {},
     "output_type": "display_data"
    }
   ],
   "source": [
    "summarise(group_by(result, 월), sum(사고건수), mean(사고건수), min(사고건수), max(사고건수), median(사고건수))"
   ]
  },
  {
   "cell_type": "markdown",
   "id": "57044c51-ba3e-4a81-bd40-a9ad94953fef",
   "metadata": {
    "tags": []
   },
   "source": [
    "<hr>\n",
    "<h4>8. 패키지 doBy의 summaryBy()를 이용하여 전국 시도별 ‘경상자수’의 합계, 평균, 최댓\n",
    "값, 중앙값을 구하는 코드</h4>"
   ]
  },
  {
   "cell_type": "code",
   "execution_count": 10,
   "id": "1098694c-6d51-4183-b2e6-f151f79b64e8",
   "metadata": {
    "tags": []
   },
   "outputs": [
    {
     "data": {
      "text/html": [
       "<table class=\"dataframe\">\n",
       "<caption>A data.frame: 17 × 5</caption>\n",
       "<thead>\n",
       "\t<tr><th></th><th scope=col>시도</th><th scope=col>경상자수.sum</th><th scope=col>경상자수.mean</th><th scope=col>경상자수.max</th><th scope=col>경상자수.median</th></tr>\n",
       "\t<tr><th></th><th scope=col>&lt;chr&gt;</th><th scope=col>&lt;dbl&gt;</th><th scope=col>&lt;dbl&gt;</th><th scope=col>&lt;dbl&gt;</th><th scope=col>&lt;dbl&gt;</th></tr>\n",
       "</thead>\n",
       "<tbody>\n",
       "\t<tr><th scope=row>1</th><td>강원</td><td> 7573</td><td>2.463565</td><td>34</td><td>2</td></tr>\n",
       "\t<tr><th scope=row>2</th><td>경기</td><td>59363</td><td>6.026701</td><td>64</td><td>4</td></tr>\n",
       "\t<tr><th scope=row>3</th><td>경남</td><td> 9547</td><td>2.407818</td><td>25</td><td>1</td></tr>\n",
       "\t<tr><th scope=row>4</th><td>경북</td><td>11363</td><td>2.490794</td><td>24</td><td>2</td></tr>\n",
       "\t<tr><th scope=row>5</th><td>광주</td><td> 9171</td><td>5.504802</td><td>28</td><td>5</td></tr>\n",
       "\t<tr><th scope=row>6</th><td>대구</td><td>11822</td><td>4.339941</td><td>23</td><td>3</td></tr>\n",
       "\t<tr><th scope=row>7</th><td>대전</td><td> 8155</td><td>4.744037</td><td>32</td><td>4</td></tr>\n",
       "\t<tr><th scope=row>8</th><td>부산</td><td>10513</td><td>2.260860</td><td>18</td><td>2</td></tr>\n",
       "\t<tr><th scope=row>9</th><td>서울</td><td>34347</td><td>4.030392</td><td>32</td><td>3</td></tr>\n",
       "\t<tr><th scope=row>10</th><td>세종</td><td>  744</td><td>2.207715</td><td> 9</td><td>2</td></tr>\n",
       "\t<tr><th scope=row>11</th><td>울산</td><td> 3613</td><td>2.369180</td><td>22</td><td>2</td></tr>\n",
       "\t<tr><th scope=row>12</th><td>인천</td><td> 8559</td><td>3.367034</td><td>26</td><td>3</td></tr>\n",
       "\t<tr><th scope=row>13</th><td>전남</td><td> 9718</td><td>2.361030</td><td>21</td><td>2</td></tr>\n",
       "\t<tr><th scope=row>14</th><td>전북</td><td> 6183</td><td>2.649100</td><td>21</td><td>2</td></tr>\n",
       "\t<tr><th scope=row>15</th><td>제주</td><td> 4203</td><td>5.861925</td><td>24</td><td>5</td></tr>\n",
       "\t<tr><th scope=row>16</th><td>충남</td><td> 8892</td><td>2.804163</td><td>28</td><td>2</td></tr>\n",
       "\t<tr><th scope=row>17</th><td>충북</td><td> 8664</td><td>3.842129</td><td>31</td><td>2</td></tr>\n",
       "</tbody>\n",
       "</table>\n"
      ],
      "text/latex": [
       "A data.frame: 17 × 5\n",
       "\\begin{tabular}{r|lllll}\n",
       "  & 시도 & 경상자수.sum & 경상자수.mean & 경상자수.max & 경상자수.median\\\\\n",
       "  & <chr> & <dbl> & <dbl> & <dbl> & <dbl>\\\\\n",
       "\\hline\n",
       "\t1 & 강원 &  7573 & 2.463565 & 34 & 2\\\\\n",
       "\t2 & 경기 & 59363 & 6.026701 & 64 & 4\\\\\n",
       "\t3 & 경남 &  9547 & 2.407818 & 25 & 1\\\\\n",
       "\t4 & 경북 & 11363 & 2.490794 & 24 & 2\\\\\n",
       "\t5 & 광주 &  9171 & 5.504802 & 28 & 5\\\\\n",
       "\t6 & 대구 & 11822 & 4.339941 & 23 & 3\\\\\n",
       "\t7 & 대전 &  8155 & 4.744037 & 32 & 4\\\\\n",
       "\t8 & 부산 & 10513 & 2.260860 & 18 & 2\\\\\n",
       "\t9 & 서울 & 34347 & 4.030392 & 32 & 3\\\\\n",
       "\t10 & 세종 &   744 & 2.207715 &  9 & 2\\\\\n",
       "\t11 & 울산 &  3613 & 2.369180 & 22 & 2\\\\\n",
       "\t12 & 인천 &  8559 & 3.367034 & 26 & 3\\\\\n",
       "\t13 & 전남 &  9718 & 2.361030 & 21 & 2\\\\\n",
       "\t14 & 전북 &  6183 & 2.649100 & 21 & 2\\\\\n",
       "\t15 & 제주 &  4203 & 5.861925 & 24 & 5\\\\\n",
       "\t16 & 충남 &  8892 & 2.804163 & 28 & 2\\\\\n",
       "\t17 & 충북 &  8664 & 3.842129 & 31 & 2\\\\\n",
       "\\end{tabular}\n"
      ],
      "text/markdown": [
       "\n",
       "A data.frame: 17 × 5\n",
       "\n",
       "| <!--/--> | 시도 &lt;chr&gt; | 경상자수.sum &lt;dbl&gt; | 경상자수.mean &lt;dbl&gt; | 경상자수.max &lt;dbl&gt; | 경상자수.median &lt;dbl&gt; |\n",
       "|---|---|---|---|---|---|\n",
       "| 1 | 강원 |  7573 | 2.463565 | 34 | 2 |\n",
       "| 2 | 경기 | 59363 | 6.026701 | 64 | 4 |\n",
       "| 3 | 경남 |  9547 | 2.407818 | 25 | 1 |\n",
       "| 4 | 경북 | 11363 | 2.490794 | 24 | 2 |\n",
       "| 5 | 광주 |  9171 | 5.504802 | 28 | 5 |\n",
       "| 6 | 대구 | 11822 | 4.339941 | 23 | 3 |\n",
       "| 7 | 대전 |  8155 | 4.744037 | 32 | 4 |\n",
       "| 8 | 부산 | 10513 | 2.260860 | 18 | 2 |\n",
       "| 9 | 서울 | 34347 | 4.030392 | 32 | 3 |\n",
       "| 10 | 세종 |   744 | 2.207715 |  9 | 2 |\n",
       "| 11 | 울산 |  3613 | 2.369180 | 22 | 2 |\n",
       "| 12 | 인천 |  8559 | 3.367034 | 26 | 3 |\n",
       "| 13 | 전남 |  9718 | 2.361030 | 21 | 2 |\n",
       "| 14 | 전북 |  6183 | 2.649100 | 21 | 2 |\n",
       "| 15 | 제주 |  4203 | 5.861925 | 24 | 5 |\n",
       "| 16 | 충남 |  8892 | 2.804163 | 28 | 2 |\n",
       "| 17 | 충북 |  8664 | 3.842129 | 31 | 2 |\n",
       "\n"
      ],
      "text/plain": [
       "   시도 경상자수.sum 경상자수.mean 경상자수.max 경상자수.median\n",
       "1  강원  7573        2.463565      34           2              \n",
       "2  경기 59363        6.026701      64           4              \n",
       "3  경남  9547        2.407818      25           1              \n",
       "4  경북 11363        2.490794      24           2              \n",
       "5  광주  9171        5.504802      28           5              \n",
       "6  대구 11822        4.339941      23           3              \n",
       "7  대전  8155        4.744037      32           4              \n",
       "8  부산 10513        2.260860      18           2              \n",
       "9  서울 34347        4.030392      32           3              \n",
       "10 세종   744        2.207715       9           2              \n",
       "11 울산  3613        2.369180      22           2              \n",
       "12 인천  8559        3.367034      26           3              \n",
       "13 전남  9718        2.361030      21           2              \n",
       "14 전북  6183        2.649100      21           2              \n",
       "15 제주  4203        5.861925      24           5              \n",
       "16 충남  8892        2.804163      28           2              \n",
       "17 충북  8664        3.842129      31           2              "
      ]
     },
     "metadata": {},
     "output_type": "display_data"
    }
   ],
   "source": [
    "summaryBy(경상자수 ~ 시도, data = result, FUN = c(sum, mean, max, median))"
   ]
  },
  {
   "cell_type": "markdown",
   "id": "78551059-8827-46a7-bfc6-d932d300ce13",
   "metadata": {
    "tags": []
   },
   "source": [
    "<hr>\n",
    "<h4>9. 패키지 dplyr의 group_by와 summarise()를 이용하여 전국 시도별 ‘경상자수’의 합\n",
    "계, 평균, 최댓값, 중앙값을 구하는 코드</h4>"
   ]
  },
  {
   "cell_type": "code",
   "execution_count": 11,
   "id": "79d1fd74-00b5-4007-b58b-3f97e6ce090a",
   "metadata": {
    "tags": []
   },
   "outputs": [
    {
     "data": {
      "text/html": [
       "<table class=\"dataframe\">\n",
       "<caption>A tibble: 17 × 5</caption>\n",
       "<thead>\n",
       "\t<tr><th scope=col>시도</th><th scope=col>sum(경상자수)</th><th scope=col>mean(경상자수)</th><th scope=col>max(경상자수)</th><th scope=col>median(사고건수)</th></tr>\n",
       "\t<tr><th scope=col>&lt;chr&gt;</th><th scope=col>&lt;int&gt;</th><th scope=col>&lt;dbl&gt;</th><th scope=col>&lt;int&gt;</th><th scope=col>&lt;dbl&gt;</th></tr>\n",
       "</thead>\n",
       "<tbody>\n",
       "\t<tr><td>강원</td><td> 7573</td><td>2.463565</td><td>34</td><td>1.0</td></tr>\n",
       "\t<tr><td>경기</td><td>59363</td><td>6.026701</td><td>64</td><td>4.0</td></tr>\n",
       "\t<tr><td>경남</td><td> 9547</td><td>2.407818</td><td>25</td><td>2.0</td></tr>\n",
       "\t<tr><td>경북</td><td>11363</td><td>2.490794</td><td>24</td><td>2.0</td></tr>\n",
       "\t<tr><td>광주</td><td> 9171</td><td>5.504802</td><td>28</td><td>4.0</td></tr>\n",
       "\t<tr><td>대구</td><td>11822</td><td>4.339941</td><td>23</td><td>3.0</td></tr>\n",
       "\t<tr><td>대전</td><td> 8155</td><td>4.744037</td><td>32</td><td>3.0</td></tr>\n",
       "\t<tr><td>부산</td><td>10513</td><td>2.260860</td><td>18</td><td>2.0</td></tr>\n",
       "\t<tr><td>서울</td><td>34347</td><td>4.030392</td><td>32</td><td>3.0</td></tr>\n",
       "\t<tr><td>세종</td><td>  744</td><td>2.207715</td><td> 9</td><td>2.0</td></tr>\n",
       "\t<tr><td>울산</td><td> 3613</td><td>2.369180</td><td>22</td><td>2.0</td></tr>\n",
       "\t<tr><td>인천</td><td> 8559</td><td>3.367034</td><td>26</td><td>2.5</td></tr>\n",
       "\t<tr><td>전남</td><td> 9718</td><td>2.361030</td><td>21</td><td>1.0</td></tr>\n",
       "\t<tr><td>전북</td><td> 6183</td><td>2.649100</td><td>21</td><td>2.0</td></tr>\n",
       "\t<tr><td>제주</td><td> 4203</td><td>5.861925</td><td>24</td><td>5.0</td></tr>\n",
       "\t<tr><td>충남</td><td> 8892</td><td>2.804163</td><td>28</td><td>2.0</td></tr>\n",
       "\t<tr><td>충북</td><td> 8664</td><td>3.842129</td><td>31</td><td>2.0</td></tr>\n",
       "</tbody>\n",
       "</table>\n"
      ],
      "text/latex": [
       "A tibble: 17 × 5\n",
       "\\begin{tabular}{lllll}\n",
       " 시도 & sum(경상자수) & mean(경상자수) & max(경상자수) & median(사고건수)\\\\\n",
       " <chr> & <int> & <dbl> & <int> & <dbl>\\\\\n",
       "\\hline\n",
       "\t 강원 &  7573 & 2.463565 & 34 & 1.0\\\\\n",
       "\t 경기 & 59363 & 6.026701 & 64 & 4.0\\\\\n",
       "\t 경남 &  9547 & 2.407818 & 25 & 2.0\\\\\n",
       "\t 경북 & 11363 & 2.490794 & 24 & 2.0\\\\\n",
       "\t 광주 &  9171 & 5.504802 & 28 & 4.0\\\\\n",
       "\t 대구 & 11822 & 4.339941 & 23 & 3.0\\\\\n",
       "\t 대전 &  8155 & 4.744037 & 32 & 3.0\\\\\n",
       "\t 부산 & 10513 & 2.260860 & 18 & 2.0\\\\\n",
       "\t 서울 & 34347 & 4.030392 & 32 & 3.0\\\\\n",
       "\t 세종 &   744 & 2.207715 &  9 & 2.0\\\\\n",
       "\t 울산 &  3613 & 2.369180 & 22 & 2.0\\\\\n",
       "\t 인천 &  8559 & 3.367034 & 26 & 2.5\\\\\n",
       "\t 전남 &  9718 & 2.361030 & 21 & 1.0\\\\\n",
       "\t 전북 &  6183 & 2.649100 & 21 & 2.0\\\\\n",
       "\t 제주 &  4203 & 5.861925 & 24 & 5.0\\\\\n",
       "\t 충남 &  8892 & 2.804163 & 28 & 2.0\\\\\n",
       "\t 충북 &  8664 & 3.842129 & 31 & 2.0\\\\\n",
       "\\end{tabular}\n"
      ],
      "text/markdown": [
       "\n",
       "A tibble: 17 × 5\n",
       "\n",
       "| 시도 &lt;chr&gt; | sum(경상자수) &lt;int&gt; | mean(경상자수) &lt;dbl&gt; | max(경상자수) &lt;int&gt; | median(사고건수) &lt;dbl&gt; |\n",
       "|---|---|---|---|---|\n",
       "| 강원 |  7573 | 2.463565 | 34 | 1.0 |\n",
       "| 경기 | 59363 | 6.026701 | 64 | 4.0 |\n",
       "| 경남 |  9547 | 2.407818 | 25 | 2.0 |\n",
       "| 경북 | 11363 | 2.490794 | 24 | 2.0 |\n",
       "| 광주 |  9171 | 5.504802 | 28 | 4.0 |\n",
       "| 대구 | 11822 | 4.339941 | 23 | 3.0 |\n",
       "| 대전 |  8155 | 4.744037 | 32 | 3.0 |\n",
       "| 부산 | 10513 | 2.260860 | 18 | 2.0 |\n",
       "| 서울 | 34347 | 4.030392 | 32 | 3.0 |\n",
       "| 세종 |   744 | 2.207715 |  9 | 2.0 |\n",
       "| 울산 |  3613 | 2.369180 | 22 | 2.0 |\n",
       "| 인천 |  8559 | 3.367034 | 26 | 2.5 |\n",
       "| 전남 |  9718 | 2.361030 | 21 | 1.0 |\n",
       "| 전북 |  6183 | 2.649100 | 21 | 2.0 |\n",
       "| 제주 |  4203 | 5.861925 | 24 | 5.0 |\n",
       "| 충남 |  8892 | 2.804163 | 28 | 2.0 |\n",
       "| 충북 |  8664 | 3.842129 | 31 | 2.0 |\n",
       "\n"
      ],
      "text/plain": [
       "   시도 sum(경상자수) mean(경상자수) max(경상자수) median(사고건수)\n",
       "1  강원  7573         2.463565       34            1.0             \n",
       "2  경기 59363         6.026701       64            4.0             \n",
       "3  경남  9547         2.407818       25            2.0             \n",
       "4  경북 11363         2.490794       24            2.0             \n",
       "5  광주  9171         5.504802       28            4.0             \n",
       "6  대구 11822         4.339941       23            3.0             \n",
       "7  대전  8155         4.744037       32            3.0             \n",
       "8  부산 10513         2.260860       18            2.0             \n",
       "9  서울 34347         4.030392       32            3.0             \n",
       "10 세종   744         2.207715        9            2.0             \n",
       "11 울산  3613         2.369180       22            2.0             \n",
       "12 인천  8559         3.367034       26            2.5             \n",
       "13 전남  9718         2.361030       21            1.0             \n",
       "14 전북  6183         2.649100       21            2.0             \n",
       "15 제주  4203         5.861925       24            5.0             \n",
       "16 충남  8892         2.804163       28            2.0             \n",
       "17 충북  8664         3.842129       31            2.0             "
      ]
     },
     "metadata": {},
     "output_type": "display_data"
    }
   ],
   "source": [
    "summarise(group_by(result, 시도), sum(경상자수), mean(경상자수), max(경상자수), median(사고건수))"
   ]
  },
  {
   "cell_type": "markdown",
   "id": "6780eb4c-1ea7-4d84-890c-1e22838a5494",
   "metadata": {
    "tags": []
   },
   "source": [
    "<hr>\n",
    "<h4>10. 시도 X 월별 사고건수의 합계에 대한 피벗테이블을 출력하는 코드</h4>"
   ]
  },
  {
   "cell_type": "code",
   "execution_count": 12,
   "id": "b74a9586-35d3-4e2a-9db9-78ff66b45657",
   "metadata": {
    "tags": []
   },
   "outputs": [],
   "source": [
    "library(pivottabler)"
   ]
  },
  {
   "cell_type": "code",
   "execution_count": 13,
   "id": "82c2ee0f-3dbc-4528-b92d-adba97184350",
   "metadata": {
    "tags": []
   },
   "outputs": [
    {
     "name": "stdout",
     "output_type": "stream",
     "text": [
      "       01     02     03     04     05     06     07     08     09     10     11     12     Total   \n",
      "강원       489    346    422    528    553    545    566    648    582    672    549    525    6425  \n",
      "경기      4539   3333   3615   4221   4773   4314   4568   4433   4581   4926   4683   4982   52968  \n",
      "경남       792    691    786    971    963    891    852    878    904   1041    986    856   10611  \n",
      "경북       851    669    722    941   1042    957    991   1010    960   1051    991    852   11037  \n",
      "광주       577    426    515    579    685    633    626    581    653    654    611    582    7122  \n",
      "대구       881    714    803    946   1050    943    997    881    964    989   1040    894   11102  \n",
      "대전       539    403    540    570    621    564    589    512    618    654    652    579    6841  \n",
      "부산       886    746    774    955   1056    921    897    872    918   1006    915    936   10882  \n",
      "서울      2874   2176   2187   2847   3030   2748   3021   2734   2965   3137   2906   3073   33698  \n",
      "세종        46     44     63     78     85    103     78     77     87    105     88     78     932  \n",
      "울산       287    221    235    278    368    341    303    309    305    345    341    327    3660  \n",
      "인천       710    451    523    604    681    635    681    636    698    712    648    716    7695  \n",
      "전남       583    535    608    768    749    656    726    728    727    792    795    668    8335  \n",
      "전북       426    360    405    501    519    521    487    488    478    566    516    414    5681  \n",
      "제주       332    301    323    338    356    351    352    373    326    366    325    296    4039  \n",
      "충남       571    501    570    713    799    698    719    661    745    739    797    651    8164  \n",
      "충북       511    445    529    634    735    660    662    675    705    753    735    600    7644  \n",
      "Total  15894  12362  13620  16472  18065  16481  17115  16496  17216  18508  17578  17029  196836  \n"
     ]
    }
   ],
   "source": [
    "result2 <-qpvt(result, \"시도\", \"월\", \"sum(사고건수)\")\n",
    "\n",
    "print(result2)"
   ]
  },
  {
   "cell_type": "markdown",
   "id": "7cf8c3a1-3027-495f-a4e6-fc9d5555ec2d",
   "metadata": {
    "tags": []
   },
   "source": [
    "<hr>\n",
    "<h4>11. filter와 grepl을 이용하여 시군구에서 ‘동’, ‘서’, ‘남’, ‘북’으로 시작하고,\n",
    "‘시’로 끝나는 데이터만 추출하여 데이터프레임 news에 저장하고, 지역의 빈도표를 출\n",
    "력하는 코드</h4>"
   ]
  },
  {
   "cell_type": "code",
   "execution_count": 14,
   "id": "7fd188c9-9aaf-4490-a07d-560f44938017",
   "metadata": {
    "tags": []
   },
   "outputs": [
    {
     "name": "stdout",
     "output_type": "stream",
     "text": [
      "\n",
      "  강원 동해시 경기 남양주시 경기 동두천시   전북 남원시 제주 서귀포시 \n",
      "          210           363           189           179           352 \n",
      "  충남 서산시 \n",
      "          292 \n"
     ]
    }
   ],
   "source": [
    "news <- filter(result, grepl(\"^[동서남북]\", 시군구), grepl(\"시$\", 시군구))\n",
    "\n",
    "print(table(news$지역))"
   ]
  },
  {
   "cell_type": "markdown",
   "id": "7678eb25-b0c7-4971-8568-ff364801e83b",
   "metadata": {
    "tags": []
   },
   "source": [
    "<hr>\n",
    "<h4>12. 패키지 doBy의 summaryBy()를 이용하여 지역별 ‘경상자수’의 합계, 평균, 최댓값,\n",
    "중앙값을 구하는 코드</h4>"
   ]
  },
  {
   "cell_type": "code",
   "execution_count": 15,
   "id": "cf1846bf-5acf-4d23-99f5-032dad1f4d83",
   "metadata": {
    "tags": []
   },
   "outputs": [
    {
     "data": {
      "text/html": [
       "<table class=\"dataframe\">\n",
       "<caption>A data.frame: 6 × 5</caption>\n",
       "<thead>\n",
       "\t<tr><th></th><th scope=col>지역</th><th scope=col>사고건수.sum</th><th scope=col>사고건수.mean</th><th scope=col>사고건수.min</th><th scope=col>사고건수.max</th></tr>\n",
       "\t<tr><th></th><th scope=col>&lt;chr&gt;</th><th scope=col>&lt;dbl&gt;</th><th scope=col>&lt;dbl&gt;</th><th scope=col>&lt;dbl&gt;</th><th scope=col>&lt;dbl&gt;</th></tr>\n",
       "</thead>\n",
       "<tbody>\n",
       "\t<tr><th scope=row>1</th><td>강원 동해시  </td><td> 310</td><td>1.476190</td><td>1</td><td> 5</td></tr>\n",
       "\t<tr><th scope=row>2</th><td>경기 남양주시</td><td>1970</td><td>5.426997</td><td>1</td><td>12</td></tr>\n",
       "\t<tr><th scope=row>3</th><td>경기 동두천시</td><td> 273</td><td>1.444444</td><td>1</td><td> 5</td></tr>\n",
       "\t<tr><th scope=row>4</th><td>전북 남원시  </td><td> 278</td><td>1.553073</td><td>1</td><td> 5</td></tr>\n",
       "\t<tr><th scope=row>5</th><td>제주 서귀포시</td><td>1249</td><td>3.548295</td><td>1</td><td> 9</td></tr>\n",
       "\t<tr><th scope=row>6</th><td>충남 서산시  </td><td> 615</td><td>2.106164</td><td>1</td><td>10</td></tr>\n",
       "</tbody>\n",
       "</table>\n"
      ],
      "text/latex": [
       "A data.frame: 6 × 5\n",
       "\\begin{tabular}{r|lllll}\n",
       "  & 지역 & 사고건수.sum & 사고건수.mean & 사고건수.min & 사고건수.max\\\\\n",
       "  & <chr> & <dbl> & <dbl> & <dbl> & <dbl>\\\\\n",
       "\\hline\n",
       "\t1 & 강원 동해시   &  310 & 1.476190 & 1 &  5\\\\\n",
       "\t2 & 경기 남양주시 & 1970 & 5.426997 & 1 & 12\\\\\n",
       "\t3 & 경기 동두천시 &  273 & 1.444444 & 1 &  5\\\\\n",
       "\t4 & 전북 남원시   &  278 & 1.553073 & 1 &  5\\\\\n",
       "\t5 & 제주 서귀포시 & 1249 & 3.548295 & 1 &  9\\\\\n",
       "\t6 & 충남 서산시   &  615 & 2.106164 & 1 & 10\\\\\n",
       "\\end{tabular}\n"
      ],
      "text/markdown": [
       "\n",
       "A data.frame: 6 × 5\n",
       "\n",
       "| <!--/--> | 지역 &lt;chr&gt; | 사고건수.sum &lt;dbl&gt; | 사고건수.mean &lt;dbl&gt; | 사고건수.min &lt;dbl&gt; | 사고건수.max &lt;dbl&gt; |\n",
       "|---|---|---|---|---|---|\n",
       "| 1 | 강원 동해시   |  310 | 1.476190 | 1 |  5 |\n",
       "| 2 | 경기 남양주시 | 1970 | 5.426997 | 1 | 12 |\n",
       "| 3 | 경기 동두천시 |  273 | 1.444444 | 1 |  5 |\n",
       "| 4 | 전북 남원시   |  278 | 1.553073 | 1 |  5 |\n",
       "| 5 | 제주 서귀포시 | 1249 | 3.548295 | 1 |  9 |\n",
       "| 6 | 충남 서산시   |  615 | 2.106164 | 1 | 10 |\n",
       "\n"
      ],
      "text/plain": [
       "  지역          사고건수.sum 사고건수.mean 사고건수.min 사고건수.max\n",
       "1 강원 동해시    310         1.476190      1             5          \n",
       "2 경기 남양주시 1970         5.426997      1            12          \n",
       "3 경기 동두천시  273         1.444444      1             5          \n",
       "4 전북 남원시    278         1.553073      1             5          \n",
       "5 제주 서귀포시 1249         3.548295      1             9          \n",
       "6 충남 서산시    615         2.106164      1            10          "
      ]
     },
     "metadata": {},
     "output_type": "display_data"
    }
   ],
   "source": [
    "summaryBy(사고건수 ~ 지역, data = news, FUN = c(sum, mean, min, max))"
   ]
  },
  {
   "cell_type": "markdown",
   "id": "f935ae07-1b25-4a58-810b-be5a547e146b",
   "metadata": {
    "tags": []
   },
   "source": [
    "<hr>\n",
    "<h4>13. 시도 X 월별 사고건수의 합계에 대한 피벗테이블을 출력하는 코드</h4>"
   ]
  },
  {
   "cell_type": "code",
   "execution_count": 16,
   "id": "bc50beca-7b3d-48f7-86d5-d0fc26e67e3d",
   "metadata": {
    "tags": []
   },
   "outputs": [
    {
     "name": "stdout",
     "output_type": "stream",
     "text": [
      "         01   02   03   04   05   06   07   08   09   10   11   12   Total  \n",
      "강원 동해시    28   14   21   22   24   27   22   31   29   33   36   23    310  \n",
      "경기 남양주시  148  125  149  139  162  172  202  167  169  189  172  176   1970  \n",
      "경기 동두천시   16   17   18   26   24   23   24   23   16   26   32   28    273  \n",
      "전북 남원시    16    9   26   26   24   31   23   16   23   32   32   20    278  \n",
      "제주 서귀포시  104  111   93  117   92   87  105  109  120  115  107   89   1249  \n",
      "충남 서산시    35   44   48   60   62   44   54   44   45   68   61   50    615  \n",
      "Total    347  320  355  390  388  384  430  390  402  463  440  386   4695  \n"
     ]
    }
   ],
   "source": [
    "result3 <-qpvt(news, \"지역\", \"월\", \"sum(사고건수)\")\n",
    "\n",
    "print(result3)"
   ]
  },
  {
   "cell_type": "markdown",
   "id": "c60d7e28-a966-4e7c-9cf7-d63e93982fb6",
   "metadata": {
    "tags": []
   },
   "source": [
    "<hr>\n",
    "<h4>※ 데이터 파일 “air_2021.xlsx”에 대하여 다음을 수행하시오.</h4>\n",
    "<hr>\n",
    "<h4>14. 6개의 시트에 있는 모든 데이터를 읽어 데이터프레임 air로 합치고 구조(str)를 출력\n",
    "하는 코드</h4>"
   ]
  },
  {
   "cell_type": "code",
   "execution_count": 17,
   "id": "9ec03c77-fc5b-42b9-b403-748a4257c1c5",
   "metadata": {
    "tags": []
   },
   "outputs": [
    {
     "data": {
      "text/html": [
       "<style>\n",
       ".list-inline {list-style: none; margin:0; padding: 0}\n",
       ".list-inline>li {display: inline-block}\n",
       ".list-inline>li:not(:last-child)::after {content: \"\\00b7\"; padding: 0 .5ex}\n",
       "</style>\n",
       "<ol class=list-inline><li>'202121059-정보경-exercise-5.ipynb'</li><li>'202121059-정보경-무작정 따라하기-5.ipynb'</li><li>'2022년_도로교통공단_일자별 시군구별 교통사고 건수.csv'</li><li>'2022년_서울_일별평균대기오염도_2022.csv'</li><li>'air_2021.xlsx'</li></ol>\n"
      ],
      "text/latex": [
       "\\begin{enumerate*}\n",
       "\\item '202121059-정보경-exercise-5.ipynb'\n",
       "\\item '202121059-정보경-무작정 따라하기-5.ipynb'\n",
       "\\item '2022년\\_도로교통공단\\_일자별 시군구별 교통사고 건수.csv'\n",
       "\\item '2022년\\_서울\\_일별평균대기오염도\\_2022.csv'\n",
       "\\item 'air\\_2021.xlsx'\n",
       "\\end{enumerate*}\n"
      ],
      "text/markdown": [
       "1. '202121059-정보경-exercise-5.ipynb'\n",
       "2. '202121059-정보경-무작정 따라하기-5.ipynb'\n",
       "3. '2022년_도로교통공단_일자별 시군구별 교통사고 건수.csv'\n",
       "4. '2022년_서울_일별평균대기오염도_2022.csv'\n",
       "5. 'air_2021.xlsx'\n",
       "\n",
       "\n"
      ],
      "text/plain": [
       "[1] \"202121059-정보경-exercise-5.ipynb\"                    \n",
       "[2] \"202121059-정보경-무작정 따라하기-5.ipynb\"             \n",
       "[3] \"2022년_도로교통공단_일자별 시군구별 교통사고 건수.csv\"\n",
       "[4] \"2022년_서울_일별평균대기오염도_2022.csv\"              \n",
       "[5] \"air_2021.xlsx\"                                        "
      ]
     },
     "metadata": {},
     "output_type": "display_data"
    }
   ],
   "source": [
    "library(readxl)\n",
    "list.files()"
   ]
  },
  {
   "cell_type": "code",
   "execution_count": 18,
   "id": "1deaaffc-7276-4ab0-b0b3-9717a0888ba3",
   "metadata": {
    "tags": []
   },
   "outputs": [
    {
     "name": "stdout",
     "output_type": "stream",
     "text": [
      "tibble [5,108,376 × 11] (S3: tbl_df/tbl/data.frame)\n",
      " $ prov    : chr [1:5108376] \"강원\" \"강원\" \"강원\" \"강원\" ...\n",
      " $ city    : chr [1:5108376] \"강릉시\" \"강릉시\" \"강릉시\" \"강릉시\" ...\n",
      " $ point   : chr [1:5108376] \"옥천동\" \"옥천동\" \"옥천동\" \"옥천동\" ...\n",
      " $ code    : num [1:5108376] 632132 632132 632132 632132 632132 ...\n",
      " $ datatime: POSIXct[1:5108376], format: \"2021-01-01 01:00:00\" \"2021-01-01 02:00:00\" ...\n",
      " $ SC2     : num [1:5108376] 0.003 0.003 0.003 0.003 0.003 0.003 0.005 0.004 0.003 0.003 ...\n",
      " $ PM10    : num [1:5108376] 21 16 19 19 18 16 14 14 17 13 ...\n",
      " $ O3      : num [1:5108376] 0.031 0.028 0.029 0.031 0.028 0.027 0.015 0.018 0.032 0.034 ...\n",
      " $ NO2     : num [1:5108376] 0.011 0.014 0.012 0.011 0.015 0.018 0.031 0.028 0.014 0.01 ...\n",
      " $ CO      : num [1:5108376] 0.3 0.4 0.3 0.3 0.3 0.3 0.4 0.4 0.3 0.3 ...\n",
      " $ PM25    : num [1:5108376] -999 -999 -999 -999 -999 -999 -999 -999 -999 -999 ...\n"
     ]
    }
   ],
   "source": [
    "air1 <- read_xlsx(\"air_2021.xlsx\", sheet = 1)\n",
    "air2 <- read_xlsx(\"air_2021.xlsx\", sheet = 2)\n",
    "air3 <- read_xlsx(\"air_2021.xlsx\", sheet = 3)\n",
    "air4 <- read_xlsx(\"air_2021.xlsx\", sheet = 4)\n",
    "air5 <- read_xlsx(\"air_2021.xlsx\", sheet = 5)\n",
    "air6 <- read_xlsx(\"air_2021.xlsx\", sheet = 6)\n",
    "\n",
    "air <- rbind(air1, air2, air3, air4, air5, air6)\n",
    "\n",
    "str(air)"
   ]
  },
  {
   "cell_type": "markdown",
   "id": "67dfca2e-aea6-411f-81a3-9e8f4e5b2a03",
   "metadata": {
    "tags": []
   },
   "source": [
    "<hr>\n",
    "<h4>15. 이 자료에는 결측치가 모두 -999로 입력되어 있다. 모든 -999를 NA로 바꾸고 air의\n",
    "구조를 출력하는 코드(PM25의 자료가 NA로 바뀌어 있어야 함)</h4>"
   ]
  },
  {
   "cell_type": "code",
   "execution_count": 19,
   "id": "eb7d128f-cd41-4c7f-bdc1-330ce4c9dc80",
   "metadata": {
    "tags": []
   },
   "outputs": [
    {
     "name": "stdout",
     "output_type": "stream",
     "text": [
      "tibble [5,108,376 × 11] (S3: tbl_df/tbl/data.frame)\n",
      " $ prov    : chr [1:5108376] \"강원\" \"강원\" \"강원\" \"강원\" ...\n",
      " $ city    : chr [1:5108376] \"강릉시\" \"강릉시\" \"강릉시\" \"강릉시\" ...\n",
      " $ point   : chr [1:5108376] \"옥천동\" \"옥천동\" \"옥천동\" \"옥천동\" ...\n",
      " $ code    : num [1:5108376] 632132 632132 632132 632132 632132 ...\n",
      " $ datatime: POSIXct[1:5108376], format: \"2021-01-01 01:00:00\" \"2021-01-01 02:00:00\" ...\n",
      " $ SC2     : num [1:5108376] 0.003 0.003 0.003 0.003 0.003 0.003 0.005 0.004 0.003 0.003 ...\n",
      " $ PM10    : num [1:5108376] 21 16 19 19 18 16 14 14 17 13 ...\n",
      " $ O3      : num [1:5108376] 0.031 0.028 0.029 0.031 0.028 0.027 0.015 0.018 0.032 0.034 ...\n",
      " $ NO2     : num [1:5108376] 0.011 0.014 0.012 0.011 0.015 0.018 0.031 0.028 0.014 0.01 ...\n",
      " $ CO      : num [1:5108376] 0.3 0.4 0.3 0.3 0.3 0.3 0.4 0.4 0.3 0.3 ...\n",
      " $ PM25    : num [1:5108376] NA NA NA NA NA NA NA NA NA NA ...\n"
     ]
    }
   ],
   "source": [
    "air[air==-999] <- NA\n",
    "\n",
    "str(air)"
   ]
  },
  {
   "cell_type": "markdown",
   "id": "39558468-5769-4e59-b71e-bda26d227a90",
   "metadata": {
    "tags": []
   },
   "source": [
    "<hr>\n",
    "<h4>16. 데이터 air에 각 시도(prov)별 ‘PM10’의 최솟값, 최댓값, 평균을 구하는 코드</h4>"
   ]
  },
  {
   "cell_type": "code",
   "execution_count": 20,
   "id": "cfb36525-d550-44a8-a4fe-cec8079cb7aa",
   "metadata": {
    "tags": []
   },
   "outputs": [
    {
     "data": {
      "text/html": [
       "<table class=\"dataframe\">\n",
       "<caption>A tibble: 17 × 4</caption>\n",
       "<thead>\n",
       "\t<tr><th scope=col>prov</th><th scope=col>PM10.min</th><th scope=col>PM10.max</th><th scope=col>PM10.mean</th></tr>\n",
       "\t<tr><th scope=col>&lt;chr&gt;</th><th scope=col>&lt;dbl&gt;</th><th scope=col>&lt;dbl&gt;</th><th scope=col>&lt;dbl&gt;</th></tr>\n",
       "</thead>\n",
       "<tbody>\n",
       "\t<tr><td>강원</td><td>1</td><td> 850</td><td>31.25831</td></tr>\n",
       "\t<tr><td>경기</td><td>0</td><td>1207</td><td>42.20110</td></tr>\n",
       "\t<tr><td>경남</td><td>0</td><td>1485</td><td>30.05276</td></tr>\n",
       "\t<tr><td>경북</td><td>1</td><td>1317</td><td>33.04698</td></tr>\n",
       "\t<tr><td>광주</td><td>1</td><td>1227</td><td>34.60551</td></tr>\n",
       "\t<tr><td>대구</td><td>1</td><td>1348</td><td>35.05693</td></tr>\n",
       "\t<tr><td>대전</td><td>1</td><td> 936</td><td>36.35791</td></tr>\n",
       "\t<tr><td>부산</td><td>2</td><td>1050</td><td>31.99251</td></tr>\n",
       "\t<tr><td>서울</td><td>3</td><td>1024</td><td>39.50859</td></tr>\n",
       "\t<tr><td>세종</td><td>4</td><td> 890</td><td>38.97608</td></tr>\n",
       "\t<tr><td>울산</td><td>1</td><td> 934</td><td>29.83060</td></tr>\n",
       "\t<tr><td>인천</td><td>0</td><td>1038</td><td>39.90761</td></tr>\n",
       "\t<tr><td>전남</td><td>1</td><td>1569</td><td>32.55029</td></tr>\n",
       "\t<tr><td>전북</td><td>1</td><td>1247</td><td>38.08923</td></tr>\n",
       "\t<tr><td>제주</td><td>0</td><td>1985</td><td>32.28415</td></tr>\n",
       "\t<tr><td>충남</td><td>0</td><td>1274</td><td>41.85735</td></tr>\n",
       "\t<tr><td>충북</td><td>0</td><td> 985</td><td>37.65354</td></tr>\n",
       "</tbody>\n",
       "</table>\n"
      ],
      "text/latex": [
       "A tibble: 17 × 4\n",
       "\\begin{tabular}{llll}\n",
       " prov & PM10.min & PM10.max & PM10.mean\\\\\n",
       " <chr> & <dbl> & <dbl> & <dbl>\\\\\n",
       "\\hline\n",
       "\t 강원 & 1 &  850 & 31.25831\\\\\n",
       "\t 경기 & 0 & 1207 & 42.20110\\\\\n",
       "\t 경남 & 0 & 1485 & 30.05276\\\\\n",
       "\t 경북 & 1 & 1317 & 33.04698\\\\\n",
       "\t 광주 & 1 & 1227 & 34.60551\\\\\n",
       "\t 대구 & 1 & 1348 & 35.05693\\\\\n",
       "\t 대전 & 1 &  936 & 36.35791\\\\\n",
       "\t 부산 & 2 & 1050 & 31.99251\\\\\n",
       "\t 서울 & 3 & 1024 & 39.50859\\\\\n",
       "\t 세종 & 4 &  890 & 38.97608\\\\\n",
       "\t 울산 & 1 &  934 & 29.83060\\\\\n",
       "\t 인천 & 0 & 1038 & 39.90761\\\\\n",
       "\t 전남 & 1 & 1569 & 32.55029\\\\\n",
       "\t 전북 & 1 & 1247 & 38.08923\\\\\n",
       "\t 제주 & 0 & 1985 & 32.28415\\\\\n",
       "\t 충남 & 0 & 1274 & 41.85735\\\\\n",
       "\t 충북 & 0 &  985 & 37.65354\\\\\n",
       "\\end{tabular}\n"
      ],
      "text/markdown": [
       "\n",
       "A tibble: 17 × 4\n",
       "\n",
       "| prov &lt;chr&gt; | PM10.min &lt;dbl&gt; | PM10.max &lt;dbl&gt; | PM10.mean &lt;dbl&gt; |\n",
       "|---|---|---|---|\n",
       "| 강원 | 1 |  850 | 31.25831 |\n",
       "| 경기 | 0 | 1207 | 42.20110 |\n",
       "| 경남 | 0 | 1485 | 30.05276 |\n",
       "| 경북 | 1 | 1317 | 33.04698 |\n",
       "| 광주 | 1 | 1227 | 34.60551 |\n",
       "| 대구 | 1 | 1348 | 35.05693 |\n",
       "| 대전 | 1 |  936 | 36.35791 |\n",
       "| 부산 | 2 | 1050 | 31.99251 |\n",
       "| 서울 | 3 | 1024 | 39.50859 |\n",
       "| 세종 | 4 |  890 | 38.97608 |\n",
       "| 울산 | 1 |  934 | 29.83060 |\n",
       "| 인천 | 0 | 1038 | 39.90761 |\n",
       "| 전남 | 1 | 1569 | 32.55029 |\n",
       "| 전북 | 1 | 1247 | 38.08923 |\n",
       "| 제주 | 0 | 1985 | 32.28415 |\n",
       "| 충남 | 0 | 1274 | 41.85735 |\n",
       "| 충북 | 0 |  985 | 37.65354 |\n",
       "\n"
      ],
      "text/plain": [
       "   prov PM10.min PM10.max PM10.mean\n",
       "1  강원 1         850     31.25831 \n",
       "2  경기 0        1207     42.20110 \n",
       "3  경남 0        1485     30.05276 \n",
       "4  경북 1        1317     33.04698 \n",
       "5  광주 1        1227     34.60551 \n",
       "6  대구 1        1348     35.05693 \n",
       "7  대전 1         936     36.35791 \n",
       "8  부산 2        1050     31.99251 \n",
       "9  서울 3        1024     39.50859 \n",
       "10 세종 4         890     38.97608 \n",
       "11 울산 1         934     29.83060 \n",
       "12 인천 0        1038     39.90761 \n",
       "13 전남 1        1569     32.55029 \n",
       "14 전북 1        1247     38.08923 \n",
       "15 제주 0        1985     32.28415 \n",
       "16 충남 0        1274     41.85735 \n",
       "17 충북 0         985     37.65354 "
      ]
     },
     "metadata": {},
     "output_type": "display_data"
    }
   ],
   "source": [
    "summaryBy( PM10 ~ prov, data = air, FUN = c(min, max, mean), na.rm = T )"
   ]
  },
  {
   "cell_type": "markdown",
   "id": "e39dca29-8cf3-4a35-aa64-64da4456094d",
   "metadata": {
    "tags": []
   },
   "source": [
    "<hr>\n",
    "<h4>17. 파이프(%>%)를 이용하여 다음 순서에 따라 데이터프레임 west를 저장하고 head()를\n",
    "출력하는 코드</h4>"
   ]
  },
  {
   "cell_type": "code",
   "execution_count": 21,
   "id": "847cb1ea-4cd9-4a46-a08d-5a9853fc463b",
   "metadata": {
    "tags": []
   },
   "outputs": [
    {
     "data": {
      "text/html": [
       "<table class=\"dataframe\">\n",
       "<caption>A tibble: 6 × 9</caption>\n",
       "<thead>\n",
       "\t<tr><th scope=col>prov</th><th scope=col>city</th><th scope=col>point</th><th scope=col>datatime</th><th scope=col>year</th><th scope=col>month</th><th scope=col>date</th><th scope=col>time</th><th scope=col>PM10</th></tr>\n",
       "\t<tr><th scope=col>&lt;chr&gt;</th><th scope=col>&lt;chr&gt;</th><th scope=col>&lt;chr&gt;</th><th scope=col>&lt;dttm&gt;</th><th scope=col>&lt;chr&gt;</th><th scope=col>&lt;chr&gt;</th><th scope=col>&lt;chr&gt;</th><th scope=col>&lt;chr&gt;</th><th scope=col>&lt;dbl&gt;</th></tr>\n",
       "</thead>\n",
       "<tbody>\n",
       "\t<tr><td>전남</td><td>광양시</td><td>중동</td><td>2021-01-01 01:00:00</td><td>2021</td><td>01</td><td>01</td><td>01</td><td>17</td></tr>\n",
       "\t<tr><td>전남</td><td>광양시</td><td>중동</td><td>2021-01-01 02:00:00</td><td>2021</td><td>01</td><td>01</td><td>02</td><td>17</td></tr>\n",
       "\t<tr><td>전남</td><td>광양시</td><td>중동</td><td>2021-01-01 03:00:00</td><td>2021</td><td>01</td><td>01</td><td>03</td><td>16</td></tr>\n",
       "\t<tr><td>전남</td><td>광양시</td><td>중동</td><td>2021-01-01 04:00:00</td><td>2021</td><td>01</td><td>01</td><td>04</td><td>14</td></tr>\n",
       "\t<tr><td>전남</td><td>광양시</td><td>중동</td><td>2021-01-01 05:00:00</td><td>2021</td><td>01</td><td>01</td><td>05</td><td>16</td></tr>\n",
       "\t<tr><td>전남</td><td>광양시</td><td>중동</td><td>2021-01-01 06:00:00</td><td>2021</td><td>01</td><td>01</td><td>06</td><td>13</td></tr>\n",
       "</tbody>\n",
       "</table>\n"
      ],
      "text/latex": [
       "A tibble: 6 × 9\n",
       "\\begin{tabular}{lllllllll}\n",
       " prov & city & point & datatime & year & month & date & time & PM10\\\\\n",
       " <chr> & <chr> & <chr> & <dttm> & <chr> & <chr> & <chr> & <chr> & <dbl>\\\\\n",
       "\\hline\n",
       "\t 전남 & 광양시 & 중동 & 2021-01-01 01:00:00 & 2021 & 01 & 01 & 01 & 17\\\\\n",
       "\t 전남 & 광양시 & 중동 & 2021-01-01 02:00:00 & 2021 & 01 & 01 & 02 & 17\\\\\n",
       "\t 전남 & 광양시 & 중동 & 2021-01-01 03:00:00 & 2021 & 01 & 01 & 03 & 16\\\\\n",
       "\t 전남 & 광양시 & 중동 & 2021-01-01 04:00:00 & 2021 & 01 & 01 & 04 & 14\\\\\n",
       "\t 전남 & 광양시 & 중동 & 2021-01-01 05:00:00 & 2021 & 01 & 01 & 05 & 16\\\\\n",
       "\t 전남 & 광양시 & 중동 & 2021-01-01 06:00:00 & 2021 & 01 & 01 & 06 & 13\\\\\n",
       "\\end{tabular}\n"
      ],
      "text/markdown": [
       "\n",
       "A tibble: 6 × 9\n",
       "\n",
       "| prov &lt;chr&gt; | city &lt;chr&gt; | point &lt;chr&gt; | datatime &lt;dttm&gt; | year &lt;chr&gt; | month &lt;chr&gt; | date &lt;chr&gt; | time &lt;chr&gt; | PM10 &lt;dbl&gt; |\n",
       "|---|---|---|---|---|---|---|---|---|\n",
       "| 전남 | 광양시 | 중동 | 2021-01-01 01:00:00 | 2021 | 01 | 01 | 01 | 17 |\n",
       "| 전남 | 광양시 | 중동 | 2021-01-01 02:00:00 | 2021 | 01 | 01 | 02 | 17 |\n",
       "| 전남 | 광양시 | 중동 | 2021-01-01 03:00:00 | 2021 | 01 | 01 | 03 | 16 |\n",
       "| 전남 | 광양시 | 중동 | 2021-01-01 04:00:00 | 2021 | 01 | 01 | 04 | 14 |\n",
       "| 전남 | 광양시 | 중동 | 2021-01-01 05:00:00 | 2021 | 01 | 01 | 05 | 16 |\n",
       "| 전남 | 광양시 | 중동 | 2021-01-01 06:00:00 | 2021 | 01 | 01 | 06 | 13 |\n",
       "\n"
      ],
      "text/plain": [
       "  prov city   point datatime            year month date time PM10\n",
       "1 전남 광양시 중동  2021-01-01 01:00:00 2021 01    01   01   17  \n",
       "2 전남 광양시 중동  2021-01-01 02:00:00 2021 01    01   02   17  \n",
       "3 전남 광양시 중동  2021-01-01 03:00:00 2021 01    01   03   16  \n",
       "4 전남 광양시 중동  2021-01-01 04:00:00 2021 01    01   04   14  \n",
       "5 전남 광양시 중동  2021-01-01 05:00:00 2021 01    01   05   16  \n",
       "6 전남 광양시 중동  2021-01-01 06:00:00 2021 01    01   06   13  "
      ]
     },
     "metadata": {},
     "output_type": "display_data"
    }
   ],
   "source": [
    "# a. 시도(prov)가 “전남” 또는 “전북”인 데이터만 추출(filter)\n",
    "west <- air %>% filter(prov==\"전남\" | prov==\"전북\")\n",
    "\n",
    "# b. 시군구(city)가 “시”로 끝나는 데이터만 추출(filter & grepl)\n",
    "west <- west %>% filter(grepl( \"시$\", city))\n",
    "\n",
    "# c. datatime으로부터 year, month, date, time을 분리하여 저장(mutate)\n",
    "west <- west %>% mutate( year = substr(datatime, 1, 4), month = substr(datatime, 6, 7), \n",
    "                date = substr(datatime, 9, 10), time = substr(datatime, 12, 13) ) \n",
    "\n",
    "# d. 변수를 아래와 같이 선택(select)\n",
    "west <- west %>% select(prov, city, point, datatime, year, month, date, time, PM10)\n",
    "\n",
    "head(west)"
   ]
  },
  {
   "cell_type": "markdown",
   "id": "7e3dbf62-b6e4-4dc9-b8a6-58ddd1710f3d",
   "metadata": {
    "tags": []
   },
   "source": [
    "<hr>\n",
    "<h4>18. 시군구(city)의 빈도표를 출력하는 코드</h4>"
   ]
  },
  {
   "cell_type": "code",
   "execution_count": 22,
   "id": "ab76ad2e-af3f-480d-8556-a0378287fb62",
   "metadata": {
    "tags": []
   },
   "outputs": [
    {
     "data": {
      "text/plain": [
       "\n",
       "광양시 군산시 김제시 나주시 남원시 목포시 순천시 여수시 익산시 전주시 정읍시 \n",
       " 35016  57696   8760   8760   9864  17520  43800  70080  48072  52560  24960 "
      ]
     },
     "metadata": {},
     "output_type": "display_data"
    }
   ],
   "source": [
    "table(west$city)"
   ]
  },
  {
   "cell_type": "markdown",
   "id": "cdbff14c-7f49-40ea-b6d1-2b8b077fd1f4",
   "metadata": {
    "tags": []
   },
   "source": [
    "<hr>\n",
    "<h4>19.패키지 dplyr의 grp, summarise를 이용하여 PM10의 유효데이터의 수(n), 평균, 최\n",
    "솟값, 최댓값, 중앙값을 아래와 같이 출력하는 코드(데이터에 NA가 포함되어 있음에 주\n",
    "의)</h4>"
   ]
  },
  {
   "cell_type": "code",
   "execution_count": 23,
   "id": "44501ad6-3802-4708-a7c8-556e5e6845c0",
   "metadata": {
    "tags": []
   },
   "outputs": [
    {
     "data": {
      "text/html": [
       "<table class=\"dataframe\">\n",
       "<caption>A tibble: 11 × 6</caption>\n",
       "<thead>\n",
       "\t<tr><th scope=col>city</th><th scope=col>n</th><th scope=col>평균</th><th scope=col>최솟값</th><th scope=col>최댓값</th><th scope=col>중앙값</th></tr>\n",
       "\t<tr><th scope=col>&lt;chr&gt;</th><th scope=col>&lt;int&gt;</th><th scope=col>&lt;dbl&gt;</th><th scope=col>&lt;dbl&gt;</th><th scope=col>&lt;dbl&gt;</th><th scope=col>&lt;dbl&gt;</th></tr>\n",
       "</thead>\n",
       "<tbody>\n",
       "\t<tr><td>광양시</td><td>29008</td><td>32.67643</td><td>1</td><td>1175</td><td>24</td></tr>\n",
       "\t<tr><td>군산시</td><td>55251</td><td>42.16754</td><td>1</td><td>1194</td><td>31</td></tr>\n",
       "\t<tr><td>김제시</td><td> 8533</td><td>43.19559</td><td>1</td><td> 985</td><td>32</td></tr>\n",
       "\t<tr><td>나주시</td><td> 8379</td><td>28.24728</td><td>1</td><td> 861</td><td>20</td></tr>\n",
       "\t<tr><td>남원시</td><td> 8785</td><td>31.26227</td><td>1</td><td> 985</td><td>24</td></tr>\n",
       "\t<tr><td>목포시</td><td>16738</td><td>37.21394</td><td>2</td><td>1569</td><td>26</td></tr>\n",
       "\t<tr><td>순천시</td><td>41875</td><td>28.88898</td><td>1</td><td>1305</td><td>22</td></tr>\n",
       "\t<tr><td>여수시</td><td>67525</td><td>28.64221</td><td>1</td><td>1182</td><td>21</td></tr>\n",
       "\t<tr><td>익산시</td><td>39098</td><td>39.97371</td><td>1</td><td> 935</td><td>30</td></tr>\n",
       "\t<tr><td>전주시</td><td>50236</td><td>40.28396</td><td>1</td><td> 985</td><td>29</td></tr>\n",
       "\t<tr><td>정읍시</td><td>22093</td><td>34.23374</td><td>1</td><td> 943</td><td>26</td></tr>\n",
       "</tbody>\n",
       "</table>\n"
      ],
      "text/latex": [
       "A tibble: 11 × 6\n",
       "\\begin{tabular}{llllll}\n",
       " city & n & 평균 & 최솟값 & 최댓값 & 중앙값\\\\\n",
       " <chr> & <int> & <dbl> & <dbl> & <dbl> & <dbl>\\\\\n",
       "\\hline\n",
       "\t 광양시 & 29008 & 32.67643 & 1 & 1175 & 24\\\\\n",
       "\t 군산시 & 55251 & 42.16754 & 1 & 1194 & 31\\\\\n",
       "\t 김제시 &  8533 & 43.19559 & 1 &  985 & 32\\\\\n",
       "\t 나주시 &  8379 & 28.24728 & 1 &  861 & 20\\\\\n",
       "\t 남원시 &  8785 & 31.26227 & 1 &  985 & 24\\\\\n",
       "\t 목포시 & 16738 & 37.21394 & 2 & 1569 & 26\\\\\n",
       "\t 순천시 & 41875 & 28.88898 & 1 & 1305 & 22\\\\\n",
       "\t 여수시 & 67525 & 28.64221 & 1 & 1182 & 21\\\\\n",
       "\t 익산시 & 39098 & 39.97371 & 1 &  935 & 30\\\\\n",
       "\t 전주시 & 50236 & 40.28396 & 1 &  985 & 29\\\\\n",
       "\t 정읍시 & 22093 & 34.23374 & 1 &  943 & 26\\\\\n",
       "\\end{tabular}\n"
      ],
      "text/markdown": [
       "\n",
       "A tibble: 11 × 6\n",
       "\n",
       "| city &lt;chr&gt; | n &lt;int&gt; | 평균 &lt;dbl&gt; | 최솟값 &lt;dbl&gt; | 최댓값 &lt;dbl&gt; | 중앙값 &lt;dbl&gt; |\n",
       "|---|---|---|---|---|---|\n",
       "| 광양시 | 29008 | 32.67643 | 1 | 1175 | 24 |\n",
       "| 군산시 | 55251 | 42.16754 | 1 | 1194 | 31 |\n",
       "| 김제시 |  8533 | 43.19559 | 1 |  985 | 32 |\n",
       "| 나주시 |  8379 | 28.24728 | 1 |  861 | 20 |\n",
       "| 남원시 |  8785 | 31.26227 | 1 |  985 | 24 |\n",
       "| 목포시 | 16738 | 37.21394 | 2 | 1569 | 26 |\n",
       "| 순천시 | 41875 | 28.88898 | 1 | 1305 | 22 |\n",
       "| 여수시 | 67525 | 28.64221 | 1 | 1182 | 21 |\n",
       "| 익산시 | 39098 | 39.97371 | 1 |  935 | 30 |\n",
       "| 전주시 | 50236 | 40.28396 | 1 |  985 | 29 |\n",
       "| 정읍시 | 22093 | 34.23374 | 1 |  943 | 26 |\n",
       "\n"
      ],
      "text/plain": [
       "   city   n     평균     최솟값 최댓값 중앙값\n",
       "1  광양시 29008 32.67643 1      1175   24    \n",
       "2  군산시 55251 42.16754 1      1194   31    \n",
       "3  김제시  8533 43.19559 1       985   32    \n",
       "4  나주시  8379 28.24728 1       861   20    \n",
       "5  남원시  8785 31.26227 1       985   24    \n",
       "6  목포시 16738 37.21394 2      1569   26    \n",
       "7  순천시 41875 28.88898 1      1305   22    \n",
       "8  여수시 67525 28.64221 1      1182   21    \n",
       "9  익산시 39098 39.97371 1       935   30    \n",
       "10 전주시 50236 40.28396 1       985   29    \n",
       "11 정읍시 22093 34.23374 1       943   26    "
      ]
     },
     "metadata": {},
     "output_type": "display_data"
    }
   ],
   "source": [
    "grp <- group_by(west, city)\n",
    "\n",
    "summarise(grp, n = sum(!is.na(PM10)), 평균 = mean(PM10, na.rm = T), 최솟값 = min(PM10, na.rm = T), 최댓값 = max(PM10, na.rm = T), 중앙값 = median(PM10, na.rm = T))"
   ]
  },
  {
   "cell_type": "markdown",
   "id": "f40eb56c-c14c-4a48-838b-f7cfc8b2758d",
   "metadata": {
    "tags": []
   },
   "source": [
    "<hr>\n",
    "<h4>20. 데이터 west로부터 city가 여수시, month가 3월인 데이터만 추출하여 yeosu에 저장\n",
    "하고 head와 tail을 출력하는 코드 </h4>"
   ]
  },
  {
   "cell_type": "code",
   "execution_count": 24,
   "id": "b4637be1-3a3c-4a9d-b179-76ab2ad1dbe8",
   "metadata": {
    "tags": []
   },
   "outputs": [
    {
     "data": {
      "text/html": [
       "<table class=\"dataframe\">\n",
       "<caption>A tibble: 6 × 7</caption>\n",
       "<thead>\n",
       "\t<tr><th scope=col>prov</th><th scope=col>city</th><th scope=col>point</th><th scope=col>month</th><th scope=col>date</th><th scope=col>time</th><th scope=col>PM10</th></tr>\n",
       "\t<tr><th scope=col>&lt;chr&gt;</th><th scope=col>&lt;chr&gt;</th><th scope=col>&lt;chr&gt;</th><th scope=col>&lt;chr&gt;</th><th scope=col>&lt;chr&gt;</th><th scope=col>&lt;chr&gt;</th><th scope=col>&lt;dbl&gt;</th></tr>\n",
       "</thead>\n",
       "<tbody>\n",
       "\t<tr><td>전남</td><td>여수시</td><td>서강동</td><td>03</td><td>01</td><td>  </td><td>21</td></tr>\n",
       "\t<tr><td>전남</td><td>여수시</td><td>서강동</td><td>03</td><td>01</td><td>01</td><td>21</td></tr>\n",
       "\t<tr><td>전남</td><td>여수시</td><td>서강동</td><td>03</td><td>01</td><td>02</td><td>20</td></tr>\n",
       "\t<tr><td>전남</td><td>여수시</td><td>서강동</td><td>03</td><td>01</td><td>03</td><td>19</td></tr>\n",
       "\t<tr><td>전남</td><td>여수시</td><td>서강동</td><td>03</td><td>01</td><td>04</td><td>18</td></tr>\n",
       "\t<tr><td>전남</td><td>여수시</td><td>서강동</td><td>03</td><td>01</td><td>05</td><td>19</td></tr>\n",
       "</tbody>\n",
       "</table>\n"
      ],
      "text/latex": [
       "A tibble: 6 × 7\n",
       "\\begin{tabular}{lllllll}\n",
       " prov & city & point & month & date & time & PM10\\\\\n",
       " <chr> & <chr> & <chr> & <chr> & <chr> & <chr> & <dbl>\\\\\n",
       "\\hline\n",
       "\t 전남 & 여수시 & 서강동 & 03 & 01 &    & 21\\\\\n",
       "\t 전남 & 여수시 & 서강동 & 03 & 01 & 01 & 21\\\\\n",
       "\t 전남 & 여수시 & 서강동 & 03 & 01 & 02 & 20\\\\\n",
       "\t 전남 & 여수시 & 서강동 & 03 & 01 & 03 & 19\\\\\n",
       "\t 전남 & 여수시 & 서강동 & 03 & 01 & 04 & 18\\\\\n",
       "\t 전남 & 여수시 & 서강동 & 03 & 01 & 05 & 19\\\\\n",
       "\\end{tabular}\n"
      ],
      "text/markdown": [
       "\n",
       "A tibble: 6 × 7\n",
       "\n",
       "| prov &lt;chr&gt; | city &lt;chr&gt; | point &lt;chr&gt; | month &lt;chr&gt; | date &lt;chr&gt; | time &lt;chr&gt; | PM10 &lt;dbl&gt; |\n",
       "|---|---|---|---|---|---|---|\n",
       "| 전남 | 여수시 | 서강동 | 03 | 01 | <!----> | 21 |\n",
       "| 전남 | 여수시 | 서강동 | 03 | 01 | 01 | 21 |\n",
       "| 전남 | 여수시 | 서강동 | 03 | 01 | 02 | 20 |\n",
       "| 전남 | 여수시 | 서강동 | 03 | 01 | 03 | 19 |\n",
       "| 전남 | 여수시 | 서강동 | 03 | 01 | 04 | 18 |\n",
       "| 전남 | 여수시 | 서강동 | 03 | 01 | 05 | 19 |\n",
       "\n"
      ],
      "text/plain": [
       "  prov city   point  month date time PM10\n",
       "1 전남 여수시 서강동 03    01        21  \n",
       "2 전남 여수시 서강동 03    01   01   21  \n",
       "3 전남 여수시 서강동 03    01   02   20  \n",
       "4 전남 여수시 서강동 03    01   03   19  \n",
       "5 전남 여수시 서강동 03    01   04   18  \n",
       "6 전남 여수시 서강동 03    01   05   19  "
      ]
     },
     "metadata": {},
     "output_type": "display_data"
    },
    {
     "data": {
      "text/html": [
       "<table class=\"dataframe\">\n",
       "<caption>A tibble: 6 × 7</caption>\n",
       "<thead>\n",
       "\t<tr><th scope=col>prov</th><th scope=col>city</th><th scope=col>point</th><th scope=col>month</th><th scope=col>date</th><th scope=col>time</th><th scope=col>PM10</th></tr>\n",
       "\t<tr><th scope=col>&lt;chr&gt;</th><th scope=col>&lt;chr&gt;</th><th scope=col>&lt;chr&gt;</th><th scope=col>&lt;chr&gt;</th><th scope=col>&lt;chr&gt;</th><th scope=col>&lt;chr&gt;</th><th scope=col>&lt;dbl&gt;</th></tr>\n",
       "</thead>\n",
       "<tbody>\n",
       "\t<tr><td>전남</td><td>여수시</td><td>삼일동</td><td>03</td><td>31</td><td>18</td><td>67</td></tr>\n",
       "\t<tr><td>전남</td><td>여수시</td><td>삼일동</td><td>03</td><td>31</td><td>19</td><td>65</td></tr>\n",
       "\t<tr><td>전남</td><td>여수시</td><td>삼일동</td><td>03</td><td>31</td><td>20</td><td>62</td></tr>\n",
       "\t<tr><td>전남</td><td>여수시</td><td>삼일동</td><td>03</td><td>31</td><td>21</td><td>60</td></tr>\n",
       "\t<tr><td>전남</td><td>여수시</td><td>삼일동</td><td>03</td><td>31</td><td>22</td><td>58</td></tr>\n",
       "\t<tr><td>전남</td><td>여수시</td><td>삼일동</td><td>03</td><td>31</td><td>23</td><td>56</td></tr>\n",
       "</tbody>\n",
       "</table>\n"
      ],
      "text/latex": [
       "A tibble: 6 × 7\n",
       "\\begin{tabular}{lllllll}\n",
       " prov & city & point & month & date & time & PM10\\\\\n",
       " <chr> & <chr> & <chr> & <chr> & <chr> & <chr> & <dbl>\\\\\n",
       "\\hline\n",
       "\t 전남 & 여수시 & 삼일동 & 03 & 31 & 18 & 67\\\\\n",
       "\t 전남 & 여수시 & 삼일동 & 03 & 31 & 19 & 65\\\\\n",
       "\t 전남 & 여수시 & 삼일동 & 03 & 31 & 20 & 62\\\\\n",
       "\t 전남 & 여수시 & 삼일동 & 03 & 31 & 21 & 60\\\\\n",
       "\t 전남 & 여수시 & 삼일동 & 03 & 31 & 22 & 58\\\\\n",
       "\t 전남 & 여수시 & 삼일동 & 03 & 31 & 23 & 56\\\\\n",
       "\\end{tabular}\n"
      ],
      "text/markdown": [
       "\n",
       "A tibble: 6 × 7\n",
       "\n",
       "| prov &lt;chr&gt; | city &lt;chr&gt; | point &lt;chr&gt; | month &lt;chr&gt; | date &lt;chr&gt; | time &lt;chr&gt; | PM10 &lt;dbl&gt; |\n",
       "|---|---|---|---|---|---|---|\n",
       "| 전남 | 여수시 | 삼일동 | 03 | 31 | 18 | 67 |\n",
       "| 전남 | 여수시 | 삼일동 | 03 | 31 | 19 | 65 |\n",
       "| 전남 | 여수시 | 삼일동 | 03 | 31 | 20 | 62 |\n",
       "| 전남 | 여수시 | 삼일동 | 03 | 31 | 21 | 60 |\n",
       "| 전남 | 여수시 | 삼일동 | 03 | 31 | 22 | 58 |\n",
       "| 전남 | 여수시 | 삼일동 | 03 | 31 | 23 | 56 |\n",
       "\n"
      ],
      "text/plain": [
       "  prov city   point  month date time PM10\n",
       "1 전남 여수시 삼일동 03    31   18   67  \n",
       "2 전남 여수시 삼일동 03    31   19   65  \n",
       "3 전남 여수시 삼일동 03    31   20   62  \n",
       "4 전남 여수시 삼일동 03    31   21   60  \n",
       "5 전남 여수시 삼일동 03    31   22   58  \n",
       "6 전남 여수시 삼일동 03    31   23   56  "
      ]
     },
     "metadata": {},
     "output_type": "display_data"
    }
   ],
   "source": [
    "# a. city가 ‘여수시’인 데이터만 추출(filter)\n",
    "yeosu <- filter(west, city == \"여수시\")\n",
    "\n",
    "# b. month가 ‘03’인 데이터만 추출(filter)\n",
    "yeosu <- filter(yeosu, month == \"03\")\n",
    "\n",
    "# c. 변수를 아래와 같이 선택(select)\n",
    "yeosu <- yeosu %>% select(prov, city, point, month, date, time, PM10)\n",
    "\n",
    "head(yeosu)\n",
    "tail(yeosu)"
   ]
  },
  {
   "cell_type": "markdown",
   "id": "206e62d3-b612-4bd6-ba21-07ea4d9e1414",
   "metadata": {
    "tags": []
   },
   "source": [
    "<hr>\n",
    "<h4>21.데이터 yeosu에 대하여 일(date)별 PM10의 평균, 최솟값, 최댓값, 중앙값을 다음과\n",
    "같이 출력하는 코드</h4>"
   ]
  },
  {
   "cell_type": "code",
   "execution_count": 25,
   "id": "3feb817a-6280-48fa-bed6-3ab2fd9d060c",
   "metadata": {
    "tags": []
   },
   "outputs": [
    {
     "data": {
      "text/html": [
       "<table class=\"dataframe\">\n",
       "<caption>A tibble: 31 × 5</caption>\n",
       "<thead>\n",
       "\t<tr><th scope=col>date</th><th scope=col>평균</th><th scope=col>최솟값</th><th scope=col>최댓값</th><th scope=col>중앙값</th></tr>\n",
       "\t<tr><th scope=col>&lt;chr&gt;</th><th scope=col>&lt;dbl&gt;</th><th scope=col>&lt;dbl&gt;</th><th scope=col>&lt;dbl&gt;</th><th scope=col>&lt;dbl&gt;</th></tr>\n",
       "</thead>\n",
       "<tbody>\n",
       "\t<tr><td>01</td><td> 15.230366</td><td>  2</td><td>  33</td><td> 17.0</td></tr>\n",
       "\t<tr><td>02</td><td>  8.281609</td><td>  1</td><td>  20</td><td>  8.0</td></tr>\n",
       "\t<tr><td>03</td><td> 15.544444</td><td>  7</td><td>  29</td><td> 15.0</td></tr>\n",
       "\t<tr><td>04</td><td> 20.254144</td><td> 10</td><td>  66</td><td> 18.0</td></tr>\n",
       "\t<tr><td>05</td><td> 17.867089</td><td>  7</td><td>  39</td><td> 17.0</td></tr>\n",
       "\t<tr><td>06</td><td> 32.775641</td><td>  9</td><td>  80</td><td> 32.0</td></tr>\n",
       "\t<tr><td>07</td><td> 20.895833</td><td>  7</td><td>  42</td><td> 20.0</td></tr>\n",
       "\t<tr><td>08</td><td> 26.913907</td><td> 12</td><td>  51</td><td> 26.0</td></tr>\n",
       "\t<tr><td>09</td><td> 24.835294</td><td> 13</td><td>  55</td><td> 25.0</td></tr>\n",
       "\t<tr><td>10</td><td> 45.391534</td><td> 24</td><td>  68</td><td> 45.0</td></tr>\n",
       "\t<tr><td>11</td><td> 31.673684</td><td> 20</td><td>  54</td><td> 31.0</td></tr>\n",
       "\t<tr><td>12</td><td> 13.983957</td><td>  4</td><td>  43</td><td> 11.0</td></tr>\n",
       "\t<tr><td>13</td><td> 19.576720</td><td>  4</td><td>  33</td><td> 22.0</td></tr>\n",
       "\t<tr><td>14</td><td> 30.246073</td><td> 18</td><td>  50</td><td> 30.0</td></tr>\n",
       "\t<tr><td>15</td><td> 39.161458</td><td> 21</td><td>  92</td><td> 38.0</td></tr>\n",
       "\t<tr><td>16</td><td> 55.686486</td><td>  4</td><td> 274</td><td> 34.0</td></tr>\n",
       "\t<tr><td>17</td><td> 65.994505</td><td> 42</td><td>  89</td><td> 66.0</td></tr>\n",
       "\t<tr><td>18</td><td> 64.853107</td><td> 42</td><td>  94</td><td> 65.0</td></tr>\n",
       "\t<tr><td>19</td><td> 38.395833</td><td> 27</td><td>  55</td><td> 38.0</td></tr>\n",
       "\t<tr><td>20</td><td> 19.640625</td><td>  4</td><td>  43</td><td> 18.0</td></tr>\n",
       "\t<tr><td>21</td><td> 31.457895</td><td>  5</td><td>  58</td><td> 30.0</td></tr>\n",
       "\t<tr><td>22</td><td> 30.099448</td><td> 18</td><td>  52</td><td> 30.0</td></tr>\n",
       "\t<tr><td>23</td><td> 66.511364</td><td> 45</td><td>  94</td><td> 65.0</td></tr>\n",
       "\t<tr><td>24</td><td> 50.703125</td><td> 30</td><td>  80</td><td> 50.0</td></tr>\n",
       "\t<tr><td>25</td><td> 34.895833</td><td> 20</td><td>  65</td><td> 36.0</td></tr>\n",
       "\t<tr><td>26</td><td> 59.645833</td><td> 30</td><td> 103</td><td> 56.0</td></tr>\n",
       "\t<tr><td>27</td><td> 34.209424</td><td>  2</td><td>  69</td><td> 38.0</td></tr>\n",
       "\t<tr><td>28</td><td> 16.043716</td><td>  2</td><td>  54</td><td> 14.0</td></tr>\n",
       "\t<tr><td>29</td><td>468.552083</td><td> 36</td><td>1182</td><td>411.0</td></tr>\n",
       "\t<tr><td>30</td><td>158.640625</td><td>105</td><td> 446</td><td>146.0</td></tr>\n",
       "\t<tr><td>31</td><td> 89.083333</td><td> 51</td><td> 138</td><td> 91.5</td></tr>\n",
       "</tbody>\n",
       "</table>\n"
      ],
      "text/latex": [
       "A tibble: 31 × 5\n",
       "\\begin{tabular}{lllll}\n",
       " date & 평균 & 최솟값 & 최댓값 & 중앙값\\\\\n",
       " <chr> & <dbl> & <dbl> & <dbl> & <dbl>\\\\\n",
       "\\hline\n",
       "\t 01 &  15.230366 &   2 &   33 &  17.0\\\\\n",
       "\t 02 &   8.281609 &   1 &   20 &   8.0\\\\\n",
       "\t 03 &  15.544444 &   7 &   29 &  15.0\\\\\n",
       "\t 04 &  20.254144 &  10 &   66 &  18.0\\\\\n",
       "\t 05 &  17.867089 &   7 &   39 &  17.0\\\\\n",
       "\t 06 &  32.775641 &   9 &   80 &  32.0\\\\\n",
       "\t 07 &  20.895833 &   7 &   42 &  20.0\\\\\n",
       "\t 08 &  26.913907 &  12 &   51 &  26.0\\\\\n",
       "\t 09 &  24.835294 &  13 &   55 &  25.0\\\\\n",
       "\t 10 &  45.391534 &  24 &   68 &  45.0\\\\\n",
       "\t 11 &  31.673684 &  20 &   54 &  31.0\\\\\n",
       "\t 12 &  13.983957 &   4 &   43 &  11.0\\\\\n",
       "\t 13 &  19.576720 &   4 &   33 &  22.0\\\\\n",
       "\t 14 &  30.246073 &  18 &   50 &  30.0\\\\\n",
       "\t 15 &  39.161458 &  21 &   92 &  38.0\\\\\n",
       "\t 16 &  55.686486 &   4 &  274 &  34.0\\\\\n",
       "\t 17 &  65.994505 &  42 &   89 &  66.0\\\\\n",
       "\t 18 &  64.853107 &  42 &   94 &  65.0\\\\\n",
       "\t 19 &  38.395833 &  27 &   55 &  38.0\\\\\n",
       "\t 20 &  19.640625 &   4 &   43 &  18.0\\\\\n",
       "\t 21 &  31.457895 &   5 &   58 &  30.0\\\\\n",
       "\t 22 &  30.099448 &  18 &   52 &  30.0\\\\\n",
       "\t 23 &  66.511364 &  45 &   94 &  65.0\\\\\n",
       "\t 24 &  50.703125 &  30 &   80 &  50.0\\\\\n",
       "\t 25 &  34.895833 &  20 &   65 &  36.0\\\\\n",
       "\t 26 &  59.645833 &  30 &  103 &  56.0\\\\\n",
       "\t 27 &  34.209424 &   2 &   69 &  38.0\\\\\n",
       "\t 28 &  16.043716 &   2 &   54 &  14.0\\\\\n",
       "\t 29 & 468.552083 &  36 & 1182 & 411.0\\\\\n",
       "\t 30 & 158.640625 & 105 &  446 & 146.0\\\\\n",
       "\t 31 &  89.083333 &  51 &  138 &  91.5\\\\\n",
       "\\end{tabular}\n"
      ],
      "text/markdown": [
       "\n",
       "A tibble: 31 × 5\n",
       "\n",
       "| date &lt;chr&gt; | 평균 &lt;dbl&gt; | 최솟값 &lt;dbl&gt; | 최댓값 &lt;dbl&gt; | 중앙값 &lt;dbl&gt; |\n",
       "|---|---|---|---|---|\n",
       "| 01 |  15.230366 |   2 |   33 |  17.0 |\n",
       "| 02 |   8.281609 |   1 |   20 |   8.0 |\n",
       "| 03 |  15.544444 |   7 |   29 |  15.0 |\n",
       "| 04 |  20.254144 |  10 |   66 |  18.0 |\n",
       "| 05 |  17.867089 |   7 |   39 |  17.0 |\n",
       "| 06 |  32.775641 |   9 |   80 |  32.0 |\n",
       "| 07 |  20.895833 |   7 |   42 |  20.0 |\n",
       "| 08 |  26.913907 |  12 |   51 |  26.0 |\n",
       "| 09 |  24.835294 |  13 |   55 |  25.0 |\n",
       "| 10 |  45.391534 |  24 |   68 |  45.0 |\n",
       "| 11 |  31.673684 |  20 |   54 |  31.0 |\n",
       "| 12 |  13.983957 |   4 |   43 |  11.0 |\n",
       "| 13 |  19.576720 |   4 |   33 |  22.0 |\n",
       "| 14 |  30.246073 |  18 |   50 |  30.0 |\n",
       "| 15 |  39.161458 |  21 |   92 |  38.0 |\n",
       "| 16 |  55.686486 |   4 |  274 |  34.0 |\n",
       "| 17 |  65.994505 |  42 |   89 |  66.0 |\n",
       "| 18 |  64.853107 |  42 |   94 |  65.0 |\n",
       "| 19 |  38.395833 |  27 |   55 |  38.0 |\n",
       "| 20 |  19.640625 |   4 |   43 |  18.0 |\n",
       "| 21 |  31.457895 |   5 |   58 |  30.0 |\n",
       "| 22 |  30.099448 |  18 |   52 |  30.0 |\n",
       "| 23 |  66.511364 |  45 |   94 |  65.0 |\n",
       "| 24 |  50.703125 |  30 |   80 |  50.0 |\n",
       "| 25 |  34.895833 |  20 |   65 |  36.0 |\n",
       "| 26 |  59.645833 |  30 |  103 |  56.0 |\n",
       "| 27 |  34.209424 |   2 |   69 |  38.0 |\n",
       "| 28 |  16.043716 |   2 |   54 |  14.0 |\n",
       "| 29 | 468.552083 |  36 | 1182 | 411.0 |\n",
       "| 30 | 158.640625 | 105 |  446 | 146.0 |\n",
       "| 31 |  89.083333 |  51 |  138 |  91.5 |\n",
       "\n"
      ],
      "text/plain": [
       "   date 평균       최솟값 최댓값 중앙값\n",
       "1  01    15.230366   2      33    17.0 \n",
       "2  02     8.281609   1      20     8.0 \n",
       "3  03    15.544444   7      29    15.0 \n",
       "4  04    20.254144  10      66    18.0 \n",
       "5  05    17.867089   7      39    17.0 \n",
       "6  06    32.775641   9      80    32.0 \n",
       "7  07    20.895833   7      42    20.0 \n",
       "8  08    26.913907  12      51    26.0 \n",
       "9  09    24.835294  13      55    25.0 \n",
       "10 10    45.391534  24      68    45.0 \n",
       "11 11    31.673684  20      54    31.0 \n",
       "12 12    13.983957   4      43    11.0 \n",
       "13 13    19.576720   4      33    22.0 \n",
       "14 14    30.246073  18      50    30.0 \n",
       "15 15    39.161458  21      92    38.0 \n",
       "16 16    55.686486   4     274    34.0 \n",
       "17 17    65.994505  42      89    66.0 \n",
       "18 18    64.853107  42      94    65.0 \n",
       "19 19    38.395833  27      55    38.0 \n",
       "20 20    19.640625   4      43    18.0 \n",
       "21 21    31.457895   5      58    30.0 \n",
       "22 22    30.099448  18      52    30.0 \n",
       "23 23    66.511364  45      94    65.0 \n",
       "24 24    50.703125  30      80    50.0 \n",
       "25 25    34.895833  20      65    36.0 \n",
       "26 26    59.645833  30     103    56.0 \n",
       "27 27    34.209424   2      69    38.0 \n",
       "28 28    16.043716   2      54    14.0 \n",
       "29 29   468.552083  36    1182   411.0 \n",
       "30 30   158.640625 105     446   146.0 \n",
       "31 31    89.083333  51     138    91.5 "
      ]
     },
     "metadata": {},
     "output_type": "display_data"
    }
   ],
   "source": [
    "summarise(group_by(yeosu, date), 평균 = mean(PM10, na.rm = T), 최솟값 = min(PM10, na.rm = T), 최댓값 = max(PM10, na.rm = T), 중앙값 = median(PM10, na.rm = T))"
   ]
  },
  {
   "cell_type": "markdown",
   "id": "d54165f2-9230-4d4a-a7f5-60830729ee41",
   "metadata": {
    "tags": []
   },
   "source": [
    "<hr>\n",
    "<h4>22. 데이터 yeosu에 대하여 일 x 측정소(point)별 PM10의 평균에 대한 피벗테이블을 출\n",
    "력하는 코드</h4>"
   ]
  },
  {
   "cell_type": "code",
   "execution_count": 26,
   "id": "1ff7cf0e-6a2a-4663-9a9a-ba5f206a96fb",
   "metadata": {
    "tags": []
   },
   "outputs": [
    {
     "data": {
      "text/plain": [
       "       덕충동     문수동     삼일동     서강동     여천동     월내동     율촌면     화양면     Total   \n",
       "01      16.00   12.83   12.67   14.75   17.67   17.57   17.83   12.62   15.23  \n",
       "02       9.70    7.17    7.58    7.33    7.88    9.73    9.46    7.88    8.28  \n",
       "03      12.96   14.00   14.50   13.73   16.36   16.71   21.33   14.18   15.54  \n",
       "04      15.83   17.05   18.67   15.96   20.92   29.59   23.88   20.82   20.25  \n",
       "05      16.42   17.46   18.48   14.25   19.96   22.90   16.04   13.25   17.87  \n",
       "06      29.67   29.33   32.13     NaN   30.52   39.62   32.96   36.71   32.78  \n",
       "07      19.88   17.83   20.88     NaN   22.21   22.42   22.17     NaN   20.90  \n",
       "08      25.38   23.33   24.00   23.86   27.12   29.88   32.67     NaN   26.91  \n",
       "09      23.75   22.25   22.75   23.50   25.67   28.58   26.54   34.50   24.84  \n",
       "10      44.50   39.75   44.17   45.25   45.88   49.12   52.08   41.95   45.39  \n",
       "11      28.42   27.25   30.92   30.33   31.23   35.83   39.12   30.25   31.67  \n",
       "12      11.67   12.04   13.96   11.21   16.42   15.33   17.96   13.79   13.98  \n",
       "13      19.46   19.96   20.25   21.18   19.21   21.33   17.96   17.42   19.58  \n",
       "14      33.46   27.25   28.43   28.83   29.08   36.33   31.29   27.21   30.25  \n",
       "15      42.46   33.29   35.75   37.71   37.96   51.92   42.42   31.79   39.16  \n",
       "16      53.43   49.33   50.79   60.23   54.35   58.29   54.67   64.96   55.69  \n",
       "17      61.57   61.50   58.83   73.17   64.50   67.88   70.62   68.04   65.99  \n",
       "18      53.33   61.42   60.25   69.21   62.92   72.88   67.96   63.67   64.85  \n",
       "19      38.00   34.79   34.42   40.00   37.17   41.92   43.29   37.58   38.40  \n",
       "20      21.12   18.50   20.38   19.50   18.38   19.38   21.21   18.67   19.64  \n",
       "21      33.21   27.96   32.68   30.50   31.38   32.00   32.46   31.58   31.46  \n",
       "22      26.77   26.83   29.33   30.00   30.38   30.83   32.62   32.50   30.10  \n",
       "23      60.12   56.58   68.42   65.46   66.04   77.92   65.08   68.21   66.51  \n",
       "24      53.21   42.62   48.83   56.71   49.54   52.96   52.00   49.75   50.70  \n",
       "25      34.50   30.58   34.79   35.79   35.50   41.21   35.71   31.08   34.90  \n",
       "26      59.33   54.12   55.42   59.75   55.54   67.12   69.50   56.38   59.65  \n",
       "27      33.42   29.08   29.92   32.38   35.00   43.22   39.58   31.46   34.21  \n",
       "28      16.68   14.30   13.86   14.64   15.88   19.95   16.54   16.50   16.04  \n",
       "29     461.17  431.54  460.29  507.96  451.50  477.04  444.67  514.25  468.55  \n",
       "30     137.00  139.71  150.67  169.33  156.62  150.33  173.46  192.00  158.64  \n",
       "31      86.62   81.75   80.58   96.54   89.88   97.50   93.79   86.00   89.08  \n",
       "Total   51.11   47.95   51.13   58.85   53.27   58.32   55.38   60.62   54.43  "
      ]
     },
     "metadata": {},
     "output_type": "display_data"
    }
   ],
   "source": [
    "result4 <-qpvt(yeosu, \"date\", \"point\", \"mean(PM10, na.rm = T)\", formats = \"%.2f\")\n",
    "\n",
    "result4"
   ]
  }
 ],
 "metadata": {
  "kernelspec": {
   "display_name": "R",
   "language": "R",
   "name": "ir"
  },
  "language_info": {
   "codemirror_mode": "r",
   "file_extension": ".r",
   "mimetype": "text/x-r-source",
   "name": "R",
   "pygments_lexer": "r",
   "version": "4.3.1"
  }
 },
 "nbformat": 4,
 "nbformat_minor": 5
}
